{
 "cells": [
  {
   "cell_type": "code",
   "execution_count": 1,
   "id": "059397ee",
   "metadata": {},
   "outputs": [],
   "source": [
    "class A:\n",
    "    def f(self):\n",
    "        print(\"f()\")"
   ]
  },
  {
   "cell_type": "code",
   "execution_count": 3,
   "id": "6afbc2d4",
   "metadata": {},
   "outputs": [
    {
     "data": {
      "text/plain": [
       "function"
      ]
     },
     "execution_count": 3,
     "metadata": {},
     "output_type": "execute_result"
    }
   ],
   "source": [
    "type(A.f)"
   ]
  },
  {
   "cell_type": "code",
   "execution_count": 5,
   "id": "33a99d47",
   "metadata": {},
   "outputs": [
    {
     "data": {
      "text/plain": [
       "type"
      ]
     },
     "execution_count": 5,
     "metadata": {},
     "output_type": "execute_result"
    }
   ],
   "source": [
    "type(type(A.f))"
   ]
  },
  {
   "cell_type": "code",
   "execution_count": 6,
   "id": "109d3eb2",
   "metadata": {},
   "outputs": [],
   "source": [
    "a = A()"
   ]
  },
  {
   "cell_type": "code",
   "execution_count": 8,
   "id": "4f7ec21d",
   "metadata": {},
   "outputs": [
    {
     "data": {
      "text/plain": [
       "False"
      ]
     },
     "execution_count": 8,
     "metadata": {},
     "output_type": "execute_result"
    }
   ],
   "source": [
    "A.f is a.f"
   ]
  },
  {
   "cell_type": "code",
   "execution_count": 11,
   "id": "17475c09",
   "metadata": {},
   "outputs": [
    {
     "data": {
      "text/plain": [
       "<__main__.A at 0x118bb0d60>"
      ]
     },
     "execution_count": 11,
     "metadata": {},
     "output_type": "execute_result"
    }
   ],
   "source": [
    "a.f.__self__"
   ]
  },
  {
   "cell_type": "code",
   "execution_count": 15,
   "id": "21e9a5f8",
   "metadata": {},
   "outputs": [],
   "source": [
    "a.f = 123"
   ]
  },
  {
   "cell_type": "code",
   "execution_count": 17,
   "id": "6f451ecc",
   "metadata": {},
   "outputs": [
    {
     "data": {
      "text/plain": [
       "{'f': 123}"
      ]
     },
     "execution_count": 17,
     "metadata": {},
     "output_type": "execute_result"
    }
   ],
   "source": [
    "vars(a)"
   ]
  },
  {
   "cell_type": "code",
   "execution_count": 18,
   "id": "27dd7c99",
   "metadata": {},
   "outputs": [],
   "source": [
    "del a.f"
   ]
  },
  {
   "cell_type": "code",
   "execution_count": 19,
   "id": "0fa5257a",
   "metadata": {},
   "outputs": [
    {
     "name": "stdout",
     "output_type": "stream",
     "text": [
      "f()\n"
     ]
    }
   ],
   "source": [
    "a.f()"
   ]
  },
  {
   "cell_type": "code",
   "execution_count": 20,
   "id": "8f99bd74",
   "metadata": {},
   "outputs": [],
   "source": [
    "class A:\n",
    "    @staticmethod\n",
    "    def hello():\n",
    "        print(\"hello\")"
   ]
  },
  {
   "cell_type": "code",
   "execution_count": 21,
   "id": "e46fd3a8",
   "metadata": {},
   "outputs": [],
   "source": [
    "a = A()"
   ]
  },
  {
   "cell_type": "code",
   "execution_count": 22,
   "id": "e9f08986",
   "metadata": {},
   "outputs": [
    {
     "name": "stdout",
     "output_type": "stream",
     "text": [
      "hello\n"
     ]
    }
   ],
   "source": [
    "a.hello()"
   ]
  },
  {
   "cell_type": "code",
   "execution_count": 23,
   "id": "5e6f9d48",
   "metadata": {},
   "outputs": [
    {
     "name": "stdout",
     "output_type": "stream",
     "text": [
      "hello\n"
     ]
    }
   ],
   "source": [
    "A.hello()"
   ]
  },
  {
   "cell_type": "code",
   "execution_count": 24,
   "id": "3891f08a",
   "metadata": {},
   "outputs": [
    {
     "data": {
      "text/plain": [
       "True"
      ]
     },
     "execution_count": 24,
     "metadata": {},
     "output_type": "execute_result"
    }
   ],
   "source": [
    "a.hello is A.hello"
   ]
  },
  {
   "cell_type": "code",
   "execution_count": 25,
   "id": "6ae583cb",
   "metadata": {},
   "outputs": [],
   "source": [
    "class B(A):\n",
    "    @staticmethod\n",
    "    def hello():\n",
    "        print(\">>>>\")"
   ]
  },
  {
   "cell_type": "code",
   "execution_count": 27,
   "id": "f14d8369",
   "metadata": {},
   "outputs": [
    {
     "name": "stdout",
     "output_type": "stream",
     "text": [
      "hello\n"
     ]
    }
   ],
   "source": [
    "b = B()\n",
    "A.hello()"
   ]
  },
  {
   "cell_type": "code",
   "execution_count": 28,
   "id": "7c3e7f1e",
   "metadata": {},
   "outputs": [],
   "source": [
    "import importlib"
   ]
  },
  {
   "cell_type": "code",
   "execution_count": 32,
   "id": "134e0cdc",
   "metadata": {},
   "outputs": [],
   "source": [
    "a = getattr(m, 'A')"
   ]
  },
  {
   "cell_type": "code",
   "execution_count": 31,
   "id": "425c7b87",
   "metadata": {},
   "outputs": [],
   "source": [
    "import __main__ as m"
   ]
  },
  {
   "cell_type": "code",
   "execution_count": 34,
   "id": "6f32f85f",
   "metadata": {},
   "outputs": [
    {
     "name": "stdout",
     "output_type": "stream",
     "text": [
      "B\n"
     ]
    }
   ],
   "source": [
    "class S(getattr(m,input())):\n",
    "    pass"
   ]
  },
  {
   "cell_type": "code",
   "execution_count": 36,
   "id": "c1ba77f8",
   "metadata": {},
   "outputs": [
    {
     "data": {
      "text/plain": [
       "(__main__.B,)"
      ]
     },
     "execution_count": 36,
     "metadata": {},
     "output_type": "execute_result"
    }
   ],
   "source": [
    "S.__bases__"
   ]
  },
  {
   "cell_type": "code",
   "execution_count": 49,
   "id": "1862c99a",
   "metadata": {},
   "outputs": [],
   "source": [
    "class A:\n",
    "    def f(self):\n",
    "        print(\"A::f()\")"
   ]
  },
  {
   "cell_type": "code",
   "execution_count": 50,
   "id": "f2016a6a",
   "metadata": {},
   "outputs": [],
   "source": [
    "class B(A):\n",
    "    def f(self):\n",
    "        print(\"B::f()\")"
   ]
  },
  {
   "cell_type": "code",
   "execution_count": 55,
   "id": "c6d5585e",
   "metadata": {},
   "outputs": [],
   "source": [
    "class C(B):\n",
    "    def f(self):\n",
    "        print(\"C::f()\")"
   ]
  },
  {
   "cell_type": "code",
   "execution_count": 56,
   "id": "238afc2f",
   "metadata": {},
   "outputs": [],
   "source": [
    "class D(C):\n",
    "    def f(self):\n",
    "        print(\"D::f()\")"
   ]
  },
  {
   "cell_type": "code",
   "execution_count": 59,
   "id": "d0d829ea",
   "metadata": {},
   "outputs": [
    {
     "data": {
      "text/plain": [
       "[__main__.D, __main__.C, __main__.B, __main__.A, object]"
      ]
     },
     "execution_count": 59,
     "metadata": {},
     "output_type": "execute_result"
    }
   ],
   "source": [
    "d = D()\n",
    "d.__class__.mro()"
   ]
  },
  {
   "cell_type": "code",
   "execution_count": 63,
   "id": "82ca124a",
   "metadata": {},
   "outputs": [
    {
     "data": {
      "text/plain": [
       "<super: __main__.D, None>"
      ]
     },
     "execution_count": 63,
     "metadata": {},
     "output_type": "execute_result"
    }
   ],
   "source": [
    "super(D)"
   ]
  },
  {
   "cell_type": "code",
   "execution_count": 64,
   "id": "d41f30f5",
   "metadata": {},
   "outputs": [
    {
     "data": {
      "text/plain": [
       "False"
      ]
     },
     "execution_count": 64,
     "metadata": {},
     "output_type": "execute_result"
    }
   ],
   "source": [
    "1 == 2 == 3"
   ]
  },
  {
   "cell_type": "code",
   "execution_count": 66,
   "id": "130cbf38",
   "metadata": {},
   "outputs": [
    {
     "data": {
      "text/plain": [
       "True"
      ]
     },
     "execution_count": 66,
     "metadata": {},
     "output_type": "execute_result"
    }
   ],
   "source": [
    "1  != 2 != 1"
   ]
  },
  {
   "cell_type": "code",
   "execution_count": 72,
   "id": "5e92bc5b",
   "metadata": {},
   "outputs": [
    {
     "data": {
      "text/plain": [
       "True"
      ]
     },
     "execution_count": 72,
     "metadata": {},
     "output_type": "execute_result"
    }
   ],
   "source": [
    "1 in (1,2,3) < (3,)"
   ]
  },
  {
   "cell_type": "code",
   "execution_count": 73,
   "id": "7699104f",
   "metadata": {},
   "outputs": [
    {
     "data": {
      "text/plain": [
       "True"
      ]
     },
     "execution_count": 73,
     "metadata": {},
     "output_type": "execute_result"
    }
   ],
   "source": [
    "(2,3,4) < (4,5)"
   ]
  },
  {
   "cell_type": "code",
   "execution_count": 74,
   "id": "9c982e5f",
   "metadata": {},
   "outputs": [
    {
     "data": {
      "text/plain": [
       "True"
      ]
     },
     "execution_count": 74,
     "metadata": {},
     "output_type": "execute_result"
    }
   ],
   "source": [
    "[2,3]  < [4]"
   ]
  },
  {
   "cell_type": "code",
   "execution_count": 75,
   "id": "295c9309",
   "metadata": {},
   "outputs": [
    {
     "data": {
      "text/plain": [
       "True"
      ]
     },
     "execution_count": 75,
     "metadata": {},
     "output_type": "execute_result"
    }
   ],
   "source": [
    "1 < 2 >  -4"
   ]
  },
  {
   "cell_type": "code",
   "execution_count": 76,
   "id": "e6554cef",
   "metadata": {},
   "outputs": [
    {
     "data": {
      "text/plain": [
       "True"
      ]
     },
     "execution_count": 76,
     "metadata": {},
     "output_type": "execute_result"
    }
   ],
   "source": [
    "True == 1 != False"
   ]
  },
  {
   "cell_type": "code",
   "execution_count": 77,
   "id": "03ab3123",
   "metadata": {},
   "outputs": [],
   "source": [
    "it = enumerate(range(4))"
   ]
  },
  {
   "cell_type": "code",
   "execution_count": 78,
   "id": "d0607378",
   "metadata": {},
   "outputs": [
    {
     "data": {
      "text/plain": [
       "(0, 0)"
      ]
     },
     "execution_count": 78,
     "metadata": {},
     "output_type": "execute_result"
    }
   ],
   "source": [
    "next(it)"
   ]
  },
  {
   "cell_type": "code",
   "execution_count": 84,
   "id": "938c7fd3",
   "metadata": {},
   "outputs": [],
   "source": [
    "def f(*xs,**kwargs):\n",
    "    print(type(xs),xs)\n",
    "    print(type(kwargs),kwargs)"
   ]
  },
  {
   "cell_type": "code",
   "execution_count": 86,
   "id": "d0f52d64",
   "metadata": {},
   "outputs": [
    {
     "name": "stdout",
     "output_type": "stream",
     "text": [
      "<class 'tuple'> (1, 2, 3)\n",
      "<class 'dict'> {'s': 2}\n"
     ]
    }
   ],
   "source": [
    "f(1,2,3,s=2)"
   ]
  },
  {
   "cell_type": "code",
   "execution_count": null,
   "id": "b549f1cd",
   "metadata": {},
   "outputs": [],
   "source": []
  }
 ],
 "metadata": {
  "kernelspec": {
   "display_name": "Python 3 (ipykernel)",
   "language": "python",
   "name": "python3"
  },
  "language_info": {
   "codemirror_mode": {
    "name": "ipython",
    "version": 3
   },
   "file_extension": ".py",
   "mimetype": "text/x-python",
   "name": "python",
   "nbconvert_exporter": "python",
   "pygments_lexer": "ipython3",
   "version": "3.10.6"
  }
 },
 "nbformat": 4,
 "nbformat_minor": 5
}
