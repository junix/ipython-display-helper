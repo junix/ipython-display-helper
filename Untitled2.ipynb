{
 "cells": [
  {
   "cell_type": "code",
   "execution_count": 1,
   "id": "cdb91c51",
   "metadata": {},
   "outputs": [],
   "source": [
    "o = object()"
   ]
  },
  {
   "cell_type": "code",
   "execution_count": 3,
   "id": "d3b47286",
   "metadata": {},
   "outputs": [
    {
     "data": {
      "text/plain": [
       "True"
      ]
     },
     "execution_count": 3,
     "metadata": {},
     "output_type": "execute_result"
    }
   ],
   "source": [
    "o is o"
   ]
  },
  {
   "cell_type": "code",
   "execution_count": 4,
   "id": "14351ea4",
   "metadata": {},
   "outputs": [],
   "source": [
    "import itertools"
   ]
  },
  {
   "cell_type": "code",
   "execution_count": 5,
   "id": "82b374f0",
   "metadata": {},
   "outputs": [
    {
     "name": "stdout",
     "output_type": "stream",
     "text": [
      "[1, 2, 3, 4, 5, 6]\n"
     ]
    }
   ],
   "source": [
    "a_list = [[1, 2], [3, 4], [5, 6]]\n",
    "print(list(itertools.chain.from_iterable(a_list)))"
   ]
  },
  {
   "cell_type": "code",
   "execution_count": 9,
   "id": "b8f99e04",
   "metadata": {},
   "outputs": [
    {
     "data": {
      "text/plain": [
       "[1, 2, 3, 4, 5, 6]"
      ]
     },
     "execution_count": 9,
     "metadata": {},
     "output_type": "execute_result"
    }
   ],
   "source": [
    "list(itertools.chain.from_iterable(a_list))"
   ]
  },
  {
   "cell_type": "code",
   "execution_count": 23,
   "id": "2e47b665",
   "metadata": {},
   "outputs": [],
   "source": [
    "class A:\n",
    "    y = 1\n",
    "    def __init__(self, x):\n",
    "        self.x = x"
   ]
  },
  {
   "cell_type": "code",
   "execution_count": 24,
   "id": "8d928769",
   "metadata": {},
   "outputs": [],
   "source": [
    "a = A(9)"
   ]
  },
  {
   "cell_type": "code",
   "execution_count": 27,
   "id": "d7f18256",
   "metadata": {},
   "outputs": [
    {
     "data": {
      "text/plain": [
       "1"
      ]
     },
     "execution_count": 27,
     "metadata": {},
     "output_type": "execute_result"
    }
   ],
   "source": [
    "a.y"
   ]
  },
  {
   "cell_type": "code",
   "execution_count": 28,
   "id": "bcc73f8f",
   "metadata": {},
   "outputs": [],
   "source": [
    "A.y = 100"
   ]
  },
  {
   "cell_type": "code",
   "execution_count": 29,
   "id": "7b5c340b",
   "metadata": {},
   "outputs": [
    {
     "data": {
      "text/plain": [
       "100"
      ]
     },
     "execution_count": 29,
     "metadata": {},
     "output_type": "execute_result"
    }
   ],
   "source": [
    "a.y"
   ]
  },
  {
   "cell_type": "code",
   "execution_count": 35,
   "id": "1bdbf4e8",
   "metadata": {},
   "outputs": [],
   "source": [
    "class Person:\n",
    "    name = \"wanglijun\"\n",
    "    def greet(self):\n",
    "        print(\"hello\", self.name)"
   ]
  },
  {
   "cell_type": "code",
   "execution_count": 37,
   "id": "43d42cc0",
   "metadata": {},
   "outputs": [
    {
     "name": "stdout",
     "output_type": "stream",
     "text": [
      "hello emp1 \n",
      "hello emp2\n"
     ]
    }
   ],
   "source": [
    "class Employee (Person) :\n",
    "    def __init__(self, name, idnumber):\n",
    "        self.name = name\n",
    "        self. idnumber = idnumber\n",
    "\n",
    "e1 = Employee('emp1 ' , 1)\n",
    "e2 = Employee(\"emp2\", 2)\n",
    "e1.greet()\n",
    "e2.greet()"
   ]
  },
  {
   "cell_type": "code",
   "execution_count": 47,
   "id": "0a9fc026",
   "metadata": {},
   "outputs": [],
   "source": [
    "f = Employee.greet"
   ]
  },
  {
   "cell_type": "code",
   "execution_count": 48,
   "id": "1f5a9b66",
   "metadata": {},
   "outputs": [],
   "source": [
    "f.__doc__ = \"asdf\""
   ]
  },
  {
   "cell_type": "code",
   "execution_count": 53,
   "id": "191feab7",
   "metadata": {},
   "outputs": [
    {
     "name": "stdout",
     "output_type": "stream",
     "text": [
      "hello emp2\n"
     ]
    }
   ],
   "source": [
    "Employee.greet(e2)"
   ]
  },
  {
   "cell_type": "code",
   "execution_count": 54,
   "id": "1f5ab1c0",
   "metadata": {},
   "outputs": [
    {
     "data": {
      "text/plain": [
       "type"
      ]
     },
     "execution_count": 54,
     "metadata": {},
     "output_type": "execute_result"
    }
   ],
   "source": [
    "type(int)"
   ]
  },
  {
   "cell_type": "code",
   "execution_count": 55,
   "id": "26e0b6f2",
   "metadata": {},
   "outputs": [
    {
     "data": {
      "text/plain": [
       "['__abs__',\n",
       " '__add__',\n",
       " '__and__',\n",
       " '__bool__',\n",
       " '__ceil__',\n",
       " '__class__',\n",
       " '__delattr__',\n",
       " '__dir__',\n",
       " '__divmod__',\n",
       " '__doc__',\n",
       " '__eq__',\n",
       " '__float__',\n",
       " '__floor__',\n",
       " '__floordiv__',\n",
       " '__format__',\n",
       " '__ge__',\n",
       " '__getattribute__',\n",
       " '__getnewargs__',\n",
       " '__gt__',\n",
       " '__hash__',\n",
       " '__index__',\n",
       " '__init__',\n",
       " '__init_subclass__',\n",
       " '__int__',\n",
       " '__invert__',\n",
       " '__le__',\n",
       " '__lshift__',\n",
       " '__lt__',\n",
       " '__mod__',\n",
       " '__mul__',\n",
       " '__ne__',\n",
       " '__neg__',\n",
       " '__new__',\n",
       " '__or__',\n",
       " '__pos__',\n",
       " '__pow__',\n",
       " '__radd__',\n",
       " '__rand__',\n",
       " '__rdivmod__',\n",
       " '__reduce__',\n",
       " '__reduce_ex__',\n",
       " '__repr__',\n",
       " '__rfloordiv__',\n",
       " '__rlshift__',\n",
       " '__rmod__',\n",
       " '__rmul__',\n",
       " '__ror__',\n",
       " '__round__',\n",
       " '__rpow__',\n",
       " '__rrshift__',\n",
       " '__rshift__',\n",
       " '__rsub__',\n",
       " '__rtruediv__',\n",
       " '__rxor__',\n",
       " '__setattr__',\n",
       " '__sizeof__',\n",
       " '__str__',\n",
       " '__sub__',\n",
       " '__subclasshook__',\n",
       " '__truediv__',\n",
       " '__trunc__',\n",
       " '__xor__',\n",
       " 'as_integer_ratio',\n",
       " 'bit_count',\n",
       " 'bit_length',\n",
       " 'conjugate',\n",
       " 'denominator',\n",
       " 'from_bytes',\n",
       " 'imag',\n",
       " 'numerator',\n",
       " 'real',\n",
       " 'to_bytes']"
      ]
     },
     "execution_count": 55,
     "metadata": {},
     "output_type": "execute_result"
    }
   ],
   "source": [
    "dir(int)"
   ]
  },
  {
   "cell_type": "code",
   "execution_count": 62,
   "id": "595086d1",
   "metadata": {},
   "outputs": [
    {
     "data": {
      "text/plain": [
       "b'\\x00\\x00\\x04\\xd2'"
      ]
     },
     "execution_count": 62,
     "metadata": {},
     "output_type": "execute_result"
    }
   ],
   "source": [
    "o.to_bytes(4,'big')"
   ]
  },
  {
   "cell_type": "code",
   "execution_count": 63,
   "id": "a216d272",
   "metadata": {},
   "outputs": [
    {
     "data": {
      "text/plain": [
       "123"
      ]
     },
     "execution_count": 63,
     "metadata": {},
     "output_type": "execute_result"
    }
   ],
   "source": [
    "int(b'123')"
   ]
  },
  {
   "cell_type": "code",
   "execution_count": 64,
   "id": "587c274c",
   "metadata": {},
   "outputs": [
    {
     "data": {
      "text/plain": [
       "[int, object]"
      ]
     },
     "execution_count": 64,
     "metadata": {},
     "output_type": "execute_result"
    }
   ],
   "source": [
    "int.mro()"
   ]
  },
  {
   "cell_type": "code",
   "execution_count": 66,
   "id": "38066cfa",
   "metadata": {},
   "outputs": [],
   "source": [
    "f = lambda a,b,**kwargs:print(kwargs)"
   ]
  },
  {
   "cell_type": "code",
   "execution_count": 69,
   "id": "c0a7e0aa",
   "metadata": {},
   "outputs": [
    {
     "name": "stdout",
     "output_type": "stream",
     "text": [
      "{'x': 3, 'y': 4}\n"
     ]
    }
   ],
   "source": [
    "f(1,2,x=3,y=4)"
   ]
  },
  {
   "cell_type": "code",
   "execution_count": null,
   "id": "2a691e09",
   "metadata": {},
   "outputs": [],
   "source": [
    "Â"
   ]
  }
 ],
 "metadata": {
  "kernelspec": {
   "display_name": "Python 3 (ipykernel)",
   "language": "python",
   "name": "python3"
  },
  "language_info": {
   "codemirror_mode": {
    "name": "ipython",
    "version": 3
   },
   "file_extension": ".py",
   "mimetype": "text/x-python",
   "name": "python",
   "nbconvert_exporter": "python",
   "pygments_lexer": "ipython3",
   "version": "3.8.15"
  },
  "toc": {
   "nav_menu": {},
   "number_sections": true,
   "sideBar": true,
   "skip_h1_title": false,
   "title_cell": "Table of Contents",
   "title_sidebar": "Contents",
   "toc_cell": false,
   "toc_position": {},
   "toc_section_display": true,
   "toc_window_display": false
  }
 },
 "nbformat": 4,
 "nbformat_minor": 5
}
