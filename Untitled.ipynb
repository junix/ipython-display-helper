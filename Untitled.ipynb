{
 "cells": [
  {
   "cell_type": "code",
   "execution_count": 41,
   "id": "b6cb3776",
   "metadata": {},
   "outputs": [],
   "source": [
    "xs = [1,2,3,4]"
   ]
  },
  {
   "cell_type": "code",
   "execution_count": 42,
   "id": "ae94baf5",
   "metadata": {},
   "outputs": [],
   "source": [
    "*a,b = xs"
   ]
  },
  {
   "cell_type": "code",
   "execution_count": 43,
   "id": "f019ae71",
   "metadata": {
    "scrolled": false
   },
   "outputs": [
    {
     "data": {
      "text/plain": [
       "[1, 2, 3]"
      ]
     },
     "execution_count": 43,
     "metadata": {},
     "output_type": "execute_result"
    }
   ],
   "source": [
    "a"
   ]
  },
  {
   "cell_type": "code",
   "execution_count": 52,
   "id": "a93ca978",
   "metadata": {
    "scrolled": true
   },
   "outputs": [
    {
     "data": {
      "text/plain": [
       "4"
      ]
     },
     "execution_count": 52,
     "metadata": {},
     "output_type": "execute_result"
    }
   ],
   "source": [
    "b"
   ]
  },
  {
   "cell_type": "code",
   "execution_count": 46,
   "id": "f57f8e37",
   "metadata": {
    "scrolled": false
   },
   "outputs": [
    {
     "name": "stdout",
     "output_type": "stream",
     "text": [
      "hello\n"
     ]
    }
   ],
   "source": [
    "print(\"hello\")"
   ]
  },
  {
   "cell_type": "code",
   "execution_count": 47,
   "id": "1eb991bb",
   "metadata": {},
   "outputs": [],
   "source": [
    "def hello(*args):\n",
    "    print(args)"
   ]
  },
  {
   "cell_type": "code",
   "execution_count": 48,
   "id": "5b986324",
   "metadata": {},
   "outputs": [
    {
     "name": "stdout",
     "output_type": "stream",
     "text": [
      "(1, 2, 3, 1, 2, 3, 4)\n"
     ]
    }
   ],
   "source": [
    "hello(*a,*xs)"
   ]
  },
  {
   "cell_type": "code",
   "execution_count": 49,
   "id": "96a97b64",
   "metadata": {},
   "outputs": [],
   "source": [
    "ys = *a,*xs"
   ]
  },
  {
   "cell_type": "code",
   "execution_count": 54,
   "id": "63f7d72a",
   "metadata": {},
   "outputs": [],
   "source": [
    "xs = (1,2,(2,3,5))"
   ]
  },
  {
   "cell_type": "code",
   "execution_count": 55,
   "id": "0dca809c",
   "metadata": {},
   "outputs": [],
   "source": [
    "*_,(*_,v) = xs"
   ]
  },
  {
   "cell_type": "code",
   "execution_count": 56,
   "id": "bd32e86c",
   "metadata": {},
   "outputs": [
    {
     "data": {
      "text/plain": [
       "[2, 3]"
      ]
     },
     "execution_count": 56,
     "metadata": {},
     "output_type": "execute_result"
    }
   ],
   "source": [
    "_"
   ]
  },
  {
   "cell_type": "code",
   "execution_count": 57,
   "id": "36fd1715",
   "metadata": {},
   "outputs": [
    {
     "data": {
      "text/plain": [
       "5"
      ]
     },
     "execution_count": 57,
     "metadata": {},
     "output_type": "execute_result"
    }
   ],
   "source": [
    "v"
   ]
  },
  {
   "cell_type": "code",
   "execution_count": 58,
   "id": "cdc66b4a",
   "metadata": {},
   "outputs": [],
   "source": [
    "from collections import deque"
   ]
  },
  {
   "cell_type": "code",
   "execution_count": 60,
   "id": "5504a662",
   "metadata": {},
   "outputs": [],
   "source": [
    "q = deque(maxlen=2)"
   ]
  },
  {
   "cell_type": "code",
   "execution_count": 61,
   "id": "c93af7a8",
   "metadata": {},
   "outputs": [],
   "source": [
    "q.append(1)"
   ]
  },
  {
   "cell_type": "code",
   "execution_count": 64,
   "id": "43dbddd3",
   "metadata": {},
   "outputs": [],
   "source": [
    "q.append(3)"
   ]
  },
  {
   "cell_type": "code",
   "execution_count": 65,
   "id": "49efcaa6",
   "metadata": {},
   "outputs": [
    {
     "data": {
      "text/plain": [
       "deque([2, 3])"
      ]
     },
     "execution_count": 65,
     "metadata": {},
     "output_type": "execute_result"
    }
   ],
   "source": [
    "q"
   ]
  },
  {
   "cell_type": "code",
   "execution_count": 66,
   "id": "5174378a",
   "metadata": {},
   "outputs": [
    {
     "name": "stdout",
     "output_type": "stream",
     "text": [
      "[42, 37, 23]\n",
      "[-4, 1, 2]\n"
     ]
    }
   ],
   "source": [
    "import heapq\n",
    "nums = [1, 8, 2, 23, 7, -4, 18, 23, 42, 37, 2]\n",
    "print(heapq.nlargest(3, nums)) # Prints [42, 37, 23]\n",
    "print(heapq.nsmallest(3, nums)) # Prints [-4, 1, 2]"
   ]
  },
  {
   "cell_type": "code",
   "execution_count": 67,
   "id": "b2da7186",
   "metadata": {},
   "outputs": [
    {
     "data": {
      "text/plain": [
       "[42, 37, 23, 23, 18, 8]"
      ]
     },
     "execution_count": 67,
     "metadata": {},
     "output_type": "execute_result"
    }
   ],
   "source": [
    "heapq.nlargest(6, nums)"
   ]
  },
  {
   "cell_type": "code",
   "execution_count": 70,
   "id": "c4439f87",
   "metadata": {},
   "outputs": [
    {
     "data": {
      "text/plain": [
       "[0, 1, 2, 3, 4, 5, 6, 7, 8, 9]"
      ]
     },
     "execution_count": 70,
     "metadata": {},
     "output_type": "execute_result"
    }
   ],
   "source": [
    "xs = list(range(10))\n",
    "xs"
   ]
  },
  {
   "cell_type": "code",
   "execution_count": 71,
   "id": "77f5fcdf",
   "metadata": {},
   "outputs": [],
   "source": [
    "xi = slice(2,6)"
   ]
  },
  {
   "cell_type": "code",
   "execution_count": 84,
   "id": "314a98f1",
   "metadata": {},
   "outputs": [
    {
     "data": {
      "text/plain": [
       "False"
      ]
     },
     "execution_count": 84,
     "metadata": {},
     "output_type": "execute_result"
    }
   ],
   "source": [
    "callable(xi)"
   ]
  },
  {
   "cell_type": "code",
   "execution_count": 102,
   "id": "43c39baa",
   "metadata": {},
   "outputs": [
    {
     "data": {
      "text/plain": [
       "[2, 3, 4, 5]"
      ]
     },
     "execution_count": 102,
     "metadata": {},
     "output_type": "execute_result"
    }
   ],
   "source": [
    "xs.__getitem__(xi)"
   ]
  },
  {
   "cell_type": "code",
   "execution_count": 103,
   "id": "8c051d9e",
   "metadata": {},
   "outputs": [],
   "source": [
    "from collections import namedtuple"
   ]
  },
  {
   "cell_type": "code",
   "execution_count": 108,
   "id": "e9aa1326",
   "metadata": {},
   "outputs": [],
   "source": [
    "X = namedtuple('X',[\"a\",\"b\"])"
   ]
  },
  {
   "cell_type": "code",
   "execution_count": 113,
   "id": "ce6d9e4f",
   "metadata": {},
   "outputs": [],
   "source": [
    "o = X(1,2)"
   ]
  },
  {
   "cell_type": "code",
   "execution_count": 114,
   "id": "0281c7d4",
   "metadata": {},
   "outputs": [
    {
     "data": {
      "text/plain": [
       "X(a=23, b=2)"
      ]
     },
     "execution_count": 114,
     "metadata": {},
     "output_type": "execute_result"
    }
   ],
   "source": [
    "o._replace(a=23)"
   ]
  },
  {
   "cell_type": "code",
   "execution_count": 112,
   "id": "9bbce00a",
   "metadata": {},
   "outputs": [
    {
     "data": {
      "text/plain": [
       "2"
      ]
     },
     "execution_count": 112,
     "metadata": {},
     "output_type": "execute_result"
    }
   ],
   "source": [
    "b"
   ]
  },
  {
   "cell_type": "code",
   "execution_count": 122,
   "id": "f38bc0b0",
   "metadata": {},
   "outputs": [
    {
     "data": {
      "text/plain": [
       "{1: 2, 3: 4}"
      ]
     },
     "execution_count": 122,
     "metadata": {},
     "output_type": "execute_result"
    }
   ],
   "source": [
    "{1:2} | {3:4}"
   ]
  },
  {
   "cell_type": "code",
   "execution_count": 123,
   "id": "ac384df2",
   "metadata": {},
   "outputs": [],
   "source": [
    "import sys"
   ]
  },
  {
   "cell_type": "code",
   "execution_count": 127,
   "id": "ccaeba32",
   "metadata": {},
   "outputs": [],
   "source": [
    "from collections import Counter"
   ]
  },
  {
   "cell_type": "code",
   "execution_count": 128,
   "id": "f5c5717b",
   "metadata": {},
   "outputs": [],
   "source": [
    "c = Counter([1,2,3,1])"
   ]
  },
  {
   "cell_type": "code",
   "execution_count": 129,
   "id": "f59df6e6",
   "metadata": {},
   "outputs": [
    {
     "data": {
      "text/plain": [
       "Counter({1: 2, 2: 1, 3: 1})"
      ]
     },
     "execution_count": 129,
     "metadata": {},
     "output_type": "execute_result"
    }
   ],
   "source": [
    "c"
   ]
  },
  {
   "cell_type": "code",
   "execution_count": 130,
   "id": "e86522e8",
   "metadata": {},
   "outputs": [],
   "source": [
    "c.update([3,4,5,1,1,])"
   ]
  },
  {
   "cell_type": "code",
   "execution_count": 136,
   "id": "2eb05651",
   "metadata": {},
   "outputs": [],
   "source": [
    "import operator"
   ]
  },
  {
   "cell_type": "code",
   "execution_count": 132,
   "id": "868dd87d",
   "metadata": {},
   "outputs": [
    {
     "data": {
      "text/plain": [
       "[(1, 4), (3, 2), (2, 1)]"
      ]
     },
     "execution_count": 132,
     "metadata": {},
     "output_type": "execute_result"
    }
   ],
   "source": [
    "c.most_common(3)"
   ]
  },
  {
   "cell_type": "code",
   "execution_count": 133,
   "id": "70757449",
   "metadata": {},
   "outputs": [],
   "source": [
    "class A:\n",
    "    def __init__(self, v):\n",
    "        self.v = v"
   ]
  },
  {
   "cell_type": "code",
   "execution_count": 134,
   "id": "441161c3",
   "metadata": {},
   "outputs": [],
   "source": [
    "xs = [A(1),A(9),A(2),A(6)]"
   ]
  },
  {
   "cell_type": "code",
   "execution_count": 135,
   "id": "3b295816",
   "metadata": {},
   "outputs": [
    {
     "data": {
      "text/plain": [
       "[<__main__.A at 0x1111065c0>,\n",
       " <__main__.A at 0x111107d00>,\n",
       " <__main__.A at 0x111107430>,\n",
       " <__main__.A at 0x111107a30>]"
      ]
     },
     "execution_count": 135,
     "metadata": {},
     "output_type": "execute_result"
    }
   ],
   "source": [
    "xs"
   ]
  },
  {
   "cell_type": "code",
   "execution_count": 141,
   "id": "d661910f",
   "metadata": {},
   "outputs": [],
   "source": [
    "o = max(xs, key=operator.attrgetter('v'))"
   ]
  },
  {
   "cell_type": "code",
   "execution_count": 142,
   "id": "89940624",
   "metadata": {},
   "outputs": [
    {
     "data": {
      "text/plain": [
       "<__main__.A at 0x111107d00>"
      ]
     },
     "execution_count": 142,
     "metadata": {},
     "output_type": "execute_result"
    }
   ],
   "source": [
    "o"
   ]
  },
  {
   "cell_type": "code",
   "execution_count": 143,
   "id": "ac25a510",
   "metadata": {},
   "outputs": [
    {
     "data": {
      "text/plain": [
       "'utf-8'"
      ]
     },
     "execution_count": 143,
     "metadata": {},
     "output_type": "execute_result"
    }
   ],
   "source": [
    "sys.getdefaultencoding()"
   ]
  },
  {
   "cell_type": "code",
   "execution_count": 144,
   "id": "abceb685",
   "metadata": {},
   "outputs": [
    {
     "name": "stdout",
     "output_type": "stream",
     "text": [
      "Untitled.ipynb   Untitled1.ipynb\r\n"
     ]
    }
   ],
   "source": [
    "ls"
   ]
  },
  {
   "cell_type": "code",
   "execution_count": 145,
   "id": "d2b3ab1e",
   "metadata": {},
   "outputs": [
    {
     "ename": "FileExistsError",
     "evalue": "[Errno 17] File exists: 'Untitled1.ipynb'",
     "output_type": "error",
     "traceback": [
      "\u001b[0;31m---------------------------------------------------------------------------\u001b[0m",
      "\u001b[0;31mFileExistsError\u001b[0m                           Traceback (most recent call last)",
      "Input \u001b[0;32mIn [145]\u001b[0m, in \u001b[0;36m<cell line: 1>\u001b[0;34m()\u001b[0m\n\u001b[0;32m----> 1\u001b[0m f \u001b[38;5;241m=\u001b[39m \u001b[38;5;28;43mopen\u001b[39;49m\u001b[43m(\u001b[49m\u001b[38;5;124;43m'\u001b[39;49m\u001b[38;5;124;43mUntitled1.ipynb\u001b[39;49m\u001b[38;5;124;43m'\u001b[39;49m\u001b[43m,\u001b[49m\u001b[38;5;124;43m'\u001b[39;49m\u001b[38;5;124;43mxt\u001b[39;49m\u001b[38;5;124;43m'\u001b[39;49m\u001b[43m)\u001b[49m\n",
      "\u001b[0;31mFileExistsError\u001b[0m: [Errno 17] File exists: 'Untitled1.ipynb'"
     ]
    }
   ],
   "source": [
    "f = open('Untitled1.ipynb','xt') "
   ]
  },
  {
   "cell_type": "code",
   "execution_count": 146,
   "id": "5c8a1b7e",
   "metadata": {},
   "outputs": [],
   "source": [
    "def create_multipliers():\n",
    "    return [lambda x : i * x for i in range(5)]"
   ]
  },
  {
   "cell_type": "code",
   "execution_count": 149,
   "id": "5bccaa8a",
   "metadata": {},
   "outputs": [
    {
     "name": "stdout",
     "output_type": "stream",
     "text": [
      "8\n",
      "8\n",
      "8\n",
      "8\n",
      "8\n"
     ]
    }
   ],
   "source": [
    "for multiplier in create_multipliers():\n",
    "    print(multiplier(2))"
   ]
  },
  {
   "cell_type": "code",
   "execution_count": 148,
   "id": "c03258bb",
   "metadata": {},
   "outputs": [],
   "source": [
    "def create_multipliers():\n",
    "    multipliers = []\n",
    "\n",
    "    for i in range(5):\n",
    "        def multiplier(x):\n",
    "            return i * x\n",
    "        multipliers.append(multiplier)\n",
    "\n",
    "    return multipliers"
   ]
  },
  {
   "cell_type": "code",
   "execution_count": 150,
   "id": "1f3e450e",
   "metadata": {},
   "outputs": [],
   "source": [
    "xs = (x ** 2 for x in range(10))"
   ]
  },
  {
   "cell_type": "code",
   "execution_count": 154,
   "id": "4d5cd9e9",
   "metadata": {},
   "outputs": [
    {
     "data": {
      "text/plain": [
       "4"
      ]
     },
     "execution_count": 154,
     "metadata": {},
     "output_type": "execute_result"
    }
   ],
   "source": [
    "next(xs)"
   ]
  },
  {
   "cell_type": "code",
   "execution_count": 158,
   "id": "48c6d36f",
   "metadata": {},
   "outputs": [
    {
     "data": {
      "text/plain": [
       "'hellokthis is a goodmy name is '"
      ]
     },
     "execution_count": 158,
     "metadata": {},
     "output_type": "execute_result"
    }
   ],
   "source": [
    "\"hellok\"\\\n",
    "\"this is a good\"\\\n",
    "\"my name is \""
   ]
  },
  {
   "cell_type": "code",
   "execution_count": 159,
   "id": "89e9ed45",
   "metadata": {},
   "outputs": [],
   "source": [
    "import weakref"
   ]
  },
  {
   "cell_type": "code",
   "execution_count": 179,
   "id": "ef954821",
   "metadata": {},
   "outputs": [],
   "source": [
    "class A:\n",
    "    def f():\n",
    "        print(\"A::F\")"
   ]
  },
  {
   "cell_type": "code",
   "execution_count": 161,
   "id": "65dbde2e",
   "metadata": {},
   "outputs": [],
   "source": [
    "a = A()"
   ]
  },
  {
   "cell_type": "code",
   "execution_count": 162,
   "id": "ab424cbe",
   "metadata": {},
   "outputs": [],
   "source": [
    "r = weakref.ref(a)"
   ]
  },
  {
   "cell_type": "code",
   "execution_count": 167,
   "id": "2ba8e965",
   "metadata": {},
   "outputs": [
    {
     "data": {
      "text/plain": [
       "<__main__.A at 0x1114f3e50>"
      ]
     },
     "execution_count": 167,
     "metadata": {},
     "output_type": "execute_result"
    }
   ],
   "source": [
    "r()"
   ]
  },
  {
   "cell_type": "code",
   "execution_count": 168,
   "id": "f1d4df95",
   "metadata": {},
   "outputs": [],
   "source": [
    "a = None"
   ]
  },
  {
   "cell_type": "code",
   "execution_count": 171,
   "id": "ad0ad18b",
   "metadata": {},
   "outputs": [
    {
     "data": {
      "text/plain": [
       "True"
      ]
     },
     "execution_count": 171,
     "metadata": {},
     "output_type": "execute_result"
    }
   ],
   "source": [
    "callable(A)"
   ]
  },
  {
   "cell_type": "code",
   "execution_count": 180,
   "id": "2c10e1b0",
   "metadata": {},
   "outputs": [],
   "source": [
    "class B(A):\n",
    "    def f():\n",
    "        print(\"B::F\")"
   ]
  },
  {
   "cell_type": "code",
   "execution_count": 181,
   "id": "76da87e9",
   "metadata": {},
   "outputs": [],
   "source": [
    "b = B()"
   ]
  },
  {
   "cell_type": "code",
   "execution_count": 186,
   "id": "796a77bf",
   "metadata": {},
   "outputs": [],
   "source": [
    "s = super(B, b)"
   ]
  },
  {
   "cell_type": "code",
   "execution_count": 193,
   "id": "472d190c",
   "metadata": {},
   "outputs": [
    {
     "ename": "TypeError",
     "evalue": "A.f() takes 0 positional arguments but 1 was given",
     "output_type": "error",
     "traceback": [
      "\u001b[0;31m---------------------------------------------------------------------------\u001b[0m",
      "\u001b[0;31mTypeError\u001b[0m                                 Traceback (most recent call last)",
      "Input \u001b[0;32mIn [193]\u001b[0m, in \u001b[0;36m<cell line: 1>\u001b[0;34m()\u001b[0m\n\u001b[0;32m----> 1\u001b[0m \u001b[43ms\u001b[49m\u001b[38;5;241;43m.\u001b[39;49m\u001b[43mf\u001b[49m\u001b[43m(\u001b[49m\u001b[43m)\u001b[49m\n",
      "\u001b[0;31mTypeError\u001b[0m: A.f() takes 0 positional arguments but 1 was given"
     ]
    }
   ],
   "source": [
    "s.f()"
   ]
  },
  {
   "cell_type": "code",
   "execution_count": 194,
   "id": "1a511e53",
   "metadata": {},
   "outputs": [],
   "source": [
    "_cache = weakref.WeakValueDictionary()"
   ]
  },
  {
   "cell_type": "code",
   "execution_count": 206,
   "id": "8c465ab7",
   "metadata": {},
   "outputs": [],
   "source": [
    "a = A()"
   ]
  },
  {
   "cell_type": "code",
   "execution_count": 207,
   "id": "3432a397",
   "metadata": {},
   "outputs": [],
   "source": [
    "_cache['ok'] = a"
   ]
  },
  {
   "cell_type": "code",
   "execution_count": 198,
   "id": "4945e4cb",
   "metadata": {},
   "outputs": [
    {
     "data": {
      "text/plain": [
       "<__main__.A at 0x1069c37c0>"
      ]
     },
     "execution_count": 198,
     "metadata": {},
     "output_type": "execute_result"
    }
   ],
   "source": [
    "_cache['ok']"
   ]
  },
  {
   "cell_type": "code",
   "execution_count": 208,
   "id": "c4a1058a",
   "metadata": {},
   "outputs": [],
   "source": [
    "del a"
   ]
  },
  {
   "cell_type": "code",
   "execution_count": 209,
   "id": "cce3e04b",
   "metadata": {},
   "outputs": [],
   "source": [
    "_cache.get('ok')"
   ]
  },
  {
   "cell_type": "code",
   "execution_count": 202,
   "id": "4abfd0b4",
   "metadata": {},
   "outputs": [],
   "source": [
    "import gc"
   ]
  },
  {
   "cell_type": "code",
   "execution_count": 203,
   "id": "9c51a458",
   "metadata": {},
   "outputs": [
    {
     "data": {
      "text/plain": [
       "2595"
      ]
     },
     "execution_count": 203,
     "metadata": {},
     "output_type": "execute_result"
    }
   ],
   "source": [
    "gc.collect()"
   ]
  },
  {
   "cell_type": "code",
   "execution_count": 205,
   "id": "4b063c5c",
   "metadata": {},
   "outputs": [
    {
     "ename": "NameError",
     "evalue": "name 'a' is not defined",
     "output_type": "error",
     "traceback": [
      "\u001b[0;31m---------------------------------------------------------------------------\u001b[0m",
      "\u001b[0;31mNameError\u001b[0m                                 Traceback (most recent call last)",
      "Input \u001b[0;32mIn [205]\u001b[0m, in \u001b[0;36m<cell line: 1>\u001b[0;34m()\u001b[0m\n\u001b[0;32m----> 1\u001b[0m \u001b[43ma\u001b[49m\n",
      "\u001b[0;31mNameError\u001b[0m: name 'a' is not defined"
     ]
    }
   ],
   "source": []
  },
  {
   "cell_type": "code",
   "execution_count": null,
   "id": "2246489c",
   "metadata": {},
   "outputs": [],
   "source": []
  }
 ],
 "metadata": {
  "kernelspec": {
   "display_name": "Python 3 (ipykernel)",
   "language": "python",
   "name": "python3"
  },
  "language_info": {
   "codemirror_mode": {
    "name": "ipython",
    "version": 3
   },
   "file_extension": ".py",
   "mimetype": "text/x-python",
   "name": "python",
   "nbconvert_exporter": "python",
   "pygments_lexer": "ipython3",
   "version": "3.10.4"
  },
  "toc": {
   "nav_menu": {},
   "number_sections": true,
   "sideBar": true,
   "skip_h1_title": false,
   "title_cell": "Table of Contents",
   "title_sidebar": "Contents",
   "toc_cell": false,
   "toc_position": {},
   "toc_section_display": true,
   "toc_window_display": false
  }
 },
 "nbformat": 4,
 "nbformat_minor": 5
}
