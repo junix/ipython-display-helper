{
 "cells": [
  {
   "cell_type": "code",
   "execution_count": 4,
   "id": "5ce45734",
   "metadata": {},
   "outputs": [],
   "source": [
    "class A:\n",
    "    def __init_subclass__(cls,/, name, **kwargs):\n",
    "        super().__init_subclass__(**kwargs)\n",
    "        cls.name = name"
   ]
  },
  {
   "cell_type": "code",
   "execution_count": 5,
   "id": "37d07a3f",
   "metadata": {},
   "outputs": [],
   "source": [
    "class B(A, name=\"wanglijun\"):\n",
    "    pass"
   ]
  },
  {
   "cell_type": "code",
   "execution_count": 6,
   "id": "ed9fd0d9",
   "metadata": {},
   "outputs": [],
   "source": [
    "b = B()"
   ]
  },
  {
   "cell_type": "code",
   "execution_count": 9,
   "id": "af2ef927",
   "metadata": {},
   "outputs": [
    {
     "data": {
      "text/plain": [
       "mappingproxy({'__module__': '__main__', '__doc__': None, 'name': 'wanglijun'})"
      ]
     },
     "execution_count": 9,
     "metadata": {},
     "output_type": "execute_result"
    }
   ],
   "source": [
    "vars(B)"
   ]
  },
  {
   "cell_type": "code",
   "execution_count": 13,
   "id": "6c5f49fa",
   "metadata": {},
   "outputs": [],
   "source": [
    "class X:\n",
    "    pass"
   ]
  },
  {
   "cell_type": "code",
   "execution_count": 15,
   "id": "46c58d04",
   "metadata": {},
   "outputs": [
    {
     "data": {
      "text/plain": [
       "['__class__',\n",
       " '__delattr__',\n",
       " '__dict__',\n",
       " '__dir__',\n",
       " '__doc__',\n",
       " '__eq__',\n",
       " '__format__',\n",
       " '__ge__',\n",
       " '__getattribute__',\n",
       " '__gt__',\n",
       " '__hash__',\n",
       " '__init__',\n",
       " '__init_subclass__',\n",
       " '__le__',\n",
       " '__lt__',\n",
       " '__module__',\n",
       " '__ne__',\n",
       " '__new__',\n",
       " '__reduce__',\n",
       " '__reduce_ex__',\n",
       " '__repr__',\n",
       " '__setattr__',\n",
       " '__sizeof__',\n",
       " '__str__',\n",
       " '__subclasshook__',\n",
       " '__weakref__']"
      ]
     },
     "execution_count": 15,
     "metadata": {},
     "output_type": "execute_result"
    }
   ],
   "source": [
    "dir(X)"
   ]
  },
  {
   "cell_type": "code",
   "execution_count": 16,
   "id": "ec9013a6",
   "metadata": {},
   "outputs": [],
   "source": [
    "x = X()"
   ]
  },
  {
   "cell_type": "code",
   "execution_count": 17,
   "id": "59981a98",
   "metadata": {},
   "outputs": [
    {
     "data": {
      "text/plain": [
       "['__class__',\n",
       " '__delattr__',\n",
       " '__dict__',\n",
       " '__dir__',\n",
       " '__doc__',\n",
       " '__eq__',\n",
       " '__format__',\n",
       " '__ge__',\n",
       " '__getattribute__',\n",
       " '__gt__',\n",
       " '__hash__',\n",
       " '__init__',\n",
       " '__init_subclass__',\n",
       " '__le__',\n",
       " '__lt__',\n",
       " '__module__',\n",
       " '__ne__',\n",
       " '__new__',\n",
       " '__reduce__',\n",
       " '__reduce_ex__',\n",
       " '__repr__',\n",
       " '__setattr__',\n",
       " '__sizeof__',\n",
       " '__str__',\n",
       " '__subclasshook__',\n",
       " '__weakref__']"
      ]
     },
     "execution_count": 17,
     "metadata": {},
     "output_type": "execute_result"
    }
   ],
   "source": [
    "dir(x)"
   ]
  },
  {
   "cell_type": "code",
   "execution_count": 21,
   "id": "e5e3e566",
   "metadata": {},
   "outputs": [
    {
     "data": {
      "text/plain": [
       "32"
      ]
     },
     "execution_count": 21,
     "metadata": {},
     "output_type": "execute_result"
    }
   ],
   "source": [
    "x.__sizeof__()"
   ]
  },
  {
   "cell_type": "code",
   "execution_count": 22,
   "id": "9b238bb5",
   "metadata": {},
   "outputs": [],
   "source": [
    "import contextlib"
   ]
  },
  {
   "cell_type": "code",
   "execution_count": 68,
   "id": "e4713f81",
   "metadata": {},
   "outputs": [],
   "source": [
    "@contextlib.contextmanager\n",
    "def say_hi(name):\n",
    "    print(\">>>\",name)\n",
    "    try:\n",
    "        yield name\n",
    "    except Exception as e:\n",
    "        print(\"**\", e)\n",
    "    finally:\n",
    "        print(\"<<< bye\")"
   ]
  },
  {
   "cell_type": "code",
   "execution_count": 69,
   "id": "964de608",
   "metadata": {},
   "outputs": [
    {
     "name": "stdout",
     "output_type": "stream",
     "text": [
      ">>> ok\n",
      "** division by zero\n",
      "<<< bye\n"
     ]
    }
   ],
   "source": [
    "with say_hi(\"ok\") as o:\n",
    "    1 / 0\n"
   ]
  },
  {
   "cell_type": "code",
   "execution_count": 63,
   "id": "8ae7b216",
   "metadata": {},
   "outputs": [],
   "source": [
    "def g():\n",
    "    try:\n",
    "        print(\"begin\")\n",
    "        yield 1\n",
    "        print(\"after 1\")\n",
    "        yield 2\n",
    "        print(\"after 2\")\n",
    "    except Exception as e:\n",
    "        print(\"recv e:\",e)"
   ]
  },
  {
   "cell_type": "code",
   "execution_count": 64,
   "id": "93e42490",
   "metadata": {},
   "outputs": [],
   "source": [
    "x = g()"
   ]
  },
  {
   "cell_type": "code",
   "execution_count": 65,
   "id": "83827188",
   "metadata": {},
   "outputs": [
    {
     "name": "stdout",
     "output_type": "stream",
     "text": [
      "begin\n"
     ]
    },
    {
     "data": {
      "text/plain": [
       "1"
      ]
     },
     "execution_count": 65,
     "metadata": {},
     "output_type": "execute_result"
    }
   ],
   "source": [
    "x.send(None)"
   ]
  },
  {
   "cell_type": "code",
   "execution_count": 67,
   "id": "8ef0979a",
   "metadata": {},
   "outputs": [
    {
     "name": "stdout",
     "output_type": "stream",
     "text": [
      "begin\n",
      "v 1\n",
      "recv e: fff\n"
     ]
    },
    {
     "ename": "StopIteration",
     "evalue": "",
     "output_type": "error",
     "traceback": [
      "\u001b[0;31m---------------------------------------------------------------------------\u001b[0m",
      "\u001b[0;31mStopIteration\u001b[0m                             Traceback (most recent call last)",
      "Cell \u001b[0;32mIn[67], line 5\u001b[0m\n\u001b[1;32m      3\u001b[0m \u001b[38;5;28mprint\u001b[39m(\u001b[38;5;124m\"\u001b[39m\u001b[38;5;124mv\u001b[39m\u001b[38;5;124m\"\u001b[39m, y)\n\u001b[1;32m      4\u001b[0m \u001b[38;5;28;01mif\u001b[39;00m y \u001b[38;5;241m==\u001b[39m \u001b[38;5;241m1\u001b[39m:\n\u001b[0;32m----> 5\u001b[0m     \u001b[43mx\u001b[49m\u001b[38;5;241;43m.\u001b[39;49m\u001b[43mthrow\u001b[49m\u001b[43m(\u001b[49m\u001b[38;5;167;43;01mValueError\u001b[39;49;00m\u001b[43m(\u001b[49m\u001b[38;5;124;43m\"\u001b[39;49m\u001b[38;5;124;43mfff\u001b[39;49m\u001b[38;5;124;43m\"\u001b[39;49m\u001b[43m)\u001b[49m\u001b[43m)\u001b[49m\n",
      "\u001b[0;31mStopIteration\u001b[0m: "
     ]
    }
   ],
   "source": [
    "x = g()\n",
    "for y in x:\n",
    "    print(\"v\", y)\n",
    "    if y == 1:\n",
    "        x.throw(ValueError(\"fff\"))"
   ]
  },
  {
   "cell_type": "code",
   "execution_count": 61,
   "id": "cbd7cd4c",
   "metadata": {},
   "outputs": [
    {
     "ename": "NameError",
     "evalue": "name 'm' is not defined",
     "output_type": "error",
     "traceback": [
      "\u001b[0;31m---------------------------------------------------------------------------\u001b[0m",
      "\u001b[0;31mNameError\u001b[0m                                 Traceback (most recent call last)",
      "Cell \u001b[0;32mIn[61], line 1\u001b[0m\n\u001b[0;32m----> 1\u001b[0m \u001b[43mm\u001b[49m\n",
      "\u001b[0;31mNameError\u001b[0m: name 'm' is not defined"
     ]
    }
   ],
   "source": [
    "m"
   ]
  },
  {
   "cell_type": "code",
   "execution_count": 77,
   "id": "1d150d5b",
   "metadata": {},
   "outputs": [],
   "source": [
    "import sys"
   ]
  },
  {
   "cell_type": "code",
   "execution_count": 71,
   "id": "cf58d342",
   "metadata": {},
   "outputs": [],
   "source": [
    "x = io.StringIO()"
   ]
  },
  {
   "cell_type": "code",
   "execution_count": 72,
   "id": "eec15c7c",
   "metadata": {},
   "outputs": [],
   "source": [
    "with contextlib.redirect_stdout(x):\n",
    "    print(\"hello\")"
   ]
  },
  {
   "cell_type": "code",
   "execution_count": 74,
   "id": "faee9650",
   "metadata": {},
   "outputs": [
    {
     "data": {
      "text/plain": [
       "'hello\\n'"
      ]
     },
     "execution_count": 74,
     "metadata": {},
     "output_type": "execute_result"
    }
   ],
   "source": [
    "x.getvalue()"
   ]
  },
  {
   "cell_type": "code",
   "execution_count": 75,
   "id": "e6adcc71",
   "metadata": {},
   "outputs": [
    {
     "name": "stdout",
     "output_type": "stream",
     "text": [
      "ok\n"
     ]
    }
   ],
   "source": [
    "print('ok')"
   ]
  },
  {
   "cell_type": "code",
   "execution_count": 123,
   "id": "7ad33d0c",
   "metadata": {},
   "outputs": [],
   "source": [
    "import traceback"
   ]
  },
  {
   "cell_type": "code",
   "execution_count": 128,
   "id": "e628cc5c",
   "metadata": {},
   "outputs": [],
   "source": [
    "def f():\n",
    "    x = \"wanglijun\"\n",
    "    y = 8890\n",
    "    raise ValueError(\"vvvv\")\n",
    "    \n",
    "def f1():\n",
    "    m = \"heee\"\n",
    "    f()\n",
    "    \n",
    "def g():\n",
    "    try:\n",
    "        f1()\n",
    "    except Exception:\n",
    "        _, _, tb =sys.exc_info()\n",
    "#         traceback.print_tb(tb)\n",
    "        while tb is not None:\n",
    "            print(tb.tb_frame.f_locals)\n",
    "            tb = tb.tb_next"
   ]
  },
  {
   "cell_type": "code",
   "execution_count": 129,
   "id": "9a50b6c7",
   "metadata": {},
   "outputs": [
    {
     "name": "stdout",
     "output_type": "stream",
     "text": [
      "{'_': ValueError('vvvv'), 'tb': <traceback object at 0x7f8f7990ddc0>}\n",
      "{'m': 'heee'}\n",
      "{'x': 'wanglijun', 'y': 8890}\n"
     ]
    }
   ],
   "source": [
    "g()"
   ]
  },
  {
   "cell_type": "code",
   "execution_count": 103,
   "id": "3f3cf16e",
   "metadata": {},
   "outputs": [
    {
     "name": "stdout",
     "output_type": "stream",
     "text": [
      "Help on built-in function exc_info in module sys:\n",
      "\n",
      "exc_info()\n",
      "    Return current exception information: (type, value, traceback).\n",
      "    \n",
      "    Return information about the most recent exception caught by an except\n",
      "    clause in the current stack frame or in an older stack frame.\n",
      "\n"
     ]
    }
   ],
   "source": [
    "help(sys.exc_info)"
   ]
  },
  {
   "cell_type": "code",
   "execution_count": 155,
   "id": "f69bd03d",
   "metadata": {},
   "outputs": [
    {
     "name": "stdout",
     "output_type": "stream",
     "text": [
      "<frame at 0x7f8f607a6370, file '/var/folders/_3/7mqy8l753ksbmsfkvtx4sj4w0000gn/T/ipykernel_84578/3713839377.py', line 14, code e>\n",
      "58\n",
      "[0] ...\n",
      "----------------------------------------\n",
      "6\n",
      "[1] {'ff': 'ff'}\n",
      "----------------------------------------\n",
      "6\n",
      "[2] {'ccccccc': 'sd'}\n",
      "----------------------------------------\n",
      "6\n",
      "[3] {'hello': 'hh'}\n",
      "----------------------------------------\n",
      "22\n",
      "[4] {'a': 'aaa'}\n",
      "----------------------------------------\n"
     ]
    }
   ],
   "source": [
    "def a():\n",
    "    a = \"aaa\"\n",
    "    print(sys._getframe(3))\n",
    "    1/0\n",
    "def b():\n",
    "    hello= \"hh\"\n",
    "    a()\n",
    "def c():\n",
    "    ccccccc=\"sd\"\n",
    "    b()\n",
    "    \n",
    "def e():\n",
    "    ff=\"ff\"\n",
    "    c()\n",
    "\n",
    "try:\n",
    "    e()\n",
    "except Exception as e:\n",
    "    tb = e.__traceback__\n",
    "#     traceback.print_tb(tb)\n",
    "    nback= 0\n",
    "    while tb is not None:\n",
    "        ls = tb.tb_frame.f_locals\n",
    "        code = tb.tb_frame.f_lasti\n",
    "        print(code)\n",
    "        print(f\"[{nback}]\",ls if len(ls) < 4 else '...')\n",
    "        print('-'*40)\n",
    "        tb = tb.tb_next\n",
    "        nback += 1"
   ]
  },
  {
   "cell_type": "code",
   "execution_count": 156,
   "id": "0d343f7e",
   "metadata": {},
   "outputs": [
    {
     "name": "stdout",
     "output_type": "stream",
     "text": [
      "Help on built-in function _getframe in module sys:\n",
      "\n",
      "_getframe(depth=0, /)\n",
      "    Return a frame object from the call stack.\n",
      "    \n",
      "    If optional integer depth is given, return the frame object that many\n",
      "    calls below the top of the stack.  If that is deeper than the call\n",
      "    stack, ValueError is raised.  The default for depth is zero, returning\n",
      "    the frame at the top of the call stack.\n",
      "    \n",
      "    This function should be used for internal and specialized purposes\n",
      "    only.\n",
      "\n"
     ]
    }
   ],
   "source": [
    "help(sys._getframe)"
   ]
  },
  {
   "cell_type": "code",
   "execution_count": 157,
   "id": "f009ead8",
   "metadata": {},
   "outputs": [
    {
     "data": {
      "text/plain": [
       "'/Users/junix/miniconda3/envs/py310/bin/python'"
      ]
     },
     "execution_count": 157,
     "metadata": {},
     "output_type": "execute_result"
    }
   ],
   "source": [
    "sys.executable"
   ]
  },
  {
   "cell_type": "code",
   "execution_count": null,
   "id": "3558f5c4",
   "metadata": {},
   "outputs": [],
   "source": []
  }
 ],
 "metadata": {
  "kernelspec": {
   "display_name": "Python 3 (ipykernel)",
   "language": "python",
   "name": "python3"
  },
  "language_info": {
   "codemirror_mode": {
    "name": "ipython",
    "version": 3
   },
   "file_extension": ".py",
   "mimetype": "text/x-python",
   "name": "python",
   "nbconvert_exporter": "python",
   "pygments_lexer": "ipython3",
   "version": "3.10.8"
  },
  "toc": {
   "nav_menu": {},
   "number_sections": true,
   "sideBar": true,
   "skip_h1_title": false,
   "title_cell": "Table of Contents",
   "title_sidebar": "Contents",
   "toc_cell": false,
   "toc_position": {},
   "toc_section_display": true,
   "toc_window_display": false
  }
 },
 "nbformat": 4,
 "nbformat_minor": 5
}
