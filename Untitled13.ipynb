{
 "cells": [
  {
   "cell_type": "code",
   "execution_count": 1,
   "id": "c2406d72",
   "metadata": {},
   "outputs": [],
   "source": [
    "import wanglijun as w"
   ]
  },
  {
   "cell_type": "code",
   "execution_count": 8,
   "id": "cb0d0ff4",
   "metadata": {},
   "outputs": [],
   "source": [
    "def hello():\n",
    "    print(\"hello\")"
   ]
  },
  {
   "cell_type": "code",
   "execution_count": 2,
   "id": "5ab7de42",
   "metadata": {},
   "outputs": [],
   "source": [
    "import functools"
   ]
  },
  {
   "cell_type": "code",
   "execution_count": 9,
   "id": "f17dc67e",
   "metadata": {
    "scrolled": false
   },
   "outputs": [
    {
     "name": "stdout",
     "output_type": "stream",
     "text": [
      "\u001b[01;04mdef\u001b[00m \u001b[38;5;241;01;03mhello\u001b[39;00m():\n",
      "    \u001b[01;03mprint\u001b[00m(\u001b[38;5;241;03m\"\u001b[39;00m\u001b[38;5;241;03mhello\u001b[39;00m\u001b[38;5;241;03m\"\u001b[39;00m)\n",
      "\n"
     ]
    }
   ],
   "source": [
    "w.show_source(hello)"
   ]
  },
  {
   "cell_type": "code",
   "execution_count": 5,
   "id": "e074c90a",
   "metadata": {},
   "outputs": [
    {
     "name": "stdout",
     "output_type": "stream",
     "text": [
      "Help on built-in function intern in module sys:\n",
      "\n",
      "intern(string, /)\n",
      "    ``Intern'' the given string.\n",
      "    \n",
      "    This enters the string in the (global) table of interned strings whose\n",
      "    purpose is to speed up dictionary lookups. Return the string itself or\n",
      "    the previously interned string object with the same value.\n",
      "\n"
     ]
    }
   ],
   "source": [
    "import sys\n",
    "help(sys.intern)"
   ]
  },
  {
   "cell_type": "code",
   "execution_count": 16,
   "id": "4e93ccc7",
   "metadata": {},
   "outputs": [
    {
     "name": "stdout",
     "output_type": "stream",
     "text": [
      "\u001b[01;04mdef\u001b[00m \u001b[38;5;241;01;03m_walk\u001b[39;00m(top, topdown, onerror, followlinks):\n",
      "    dirs = []\n",
      "    nondirs = []\n",
      "    walk_dirs = []\n",
      "\n",
      "    \u001b[38;5;102;03m# We may not have read permission for top, in which case we can't\u001b[39;00m\n",
      "    \u001b[38;5;102;03m# get a list of the files the directory contains.  os.walk\u001b[39;00m\n",
      "    \u001b[38;5;102;03m# always suppressed the exception then, rather than blow up for a\u001b[39;00m\n",
      "    \u001b[38;5;102;03m# minor reason when (say) a thousand readable directories are still\u001b[39;00m\n",
      "    \u001b[38;5;102;03m# left to visit.  That logic is copied here.\u001b[39;00m\n",
      "    \u001b[01;04mtry\u001b[00m:\n",
      "        \u001b[38;5;102;03m# Note that scandir is global in this module due\u001b[39;00m\n",
      "        \u001b[38;5;102;03m# to earlier import-*.\u001b[39;00m\n",
      "        scandir_it = scandir(top)\n",
      "    \u001b[01;04mexcept\u001b[00m OSError \u001b[01;04mas\u001b[00m error:\n",
      "        \u001b[01;04mif\u001b[00m onerror \u001b[01mis\u001b[00m \u001b[01mnot\u001b[00m \u001b[01;04mNone\u001b[00m:\n",
      "            onerror(error)\n",
      "        \u001b[01;04mreturn\u001b[00m\n",
      "\n",
      "    \u001b[01;04mwith\u001b[00m scandir_it:\n",
      "        \u001b[01;04mwhile\u001b[00m \u001b[01;04mTrue\u001b[00m:\n",
      "            \u001b[01;04mtry\u001b[00m:\n",
      "                \u001b[01;04mtry\u001b[00m:\n",
      "                    entry = \u001b[01;03mnext\u001b[00m(scandir_it)\n",
      "                \u001b[01;04mexcept\u001b[00m StopIteration:\n",
      "                    \u001b[01;04mbreak\u001b[00m\n",
      "            \u001b[01;04mexcept\u001b[00m OSError \u001b[01;04mas\u001b[00m error:\n",
      "                \u001b[01;04mif\u001b[00m onerror \u001b[01mis\u001b[00m \u001b[01mnot\u001b[00m \u001b[01;04mNone\u001b[00m:\n",
      "                    onerror(error)\n",
      "                \u001b[01;04mreturn\u001b[00m\n",
      "\n",
      "            \u001b[01;04mtry\u001b[00m:\n",
      "                is_dir = entry.is_dir()\n",
      "            \u001b[01;04mexcept\u001b[00m OSError:\n",
      "                \u001b[38;5;102;03m# If is_dir() raises an OSError, consider that the entry is not\u001b[39;00m\n",
      "                \u001b[38;5;102;03m# a directory, same behaviour than os.path.isdir().\u001b[39;00m\n",
      "                is_dir = \u001b[01;04mFalse\u001b[00m\n",
      "\n",
      "            \u001b[01;04mif\u001b[00m is_dir:\n",
      "                dirs.append(entry.name)\n",
      "            \u001b[01;04melse\u001b[00m:\n",
      "                nondirs.append(entry.name)\n",
      "\n",
      "            \u001b[01;04mif\u001b[00m \u001b[01mnot\u001b[00m topdown \u001b[01mand\u001b[00m is_dir:\n",
      "                \u001b[38;5;102;03m# Bottom-up: recurse into sub-directory, but exclude symlinks to\u001b[39;00m\n",
      "                \u001b[38;5;102;03m# directories if followlinks is False\u001b[39;00m\n",
      "                \u001b[01;04mif\u001b[00m followlinks:\n",
      "                    walk_into = \u001b[01;04mTrue\u001b[00m\n",
      "                \u001b[01;04melse\u001b[00m:\n",
      "                    \u001b[01;04mtry\u001b[00m:\n",
      "                        is_symlink = entry.is_symlink()\n",
      "                    \u001b[01;04mexcept\u001b[00m OSError:\n",
      "                        \u001b[38;5;102;03m# If is_symlink() raises an OSError, consider that the\u001b[39;00m\n",
      "                        \u001b[38;5;102;03m# entry is not a symbolic link, same behaviour than\u001b[39;00m\n",
      "                        \u001b[38;5;102;03m# os.path.islink().\u001b[39;00m\n",
      "                        is_symlink = \u001b[01;04mFalse\u001b[00m\n",
      "                    walk_into = \u001b[01mnot\u001b[00m is_symlink\n",
      "\n",
      "                \u001b[01;04mif\u001b[00m walk_into:\n",
      "                    walk_dirs.append(entry.path)\n",
      "\n",
      "    \u001b[38;5;102;03m# Yield before recursion if going top down\u001b[39;00m\n",
      "    \u001b[01;04mif\u001b[00m topdown:\n",
      "        \u001b[01;04myield\u001b[00m top, dirs, nondirs\n",
      "\n",
      "        \u001b[38;5;102;03m# Recurse into sub-directories\u001b[39;00m\n",
      "        islink, join = path.islink, path.join\n",
      "        \u001b[01;04mfor\u001b[00m dirname \u001b[01min\u001b[00m dirs:\n",
      "            new_path = join(top, dirname)\n",
      "            \u001b[38;5;102;03m# Issue #23605: os.path.islink() is used instead of caching\u001b[39;00m\n",
      "            \u001b[38;5;102;03m# entry.is_symlink() result during the loop on os.scandir() because\u001b[39;00m\n",
      "            \u001b[38;5;102;03m# the caller can replace the directory entry during the \"yield\"\u001b[39;00m\n",
      "            \u001b[38;5;102;03m# above.\u001b[39;00m\n",
      "            \u001b[01;04mif\u001b[00m followlinks \u001b[01mor\u001b[00m \u001b[01mnot\u001b[00m islink(new_path):\n",
      "                \u001b[01;04myield from\u001b[00m _walk(new_path, topdown, onerror, followlinks)\n",
      "    \u001b[01;04melse\u001b[00m:\n",
      "        \u001b[38;5;102;03m# Recurse into sub-directories\u001b[39;00m\n",
      "        \u001b[01;04mfor\u001b[00m new_path \u001b[01min\u001b[00m walk_dirs:\n",
      "            \u001b[01;04myield from\u001b[00m _walk(new_path, topdown, onerror, followlinks)\n",
      "        \u001b[38;5;102;03m# Yield after recursion if going bottom up\u001b[39;00m\n",
      "        \u001b[01;04myield\u001b[00m top, dirs, nondirs\n",
      "\n"
     ]
    }
   ],
   "source": [
    "w.show_source(os._walk)"
   ]
  },
  {
   "cell_type": "code",
   "execution_count": 17,
   "id": "5609980c",
   "metadata": {},
   "outputs": [
    {
     "name": "stdout",
     "output_type": "stream",
     "text": [
      "10\n"
     ]
    }
   ],
   "source": [
    "code = compile(\"x = 10\", \"<string>\", \"exec\")\n",
    "exec(code)\n",
    "print(x) # Output: 10\n"
   ]
  },
  {
   "cell_type": "code",
   "execution_count": 61,
   "id": "9ce65072",
   "metadata": {},
   "outputs": [
    {
     "data": {
      "text/plain": [
       "<code object <module> at 0x7faec99cc450, file \"www\", line 1>"
      ]
     },
     "execution_count": 61,
     "metadata": {},
     "output_type": "execute_result"
    }
   ],
   "source": [
    "code = compile(\"x = 2+4\", \"www\", \"exec\")\n",
    "code"
   ]
  },
  {
   "cell_type": "code",
   "execution_count": 62,
   "id": "11b63b73",
   "metadata": {},
   "outputs": [],
   "source": [
    "import dis"
   ]
  },
  {
   "cell_type": "code",
   "execution_count": 63,
   "id": "6fa7c3b2",
   "metadata": {},
   "outputs": [
    {
     "name": "stdout",
     "output_type": "stream",
     "text": [
      "  1           0 LOAD_CONST               0 (6)\n",
      "              2 STORE_NAME               0 (x)\n",
      "              4 LOAD_CONST               1 (None)\n",
      "              6 RETURN_VALUE\n"
     ]
    }
   ],
   "source": [
    "dis.dis(code)"
   ]
  },
  {
   "cell_type": "code",
   "execution_count": 73,
   "id": "e285c486",
   "metadata": {},
   "outputs": [
    {
     "name": "stdout",
     "output_type": "stream",
     "text": [
      "False\n"
     ]
    }
   ],
   "source": [
    "try:\n",
    "    del x\n",
    "except:\n",
    "    pass\n",
    "for x in range(10):\n",
    "    pass\n",
    "\n",
    "print(x in locals())\n"
   ]
  },
  {
   "cell_type": "code",
   "execution_count": 81,
   "id": "f718be43",
   "metadata": {
    "scrolled": false
   },
   "outputs": [],
   "source": [
    "def current_mod():\n",
    "    import sys\n",
    "    return sys.modules[__name__]"
   ]
  },
  {
   "cell_type": "code",
   "execution_count": 82,
   "id": "c18e2403",
   "metadata": {},
   "outputs": [],
   "source": [
    "mod = current_mod()"
   ]
  },
  {
   "cell_type": "code",
   "execution_count": 85,
   "id": "074f5672",
   "metadata": {
    "scrolled": false
   },
   "outputs": [
    {
     "data": {
      "text/plain": [
       "True"
      ]
     },
     "execution_count": 85,
     "metadata": {},
     "output_type": "execute_result"
    }
   ],
   "source": [
    "'x' in locals()"
   ]
  },
  {
   "cell_type": "code",
   "execution_count": null,
   "id": "56d52dfc",
   "metadata": {},
   "outputs": [],
   "source": []
  }
 ],
 "metadata": {
  "kernelspec": {
   "display_name": "Python 3 (ipykernel)",
   "language": "python",
   "name": "python3"
  },
  "language_info": {
   "codemirror_mode": {
    "name": "ipython",
    "version": 3
   },
   "file_extension": ".py",
   "mimetype": "text/x-python",
   "name": "python",
   "nbconvert_exporter": "python",
   "pygments_lexer": "ipython3",
   "version": "3.10.8"
  }
 },
 "nbformat": 4,
 "nbformat_minor": 5
}
