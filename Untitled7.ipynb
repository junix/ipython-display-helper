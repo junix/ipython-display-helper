{
 "cells": [
  {
   "cell_type": "code",
   "execution_count": 1,
   "id": "819c0396",
   "metadata": {},
   "outputs": [],
   "source": [
    "from inspect import Signature, Parameter\n",
    "\n",
    "def make_sig(*names):\n",
    "    parms = [Parameter(name, Parameter.POSITIONAL_OR_KEYWORD)\n",
    "            for name in names]\n",
    "    return Signature(parms)\n",
    "\n",
    "class StructureMeta(type):\n",
    "    def __new__(cls, clsname, bases, clsdict):\n",
    "        clsdict['__signature__'] = make_sig(*clsdict.get('_fields',[]))\n",
    "        return super().__new__(cls, clsname, bases, clsdict)\n",
    "\n",
    "class Structure(metaclass=StructureMeta):\n",
    "    _fields = []\n",
    "    def __init__(self, *args, **kwargs):\n",
    "        bound_values = self.__signature__.bind(*args, **kwargs)\n",
    "        for name, value in bound_values.arguments.items():\n",
    "            setattr(self, name, value)\n",
    "\n",
    "# Example\n",
    "class Stock(Structure):\n",
    "    _fields = ['name', 'shares', 'price']\n",
    "\n",
    "class Point(Structure):\n",
    "    _fields = ['x', 'y']"
   ]
  },
  {
   "cell_type": "code",
   "execution_count": 2,
   "id": "6d1f8889",
   "metadata": {},
   "outputs": [],
   "source": [
    "import inspect"
   ]
  },
  {
   "cell_type": "code",
   "execution_count": 3,
   "id": "fa755356",
   "metadata": {},
   "outputs": [
    {
     "data": {
      "text/plain": [
       "<Signature (x, y)>"
      ]
     },
     "execution_count": 3,
     "metadata": {},
     "output_type": "execute_result"
    }
   ],
   "source": [
    "inspect.signature(Point)"
   ]
  },
  {
   "cell_type": "code",
   "execution_count": 6,
   "id": "879fa5a3",
   "metadata": {},
   "outputs": [
    {
     "data": {
      "text/plain": [
       "type"
      ]
     },
     "execution_count": 6,
     "metadata": {},
     "output_type": "execute_result"
    }
   ],
   "source": [
    "type(int)"
   ]
  },
  {
   "cell_type": "code",
   "execution_count": 11,
   "id": "0c6bd1d1",
   "metadata": {},
   "outputs": [],
   "source": [
    "def f(a:int,*bs, c:int):pass"
   ]
  },
  {
   "cell_type": "code",
   "execution_count": 12,
   "id": "219a1e6a",
   "metadata": {},
   "outputs": [],
   "source": [
    "f(1,23,4,c=5)"
   ]
  },
  {
   "cell_type": "code",
   "execution_count": 16,
   "id": "6a3ecd64",
   "metadata": {},
   "outputs": [],
   "source": [
    "import sys"
   ]
  },
  {
   "cell_type": "code",
   "execution_count": 24,
   "id": "3c9fa34c",
   "metadata": {},
   "outputs": [],
   "source": [
    "def f1(x):\n",
    "    y = 23\n",
    "    locals = sys._getframe(1).f_locals\n",
    "    print(locals)"
   ]
  },
  {
   "cell_type": "code",
   "execution_count": 25,
   "id": "fd6c4d9f",
   "metadata": {},
   "outputs": [],
   "source": [
    "def f2(m):\n",
    "    v = f1(89)"
   ]
  },
  {
   "cell_type": "code",
   "execution_count": 26,
   "id": "55bfea26",
   "metadata": {},
   "outputs": [
    {
     "name": "stdout",
     "output_type": "stream",
     "text": [
      "{'m': 34}\n"
     ]
    }
   ],
   "source": [
    "f2(34)"
   ]
  },
  {
   "cell_type": "code",
   "execution_count": 33,
   "id": "9cb61b5d",
   "metadata": {},
   "outputs": [],
   "source": [
    "def f():\n",
    "    m = yield 1\n",
    "    yield m"
   ]
  },
  {
   "cell_type": "code",
   "execution_count": 34,
   "id": "06e89a8c",
   "metadata": {},
   "outputs": [],
   "source": [
    "it = f()"
   ]
  },
  {
   "cell_type": "code",
   "execution_count": 35,
   "id": "c3cc286d",
   "metadata": {},
   "outputs": [
    {
     "data": {
      "text/plain": [
       "generator"
      ]
     },
     "execution_count": 35,
     "metadata": {},
     "output_type": "execute_result"
    }
   ],
   "source": [
    "type(it)"
   ]
  },
  {
   "cell_type": "code",
   "execution_count": 38,
   "id": "ced15962",
   "metadata": {},
   "outputs": [
    {
     "data": {
      "text/plain": [
       "234"
      ]
     },
     "execution_count": 38,
     "metadata": {},
     "output_type": "execute_result"
    }
   ],
   "source": [
    "it.send(234)"
   ]
  },
  {
   "cell_type": "code",
   "execution_count": null,
   "id": "d343df0f",
   "metadata": {},
   "outputs": [],
   "source": []
  }
 ],
 "metadata": {
  "kernelspec": {
   "display_name": "Python 3 (ipykernel)",
   "language": "python",
   "name": "python3"
  },
  "language_info": {
   "codemirror_mode": {
    "name": "ipython",
    "version": 3
   },
   "file_extension": ".py",
   "mimetype": "text/x-python",
   "name": "python",
   "nbconvert_exporter": "python",
   "pygments_lexer": "ipython3",
   "version": "3.10.6"
  }
 },
 "nbformat": 4,
 "nbformat_minor": 5
}
