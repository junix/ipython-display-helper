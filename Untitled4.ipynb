{
 "cells": [
  {
   "cell_type": "code",
   "execution_count": 12,
   "id": "1350c2b6",
   "metadata": {},
   "outputs": [
    {
     "data": {
      "text/plain": [
       "'12-'"
      ]
     },
     "execution_count": 12,
     "metadata": {},
     "output_type": "execute_result"
    }
   ],
   "source": [
    "f\"{12:-^3}\""
   ]
  },
  {
   "cell_type": "code",
   "execution_count": 16,
   "id": "d555d31b",
   "metadata": {},
   "outputs": [
    {
     "data": {
      "text/plain": [
       "'234a'"
      ]
     },
     "execution_count": 16,
     "metadata": {},
     "output_type": "execute_result"
    }
   ],
   "source": [
    "\"{x}{y}\".format(y=\"a\",x=234)"
   ]
  },
  {
   "cell_type": "code",
   "execution_count": 21,
   "id": "408abf35",
   "metadata": {},
   "outputs": [
    {
     "data": {
      "text/plain": [
       "'helloworldgood is bad'"
      ]
     },
     "execution_count": 21,
     "metadata": {},
     "output_type": "execute_result"
    }
   ],
   "source": [
    "(\n",
    "    \"hello\"\n",
    "   \"world\"\n",
    "    \"good is bad\"\n",
    ")"
   ]
  },
  {
   "cell_type": "code",
   "execution_count": 22,
   "id": "1c42ca08",
   "metadata": {},
   "outputs": [],
   "source": [
    "import getpass"
   ]
  },
  {
   "cell_type": "code",
   "execution_count": 24,
   "id": "bbd37702",
   "metadata": {},
   "outputs": [],
   "source": [
    "user = getpass.getuser()"
   ]
  },
  {
   "cell_type": "code",
   "execution_count": 25,
   "id": "84568796",
   "metadata": {},
   "outputs": [],
   "source": [
    "import sys"
   ]
  },
  {
   "cell_type": "code",
   "execution_count": 26,
   "id": "63c90054",
   "metadata": {},
   "outputs": [
    {
     "name": "stdout",
     "output_type": "stream",
     "text": [
      "Help on built-in function intern in module sys:\n",
      "\n",
      "intern(string, /)\n",
      "    ``Intern'' the given string.\n",
      "    \n",
      "    This enters the string in the (global) table of interned strings whose\n",
      "    purpose is to speed up dictionary lookups. Return the string itself or\n",
      "    the previously interned string object with the same value.\n",
      "\n"
     ]
    }
   ],
   "source": [
    "help(sys.intern)"
   ]
  },
  {
   "cell_type": "code",
   "execution_count": 27,
   "id": "8002ac10",
   "metadata": {},
   "outputs": [
    {
     "data": {
      "text/plain": [
       "'wanglijun'"
      ]
     },
     "execution_count": 27,
     "metadata": {},
     "output_type": "execute_result"
    }
   ],
   "source": [
    "sys.intern(\"wanglijun\")"
   ]
  },
  {
   "cell_type": "code",
   "execution_count": 32,
   "id": "cc041577",
   "metadata": {},
   "outputs": [],
   "source": [
    "xs = {1:1,2:2}"
   ]
  },
  {
   "cell_type": "code",
   "execution_count": 34,
   "id": "68acb9b8",
   "metadata": {},
   "outputs": [],
   "source": [
    "ys = list(range(100))"
   ]
  },
  {
   "cell_type": "code",
   "execution_count": 35,
   "id": "57a1686f",
   "metadata": {},
   "outputs": [
    {
     "data": {
      "text/plain": [
       "99"
      ]
     },
     "execution_count": 35,
     "metadata": {},
     "output_type": "execute_result"
    }
   ],
   "source": [
    "ys.pop()"
   ]
  },
  {
   "cell_type": "code",
   "execution_count": 36,
   "id": "4a40ba91",
   "metadata": {},
   "outputs": [
    {
     "data": {
      "text/plain": [
       "40"
      ]
     },
     "execution_count": 36,
     "metadata": {},
     "output_type": "execute_result"
    }
   ],
   "source": [
    "ys.pop(40)"
   ]
  },
  {
   "cell_type": "code",
   "execution_count": 40,
   "id": "a012f036",
   "metadata": {},
   "outputs": [
    {
     "data": {
      "text/plain": [
       "2"
      ]
     },
     "execution_count": 40,
     "metadata": {},
     "output_type": "execute_result"
    }
   ],
   "source": [
    "xs.pop(2)"
   ]
  },
  {
   "cell_type": "code",
   "execution_count": 41,
   "id": "e548dfcf",
   "metadata": {},
   "outputs": [
    {
     "data": {
      "text/plain": [
       "{1: 1}"
      ]
     },
     "execution_count": 41,
     "metadata": {},
     "output_type": "execute_result"
    }
   ],
   "source": [
    "xs"
   ]
  },
  {
   "cell_type": "code",
   "execution_count": null,
   "id": "5350e03a",
   "metadata": {},
   "outputs": [],
   "source": []
  },
  {
   "cell_type": "code",
   "execution_count": 43,
   "id": "f8b9a3f3",
   "metadata": {},
   "outputs": [
    {
     "data": {
      "text/plain": [
       "2"
      ]
     },
     "execution_count": 43,
     "metadata": {},
     "output_type": "execute_result"
    }
   ],
   "source": [
    "1+1"
   ]
  },
  {
   "cell_type": "code",
   "execution_count": 44,
   "id": "3366fe62",
   "metadata": {},
   "outputs": [
    {
     "name": "stdout",
     "output_type": "stream",
     "text": [
      "Untitled.ipynb   Untitled2.ipynb  Untitled4.ipynb\r\n",
      "Untitled1.ipynb  Untitled3.ipynb  hello\r\n"
     ]
    }
   ],
   "source": [
    "ls"
   ]
  },
  {
   "cell_type": "code",
   "execution_count": 46,
   "id": "bb0af14c",
   "metadata": {},
   "outputs": [],
   "source": [
    "import subprocess"
   ]
  },
  {
   "cell_type": "code",
   "execution_count": 49,
   "id": "8c69bfc5",
   "metadata": {},
   "outputs": [],
   "source": [
    "output = subprocess.check_output([\"cat\",\"hello\"])"
   ]
  },
  {
   "cell_type": "code",
   "execution_count": 51,
   "id": "3c65f26e",
   "metadata": {},
   "outputs": [
    {
     "name": "stdout",
     "output_type": "stream",
     "text": [
      "hello\n",
      "\n"
     ]
    }
   ],
   "source": [
    "print(output.decode('utf-8'))"
   ]
  },
  {
   "cell_type": "code",
   "execution_count": 55,
   "id": "b537df6d",
   "metadata": {},
   "outputs": [
    {
     "data": {
      "text/plain": [
       "2"
      ]
     },
     "execution_count": 55,
     "metadata": {},
     "output_type": "execute_result"
    }
   ],
   "source": [
    "round(1.5)"
   ]
  },
  {
   "cell_type": "code",
   "execution_count": 59,
   "id": "7a50c1ee",
   "metadata": {},
   "outputs": [
    {
     "data": {
      "text/plain": [
       "'78.00'"
      ]
     },
     "execution_count": 59,
     "metadata": {},
     "output_type": "execute_result"
    }
   ],
   "source": [
    "f\"{78:4.2f}\""
   ]
  },
  {
   "cell_type": "code",
   "execution_count": 60,
   "id": "1470a919",
   "metadata": {},
   "outputs": [
    {
     "data": {
      "text/plain": [
       "'hello'"
      ]
     },
     "execution_count": 60,
     "metadata": {},
     "output_type": "execute_result"
    }
   ],
   "source": [
    "\"{}\".format(\"hello\")"
   ]
  },
  {
   "cell_type": "code",
   "execution_count": 68,
   "id": "a5a13f6d",
   "metadata": {},
   "outputs": [
    {
     "data": {
      "text/plain": [
       "'wa is OK'"
      ]
     },
     "execution_count": 68,
     "metadata": {},
     "output_type": "execute_result"
    }
   ],
   "source": [
    "\"{0[name]} is OK\".format(dict(name='wa'))"
   ]
  },
  {
   "cell_type": "code",
   "execution_count": 62,
   "id": "f8dc3e85",
   "metadata": {},
   "outputs": [
    {
     "data": {
      "text/plain": [
       "{'name': 'wanglijun'}"
      ]
     },
     "execution_count": 62,
     "metadata": {},
     "output_type": "execute_result"
    }
   ],
   "source": [
    "dict(name=\"wanglijun\")"
   ]
  },
  {
   "cell_type": "code",
   "execution_count": 69,
   "id": "cc33c773",
   "metadata": {},
   "outputs": [],
   "source": [
    "class A:pass"
   ]
  },
  {
   "cell_type": "code",
   "execution_count": 70,
   "id": "994a9fd1",
   "metadata": {},
   "outputs": [],
   "source": [
    "a = A()\n",
    "a.name = \"wanglijun\""
   ]
  },
  {
   "cell_type": "code",
   "execution_count": 71,
   "id": "9be4fe16",
   "metadata": {},
   "outputs": [
    {
     "data": {
      "text/plain": [
       "'wanglijun is OK'"
      ]
     },
     "execution_count": 71,
     "metadata": {},
     "output_type": "execute_result"
    }
   ],
   "source": [
    "\"{0.name} is OK\".format(a)"
   ]
  },
  {
   "cell_type": "code",
   "execution_count": 74,
   "id": "957d5904",
   "metadata": {},
   "outputs": [
    {
     "data": {
      "text/plain": [
       "'2.3e+01'"
      ]
     },
     "execution_count": 74,
     "metadata": {},
     "output_type": "execute_result"
    }
   ],
   "source": [
    "f\"{23.345:03.2}\""
   ]
  },
  {
   "cell_type": "code",
   "execution_count": 75,
   "id": "9443b51e",
   "metadata": {},
   "outputs": [],
   "source": [
    "import pathlib"
   ]
  },
  {
   "cell_type": "code",
   "execution_count": 76,
   "id": "b924c07f",
   "metadata": {},
   "outputs": [],
   "source": [
    "p = pathlib.Path(\".\")"
   ]
  },
  {
   "cell_type": "code",
   "execution_count": 78,
   "id": "9cf040ba",
   "metadata": {},
   "outputs": [
    {
     "data": {
      "text/plain": [
       "PosixPath('/Users/junix/code/xpython')"
      ]
     },
     "execution_count": 78,
     "metadata": {},
     "output_type": "execute_result"
    }
   ],
   "source": [
    "p.absolute()"
   ]
  },
  {
   "cell_type": "code",
   "execution_count": 79,
   "id": "02986fa5",
   "metadata": {},
   "outputs": [
    {
     "data": {
      "text/plain": [
       "True"
      ]
     },
     "execution_count": 79,
     "metadata": {},
     "output_type": "execute_result"
    }
   ],
   "source": [
    "p.is_dir()"
   ]
  },
  {
   "cell_type": "code",
   "execution_count": 80,
   "id": "81b3ab7b",
   "metadata": {},
   "outputs": [
    {
     "name": "stdout",
     "output_type": "stream",
     "text": [
      "Untitled1.ipynb\n",
      "Untitled3.ipynb\n",
      "Untitled.ipynb\n",
      "Untitled4.ipynb\n",
      "Untitled2.ipynb\n",
      ".ipynb_checkpoints\n",
      "hello\n"
     ]
    }
   ],
   "source": [
    "for x in p.iterdir():\n",
    "    print(x)"
   ]
  },
  {
   "cell_type": "code",
   "execution_count": 90,
   "id": "0e1931f8",
   "metadata": {},
   "outputs": [
    {
     "data": {
      "text/plain": [
       "'123_456_789.234'"
      ]
     },
     "execution_count": 90,
     "metadata": {},
     "output_type": "execute_result"
    }
   ],
   "source": [
    "f\"{123456789.234:_}\""
   ]
  },
  {
   "cell_type": "code",
   "execution_count": 91,
   "id": "723b3a0a",
   "metadata": {},
   "outputs": [
    {
     "data": {
      "text/plain": [
       "'hello'"
      ]
     },
     "execution_count": 91,
     "metadata": {},
     "output_type": "execute_result"
    }
   ],
   "source": [
    "str(\"hello\")"
   ]
  },
  {
   "cell_type": "code",
   "execution_count": 92,
   "id": "785e5ead",
   "metadata": {},
   "outputs": [
    {
     "data": {
      "text/plain": [
       "\"'hello'\""
      ]
     },
     "execution_count": 92,
     "metadata": {},
     "output_type": "execute_result"
    }
   ],
   "source": [
    "repr(\"hello\")"
   ]
  },
  {
   "cell_type": "code",
   "execution_count": 101,
   "id": "f78c4b6f",
   "metadata": {},
   "outputs": [
    {
     "data": {
      "text/plain": [
       "'ok Ձ is'"
      ]
     },
     "execution_count": 101,
     "metadata": {},
     "output_type": "execute_result"
    }
   ],
   "source": [
    "f\"ok {1345:c} is\""
   ]
  },
  {
   "cell_type": "code",
   "execution_count": 102,
   "id": "ea952143",
   "metadata": {},
   "outputs": [
    {
     "data": {
      "text/plain": [
       "'Ձ'"
      ]
     },
     "execution_count": 102,
     "metadata": {},
     "output_type": "execute_result"
    }
   ],
   "source": [
    "chr(1345)"
   ]
  },
  {
   "cell_type": "code",
   "execution_count": 103,
   "id": "20cf80f5",
   "metadata": {},
   "outputs": [],
   "source": [
    "x = \"wanglijun\""
   ]
  },
  {
   "cell_type": "code",
   "execution_count": 106,
   "id": "c0789c7e",
   "metadata": {},
   "outputs": [
    {
     "ename": "TypeError",
     "evalue": "startswith first arg must be str or a tuple of str, not list",
     "output_type": "error",
     "traceback": [
      "\u001b[0;31m---------------------------------------------------------------------------\u001b[0m",
      "\u001b[0;31mTypeError\u001b[0m                                 Traceback (most recent call last)",
      "Cell \u001b[0;32mIn[106], line 1\u001b[0m\n\u001b[0;32m----> 1\u001b[0m \u001b[43mx\u001b[49m\u001b[38;5;241;43m.\u001b[39;49m\u001b[43mstartswith\u001b[49m\u001b[43m(\u001b[49m\u001b[43m[\u001b[49m\u001b[38;5;124;43m\"\u001b[39;49m\u001b[38;5;124;43mw\u001b[39;49m\u001b[38;5;124;43m\"\u001b[39;49m\u001b[43m,\u001b[49m\u001b[38;5;124;43m\"\u001b[39;49m\u001b[38;5;124;43mW\u001b[39;49m\u001b[38;5;124;43m\"\u001b[39;49m\u001b[43m]\u001b[49m\u001b[43m)\u001b[49m\n",
      "\u001b[0;31mTypeError\u001b[0m: startswith first arg must be str or a tuple of str, not list"
     ]
    }
   ],
   "source": [
    "x.startswith([\"w\",\"W\"])"
   ]
  },
  {
   "cell_type": "code",
   "execution_count": 110,
   "id": "cf06ee89",
   "metadata": {},
   "outputs": [
    {
     "data": {
      "text/plain": [
       "-1"
      ]
     },
     "execution_count": 110,
     "metadata": {},
     "output_type": "execute_result"
    }
   ],
   "source": [
    "x.find(\"lio\")"
   ]
  },
  {
   "cell_type": "code",
   "execution_count": 109,
   "id": "ea18f0cf",
   "metadata": {},
   "outputs": [
    {
     "ename": "ValueError",
     "evalue": "substring not found",
     "output_type": "error",
     "traceback": [
      "\u001b[0;31m---------------------------------------------------------------------------\u001b[0m",
      "\u001b[0;31mValueError\u001b[0m                                Traceback (most recent call last)",
      "Cell \u001b[0;32mIn[109], line 1\u001b[0m\n\u001b[0;32m----> 1\u001b[0m \u001b[43mx\u001b[49m\u001b[38;5;241;43m.\u001b[39;49m\u001b[43mindex\u001b[49m\u001b[43m(\u001b[49m\u001b[38;5;124;43m\"\u001b[39;49m\u001b[38;5;124;43mlio\u001b[39;49m\u001b[38;5;124;43m\"\u001b[39;49m\u001b[43m)\u001b[49m\n",
      "\u001b[0;31mValueError\u001b[0m: substring not found"
     ]
    }
   ],
   "source": [
    "x.index(\"lio\")"
   ]
  },
  {
   "cell_type": "code",
   "execution_count": 111,
   "id": "0af5eb0a",
   "metadata": {},
   "outputs": [],
   "source": [
    "import re"
   ]
  },
  {
   "cell_type": "code",
   "execution_count": 117,
   "id": "4e6d19e8",
   "metadata": {},
   "outputs": [
    {
     "data": {
      "text/plain": [
       "[('a', 'b'), ('a', 'e')]"
      ]
     },
     "execution_count": 117,
     "metadata": {},
     "output_type": "execute_result"
    }
   ],
   "source": [
    "re.findall(\"(a)([be])\",\"abdeae\")"
   ]
  },
  {
   "cell_type": "code",
   "execution_count": 118,
   "id": "50b53998",
   "metadata": {},
   "outputs": [],
   "source": [
    "import re"
   ]
  },
  {
   "cell_type": "code",
   "execution_count": 135,
   "id": "cb98721b",
   "metadata": {},
   "outputs": [
    {
     "data": {
      "text/plain": [
       "<re.Match object; span=(1, 4), match='a\\ns'>"
      ]
     },
     "execution_count": 135,
     "metadata": {},
     "output_type": "execute_result"
    }
   ],
   "source": [
    "m = re.search(r'a.s',\"oa\\nsdf\", flags=re.DOTALL)\n",
    "m"
   ]
  },
  {
   "cell_type": "code",
   "execution_count": 132,
   "id": "2efdafe1",
   "metadata": {},
   "outputs": [
    {
     "data": {
      "text/plain": [
       "1"
      ]
     },
     "execution_count": 132,
     "metadata": {},
     "output_type": "execute_result"
    }
   ],
   "source": [
    "m.start()"
   ]
  },
  {
   "cell_type": "code",
   "execution_count": 136,
   "id": "cf80d115",
   "metadata": {},
   "outputs": [],
   "source": [
    "a = 1\n",
    "b = \"hello\""
   ]
  },
  {
   "cell_type": "code",
   "execution_count": 137,
   "id": "e7f9997b",
   "metadata": {},
   "outputs": [],
   "source": [
    "import string"
   ]
  },
  {
   "cell_type": "code",
   "execution_count": 140,
   "id": "558638bc",
   "metadata": {},
   "outputs": [],
   "source": [
    "templ = string.Template(\"a is $a, elll is $b\")"
   ]
  },
  {
   "cell_type": "code",
   "execution_count": 141,
   "id": "6d323efe",
   "metadata": {},
   "outputs": [
    {
     "data": {
      "text/plain": [
       "'a is 1, elll is hello'"
      ]
     },
     "execution_count": 141,
     "metadata": {},
     "output_type": "execute_result"
    }
   ],
   "source": [
    "templ.substitute(vars())"
   ]
  },
  {
   "cell_type": "code",
   "execution_count": 143,
   "id": "beabab84",
   "metadata": {},
   "outputs": [],
   "source": [
    "f = sys._getframe(1)"
   ]
  },
  {
   "cell_type": "code",
   "execution_count": 144,
   "id": "ce007587",
   "metadata": {},
   "outputs": [
    {
     "data": {
      "text/plain": [
       "<frame at 0x132019280, file '/Users/junix/miniconda3/envs/py310/lib/python3.10/site-packages/IPython/core/interactiveshell.py', line 3458, code run_code>"
      ]
     },
     "execution_count": 144,
     "metadata": {},
     "output_type": "execute_result"
    }
   ],
   "source": [
    "f"
   ]
  },
  {
   "cell_type": "code",
   "execution_count": 146,
   "id": "e32f4561",
   "metadata": {},
   "outputs": [
    {
     "data": {
      "text/plain": [
       "{'self': <ipykernel.zmqshell.ZMQInteractiveShell at 0x105ed0190>,\n",
       " 'code_obj': <code object <module> at 0x1067805b0, file \"/var/folders/67/r6hw_wyn73gfjj3jpl_ktqcm0000gn/T/ipykernel_38945/2259346343.py\", line 1>,\n",
       " 'result': <ExecutionResult object at 107250670, execution_count=143 error_before_exec=None error_in_exec=None info=<ExecutionInfo object at 1108fd390, raw_cell=\"f = sys._getframe(1)\" store_history=True silent=False shell_futures=True cell_id=None> result=None>,\n",
       " 'async_': False,\n",
       " '__tracebackhide__': '__ipython_bottom__',\n",
       " 'old_excepthook': <bound method IPKernelApp.excepthook of <ipykernel.kernelapp.IPKernelApp object at 0x1030e9630>>,\n",
       " 'outflag': False}"
      ]
     },
     "execution_count": 146,
     "metadata": {},
     "output_type": "execute_result"
    }
   ],
   "source": [
    "f.f_locals"
   ]
  },
  {
   "cell_type": "code",
   "execution_count": 147,
   "id": "f6f2b5b7",
   "metadata": {},
   "outputs": [],
   "source": [
    "class A:\n",
    "    def __init__(self,name,n):\n",
    "        self.name = name\n",
    "        self.n = n\n"
   ]
  },
  {
   "cell_type": "code",
   "execution_count": 148,
   "id": "01811608",
   "metadata": {},
   "outputs": [],
   "source": [
    "a = A(\"wanglijun\", 23)"
   ]
  },
  {
   "cell_type": "code",
   "execution_count": 149,
   "id": "f5f3970c",
   "metadata": {},
   "outputs": [
    {
     "data": {
      "text/plain": [
       "{'name': 'wanglijun', 'n': 23}"
      ]
     },
     "execution_count": 149,
     "metadata": {},
     "output_type": "execute_result"
    }
   ],
   "source": [
    "vars(a)"
   ]
  },
  {
   "cell_type": "code",
   "execution_count": 160,
   "id": "b9149f1f",
   "metadata": {},
   "outputs": [],
   "source": [
    "class MyDict(dict):\n",
    "    def __missing__(self,k):\n",
    "        return f\"{{{k}}}\""
   ]
  },
  {
   "cell_type": "code",
   "execution_count": 161,
   "id": "b952d2fb",
   "metadata": {},
   "outputs": [],
   "source": [
    "d = MyDict()"
   ]
  },
  {
   "cell_type": "code",
   "execution_count": 162,
   "id": "71c4761a",
   "metadata": {},
   "outputs": [],
   "source": [
    "d['name'] = 'wanglijun'"
   ]
  },
  {
   "cell_type": "code",
   "execution_count": 163,
   "id": "8db2f76e",
   "metadata": {},
   "outputs": [
    {
     "data": {
      "text/plain": [
       "'{age}'"
      ]
     },
     "execution_count": 163,
     "metadata": {},
     "output_type": "execute_result"
    }
   ],
   "source": [
    "d['age']"
   ]
  },
  {
   "cell_type": "code",
   "execution_count": 164,
   "id": "70156700",
   "metadata": {},
   "outputs": [],
   "source": [
    "import os"
   ]
  },
  {
   "cell_type": "code",
   "execution_count": 165,
   "id": "3bedd69b",
   "metadata": {},
   "outputs": [
    {
     "ename": "OSError",
     "evalue": "[Errno 25] Inappropriate ioctl for device",
     "output_type": "error",
     "traceback": [
      "\u001b[0;31m---------------------------------------------------------------------------\u001b[0m",
      "\u001b[0;31mOSError\u001b[0m                                   Traceback (most recent call last)",
      "Cell \u001b[0;32mIn[165], line 1\u001b[0m\n\u001b[0;32m----> 1\u001b[0m \u001b[43mos\u001b[49m\u001b[38;5;241;43m.\u001b[39;49m\u001b[43mget_terminal_size\u001b[49m\u001b[43m(\u001b[49m\u001b[43m)\u001b[49m\n",
      "\u001b[0;31mOSError\u001b[0m: [Errno 25] Inappropriate ioctl for device"
     ]
    }
   ],
   "source": [
    "os.get_terminal_size()"
   ]
  },
  {
   "cell_type": "code",
   "execution_count": 168,
   "id": "315a5889",
   "metadata": {},
   "outputs": [],
   "source": [
    "x = 89j"
   ]
  },
  {
   "cell_type": "code",
   "execution_count": 169,
   "id": "48cf3cc4",
   "metadata": {},
   "outputs": [
    {
     "data": {
      "text/plain": [
       "complex"
      ]
     },
     "execution_count": 169,
     "metadata": {},
     "output_type": "execute_result"
    }
   ],
   "source": [
    "type(x)"
   ]
  },
  {
   "cell_type": "code",
   "execution_count": 170,
   "id": "9316f648",
   "metadata": {},
   "outputs": [],
   "source": [
    "from fractions import Fraction"
   ]
  },
  {
   "cell_type": "code",
   "execution_count": 171,
   "id": "7f5359f1",
   "metadata": {},
   "outputs": [],
   "source": [
    "a = Fraction(2,3)"
   ]
  },
  {
   "cell_type": "code",
   "execution_count": 173,
   "id": "9e744d3e",
   "metadata": {},
   "outputs": [],
   "source": [
    "b = Fraction(3,4)"
   ]
  },
  {
   "cell_type": "code",
   "execution_count": 174,
   "id": "7880772c",
   "metadata": {},
   "outputs": [
    {
     "data": {
      "text/plain": [
       "Fraction(1, 2)"
      ]
     },
     "execution_count": 174,
     "metadata": {},
     "output_type": "execute_result"
    }
   ],
   "source": [
    "a * b"
   ]
  },
  {
   "cell_type": "code",
   "execution_count": 175,
   "id": "7a97fb73",
   "metadata": {},
   "outputs": [],
   "source": [
    "from decimal import Decimal"
   ]
  },
  {
   "cell_type": "code",
   "execution_count": 176,
   "id": "99cfe79c",
   "metadata": {},
   "outputs": [],
   "source": [
    "d = Decimal(\"0.123456\")"
   ]
  },
  {
   "cell_type": "code",
   "execution_count": 179,
   "id": "013f0f51",
   "metadata": {},
   "outputs": [
    {
     "data": {
      "text/plain": [
       "Fraction(78, 25)"
      ]
     },
     "execution_count": 179,
     "metadata": {},
     "output_type": "execute_result"
    }
   ],
   "source": [
    "Fraction(\"3.12\")"
   ]
  },
  {
   "cell_type": "code",
   "execution_count": 180,
   "id": "128eca4b",
   "metadata": {},
   "outputs": [
    {
     "data": {
      "text/plain": [
       "(1+2j)"
      ]
     },
     "execution_count": 180,
     "metadata": {},
     "output_type": "execute_result"
    }
   ],
   "source": [
    "1+2j"
   ]
  },
  {
   "cell_type": "code",
   "execution_count": 188,
   "id": "8382c9f2",
   "metadata": {},
   "outputs": [],
   "source": [
    "a,b = Decimal(\"1.2345678923423456789234\") , Decimal(\"1.2345678923423456789234\")"
   ]
  },
  {
   "cell_type": "code",
   "execution_count": 191,
   "id": "33350352",
   "metadata": {},
   "outputs": [
    {
     "data": {
      "text/plain": [
       "1489505114315870316"
      ]
     },
     "execution_count": 191,
     "metadata": {},
     "output_type": "execute_result"
    }
   ],
   "source": [
    "hash(b)"
   ]
  },
  {
   "cell_type": "code",
   "execution_count": 109,
   "id": "864219af",
   "metadata": {},
   "outputs": [
    {
     "name": "stdout",
     "output_type": "stream",
     "text": [
      "Help on built-in function vars in module builtins:\n",
      "\n",
      "vars(...)\n",
      "    vars([object]) -> dictionary\n",
      "    \n",
      "    Without arguments, equivalent to locals().\n",
      "    With an argument, equivalent to object.__dict__.\n",
      "\n"
     ]
    }
   ],
   "source": [
    "help(vars)"
   ]
  },
  {
   "cell_type": "code",
   "execution_count": 154,
   "id": "b20a4595",
   "metadata": {},
   "outputs": [],
   "source": [
    "x = 1\n",
    "def f():\n",
    "    x = 2\n",
    "    def g():\n",
    "        global x\n",
    "        y = 2334\n",
    "        print(x,y)\n",
    "        x = \"g\"\n",
    "    return g"
   ]
  },
  {
   "cell_type": "code",
   "execution_count": 155,
   "id": "a0cf2b41",
   "metadata": {},
   "outputs": [],
   "source": [
    "g = f()"
   ]
  },
  {
   "cell_type": "code",
   "execution_count": 157,
   "id": "366c2db3",
   "metadata": {},
   "outputs": [
    {
     "name": "stdout",
     "output_type": "stream",
     "text": [
      "1 2334\n"
     ]
    }
   ],
   "source": [
    "g()"
   ]
  },
  {
   "cell_type": "code",
   "execution_count": 158,
   "id": "8bb21617",
   "metadata": {},
   "outputs": [
    {
     "data": {
      "text/plain": [
       "'g'"
      ]
     },
     "execution_count": 158,
     "metadata": {},
     "output_type": "execute_result"
    }
   ],
   "source": [
    "x"
   ]
  },
  {
   "cell_type": "code",
   "execution_count": 134,
   "id": "4dbda5a4",
   "metadata": {},
   "outputs": [
    {
     "data": {
      "text/plain": [
       "'g'"
      ]
     },
     "execution_count": 134,
     "metadata": {},
     "output_type": "execute_result"
    }
   ],
   "source": [
    "c.cell_contents"
   ]
  },
  {
   "cell_type": "code",
   "execution_count": 165,
   "id": "e2a18899",
   "metadata": {},
   "outputs": [],
   "source": [
    "x = 23\n",
    "def f():\n",
    "    def g(y = x):\n",
    "        print(f\"y={y!r}\")\n",
    "        print(f\"x={x!r}\")\n",
    "    return g"
   ]
  },
  {
   "cell_type": "code",
   "execution_count": 166,
   "id": "531b74ef",
   "metadata": {},
   "outputs": [
    {
     "name": "stdout",
     "output_type": "stream",
     "text": [
      "y=23\n",
      "x=99\n"
     ]
    }
   ],
   "source": [
    "g = f()\n",
    "x = 99\n",
    "g()"
   ]
  },
  {
   "cell_type": "code",
   "execution_count": 168,
   "id": "79c3456f",
   "metadata": {},
   "outputs": [
    {
     "data": {
      "text/plain": [
       "Ellipsis"
      ]
     },
     "execution_count": 168,
     "metadata": {},
     "output_type": "execute_result"
    }
   ],
   "source": [
    "type(...)()"
   ]
  },
  {
   "cell_type": "code",
   "execution_count": 170,
   "id": "36e50048",
   "metadata": {},
   "outputs": [
    {
     "data": {
      "text/plain": [
       "[]"
      ]
     },
     "execution_count": 170,
     "metadata": {},
     "output_type": "execute_result"
    }
   ],
   "source": [
    "bool.__subclasses__()"
   ]
  },
  {
   "cell_type": "code",
   "execution_count": 172,
   "id": "1a441a18",
   "metadata": {},
   "outputs": [
    {
     "data": {
      "text/plain": [
       "[bool, <enum 'IntEnum'>, <enum 'IntFlag'>, sre_constants._NamedIntConstant]"
      ]
     },
     "execution_count": 172,
     "metadata": {},
     "output_type": "execute_result"
    }
   ],
   "source": [
    "int.__subclasses__()"
   ]
  },
  {
   "cell_type": "code",
   "execution_count": null,
   "id": "83fc8d79",
   "metadata": {},
   "outputs": [],
   "source": []
  }
 ],
 "metadata": {
  "kernelspec": {
   "display_name": "Python 3 (ipykernel)",
   "language": "python",
   "name": "python3"
  },
  "language_info": {
   "codemirror_mode": {
    "name": "ipython",
    "version": 3
   },
   "file_extension": ".py",
   "mimetype": "text/x-python",
   "name": "python",
   "nbconvert_exporter": "python",
   "pygments_lexer": "ipython3",
   "version": "3.10.8"
  },
  "toc": {
   "nav_menu": {},
   "number_sections": true,
   "sideBar": true,
   "skip_h1_title": false,
   "title_cell": "Table of Contents",
   "title_sidebar": "Contents",
   "toc_cell": false,
   "toc_position": {},
   "toc_section_display": true,
   "toc_window_display": false
  }
 },
 "nbformat": 4,
 "nbformat_minor": 5
}
