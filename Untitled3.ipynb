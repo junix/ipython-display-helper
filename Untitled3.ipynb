{
 "cells": [
  {
   "cell_type": "code",
   "execution_count": 2,
   "id": "d60defd2",
   "metadata": {},
   "outputs": [
    {
     "data": {
      "text/plain": [
       "type"
      ]
     },
     "execution_count": 2,
     "metadata": {},
     "output_type": "execute_result"
    }
   ],
   "source": [
    "type(int)"
   ]
  },
  {
   "cell_type": "code",
   "execution_count": null,
   "id": "96fe8a2f",
   "metadata": {},
   "outputs": [],
   "source": []
  },
  {
   "cell_type": "code",
   "execution_count": 4,
   "id": "65544733",
   "metadata": {
    "collapsed": true
   },
   "outputs": [
    {
     "data": {
      "text/plain": [
       "['__abs__',\n",
       " '__add__',\n",
       " '__and__',\n",
       " '__bool__',\n",
       " '__ceil__',\n",
       " '__class__',\n",
       " '__delattr__',\n",
       " '__dir__',\n",
       " '__divmod__',\n",
       " '__doc__',\n",
       " '__eq__',\n",
       " '__float__',\n",
       " '__floor__',\n",
       " '__floordiv__',\n",
       " '__format__',\n",
       " '__ge__',\n",
       " '__getattribute__',\n",
       " '__getnewargs__',\n",
       " '__gt__',\n",
       " '__hash__',\n",
       " '__index__',\n",
       " '__init__',\n",
       " '__init_subclass__',\n",
       " '__int__',\n",
       " '__invert__',\n",
       " '__le__',\n",
       " '__lshift__',\n",
       " '__lt__',\n",
       " '__mod__',\n",
       " '__mul__',\n",
       " '__ne__',\n",
       " '__neg__',\n",
       " '__new__',\n",
       " '__or__',\n",
       " '__pos__',\n",
       " '__pow__',\n",
       " '__radd__',\n",
       " '__rand__',\n",
       " '__rdivmod__',\n",
       " '__reduce__',\n",
       " '__reduce_ex__',\n",
       " '__repr__',\n",
       " '__rfloordiv__',\n",
       " '__rlshift__',\n",
       " '__rmod__',\n",
       " '__rmul__',\n",
       " '__ror__',\n",
       " '__round__',\n",
       " '__rpow__',\n",
       " '__rrshift__',\n",
       " '__rshift__',\n",
       " '__rsub__',\n",
       " '__rtruediv__',\n",
       " '__rxor__',\n",
       " '__setattr__',\n",
       " '__sizeof__',\n",
       " '__str__',\n",
       " '__sub__',\n",
       " '__subclasshook__',\n",
       " '__truediv__',\n",
       " '__trunc__',\n",
       " '__xor__',\n",
       " 'as_integer_ratio',\n",
       " 'bit_length',\n",
       " 'conjugate',\n",
       " 'denominator',\n",
       " 'from_bytes',\n",
       " 'imag',\n",
       " 'numerator',\n",
       " 'real',\n",
       " 'to_bytes']"
      ]
     },
     "execution_count": 4,
     "metadata": {},
     "output_type": "execute_result"
    }
   ],
   "source": [
    "dir(int)"
   ]
  },
  {
   "cell_type": "code",
   "execution_count": 5,
   "id": "0739c96a",
   "metadata": {
    "collapsed": true
   },
   "outputs": [
    {
     "data": {
      "text/plain": [
       "['__abs__',\n",
       " '__add__',\n",
       " '__and__',\n",
       " '__bool__',\n",
       " '__ceil__',\n",
       " '__class__',\n",
       " '__delattr__',\n",
       " '__dir__',\n",
       " '__divmod__',\n",
       " '__doc__',\n",
       " '__eq__',\n",
       " '__float__',\n",
       " '__floor__',\n",
       " '__floordiv__',\n",
       " '__format__',\n",
       " '__ge__',\n",
       " '__getattribute__',\n",
       " '__getnewargs__',\n",
       " '__gt__',\n",
       " '__hash__',\n",
       " '__index__',\n",
       " '__init__',\n",
       " '__init_subclass__',\n",
       " '__int__',\n",
       " '__invert__',\n",
       " '__le__',\n",
       " '__lshift__',\n",
       " '__lt__',\n",
       " '__mod__',\n",
       " '__mul__',\n",
       " '__ne__',\n",
       " '__neg__',\n",
       " '__new__',\n",
       " '__or__',\n",
       " '__pos__',\n",
       " '__pow__',\n",
       " '__radd__',\n",
       " '__rand__',\n",
       " '__rdivmod__',\n",
       " '__reduce__',\n",
       " '__reduce_ex__',\n",
       " '__repr__',\n",
       " '__rfloordiv__',\n",
       " '__rlshift__',\n",
       " '__rmod__',\n",
       " '__rmul__',\n",
       " '__ror__',\n",
       " '__round__',\n",
       " '__rpow__',\n",
       " '__rrshift__',\n",
       " '__rshift__',\n",
       " '__rsub__',\n",
       " '__rtruediv__',\n",
       " '__rxor__',\n",
       " '__setattr__',\n",
       " '__sizeof__',\n",
       " '__str__',\n",
       " '__sub__',\n",
       " '__subclasshook__',\n",
       " '__truediv__',\n",
       " '__trunc__',\n",
       " '__xor__',\n",
       " 'as_integer_ratio',\n",
       " 'bit_length',\n",
       " 'conjugate',\n",
       " 'denominator',\n",
       " 'from_bytes',\n",
       " 'imag',\n",
       " 'numerator',\n",
       " 'real',\n",
       " 'to_bytes']"
      ]
     },
     "execution_count": 5,
     "metadata": {},
     "output_type": "execute_result"
    }
   ],
   "source": [
    "dir(int)"
   ]
  },
  {
   "cell_type": "code",
   "execution_count": 18,
   "id": "6117351e",
   "metadata": {},
   "outputs": [
    {
     "name": "stdout",
     "output_type": "stream",
     "text": [
      "[1, 2]\n"
     ]
    }
   ],
   "source": [
    "match [1,2]:\n",
    "    case int()|[_,_] as a:\n",
    "        print(a)"
   ]
  },
  {
   "cell_type": "code",
   "execution_count": 21,
   "id": "17e3f704",
   "metadata": {},
   "outputs": [
    {
     "name": "stdout",
     "output_type": "stream",
     "text": [
      "ok\n"
     ]
    }
   ],
   "source": [
    "match 1,2,:\n",
    "    case [1,2]:\n",
    "        print(\"ok\")"
   ]
  },
  {
   "cell_type": "code",
   "execution_count": 22,
   "id": "f690ea56",
   "metadata": {
    "collapsed": true
   },
   "outputs": [
    {
     "name": "stdout",
     "output_type": "stream",
     "text": [
      "Help on class zip in module builtins:\n",
      "\n",
      "class zip(object)\n",
      " |  zip(*iterables, strict=False) --> Yield tuples until an input is exhausted.\n",
      " |  \n",
      " |     >>> list(zip('abcdefg', range(3), range(4)))\n",
      " |     [('a', 0, 0), ('b', 1, 1), ('c', 2, 2)]\n",
      " |  \n",
      " |  The zip object yields n-length tuples, where n is the number of iterables\n",
      " |  passed as positional arguments to zip().  The i-th element in every tuple\n",
      " |  comes from the i-th iterable argument to zip().  This continues until the\n",
      " |  shortest argument is exhausted.\n",
      " |  \n",
      " |  If strict is true and one of the arguments is exhausted before the others,\n",
      " |  raise a ValueError.\n",
      " |  \n",
      " |  Methods defined here:\n",
      " |  \n",
      " |  __getattribute__(self, name, /)\n",
      " |      Return getattr(self, name).\n",
      " |  \n",
      " |  __iter__(self, /)\n",
      " |      Implement iter(self).\n",
      " |  \n",
      " |  __next__(self, /)\n",
      " |      Implement next(self).\n",
      " |  \n",
      " |  __reduce__(...)\n",
      " |      Return state information for pickling.\n",
      " |  \n",
      " |  __setstate__(...)\n",
      " |      Set state information for unpickling.\n",
      " |  \n",
      " |  ----------------------------------------------------------------------\n",
      " |  Static methods defined here:\n",
      " |  \n",
      " |  __new__(*args, **kwargs) from builtins.type\n",
      " |      Create and return a new object.  See help(type) for accurate signature.\n",
      "\n"
     ]
    }
   ],
   "source": [
    "help(zip)"
   ]
  },
  {
   "cell_type": "code",
   "execution_count": 23,
   "id": "bc8c29a7",
   "metadata": {},
   "outputs": [],
   "source": [
    "from itertools import zip_longest"
   ]
  },
  {
   "cell_type": "code",
   "execution_count": 28,
   "id": "8ec129f4",
   "metadata": {},
   "outputs": [],
   "source": [
    "xs = [1,2,3]\n",
    "ys = [3,4,5,6]"
   ]
  },
  {
   "cell_type": "code",
   "execution_count": 30,
   "id": "516c1a5a",
   "metadata": {},
   "outputs": [
    {
     "name": "stdout",
     "output_type": "stream",
     "text": [
      "(1, 3)\n",
      "(2, 4)\n",
      "(3, 5)\n"
     ]
    }
   ],
   "source": [
    "for x in zip(xs,ys, strict=False):\n",
    "    print(x)"
   ]
  },
  {
   "cell_type": "code",
   "execution_count": 32,
   "id": "034b2c49",
   "metadata": {},
   "outputs": [
    {
     "data": {
      "text/plain": [
       "{'a': 1}"
      ]
     },
     "execution_count": 32,
     "metadata": {},
     "output_type": "execute_result"
    }
   ],
   "source": [
    "{}|dict(a=1)"
   ]
  },
  {
   "cell_type": "code",
   "execution_count": 33,
   "id": "c797a455",
   "metadata": {},
   "outputs": [],
   "source": [
    "xs = [1,2,3]"
   ]
  },
  {
   "cell_type": "code",
   "execution_count": 34,
   "id": "dd72f65a",
   "metadata": {},
   "outputs": [
    {
     "data": {
      "text/plain": [
       "[3, 2, 1]"
      ]
     },
     "execution_count": 34,
     "metadata": {},
     "output_type": "execute_result"
    }
   ],
   "source": [
    "xs[::-1]"
   ]
  },
  {
   "cell_type": "code",
   "execution_count": 35,
   "id": "7d441f00",
   "metadata": {},
   "outputs": [],
   "source": [
    "s = \"asdf\""
   ]
  },
  {
   "cell_type": "code",
   "execution_count": 36,
   "id": "fb11e0d4",
   "metadata": {},
   "outputs": [
    {
     "data": {
      "text/plain": [
       "'fdsa'"
      ]
     },
     "execution_count": 36,
     "metadata": {},
     "output_type": "execute_result"
    }
   ],
   "source": [
    "s[::-1]"
   ]
  },
  {
   "cell_type": "code",
   "execution_count": 43,
   "id": "7f6a0506",
   "metadata": {},
   "outputs": [
    {
     "data": {
      "text/plain": [
       "'fdsa'"
      ]
     },
     "execution_count": 43,
     "metadata": {},
     "output_type": "execute_result"
    }
   ],
   "source": [
    "''.join(reversed(s))"
   ]
  },
  {
   "cell_type": "code",
   "execution_count": 46,
   "id": "1475f71f",
   "metadata": {},
   "outputs": [],
   "source": [
    "import timeit\n",
    "import time"
   ]
  },
  {
   "cell_type": "code",
   "execution_count": 40,
   "id": "5ade30ce",
   "metadata": {},
   "outputs": [
    {
     "data": {
      "text/plain": [
       "1.6790592860197648"
      ]
     },
     "execution_count": 40,
     "metadata": {},
     "output_type": "execute_result"
    }
   ],
   "source": [
    "timeit.timeit(stmt=\"xs[::-1]\",setup=\"xs='abcdefghikjlmnokp'*10\",number=10000000)"
   ]
  },
  {
   "cell_type": "code",
   "execution_count": 47,
   "id": "e9d96cbd",
   "metadata": {},
   "outputs": [
    {
     "name": "stdout",
     "output_type": "stream",
     "text": [
      "elapsed 25.270197828067467\n"
     ]
    }
   ],
   "source": [
    "begin = time.perf_counter()\n",
    "\n",
    "\n",
    "timeit.timeit(stmt=\"''.join(reversed(xs))\",setup=\"xs='abcdefghikjlmnokp'*10\",number=10000000)\n",
    "print(f\"elapsed {time.perf_counter() - begin}\")"
   ]
  },
  {
   "cell_type": "code",
   "execution_count": 44,
   "id": "ac63c02c",
   "metadata": {},
   "outputs": [
    {
     "name": "stdout",
     "output_type": "stream",
     "text": [
      "Help on function timeit in module timeit:\n",
      "\n",
      "timeit(stmt='pass', setup='pass', timer=<built-in function perf_counter>, number=1000000, globals=None)\n",
      "    Convenience function to create Timer object and call timeit method.\n",
      "\n"
     ]
    }
   ],
   "source": [
    "help(timeit.timeit)"
   ]
  },
  {
   "cell_type": "code",
   "execution_count": 45,
   "id": "f92d5fc2",
   "metadata": {},
   "outputs": [
    {
     "ename": "ModuleNotFoundError",
     "evalue": "No module named 'perf'",
     "output_type": "error",
     "traceback": [
      "\u001b[0;31m---------------------------------------------------------------------------\u001b[0m",
      "\u001b[0;31mModuleNotFoundError\u001b[0m                       Traceback (most recent call last)",
      "Cell \u001b[0;32mIn[45], line 1\u001b[0m\n\u001b[0;32m----> 1\u001b[0m \u001b[38;5;28;01mimport\u001b[39;00m \u001b[38;5;21;01mperf\u001b[39;00m\n",
      "\u001b[0;31mModuleNotFoundError\u001b[0m: No module named 'perf'"
     ]
    }
   ],
   "source": []
  },
  {
   "cell_type": "code",
   "execution_count": 49,
   "id": "0d793936",
   "metadata": {},
   "outputs": [],
   "source": [
    "import abc"
   ]
  },
  {
   "cell_type": "code",
   "execution_count": 50,
   "id": "c4cae4a1",
   "metadata": {},
   "outputs": [],
   "source": [
    "class A(abc.ABC):\n",
    "    pass\n",
    "    "
   ]
  },
  {
   "cell_type": "code",
   "execution_count": 52,
   "id": "bdc0c6df",
   "metadata": {},
   "outputs": [
    {
     "data": {
      "text/plain": [
       "type"
      ]
     },
     "execution_count": 52,
     "metadata": {},
     "output_type": "execute_result"
    }
   ],
   "source": [
    "type(abc.ABCMeta)"
   ]
  },
  {
   "cell_type": "code",
   "execution_count": 54,
   "id": "7083177c",
   "metadata": {},
   "outputs": [
    {
     "data": {
      "text/plain": [
       "abc.ABCMeta"
      ]
     },
     "execution_count": 54,
     "metadata": {},
     "output_type": "execute_result"
    }
   ],
   "source": [
    "type(abc.ABC)"
   ]
  },
  {
   "cell_type": "code",
   "execution_count": 55,
   "id": "b9e3b4e1",
   "metadata": {},
   "outputs": [],
   "source": [
    "import numbers"
   ]
  },
  {
   "cell_type": "code",
   "execution_count": 67,
   "id": "59fcb1ac",
   "metadata": {},
   "outputs": [],
   "source": [
    "class A:\n",
    "    def hello(self):\n",
    "        print(\"hello\")\n",
    "    def f(self):\n",
    "        print(\"f\")\n",
    "    "
   ]
  },
  {
   "cell_type": "code",
   "execution_count": 68,
   "id": "3ae3bf6d",
   "metadata": {},
   "outputs": [],
   "source": [
    "a = A()"
   ]
  },
  {
   "cell_type": "code",
   "execution_count": 70,
   "id": "3fff809c",
   "metadata": {},
   "outputs": [
    {
     "name": "stdout",
     "output_type": "stream",
     "text": [
      "hello\n"
     ]
    }
   ],
   "source": [
    "a.hello.__self__.hello.__self__.hello()"
   ]
  },
  {
   "cell_type": "code",
   "execution_count": 87,
   "id": "93bf768d",
   "metadata": {},
   "outputs": [
    {
     "name": "stdout",
     "output_type": "stream",
     "text": [
      "Help on built-in function print in module builtins:\n",
      "\n",
      "print(...)\n",
      "    print(value, ..., sep=' ', end='\\n', file=sys.stdout, flush=False)\n",
      "    \n",
      "    Prints the values to a stream, or to sys.stdout by default.\n",
      "    Optional keyword arguments:\n",
      "    file:  a file-like object (stream); defaults to the current sys.stdout.\n",
      "    sep:   string inserted between values, default a space.\n",
      "    end:   string appended after the last value, default a newline.\n",
      "    flush: whether to forcibly flush the stream.\n",
      "\n"
     ]
    }
   ],
   "source": [
    "help(print)"
   ]
  },
  {
   "cell_type": "code",
   "execution_count": 72,
   "id": "1e729542",
   "metadata": {},
   "outputs": [],
   "source": [
    "c = d = []"
   ]
  },
  {
   "cell_type": "code",
   "execution_count": 73,
   "id": "152a82ce",
   "metadata": {},
   "outputs": [
    {
     "data": {
      "text/plain": [
       "[]"
      ]
     },
     "execution_count": 73,
     "metadata": {},
     "output_type": "execute_result"
    }
   ],
   "source": [
    "c"
   ]
  },
  {
   "cell_type": "code",
   "execution_count": 74,
   "id": "4b65805a",
   "metadata": {},
   "outputs": [
    {
     "data": {
      "text/plain": [
       "[]"
      ]
     },
     "execution_count": 74,
     "metadata": {},
     "output_type": "execute_result"
    }
   ],
   "source": [
    "d"
   ]
  },
  {
   "cell_type": "code",
   "execution_count": 77,
   "id": "b145bf23",
   "metadata": {},
   "outputs": [],
   "source": [
    "if c:=[]:\n",
    "    print(\"ooo\")"
   ]
  },
  {
   "cell_type": "code",
   "execution_count": 78,
   "id": "d677f578",
   "metadata": {},
   "outputs": [],
   "source": [
    "import sys"
   ]
  },
  {
   "cell_type": "code",
   "execution_count": 81,
   "id": "c35d48c2",
   "metadata": {
    "scrolled": true
   },
   "outputs": [],
   "source": [
    "m = sys.modules['re']"
   ]
  },
  {
   "cell_type": "code",
   "execution_count": 84,
   "id": "d63d3ca1",
   "metadata": {},
   "outputs": [],
   "source": [
    "f = getattr(m, 'compile')"
   ]
  },
  {
   "cell_type": "code",
   "execution_count": 86,
   "id": "7d2488b6",
   "metadata": {
    "collapsed": true
   },
   "outputs": [
    {
     "data": {
      "text/plain": [
       "{}"
      ]
     },
     "execution_count": 86,
     "metadata": {},
     "output_type": "execute_result"
    }
   ],
   "source": [
    "f.__annotations__"
   ]
  },
  {
   "cell_type": "code",
   "execution_count": 88,
   "id": "25e11143",
   "metadata": {},
   "outputs": [
    {
     "data": {
      "text/plain": [
       "''"
      ]
     },
     "execution_count": 88,
     "metadata": {},
     "output_type": "execute_result"
    }
   ],
   "source": [
    "m.__package__"
   ]
  },
  {
   "cell_type": "code",
   "execution_count": 89,
   "id": "8a9c4de9",
   "metadata": {},
   "outputs": [],
   "source": [
    "import os.path as p"
   ]
  },
  {
   "cell_type": "code",
   "execution_count": 90,
   "id": "3907f112",
   "metadata": {},
   "outputs": [
    {
     "data": {
      "text/plain": [
       "''"
      ]
     },
     "execution_count": 90,
     "metadata": {},
     "output_type": "execute_result"
    }
   ],
   "source": [
    "p.__package__"
   ]
  },
  {
   "cell_type": "code",
   "execution_count": 91,
   "id": "679a3c63",
   "metadata": {},
   "outputs": [
    {
     "data": {
      "text/plain": [
       "<module 'posixpath' from '/Users/junix/miniconda3/envs/py310/lib/python3.10/posixpath.py'>"
      ]
     },
     "execution_count": 91,
     "metadata": {},
     "output_type": "execute_result"
    }
   ],
   "source": [
    "p"
   ]
  },
  {
   "cell_type": "code",
   "execution_count": 92,
   "id": "593eb9ce",
   "metadata": {},
   "outputs": [
    {
     "data": {
      "text/plain": [
       "'posixpath'"
      ]
     },
     "execution_count": 92,
     "metadata": {},
     "output_type": "execute_result"
    }
   ],
   "source": [
    "p.__name__"
   ]
  },
  {
   "cell_type": "code",
   "execution_count": 94,
   "id": "1c6a6086",
   "metadata": {},
   "outputs": [
    {
     "data": {
      "text/plain": [
       "'__main__'"
      ]
     },
     "execution_count": 94,
     "metadata": {},
     "output_type": "execute_result"
    }
   ],
   "source": [
    "__name__"
   ]
  },
  {
   "cell_type": "code",
   "execution_count": 95,
   "id": "c95332eb",
   "metadata": {
    "collapsed": true
   },
   "outputs": [
    {
     "data": {
      "text/plain": [
       "{'__name__': '__main__',\n",
       " '__doc__': 'Automatically created module for IPython interactive environment',\n",
       " '__package__': None,\n",
       " '__loader__': None,\n",
       " '__spec__': None,\n",
       " '__builtin__': <module 'builtins' (built-in)>,\n",
       " '__builtins__': <module 'builtins' (built-in)>,\n",
       " '_ih': ['',\n",
       "  'match 1:\\n    case int() as v:\\n        print(v)',\n",
       "  'match 1:\\n    case int() as v:\\n        print(v)',\n",
       "  'match 1:\\n    case int(v) as v:\\n        print(v)',\n",
       "  'match 1:\\n    case int(o) as v:\\n        print(o,v)',\n",
       "  'match 1:\\n    case int()|str() as v:\\n        print(v)',\n",
       "  'match 1:\\n    case (int()|str()) as v:\\n        print(v)',\n",
       "  'match \"hello\":\\n    case (int()|str()) as v:\\n        print(v)',\n",
       "  'match \"hello\":\\n    case (int(a)|str(b)) as v:\\n        print(v)',\n",
       "  'match \"hello\":\\n    case (int(a)|str(a)) as v:\\n        print(v)',\n",
       "  'match \"hello\":\\n    case (int(a)|str(a)):\\n        print(a)',\n",
       "  'match \"hello\":\\n    case (int()|str()) as a:\\n        print(a)',\n",
       "  'match \"hello\":\\n    case int()|str() as a:\\n        print(a)',\n",
       "  'match \"hello\":\\n    case int()as x|str() as a:\\n        print(a)',\n",
       "  'match \"hello\":\\n    case int()|[a,b] as a:\\n        print(a)',\n",
       "  'match \"hello\":\\n    case int()|[_,_] as a:\\n        print(a)',\n",
       "  'match \"ab\":\\n    case int()|[_,_] as a:\\n        print(a)',\n",
       "  'match [1,2]:\\n    case int()|[_,_] as a:\\n        print(a)',\n",
       "  'match [1,2]:\\n    case int()|[_,_] as a:\\n        print(a)',\n",
       "  '|',\n",
       "  '1,2,',\n",
       "  'match 1,2,:\\n    case [1,2]:\\n        print(\"ok\")',\n",
       "  'help(zip)',\n",
       "  'from itertools import zip_longest',\n",
       "  'xs = [1,2,3]\\nys = [3,4,5]',\n",
       "  'zip(xs,ys)',\n",
       "  'for x in zip(xs,ys):\\n    print(x)',\n",
       "  'for x in zip(xs,ys, strict=True):\\n    print(x)',\n",
       "  'xs = [1,2,3]\\nys = [3,4,5,6]',\n",
       "  'for x in zip(xs,ys, strict=True):\\n    print(x)',\n",
       "  'for x in zip(xs,ys, strict=False):\\n    print(x)',\n",
       "  'int.mro',\n",
       "  '{}|dict(a=1)',\n",
       "  'xs = [1,2,3]',\n",
       "  'xs[::-1]',\n",
       "  's = \"asdf\"',\n",
       "  's[::-1]',\n",
       "  'import timeit',\n",
       "  'timeit.timeit(stmt=\"xs[::-1]\",setup=\"xs=\\'abcdefghikjlmnokp\\'*10\")',\n",
       "  'timeit.timeit(stmt=\"xs[::-1]\",setup=\"xs=\\'abcdefghikjlmnokp\\'*10\",number=100000)',\n",
       "  'timeit.timeit(stmt=\"xs[::-1]\",setup=\"xs=\\'abcdefghikjlmnokp\\'*10\",number=10000000)',\n",
       "  'timeit.timeit(stmt=\"\\'\\'.join(reversed(xs))\",setup=\"xs=\\'abcdefghikjlmnokp\\'*10\",number=10000000)',\n",
       "  'reversed(s)',\n",
       "  \"''.join(reversed(s))\",\n",
       "  'help(timeit.timeit)',\n",
       "  'import perf',\n",
       "  'import timeit\\nimport time',\n",
       "  'begin = time.perf_counter()\\n\\n\\ntimeit.timeit(stmt=\"\\'\\'.join(reversed(xs))\",setup=\"xs=\\'abcdefghikjlmnokp\\'*10\",number=10000000)\\nprint(f\"elapsed {time.perf_counter() - begin}\")',\n",
       "  'from abc import ABC',\n",
       "  'import abc',\n",
       "  'class A(abc.ABC):\\n    pass\\n    ',\n",
       "  'type(abc.ABC)',\n",
       "  'type(abc.ABCMeta)',\n",
       "  'type(A)',\n",
       "  'type(abc.ABC)',\n",
       "  'import numbers',\n",
       "  'class A:pass',\n",
       "  'class A:\\n    def hello(self):\\n        pass',\n",
       "  'a = A',\n",
       "  'a = A()',\n",
       "  'a.hello',\n",
       "  'a.hello.__self__',\n",
       "  'class A:\\n    def hello(self):\\n        print(\"hello\")\\n    ',\n",
       "  'class A:\\n    def hello(self):\\n        print(\"hello\")\\n    def f():\\n        print(\"f\")\\n    ',\n",
       "  'a = A()',\n",
       "  'a.hello.__self__',\n",
       "  'a.hello.__self__.f()',\n",
       "  'class A:\\n    def hello(self):\\n        print(\"hello\")\\n    def f(self):\\n        print(\"f\")\\n    ',\n",
       "  'a = A()',\n",
       "  'a.hello.__self__.f()',\n",
       "  'a.hello.__self__.hello.__self__.hello()',\n",
       "  'help(print)',\n",
       "  'c = d = []',\n",
       "  'c',\n",
       "  'd',\n",
       "  'c is d',\n",
       "  'if c=[]:\\n    print(\"ooo\")',\n",
       "  'if c:=[]:\\n    print(\"ooo\")',\n",
       "  'import sys',\n",
       "  'sys.modules',\n",
       "  \"sys.modules['re']\",\n",
       "  \"m = sys.modules['re']\",\n",
       "  'dir(m)',\n",
       "  \"getattr(m, 'compile')\",\n",
       "  \"f = getattr(m, 'compile')\",\n",
       "  'f',\n",
       "  'f.__annotations__',\n",
       "  'help(print)',\n",
       "  'm.__package__',\n",
       "  'import os.path as p',\n",
       "  'p.__package__',\n",
       "  'p',\n",
       "  'p.__name__',\n",
       "  '__main__',\n",
       "  '__name__',\n",
       "  'locals()'],\n",
       " '_oh': {20: (1, 2),\n",
       "  25: <zip at 0x7feb18e33640>,\n",
       "  31: <function int.mro()>,\n",
       "  32: {'a': 1},\n",
       "  34: [3, 2, 1],\n",
       "  36: 'fdsa',\n",
       "  38: 0.1749196060700342,\n",
       "  39: 0.017319430015049875,\n",
       "  40: 1.6790592860197648,\n",
       "  41: 25.649887284031138,\n",
       "  42: <reversed at 0x7feb289558a0>,\n",
       "  43: 'fdsa',\n",
       "  51: abc.ABCMeta,\n",
       "  52: type,\n",
       "  53: abc.ABCMeta,\n",
       "  54: abc.ABCMeta,\n",
       "  60: <bound method A.hello of <__main__.A object at 0x7feb28955630>>,\n",
       "  61: <__main__.A at 0x7feb28955630>,\n",
       "  65: <__main__.A at 0x7feb28954d00>,\n",
       "  73: [],\n",
       "  74: [],\n",
       "  75: True,\n",
       "  79: {'sys': <module 'sys' (built-in)>,\n",
       "   'builtins': <module 'builtins' (built-in)>,\n",
       "   '_frozen_importlib': <module '_frozen_importlib' (frozen)>,\n",
       "   '_imp': <module '_imp' (built-in)>,\n",
       "   '_thread': <module '_thread' (built-in)>,\n",
       "   '_warnings': <module '_warnings' (built-in)>,\n",
       "   '_weakref': <module '_weakref' (built-in)>,\n",
       "   '_io': <module '_io' (built-in)>,\n",
       "   'marshal': <module 'marshal' (built-in)>,\n",
       "   'posix': <module 'posix' (built-in)>,\n",
       "   '_frozen_importlib_external': <module '_frozen_importlib_external' (frozen)>,\n",
       "   'time': <module 'time' (built-in)>,\n",
       "   'zipimport': <module 'zipimport' (frozen)>,\n",
       "   '_codecs': <module '_codecs' (built-in)>,\n",
       "   'codecs': <module 'codecs' from '/Users/junix/miniconda3/envs/py310/lib/python3.10/codecs.py'>,\n",
       "   'encodings.aliases': <module 'encodings.aliases' from '/Users/junix/miniconda3/envs/py310/lib/python3.10/encodings/aliases.py'>,\n",
       "   'encodings': <module 'encodings' from '/Users/junix/miniconda3/envs/py310/lib/python3.10/encodings/__init__.py'>,\n",
       "   'encodings.utf_8': <module 'encodings.utf_8' from '/Users/junix/miniconda3/envs/py310/lib/python3.10/encodings/utf_8.py'>,\n",
       "   '_signal': <module '_signal' (built-in)>,\n",
       "   '_abc': <module '_abc' (built-in)>,\n",
       "   'abc': <module 'abc' from '/Users/junix/miniconda3/envs/py310/lib/python3.10/abc.py'>,\n",
       "   'io': <module 'io' from '/Users/junix/miniconda3/envs/py310/lib/python3.10/io.py'>,\n",
       "   '__main__': <module '__main__'>,\n",
       "   '_stat': <module '_stat' (built-in)>,\n",
       "   'stat': <module 'stat' from '/Users/junix/miniconda3/envs/py310/lib/python3.10/stat.py'>,\n",
       "   '_collections_abc': <module '_collections_abc' from '/Users/junix/miniconda3/envs/py310/lib/python3.10/_collections_abc.py'>,\n",
       "   'genericpath': <module 'genericpath' from '/Users/junix/miniconda3/envs/py310/lib/python3.10/genericpath.py'>,\n",
       "   'posixpath': <module 'posixpath' from '/Users/junix/miniconda3/envs/py310/lib/python3.10/posixpath.py'>,\n",
       "   'os.path': <module 'posixpath' from '/Users/junix/miniconda3/envs/py310/lib/python3.10/posixpath.py'>,\n",
       "   'os': <module 'os' from '/Users/junix/miniconda3/envs/py310/lib/python3.10/os.py'>,\n",
       "   '_sitebuiltins': <module '_sitebuiltins' from '/Users/junix/miniconda3/envs/py310/lib/python3.10/_sitebuiltins.py'>,\n",
       "   '_distutils_hack': <module '_distutils_hack' from '/Users/junix/miniconda3/envs/py310/lib/python3.10/site-packages/_distutils_hack/__init__.py'>,\n",
       "   'site': <module 'site' from '/Users/junix/miniconda3/envs/py310/lib/python3.10/site.py'>,\n",
       "   'importlib._bootstrap': <module '_frozen_importlib' (frozen)>,\n",
       "   'importlib._bootstrap_external': <module '_frozen_importlib_external' (frozen)>,\n",
       "   'warnings': <module 'warnings' from '/Users/junix/miniconda3/envs/py310/lib/python3.10/warnings.py'>,\n",
       "   'importlib': <module 'importlib' from '/Users/junix/miniconda3/envs/py310/lib/python3.10/importlib/__init__.py'>,\n",
       "   'importlib.machinery': <module 'importlib.machinery' from '/Users/junix/miniconda3/envs/py310/lib/python3.10/importlib/machinery.py'>,\n",
       "   'importlib._abc': <module 'importlib._abc' from '/Users/junix/miniconda3/envs/py310/lib/python3.10/importlib/_abc.py'>,\n",
       "   'itertools': <module 'itertools' (built-in)>,\n",
       "   'keyword': <module 'keyword' from '/Users/junix/miniconda3/envs/py310/lib/python3.10/keyword.py'>,\n",
       "   '_operator': <module '_operator' (built-in)>,\n",
       "   'operator': <module 'operator' from '/Users/junix/miniconda3/envs/py310/lib/python3.10/operator.py'>,\n",
       "   'reprlib': <module 'reprlib' from '/Users/junix/miniconda3/envs/py310/lib/python3.10/reprlib.py'>,\n",
       "   '_collections': <module '_collections' (built-in)>,\n",
       "   'collections': <module 'collections' from '/Users/junix/miniconda3/envs/py310/lib/python3.10/collections/__init__.py'>,\n",
       "   'types': <module 'types' from '/Users/junix/miniconda3/envs/py310/lib/python3.10/types.py'>,\n",
       "   '_functools': <module '_functools' (built-in)>,\n",
       "   'functools': <module 'functools' from '/Users/junix/miniconda3/envs/py310/lib/python3.10/functools.py'>,\n",
       "   'contextlib': <module 'contextlib' from '/Users/junix/miniconda3/envs/py310/lib/python3.10/contextlib.py'>,\n",
       "   'importlib.util': <module 'importlib.util' from '/Users/junix/miniconda3/envs/py310/lib/python3.10/importlib/util.py'>,\n",
       "   'runpy': <module 'runpy' from '/Users/junix/miniconda3/envs/py310/lib/python3.10/runpy.py'>,\n",
       "   'enum': <module 'enum' from '/Users/junix/miniconda3/envs/py310/lib/python3.10/enum.py'>,\n",
       "   '_sre': <module '_sre' (built-in)>,\n",
       "   'sre_constants': <module 'sre_constants' from '/Users/junix/miniconda3/envs/py310/lib/python3.10/sre_constants.py'>,\n",
       "   'sre_parse': <module 'sre_parse' from '/Users/junix/miniconda3/envs/py310/lib/python3.10/sre_parse.py'>,\n",
       "   'sre_compile': <module 'sre_compile' from '/Users/junix/miniconda3/envs/py310/lib/python3.10/sre_compile.py'>,\n",
       "   '_locale': <module '_locale' (built-in)>,\n",
       "   'copyreg': <module 'copyreg' from '/Users/junix/miniconda3/envs/py310/lib/python3.10/copyreg.py'>,\n",
       "   're': <module 're' from '/Users/junix/miniconda3/envs/py310/lib/python3.10/re.py'>,\n",
       "   'collections.abc': <module 'collections.abc' from '/Users/junix/miniconda3/envs/py310/lib/python3.10/collections/abc.py'>,\n",
       "   'typing.io': typing.io,\n",
       "   'typing.re': typing.re,\n",
       "   'typing': <module 'typing' from '/Users/junix/miniconda3/envs/py310/lib/python3.10/typing.py'>,\n",
       "   'ipykernel._version': <module 'ipykernel._version' from '/Users/junix/miniconda3/envs/py310/lib/python3.10/site-packages/ipykernel/_version.py'>,\n",
       "   '_json': <module '_json' from '/Users/junix/miniconda3/envs/py310/lib/python3.10/lib-dynload/_json.cpython-310-darwin.so'>,\n",
       "   'json.scanner': <module 'json.scanner' from '/Users/junix/miniconda3/envs/py310/lib/python3.10/json/scanner.py'>,\n",
       "   'json.decoder': <module 'json.decoder' from '/Users/junix/miniconda3/envs/py310/lib/python3.10/json/decoder.py'>,\n",
       "   'json.encoder': <module 'json.encoder' from '/Users/junix/miniconda3/envs/py310/lib/python3.10/json/encoder.py'>,\n",
       "   'json': <module 'json' from '/Users/junix/miniconda3/envs/py310/lib/python3.10/json/__init__.py'>,\n",
       "   'errno': <module 'errno' (built-in)>,\n",
       "   'signal': <module 'signal' from '/Users/junix/miniconda3/envs/py310/lib/python3.10/signal.py'>,\n",
       "   '_weakrefset': <module '_weakrefset' from '/Users/junix/miniconda3/envs/py310/lib/python3.10/_weakrefset.py'>,\n",
       "   'threading': <module 'threading' from '/Users/junix/miniconda3/envs/py310/lib/python3.10/threading.py'>,\n",
       "   'fcntl': <module 'fcntl' from '/Users/junix/miniconda3/envs/py310/lib/python3.10/lib-dynload/fcntl.cpython-310-darwin.so'>,\n",
       "   '_posixsubprocess': <module '_posixsubprocess' from '/Users/junix/miniconda3/envs/py310/lib/python3.10/lib-dynload/_posixsubprocess.cpython-310-darwin.so'>,\n",
       "   'select': <module 'select' from '/Users/junix/miniconda3/envs/py310/lib/python3.10/lib-dynload/select.cpython-310-darwin.so'>,\n",
       "   'math': <module 'math' from '/Users/junix/miniconda3/envs/py310/lib/python3.10/lib-dynload/math.cpython-310-darwin.so'>,\n",
       "   'selectors': <module 'selectors' from '/Users/junix/miniconda3/envs/py310/lib/python3.10/selectors.py'>,\n",
       "   'subprocess': <module 'subprocess' from '/Users/junix/miniconda3/envs/py310/lib/python3.10/subprocess.py'>,\n",
       "   'jupyter_client._version': <module 'jupyter_client._version' from '/Users/junix/miniconda3/envs/py310/lib/python3.10/site-packages/jupyter_client/_version.py'>,\n",
       "   '_ast': <module '_ast' (built-in)>,\n",
       "   'ast': <module 'ast' from '/Users/junix/miniconda3/envs/py310/lib/python3.10/ast.py'>,\n",
       "   '_opcode': <module '_opcode' from '/Users/junix/miniconda3/envs/py310/lib/python3.10/lib-dynload/_opcode.cpython-310-darwin.so'>,\n",
       "   'opcode': <module 'opcode' from '/Users/junix/miniconda3/envs/py310/lib/python3.10/opcode.py'>,\n",
       "   'dis': <module 'dis' from '/Users/junix/miniconda3/envs/py310/lib/python3.10/dis.py'>,\n",
       "   'token': <module 'token' from '/Users/junix/miniconda3/envs/py310/lib/python3.10/token.py'>,\n",
       "   'tokenize': <module 'tokenize' from '/Users/junix/miniconda3/envs/py310/lib/python3.10/tokenize.py'>,\n",
       "   'linecache': <module 'linecache' from '/Users/junix/miniconda3/envs/py310/lib/python3.10/linecache.py'>,\n",
       "   'inspect': <module 'inspect' from '/Users/junix/miniconda3/envs/py310/lib/python3.10/inspect.py'>,\n",
       "   'traitlets.utils': <module 'traitlets.utils' from '/Users/junix/miniconda3/envs/py310/lib/python3.10/site-packages/traitlets/utils/__init__.py'>,\n",
       "   'traitlets.utils.bunch': <module 'traitlets.utils.bunch' from '/Users/junix/miniconda3/envs/py310/lib/python3.10/site-packages/traitlets/utils/bunch.py'>,\n",
       "   'traitlets.utils.descriptions': <module 'traitlets.utils.descriptions' from '/Users/junix/miniconda3/envs/py310/lib/python3.10/site-packages/traitlets/utils/descriptions.py'>,\n",
       "   'traitlets.utils.getargspec': <module 'traitlets.utils.getargspec' from '/Users/junix/miniconda3/envs/py310/lib/python3.10/site-packages/traitlets/utils/getargspec.py'>,\n",
       "   'traitlets.utils.importstring': <module 'traitlets.utils.importstring' from '/Users/junix/miniconda3/envs/py310/lib/python3.10/site-packages/traitlets/utils/importstring.py'>,\n",
       "   'traitlets.utils.sentinel': <module 'traitlets.utils.sentinel' from '/Users/junix/miniconda3/envs/py310/lib/python3.10/site-packages/traitlets/utils/sentinel.py'>,\n",
       "   'traitlets.traitlets': <module 'traitlets.traitlets' from '/Users/junix/miniconda3/envs/py310/lib/python3.10/site-packages/traitlets/traitlets.py'>,\n",
       "   'traitlets._version': <module 'traitlets._version' from '/Users/junix/miniconda3/envs/py310/lib/python3.10/site-packages/traitlets/_version.py'>,\n",
       "   'weakref': <module 'weakref' from '/Users/junix/miniconda3/envs/py310/lib/python3.10/weakref.py'>,\n",
       "   'copy': <module 'copy' from '/Users/junix/miniconda3/envs/py310/lib/python3.10/copy.py'>,\n",
       "   'traitlets.utils.decorators': <module 'traitlets.utils.decorators' from '/Users/junix/miniconda3/envs/py310/lib/python3.10/site-packages/traitlets/utils/decorators.py'>,\n",
       "   'traitlets': <module 'traitlets' from '/Users/junix/miniconda3/envs/py310/lib/python3.10/site-packages/traitlets/__init__.py'>,\n",
       "   'concurrent': <module 'concurrent' from '/Users/junix/miniconda3/envs/py310/lib/python3.10/concurrent/__init__.py'>,\n",
       "   'traceback': <module 'traceback' from '/Users/junix/miniconda3/envs/py310/lib/python3.10/traceback.py'>,\n",
       "   '_string': <module '_string' (built-in)>,\n",
       "   'string': <module 'string' from '/Users/junix/miniconda3/envs/py310/lib/python3.10/string.py'>,\n",
       "   'atexit': <module 'atexit' (built-in)>,\n",
       "   'logging': <module 'logging' from '/Users/junix/miniconda3/envs/py310/lib/python3.10/logging/__init__.py'>,\n",
       "   'concurrent.futures._base': <module 'concurrent.futures._base' from '/Users/junix/miniconda3/envs/py310/lib/python3.10/concurrent/futures/_base.py'>,\n",
       "   'concurrent.futures': <module 'concurrent.futures' from '/Users/junix/miniconda3/envs/py310/lib/python3.10/concurrent/futures/__init__.py'>,\n",
       "   '_heapq': <module '_heapq' from '/Users/junix/miniconda3/envs/py310/lib/python3.10/lib-dynload/_heapq.cpython-310-darwin.so'>,\n",
       "   'heapq': <module 'heapq' from '/Users/junix/miniconda3/envs/py310/lib/python3.10/heapq.py'>,\n",
       "   '_socket': <module '_socket' from '/Users/junix/miniconda3/envs/py310/lib/python3.10/lib-dynload/_socket.cpython-310-darwin.so'>,\n",
       "   'array': <module 'array' from '/Users/junix/miniconda3/envs/py310/lib/python3.10/lib-dynload/array.cpython-310-darwin.so'>,\n",
       "   'socket': <module 'socket' from '/Users/junix/miniconda3/envs/py310/lib/python3.10/socket.py'>,\n",
       "   '_ssl': <module '_ssl' from '/Users/junix/miniconda3/envs/py310/lib/python3.10/lib-dynload/_ssl.cpython-310-darwin.so'>,\n",
       "   '_struct': <module '_struct' from '/Users/junix/miniconda3/envs/py310/lib/python3.10/lib-dynload/_struct.cpython-310-darwin.so'>,\n",
       "   'struct': <module 'struct' from '/Users/junix/miniconda3/envs/py310/lib/python3.10/struct.py'>,\n",
       "   'binascii': <module 'binascii' from '/Users/junix/miniconda3/envs/py310/lib/python3.10/lib-dynload/binascii.cpython-310-darwin.so'>,\n",
       "   'base64': <module 'base64' from '/Users/junix/miniconda3/envs/py310/lib/python3.10/base64.py'>,\n",
       "   'ssl': <module 'ssl' from '/Users/junix/miniconda3/envs/py310/lib/python3.10/ssl.py'>,\n",
       "   'asyncio.constants': <module 'asyncio.constants' from '/Users/junix/miniconda3/envs/py310/lib/python3.10/asyncio/constants.py'>,\n",
       "   'asyncio.format_helpers': <module 'asyncio.format_helpers' from '/Users/junix/miniconda3/envs/py310/lib/python3.10/asyncio/format_helpers.py'>,\n",
       "   'asyncio.base_futures': <module 'asyncio.base_futures' from '/Users/junix/miniconda3/envs/py310/lib/python3.10/asyncio/base_futures.py'>,\n",
       "   'asyncio.log': <module 'asyncio.log' from '/Users/junix/miniconda3/envs/py310/lib/python3.10/asyncio/log.py'>,\n",
       "   'asyncio.coroutines': <module 'asyncio.coroutines' from '/Users/junix/miniconda3/envs/py310/lib/python3.10/asyncio/coroutines.py'>,\n",
       "   '_contextvars': <module '_contextvars' from '/Users/junix/miniconda3/envs/py310/lib/python3.10/lib-dynload/_contextvars.cpython-310-darwin.so'>,\n",
       "   'contextvars': <module 'contextvars' from '/Users/junix/miniconda3/envs/py310/lib/python3.10/contextvars.py'>,\n",
       "   'asyncio.exceptions': <module 'asyncio.exceptions' from '/Users/junix/miniconda3/envs/py310/lib/python3.10/asyncio/exceptions.py'>,\n",
       "   'asyncio.base_tasks': <module 'asyncio.base_tasks' from '/Users/junix/miniconda3/envs/py310/lib/python3.10/asyncio/base_tasks.py'>,\n",
       "   '_asyncio': <module '_asyncio' from '/Users/junix/miniconda3/envs/py310/lib/python3.10/lib-dynload/_asyncio.cpython-310-darwin.so'>,\n",
       "   'asyncio.events': <module 'asyncio.events' from '/Users/junix/miniconda3/envs/py310/lib/python3.10/asyncio/events.py'>,\n",
       "   'asyncio.futures': <module 'asyncio.futures' from '/Users/junix/miniconda3/envs/py310/lib/python3.10/asyncio/futures.py'>,\n",
       "   'asyncio.protocols': <module 'asyncio.protocols' from '/Users/junix/miniconda3/envs/py310/lib/python3.10/asyncio/protocols.py'>,\n",
       "   'asyncio.transports': <module 'asyncio.transports' from '/Users/junix/miniconda3/envs/py310/lib/python3.10/asyncio/transports.py'>,\n",
       "   'asyncio.sslproto': <module 'asyncio.sslproto' from '/Users/junix/miniconda3/envs/py310/lib/python3.10/asyncio/sslproto.py'>,\n",
       "   'asyncio.mixins': <module 'asyncio.mixins' from '/Users/junix/miniconda3/envs/py310/lib/python3.10/asyncio/mixins.py'>,\n",
       "   'asyncio.tasks': <module 'asyncio.tasks' from '/Users/junix/miniconda3/envs/py310/lib/python3.10/asyncio/tasks.py'>,\n",
       "   'asyncio.locks': <module 'asyncio.locks' from '/Users/junix/miniconda3/envs/py310/lib/python3.10/asyncio/locks.py'>,\n",
       "   'asyncio.staggered': <module 'asyncio.staggered' from '/Users/junix/miniconda3/envs/py310/lib/python3.10/asyncio/staggered.py'>,\n",
       "   'asyncio.trsock': <module 'asyncio.trsock' from '/Users/junix/miniconda3/envs/py310/lib/python3.10/asyncio/trsock.py'>,\n",
       "   'asyncio.base_events': <module 'asyncio.base_events' from '/Users/junix/miniconda3/envs/py310/lib/python3.10/asyncio/base_events.py'>,\n",
       "   'asyncio.runners': <module 'asyncio.runners' from '/Users/junix/miniconda3/envs/py310/lib/python3.10/asyncio/runners.py'>,\n",
       "   'asyncio.queues': <module 'asyncio.queues' from '/Users/junix/miniconda3/envs/py310/lib/python3.10/asyncio/queues.py'>,\n",
       "   'asyncio.streams': <module 'asyncio.streams' from '/Users/junix/miniconda3/envs/py310/lib/python3.10/asyncio/streams.py'>,\n",
       "   'asyncio.subprocess': <module 'asyncio.subprocess' from '/Users/junix/miniconda3/envs/py310/lib/python3.10/asyncio/subprocess.py'>,\n",
       "   'asyncio.threads': <module 'asyncio.threads' from '/Users/junix/miniconda3/envs/py310/lib/python3.10/asyncio/threads.py'>,\n",
       "   'asyncio.base_subprocess': <module 'asyncio.base_subprocess' from '/Users/junix/miniconda3/envs/py310/lib/python3.10/asyncio/base_subprocess.py'>,\n",
       "   'asyncio.selector_events': <module 'asyncio.selector_events' from '/Users/junix/miniconda3/envs/py310/lib/python3.10/asyncio/selector_events.py'>,\n",
       "   'asyncio.unix_events': <module 'asyncio.unix_events' from '/Users/junix/miniconda3/envs/py310/lib/python3.10/asyncio/unix_events.py'>,\n",
       "   'asyncio': <module 'asyncio' from '/Users/junix/miniconda3/envs/py310/lib/python3.10/asyncio/__init__.py'>,\n",
       "   '_queue': <module '_queue' from '/Users/junix/miniconda3/envs/py310/lib/python3.10/lib-dynload/_queue.cpython-310-darwin.so'>,\n",
       "   'queue': <module 'queue' from '/Users/junix/miniconda3/envs/py310/lib/python3.10/queue.py'>,\n",
       "   'platform': <module 'platform' from '/Users/junix/miniconda3/envs/py310/lib/python3.10/platform.py'>,\n",
       "   '_ctypes': <module '_ctypes' from '/Users/junix/miniconda3/envs/py310/lib/python3.10/lib-dynload/_ctypes.cpython-310-darwin.so'>,\n",
       "   'ctypes._endian': <module 'ctypes._endian' from '/Users/junix/miniconda3/envs/py310/lib/python3.10/ctypes/_endian.py'>,\n",
       "   'ctypes': <module 'ctypes' from '/Users/junix/miniconda3/envs/py310/lib/python3.10/ctypes/__init__.py'>,\n",
       "   'zmq.backend.select': <module 'zmq.backend.select' from '/Users/junix/miniconda3/envs/py310/lib/python3.10/site-packages/zmq/backend/select.py'>,\n",
       "   '_cython_0_29_30': <module '_cython_0_29_30'>,\n",
       "   'cython_runtime': <module 'cython_runtime'>,\n",
       "   'zmq.error': <module 'zmq.error' from '/Users/junix/miniconda3/envs/py310/lib/python3.10/site-packages/zmq/error.py'>,\n",
       "   'zmq.backend.cython.context': <module 'zmq.backend.cython.context' from '/Users/junix/miniconda3/envs/py310/lib/python3.10/site-packages/zmq/backend/cython/context.cpython-310-darwin.so'>,\n",
       "   'zmq.backend.cython.message': <module 'zmq.backend.cython.message' from '/Users/junix/miniconda3/envs/py310/lib/python3.10/site-packages/zmq/backend/cython/message.cpython-310-darwin.so'>,\n",
       "   '_bisect': <module '_bisect' from '/Users/junix/miniconda3/envs/py310/lib/python3.10/lib-dynload/_bisect.cpython-310-darwin.so'>,\n",
       "   'bisect': <module 'bisect' from '/Users/junix/miniconda3/envs/py310/lib/python3.10/bisect.py'>,\n",
       "   '_random': <module '_random' from '/Users/junix/miniconda3/envs/py310/lib/python3.10/lib-dynload/_random.cpython-310-darwin.so'>,\n",
       "   '_sha512': <module '_sha512' from '/Users/junix/miniconda3/envs/py310/lib/python3.10/lib-dynload/_sha512.cpython-310-darwin.so'>,\n",
       "   'random': <module 'random' from '/Users/junix/miniconda3/envs/py310/lib/python3.10/random.py'>,\n",
       "   '_compat_pickle': <module '_compat_pickle' from '/Users/junix/miniconda3/envs/py310/lib/python3.10/_compat_pickle.py'>,\n",
       "   '_pickle': <module '_pickle' from '/Users/junix/miniconda3/envs/py310/lib/python3.10/lib-dynload/_pickle.cpython-310-darwin.so'>,\n",
       "   'pickle': <module 'pickle' from '/Users/junix/miniconda3/envs/py310/lib/python3.10/pickle.py'>,\n",
       "   'zmq.constants': <module 'zmq.constants' from '/Users/junix/miniconda3/envs/py310/lib/python3.10/site-packages/zmq/constants.py'>,\n",
       "   'zmq.backend.cython.socket': <module 'zmq.backend.cython.socket' from '/Users/junix/miniconda3/envs/py310/lib/python3.10/site-packages/zmq/backend/cython/socket.cpython-310-darwin.so'>,\n",
       "   'zmq.backend.cython._device': <module 'zmq.backend.cython._device' from '/Users/junix/miniconda3/envs/py310/lib/python3.10/site-packages/zmq/backend/cython/_device.cpython-310-darwin.so'>,\n",
       "   'zmq.backend.cython._poll': <module 'zmq.backend.cython._poll' from '/Users/junix/miniconda3/envs/py310/lib/python3.10/site-packages/zmq/backend/cython/_poll.cpython-310-darwin.so'>,\n",
       "   'zmq.backend.cython._proxy_steerable': <module 'zmq.backend.cython._proxy_steerable' from '/Users/junix/miniconda3/envs/py310/lib/python3.10/site-packages/zmq/backend/cython/_proxy_steerable.cpython-310-darwin.so'>,\n",
       "   'zmq.backend.cython._version': <module 'zmq.backend.cython._version' from '/Users/junix/miniconda3/envs/py310/lib/python3.10/site-packages/zmq/backend/cython/_version.cpython-310-darwin.so'>,\n",
       "   'zmq.backend.cython.error': <module 'zmq.backend.cython.error' from '/Users/junix/miniconda3/envs/py310/lib/python3.10/site-packages/zmq/backend/cython/error.cpython-310-darwin.so'>,\n",
       "   'zmq.backend.cython.utils': <module 'zmq.backend.cython.utils' from '/Users/junix/miniconda3/envs/py310/lib/python3.10/site-packages/zmq/backend/cython/utils.cpython-310-darwin.so'>,\n",
       "   'zmq.backend.cython': <module 'zmq.backend.cython' from '/Users/junix/miniconda3/envs/py310/lib/python3.10/site-packages/zmq/backend/cython/__init__.py'>,\n",
       "   'zmq.backend': <module 'zmq.backend' from '/Users/junix/miniconda3/envs/py310/lib/python3.10/site-packages/zmq/backend/__init__.py'>,\n",
       "   'zmq.sugar.attrsettr': <module 'zmq.sugar.attrsettr' from '/Users/junix/miniconda3/envs/py310/lib/python3.10/site-packages/zmq/sugar/attrsettr.py'>,\n",
       "   'zmq._typing': <module 'zmq._typing' from '/Users/junix/miniconda3/envs/py310/lib/python3.10/site-packages/zmq/_typing.py'>,\n",
       "   'zmq.utils': <module 'zmq.utils' from '/Users/junix/miniconda3/envs/py310/lib/python3.10/site-packages/zmq/utils/__init__.py'>,\n",
       "   'zmq.utils.jsonapi': <module 'zmq.utils.jsonapi' from '/Users/junix/miniconda3/envs/py310/lib/python3.10/site-packages/zmq/utils/jsonapi.py'>,\n",
       "   'zmq.sugar.poll': <module 'zmq.sugar.poll' from '/Users/junix/miniconda3/envs/py310/lib/python3.10/site-packages/zmq/sugar/poll.py'>,\n",
       "   'zmq.sugar.socket': <module 'zmq.sugar.socket' from '/Users/junix/miniconda3/envs/py310/lib/python3.10/site-packages/zmq/sugar/socket.py'>,\n",
       "   'zmq.sugar.context': <module 'zmq.sugar.context' from '/Users/junix/miniconda3/envs/py310/lib/python3.10/site-packages/zmq/sugar/context.py'>,\n",
       "   'zmq.sugar.frame': <module 'zmq.sugar.frame' from '/Users/junix/miniconda3/envs/py310/lib/python3.10/site-packages/zmq/sugar/frame.py'>,\n",
       "   'zmq.sugar.tracker': <module 'zmq.sugar.tracker' from '/Users/junix/miniconda3/envs/py310/lib/python3.10/site-packages/zmq/sugar/tracker.py'>,\n",
       "   'zmq.sugar.version': <module 'zmq.sugar.version' from '/Users/junix/miniconda3/envs/py310/lib/python3.10/site-packages/zmq/sugar/version.py'>,\n",
       "   'zmq.sugar.stopwatch': <module 'zmq.sugar.stopwatch' from '/Users/junix/miniconda3/envs/py310/lib/python3.10/site-packages/zmq/sugar/stopwatch.py'>,\n",
       "   'zmq.sugar': <module 'zmq.sugar' from '/Users/junix/miniconda3/envs/py310/lib/python3.10/site-packages/zmq/sugar/__init__.py'>,\n",
       "   'zmq': <module 'zmq' from '/Users/junix/miniconda3/envs/py310/lib/python3.10/site-packages/zmq/__init__.py'>,\n",
       "   'zmq._future': <module 'zmq._future' from '/Users/junix/miniconda3/envs/py310/lib/python3.10/site-packages/zmq/_future.py'>,\n",
       "   'zmq.asyncio': <module 'zmq.asyncio' from '/Users/junix/miniconda3/envs/py310/lib/python3.10/site-packages/zmq/asyncio.py'>,\n",
       "   'jupyter_client.channelsabc': <module 'jupyter_client.channelsabc' from '/Users/junix/miniconda3/envs/py310/lib/python3.10/site-packages/jupyter_client/channelsabc.py'>,\n",
       "   '_hashlib': <module '_hashlib' from '/Users/junix/miniconda3/envs/py310/lib/python3.10/lib-dynload/_hashlib.cpython-310-darwin.so'>,\n",
       "   '_blake2': <module '_blake2' from '/Users/junix/miniconda3/envs/py310/lib/python3.10/lib-dynload/_blake2.cpython-310-darwin.so'>,\n",
       "   'hashlib': <module 'hashlib' from '/Users/junix/miniconda3/envs/py310/lib/python3.10/hashlib.py'>,\n",
       "   'hmac': <module 'hmac' from '/Users/junix/miniconda3/envs/py310/lib/python3.10/hmac.py'>,\n",
       "   'dataclasses': <module 'dataclasses' from '/Users/junix/miniconda3/envs/py310/lib/python3.10/dataclasses.py'>,\n",
       "   'pprint': <module 'pprint' from '/Users/junix/miniconda3/envs/py310/lib/python3.10/pprint.py'>,\n",
       "   '_datetime': <module '_datetime' from '/Users/junix/miniconda3/envs/py310/lib/python3.10/lib-dynload/_datetime.cpython-310-darwin.so'>,\n",
       "   'datetime': <module 'datetime' from '/Users/junix/miniconda3/envs/py310/lib/python3.10/datetime.py'>,\n",
       "   'logging.handlers': <module 'logging.handlers' from '/Users/junix/miniconda3/envs/py310/lib/python3.10/logging/handlers.py'>,\n",
       "   'socketserver': <module 'socketserver' from '/Users/junix/miniconda3/envs/py310/lib/python3.10/socketserver.py'>,\n",
       "   'logging.config': <module 'logging.config' from '/Users/junix/miniconda3/envs/py310/lib/python3.10/logging/config.py'>,\n",
       "   'textwrap': <module 'textwrap' from '/Users/junix/miniconda3/envs/py310/lib/python3.10/textwrap.py'>,\n",
       "   'traitlets.utils.text': <module 'traitlets.utils.text' from '/Users/junix/miniconda3/envs/py310/lib/python3.10/site-packages/traitlets/utils/text.py'>,\n",
       "   'gettext': <module 'gettext' from '/Users/junix/miniconda3/envs/py310/lib/python3.10/gettext.py'>,\n",
       "   'argparse': <module 'argparse' from '/Users/junix/miniconda3/envs/py310/lib/python3.10/argparse.py'>,\n",
       "   'traitlets.config.loader': <module 'traitlets.config.loader' from '/Users/junix/miniconda3/envs/py310/lib/python3.10/site-packages/traitlets/config/loader.py'>,\n",
       "   'traitlets.config.configurable': <module 'traitlets.config.configurable' from '/Users/junix/miniconda3/envs/py310/lib/python3.10/site-packages/traitlets/config/configurable.py'>,\n",
       "   'traitlets.utils.nested_update': <module 'traitlets.utils.nested_update' from '/Users/junix/miniconda3/envs/py310/lib/python3.10/site-packages/traitlets/utils/nested_update.py'>,\n",
       "   'traitlets.config.application': <module 'traitlets.config.application' from '/Users/junix/miniconda3/envs/py310/lib/python3.10/site-packages/traitlets/config/application.py'>,\n",
       "   'traitlets.config': <module 'traitlets.config' from '/Users/junix/miniconda3/envs/py310/lib/python3.10/site-packages/traitlets/config/__init__.py'>,\n",
       "   'traitlets.log': <module 'traitlets.log' from '/Users/junix/miniconda3/envs/py310/lib/python3.10/site-packages/traitlets/log.py'>,\n",
       "   'tornado': <module 'tornado' from '/Users/junix/miniconda3/envs/py310/lib/python3.10/site-packages/tornado/__init__.py'>,\n",
       "   'numbers': <module 'numbers' from '/Users/junix/miniconda3/envs/py310/lib/python3.10/numbers.py'>,\n",
       "   'html.entities': <module 'html.entities' from '/Users/junix/miniconda3/envs/py310/lib/python3.10/html/entities.py'>,\n",
       "   'html': <module 'html' from '/Users/junix/miniconda3/envs/py310/lib/python3.10/html/__init__.py'>,\n",
       "   'urllib': <module 'urllib' from '/Users/junix/miniconda3/envs/py310/lib/python3.10/urllib/__init__.py'>,\n",
       "   'urllib.parse': <module 'urllib.parse' from '/Users/junix/miniconda3/envs/py310/lib/python3.10/urllib/parse.py'>,\n",
       "   'zlib': <module 'zlib' from '/Users/junix/miniconda3/envs/py310/lib/python3.10/lib-dynload/zlib.cpython-310-darwin.so'>,\n",
       "   'tornado.speedups': <module 'tornado.speedups' from '/Users/junix/miniconda3/envs/py310/lib/python3.10/site-packages/tornado/speedups.abi3.so'>,\n",
       "   'tornado.util': <module 'tornado.util' from '/Users/junix/miniconda3/envs/py310/lib/python3.10/site-packages/tornado/util.py'>,\n",
       "   'tornado.escape': <module 'tornado.escape' from '/Users/junix/miniconda3/envs/py310/lib/python3.10/site-packages/tornado/escape.py'>,\n",
       "   '_curses': <module '_curses' from '/Users/junix/miniconda3/envs/py310/lib/python3.10/lib-dynload/_curses.cpython-310-darwin.so'>,\n",
       "   'curses': <module 'curses' from '/Users/junix/miniconda3/envs/py310/lib/python3.10/curses/__init__.py'>,\n",
       "   'tornado.log': <module 'tornado.log' from '/Users/junix/miniconda3/envs/py310/lib/python3.10/site-packages/tornado/log.py'>,\n",
       "   'tornado.concurrent': <module 'tornado.concurrent' from '/Users/junix/miniconda3/envs/py310/lib/python3.10/site-packages/tornado/concurrent.py'>,\n",
       "   'tornado.ioloop': <module 'tornado.ioloop' from '/Users/junix/miniconda3/envs/py310/lib/python3.10/site-packages/tornado/ioloop.py'>,\n",
       "   'tornado.platform': <module 'tornado.platform' from '/Users/junix/miniconda3/envs/py310/lib/python3.10/site-packages/tornado/platform/__init__.py'>,\n",
       "   'tornado.gen': <module 'tornado.gen' from '/Users/junix/miniconda3/envs/py310/lib/python3.10/site-packages/tornado/gen.py'>,\n",
       "   'tornado.platform.asyncio': <module 'tornado.platform.asyncio' from '/Users/junix/miniconda3/envs/py310/lib/python3.10/site-packages/tornado/platform/asyncio.py'>,\n",
       "   'zmq.eventloop.ioloop': <module 'zmq.eventloop.ioloop' from '/Users/junix/miniconda3/envs/py310/lib/python3.10/site-packages/zmq/eventloop/ioloop.py'>,\n",
       "   'zmq.eventloop': <module 'zmq.eventloop' from '/Users/junix/miniconda3/envs/py310/lib/python3.10/site-packages/zmq/eventloop/__init__.py'>,\n",
       "   'zmq.eventloop.zmqstream': <module 'zmq.eventloop.zmqstream' from '/Users/junix/miniconda3/envs/py310/lib/python3.10/site-packages/zmq/eventloop/zmqstream.py'>,\n",
       "   'jupyter_client.adapter': <module 'jupyter_client.adapter' from '/Users/junix/miniconda3/envs/py310/lib/python3.10/site-packages/jupyter_client/adapter.py'>,\n",
       "   'dateutil._version': <module 'dateutil._version' from '/Users/junix/miniconda3/envs/py310/lib/python3.10/site-packages/dateutil/_version.py'>,\n",
       "   'dateutil': <module 'dateutil' from '/Users/junix/miniconda3/envs/py310/lib/python3.10/site-packages/dateutil/__init__.py'>,\n",
       "   '__future__': <module '__future__' from '/Users/junix/miniconda3/envs/py310/lib/python3.10/__future__.py'>,\n",
       "   'locale': <module 'locale' from '/Users/junix/miniconda3/envs/py310/lib/python3.10/locale.py'>,\n",
       "   'calendar': <module 'calendar' from '/Users/junix/miniconda3/envs/py310/lib/python3.10/calendar.py'>,\n",
       "   'six': <module 'six' from '/Users/junix/miniconda3/envs/py310/lib/python3.10/site-packages/six.py'>,\n",
       "   '_decimal': <module '_decimal' from '/Users/junix/miniconda3/envs/py310/lib/python3.10/lib-dynload/_decimal.cpython-310-darwin.so'>,\n",
       "   'decimal': <module 'decimal' from '/Users/junix/miniconda3/envs/py310/lib/python3.10/decimal.py'>,\n",
       "   'dateutil._common': <module 'dateutil._common' from '/Users/junix/miniconda3/envs/py310/lib/python3.10/site-packages/dateutil/_common.py'>,\n",
       "   'dateutil.relativedelta': <module 'dateutil.relativedelta' from '/Users/junix/miniconda3/envs/py310/lib/python3.10/site-packages/dateutil/relativedelta.py'>,\n",
       "   'six.moves': <module 'six.moves' (<six._SixMetaPathImporter object at 0x7feb181cd7e0>)>,\n",
       "   'dateutil.tz._common': <module 'dateutil.tz._common' from '/Users/junix/miniconda3/envs/py310/lib/python3.10/site-packages/dateutil/tz/_common.py'>,\n",
       "   'dateutil.tz._factories': <module 'dateutil.tz._factories' from '/Users/junix/miniconda3/envs/py310/lib/python3.10/site-packages/dateutil/tz/_factories.py'>,\n",
       "   'dateutil.tz.tz': <module 'dateutil.tz.tz' from '/Users/junix/miniconda3/envs/py310/lib/python3.10/site-packages/dateutil/tz/tz.py'>,\n",
       "   'dateutil.tz': <module 'dateutil.tz' from '/Users/junix/miniconda3/envs/py310/lib/python3.10/site-packages/dateutil/tz/__init__.py'>,\n",
       "   'dateutil.parser._parser': <module 'dateutil.parser._parser' from '/Users/junix/miniconda3/envs/py310/lib/python3.10/site-packages/dateutil/parser/_parser.py'>,\n",
       "   'dateutil.parser.isoparser': <module 'dateutil.parser.isoparser' from '/Users/junix/miniconda3/envs/py310/lib/python3.10/site-packages/dateutil/parser/isoparser.py'>,\n",
       "   'dateutil.parser': <module 'dateutil.parser' from '/Users/junix/miniconda3/envs/py310/lib/python3.10/site-packages/dateutil/parser/__init__.py'>,\n",
       "   '_strptime': <module '_strptime' from '/Users/junix/miniconda3/envs/py310/lib/python3.10/_strptime.py'>,\n",
       "   'jupyter_client.jsonutil': <module 'jupyter_client.jsonutil' from '/Users/junix/miniconda3/envs/py310/lib/python3.10/site-packages/jupyter_client/jsonutil.py'>,\n",
       "   'jupyter_client.session': <module 'jupyter_client.session' from '/Users/junix/miniconda3/envs/py310/lib/python3.10/site-packages/jupyter_client/session.py'>,\n",
       "   'jupyter_client.channels': <module 'jupyter_client.channels' from '/Users/junix/miniconda3/envs/py310/lib/python3.10/site-packages/jupyter_client/channels.py'>,\n",
       "   'termios': <module 'termios' from '/Users/junix/miniconda3/envs/py310/lib/python3.10/lib-dynload/termios.cpython-310-darwin.so'>,\n",
       "   'getpass': <module 'getpass' from '/Users/junix/miniconda3/envs/py310/lib/python3.10/getpass.py'>,\n",
       "   'jupyter_client.clientabc': <module 'jupyter_client.clientabc' from '/Users/junix/miniconda3/envs/py310/lib/python3.10/site-packages/jupyter_client/clientabc.py'>,\n",
       "   'fnmatch': <module 'fnmatch' from '/Users/junix/miniconda3/envs/py310/lib/python3.10/fnmatch.py'>,\n",
       "   'glob': <module 'glob' from '/Users/junix/miniconda3/envs/py310/lib/python3.10/glob.py'>,\n",
       "   '_compression': <module '_compression' from '/Users/junix/miniconda3/envs/py310/lib/python3.10/_compression.py'>,\n",
       "   '_bz2': <module '_bz2' from '/Users/junix/miniconda3/envs/py310/lib/python3.10/lib-dynload/_bz2.cpython-310-darwin.so'>,\n",
       "   'bz2': <module 'bz2' from '/Users/junix/miniconda3/envs/py310/lib/python3.10/bz2.py'>,\n",
       "   '_lzma': <module '_lzma' from '/Users/junix/miniconda3/envs/py310/lib/python3.10/lib-dynload/_lzma.cpython-310-darwin.so'>,\n",
       "   'lzma': <module 'lzma' from '/Users/junix/miniconda3/envs/py310/lib/python3.10/lzma.py'>,\n",
       "   'shutil': <module 'shutil' from '/Users/junix/miniconda3/envs/py310/lib/python3.10/shutil.py'>,\n",
       "   'tempfile': <module 'tempfile' from '/Users/junix/miniconda3/envs/py310/lib/python3.10/tempfile.py'>,\n",
       "   'jupyter_core.version': <module 'jupyter_core.version' from '/Users/junix/miniconda3/envs/py310/lib/python3.10/site-packages/jupyter_core/version.py'>,\n",
       "   'jupyter_core': <module 'jupyter_core' from '/Users/junix/miniconda3/envs/py310/lib/python3.10/site-packages/jupyter_core/__init__.py'>,\n",
       "   'ntpath': <module 'ntpath' from '/Users/junix/miniconda3/envs/py310/lib/python3.10/ntpath.py'>,\n",
       "   'pathlib': <module 'pathlib' from '/Users/junix/miniconda3/envs/py310/lib/python3.10/pathlib.py'>,\n",
       "   'platformdirs.api': <module 'platformdirs.api' from '/Users/junix/miniconda3/envs/py310/lib/python3.10/site-packages/platformdirs/api.py'>,\n",
       "   'platformdirs.version': <module 'platformdirs.version' from '/Users/junix/miniconda3/envs/py310/lib/python3.10/site-packages/platformdirs/version.py'>,\n",
       "   'platformdirs.macos': <module 'platformdirs.macos' from '/Users/junix/miniconda3/envs/py310/lib/python3.10/site-packages/platformdirs/macos.py'>,\n",
       "   'platformdirs': <module 'platformdirs' from '/Users/junix/miniconda3/envs/py310/lib/python3.10/site-packages/platformdirs/__init__.py'>,\n",
       "   'jupyter_core.utils': <module 'jupyter_core.utils' from '/Users/junix/miniconda3/envs/py310/lib/python3.10/site-packages/jupyter_core/utils/__init__.py'>,\n",
       "   'jupyter_core.paths': <module 'jupyter_core.paths' from '/Users/junix/miniconda3/envs/py310/lib/python3.10/site-packages/jupyter_core/paths.py'>,\n",
       "   'jupyter_client.localinterfaces': <module 'jupyter_client.localinterfaces' from '/Users/junix/miniconda3/envs/py310/lib/python3.10/site-packages/jupyter_client/localinterfaces.py'>,\n",
       "   'jupyter_client.utils': <module 'jupyter_client.utils' from '/Users/junix/miniconda3/envs/py310/lib/python3.10/site-packages/jupyter_client/utils.py'>,\n",
       "   'jupyter_client.connect': <module 'jupyter_client.connect' from '/Users/junix/miniconda3/envs/py310/lib/python3.10/site-packages/jupyter_client/connect.py'>,\n",
       "   'jupyter_client.client': <module 'jupyter_client.client' from '/Users/junix/miniconda3/envs/py310/lib/python3.10/site-packages/jupyter_client/client.py'>,\n",
       "   'jupyter_client.asynchronous.client': <module 'jupyter_client.asynchronous.client' from '/Users/junix/miniconda3/envs/py310/lib/python3.10/site-packages/jupyter_client/asynchronous/client.py'>,\n",
       "   'jupyter_client.asynchronous': <module 'jupyter_client.asynchronous' from '/Users/junix/miniconda3/envs/py310/lib/python3.10/site-packages/jupyter_client/asynchronous/__init__.py'>,\n",
       "   'jupyter_client.blocking.client': <module 'jupyter_client.blocking.client' from '/Users/junix/miniconda3/envs/py310/lib/python3.10/site-packages/jupyter_client/blocking/client.py'>,\n",
       "   'jupyter_client.blocking': <module 'jupyter_client.blocking' from '/Users/junix/miniconda3/envs/py310/lib/python3.10/site-packages/jupyter_client/blocking/__init__.py'>,\n",
       "   'jupyter_client.launcher': <module 'jupyter_client.launcher' from '/Users/junix/miniconda3/envs/py310/lib/python3.10/site-packages/jupyter_client/launcher.py'>,\n",
       "   '_uuid': <module '_uuid' from '/Users/junix/miniconda3/envs/py310/lib/python3.10/lib-dynload/_uuid.cpython-310-darwin.so'>,\n",
       "   'uuid': <module 'uuid' from '/Users/junix/miniconda3/envs/py310/lib/python3.10/uuid.py'>,\n",
       "   'jupyter_client.managerabc': <module 'jupyter_client.managerabc' from '/Users/junix/miniconda3/envs/py310/lib/python3.10/site-packages/jupyter_client/managerabc.py'>,\n",
       "   'zipfile': <module 'zipfile' from '/Users/junix/miniconda3/envs/py310/lib/python3.10/zipfile.py'>,\n",
       "   'configparser': <module 'configparser' from '/Users/junix/miniconda3/envs/py310/lib/python3.10/configparser.py'>,\n",
       "   'entrypoints': <module 'entrypoints' from '/Users/junix/miniconda3/envs/py310/lib/python3.10/site-packages/entrypoints.py'>,\n",
       "   'jupyter_client.provisioning.provisioner_base': <module 'jupyter_client.provisioning.provisioner_base' from '/Users/junix/miniconda3/envs/py310/lib/python3.10/site-packages/jupyter_client/provisioning/provisioner_base.py'>,\n",
       "   'jupyter_client.provisioning.factory': <module 'jupyter_client.provisioning.factory' from '/Users/junix/miniconda3/envs/py310/lib/python3.10/site-packages/jupyter_client/provisioning/factory.py'>,\n",
       "   'jupyter_client.provisioning.local_provisioner': <module 'jupyter_client.provisioning.local_provisioner' from '/Users/junix/miniconda3/envs/py310/lib/python3.10/site-packages/jupyter_client/provisioning/local_provisioner.py'>,\n",
       "   'jupyter_client.provisioning': <module 'jupyter_client.provisioning' from '/Users/junix/miniconda3/envs/py310/lib/python3.10/site-packages/jupyter_client/provisioning/__init__.py'>,\n",
       "   'jupyter_client.kernelspec': <module 'jupyter_client.kernelspec' from '/Users/junix/miniconda3/envs/py310/lib/python3.10/site-packages/jupyter_client/kernelspec.py'>,\n",
       "   'jupyter_client.manager': <module 'jupyter_client.manager' from '/Users/junix/miniconda3/envs/py310/lib/python3.10/site-packages/jupyter_client/manager.py'>,\n",
       "   'jupyter_client.multikernelmanager': <module 'jupyter_client.multikernelmanager' from '/Users/junix/miniconda3/envs/py310/lib/python3.10/site-packages/jupyter_client/multikernelmanager.py'>,\n",
       "   'jupyter_client': <module 'jupyter_client' from '/Users/junix/miniconda3/envs/py310/lib/python3.10/site-packages/jupyter_client/__init__.py'>,\n",
       "   'ipykernel.connect': <module 'ipykernel.connect' from '/Users/junix/miniconda3/envs/py310/lib/python3.10/site-packages/ipykernel/connect.py'>,\n",
       "   'ipykernel': <module 'ipykernel' from '/Users/junix/miniconda3/envs/py310/lib/python3.10/site-packages/ipykernel/__init__.py'>,\n",
       "   'IPython.core': <module 'IPython.core' from '/Users/junix/miniconda3/envs/py310/lib/python3.10/site-packages/IPython/core/__init__.py'>,\n",
       "   'IPython.core.getipython': <module 'IPython.core.getipython' from '/Users/junix/miniconda3/envs/py310/lib/python3.10/site-packages/IPython/core/getipython.py'>,\n",
       "   'IPython.core.release': <module 'IPython.core.release' from '/Users/junix/miniconda3/envs/py310/lib/python3.10/site-packages/IPython/core/release.py'>,\n",
       "   'pkgutil': <module 'pkgutil' from '/Users/junix/miniconda3/envs/py310/lib/python3.10/pkgutil.py'>,\n",
       "   'sysconfig': <module 'sysconfig' from '/Users/junix/miniconda3/envs/py310/lib/python3.10/sysconfig.py'>,\n",
       "   '_sysconfigdata__darwin_darwin': <module '_sysconfigdata__darwin_darwin' from '/Users/junix/miniconda3/envs/py310/lib/python3.10/_sysconfigdata__darwin_darwin.py'>,\n",
       "   '_osx_support': <module '_osx_support' from '/Users/junix/miniconda3/envs/py310/lib/python3.10/_osx_support.py'>,\n",
       "   'pydoc': <module 'pydoc' from '/Users/junix/miniconda3/envs/py310/lib/python3.10/pydoc.py'>,\n",
       "   'executing.executing': <module 'executing.executing' from '/Users/junix/miniconda3/envs/py310/lib/python3.10/site-packages/executing/executing.py'>,\n",
       "   'executing.version': <module 'executing.version' from '/Users/junix/miniconda3/envs/py310/lib/python3.10/site-packages/executing/version.py'>,\n",
       "   'executing': <module 'executing' from '/Users/junix/miniconda3/envs/py310/lib/python3.10/site-packages/executing/__init__.py'>,\n",
       "   'asttokens.line_numbers': <module 'asttokens.line_numbers' from '/Users/junix/miniconda3/envs/py310/lib/python3.10/site-packages/asttokens/line_numbers.py'>,\n",
       "   'asttokens.util': <module 'asttokens.util' from '/Users/junix/miniconda3/envs/py310/lib/python3.10/site-packages/asttokens/util.py'>,\n",
       "   'asttokens.mark_tokens': <module 'asttokens.mark_tokens' from '/Users/junix/miniconda3/envs/py310/lib/python3.10/site-packages/asttokens/mark_tokens.py'>,\n",
       "   'asttokens.asttokens': <module 'asttokens.asttokens' from '/Users/junix/miniconda3/envs/py310/lib/python3.10/site-packages/asttokens/asttokens.py'>,\n",
       "   'asttokens': <module 'asttokens' from '/Users/junix/miniconda3/envs/py310/lib/python3.10/site-packages/asttokens/__init__.py'>,\n",
       "   'fractions': <module 'fractions' from '/Users/junix/miniconda3/envs/py310/lib/python3.10/fractions.py'>,\n",
       "   'pure_eval.utils': <module 'pure_eval.utils' from '/Users/junix/miniconda3/envs/py310/lib/python3.10/site-packages/pure_eval/utils.py'>,\n",
       "   'pure_eval.my_getattr_static': <module 'pure_eval.my_getattr_static' from '/Users/junix/miniconda3/envs/py310/lib/python3.10/site-packages/pure_eval/my_getattr_static.py'>,\n",
       "   'pure_eval.core': <module 'pure_eval.core' from '/Users/junix/miniconda3/envs/py310/lib/python3.10/site-packages/pure_eval/core.py'>,\n",
       "   'pure_eval.version': <module 'pure_eval.version' from '/Users/junix/miniconda3/envs/py310/lib/python3.10/site-packages/pure_eval/version.py'>,\n",
       "   'pure_eval': <module 'pure_eval' from '/Users/junix/miniconda3/envs/py310/lib/python3.10/site-packages/pure_eval/__init__.py'>,\n",
       "   'stack_data.utils': <module 'stack_data.utils' from '/Users/junix/miniconda3/envs/py310/lib/python3.10/site-packages/stack_data/utils.py'>,\n",
       "   'stack_data.core': <module 'stack_data.core' from '/Users/junix/miniconda3/envs/py310/lib/python3.10/site-packages/stack_data/core.py'>,\n",
       "   'stack_data.formatting': <module 'stack_data.formatting' from '/Users/junix/miniconda3/envs/py310/lib/python3.10/site-packages/stack_data/formatting.py'>,\n",
       "   'stack_data.version': <module 'stack_data.version' from '/Users/junix/miniconda3/envs/py310/lib/python3.10/site-packages/stack_data/version.py'>,\n",
       "   'stack_data': <module 'stack_data' from '/Users/junix/miniconda3/envs/py310/lib/python3.10/site-packages/stack_data/__init__.py'>,\n",
       "   'pygments': <module 'pygments' from '/Users/junix/miniconda3/envs/py310/lib/python3.10/site-packages/pygments/__init__.py'>,\n",
       "   'pygments.formatters._mapping': <module 'pygments.formatters._mapping' from '/Users/junix/miniconda3/envs/py310/lib/python3.10/site-packages/pygments/formatters/_mapping.py'>,\n",
       "   'pygments.plugin': <module 'pygments.plugin' from '/Users/junix/miniconda3/envs/py310/lib/python3.10/site-packages/pygments/plugin.py'>,\n",
       "   'pygments.util': <module 'pygments.util' from '/Users/junix/miniconda3/envs/py310/lib/python3.10/site-packages/pygments/util.py'>,\n",
       "   'pygments.formatters': <module 'pygments.formatters' from '/Users/junix/miniconda3/envs/py310/lib/python3.10/site-packages/pygments/formatters/__init__.py'>,\n",
       "   'pygments.styles': <module 'pygments.styles' from '/Users/junix/miniconda3/envs/py310/lib/python3.10/site-packages/pygments/styles/__init__.py'>,\n",
       "   'pygments.formatter': <module 'pygments.formatter' from '/Users/junix/miniconda3/envs/py310/lib/python3.10/site-packages/pygments/formatter.py'>,\n",
       "   'pygments.console': <module 'pygments.console' from '/Users/junix/miniconda3/envs/py310/lib/python3.10/site-packages/pygments/console.py'>,\n",
       "   'pygments.token': <module 'pygments.token' from '/Users/junix/miniconda3/envs/py310/lib/python3.10/site-packages/pygments/token.py'>,\n",
       "   'pygments.style': <module 'pygments.style' from '/Users/junix/miniconda3/envs/py310/lib/python3.10/site-packages/pygments/style.py'>,\n",
       "   'pygments.formatters.terminal256': <module 'pygments.formatters.terminal256' from '/Users/junix/miniconda3/envs/py310/lib/python3.10/site-packages/pygments/formatters/terminal256.py'>,\n",
       "   'IPython.utils': <module 'IPython.utils' from '/Users/junix/miniconda3/envs/py310/lib/python3.10/site-packages/IPython/utils/__init__.py'>,\n",
       "   'IPython.utils.ipstruct': <module 'IPython.utils.ipstruct' from '/Users/junix/miniconda3/envs/py310/lib/python3.10/site-packages/IPython/utils/ipstruct.py'>,\n",
       "   'IPython.utils.coloransi': <module 'IPython.utils.coloransi' from '/Users/junix/miniconda3/envs/py310/lib/python3.10/site-packages/IPython/utils/coloransi.py'>,\n",
       "   'IPython.utils.colorable': <module 'IPython.utils.colorable' from '/Users/junix/miniconda3/envs/py310/lib/python3.10/site-packages/IPython/utils/colorable.py'>,\n",
       "   'IPython.utils.PyColorize': <module 'IPython.utils.PyColorize' from '/Users/junix/miniconda3/envs/py310/lib/python3.10/site-packages/IPython/utils/PyColorize.py'>,\n",
       "   'IPython.utils.encoding': <module 'IPython.utils.encoding' from '/Users/junix/miniconda3/envs/py310/lib/python3.10/site-packages/IPython/utils/encoding.py'>,\n",
       "   'IPython.utils.py3compat': <module 'IPython.utils.py3compat' from '/Users/junix/miniconda3/envs/py310/lib/python3.10/site-packages/IPython/utils/py3compat.py'>,\n",
       "   'IPython.core.excolors': <module 'IPython.core.excolors' from '/Users/junix/miniconda3/envs/py310/lib/python3.10/site-packages/IPython/core/excolors.py'>,\n",
       "   'cmd': <module 'cmd' from '/Users/junix/miniconda3/envs/py310/lib/python3.10/cmd.py'>,\n",
       "   'bdb': <module 'bdb' from '/Users/junix/miniconda3/envs/py310/lib/python3.10/bdb.py'>,\n",
       "   'codeop': <module 'codeop' from '/Users/junix/miniconda3/envs/py310/lib/python3.10/codeop.py'>,\n",
       "   'code': <module 'code' from '/Users/junix/miniconda3/envs/py310/lib/python3.10/code.py'>,\n",
       "   'pdb': <module 'pdb' from '/Users/junix/miniconda3/envs/py310/lib/python3.10/pdb.py'>,\n",
       "   'IPython.core.debugger': <module 'IPython.core.debugger' from '/Users/junix/miniconda3/envs/py310/lib/python3.10/site-packages/IPython/core/debugger.py'>,\n",
       "   'IPython.core.display_trap': <module 'IPython.core.display_trap' from '/Users/junix/miniconda3/envs/py310/lib/python3.10/site-packages/IPython/core/display_trap.py'>,\n",
       "   'pexpect.exceptions': <module 'pexpect.exceptions' from '/Users/junix/miniconda3/envs/py310/lib/python3.10/site-packages/pexpect/exceptions.py'>,\n",
       "   'pexpect.utils': <module 'pexpect.utils' from '/Users/junix/miniconda3/envs/py310/lib/python3.10/site-packages/pexpect/utils.py'>,\n",
       "   'pexpect.expect': <module 'pexpect.expect' from '/Users/junix/miniconda3/envs/py310/lib/python3.10/site-packages/pexpect/expect.py'>,\n",
       "   'tty': <module 'tty' from '/Users/junix/miniconda3/envs/py310/lib/python3.10/tty.py'>,\n",
       "   'pty': <module 'pty' from '/Users/junix/miniconda3/envs/py310/lib/python3.10/pty.py'>,\n",
       "   'resource': <module 'resource' from '/Users/junix/miniconda3/envs/py310/lib/python3.10/lib-dynload/resource.cpython-310-darwin.so'>,\n",
       "   'ptyprocess.util': <module 'ptyprocess.util' from '/Users/junix/miniconda3/envs/py310/lib/python3.10/site-packages/ptyprocess/util.py'>,\n",
       "   'ptyprocess.ptyprocess': <module 'ptyprocess.ptyprocess' from '/Users/junix/miniconda3/envs/py310/lib/python3.10/site-packages/ptyprocess/ptyprocess.py'>,\n",
       "   'ptyprocess': <module 'ptyprocess' from '/Users/junix/miniconda3/envs/py310/lib/python3.10/site-packages/ptyprocess/__init__.py'>,\n",
       "   'pexpect.spawnbase': <module 'pexpect.spawnbase' from '/Users/junix/miniconda3/envs/py310/lib/python3.10/site-packages/pexpect/spawnbase.py'>,\n",
       "   'pexpect.pty_spawn': <module 'pexpect.pty_spawn' from '/Users/junix/miniconda3/envs/py310/lib/python3.10/site-packages/pexpect/pty_spawn.py'>,\n",
       "   'pexpect.run': <module 'pexpect.run' from '/Users/junix/miniconda3/envs/py310/lib/python3.10/site-packages/pexpect/run.py'>,\n",
       "   'pexpect': <module 'pexpect' from '/Users/junix/miniconda3/envs/py310/lib/python3.10/site-packages/pexpect/__init__.py'>,\n",
       "   'shlex': <module 'shlex' from '/Users/junix/miniconda3/envs/py310/lib/python3.10/shlex.py'>,\n",
       "   'IPython.utils._process_common': <module 'IPython.utils._process_common' from '/Users/junix/miniconda3/envs/py310/lib/python3.10/site-packages/IPython/utils/_process_common.py'>,\n",
       "   'IPython.utils._process_posix': <module 'IPython.utils._process_posix' from '/Users/junix/miniconda3/envs/py310/lib/python3.10/site-packages/IPython/utils/_process_posix.py'>,\n",
       "   'IPython.utils.process': <module 'IPython.utils.process' from '/Users/junix/miniconda3/envs/py310/lib/python3.10/site-packages/IPython/utils/process.py'>,\n",
       "   'IPython.utils.path': <module 'IPython.utils.path' from '/Users/junix/miniconda3/envs/py310/lib/python3.10/site-packages/IPython/utils/path.py'>,\n",
       "   'IPython.utils.terminal': <module 'IPython.utils.terminal' from '/Users/junix/miniconda3/envs/py310/lib/python3.10/site-packages/IPython/utils/terminal.py'>,\n",
       "   'IPython.core.ultratb': <module 'IPython.core.ultratb' from '/Users/junix/miniconda3/envs/py310/lib/python3.10/site-packages/IPython/core/ultratb.py'>,\n",
       "   'IPython.utils._sysinfo': <module 'IPython.utils._sysinfo' from '/Users/junix/miniconda3/envs/py310/lib/python3.10/site-packages/IPython/utils/_sysinfo.py'>,\n",
       "   'IPython.utils.sysinfo': <module 'IPython.utils.sysinfo' from '/Users/junix/miniconda3/envs/py310/lib/python3.10/site-packages/IPython/utils/sysinfo.py'>,\n",
       "   'IPython.core.crashhandler': <module 'IPython.core.crashhandler' from '/Users/junix/miniconda3/envs/py310/lib/python3.10/site-packages/IPython/core/crashhandler.py'>,\n",
       "   'IPython.utils.importstring': <module 'IPython.utils.importstring' from '/Users/junix/miniconda3/envs/py310/lib/python3.10/site-packages/IPython/utils/importstring.py'>,\n",
       "   'IPython.paths': <module 'IPython.paths' from '/Users/junix/miniconda3/envs/py310/lib/python3.10/site-packages/IPython/paths.py'>,\n",
       "   'IPython.core.profiledir': <module 'IPython.core.profiledir' from '/Users/junix/miniconda3/envs/py310/lib/python3.10/site-packages/IPython/core/profiledir.py'>,\n",
       "   'IPython.core.application': <module 'IPython.core.application' from '/Users/junix/miniconda3/envs/py310/lib/python3.10/site-packages/IPython/core/application.py'>,\n",
       "   'IPython.terminal': <module 'IPython.terminal' from '/Users/junix/miniconda3/envs/py310/lib/python3.10/site-packages/IPython/terminal/__init__.py'>,\n",
       "   'IPython.core.compilerop': <module 'IPython.core.compilerop' from '/Users/junix/miniconda3/envs/py310/lib/python3.10/site-packages/IPython/core/compilerop.py'>,\n",
       "   'IPython.core.error': <module 'IPython.core.error' from '/Users/junix/miniconda3/envs/py310/lib/python3.10/site-packages/IPython/core/error.py'>,\n",
       "   'IPython.utils.docs': <module 'IPython.utils.docs' from '/Users/junix/miniconda3/envs/py310/lib/python3.10/site-packages/IPython/utils/docs.py'>,\n",
       "   'IPython.utils.decorators': <module 'IPython.utils.decorators' from '/Users/junix/miniconda3/envs/py310/lib/python3.10/site-packages/IPython/utils/decorators.py'>,\n",
       "   'IPython.utils.text': <module 'IPython.utils.text' from '/Users/junix/miniconda3/envs/py310/lib/python3.10/site-packages/IPython/utils/text.py'>,\n",
       "   'IPython.core.magic_arguments': <module 'IPython.core.magic_arguments' from '/Users/junix/miniconda3/envs/py310/lib/python3.10/site-packages/IPython/core/magic_arguments.py'>,\n",
       "   'getopt': <module 'getopt' from '/Users/junix/miniconda3/envs/py310/lib/python3.10/getopt.py'>,\n",
       "   'IPython.core.display_functions': <module 'IPython.core.display_functions' from '/Users/junix/miniconda3/envs/py310/lib/python3.10/site-packages/IPython/core/display_functions.py'>,\n",
       "   'mimetypes': <module 'mimetypes' from '/Users/junix/miniconda3/envs/py310/lib/python3.10/mimetypes.py'>,\n",
       "   'IPython.testing': <module 'IPython.testing' from '/Users/junix/miniconda3/envs/py310/lib/python3.10/site-packages/IPython/testing/__init__.py'>,\n",
       "   'IPython.testing.skipdoctest': <module 'IPython.testing.skipdoctest' from '/Users/junix/miniconda3/envs/py310/lib/python3.10/site-packages/IPython/testing/skipdoctest.py'>,\n",
       "   'IPython.core.display': <module 'IPython.core.display' from '/Users/junix/miniconda3/envs/py310/lib/python3.10/site-packages/IPython/core/display.py'>,\n",
       "   'IPython.lib': <module 'IPython.lib' from '/Users/junix/miniconda3/envs/py310/lib/python3.10/site-packages/IPython/lib/__init__.py'>,\n",
       "   'IPython.lib.display': <module 'IPython.lib.display' from '/Users/junix/miniconda3/envs/py310/lib/python3.10/site-packages/IPython/lib/display.py'>,\n",
       "   'IPython.display': <module 'IPython.display' from '/Users/junix/miniconda3/envs/py310/lib/python3.10/site-packages/IPython/display.py'>,\n",
       "   'IPython.utils.data': <module 'IPython.utils.data' from '/Users/junix/miniconda3/envs/py310/lib/python3.10/site-packages/IPython/utils/data.py'>,\n",
       "   'IPython.core.page': <module 'IPython.core.page' from '/Users/junix/miniconda3/envs/py310/lib/python3.10/site-packages/IPython/core/page.py'>,\n",
       "   'IPython.lib.pretty': <module 'IPython.lib.pretty' from '/Users/junix/miniconda3/envs/py310/lib/python3.10/site-packages/IPython/lib/pretty.py'>,\n",
       "   'IPython.utils.openpy': <module 'IPython.utils.openpy' from '/Users/junix/miniconda3/envs/py310/lib/python3.10/site-packages/IPython/utils/openpy.py'>,\n",
       "   'IPython.utils.dir2': <module 'IPython.utils.dir2' from '/Users/junix/miniconda3/envs/py310/lib/python3.10/site-packages/IPython/utils/dir2.py'>,\n",
       "   'IPython.utils.wildcard': <module 'IPython.utils.wildcard' from '/Users/junix/miniconda3/envs/py310/lib/python3.10/site-packages/IPython/utils/wildcard.py'>,\n",
       "   'pygments.lexers._mapping': <module 'pygments.lexers._mapping' from '/Users/junix/miniconda3/envs/py310/lib/python3.10/site-packages/pygments/lexers/_mapping.py'>,\n",
       "   'pygments.modeline': <module 'pygments.modeline' from '/Users/junix/miniconda3/envs/py310/lib/python3.10/site-packages/pygments/modeline.py'>,\n",
       "   'pygments.lexers': <module 'pygments.lexers' from '/Users/junix/miniconda3/envs/py310/lib/python3.10/site-packages/pygments/lexers/__init__.py'>,\n",
       "   'pygments.filter': <module 'pygments.filter' from '/Users/junix/miniconda3/envs/py310/lib/python3.10/site-packages/pygments/filter.py'>,\n",
       "   'pygments.filters': <module 'pygments.filters' from '/Users/junix/miniconda3/envs/py310/lib/python3.10/site-packages/pygments/filters/__init__.py'>,\n",
       "   'pygments.regexopt': <module 'pygments.regexopt' from '/Users/junix/miniconda3/envs/py310/lib/python3.10/site-packages/pygments/regexopt.py'>,\n",
       "   'pygments.lexer': <module 'pygments.lexer' from '/Users/junix/miniconda3/envs/py310/lib/python3.10/site-packages/pygments/lexer.py'>,\n",
       "   'pygments.unistring': <module 'pygments.unistring' from '/Users/junix/miniconda3/envs/py310/lib/python3.10/site-packages/pygments/unistring.py'>,\n",
       "   'pygments.lexers.python': <module 'pygments.lexers.python' from '/Users/junix/miniconda3/envs/py310/lib/python3.10/site-packages/pygments/lexers/python.py'>,\n",
       "   'pygments.formatters.html': <module 'pygments.formatters.html' from '/Users/junix/miniconda3/envs/py310/lib/python3.10/site-packages/pygments/formatters/html.py'>,\n",
       "   'IPython.core.oinspect': <module 'IPython.core.oinspect' from '/Users/junix/miniconda3/envs/py310/lib/python3.10/site-packages/IPython/core/oinspect.py'>,\n",
       "   'IPython.core.inputtransformer2': <module 'IPython.core.inputtransformer2' from '/Users/junix/miniconda3/envs/py310/lib/python3.10/site-packages/IPython/core/inputtransformer2.py'>,\n",
       "   'IPython.core.magic': <module 'IPython.core.magic' from '/Users/junix/miniconda3/envs/py310/lib/python3.10/site-packages/IPython/core/magic.py'>,\n",
       "   'pickleshare': <module 'pickleshare' from '/Users/junix/miniconda3/envs/py310/lib/python3.10/site-packages/pickleshare.py'>,\n",
       "   'IPython.core.hooks': <module 'IPython.core.hooks' from '/Users/junix/miniconda3/envs/py310/lib/python3.10/site-packages/IPython/core/hooks.py'>,\n",
       "   'IPython.core.autocall': <module 'IPython.core.autocall' from '/Users/junix/miniconda3/envs/py310/lib/python3.10/site-packages/IPython/core/autocall.py'>,\n",
       "   'IPython.core.macro': <module 'IPython.core.macro' from '/Users/junix/miniconda3/envs/py310/lib/python3.10/site-packages/IPython/core/macro.py'>,\n",
       "   'IPython.core.splitinput': <module 'IPython.core.splitinput' from '/Users/junix/miniconda3/envs/py310/lib/python3.10/site-packages/IPython/core/splitinput.py'>,\n",
       "   'IPython.core.prefilter': <module 'IPython.core.prefilter' from '/Users/junix/miniconda3/envs/py310/lib/python3.10/site-packages/IPython/core/prefilter.py'>,\n",
       "   'IPython.core.alias': <module 'IPython.core.alias' from '/Users/junix/miniconda3/envs/py310/lib/python3.10/site-packages/IPython/core/alias.py'>,\n",
       "   'IPython.core.builtin_trap': <module 'IPython.core.builtin_trap' from '/Users/junix/miniconda3/envs/py310/lib/python3.10/site-packages/IPython/core/builtin_trap.py'>,\n",
       "   'IPython.core.displayhook': <module 'IPython.core.displayhook' from '/Users/junix/miniconda3/envs/py310/lib/python3.10/site-packages/IPython/core/displayhook.py'>,\n",
       "   'IPython.core.displaypub': <module 'IPython.core.displaypub' from '/Users/junix/miniconda3/envs/py310/lib/python3.10/site-packages/IPython/core/displaypub.py'>,\n",
       "   'backcall.backcall': <module 'backcall.backcall' from '/Users/junix/miniconda3/envs/py310/lib/python3.10/site-packages/backcall/backcall.py'>,\n",
       "   'backcall': <module 'backcall' from '/Users/junix/miniconda3/envs/py310/lib/python3.10/site-packages/backcall/__init__.py'>,\n",
       "   'IPython.core.events': <module 'IPython.core.events' from '/Users/junix/miniconda3/envs/py310/lib/python3.10/site-packages/IPython/core/events.py'>,\n",
       "   'IPython.core.extensions': <module 'IPython.core.extensions' from '/Users/junix/miniconda3/envs/py310/lib/python3.10/site-packages/IPython/core/extensions.py'>,\n",
       "   'decorator': <module 'decorator' from '/Users/junix/miniconda3/envs/py310/lib/python3.10/site-packages/decorator.py'>,\n",
       "   'IPython.utils.sentinel': <module 'IPython.utils.sentinel' from '/Users/junix/miniconda3/envs/py310/lib/python3.10/site-packages/IPython/utils/sentinel.py'>,\n",
       "   'IPython.core.formatters': <module 'IPython.core.formatters' from '/Users/junix/miniconda3/envs/py310/lib/python3.10/site-packages/IPython/core/formatters.py'>,\n",
       "   '_sqlite3': <module '_sqlite3' from '/Users/junix/miniconda3/envs/py310/lib/python3.10/lib-dynload/_sqlite3.cpython-310-darwin.so'>,\n",
       "   'sqlite3.dbapi2': <module 'sqlite3.dbapi2' from '/Users/junix/miniconda3/envs/py310/lib/python3.10/sqlite3/dbapi2.py'>,\n",
       "   'sqlite3': <module 'sqlite3' from '/Users/junix/miniconda3/envs/py310/lib/python3.10/sqlite3/__init__.py'>,\n",
       "   'IPython.core.history': <module 'IPython.core.history' from '/Users/junix/miniconda3/envs/py310/lib/python3.10/site-packages/IPython/core/history.py'>,\n",
       "   'IPython.core.logger': <module 'IPython.core.logger' from '/Users/junix/miniconda3/envs/py310/lib/python3.10/site-packages/IPython/core/logger.py'>,\n",
       "   'IPython.core.payload': <module 'IPython.core.payload' from '/Users/junix/miniconda3/envs/py310/lib/python3.10/site-packages/IPython/core/payload.py'>,\n",
       "   'IPython.core.usage': <module 'IPython.core.usage' from '/Users/junix/miniconda3/envs/py310/lib/python3.10/site-packages/IPython/core/usage.py'>,\n",
       "   'IPython.utils.capture': <module 'IPython.utils.capture' from '/Users/junix/miniconda3/envs/py310/lib/python3.10/site-packages/IPython/utils/capture.py'>,\n",
       "   'IPython.utils.io': <module 'IPython.utils.io' from '/Users/junix/miniconda3/envs/py310/lib/python3.10/site-packages/IPython/utils/io.py'>,\n",
       "   'IPython.utils.strdispatch': <module 'IPython.utils.strdispatch' from '/Users/junix/miniconda3/envs/py310/lib/python3.10/site-packages/IPython/utils/strdispatch.py'>,\n",
       "   'IPython.utils.syspathcontext': <module 'IPython.utils.syspathcontext' from '/Users/junix/miniconda3/envs/py310/lib/python3.10/site-packages/IPython/utils/syspathcontext.py'>,\n",
       "   'IPython.core.async_helpers': <module 'IPython.core.async_helpers' from '/Users/junix/miniconda3/envs/py310/lib/python3.10/site-packages/IPython/core/async_helpers.py'>,\n",
       "   'IPython.core.interactiveshell': <module 'IPython.core.interactiveshell' from '/Users/junix/miniconda3/envs/py310/lib/python3.10/site-packages/IPython/core/interactiveshell.py'>,\n",
       "   'prompt_toolkit.application.current': <module 'prompt_toolkit.application.current' from '/Users/junix/miniconda3/envs/py310/lib/python3.10/site-packages/prompt_toolkit/application/current.py'>,\n",
       "   'prompt_toolkit.eventloop.async_context_manager': <module 'prompt_toolkit.eventloop.async_context_manager' from '/Users/junix/miniconda3/envs/py310/lib/python3.10/site-packages/prompt_toolkit/eventloop/async_context_manager.py'>,\n",
       "   'prompt_toolkit.eventloop.utils': <module 'prompt_toolkit.eventloop.utils' from '/Users/junix/miniconda3/envs/py310/lib/python3.10/site-packages/prompt_toolkit/eventloop/utils.py'>,\n",
       "   'prompt_toolkit.eventloop.async_generator': <module 'prompt_toolkit.eventloop.async_generator' from '/Users/junix/miniconda3/envs/py310/lib/python3.10/site-packages/prompt_toolkit/eventloop/async_generator.py'>,\n",
       "   'prompt_toolkit.eventloop.inputhook': <module 'prompt_toolkit.eventloop.inputhook' from '/Users/junix/miniconda3/envs/py310/lib/python3.10/site-packages/prompt_toolkit/eventloop/inputhook.py'>,\n",
       "   'prompt_toolkit.eventloop': <module 'prompt_toolkit.eventloop' from '/Users/junix/miniconda3/envs/py310/lib/python3.10/site-packages/prompt_toolkit/eventloop/__init__.py'>,\n",
       "   'prompt_toolkit.application.run_in_terminal': <module 'prompt_toolkit.application.run_in_terminal' from '/Users/junix/miniconda3/envs/py310/lib/python3.10/site-packages/prompt_toolkit/application/run_in_terminal.py'>,\n",
       "   'prompt_toolkit.selection': <module 'prompt_toolkit.selection' from '/Users/junix/miniconda3/envs/py310/lib/python3.10/site-packages/prompt_toolkit/selection.py'>,\n",
       "   'prompt_toolkit.clipboard.base': <module 'prompt_toolkit.clipboard.base' from '/Users/junix/miniconda3/envs/py310/lib/python3.10/site-packages/prompt_toolkit/clipboard/base.py'>,\n",
       "   'prompt_toolkit.clipboard.in_memory': <module 'prompt_toolkit.clipboard.in_memory' from '/Users/junix/miniconda3/envs/py310/lib/python3.10/site-packages/prompt_toolkit/clipboard/in_memory.py'>,\n",
       "   'prompt_toolkit.clipboard': <module 'prompt_toolkit.clipboard' from '/Users/junix/miniconda3/envs/py310/lib/python3.10/site-packages/prompt_toolkit/clipboard/__init__.py'>,\n",
       "   'prompt_toolkit.cache': <module 'prompt_toolkit.cache' from '/Users/junix/miniconda3/envs/py310/lib/python3.10/site-packages/prompt_toolkit/cache.py'>,\n",
       "   'prompt_toolkit.enums': <module 'prompt_toolkit.enums' from '/Users/junix/miniconda3/envs/py310/lib/python3.10/site-packages/prompt_toolkit/enums.py'>,\n",
       "   'prompt_toolkit.filters.base': <module 'prompt_toolkit.filters.base' from '/Users/junix/miniconda3/envs/py310/lib/python3.10/site-packages/prompt_toolkit/filters/base.py'>,\n",
       "   'prompt_toolkit.filters.app': <module 'prompt_toolkit.filters.app' from '/Users/junix/miniconda3/envs/py310/lib/python3.10/site-packages/prompt_toolkit/filters/app.py'>,\n",
       "   'prompt_toolkit.filters.cli': <module 'prompt_toolkit.filters.cli' from '/Users/junix/miniconda3/envs/py310/lib/python3.10/site-packages/prompt_toolkit/filters/cli.py'>,\n",
       "   'prompt_toolkit.filters.utils': <module 'prompt_toolkit.filters.utils' from '/Users/junix/miniconda3/envs/py310/lib/python3.10/site-packages/prompt_toolkit/filters/utils.py'>,\n",
       "   'prompt_toolkit.filters': <module 'prompt_toolkit.filters' from '/Users/junix/miniconda3/envs/py310/lib/python3.10/site-packages/prompt_toolkit/filters/__init__.py'>,\n",
       "   'prompt_toolkit.document': <module 'prompt_toolkit.document' from '/Users/junix/miniconda3/envs/py310/lib/python3.10/site-packages/prompt_toolkit/document.py'>,\n",
       "   'prompt_toolkit.auto_suggest': <module 'prompt_toolkit.auto_suggest' from '/Users/junix/miniconda3/envs/py310/lib/python3.10/site-packages/prompt_toolkit/auto_suggest.py'>,\n",
       "   'prompt_toolkit.keys': <module 'prompt_toolkit.keys' from '/Users/junix/miniconda3/envs/py310/lib/python3.10/site-packages/prompt_toolkit/keys.py'>,\n",
       "   'prompt_toolkit.key_binding.key_bindings': <module 'prompt_toolkit.key_binding.key_bindings' from '/Users/junix/miniconda3/envs/py310/lib/python3.10/site-packages/prompt_toolkit/key_binding/key_bindings.py'>,\n",
       "   'wcwidth.table_wide': <module 'wcwidth.table_wide' from '/Users/junix/miniconda3/envs/py310/lib/python3.10/site-packages/wcwidth/table_wide.py'>,\n",
       "   'wcwidth.table_zero': <module 'wcwidth.table_zero' from '/Users/junix/miniconda3/envs/py310/lib/python3.10/site-packages/wcwidth/table_zero.py'>,\n",
       "   'wcwidth.unicode_versions': <module 'wcwidth.unicode_versions' from '/Users/junix/miniconda3/envs/py310/lib/python3.10/site-packages/wcwidth/unicode_versions.py'>,\n",
       "   'wcwidth.wcwidth': <module 'wcwidth.wcwidth' from '/Users/junix/miniconda3/envs/py310/lib/python3.10/site-packages/wcwidth/wcwidth.py'>,\n",
       "   'wcwidth': <module 'wcwidth' from '/Users/junix/miniconda3/envs/py310/lib/python3.10/site-packages/wcwidth/__init__.py'>,\n",
       "   'prompt_toolkit.utils': <module 'prompt_toolkit.utils' from '/Users/junix/miniconda3/envs/py310/lib/python3.10/site-packages/prompt_toolkit/utils.py'>,\n",
       "   'prompt_toolkit.key_binding.key_processor': <module 'prompt_toolkit.key_binding.key_processor' from '/Users/junix/miniconda3/envs/py310/lib/python3.10/site-packages/prompt_toolkit/key_binding/key_processor.py'>,\n",
       "   'prompt_toolkit.key_binding': <module 'prompt_toolkit.key_binding' from '/Users/junix/miniconda3/envs/py310/lib/python3.10/site-packages/prompt_toolkit/key_binding/__init__.py'>,\n",
       "   'prompt_toolkit.key_binding.vi_state': <module 'prompt_toolkit.key_binding.vi_state' from '/Users/junix/miniconda3/envs/py310/lib/python3.10/site-packages/prompt_toolkit/key_binding/vi_state.py'>,\n",
       "   'prompt_toolkit.cursor_shapes': <module 'prompt_toolkit.cursor_shapes' from '/Users/junix/miniconda3/envs/py310/lib/python3.10/site-packages/prompt_toolkit/cursor_shapes.py'>,\n",
       "   'prompt_toolkit.data_structures': <module 'prompt_toolkit.data_structures' from '/Users/junix/miniconda3/envs/py310/lib/python3.10/site-packages/prompt_toolkit/data_structures.py'>,\n",
       "   'prompt_toolkit.styles.base': <module 'prompt_toolkit.styles.base' from '/Users/junix/miniconda3/envs/py310/lib/python3.10/site-packages/prompt_toolkit/styles/base.py'>,\n",
       "   'prompt_toolkit.styles.named_colors': <module 'prompt_toolkit.styles.named_colors' from '/Users/junix/miniconda3/envs/py310/lib/python3.10/site-packages/prompt_toolkit/styles/named_colors.py'>,\n",
       "   'prompt_toolkit.styles.style': <module 'prompt_toolkit.styles.style' from '/Users/junix/miniconda3/envs/py310/lib/python3.10/site-packages/prompt_toolkit/styles/style.py'>,\n",
       "   'prompt_toolkit.styles.defaults': <module 'prompt_toolkit.styles.defaults' from '/Users/junix/miniconda3/envs/py310/lib/python3.10/site-packages/prompt_toolkit/styles/defaults.py'>,\n",
       "   'prompt_toolkit.styles.pygments': <module 'prompt_toolkit.styles.pygments' from '/Users/junix/miniconda3/envs/py310/lib/python3.10/site-packages/prompt_toolkit/styles/pygments.py'>,\n",
       "   'colorsys': <module 'colorsys' from '/Users/junix/miniconda3/envs/py310/lib/python3.10/colorsys.py'>,\n",
       "   'prompt_toolkit.styles.style_transformation': <module 'prompt_toolkit.styles.style_transformation' from '/Users/junix/miniconda3/envs/py310/lib/python3.10/site-packages/prompt_toolkit/styles/style_transformation.py'>,\n",
       "   'prompt_toolkit.styles': <module 'prompt_toolkit.styles' from '/Users/junix/miniconda3/envs/py310/lib/python3.10/site-packages/prompt_toolkit/styles/__init__.py'>,\n",
       "   'prompt_toolkit.output.color_depth': <module 'prompt_toolkit.output.color_depth' from '/Users/junix/miniconda3/envs/py310/lib/python3.10/site-packages/prompt_toolkit/output/color_depth.py'>,\n",
       "   'prompt_toolkit.output.base': <module 'prompt_toolkit.output.base' from '/Users/junix/miniconda3/envs/py310/lib/python3.10/site-packages/prompt_toolkit/output/base.py'>,\n",
       "   'prompt_toolkit.output.flush_stdout': <module 'prompt_toolkit.output.flush_stdout' from '/Users/junix/miniconda3/envs/py310/lib/python3.10/site-packages/prompt_toolkit/output/flush_stdout.py'>,\n",
       "   'prompt_toolkit.output.plain_text': <module 'prompt_toolkit.output.plain_text' from '/Users/junix/miniconda3/envs/py310/lib/python3.10/site-packages/prompt_toolkit/output/plain_text.py'>,\n",
       "   'prompt_toolkit.output.defaults': <module 'prompt_toolkit.output.defaults' from '/Users/junix/miniconda3/envs/py310/lib/python3.10/site-packages/prompt_toolkit/output/defaults.py'>,\n",
       "   'prompt_toolkit.output': <module 'prompt_toolkit.output' from '/Users/junix/miniconda3/envs/py310/lib/python3.10/site-packages/prompt_toolkit/output/__init__.py'>,\n",
       "   'prompt_toolkit.output.vt100': <module 'prompt_toolkit.output.vt100' from '/Users/junix/miniconda3/envs/py310/lib/python3.10/site-packages/prompt_toolkit/output/vt100.py'>,\n",
       "   'prompt_toolkit.mouse_events': <module 'prompt_toolkit.mouse_events' from '/Users/junix/miniconda3/envs/py310/lib/python3.10/site-packages/prompt_toolkit/mouse_events.py'>,\n",
       "   'prompt_toolkit.formatted_text.base': <module 'prompt_toolkit.formatted_text.base' from '/Users/junix/miniconda3/envs/py310/lib/python3.10/site-packages/prompt_toolkit/formatted_text/base.py'>,\n",
       "   'prompt_toolkit.formatted_text.ansi': <module 'prompt_toolkit.formatted_text.ansi' from '/Users/junix/miniconda3/envs/py310/lib/python3.10/site-packages/prompt_toolkit/formatted_text/ansi.py'>,\n",
       "   'xml': <module 'xml' from '/Users/junix/miniconda3/envs/py310/lib/python3.10/xml/__init__.py'>,\n",
       "   'xml.dom.domreg': <module 'xml.dom.domreg' from '/Users/junix/miniconda3/envs/py310/lib/python3.10/xml/dom/domreg.py'>,\n",
       "   'xml.dom': <module 'xml.dom' from '/Users/junix/miniconda3/envs/py310/lib/python3.10/xml/dom/__init__.py'>,\n",
       "   'xml.dom.minicompat': <module 'xml.dom.minicompat' from '/Users/junix/miniconda3/envs/py310/lib/python3.10/xml/dom/minicompat.py'>,\n",
       "   'xml.dom.NodeFilter': <module 'xml.dom.NodeFilter' from '/Users/junix/miniconda3/envs/py310/lib/python3.10/xml/dom/NodeFilter.py'>,\n",
       "   'xml.dom.xmlbuilder': <module 'xml.dom.xmlbuilder' from '/Users/junix/miniconda3/envs/py310/lib/python3.10/xml/dom/xmlbuilder.py'>,\n",
       "   'xml.dom.minidom': <module 'xml.dom.minidom' from '/Users/junix/miniconda3/envs/py310/lib/python3.10/xml/dom/minidom.py'>,\n",
       "   'prompt_toolkit.formatted_text.html': <module 'prompt_toolkit.formatted_text.html' from '/Users/junix/miniconda3/envs/py310/lib/python3.10/site-packages/prompt_toolkit/formatted_text/html.py'>,\n",
       "   'prompt_toolkit.formatted_text.pygments': <module 'prompt_toolkit.formatted_text.pygments' from '/Users/junix/miniconda3/envs/py310/lib/python3.10/site-packages/prompt_toolkit/formatted_text/pygments.py'>,\n",
       "   'prompt_toolkit.formatted_text.utils': <module 'prompt_toolkit.formatted_text.utils' from '/Users/junix/miniconda3/envs/py310/lib/python3.10/site-packages/prompt_toolkit/formatted_text/utils.py'>,\n",
       "   'prompt_toolkit.formatted_text': <module 'prompt_toolkit.formatted_text' from '/Users/junix/miniconda3/envs/py310/lib/python3.10/site-packages/prompt_toolkit/formatted_text/__init__.py'>,\n",
       "   'prompt_toolkit.completion.base': <module 'prompt_toolkit.completion.base' from '/Users/junix/miniconda3/envs/py310/lib/python3.10/site-packages/prompt_toolkit/completion/base.py'>,\n",
       "   'prompt_toolkit.completion.deduplicate': <module 'prompt_toolkit.completion.deduplicate' from '/Users/junix/miniconda3/envs/py310/lib/python3.10/site-packages/prompt_toolkit/completion/deduplicate.py'>,\n",
       "   'prompt_toolkit.completion.filesystem': <module 'prompt_toolkit.completion.filesystem' from '/Users/junix/miniconda3/envs/py310/lib/python3.10/site-packages/prompt_toolkit/completion/filesystem.py'>,\n",
       "   'prompt_toolkit.completion.word_completer': <module 'prompt_toolkit.completion.word_completer' from '/Users/junix/miniconda3/envs/py310/lib/python3.10/site-packages/prompt_toolkit/completion/word_completer.py'>,\n",
       "   'prompt_toolkit.completion.fuzzy_completer': <module 'prompt_toolkit.completion.fuzzy_completer' from '/Users/junix/miniconda3/envs/py310/lib/python3.10/site-packages/prompt_toolkit/completion/fuzzy_completer.py'>,\n",
       "   'prompt_toolkit.completion.nested': <module 'prompt_toolkit.completion.nested' from '/Users/junix/miniconda3/envs/py310/lib/python3.10/site-packages/prompt_toolkit/completion/nested.py'>,\n",
       "   'prompt_toolkit.completion': <module 'prompt_toolkit.completion' from '/Users/junix/miniconda3/envs/py310/lib/python3.10/site-packages/prompt_toolkit/completion/__init__.py'>,\n",
       "   'prompt_toolkit.history': <module 'prompt_toolkit.history' from '/Users/junix/miniconda3/envs/py310/lib/python3.10/site-packages/prompt_toolkit/history.py'>,\n",
       "   'prompt_toolkit.search': <module 'prompt_toolkit.search' from '/Users/junix/miniconda3/envs/py310/lib/python3.10/site-packages/prompt_toolkit/search.py'>,\n",
       "   'prompt_toolkit.validation': <module 'prompt_toolkit.validation' from '/Users/junix/miniconda3/envs/py310/lib/python3.10/site-packages/prompt_toolkit/validation.py'>,\n",
       "   'prompt_toolkit.buffer': <module 'prompt_toolkit.buffer' from '/Users/junix/miniconda3/envs/py310/lib/python3.10/site-packages/prompt_toolkit/buffer.py'>,\n",
       "   'prompt_toolkit.input.base': <module 'prompt_toolkit.input.base' from '/Users/junix/miniconda3/envs/py310/lib/python3.10/site-packages/prompt_toolkit/input/base.py'>,\n",
       "   'prompt_toolkit.input.defaults': <module 'prompt_toolkit.input.defaults' from '/Users/junix/miniconda3/envs/py310/lib/python3.10/site-packages/prompt_toolkit/input/defaults.py'>,\n",
       "   'prompt_toolkit.input': <module 'prompt_toolkit.input' from '/Users/junix/miniconda3/envs/py310/lib/python3.10/site-packages/prompt_toolkit/input/__init__.py'>,\n",
       "   'prompt_toolkit.input.typeahead': <module 'prompt_toolkit.input.typeahead' from '/Users/junix/miniconda3/envs/py310/lib/python3.10/site-packages/prompt_toolkit/input/typeahead.py'>,\n",
       "   'prompt_toolkit.key_binding.bindings': <module 'prompt_toolkit.key_binding.bindings' from '/Users/junix/miniconda3/envs/py310/lib/python3.10/site-packages/prompt_toolkit/key_binding/bindings/__init__.py'>,\n",
       "   'prompt_toolkit.key_binding.bindings.scroll': <module 'prompt_toolkit.key_binding.bindings.scroll' from '/Users/junix/miniconda3/envs/py310/lib/python3.10/site-packages/prompt_toolkit/key_binding/bindings/scroll.py'>,\n",
       "   'prompt_toolkit.key_binding.bindings.page_navigation': <module 'prompt_toolkit.key_binding.bindings.page_navigation' from '/Users/junix/miniconda3/envs/py310/lib/python3.10/site-packages/prompt_toolkit/key_binding/bindings/page_navigation.py'>,\n",
       "   'prompt_toolkit.lexers.base': <module 'prompt_toolkit.lexers.base' from '/Users/junix/miniconda3/envs/py310/lib/python3.10/site-packages/prompt_toolkit/lexers/base.py'>,\n",
       "   'prompt_toolkit.lexers.pygments': <module 'prompt_toolkit.lexers.pygments' from '/Users/junix/miniconda3/envs/py310/lib/python3.10/site-packages/prompt_toolkit/lexers/pygments.py'>,\n",
       "   'prompt_toolkit.lexers': <module 'prompt_toolkit.lexers' from '/Users/junix/miniconda3/envs/py310/lib/python3.10/site-packages/prompt_toolkit/lexers/__init__.py'>,\n",
       "   'prompt_toolkit.layout.utils': <module 'prompt_toolkit.layout.utils' from '/Users/junix/miniconda3/envs/py310/lib/python3.10/site-packages/prompt_toolkit/layout/utils.py'>,\n",
       "   'prompt_toolkit.layout.processors': <module 'prompt_toolkit.layout.processors' from '/Users/junix/miniconda3/envs/py310/lib/python3.10/site-packages/prompt_toolkit/layout/processors.py'>,\n",
       "   'prompt_toolkit.layout.controls': <module 'prompt_toolkit.layout.controls' from '/Users/junix/miniconda3/envs/py310/lib/python3.10/site-packages/prompt_toolkit/layout/controls.py'>,\n",
       "   'prompt_toolkit.layout.dimension': <module 'prompt_toolkit.layout.dimension' from '/Users/junix/miniconda3/envs/py310/lib/python3.10/site-packages/prompt_toolkit/layout/dimension.py'>,\n",
       "   'prompt_toolkit.layout.margins': <module 'prompt_toolkit.layout.margins' from '/Users/junix/miniconda3/envs/py310/lib/python3.10/site-packages/prompt_toolkit/layout/margins.py'>,\n",
       "   'prompt_toolkit.layout.mouse_handlers': <module 'prompt_toolkit.layout.mouse_handlers' from '/Users/junix/miniconda3/envs/py310/lib/python3.10/site-packages/prompt_toolkit/layout/mouse_handlers.py'>,\n",
       "   'prompt_toolkit.layout.screen': <module 'prompt_toolkit.layout.screen' from '/Users/junix/miniconda3/envs/py310/lib/python3.10/site-packages/prompt_toolkit/layout/screen.py'>,\n",
       "   'prompt_toolkit.layout.containers': <module 'prompt_toolkit.layout.containers' from '/Users/junix/miniconda3/envs/py310/lib/python3.10/site-packages/prompt_toolkit/layout/containers.py'>,\n",
       "   'prompt_toolkit.layout.layout': <module 'prompt_toolkit.layout.layout' from '/Users/junix/miniconda3/envs/py310/lib/python3.10/site-packages/prompt_toolkit/layout/layout.py'>,\n",
       "   'prompt_toolkit.layout.menus': <module 'prompt_toolkit.layout.menus' from '/Users/junix/miniconda3/envs/py310/lib/python3.10/site-packages/prompt_toolkit/layout/menus.py'>,\n",
       "   'prompt_toolkit.layout.scrollable_pane': <module 'prompt_toolkit.layout.scrollable_pane' from '/Users/junix/miniconda3/envs/py310/lib/python3.10/site-packages/prompt_toolkit/layout/scrollable_pane.py'>,\n",
       "   'prompt_toolkit.layout': <module 'prompt_toolkit.layout' from '/Users/junix/miniconda3/envs/py310/lib/python3.10/site-packages/prompt_toolkit/layout/__init__.py'>,\n",
       "   'prompt_toolkit.key_binding.bindings.completion': <module 'prompt_toolkit.key_binding.bindings.completion' from '/Users/junix/miniconda3/envs/py310/lib/python3.10/site-packages/prompt_toolkit/key_binding/bindings/completion.py'>,\n",
       "   'prompt_toolkit.key_binding.bindings.named_commands': <module 'prompt_toolkit.key_binding.bindings.named_commands' from '/Users/junix/miniconda3/envs/py310/lib/python3.10/site-packages/prompt_toolkit/key_binding/bindings/named_commands.py'>,\n",
       "   'prompt_toolkit.key_binding.bindings.basic': <module 'prompt_toolkit.key_binding.bindings.basic' from '/Users/junix/miniconda3/envs/py310/lib/python3.10/site-packages/prompt_toolkit/key_binding/bindings/basic.py'>,\n",
       "   'prompt_toolkit.key_binding.bindings.cpr': <module 'prompt_toolkit.key_binding.bindings.cpr' from '/Users/junix/miniconda3/envs/py310/lib/python3.10/site-packages/prompt_toolkit/key_binding/bindings/cpr.py'>,\n",
       "   'prompt_toolkit.key_binding.bindings.emacs': <module 'prompt_toolkit.key_binding.bindings.emacs' from '/Users/junix/miniconda3/envs/py310/lib/python3.10/site-packages/prompt_toolkit/key_binding/bindings/emacs.py'>,\n",
       "   'prompt_toolkit.key_binding.bindings.mouse': <module 'prompt_toolkit.key_binding.bindings.mouse' from '/Users/junix/miniconda3/envs/py310/lib/python3.10/site-packages/prompt_toolkit/key_binding/bindings/mouse.py'>,\n",
       "   'prompt_toolkit.input.ansi_escape_sequences': <module 'prompt_toolkit.input.ansi_escape_sequences' from '/Users/junix/miniconda3/envs/py310/lib/python3.10/site-packages/prompt_toolkit/input/ansi_escape_sequences.py'>,\n",
       "   'prompt_toolkit.input.vt100_parser': <module 'prompt_toolkit.input.vt100_parser' from '/Users/junix/miniconda3/envs/py310/lib/python3.10/site-packages/prompt_toolkit/input/vt100_parser.py'>,\n",
       "   'prompt_toolkit.key_binding.digraphs': <module 'prompt_toolkit.key_binding.digraphs' from '/Users/junix/miniconda3/envs/py310/lib/python3.10/site-packages/prompt_toolkit/key_binding/digraphs.py'>,\n",
       "   'prompt_toolkit.key_binding.bindings.vi': <module 'prompt_toolkit.key_binding.bindings.vi' from '/Users/junix/miniconda3/envs/py310/lib/python3.10/site-packages/prompt_toolkit/key_binding/bindings/vi.py'>,\n",
       "   'prompt_toolkit.key_binding.defaults': <module 'prompt_toolkit.key_binding.defaults' from '/Users/junix/miniconda3/envs/py310/lib/python3.10/site-packages/prompt_toolkit/key_binding/defaults.py'>,\n",
       "   'prompt_toolkit.key_binding.emacs_state': <module 'prompt_toolkit.key_binding.emacs_state' from '/Users/junix/miniconda3/envs/py310/lib/python3.10/site-packages/prompt_toolkit/key_binding/emacs_state.py'>,\n",
       "   'prompt_toolkit.layout.dummy': <module 'prompt_toolkit.layout.dummy' from '/Users/junix/miniconda3/envs/py310/lib/python3.10/site-packages/prompt_toolkit/layout/dummy.py'>,\n",
       "   'prompt_toolkit.renderer': <module 'prompt_toolkit.renderer' from '/Users/junix/miniconda3/envs/py310/lib/python3.10/site-packages/prompt_toolkit/renderer.py'>,\n",
       "   'prompt_toolkit.application.application': <module 'prompt_toolkit.application.application' from '/Users/junix/miniconda3/envs/py310/lib/python3.10/site-packages/prompt_toolkit/application/application.py'>,\n",
       "   'prompt_toolkit.application.dummy': <module 'prompt_toolkit.application.dummy' from '/Users/junix/miniconda3/envs/py310/lib/python3.10/site-packages/prompt_toolkit/application/dummy.py'>,\n",
       "   'prompt_toolkit.application': <module 'prompt_toolkit.application' from '/Users/junix/miniconda3/envs/py310/lib/python3.10/site-packages/prompt_toolkit/application/__init__.py'>,\n",
       "   'prompt_toolkit.key_binding.bindings.focus': <module 'prompt_toolkit.key_binding.bindings.focus' from '/Users/junix/miniconda3/envs/py310/lib/python3.10/site-packages/prompt_toolkit/key_binding/bindings/focus.py'>,\n",
       "   'prompt_toolkit.widgets.toolbars': <module 'prompt_toolkit.widgets.toolbars' from '/Users/junix/miniconda3/envs/py310/lib/python3.10/site-packages/prompt_toolkit/widgets/toolbars.py'>,\n",
       "   'prompt_toolkit.widgets.base': <module 'prompt_toolkit.widgets.base' from '/Users/junix/miniconda3/envs/py310/lib/python3.10/site-packages/prompt_toolkit/widgets/base.py'>,\n",
       "   'prompt_toolkit.widgets.dialogs': <module 'prompt_toolkit.widgets.dialogs' from '/Users/junix/miniconda3/envs/py310/lib/python3.10/site-packages/prompt_toolkit/widgets/dialogs.py'>,\n",
       "   'prompt_toolkit.widgets.menus': <module 'prompt_toolkit.widgets.menus' from '/Users/junix/miniconda3/envs/py310/lib/python3.10/site-packages/prompt_toolkit/widgets/menus.py'>,\n",
       "   'prompt_toolkit.widgets': <module 'prompt_toolkit.widgets' from '/Users/junix/miniconda3/envs/py310/lib/python3.10/site-packages/prompt_toolkit/widgets/__init__.py'>,\n",
       "   'prompt_toolkit.shortcuts.dialogs': <module 'prompt_toolkit.shortcuts.dialogs' from '/Users/junix/miniconda3/envs/py310/lib/python3.10/site-packages/prompt_toolkit/shortcuts/dialogs.py'>,\n",
       "   'prompt_toolkit.shortcuts.progress_bar.formatters': <module 'prompt_toolkit.shortcuts.progress_bar.formatters' from '/Users/junix/miniconda3/envs/py310/lib/python3.10/site-packages/prompt_toolkit/shortcuts/progress_bar/formatters.py'>,\n",
       "   'prompt_toolkit.shortcuts.progress_bar.base': <module 'prompt_toolkit.shortcuts.progress_bar.base' from '/Users/junix/miniconda3/envs/py310/lib/python3.10/site-packages/prompt_toolkit/shortcuts/progress_bar/base.py'>,\n",
       "   'prompt_toolkit.shortcuts.progress_bar': <module 'prompt_toolkit.shortcuts.progress_bar' from '/Users/junix/miniconda3/envs/py310/lib/python3.10/site-packages/prompt_toolkit/shortcuts/progress_bar/__init__.py'>,\n",
       "   'prompt_toolkit.key_binding.bindings.auto_suggest': <module 'prompt_toolkit.key_binding.bindings.auto_suggest' from '/Users/junix/miniconda3/envs/py310/lib/python3.10/site-packages/prompt_toolkit/key_binding/bindings/auto_suggest.py'>,\n",
       "   'prompt_toolkit.key_binding.bindings.open_in_editor': <module 'prompt_toolkit.key_binding.bindings.open_in_editor' from '/Users/junix/miniconda3/envs/py310/lib/python3.10/site-packages/prompt_toolkit/key_binding/bindings/open_in_editor.py'>,\n",
       "   'prompt_toolkit.shortcuts.prompt': <module 'prompt_toolkit.shortcuts.prompt' from '/Users/junix/miniconda3/envs/py310/lib/python3.10/site-packages/prompt_toolkit/shortcuts/prompt.py'>,\n",
       "   'prompt_toolkit.shortcuts.utils': <module 'prompt_toolkit.shortcuts.utils' from '/Users/junix/miniconda3/envs/py310/lib/python3.10/site-packages/prompt_toolkit/shortcuts/utils.py'>,\n",
       "   'prompt_toolkit.shortcuts': <module 'prompt_toolkit.shortcuts' from '/Users/junix/miniconda3/envs/py310/lib/python3.10/site-packages/prompt_toolkit/shortcuts/__init__.py'>,\n",
       "   'prompt_toolkit': <module 'prompt_toolkit' from '/Users/junix/miniconda3/envs/py310/lib/python3.10/site-packages/prompt_toolkit/__init__.py'>,\n",
       "   'prompt_toolkit.patch_stdout': <module 'prompt_toolkit.patch_stdout' from '/Users/junix/miniconda3/envs/py310/lib/python3.10/site-packages/prompt_toolkit/patch_stdout.py'>,\n",
       "   'unicodedata': <module 'unicodedata' from '/Users/junix/miniconda3/envs/py310/lib/python3.10/lib-dynload/unicodedata.cpython-310-darwin.so'>,\n",
       "   'IPython.core.latex_symbols': <module 'IPython.core.latex_symbols' from '/Users/junix/miniconda3/envs/py310/lib/python3.10/site-packages/IPython/core/latex_symbols.py'>,\n",
       "   'IPython.utils.generics': <module 'IPython.utils.generics' from '/Users/junix/miniconda3/envs/py310/lib/python3.10/site-packages/IPython/utils/generics.py'>,\n",
       "   'parso.utils': <module 'parso.utils' from '/Users/junix/miniconda3/envs/py310/lib/python3.10/site-packages/parso/utils.py'>,\n",
       "   'parso.tree': <module 'parso.tree' from '/Users/junix/miniconda3/envs/py310/lib/python3.10/site-packages/parso/tree.py'>,\n",
       "   'parso.python': <module 'parso.python' from '/Users/junix/miniconda3/envs/py310/lib/python3.10/site-packages/parso/python/__init__.py'>,\n",
       "   'parso.python.token': <module 'parso.python.token' from '/Users/junix/miniconda3/envs/py310/lib/python3.10/site-packages/parso/python/token.py'>,\n",
       "   'parso.python.tokenize': <module 'parso.python.tokenize' from '/Users/junix/miniconda3/envs/py310/lib/python3.10/site-packages/parso/python/tokenize.py'>,\n",
       "   'parso.pgen2.grammar_parser': <module 'parso.pgen2.grammar_parser' from '/Users/junix/miniconda3/envs/py310/lib/python3.10/site-packages/parso/pgen2/grammar_parser.py'>,\n",
       "   'parso.pgen2.generator': <module 'parso.pgen2.generator' from '/Users/junix/miniconda3/envs/py310/lib/python3.10/site-packages/parso/pgen2/generator.py'>,\n",
       "   'parso.pgen2': <module 'parso.pgen2' from '/Users/junix/miniconda3/envs/py310/lib/python3.10/site-packages/parso/pgen2/__init__.py'>,\n",
       "   'parso.parser': <module 'parso.parser' from '/Users/junix/miniconda3/envs/py310/lib/python3.10/site-packages/parso/parser.py'>,\n",
       "   'parso._compatibility': <module 'parso._compatibility' from '/Users/junix/miniconda3/envs/py310/lib/python3.10/site-packages/parso/_compatibility.py'>,\n",
       "   'difflib': <module 'difflib' from '/Users/junix/miniconda3/envs/py310/lib/python3.10/difflib.py'>,\n",
       "   'parso.python.prefix': <module 'parso.python.prefix' from '/Users/junix/miniconda3/envs/py310/lib/python3.10/site-packages/parso/python/prefix.py'>,\n",
       "   'parso.python.tree': <module 'parso.python.tree' from '/Users/junix/miniconda3/envs/py310/lib/python3.10/site-packages/parso/python/tree.py'>,\n",
       "   'parso.python.parser': <module 'parso.python.parser' from '/Users/junix/miniconda3/envs/py310/lib/python3.10/site-packages/parso/python/parser.py'>,\n",
       "   'parso.python.diff': <module 'parso.python.diff' from '/Users/junix/miniconda3/envs/py310/lib/python3.10/site-packages/parso/python/diff.py'>,\n",
       "   'gc': <module 'gc' (built-in)>,\n",
       "   'parso.cache': <module 'parso.cache' from '/Users/junix/miniconda3/envs/py310/lib/python3.10/site-packages/parso/cache.py'>,\n",
       "   'parso.normalizer': <module 'parso.normalizer' from '/Users/junix/miniconda3/envs/py310/lib/python3.10/site-packages/parso/normalizer.py'>,\n",
       "   'parso.python.errors': <module 'parso.python.errors' from '/Users/junix/miniconda3/envs/py310/lib/python3.10/site-packages/parso/python/errors.py'>,\n",
       "   'parso.python.pep8': <module 'parso.python.pep8' from '/Users/junix/miniconda3/envs/py310/lib/python3.10/site-packages/parso/python/pep8.py'>,\n",
       "   'parso.file_io': <module 'parso.file_io' from '/Users/junix/miniconda3/envs/py310/lib/python3.10/site-packages/parso/file_io.py'>,\n",
       "   'parso.grammar': <module 'parso.grammar' from '/Users/junix/miniconda3/envs/py310/lib/python3.10/site-packages/parso/grammar.py'>,\n",
       "   'parso': <module 'parso' from '/Users/junix/miniconda3/envs/py310/lib/python3.10/site-packages/parso/__init__.py'>,\n",
       "   'jedi.parser_utils': <module 'jedi.parser_utils' from '/Users/junix/miniconda3/envs/py310/lib/python3.10/site-packages/jedi/parser_utils.py'>,\n",
       "   'jedi.debug': <module 'jedi.debug' from '/Users/junix/miniconda3/envs/py310/lib/python3.10/site-packages/jedi/debug.py'>,\n",
       "   'jedi.settings': <module 'jedi.settings' from '/Users/junix/miniconda3/envs/py310/lib/python3.10/site-packages/jedi/settings.py'>,\n",
       "   'jedi.cache': <module 'jedi.cache' from '/Users/junix/miniconda3/envs/py310/lib/python3.10/site-packages/jedi/cache.py'>,\n",
       "   'jedi.file_io': <module 'jedi.file_io' from '/Users/junix/miniconda3/envs/py310/lib/python3.10/site-packages/jedi/file_io.py'>,\n",
       "   'jedi.inference.cache': <module 'jedi.inference.cache' from '/Users/junix/miniconda3/envs/py310/lib/python3.10/site-packages/jedi/inference/cache.py'>,\n",
       "   'jedi.inference.helpers': <module 'jedi.inference.helpers' from '/Users/junix/miniconda3/envs/py310/lib/python3.10/site-packages/jedi/inference/helpers.py'>,\n",
       "   'jedi.inference.utils': <module 'jedi.inference.utils' from '/Users/junix/miniconda3/envs/py310/lib/python3.10/site-packages/jedi/inference/utils.py'>,\n",
       "   'jedi.inference.base_value': <module 'jedi.inference.base_value' from '/Users/junix/miniconda3/envs/py310/lib/python3.10/site-packages/jedi/inference/base_value.py'>,\n",
       "   'jedi.inference.sys_path': <module 'jedi.inference.sys_path' from '/Users/junix/miniconda3/envs/py310/lib/python3.10/site-packages/jedi/inference/sys_path.py'>,\n",
       "   'jedi.inference.recursion': <module 'jedi.inference.recursion' from '/Users/junix/miniconda3/envs/py310/lib/python3.10/site-packages/jedi/inference/recursion.py'>,\n",
       "   'jedi.inference.flow_analysis': <module 'jedi.inference.flow_analysis' from '/Users/junix/miniconda3/envs/py310/lib/python3.10/site-packages/jedi/inference/flow_analysis.py'>,\n",
       "   'jedi.common': <module 'jedi.common' from '/Users/junix/miniconda3/envs/py310/lib/python3.10/site-packages/jedi/common.py'>,\n",
       "   'jedi.inference.lazy_value': <module 'jedi.inference.lazy_value' from '/Users/junix/miniconda3/envs/py310/lib/python3.10/site-packages/jedi/inference/lazy_value.py'>,\n",
       "   'jedi.inference.docstrings': <module 'jedi.inference.docstrings' from '/Users/junix/miniconda3/envs/py310/lib/python3.10/site-packages/jedi/inference/docstrings.py'>,\n",
       "   'jedi.plugins': <module 'jedi.plugins' from '/Users/junix/miniconda3/envs/py310/lib/python3.10/site-packages/jedi/plugins/__init__.py'>,\n",
       "   'jedi.inference.names': <module 'jedi.inference.names' from '/Users/junix/miniconda3/envs/py310/lib/python3.10/site-packages/jedi/inference/names.py'>,\n",
       "   'jedi.inference.filters': <module 'jedi.inference.filters' from '/Users/junix/miniconda3/envs/py310/lib/python3.10/site-packages/jedi/inference/filters.py'>,\n",
       "   'jedi.inference.compiled.getattr_static': <module 'jedi.inference.compiled.getattr_static' from '/Users/junix/miniconda3/envs/py310/lib/python3.10/site-packages/jedi/inference/compiled/getattr_static.py'>,\n",
       "   'jedi.inference.compiled.access': <module 'jedi.inference.compiled.access' from '/Users/junix/miniconda3/envs/py310/lib/python3.10/site-packages/jedi/inference/compiled/access.py'>,\n",
       "   'jedi.inference.signature': <module 'jedi.inference.signature' from '/Users/junix/miniconda3/envs/py310/lib/python3.10/site-packages/jedi/inference/signature.py'>,\n",
       "   'jedi.inference.context': <module 'jedi.inference.context' from '/Users/junix/miniconda3/envs/py310/lib/python3.10/site-packages/jedi/inference/context.py'>,\n",
       "   'jedi.inference.compiled.value': <module 'jedi.inference.compiled.value' from '/Users/junix/miniconda3/envs/py310/lib/python3.10/site-packages/jedi/inference/compiled/value.py'>,\n",
       "   'jedi.inference.compiled': <module 'jedi.inference.compiled' from '/Users/junix/miniconda3/envs/py310/lib/python3.10/site-packages/jedi/inference/compiled/__init__.py'>,\n",
       "   'jedi.inference.analysis': <module 'jedi.inference.analysis' from '/Users/junix/miniconda3/envs/py310/lib/python3.10/site-packages/jedi/inference/analysis.py'>,\n",
       "   'jedi.inference.gradual': <module 'jedi.inference.gradual' from '/Users/junix/miniconda3/envs/py310/lib/python3.10/site-packages/jedi/inference/gradual/__init__.py'>,\n",
       "   'jedi.inference.value.module': <module 'jedi.inference.value.module' from '/Users/junix/miniconda3/envs/py310/lib/python3.10/site-packages/jedi/inference/value/module.py'>,\n",
       "   'jedi.inference.value.dynamic_arrays': <module 'jedi.inference.value.dynamic_arrays' from '/Users/junix/miniconda3/envs/py310/lib/python3.10/site-packages/jedi/inference/value/dynamic_arrays.py'>,\n",
       "   'jedi.inference.value.iterable': <module 'jedi.inference.value.iterable' from '/Users/junix/miniconda3/envs/py310/lib/python3.10/site-packages/jedi/inference/value/iterable.py'>,\n",
       "   'jedi.inference.arguments': <module 'jedi.inference.arguments' from '/Users/junix/miniconda3/envs/py310/lib/python3.10/site-packages/jedi/inference/arguments.py'>,\n",
       "   'jedi.inference.parser_cache': <module 'jedi.inference.parser_cache' from '/Users/junix/miniconda3/envs/py310/lib/python3.10/site-packages/jedi/inference/parser_cache.py'>,\n",
       "   'jedi.inference.gradual.generics': <module 'jedi.inference.gradual.generics' from '/Users/junix/miniconda3/envs/py310/lib/python3.10/site-packages/jedi/inference/gradual/generics.py'>,\n",
       "   'jedi.inference.value.function': <module 'jedi.inference.value.function' from '/Users/junix/miniconda3/envs/py310/lib/python3.10/site-packages/jedi/inference/value/function.py'>,\n",
       "   'jedi.inference.value.klass': <module 'jedi.inference.value.klass' from '/Users/junix/miniconda3/envs/py310/lib/python3.10/site-packages/jedi/inference/value/klass.py'>,\n",
       "   'jedi.inference.value.instance': <module 'jedi.inference.value.instance' from '/Users/junix/miniconda3/envs/py310/lib/python3.10/site-packages/jedi/inference/value/instance.py'>,\n",
       "   'jedi.inference.value': <module 'jedi.inference.value' from '/Users/junix/miniconda3/envs/py310/lib/python3.10/site-packages/jedi/inference/value/__init__.py'>,\n",
       "   'jedi.inference.gradual.base': <module 'jedi.inference.gradual.base' from '/Users/junix/miniconda3/envs/py310/lib/python3.10/site-packages/jedi/inference/gradual/base.py'>,\n",
       "   'jedi.inference.gradual.type_var': <module 'jedi.inference.gradual.type_var' from '/Users/junix/miniconda3/envs/py310/lib/python3.10/site-packages/jedi/inference/gradual/type_var.py'>,\n",
       "   'jedi.inference.gradual.typing': <module 'jedi.inference.gradual.typing' from '/Users/junix/miniconda3/envs/py310/lib/python3.10/site-packages/jedi/inference/gradual/typing.py'>,\n",
       "   'jedi.inference.gradual.stub_value': <module 'jedi.inference.gradual.stub_value' from '/Users/junix/miniconda3/envs/py310/lib/python3.10/site-packages/jedi/inference/gradual/stub_value.py'>,\n",
       "   'jedi.inference.gradual.typeshed': <module 'jedi.inference.gradual.typeshed' from '/Users/junix/miniconda3/envs/py310/lib/python3.10/site-packages/jedi/inference/gradual/typeshed.py'>,\n",
       "   'jedi._compatibility': <module 'jedi._compatibility' from '/Users/junix/miniconda3/envs/py310/lib/python3.10/site-packages/jedi/_compatibility.py'>,\n",
       "   'jedi.inference.compiled.subprocess.functions': <module 'jedi.inference.compiled.subprocess.functions' from '/Users/junix/miniconda3/envs/py310/lib/python3.10/site-packages/jedi/inference/compiled/subprocess/functions.py'>,\n",
       "   'jedi.api.exceptions': <module 'jedi.api.exceptions' from '/Users/junix/miniconda3/envs/py310/lib/python3.10/site-packages/jedi/api/exceptions.py'>,\n",
       "   'jedi.inference.compiled.subprocess': <module 'jedi.inference.compiled.subprocess' from '/Users/junix/miniconda3/envs/py310/lib/python3.10/site-packages/jedi/inference/compiled/subprocess/__init__.py'>,\n",
       "   'jedi.inference.imports': <module 'jedi.inference.imports' from '/Users/junix/miniconda3/envs/py310/lib/python3.10/site-packages/jedi/inference/imports.py'>,\n",
       "   'jedi.inference.param': <module 'jedi.inference.param' from '/Users/junix/miniconda3/envs/py310/lib/python3.10/site-packages/jedi/inference/param.py'>,\n",
       "   'jedi.inference.gradual.annotation': <module 'jedi.inference.gradual.annotation' from '/Users/junix/miniconda3/envs/py310/lib/python3.10/site-packages/jedi/inference/gradual/annotation.py'>,\n",
       "   'jedi.inference.value.decorator': <module 'jedi.inference.value.decorator' from '/Users/junix/miniconda3/envs/py310/lib/python3.10/site-packages/jedi/inference/value/decorator.py'>,\n",
       "   'jedi.inference.syntax_tree': <module 'jedi.inference.syntax_tree' from '/Users/junix/miniconda3/envs/py310/lib/python3.10/site-packages/jedi/inference/syntax_tree.py'>,\n",
       "   'jedi.inference': <module 'jedi.inference' from '/Users/junix/miniconda3/envs/py310/lib/python3.10/site-packages/jedi/inference/__init__.py'>,\n",
       "   'jedi.inference.gradual.conversion': <module 'jedi.inference.gradual.conversion' from '/Users/junix/miniconda3/envs/py310/lib/python3.10/site-packages/jedi/inference/gradual/conversion.py'>,\n",
       "   'jedi.inference.compiled.mixed': <module 'jedi.inference.compiled.mixed' from '/Users/junix/miniconda3/envs/py310/lib/python3.10/site-packages/jedi/inference/compiled/mixed.py'>,\n",
       "   'pydoc_data': <module 'pydoc_data' from '/Users/junix/miniconda3/envs/py310/lib/python3.10/pydoc_data/__init__.py'>,\n",
       "   'pydoc_data.topics': <module 'pydoc_data.topics' from '/Users/junix/miniconda3/envs/py310/lib/python3.10/pydoc_data/topics.py'>,\n",
       "   'jedi.api.keywords': <module 'jedi.api.keywords' from '/Users/junix/miniconda3/envs/py310/lib/python3.10/site-packages/jedi/api/keywords.py'>,\n",
       "   'jedi.api.completion_cache': <module 'jedi.api.completion_cache' from '/Users/junix/miniconda3/envs/py310/lib/python3.10/site-packages/jedi/api/completion_cache.py'>,\n",
       "   'jedi.api.helpers': <module 'jedi.api.helpers' from '/Users/junix/miniconda3/envs/py310/lib/python3.10/site-packages/jedi/api/helpers.py'>,\n",
       "   'jedi.api.classes': <module 'jedi.api.classes' from '/Users/junix/miniconda3/envs/py310/lib/python3.10/site-packages/jedi/api/classes.py'>,\n",
       "   'jedi.api.interpreter': <module 'jedi.api.interpreter' from '/Users/junix/miniconda3/envs/py310/lib/python3.10/site-packages/jedi/api/interpreter.py'>,\n",
       "   'jedi.api.strings': <module 'jedi.api.strings' from '/Users/junix/miniconda3/envs/py310/lib/python3.10/site-packages/jedi/api/strings.py'>,\n",
       "   'jedi.api.file_name': <module 'jedi.api.file_name' from '/Users/junix/miniconda3/envs/py310/lib/python3.10/site-packages/jedi/api/file_name.py'>,\n",
       "   'jedi.inference.docstring_utils': <module 'jedi.inference.docstring_utils' from '/Users/junix/miniconda3/envs/py310/lib/python3.10/site-packages/jedi/inference/docstring_utils.py'>,\n",
       "   'jedi.api.completion': <module 'jedi.api.completion' from '/Users/junix/miniconda3/envs/py310/lib/python3.10/site-packages/jedi/api/completion.py'>,\n",
       "   'filecmp': <module 'filecmp' from '/Users/junix/miniconda3/envs/py310/lib/python3.10/filecmp.py'>,\n",
       "   'jedi.api.environment': <module 'jedi.api.environment' from '/Users/junix/miniconda3/envs/py310/lib/python3.10/site-packages/jedi/api/environment.py'>,\n",
       "   'jedi.inference.references': <module 'jedi.inference.references' from '/Users/junix/miniconda3/envs/py310/lib/python3.10/site-packages/jedi/inference/references.py'>,\n",
       "   'jedi.api.project': <module 'jedi.api.project' from '/Users/junix/miniconda3/envs/py310/lib/python3.10/site-packages/jedi/api/project.py'>,\n",
       "   'jedi.api.errors': <module 'jedi.api.errors' from '/Users/junix/miniconda3/envs/py310/lib/python3.10/site-packages/jedi/api/errors.py'>,\n",
       "   'jedi.api.refactoring': <module 'jedi.api.refactoring' from '/Users/junix/miniconda3/envs/py310/lib/python3.10/site-packages/jedi/api/refactoring/__init__.py'>,\n",
       "   'jedi.api.refactoring.extract': <module 'jedi.api.refactoring.extract' from '/Users/junix/miniconda3/envs/py310/lib/python3.10/site-packages/jedi/api/refactoring/extract.py'>,\n",
       "   'jedi.inference.gradual.utils': <module 'jedi.inference.gradual.utils' from '/Users/junix/miniconda3/envs/py310/lib/python3.10/site-packages/jedi/inference/gradual/utils.py'>,\n",
       "   'jedi.api': <module 'jedi.api' from '/Users/junix/miniconda3/envs/py310/lib/python3.10/site-packages/jedi/api/__init__.py'>,\n",
       "   'jedi.plugins.stdlib': <module 'jedi.plugins.stdlib' from '/Users/junix/miniconda3/envs/py310/lib/python3.10/site-packages/jedi/plugins/stdlib.py'>,\n",
       "   'jedi.plugins.flask': <module 'jedi.plugins.flask' from '/Users/junix/miniconda3/envs/py310/lib/python3.10/site-packages/jedi/plugins/flask.py'>,\n",
       "   'jedi.plugins.pytest': <module 'jedi.plugins.pytest' from '/Users/junix/miniconda3/envs/py310/lib/python3.10/site-packages/jedi/plugins/pytest.py'>,\n",
       "   'jedi.plugins.django': <module 'jedi.plugins.django' from '/Users/junix/miniconda3/envs/py310/lib/python3.10/site-packages/jedi/plugins/django.py'>,\n",
       "   'jedi.plugins.registry': <module 'jedi.plugins.registry' from '/Users/junix/miniconda3/envs/py310/lib/python3.10/site-packages/jedi/plugins/registry.py'>,\n",
       "   'jedi': <module 'jedi' from '/Users/junix/miniconda3/envs/py310/lib/python3.10/site-packages/jedi/__init__.py'>,\n",
       "   'IPython.core.completer': <module 'IPython.core.completer' from '/Users/junix/miniconda3/envs/py310/lib/python3.10/site-packages/IPython/core/completer.py'>,\n",
       "   'IPython.terminal.ptutils': <module 'IPython.terminal.ptutils' from '/Users/junix/miniconda3/envs/py310/lib/python3.10/site-packages/IPython/terminal/ptutils.py'>,\n",
       "   'IPython.terminal.shortcuts': <module 'IPython.terminal.shortcuts' from '/Users/junix/miniconda3/envs/py310/lib/python3.10/site-packages/IPython/terminal/shortcuts.py'>,\n",
       "   'concurrent.futures.thread': <module 'concurrent.futures.thread' from '/Users/junix/miniconda3/envs/py310/lib/python3.10/concurrent/futures/thread.py'>,\n",
       "   'IPython.terminal.debugger': <module 'IPython.terminal.debugger' from '/Users/junix/miniconda3/envs/py310/lib/python3.10/site-packages/IPython/terminal/debugger.py'>,\n",
       "   'IPython.lib.clipboard': <module 'IPython.lib.clipboard' from '/Users/junix/miniconda3/envs/py310/lib/python3.10/site-packages/IPython/lib/clipboard.py'>,\n",
       "   'IPython.terminal.magics': <module 'IPython.terminal.magics' from '/Users/junix/miniconda3/envs/py310/lib/python3.10/site-packages/IPython/terminal/magics.py'>,\n",
       "   'IPython.terminal.pt_inputhooks': <module 'IPython.terminal.pt_inputhooks' from '/Users/junix/miniconda3/envs/py310/lib/python3.10/site-packages/IPython/terminal/pt_inputhooks/__init__.py'>,\n",
       "   'IPython.terminal.prompts': <module 'IPython.terminal.prompts' from '/Users/junix/miniconda3/envs/py310/lib/python3.10/site-packages/IPython/terminal/prompts.py'>,\n",
       "   'IPython.terminal.interactiveshell': <module 'IPython.terminal.interactiveshell' from '/Users/junix/miniconda3/envs/py310/lib/python3.10/site-packages/IPython/terminal/interactiveshell.py'>,\n",
       "   'IPython.core.magics.auto': <module 'IPython.core.magics.auto' from '/Users/junix/miniconda3/envs/py310/lib/python3.10/site-packages/IPython/core/magics/auto.py'>,\n",
       "   'IPython.core.magics.basic': <module 'IPython.core.magics.basic' from '/Users/junix/miniconda3/envs/py310/lib/python3.10/site-packages/IPython/core/magics/basic.py'>,\n",
       "   'email': <module 'email' from '/Users/junix/miniconda3/envs/py310/lib/python3.10/email/__init__.py'>,\n",
       "   'http': <module 'http' from '/Users/junix/miniconda3/envs/py310/lib/python3.10/http/__init__.py'>,\n",
       "   'email.errors': <module 'email.errors' from '/Users/junix/miniconda3/envs/py310/lib/python3.10/email/errors.py'>,\n",
       "   'email.quoprimime': <module 'email.quoprimime' from '/Users/junix/miniconda3/envs/py310/lib/python3.10/email/quoprimime.py'>,\n",
       "   'email.base64mime': <module 'email.base64mime' from '/Users/junix/miniconda3/envs/py310/lib/python3.10/email/base64mime.py'>,\n",
       "   'quopri': <module 'quopri' from '/Users/junix/miniconda3/envs/py310/lib/python3.10/quopri.py'>,\n",
       "   'email.encoders': <module 'email.encoders' from '/Users/junix/miniconda3/envs/py310/lib/python3.10/email/encoders.py'>,\n",
       "   'email.charset': <module 'email.charset' from '/Users/junix/miniconda3/envs/py310/lib/python3.10/email/charset.py'>,\n",
       "   'email.header': <module 'email.header' from '/Users/junix/miniconda3/envs/py310/lib/python3.10/email/header.py'>,\n",
       "   'email._parseaddr': <module 'email._parseaddr' from '/Users/junix/miniconda3/envs/py310/lib/python3.10/email/_parseaddr.py'>,\n",
       "   'email.utils': <module 'email.utils' from '/Users/junix/miniconda3/envs/py310/lib/python3.10/email/utils.py'>,\n",
       "   'email._policybase': <module 'email._policybase' from '/Users/junix/miniconda3/envs/py310/lib/python3.10/email/_policybase.py'>,\n",
       "   'email.feedparser': <module 'email.feedparser' from '/Users/junix/miniconda3/envs/py310/lib/python3.10/email/feedparser.py'>,\n",
       "   'email.parser': <module 'email.parser' from '/Users/junix/miniconda3/envs/py310/lib/python3.10/email/parser.py'>,\n",
       "   'uu': <module 'uu' from '/Users/junix/miniconda3/envs/py310/lib/python3.10/uu.py'>,\n",
       "   'email._encoded_words': <module 'email._encoded_words' from '/Users/junix/miniconda3/envs/py310/lib/python3.10/email/_encoded_words.py'>,\n",
       "   'email.iterators': <module 'email.iterators' from '/Users/junix/miniconda3/envs/py310/lib/python3.10/email/iterators.py'>,\n",
       "   'email.message': <module 'email.message' from '/Users/junix/miniconda3/envs/py310/lib/python3.10/email/message.py'>,\n",
       "   'http.client': <module 'http.client' from '/Users/junix/miniconda3/envs/py310/lib/python3.10/http/client.py'>,\n",
       "   'urllib.response': <module 'urllib.response' from '/Users/junix/miniconda3/envs/py310/lib/python3.10/urllib/response.py'>,\n",
       "   'urllib.error': <module 'urllib.error' from '/Users/junix/miniconda3/envs/py310/lib/python3.10/urllib/error.py'>,\n",
       "   '_scproxy': <module '_scproxy' from '/Users/junix/miniconda3/envs/py310/lib/python3.10/lib-dynload/_scproxy.cpython-310-darwin.so'>,\n",
       "   'urllib.request': <module 'urllib.request' from '/Users/junix/miniconda3/envs/py310/lib/python3.10/urllib/request.py'>,\n",
       "   'IPython.utils.contexts': <module 'IPython.utils.contexts' from '/Users/junix/miniconda3/envs/py310/lib/python3.10/site-packages/IPython/utils/contexts.py'>,\n",
       "   'IPython.core.magics.code': <module 'IPython.core.magics.code' from '/Users/junix/miniconda3/envs/py310/lib/python3.10/site-packages/IPython/core/magics/code.py'>,\n",
       "   'IPython.core.magics.config': <module 'IPython.core.magics.config' from '/Users/junix/miniconda3/envs/py310/lib/python3.10/site-packages/IPython/core/magics/config.py'>,\n",
       "   'IPython.core.magics.display': <module 'IPython.core.magics.display' from '/Users/junix/miniconda3/envs/py310/lib/python3.10/site-packages/IPython/core/magics/display.py'>,\n",
       "   '_lsprof': <module '_lsprof' from '/Users/junix/miniconda3/envs/py310/lib/python3.10/lib-dynload/_lsprof.cpython-310-darwin.so'>,\n",
       "   'profile': <module 'profile' from '/Users/junix/miniconda3/envs/py310/lib/python3.10/profile.py'>,\n",
       "   'cProfile': <module 'cProfile' from '/Users/junix/miniconda3/envs/py310/lib/python3.10/cProfile.py'>,\n",
       "   'pstats': <module 'pstats' from '/Users/junix/miniconda3/envs/py310/lib/python3.10/pstats.py'>,\n",
       "   'timeit': <module 'timeit' from '/Users/junix/miniconda3/envs/py310/lib/python3.10/timeit.py'>,\n",
       "   'IPython.utils.module_paths': <module 'IPython.utils.module_paths' from '/Users/junix/miniconda3/envs/py310/lib/python3.10/site-packages/IPython/utils/module_paths.py'>,\n",
       "   'IPython.utils.timing': <module 'IPython.utils.timing' from '/Users/junix/miniconda3/envs/py310/lib/python3.10/site-packages/IPython/utils/timing.py'>,\n",
       "   'IPython.core.magics.execution': <module 'IPython.core.magics.execution' from '/Users/junix/miniconda3/envs/py310/lib/python3.10/site-packages/IPython/core/magics/execution.py'>,\n",
       "   'IPython.core.magics.extension': <module 'IPython.core.magics.extension' from '/Users/junix/miniconda3/envs/py310/lib/python3.10/site-packages/IPython/core/magics/extension.py'>,\n",
       "   'IPython.core.magics.history': <module 'IPython.core.magics.history' from '/Users/junix/miniconda3/envs/py310/lib/python3.10/site-packages/IPython/core/magics/history.py'>,\n",
       "   'IPython.core.magics.logging': <module 'IPython.core.magics.logging' from '/Users/junix/miniconda3/envs/py310/lib/python3.10/site-packages/IPython/core/magics/logging.py'>,\n",
       "   'IPython.core.magics.namespace': <module 'IPython.core.magics.namespace' from '/Users/junix/miniconda3/envs/py310/lib/python3.10/site-packages/IPython/core/magics/namespace.py'>,\n",
       "   'IPython.core.magics.osm': <module 'IPython.core.magics.osm' from '/Users/junix/miniconda3/envs/py310/lib/python3.10/site-packages/IPython/core/magics/osm.py'>,\n",
       "   'IPython.core.magics.packaging': <module 'IPython.core.magics.packaging' from '/Users/junix/miniconda3/envs/py310/lib/python3.10/site-packages/IPython/core/magics/packaging.py'>,\n",
       "   'IPython.core.pylabtools': <module 'IPython.core.pylabtools' from '/Users/junix/miniconda3/envs/py310/lib/python3.10/site-packages/IPython/core/pylabtools.py'>,\n",
       "   'IPython.core.magics.pylab': <module 'IPython.core.magics.pylab' from '/Users/junix/miniconda3/envs/py310/lib/python3.10/site-packages/IPython/core/magics/pylab.py'>,\n",
       "   'IPython.core.magics.script': <module 'IPython.core.magics.script' from '/Users/junix/miniconda3/envs/py310/lib/python3.10/site-packages/IPython/core/magics/script.py'>,\n",
       "   'IPython.core.magics': <module 'IPython.core.magics' from '/Users/junix/miniconda3/envs/py310/lib/python3.10/site-packages/IPython/core/magics/__init__.py'>,\n",
       "   'IPython.core.shellapp': <module 'IPython.core.shellapp' from '/Users/junix/miniconda3/envs/py310/lib/python3.10/site-packages/IPython/core/shellapp.py'>,\n",
       "   'IPython.extensions': <module 'IPython.extensions' from '/Users/junix/miniconda3/envs/py310/lib/python3.10/site-packages/IPython/extensions/__init__.py'>,\n",
       "   'IPython.extensions.storemagic': <module 'IPython.extensions.storemagic' from '/Users/junix/miniconda3/envs/py310/lib/python3.10/site-packages/IPython/extensions/storemagic.py'>,\n",
       "   'IPython.terminal.ipapp': <module 'IPython.terminal.ipapp' from '/Users/junix/miniconda3/envs/py310/lib/python3.10/site-packages/IPython/terminal/ipapp.py'>,\n",
       "   'IPython.terminal.embed': <module 'IPython.terminal.embed' from '/Users/junix/miniconda3/envs/py310/lib/python3.10/site-packages/IPython/terminal/embed.py'>,\n",
       "   'IPython.utils.frame': <module 'IPython.utils.frame' from '/Users/junix/miniconda3/envs/py310/lib/python3.10/site-packages/IPython/utils/frame.py'>,\n",
       "   'IPython': <module 'IPython' from '/Users/junix/miniconda3/envs/py310/lib/python3.10/site-packages/IPython/__init__.py'>,\n",
       "   'ipykernel.control': <module 'ipykernel.control' from '/Users/junix/miniconda3/envs/py310/lib/python3.10/site-packages/ipykernel/control.py'>,\n",
       "   'ipykernel.heartbeat': <module 'ipykernel.heartbeat' from '/Users/junix/miniconda3/envs/py310/lib/python3.10/site-packages/ipykernel/heartbeat.py'>,\n",
       "   'ipykernel.iostream': <module 'ipykernel.iostream' from '/Users/junix/miniconda3/envs/py310/lib/python3.10/site-packages/ipykernel/iostream.py'>,\n",
       "   'IPython.utils.tokenutil': <module 'IPython.utils.tokenutil' from '/Users/junix/miniconda3/envs/py310/lib/python3.10/site-packages/IPython/utils/tokenutil.py'>,\n",
       "   'ipykernel.jsonutil': <module 'ipykernel.jsonutil' from '/Users/junix/miniconda3/envs/py310/lib/python3.10/site-packages/ipykernel/jsonutil.py'>,\n",
       "   'pwd': <module 'pwd' (built-in)>,\n",
       "   'psutil._common': <module 'psutil._common' from '/Users/junix/miniconda3/envs/py310/lib/python3.10/site-packages/psutil/_common.py'>,\n",
       "   'psutil._compat': <module 'psutil._compat' from '/Users/junix/miniconda3/envs/py310/lib/python3.10/site-packages/psutil/_compat.py'>,\n",
       "   'psutil._psposix': <module 'psutil._psposix' from '/Users/junix/miniconda3/envs/py310/lib/python3.10/site-packages/psutil/_psposix.py'>,\n",
       "   'psutil._psutil_osx': <module 'psutil._psutil_osx' from '/Users/junix/miniconda3/envs/py310/lib/python3.10/site-packages/psutil/_psutil_osx.cpython-310-darwin.so'>,\n",
       "   'psutil._psutil_posix': <module 'psutil._psutil_posix' from '/Users/junix/miniconda3/envs/py310/lib/python3.10/site-packages/psutil/_psutil_posix.cpython-310-darwin.so'>,\n",
       "   'psutil._psosx': <module 'psutil._psosx' from '/Users/junix/miniconda3/envs/py310/lib/python3.10/site-packages/psutil/_psosx.py'>,\n",
       "   'psutil': <module 'psutil' from '/Users/junix/miniconda3/envs/py310/lib/python3.10/site-packages/psutil/__init__.py'>,\n",
       "   'tornado.locks': <module 'tornado.locks' from '/Users/junix/miniconda3/envs/py310/lib/python3.10/site-packages/tornado/locks.py'>,\n",
       "   'tornado.queues': <module 'tornado.queues' from '/Users/junix/miniconda3/envs/py310/lib/python3.10/site-packages/tornado/queues.py'>,\n",
       "   'ipykernel.kernelbase': <module 'ipykernel.kernelbase' from '/Users/junix/miniconda3/envs/py310/lib/python3.10/site-packages/ipykernel/kernelbase.py'>,\n",
       "   'ipykernel.comm.comm': <module 'ipykernel.comm.comm' from '/Users/junix/miniconda3/envs/py310/lib/python3.10/site-packages/ipykernel/comm/comm.py'>,\n",
       "   'ipykernel.comm.manager': <module 'ipykernel.comm.manager' from '/Users/junix/miniconda3/envs/py310/lib/python3.10/site-packages/ipykernel/comm/manager.py'>,\n",
       "   'ipykernel.comm': <module 'ipykernel.comm' from '/Users/junix/miniconda3/envs/py310/lib/python3.10/site-packages/ipykernel/comm/__init__.py'>,\n",
       "   'ipykernel.compiler': <module 'ipykernel.compiler' from '/Users/junix/miniconda3/envs/py310/lib/python3.10/site-packages/ipykernel/compiler.py'>,\n",
       "   'debugpy._version': <module 'debugpy._version' from '/Users/junix/miniconda3/envs/py310/lib/python3.10/site-packages/debugpy/_version.py'>,\n",
       "   'debugpy.common': <module 'debugpy.common' from '/Users/junix/miniconda3/envs/py310/lib/python3.10/site-packages/debugpy/common/__init__.py'>,\n",
       "   'debugpy.common.json': <module 'debugpy.common.json' from '/Users/junix/miniconda3/envs/py310/lib/python3.10/site-packages/debugpy/common/json.py'>,\n",
       "   'debugpy.common.fmt': <module 'debugpy.common.fmt' from '/Users/junix/miniconda3/envs/py310/lib/python3.10/site-packages/debugpy/common/fmt.py'>,\n",
       "   'debugpy.common.compat': <module 'debugpy.common.compat' from '/Users/junix/miniconda3/envs/py310/lib/python3.10/site-packages/debugpy/common/compat.py'>,\n",
       "   'debugpy': <module 'debugpy' from '/Users/junix/miniconda3/envs/py310/lib/python3.10/site-packages/debugpy/__init__.py'>,\n",
       "   'debugpy._vendored._util': <module 'debugpy._vendored._util' from '/Users/junix/miniconda3/envs/py310/lib/python3.10/site-packages/debugpy/_vendored/_util.py'>,\n",
       "   'debugpy._vendored': <module 'debugpy._vendored' from '/Users/junix/miniconda3/envs/py310/lib/python3.10/site-packages/debugpy/_vendored/__init__.py'>,\n",
       "   '_pydevd_bundle': <module '_pydevd_bundle' from '/Users/junix/miniconda3/envs/py310/lib/python3.10/site-packages/debugpy/_vendored/pydevd/_pydevd_bundle/__init__.py'>,\n",
       "   'encodings.ascii': <module 'encodings.ascii' from '/Users/junix/miniconda3/envs/py310/lib/python3.10/encodings/ascii.py'>,\n",
       "   'encodings.latin_1': <module 'encodings.latin_1' from '/Users/junix/miniconda3/envs/py310/lib/python3.10/encodings/latin_1.py'>,\n",
       "   'stringprep': <module 'stringprep' from '/Users/junix/miniconda3/envs/py310/lib/python3.10/stringprep.py'>,\n",
       "   'encodings.idna': <module 'encodings.idna' from '/Users/junix/miniconda3/envs/py310/lib/python3.10/encodings/idna.py'>,\n",
       "   '_pydevd_bundle.pydevd_vm_type': <module '_pydevd_bundle.pydevd_vm_type' from '/Users/junix/miniconda3/envs/py310/lib/python3.10/site-packages/debugpy/_vendored/pydevd/_pydevd_bundle/pydevd_vm_type.py'>,\n",
       "   '_pydev_imps': <module '_pydev_imps' from '/Users/junix/miniconda3/envs/py310/lib/python3.10/site-packages/debugpy/_vendored/pydevd/_pydev_imps/__init__.py'>,\n",
       "   'xmlrpc': <module 'xmlrpc' from '/Users/junix/miniconda3/envs/py310/lib/python3.10/xmlrpc/__init__.py'>,\n",
       "   'xml.parsers': <module 'xml.parsers' from '/Users/junix/miniconda3/envs/py310/lib/python3.10/xml/parsers/__init__.py'>,\n",
       "   'pyexpat.errors': <module 'pyexpat.errors'>,\n",
       "   'pyexpat.model': <module 'pyexpat.model'>,\n",
       "   'pyexpat': <module 'pyexpat' from '/Users/junix/miniconda3/envs/py310/lib/python3.10/lib-dynload/pyexpat.cpython-310-darwin.so'>,\n",
       "   'xml.parsers.expat.model': <module 'pyexpat.model'>,\n",
       "   'xml.parsers.expat.errors': <module 'pyexpat.errors'>,\n",
       "   'xml.parsers.expat': <module 'xml.parsers.expat' from '/Users/junix/miniconda3/envs/py310/lib/python3.10/xml/parsers/expat.py'>,\n",
       "   'gzip': <module 'gzip' from '/Users/junix/miniconda3/envs/py310/lib/python3.10/gzip.py'>,\n",
       "   'xmlrpc.client': <module 'xmlrpc.client' from '/Users/junix/miniconda3/envs/py310/lib/python3.10/xmlrpc/client.py'>,\n",
       "   'http.server': <module 'http.server' from '/Users/junix/miniconda3/envs/py310/lib/python3.10/http/server.py'>,\n",
       "   'xmlrpc.server': <module 'xmlrpc.server' from '/Users/junix/miniconda3/envs/py310/lib/python3.10/xmlrpc/server.py'>,\n",
       "   '_pydev_imps._pydev_saved_modules': <module '_pydev_imps._pydev_saved_modules' from '/Users/junix/miniconda3/envs/py310/lib/python3.10/site-packages/debugpy/_vendored/pydevd/_pydev_imps/_pydev_saved_modules.py'>,\n",
       "   '_pydevd_bundle.pydevd_constants': <module '_pydevd_bundle.pydevd_constants' from '/Users/junix/miniconda3/envs/py310/lib/python3.10/site-packages/debugpy/_vendored/pydevd/_pydevd_bundle/pydevd_constants.py'>,\n",
       "   '_pydev_bundle': <module '_pydev_bundle' from '/Users/junix/miniconda3/envs/py310/lib/python3.10/site-packages/debugpy/_vendored/pydevd/_pydev_bundle/__init__.py'>,\n",
       "   '_pydev_runfiles': <module '_pydev_runfiles' from '/Users/junix/miniconda3/envs/py310/lib/python3.10/site-packages/debugpy/_vendored/pydevd/_pydev_runfiles/__init__.py'>,\n",
       "   '_pydevd_frame_eval': <module '_pydevd_frame_eval' from '/Users/junix/miniconda3/envs/py310/lib/python3.10/site-packages/debugpy/_vendored/pydevd/_pydevd_frame_eval/__init__.py'>,\n",
       "   'pydev_ipython': <module 'pydev_ipython' from '/Users/junix/miniconda3/envs/py310/lib/python3.10/site-packages/debugpy/_vendored/pydevd/pydev_ipython/__init__.py'>,\n",
       "   'pydevd_concurrency_analyser': <module 'pydevd_concurrency_analyser' from '/Users/junix/miniconda3/envs/py310/lib/python3.10/site-packages/debugpy/_vendored/pydevd/pydevd_concurrency_analyser/__init__.py'>,\n",
       "   'plistlib': <module 'plistlib' from '/Users/junix/miniconda3/envs/py310/lib/python3.10/plistlib.py'>,\n",
       "   'pkg_resources.extern': <module 'pkg_resources.extern' from '/Users/junix/miniconda3/envs/py310/lib/python3.10/site-packages/pkg_resources/extern/__init__.py'>,\n",
       "   'pkg_resources._vendor': <module 'pkg_resources._vendor' from '/Users/junix/miniconda3/envs/py310/lib/python3.10/site-packages/pkg_resources/_vendor/__init__.py'>,\n",
       "   'pkg_resources._vendor.jaraco': <module 'pkg_resources.extern.jaraco' (<pkg_resources.extern.VendorImporter object at 0x7feb18774af0>)>,\n",
       "   'pkg_resources.extern.jaraco': <module 'pkg_resources.extern.jaraco' (<pkg_resources.extern.VendorImporter object at 0x7feb18774af0>)>,\n",
       "   'importlib.abc': <module 'importlib.abc' from '/Users/junix/miniconda3/envs/py310/lib/python3.10/importlib/abc.py'>,\n",
       "   'importlib._adapters': <module 'importlib._adapters' from '/Users/junix/miniconda3/envs/py310/lib/python3.10/importlib/_adapters.py'>,\n",
       "   'importlib._common': <module 'importlib._common' from '/Users/junix/miniconda3/envs/py310/lib/python3.10/importlib/_common.py'>,\n",
       "   'importlib.resources': <module 'importlib.resources' from '/Users/junix/miniconda3/envs/py310/lib/python3.10/importlib/resources.py'>,\n",
       "   'pkg_resources._vendor.more_itertools.recipes': <module 'pkg_resources._vendor.more_itertools.recipes' from '/Users/junix/miniconda3/envs/py310/lib/python3.10/site-packages/pkg_resources/_vendor/more_itertools/recipes.py'>,\n",
       "   'pkg_resources._vendor.more_itertools.more': <module 'pkg_resources._vendor.more_itertools.more' from '/Users/junix/miniconda3/envs/py310/lib/python3.10/site-packages/pkg_resources/_vendor/more_itertools/more.py'>,\n",
       "   'pkg_resources._vendor.more_itertools': <module 'pkg_resources.extern.more_itertools' (<pkg_resources.extern.VendorImporter object at 0x7feb18774af0>)>,\n",
       "   'pkg_resources.extern.more_itertools': <module 'pkg_resources.extern.more_itertools' (<pkg_resources.extern.VendorImporter object at 0x7feb18774af0>)>,\n",
       "   'pkg_resources.extern.jaraco.functools': <module 'pkg_resources.extern.jaraco.functools' from '/Users/junix/miniconda3/envs/py310/lib/python3.10/site-packages/pkg_resources/_vendor/jaraco/functools.py'>,\n",
       "   'pkg_resources.extern.jaraco.context': <module 'pkg_resources.extern.jaraco.context' from '/Users/junix/miniconda3/envs/py310/lib/python3.10/site-packages/pkg_resources/_vendor/jaraco/context.py'>,\n",
       "   'pkg_resources.extern.jaraco.text': <module 'pkg_resources.extern.jaraco.text' from '/Users/junix/miniconda3/envs/py310/lib/python3.10/site-packages/pkg_resources/_vendor/jaraco/text/__init__.py'>,\n",
       "   'pkg_resources._vendor.appdirs': <module 'pkg_resources.extern.appdirs' (<pkg_resources.extern.VendorImporter object at 0x7feb18774af0>)>,\n",
       "   'pkg_resources.extern.appdirs': <module 'pkg_resources.extern.appdirs' (<pkg_resources.extern.VendorImporter object at 0x7feb18774af0>)>,\n",
       "   'pkg_resources._vendor.packaging.__about__': <module 'pkg_resources._vendor.packaging.__about__' from '/Users/junix/miniconda3/envs/py310/lib/python3.10/site-packages/pkg_resources/_vendor/packaging/__about__.py'>,\n",
       "   'pkg_resources._vendor.packaging': <module 'pkg_resources.extern.packaging' (<pkg_resources.extern.VendorImporter object at 0x7feb18774af0>)>,\n",
       "   'pkg_resources.extern.packaging': <module 'pkg_resources.extern.packaging' (<pkg_resources.extern.VendorImporter object at 0x7feb18774af0>)>,\n",
       "   'pkg_resources.extern.packaging._structures': <module 'pkg_resources.extern.packaging._structures' from '/Users/junix/miniconda3/envs/py310/lib/python3.10/site-packages/pkg_resources/_vendor/packaging/_structures.py'>,\n",
       "   'pkg_resources.extern.packaging.version': <module 'pkg_resources.extern.packaging.version' from '/Users/junix/miniconda3/envs/py310/lib/python3.10/site-packages/pkg_resources/_vendor/packaging/version.py'>,\n",
       "   'pkg_resources._vendor.packaging._manylinux': <module 'pkg_resources._vendor.packaging._manylinux' from '/Users/junix/miniconda3/envs/py310/lib/python3.10/site-packages/pkg_resources/_vendor/packaging/_manylinux.py'>,\n",
       "   'pkg_resources._vendor.packaging._musllinux': <module 'pkg_resources._vendor.packaging._musllinux' from '/Users/junix/miniconda3/envs/py310/lib/python3.10/site-packages/pkg_resources/_vendor/packaging/_musllinux.py'>,\n",
       "   'pkg_resources.extern.packaging.tags': <module 'pkg_resources.extern.packaging.tags' from '/Users/junix/miniconda3/envs/py310/lib/python3.10/site-packages/pkg_resources/_vendor/packaging/tags.py'>,\n",
       "   'pkg_resources.extern.packaging.utils': <module 'pkg_resources.extern.packaging.utils' from '/Users/junix/miniconda3/envs/py310/lib/python3.10/site-packages/pkg_resources/_vendor/packaging/utils.py'>,\n",
       "   'pkg_resources.extern.packaging.specifiers': <module 'pkg_resources.extern.packaging.specifiers' from '/Users/junix/miniconda3/envs/py310/lib/python3.10/site-packages/pkg_resources/_vendor/packaging/specifiers.py'>,\n",
       "   'pkg_resources._vendor.pyparsing.util': <module 'pkg_resources._vendor.pyparsing.util' from '/Users/junix/miniconda3/envs/py310/lib/python3.10/site-packages/pkg_resources/_vendor/pyparsing/util.py'>,\n",
       "   'pkg_resources._vendor.pyparsing.unicode': <module 'pkg_resources._vendor.pyparsing.unicode' from '/Users/junix/miniconda3/envs/py310/lib/python3.10/site-packages/pkg_resources/_vendor/pyparsing/unicode.py'>,\n",
       "   'pkg_resources._vendor.pyparsing.exceptions': <module 'pkg_resources._vendor.pyparsing.exceptions' from '/Users/junix/miniconda3/envs/py310/lib/python3.10/site-packages/pkg_resources/_vendor/pyparsing/exceptions.py'>,\n",
       "   'pkg_resources._vendor.pyparsing.actions': <module 'pkg_resources._vendor.pyparsing.actions' from '/Users/junix/miniconda3/envs/py310/lib/python3.10/site-packages/pkg_resources/_vendor/pyparsing/actions.py'>,\n",
       "   'pkg_resources._vendor.pyparsing.results': <module 'pkg_resources._vendor.pyparsing.results' from '/Users/junix/miniconda3/envs/py310/lib/python3.10/site-packages/pkg_resources/_vendor/pyparsing/results.py'>,\n",
       "   'pkg_resources._vendor.pyparsing.core': <module 'pkg_resources._vendor.pyparsing.core' from '/Users/junix/miniconda3/envs/py310/lib/python3.10/site-packages/pkg_resources/_vendor/pyparsing/core.py'>,\n",
       "   'pkg_resources._vendor.pyparsing.helpers': <module 'pkg_resources._vendor.pyparsing.helpers' from '/Users/junix/miniconda3/envs/py310/lib/python3.10/site-packages/pkg_resources/_vendor/pyparsing/helpers.py'>,\n",
       "   'pkg_resources._vendor.pyparsing.testing': <module 'pkg_resources._vendor.pyparsing.testing' from '/Users/junix/miniconda3/envs/py310/lib/python3.10/site-packages/pkg_resources/_vendor/pyparsing/testing.py'>,\n",
       "   'pkg_resources._vendor.pyparsing.common': <module 'pkg_resources._vendor.pyparsing.common' from '/Users/junix/miniconda3/envs/py310/lib/python3.10/site-packages/pkg_resources/_vendor/pyparsing/common.py'>,\n",
       "   'pkg_resources._vendor.pyparsing': <module 'pkg_resources.extern.pyparsing' (<pkg_resources.extern.VendorImporter object at 0x7feb18774af0>)>,\n",
       "   'pkg_resources.extern.pyparsing': <module 'pkg_resources.extern.pyparsing' (<pkg_resources.extern.VendorImporter object at 0x7feb18774af0>)>,\n",
       "   'pkg_resources.extern.packaging.markers': <module 'pkg_resources.extern.packaging.markers' from '/Users/junix/miniconda3/envs/py310/lib/python3.10/site-packages/pkg_resources/_vendor/packaging/markers.py'>,\n",
       "   'pkg_resources.extern.packaging.requirements': <module 'pkg_resources.extern.packaging.requirements' from '/Users/junix/miniconda3/envs/py310/lib/python3.10/site-packages/pkg_resources/_vendor/packaging/requirements.py'>,\n",
       "   'pkg_resources': <module 'pkg_resources' from '/Users/junix/miniconda3/envs/py310/lib/python3.10/site-packages/pkg_resources/__init__.py'>,\n",
       "   'pydevd_plugins': <module 'pydevd_plugins' from '/Users/junix/miniconda3/envs/py310/lib/python3.10/site-packages/debugpy/_vendored/pydevd/pydevd_plugins/__init__.py'>,\n",
       "   '_pydev_bundle.pydev_log': <module '_pydev_bundle.pydev_log' from '/Users/junix/miniconda3/envs/py310/lib/python3.10/site-packages/debugpy/_vendored/pydevd/_pydev_bundle/pydev_log.py'>,\n",
       "   '_pydev_bundle._pydev_filesystem_encoding': <module '_pydev_bundle._pydev_filesystem_encoding' from '/Users/junix/miniconda3/envs/py310/lib/python3.10/site-packages/debugpy/_vendored/pydevd/_pydev_bundle/_pydev_filesystem_encoding.py'>,\n",
       "   '_pydevd_bundle.pydevd_comm_constants': <module '_pydevd_bundle.pydevd_comm_constants' from '/Users/junix/miniconda3/envs/py310/lib/python3.10/site-packages/debugpy/_vendored/pydevd/_pydevd_bundle/pydevd_comm_constants.py'>,\n",
       "   'pydevd_file_utils': <module 'pydevd_file_utils' from '/Users/junix/miniconda3/envs/py310/lib/python3.10/site-packages/debugpy/_vendored/pydevd/pydevd_file_utils.py'>,\n",
       "   '_pydev_imps._pydev_execfile': <module '_pydev_imps._pydev_execfile' from '/Users/junix/miniconda3/envs/py310/lib/python3.10/site-packages/debugpy/_vendored/pydevd/_pydev_imps/_pydev_execfile.py'>,\n",
       "   '_pydevd_bundle.pydevd_exec2': <module '_pydevd_bundle.pydevd_exec2' from '/Users/junix/miniconda3/envs/py310/lib/python3.10/site-packages/debugpy/_vendored/pydevd/_pydevd_bundle/pydevd_exec2.py'>,\n",
       "   '_pydev_bundle.pydev_imports': <module '_pydev_bundle.pydev_imports' from '/Users/junix/miniconda3/envs/py310/lib/python3.10/site-packages/debugpy/_vendored/pydevd/_pydev_bundle/pydev_imports.py'>,\n",
       "   '_pydev_bundle.pydev_is_thread_alive': <module '_pydev_bundle.pydev_is_thread_alive' from '/Users/junix/miniconda3/envs/py310/lib/python3.10/site-packages/debugpy/_vendored/pydevd/_pydev_bundle/pydev_is_thread_alive.py'>,\n",
       "   '_pydev_bundle.pydev_override': <module '_pydev_bundle.pydev_override' from '/Users/junix/miniconda3/envs/py310/lib/python3.10/site-packages/debugpy/_vendored/pydevd/_pydev_bundle/pydev_override.py'>,\n",
       "   'pydevd_plugins.extensions': <module 'pydevd_plugins.extensions' from '/Users/junix/miniconda3/envs/py310/lib/python3.10/site-packages/debugpy/_vendored/pydevd/pydevd_plugins/extensions/__init__.py'>,\n",
       "   '_pydevd_bundle.pydevd_extension_utils': <module '_pydevd_bundle.pydevd_extension_utils' from '/Users/junix/miniconda3/envs/py310/lib/python3.10/site-packages/debugpy/_vendored/pydevd/_pydevd_bundle/pydevd_extension_utils.py'>,\n",
       "   '_pydevd_bundle.pydevd_frame_utils': <module '_pydevd_bundle.pydevd_frame_utils' from '/Users/junix/miniconda3/envs/py310/lib/python3.10/site-packages/debugpy/_vendored/pydevd/_pydevd_bundle/pydevd_frame_utils.py'>,\n",
       "   '_pydevd_bundle.pydevd_filtering': <module '_pydevd_bundle.pydevd_filtering' from '/Users/junix/miniconda3/envs/py310/lib/python3.10/site-packages/debugpy/_vendored/pydevd/_pydevd_bundle/pydevd_filtering.py'>,\n",
       "   '_pydevd_bundle.pydevd_io': <module '_pydevd_bundle.pydevd_io' from '/Users/junix/miniconda3/envs/py310/lib/python3.10/site-packages/debugpy/_vendored/pydevd/_pydevd_bundle/pydevd_io.py'>,\n",
       "   '_pydevd_bundle.pydevd_utils': <module '_pydevd_bundle.pydevd_utils' from '/Users/junix/miniconda3/envs/py310/lib/python3.10/site-packages/debugpy/_vendored/pydevd/_pydevd_bundle/pydevd_utils.py'>,\n",
       "   '_pydev_bundle._pydev_tipper_common': <module '_pydev_bundle._pydev_tipper_common' from '/Users/junix/miniconda3/envs/py310/lib/python3.10/site-packages/debugpy/_vendored/pydevd/_pydev_bundle/_pydev_tipper_common.py'>,\n",
       "   '_pydev_bundle._pydev_imports_tipper': <module '_pydev_bundle._pydev_imports_tipper' from '/Users/junix/miniconda3/envs/py310/lib/python3.10/site-packages/debugpy/_vendored/pydevd/_pydev_bundle/_pydev_imports_tipper.py'>,\n",
       "   '_pydev_bundle._pydev_calltip_util': <module '_pydev_bundle._pydev_calltip_util' from '/Users/junix/miniconda3/envs/py310/lib/python3.10/site-packages/debugpy/_vendored/pydevd/_pydev_bundle/_pydev_calltip_util.py'>,\n",
       "   '_pydevd_bundle.pydevd_safe_repr': <module '_pydevd_bundle.pydevd_safe_repr' from '/Users/junix/miniconda3/envs/py310/lib/python3.10/site-packages/debugpy/_vendored/pydevd/_pydevd_bundle/pydevd_safe_repr.py'>,\n",
       "   '_pydevd_bundle.pydevd_resolver': <module '_pydevd_bundle.pydevd_resolver' from '/Users/junix/miniconda3/envs/py310/lib/python3.10/site-packages/debugpy/_vendored/pydevd/_pydevd_bundle/pydevd_resolver.py'>,\n",
       "   '_pydevd_bundle.pydevd_extension_api': <module '_pydevd_bundle.pydevd_extension_api' from '/Users/junix/miniconda3/envs/py310/lib/python3.10/site-packages/debugpy/_vendored/pydevd/_pydevd_bundle/pydevd_extension_api.py'>,\n",
       "   '_pydevd_bundle.pydevd_xml': <module '_pydevd_bundle.pydevd_xml' from '/Users/junix/miniconda3/envs/py310/lib/python3.10/site-packages/debugpy/_vendored/pydevd/_pydevd_bundle/pydevd_xml.py'>,\n",
       "   '_pydevd_bundle.pydevd_dont_trace': <module '_pydevd_bundle.pydevd_dont_trace' from '/Users/junix/miniconda3/envs/py310/lib/python3.10/site-packages/debugpy/_vendored/pydevd/_pydevd_bundle/pydevd_dont_trace.py'>,\n",
       "   '_pydevd_frame_eval.vendored': <module '_pydevd_frame_eval.vendored' from '/Users/junix/miniconda3/envs/py310/lib/python3.10/site-packages/debugpy/_vendored/pydevd/_pydevd_frame_eval/vendored/__init__.py'>,\n",
       "   '_pydevd_frame_eval.vendored.bytecode.flags': <module '_pydevd_frame_eval.vendored.bytecode.flags' from '/Users/junix/miniconda3/envs/py310/lib/python3.10/site-packages/debugpy/_vendored/pydevd/_pydevd_frame_eval/vendored/bytecode/flags.py'>,\n",
       "   '_pydevd_frame_eval.vendored.bytecode.instr': <module '_pydevd_frame_eval.vendored.bytecode.instr' from '/Users/junix/miniconda3/envs/py310/lib/python3.10/site-packages/debugpy/_vendored/pydevd/_pydevd_frame_eval/vendored/bytecode/instr.py'>,\n",
       "   '_pydevd_frame_eval.vendored.bytecode.bytecode': <module '_pydevd_frame_eval.vendored.bytecode.bytecode' from '/Users/junix/miniconda3/envs/py310/lib/python3.10/site-packages/debugpy/_vendored/pydevd/_pydevd_frame_eval/vendored/bytecode/bytecode.py'>,\n",
       "   '_pydevd_frame_eval.vendored.bytecode.concrete': <module '_pydevd_frame_eval.vendored.bytecode.concrete' from '/Users/junix/miniconda3/envs/py310/lib/python3.10/site-packages/debugpy/_vendored/pydevd/_pydevd_frame_eval/vendored/bytecode/concrete.py'>,\n",
       "   '_pydevd_frame_eval.vendored.bytecode.cfg': <module '_pydevd_frame_eval.vendored.bytecode.cfg' from '/Users/junix/miniconda3/envs/py310/lib/python3.10/site-packages/debugpy/_vendored/pydevd/_pydevd_frame_eval/vendored/bytecode/cfg.py'>,\n",
       "   '_pydevd_frame_eval.vendored.bytecode': <module '_pydevd_frame_eval.vendored.bytecode' from '/Users/junix/miniconda3/envs/py310/lib/python3.10/site-packages/debugpy/_vendored/pydevd/_pydevd_frame_eval/vendored/bytecode/__init__.py'>,\n",
       "   '_pydevd_bundle.pydevd_bytecode_utils': <module '_pydevd_bundle.pydevd_bytecode_utils' from '/Users/junix/miniconda3/envs/py310/lib/python3.10/site-packages/debugpy/_vendored/pydevd/_pydevd_bundle/pydevd_bytecode_utils.py'>,\n",
       "   '_pydevd_bundle.pydevd_cython': <module '_pydevd_bundle.pydevd_cython' from '/Users/junix/miniconda3/envs/py310/lib/python3.10/site-packages/debugpy/_vendored/pydevd/_pydevd_bundle/pydevd_cython.cpython-310-darwin.so'>,\n",
       "   '_pydevd_bundle.pydevd_cython_wrapper': <module '_pydevd_bundle.pydevd_cython_wrapper' from '/Users/junix/miniconda3/envs/py310/lib/python3.10/site-packages/debugpy/_vendored/pydevd/_pydevd_bundle/pydevd_cython_wrapper.py'>,\n",
       "   '_pydevd_bundle.pydevd_additional_thread_info': <module '_pydevd_bundle.pydevd_additional_thread_info' from '/Users/junix/miniconda3/envs/py310/lib/python3.10/site-packages/debugpy/_vendored/pydevd/_pydevd_bundle/pydevd_additional_thread_info.py'>,\n",
       "   '_pydevd_bundle.pydevd_thread_lifecycle': <module '_pydevd_bundle.pydevd_thread_lifecycle' from '/Users/junix/miniconda3/envs/py310/lib/python3.10/site-packages/debugpy/_vendored/pydevd/_pydevd_bundle/pydevd_thread_lifecycle.py'>,\n",
       "   '_pydevd_bundle.pydevd_save_locals': <module '_pydevd_bundle.pydevd_save_locals' from '/Users/junix/miniconda3/envs/py310/lib/python3.10/site-packages/debugpy/_vendored/pydevd/_pydevd_bundle/pydevd_save_locals.py'>,\n",
       "   '_pydevd_bundle.pydevd_defaults': <module '_pydevd_bundle.pydevd_defaults' from '/Users/junix/miniconda3/envs/py310/lib/python3.10/site-packages/debugpy/_vendored/pydevd/_pydevd_bundle/pydevd_defaults.py'>,\n",
       "   '_pydev_bundle.pydev_monkey': <module '_pydev_bundle.pydev_monkey' from '/Users/junix/miniconda3/envs/py310/lib/python3.10/site-packages/debugpy/_vendored/pydevd/_pydev_bundle/pydev_monkey.py'>,\n",
       "   'pydevd_tracing': <module 'pydevd_tracing' from '/Users/junix/miniconda3/envs/py310/lib/python3.10/site-packages/debugpy/_vendored/pydevd/pydevd_tracing.py'>,\n",
       "   '_pydevd_bundle.pydevd_daemon_thread': <module '_pydevd_bundle.pydevd_daemon_thread' from '/Users/junix/miniconda3/envs/py310/lib/python3.10/site-packages/debugpy/_vendored/pydevd/_pydevd_bundle/pydevd_daemon_thread.py'>,\n",
       "   '_pydevd_bundle.pydevd_timeout': <module '_pydevd_bundle.pydevd_timeout' from '/Users/junix/miniconda3/envs/py310/lib/python3.10/site-packages/debugpy/_vendored/pydevd/_pydevd_bundle/pydevd_timeout.py'>,\n",
       "   '_pydevd_bundle.pydevd_vars': <module '_pydevd_bundle.pydevd_vars' from '/Users/junix/miniconda3/envs/py310/lib/python3.10/site-packages/debugpy/_vendored/pydevd/_pydevd_bundle/pydevd_vars.py'>,\n",
       "   '_pydev_bundle.pydev_console_utils': <module '_pydev_bundle.pydev_console_utils' from '/Users/junix/miniconda3/envs/py310/lib/python3.10/site-packages/debugpy/_vendored/pydevd/_pydev_bundle/pydev_console_utils.py'>,\n",
       "   '_pydevd_bundle.pydevd_import_class': <module '_pydevd_bundle.pydevd_import_class' from '/Users/junix/miniconda3/envs/py310/lib/python3.10/site-packages/debugpy/_vendored/pydevd/_pydevd_bundle/pydevd_import_class.py'>,\n",
       "   '_pydevd_bundle.pydevd_breakpoints': <module '_pydevd_bundle.pydevd_breakpoints' from '/Users/junix/miniconda3/envs/py310/lib/python3.10/site-packages/debugpy/_vendored/pydevd/_pydevd_bundle/pydevd_breakpoints.py'>,\n",
       "   '_pydevd_bundle.pydevd_custom_frames': <module '_pydevd_bundle.pydevd_custom_frames' from '/Users/junix/miniconda3/envs/py310/lib/python3.10/site-packages/debugpy/_vendored/pydevd/_pydevd_bundle/pydevd_custom_frames.py'>,\n",
       "   '_pydevd_bundle.pydevd_dont_trace_files': <module '_pydevd_bundle.pydevd_dont_trace_files' from '/Users/junix/miniconda3/envs/py310/lib/python3.10/site-packages/debugpy/_vendored/pydevd/_pydevd_bundle/pydevd_dont_trace_files.py'>,\n",
       "   '_pydevd_bundle.pydevd_net_command': <module '_pydevd_bundle.pydevd_net_command' from '/Users/junix/miniconda3/envs/py310/lib/python3.10/site-packages/debugpy/_vendored/pydevd/_pydevd_bundle/pydevd_net_command.py'>,\n",
       "   '_pydev_bundle.pydev_umd': <module '_pydev_bundle.pydev_umd' from '/Users/junix/miniconda3/envs/py310/lib/python3.10/site-packages/debugpy/_vendored/pydevd/_pydev_bundle/pydev_umd.py'>,\n",
       "   'pydevconsole': <module 'pydevconsole' from '/Users/junix/miniconda3/envs/py310/lib/python3.10/site-packages/debugpy/_vendored/pydevd/pydevconsole.py'>,\n",
       "   '_pydev_bundle._pydev_completer': <module '_pydev_bundle._pydev_completer' from '/Users/junix/miniconda3/envs/py310/lib/python3.10/site-packages/debugpy/_vendored/pydevd/_pydev_bundle/_pydev_completer.py'>,\n",
       "   '_pydevd_bundle.pydevd_net_command_factory_xml': <module '_pydevd_bundle.pydevd_net_command_factory_xml' from '/Users/junix/miniconda3/envs/py310/lib/python3.10/site-packages/debugpy/_vendored/pydevd/_pydevd_bundle/pydevd_net_command_factory_xml.py'>,\n",
       "   '_pydevd_bundle.pydevd_frame': <module '_pydevd_bundle.pydevd_frame' from '/Users/junix/miniconda3/envs/py310/lib/python3.10/site-packages/debugpy/_vendored/pydevd/_pydevd_bundle/pydevd_frame.py'>,\n",
       "   '_pydevd_bundle.pydevd_additional_thread_info_regular': <module '_pydevd_bundle.pydevd_additional_thread_info_regular' from '/Users/junix/miniconda3/envs/py310/lib/python3.10/site-packages/debugpy/_vendored/pydevd/_pydevd_bundle/pydevd_additional_thread_info_regular.py'>,\n",
       "   '_pydevd_bundle.pydevd_trace_dispatch': <module '_pydevd_bundle.pydevd_trace_dispatch' from '/Users/junix/miniconda3/envs/py310/lib/python3.10/site-packages/debugpy/_vendored/pydevd/_pydevd_bundle/pydevd_trace_dispatch.py'>,\n",
       "   '_pydevd_frame_eval.pydevd_frame_eval_main': <module '_pydevd_frame_eval.pydevd_frame_eval_main' from '/Users/junix/miniconda3/envs/py310/lib/python3.10/site-packages/debugpy/_vendored/pydevd/_pydevd_frame_eval/pydevd_frame_eval_main.py'>,\n",
       "   '_pydevd_bundle.pydevd_source_mapping': <module '_pydevd_bundle.pydevd_source_mapping' from '/Users/junix/miniconda3/envs/py310/lib/python3.10/site-packages/debugpy/_vendored/pydevd/_pydevd_bundle/pydevd_source_mapping.py'>,\n",
       "   'pydevd_concurrency_analyser.pydevd_thread_wrappers': <module 'pydevd_concurrency_analyser.pydevd_thread_wrappers' from '/Users/junix/miniconda3/envs/py310/lib/python3.10/site-packages/debugpy/_vendored/pydevd/pydevd_concurrency_analyser/pydevd_thread_wrappers.py'>,\n",
       "   'pydevd_concurrency_analyser.pydevd_concurrency_logger': <module 'pydevd_concurrency_analyser.pydevd_concurrency_logger' from '/Users/junix/miniconda3/envs/py310/lib/python3.10/site-packages/debugpy/_vendored/pydevd/pydevd_concurrency_analyser/pydevd_concurrency_logger.py'>,\n",
       "   '_pydevd_bundle._debug_adapter': <module '_pydevd_bundle._debug_adapter' from '/Users/junix/miniconda3/envs/py310/lib/python3.10/site-packages/debugpy/_vendored/pydevd/_pydevd_bundle/_debug_adapter/__init__.py'>,\n",
       "   '_pydevd_bundle._debug_adapter.pydevd_schema_log': <module '_pydevd_bundle._debug_adapter.pydevd_schema_log' from '/Users/junix/miniconda3/envs/py310/lib/python3.10/site-packages/debugpy/_vendored/pydevd/_pydevd_bundle/_debug_adapter/pydevd_schema_log.py'>,\n",
       "   '_pydevd_bundle._debug_adapter.pydevd_base_schema': <module '_pydevd_bundle._debug_adapter.pydevd_base_schema' from '/Users/junix/miniconda3/envs/py310/lib/python3.10/site-packages/debugpy/_vendored/pydevd/_pydevd_bundle/_debug_adapter/pydevd_base_schema.py'>,\n",
       "   '_pydevd_bundle._debug_adapter.pydevd_schema': <module '_pydevd_bundle._debug_adapter.pydevd_schema' from '/Users/junix/miniconda3/envs/py310/lib/python3.10/site-packages/debugpy/_vendored/pydevd/_pydevd_bundle/_debug_adapter/pydevd_schema.py'>,\n",
       "   '_pydevd_bundle.pydevd_reload': <module '_pydevd_bundle.pydevd_reload' from '/Users/junix/miniconda3/envs/py310/lib/python3.10/site-packages/debugpy/_vendored/pydevd/_pydevd_bundle/pydevd_reload.py'>,\n",
       "   '_pydev_bundle.fsnotify': <module '_pydev_bundle.fsnotify' from '/Users/junix/miniconda3/envs/py310/lib/python3.10/site-packages/debugpy/_vendored/pydevd/_pydev_bundle/fsnotify/__init__.py'>,\n",
       "   '_pydevd_bundle.pydevd_console': <module '_pydevd_bundle.pydevd_console' from '/Users/junix/miniconda3/envs/py310/lib/python3.10/site-packages/debugpy/_vendored/pydevd/_pydevd_bundle/pydevd_console.py'>,\n",
       "   '_pydevd_bundle.pydevd_comm': <module '_pydevd_bundle.pydevd_comm' from '/Users/junix/miniconda3/envs/py310/lib/python3.10/site-packages/debugpy/_vendored/pydevd/_pydevd_bundle/pydevd_comm.py'>,\n",
       "   '_pydevd_bundle.pydevd_net_command_factory_json': <module '_pydevd_bundle.pydevd_net_command_factory_json' from '/Users/junix/miniconda3/envs/py310/lib/python3.10/site-packages/debugpy/_vendored/pydevd/_pydevd_bundle/pydevd_net_command_factory_json.py'>,\n",
       "   '_pydevd_bundle.pydevd_collect_bytecode_info': <module '_pydevd_bundle.pydevd_collect_bytecode_info' from '/Users/junix/miniconda3/envs/py310/lib/python3.10/site-packages/debugpy/_vendored/pydevd/_pydevd_bundle/pydevd_collect_bytecode_info.py'>,\n",
       "   '_pydevd_bundle.pydevd_api': <module '_pydevd_bundle.pydevd_api' from '/Users/junix/miniconda3/envs/py310/lib/python3.10/site-packages/debugpy/_vendored/pydevd/_pydevd_bundle/pydevd_api.py'>,\n",
       "   '_pydevd_bundle.pydevd_json_debug_options': <module '_pydevd_bundle.pydevd_json_debug_options' from '/Users/junix/miniconda3/envs/py310/lib/python3.10/site-packages/debugpy/_vendored/pydevd/_pydevd_bundle/pydevd_json_debug_options.py'>,\n",
       "   '_pydevd_bundle.pydevd_process_net_command_json': <module '_pydevd_bundle.pydevd_process_net_command_json' from '/Users/junix/miniconda3/envs/py310/lib/python3.10/site-packages/debugpy/_vendored/pydevd/_pydevd_bundle/pydevd_process_net_command_json.py'>,\n",
       "   '_pydevd_bundle.pydevd_traceproperty': <module '_pydevd_bundle.pydevd_traceproperty' from '/Users/junix/miniconda3/envs/py310/lib/python3.10/site-packages/debugpy/_vendored/pydevd/_pydevd_bundle/pydevd_traceproperty.py'>,\n",
       "   '_pydevd_bundle.pydevd_process_net_command': <module '_pydevd_bundle.pydevd_process_net_command' from '/Users/junix/miniconda3/envs/py310/lib/python3.10/site-packages/debugpy/_vendored/pydevd/_pydevd_bundle/pydevd_process_net_command.py'>,\n",
       "   '_pydevd_bundle.pydevd_suspended_frames': <module '_pydevd_bundle.pydevd_suspended_frames' from '/Users/junix/miniconda3/envs/py310/lib/python3.10/site-packages/debugpy/_vendored/pydevd/_pydevd_bundle/pydevd_suspended_frames.py'>,\n",
       "   '_pydevd_bundle.pydevd_trace_api': <module '_pydevd_bundle.pydevd_trace_api' from '/Users/junix/miniconda3/envs/py310/lib/python3.10/site-packages/debugpy/_vendored/pydevd/_pydevd_bundle/pydevd_trace_api.py'>,\n",
       "   'pydevd_plugins.django_debug': <module 'pydevd_plugins.django_debug' from '/Users/junix/miniconda3/envs/py310/lib/python3.10/site-packages/debugpy/_vendored/pydevd/pydevd_plugins/django_debug.py'>,\n",
       "   'pydevd_plugins.jinja2_debug': <module 'pydevd_plugins.jinja2_debug' from '/Users/junix/miniconda3/envs/py310/lib/python3.10/site-packages/debugpy/_vendored/pydevd/pydevd_plugins/jinja2_debug.py'>,\n",
       "   '_pydevd_bundle.pydevd_plugin_utils': <module '_pydevd_bundle.pydevd_plugin_utils' from '/Users/junix/miniconda3/envs/py310/lib/python3.10/site-packages/debugpy/_vendored/pydevd/_pydevd_bundle/pydevd_plugin_utils.py'>,\n",
       "   'pydevd_plugins.extensions.types': <module 'pydevd_plugins.extensions.types' from '/Users/junix/miniconda3/envs/py310/lib/python3.10/site-packages/debugpy/_vendored/pydevd/pydevd_plugins/extensions/types/__init__.py'>,\n",
       "   'pydevd_plugins.extensions.types.pydevd_helpers': <module 'pydevd_plugins.extensions.types.pydevd_helpers' from '/Users/junix/miniconda3/envs/py310/lib/python3.10/site-packages/debugpy/_vendored/pydevd/pydevd_plugins/extensions/types/pydevd_helpers.py'>,\n",
       "   'pydevd_plugins.extensions.types.pydevd_plugin_numpy_types': <module 'pydevd_plugins.extensions.types.pydevd_plugin_numpy_types' from '/Users/junix/miniconda3/envs/py310/lib/python3.10/site-packages/debugpy/_vendored/pydevd/pydevd_plugins/extensions/types/pydevd_plugin_numpy_types.py'>,\n",
       "   'pydevd_plugins.extensions.types.pydevd_plugins_django_form_str': <module 'pydevd_plugins.extensions.types.pydevd_plugins_django_form_str' from '/Users/junix/miniconda3/envs/py310/lib/python3.10/site-packages/debugpy/_vendored/pydevd/pydevd_plugins/extensions/types/pydevd_plugins_django_form_str.py'>,\n",
       "   'pydevd': <module 'pydevd' from '/Users/junix/miniconda3/envs/py310/lib/python3.10/site-packages/debugpy/_vendored/pydevd/pydevd.py'>,\n",
       "   'debugpy._vendored.force_pydevd': <module 'debugpy._vendored.force_pydevd' from '/Users/junix/miniconda3/envs/py310/lib/python3.10/site-packages/debugpy/_vendored/force_pydevd.py'>,\n",
       "   'debugpy.server': <module 'debugpy.server' from '/Users/junix/miniconda3/envs/py310/lib/python3.10/site-packages/debugpy/server/__init__.py'>,\n",
       "   'debugpy.adapter': <module 'debugpy.adapter' from '/Users/junix/miniconda3/envs/py310/lib/python3.10/site-packages/debugpy/adapter/__init__.py'>,\n",
       "   'debugpy.common.timestamp': <module 'debugpy.common.timestamp' from '/Users/junix/miniconda3/envs/py310/lib/python3.10/site-packages/debugpy/common/timestamp.py'>,\n",
       "   'debugpy.common.util': <module 'debugpy.common.util' from '/Users/junix/miniconda3/envs/py310/lib/python3.10/site-packages/debugpy/common/util.py'>,\n",
       "   'debugpy.common.log': <module 'debugpy.common.log' from '/Users/junix/miniconda3/envs/py310/lib/python3.10/site-packages/debugpy/common/log.py'>,\n",
       "   'debugpy.common.sockets': <module 'debugpy.common.sockets' from '/Users/junix/miniconda3/envs/py310/lib/python3.10/site-packages/debugpy/common/sockets.py'>,\n",
       "   'debugpy.server.api': <module 'debugpy.server.api' from '/Users/junix/miniconda3/envs/py310/lib/python3.10/site-packages/debugpy/server/api.py'>,\n",
       "   'ipykernel.debugger': <module 'ipykernel.debugger' from '/Users/junix/miniconda3/envs/py310/lib/python3.10/site-packages/ipykernel/debugger.py'>,\n",
       "   'packaging.__about__': <module 'packaging.__about__' from '/Users/junix/miniconda3/envs/py310/lib/python3.10/site-packages/packaging/__about__.py'>,\n",
       "   'packaging': <module 'packaging' from '/Users/junix/miniconda3/envs/py310/lib/python3.10/site-packages/packaging/__init__.py'>,\n",
       "   'packaging._structures': <module 'packaging._structures' from '/Users/junix/miniconda3/envs/py310/lib/python3.10/site-packages/packaging/_structures.py'>,\n",
       "   'packaging.version': <module 'packaging.version' from '/Users/junix/miniconda3/envs/py310/lib/python3.10/site-packages/packaging/version.py'>,\n",
       "   'ipykernel.eventloops': <module 'ipykernel.eventloops' from '/Users/junix/miniconda3/envs/py310/lib/python3.10/site-packages/ipykernel/eventloops.py'>,\n",
       "   'IPython.core.payloadpage': <module 'IPython.core.payloadpage' from '/Users/junix/miniconda3/envs/py310/lib/python3.10/site-packages/IPython/core/payloadpage.py'>,\n",
       "   'ipykernel.displayhook': <module 'ipykernel.displayhook' from '/Users/junix/miniconda3/envs/py310/lib/python3.10/site-packages/ipykernel/displayhook.py'>,\n",
       "   'ipykernel.zmqshell': <module 'ipykernel.zmqshell' from '/Users/junix/miniconda3/envs/py310/lib/python3.10/site-packages/ipykernel/zmqshell.py'>,\n",
       "   'ipykernel.ipkernel': <module 'ipykernel.ipkernel' from '/Users/junix/miniconda3/envs/py310/lib/python3.10/site-packages/ipykernel/ipkernel.py'>,\n",
       "   'ipykernel.parentpoller': <module 'ipykernel.parentpoller' from '/Users/junix/miniconda3/envs/py310/lib/python3.10/site-packages/ipykernel/parentpoller.py'>,\n",
       "   'ipykernel.kernelapp': <module 'ipykernel.kernelapp' from '/Users/junix/miniconda3/envs/py310/lib/python3.10/site-packages/ipykernel/kernelapp.py'>,\n",
       "   'faulthandler': <module 'faulthandler' (built-in)>,\n",
       "   'IPython.core.completerlib': <module 'IPython.core.completerlib' from '/Users/junix/miniconda3/envs/py310/lib/python3.10/site-packages/IPython/core/completerlib.py'>,\n",
       "   'setuptools._distutils': <module 'distutils' (/Users/junix/miniconda3/envs/py310/lib/python3.10/site-packages/setuptools/_distutils/__init__.py)>,\n",
       "   'distutils.debug': <module 'distutils.debug' from '/Users/junix/miniconda3/envs/py310/lib/python3.10/site-packages/setuptools/_distutils/debug.py'>,\n",
       "   'distutils.errors': <module 'distutils.errors' from '/Users/junix/miniconda3/envs/py310/lib/python3.10/site-packages/setuptools/_distutils/errors.py'>,\n",
       "   'distutils.fancy_getopt': <module 'distutils.fancy_getopt' from '/Users/junix/miniconda3/envs/py310/lib/python3.10/site-packages/setuptools/_distutils/fancy_getopt.py'>,\n",
       "   'distutils.dep_util': <module 'distutils.dep_util' from '/Users/junix/miniconda3/envs/py310/lib/python3.10/site-packages/setuptools/_distutils/dep_util.py'>,\n",
       "   'distutils.log': <module 'distutils.log' from '/Users/junix/miniconda3/envs/py310/lib/python3.10/site-packages/setuptools/_distutils/log.py'>,\n",
       "   'distutils.spawn': <module 'distutils.spawn' from '/Users/junix/miniconda3/envs/py310/lib/python3.10/site-packages/setuptools/_distutils/spawn.py'>,\n",
       "   'distutils.util': <module 'distutils.util' from '/Users/junix/miniconda3/envs/py310/lib/python3.10/site-packages/setuptools/_distutils/util.py'>,\n",
       "   'distutils.dist': <module 'distutils.dist' from '/Users/junix/miniconda3/envs/py310/lib/python3.10/site-packages/setuptools/_distutils/dist.py'>,\n",
       "   'distutils.dir_util': <module 'distutils.dir_util' from '/Users/junix/miniconda3/envs/py310/lib/python3.10/site-packages/setuptools/_distutils/dir_util.py'>,\n",
       "   'distutils.file_util': <module 'distutils.file_util' from '/Users/junix/miniconda3/envs/py310/lib/python3.10/site-packages/setuptools/_distutils/file_util.py'>,\n",
       "   'grp': <module 'grp' from '/Users/junix/miniconda3/envs/py310/lib/python3.10/lib-dynload/grp.cpython-310-darwin.so'>,\n",
       "   'distutils.archive_util': <module 'distutils.archive_util' from '/Users/junix/miniconda3/envs/py310/lib/python3.10/site-packages/setuptools/_distutils/archive_util.py'>,\n",
       "   'distutils.cmd': <module 'distutils.cmd' from '/Users/junix/miniconda3/envs/py310/lib/python3.10/site-packages/setuptools/_distutils/cmd.py'>,\n",
       "   'distutils.config': <module 'distutils.config' from '/Users/junix/miniconda3/envs/py310/lib/python3.10/site-packages/setuptools/_distutils/config.py'>,\n",
       "   'distutils.extension': <module 'distutils.extension' from '/Users/junix/miniconda3/envs/py310/lib/python3.10/site-packages/setuptools/_distutils/extension.py'>,\n",
       "   'distutils.core': <module 'distutils.core' from '/Users/junix/miniconda3/envs/py310/lib/python3.10/site-packages/setuptools/_distutils/core.py'>,\n",
       "   '_distutils_hack.override': <module '_distutils_hack.override' from '/Users/junix/miniconda3/envs/py310/lib/python3.10/site-packages/_distutils_hack/override.py'>,\n",
       "   'setuptools._deprecation_warning': <module 'setuptools._deprecation_warning' from '/Users/junix/miniconda3/envs/py310/lib/python3.10/site-packages/setuptools/_deprecation_warning.py'>,\n",
       "   'setuptools.version': <module 'setuptools.version' from '/Users/junix/miniconda3/envs/py310/lib/python3.10/site-packages/setuptools/version.py'>,\n",
       "   'distutils.filelist': <module 'distutils.filelist' from '/Users/junix/miniconda3/envs/py310/lib/python3.10/site-packages/setuptools/_distutils/filelist.py'>,\n",
       "   'setuptools.monkey': <module 'setuptools.monkey' from '/Users/junix/miniconda3/envs/py310/lib/python3.10/site-packages/setuptools/monkey.py'>,\n",
       "   'setuptools.extension': <module 'setuptools.extension' from '/Users/junix/miniconda3/envs/py310/lib/python3.10/site-packages/setuptools/extension.py'>,\n",
       "   'distutils.command': <module 'distutils.command' from '/Users/junix/miniconda3/envs/py310/lib/python3.10/site-packages/setuptools/_distutils/command/__init__.py'>,\n",
       "   'setuptools.extern': <module 'setuptools.extern' from '/Users/junix/miniconda3/envs/py310/lib/python3.10/site-packages/setuptools/extern/__init__.py'>,\n",
       "   'setuptools._vendor': <module 'setuptools._vendor' from '/Users/junix/miniconda3/envs/py310/lib/python3.10/site-packages/setuptools/_vendor/__init__.py'>,\n",
       "   'setuptools._vendor.packaging.__about__': <module 'setuptools._vendor.packaging.__about__' from '/Users/junix/miniconda3/envs/py310/lib/python3.10/site-packages/setuptools/_vendor/packaging/__about__.py'>,\n",
       "   'setuptools._vendor.packaging': <module 'setuptools.extern.packaging' (<setuptools.extern.VendorImporter object at 0x7feb18ae26e0>)>,\n",
       "   'setuptools.extern.packaging': <module 'setuptools.extern.packaging' (<setuptools.extern.VendorImporter object at 0x7feb18ae26e0>)>,\n",
       "   'setuptools._vendor.ordered_set': <module 'setuptools.extern.ordered_set' (<setuptools.extern.VendorImporter object at 0x7feb18ae26e0>)>,\n",
       "   'setuptools.extern.ordered_set': <module 'setuptools.extern.ordered_set' (<setuptools.extern.VendorImporter object at 0x7feb18ae26e0>)>,\n",
       "   'setuptools._vendor.more_itertools.recipes': <module 'setuptools._vendor.more_itertools.recipes' from '/Users/junix/miniconda3/envs/py310/lib/python3.10/site-packages/setuptools/_vendor/more_itertools/recipes.py'>,\n",
       "   'setuptools._vendor.more_itertools.more': <module 'setuptools._vendor.more_itertools.more' from '/Users/junix/miniconda3/envs/py310/lib/python3.10/site-packages/setuptools/_vendor/more_itertools/more.py'>,\n",
       "   'setuptools._vendor.more_itertools': <module 'setuptools.extern.more_itertools' (<setuptools.extern.VendorImporter object at 0x7feb18ae26e0>)>,\n",
       "   'setuptools.extern.more_itertools': <module 'setuptools.extern.more_itertools' (<setuptools.extern.VendorImporter object at 0x7feb18ae26e0>)>,\n",
       "   '_csv': <module '_csv' from '/Users/junix/miniconda3/envs/py310/lib/python3.10/lib-dynload/_csv.cpython-310-darwin.so'>,\n",
       "   'csv': <module 'csv' from '/Users/junix/miniconda3/envs/py310/lib/python3.10/csv.py'>,\n",
       "   'importlib.metadata._functools': <module 'importlib.metadata._functools' from '/Users/junix/miniconda3/envs/py310/lib/python3.10/importlib/metadata/_functools.py'>,\n",
       "   'importlib.metadata._text': <module 'importlib.metadata._text' from '/Users/junix/miniconda3/envs/py310/lib/python3.10/importlib/metadata/_text.py'>,\n",
       "   'importlib.metadata._adapters': <module 'importlib.metadata._adapters' from '/Users/junix/miniconda3/envs/py310/lib/python3.10/importlib/metadata/_adapters.py'>,\n",
       "   'importlib.metadata._meta': <module 'importlib.metadata._meta' from '/Users/junix/miniconda3/envs/py310/lib/python3.10/importlib/metadata/_meta.py'>,\n",
       "   'importlib.metadata._collections': <module 'importlib.metadata._collections' from '/Users/junix/miniconda3/envs/py310/lib/python3.10/importlib/metadata/_collections.py'>,\n",
       "   'importlib.metadata._itertools': <module 'importlib.metadata._itertools' from '/Users/junix/miniconda3/envs/py310/lib/python3.10/importlib/metadata/_itertools.py'>,\n",
       "   'importlib.metadata': <module 'importlib.metadata' from '/Users/junix/miniconda3/envs/py310/lib/python3.10/importlib/metadata/__init__.py'>,\n",
       "   'setuptools._importlib': <module 'setuptools._importlib' from '/Users/junix/miniconda3/envs/py310/lib/python3.10/site-packages/setuptools/_importlib.py'>,\n",
       "   ...},\n",
       "  80: <module 're' from '/Users/junix/miniconda3/envs/py310/lib/python3.10/re.py'>,\n",
       "  82: ['A',\n",
       "   'ASCII',\n",
       "   'DEBUG',\n",
       "   'DOTALL',\n",
       "   'I',\n",
       "   'IGNORECASE',\n",
       "   'L',\n",
       "   'LOCALE',\n",
       "   'M',\n",
       "   'MULTILINE',\n",
       "   'Match',\n",
       "   'Pattern',\n",
       "   'RegexFlag',\n",
       "   'S',\n",
       "   'Scanner',\n",
       "   'T',\n",
       "   'TEMPLATE',\n",
       "   'U',\n",
       "   'UNICODE',\n",
       "   'VERBOSE',\n",
       "   'X',\n",
       "   '_MAXCACHE',\n",
       "   '__all__',\n",
       "   '__builtins__',\n",
       "   '__cached__',\n",
       "   '__doc__',\n",
       "   '__file__',\n",
       "   '__loader__',\n",
       "   '__name__',\n",
       "   '__package__',\n",
       "   '__spec__',\n",
       "   '__version__',\n",
       "   '_cache',\n",
       "   '_compile',\n",
       "   '_compile_repl',\n",
       "   '_expand',\n",
       "   '_locale',\n",
       "   '_pickle',\n",
       "   '_special_chars_map',\n",
       "   '_subx',\n",
       "   'compile',\n",
       "   'copyreg',\n",
       "   'enum',\n",
       "   'error',\n",
       "   'escape',\n",
       "   'findall',\n",
       "   'finditer',\n",
       "   'fullmatch',\n",
       "   'functools',\n",
       "   'match',\n",
       "   'purge',\n",
       "   'search',\n",
       "   'split',\n",
       "   'sre_compile',\n",
       "   'sre_parse',\n",
       "   'sub',\n",
       "   'subn',\n",
       "   'template'],\n",
       "  83: <function re.compile(pattern, flags=0)>,\n",
       "  85: <function re.compile(pattern, flags=0)>,\n",
       "  86: {},\n",
       "  88: '',\n",
       "  90: '',\n",
       "  91: <module 'posixpath' from '/Users/junix/miniconda3/envs/py310/lib/python3.10/posixpath.py'>,\n",
       "  92: 'posixpath',\n",
       "  94: '__main__'},\n",
       " '_dh': [PosixPath('/Users/junix/code/xpython')],\n",
       " 'In': ['',\n",
       "  'match 1:\\n    case int() as v:\\n        print(v)',\n",
       "  'match 1:\\n    case int() as v:\\n        print(v)',\n",
       "  'match 1:\\n    case int(v) as v:\\n        print(v)',\n",
       "  'match 1:\\n    case int(o) as v:\\n        print(o,v)',\n",
       "  'match 1:\\n    case int()|str() as v:\\n        print(v)',\n",
       "  'match 1:\\n    case (int()|str()) as v:\\n        print(v)',\n",
       "  'match \"hello\":\\n    case (int()|str()) as v:\\n        print(v)',\n",
       "  'match \"hello\":\\n    case (int(a)|str(b)) as v:\\n        print(v)',\n",
       "  'match \"hello\":\\n    case (int(a)|str(a)) as v:\\n        print(v)',\n",
       "  'match \"hello\":\\n    case (int(a)|str(a)):\\n        print(a)',\n",
       "  'match \"hello\":\\n    case (int()|str()) as a:\\n        print(a)',\n",
       "  'match \"hello\":\\n    case int()|str() as a:\\n        print(a)',\n",
       "  'match \"hello\":\\n    case int()as x|str() as a:\\n        print(a)',\n",
       "  'match \"hello\":\\n    case int()|[a,b] as a:\\n        print(a)',\n",
       "  'match \"hello\":\\n    case int()|[_,_] as a:\\n        print(a)',\n",
       "  'match \"ab\":\\n    case int()|[_,_] as a:\\n        print(a)',\n",
       "  'match [1,2]:\\n    case int()|[_,_] as a:\\n        print(a)',\n",
       "  'match [1,2]:\\n    case int()|[_,_] as a:\\n        print(a)',\n",
       "  '|',\n",
       "  '1,2,',\n",
       "  'match 1,2,:\\n    case [1,2]:\\n        print(\"ok\")',\n",
       "  'help(zip)',\n",
       "  'from itertools import zip_longest',\n",
       "  'xs = [1,2,3]\\nys = [3,4,5]',\n",
       "  'zip(xs,ys)',\n",
       "  'for x in zip(xs,ys):\\n    print(x)',\n",
       "  'for x in zip(xs,ys, strict=True):\\n    print(x)',\n",
       "  'xs = [1,2,3]\\nys = [3,4,5,6]',\n",
       "  'for x in zip(xs,ys, strict=True):\\n    print(x)',\n",
       "  'for x in zip(xs,ys, strict=False):\\n    print(x)',\n",
       "  'int.mro',\n",
       "  '{}|dict(a=1)',\n",
       "  'xs = [1,2,3]',\n",
       "  'xs[::-1]',\n",
       "  's = \"asdf\"',\n",
       "  's[::-1]',\n",
       "  'import timeit',\n",
       "  'timeit.timeit(stmt=\"xs[::-1]\",setup=\"xs=\\'abcdefghikjlmnokp\\'*10\")',\n",
       "  'timeit.timeit(stmt=\"xs[::-1]\",setup=\"xs=\\'abcdefghikjlmnokp\\'*10\",number=100000)',\n",
       "  'timeit.timeit(stmt=\"xs[::-1]\",setup=\"xs=\\'abcdefghikjlmnokp\\'*10\",number=10000000)',\n",
       "  'timeit.timeit(stmt=\"\\'\\'.join(reversed(xs))\",setup=\"xs=\\'abcdefghikjlmnokp\\'*10\",number=10000000)',\n",
       "  'reversed(s)',\n",
       "  \"''.join(reversed(s))\",\n",
       "  'help(timeit.timeit)',\n",
       "  'import perf',\n",
       "  'import timeit\\nimport time',\n",
       "  'begin = time.perf_counter()\\n\\n\\ntimeit.timeit(stmt=\"\\'\\'.join(reversed(xs))\",setup=\"xs=\\'abcdefghikjlmnokp\\'*10\",number=10000000)\\nprint(f\"elapsed {time.perf_counter() - begin}\")',\n",
       "  'from abc import ABC',\n",
       "  'import abc',\n",
       "  'class A(abc.ABC):\\n    pass\\n    ',\n",
       "  'type(abc.ABC)',\n",
       "  'type(abc.ABCMeta)',\n",
       "  'type(A)',\n",
       "  'type(abc.ABC)',\n",
       "  'import numbers',\n",
       "  'class A:pass',\n",
       "  'class A:\\n    def hello(self):\\n        pass',\n",
       "  'a = A',\n",
       "  'a = A()',\n",
       "  'a.hello',\n",
       "  'a.hello.__self__',\n",
       "  'class A:\\n    def hello(self):\\n        print(\"hello\")\\n    ',\n",
       "  'class A:\\n    def hello(self):\\n        print(\"hello\")\\n    def f():\\n        print(\"f\")\\n    ',\n",
       "  'a = A()',\n",
       "  'a.hello.__self__',\n",
       "  'a.hello.__self__.f()',\n",
       "  'class A:\\n    def hello(self):\\n        print(\"hello\")\\n    def f(self):\\n        print(\"f\")\\n    ',\n",
       "  'a = A()',\n",
       "  'a.hello.__self__.f()',\n",
       "  'a.hello.__self__.hello.__self__.hello()',\n",
       "  'help(print)',\n",
       "  'c = d = []',\n",
       "  'c',\n",
       "  'd',\n",
       "  'c is d',\n",
       "  'if c=[]:\\n    print(\"ooo\")',\n",
       "  'if c:=[]:\\n    print(\"ooo\")',\n",
       "  'import sys',\n",
       "  'sys.modules',\n",
       "  \"sys.modules['re']\",\n",
       "  \"m = sys.modules['re']\",\n",
       "  'dir(m)',\n",
       "  \"getattr(m, 'compile')\",\n",
       "  \"f = getattr(m, 'compile')\",\n",
       "  'f',\n",
       "  'f.__annotations__',\n",
       "  'help(print)',\n",
       "  'm.__package__',\n",
       "  'import os.path as p',\n",
       "  'p.__package__',\n",
       "  'p',\n",
       "  'p.__name__',\n",
       "  '__main__',\n",
       "  '__name__',\n",
       "  'locals()'],\n",
       " 'Out': {20: (1, 2),\n",
       "  25: <zip at 0x7feb18e33640>,\n",
       "  31: <function int.mro()>,\n",
       "  32: {'a': 1},\n",
       "  34: [3, 2, 1],\n",
       "  36: 'fdsa',\n",
       "  38: 0.1749196060700342,\n",
       "  39: 0.017319430015049875,\n",
       "  40: 1.6790592860197648,\n",
       "  41: 25.649887284031138,\n",
       "  42: <reversed at 0x7feb289558a0>,\n",
       "  43: 'fdsa',\n",
       "  51: abc.ABCMeta,\n",
       "  52: type,\n",
       "  53: abc.ABCMeta,\n",
       "  54: abc.ABCMeta,\n",
       "  60: <bound method A.hello of <__main__.A object at 0x7feb28955630>>,\n",
       "  61: <__main__.A at 0x7feb28955630>,\n",
       "  65: <__main__.A at 0x7feb28954d00>,\n",
       "  73: [],\n",
       "  74: [],\n",
       "  75: True,\n",
       "  79: {'sys': <module 'sys' (built-in)>,\n",
       "   'builtins': <module 'builtins' (built-in)>,\n",
       "   '_frozen_importlib': <module '_frozen_importlib' (frozen)>,\n",
       "   '_imp': <module '_imp' (built-in)>,\n",
       "   '_thread': <module '_thread' (built-in)>,\n",
       "   '_warnings': <module '_warnings' (built-in)>,\n",
       "   '_weakref': <module '_weakref' (built-in)>,\n",
       "   '_io': <module '_io' (built-in)>,\n",
       "   'marshal': <module 'marshal' (built-in)>,\n",
       "   'posix': <module 'posix' (built-in)>,\n",
       "   '_frozen_importlib_external': <module '_frozen_importlib_external' (frozen)>,\n",
       "   'time': <module 'time' (built-in)>,\n",
       "   'zipimport': <module 'zipimport' (frozen)>,\n",
       "   '_codecs': <module '_codecs' (built-in)>,\n",
       "   'codecs': <module 'codecs' from '/Users/junix/miniconda3/envs/py310/lib/python3.10/codecs.py'>,\n",
       "   'encodings.aliases': <module 'encodings.aliases' from '/Users/junix/miniconda3/envs/py310/lib/python3.10/encodings/aliases.py'>,\n",
       "   'encodings': <module 'encodings' from '/Users/junix/miniconda3/envs/py310/lib/python3.10/encodings/__init__.py'>,\n",
       "   'encodings.utf_8': <module 'encodings.utf_8' from '/Users/junix/miniconda3/envs/py310/lib/python3.10/encodings/utf_8.py'>,\n",
       "   '_signal': <module '_signal' (built-in)>,\n",
       "   '_abc': <module '_abc' (built-in)>,\n",
       "   'abc': <module 'abc' from '/Users/junix/miniconda3/envs/py310/lib/python3.10/abc.py'>,\n",
       "   'io': <module 'io' from '/Users/junix/miniconda3/envs/py310/lib/python3.10/io.py'>,\n",
       "   '__main__': <module '__main__'>,\n",
       "   '_stat': <module '_stat' (built-in)>,\n",
       "   'stat': <module 'stat' from '/Users/junix/miniconda3/envs/py310/lib/python3.10/stat.py'>,\n",
       "   '_collections_abc': <module '_collections_abc' from '/Users/junix/miniconda3/envs/py310/lib/python3.10/_collections_abc.py'>,\n",
       "   'genericpath': <module 'genericpath' from '/Users/junix/miniconda3/envs/py310/lib/python3.10/genericpath.py'>,\n",
       "   'posixpath': <module 'posixpath' from '/Users/junix/miniconda3/envs/py310/lib/python3.10/posixpath.py'>,\n",
       "   'os.path': <module 'posixpath' from '/Users/junix/miniconda3/envs/py310/lib/python3.10/posixpath.py'>,\n",
       "   'os': <module 'os' from '/Users/junix/miniconda3/envs/py310/lib/python3.10/os.py'>,\n",
       "   '_sitebuiltins': <module '_sitebuiltins' from '/Users/junix/miniconda3/envs/py310/lib/python3.10/_sitebuiltins.py'>,\n",
       "   '_distutils_hack': <module '_distutils_hack' from '/Users/junix/miniconda3/envs/py310/lib/python3.10/site-packages/_distutils_hack/__init__.py'>,\n",
       "   'site': <module 'site' from '/Users/junix/miniconda3/envs/py310/lib/python3.10/site.py'>,\n",
       "   'importlib._bootstrap': <module '_frozen_importlib' (frozen)>,\n",
       "   'importlib._bootstrap_external': <module '_frozen_importlib_external' (frozen)>,\n",
       "   'warnings': <module 'warnings' from '/Users/junix/miniconda3/envs/py310/lib/python3.10/warnings.py'>,\n",
       "   'importlib': <module 'importlib' from '/Users/junix/miniconda3/envs/py310/lib/python3.10/importlib/__init__.py'>,\n",
       "   'importlib.machinery': <module 'importlib.machinery' from '/Users/junix/miniconda3/envs/py310/lib/python3.10/importlib/machinery.py'>,\n",
       "   'importlib._abc': <module 'importlib._abc' from '/Users/junix/miniconda3/envs/py310/lib/python3.10/importlib/_abc.py'>,\n",
       "   'itertools': <module 'itertools' (built-in)>,\n",
       "   'keyword': <module 'keyword' from '/Users/junix/miniconda3/envs/py310/lib/python3.10/keyword.py'>,\n",
       "   '_operator': <module '_operator' (built-in)>,\n",
       "   'operator': <module 'operator' from '/Users/junix/miniconda3/envs/py310/lib/python3.10/operator.py'>,\n",
       "   'reprlib': <module 'reprlib' from '/Users/junix/miniconda3/envs/py310/lib/python3.10/reprlib.py'>,\n",
       "   '_collections': <module '_collections' (built-in)>,\n",
       "   'collections': <module 'collections' from '/Users/junix/miniconda3/envs/py310/lib/python3.10/collections/__init__.py'>,\n",
       "   'types': <module 'types' from '/Users/junix/miniconda3/envs/py310/lib/python3.10/types.py'>,\n",
       "   '_functools': <module '_functools' (built-in)>,\n",
       "   'functools': <module 'functools' from '/Users/junix/miniconda3/envs/py310/lib/python3.10/functools.py'>,\n",
       "   'contextlib': <module 'contextlib' from '/Users/junix/miniconda3/envs/py310/lib/python3.10/contextlib.py'>,\n",
       "   'importlib.util': <module 'importlib.util' from '/Users/junix/miniconda3/envs/py310/lib/python3.10/importlib/util.py'>,\n",
       "   'runpy': <module 'runpy' from '/Users/junix/miniconda3/envs/py310/lib/python3.10/runpy.py'>,\n",
       "   'enum': <module 'enum' from '/Users/junix/miniconda3/envs/py310/lib/python3.10/enum.py'>,\n",
       "   '_sre': <module '_sre' (built-in)>,\n",
       "   'sre_constants': <module 'sre_constants' from '/Users/junix/miniconda3/envs/py310/lib/python3.10/sre_constants.py'>,\n",
       "   'sre_parse': <module 'sre_parse' from '/Users/junix/miniconda3/envs/py310/lib/python3.10/sre_parse.py'>,\n",
       "   'sre_compile': <module 'sre_compile' from '/Users/junix/miniconda3/envs/py310/lib/python3.10/sre_compile.py'>,\n",
       "   '_locale': <module '_locale' (built-in)>,\n",
       "   'copyreg': <module 'copyreg' from '/Users/junix/miniconda3/envs/py310/lib/python3.10/copyreg.py'>,\n",
       "   're': <module 're' from '/Users/junix/miniconda3/envs/py310/lib/python3.10/re.py'>,\n",
       "   'collections.abc': <module 'collections.abc' from '/Users/junix/miniconda3/envs/py310/lib/python3.10/collections/abc.py'>,\n",
       "   'typing.io': typing.io,\n",
       "   'typing.re': typing.re,\n",
       "   'typing': <module 'typing' from '/Users/junix/miniconda3/envs/py310/lib/python3.10/typing.py'>,\n",
       "   'ipykernel._version': <module 'ipykernel._version' from '/Users/junix/miniconda3/envs/py310/lib/python3.10/site-packages/ipykernel/_version.py'>,\n",
       "   '_json': <module '_json' from '/Users/junix/miniconda3/envs/py310/lib/python3.10/lib-dynload/_json.cpython-310-darwin.so'>,\n",
       "   'json.scanner': <module 'json.scanner' from '/Users/junix/miniconda3/envs/py310/lib/python3.10/json/scanner.py'>,\n",
       "   'json.decoder': <module 'json.decoder' from '/Users/junix/miniconda3/envs/py310/lib/python3.10/json/decoder.py'>,\n",
       "   'json.encoder': <module 'json.encoder' from '/Users/junix/miniconda3/envs/py310/lib/python3.10/json/encoder.py'>,\n",
       "   'json': <module 'json' from '/Users/junix/miniconda3/envs/py310/lib/python3.10/json/__init__.py'>,\n",
       "   'errno': <module 'errno' (built-in)>,\n",
       "   'signal': <module 'signal' from '/Users/junix/miniconda3/envs/py310/lib/python3.10/signal.py'>,\n",
       "   '_weakrefset': <module '_weakrefset' from '/Users/junix/miniconda3/envs/py310/lib/python3.10/_weakrefset.py'>,\n",
       "   'threading': <module 'threading' from '/Users/junix/miniconda3/envs/py310/lib/python3.10/threading.py'>,\n",
       "   'fcntl': <module 'fcntl' from '/Users/junix/miniconda3/envs/py310/lib/python3.10/lib-dynload/fcntl.cpython-310-darwin.so'>,\n",
       "   '_posixsubprocess': <module '_posixsubprocess' from '/Users/junix/miniconda3/envs/py310/lib/python3.10/lib-dynload/_posixsubprocess.cpython-310-darwin.so'>,\n",
       "   'select': <module 'select' from '/Users/junix/miniconda3/envs/py310/lib/python3.10/lib-dynload/select.cpython-310-darwin.so'>,\n",
       "   'math': <module 'math' from '/Users/junix/miniconda3/envs/py310/lib/python3.10/lib-dynload/math.cpython-310-darwin.so'>,\n",
       "   'selectors': <module 'selectors' from '/Users/junix/miniconda3/envs/py310/lib/python3.10/selectors.py'>,\n",
       "   'subprocess': <module 'subprocess' from '/Users/junix/miniconda3/envs/py310/lib/python3.10/subprocess.py'>,\n",
       "   'jupyter_client._version': <module 'jupyter_client._version' from '/Users/junix/miniconda3/envs/py310/lib/python3.10/site-packages/jupyter_client/_version.py'>,\n",
       "   '_ast': <module '_ast' (built-in)>,\n",
       "   'ast': <module 'ast' from '/Users/junix/miniconda3/envs/py310/lib/python3.10/ast.py'>,\n",
       "   '_opcode': <module '_opcode' from '/Users/junix/miniconda3/envs/py310/lib/python3.10/lib-dynload/_opcode.cpython-310-darwin.so'>,\n",
       "   'opcode': <module 'opcode' from '/Users/junix/miniconda3/envs/py310/lib/python3.10/opcode.py'>,\n",
       "   'dis': <module 'dis' from '/Users/junix/miniconda3/envs/py310/lib/python3.10/dis.py'>,\n",
       "   'token': <module 'token' from '/Users/junix/miniconda3/envs/py310/lib/python3.10/token.py'>,\n",
       "   'tokenize': <module 'tokenize' from '/Users/junix/miniconda3/envs/py310/lib/python3.10/tokenize.py'>,\n",
       "   'linecache': <module 'linecache' from '/Users/junix/miniconda3/envs/py310/lib/python3.10/linecache.py'>,\n",
       "   'inspect': <module 'inspect' from '/Users/junix/miniconda3/envs/py310/lib/python3.10/inspect.py'>,\n",
       "   'traitlets.utils': <module 'traitlets.utils' from '/Users/junix/miniconda3/envs/py310/lib/python3.10/site-packages/traitlets/utils/__init__.py'>,\n",
       "   'traitlets.utils.bunch': <module 'traitlets.utils.bunch' from '/Users/junix/miniconda3/envs/py310/lib/python3.10/site-packages/traitlets/utils/bunch.py'>,\n",
       "   'traitlets.utils.descriptions': <module 'traitlets.utils.descriptions' from '/Users/junix/miniconda3/envs/py310/lib/python3.10/site-packages/traitlets/utils/descriptions.py'>,\n",
       "   'traitlets.utils.getargspec': <module 'traitlets.utils.getargspec' from '/Users/junix/miniconda3/envs/py310/lib/python3.10/site-packages/traitlets/utils/getargspec.py'>,\n",
       "   'traitlets.utils.importstring': <module 'traitlets.utils.importstring' from '/Users/junix/miniconda3/envs/py310/lib/python3.10/site-packages/traitlets/utils/importstring.py'>,\n",
       "   'traitlets.utils.sentinel': <module 'traitlets.utils.sentinel' from '/Users/junix/miniconda3/envs/py310/lib/python3.10/site-packages/traitlets/utils/sentinel.py'>,\n",
       "   'traitlets.traitlets': <module 'traitlets.traitlets' from '/Users/junix/miniconda3/envs/py310/lib/python3.10/site-packages/traitlets/traitlets.py'>,\n",
       "   'traitlets._version': <module 'traitlets._version' from '/Users/junix/miniconda3/envs/py310/lib/python3.10/site-packages/traitlets/_version.py'>,\n",
       "   'weakref': <module 'weakref' from '/Users/junix/miniconda3/envs/py310/lib/python3.10/weakref.py'>,\n",
       "   'copy': <module 'copy' from '/Users/junix/miniconda3/envs/py310/lib/python3.10/copy.py'>,\n",
       "   'traitlets.utils.decorators': <module 'traitlets.utils.decorators' from '/Users/junix/miniconda3/envs/py310/lib/python3.10/site-packages/traitlets/utils/decorators.py'>,\n",
       "   'traitlets': <module 'traitlets' from '/Users/junix/miniconda3/envs/py310/lib/python3.10/site-packages/traitlets/__init__.py'>,\n",
       "   'concurrent': <module 'concurrent' from '/Users/junix/miniconda3/envs/py310/lib/python3.10/concurrent/__init__.py'>,\n",
       "   'traceback': <module 'traceback' from '/Users/junix/miniconda3/envs/py310/lib/python3.10/traceback.py'>,\n",
       "   '_string': <module '_string' (built-in)>,\n",
       "   'string': <module 'string' from '/Users/junix/miniconda3/envs/py310/lib/python3.10/string.py'>,\n",
       "   'atexit': <module 'atexit' (built-in)>,\n",
       "   'logging': <module 'logging' from '/Users/junix/miniconda3/envs/py310/lib/python3.10/logging/__init__.py'>,\n",
       "   'concurrent.futures._base': <module 'concurrent.futures._base' from '/Users/junix/miniconda3/envs/py310/lib/python3.10/concurrent/futures/_base.py'>,\n",
       "   'concurrent.futures': <module 'concurrent.futures' from '/Users/junix/miniconda3/envs/py310/lib/python3.10/concurrent/futures/__init__.py'>,\n",
       "   '_heapq': <module '_heapq' from '/Users/junix/miniconda3/envs/py310/lib/python3.10/lib-dynload/_heapq.cpython-310-darwin.so'>,\n",
       "   'heapq': <module 'heapq' from '/Users/junix/miniconda3/envs/py310/lib/python3.10/heapq.py'>,\n",
       "   '_socket': <module '_socket' from '/Users/junix/miniconda3/envs/py310/lib/python3.10/lib-dynload/_socket.cpython-310-darwin.so'>,\n",
       "   'array': <module 'array' from '/Users/junix/miniconda3/envs/py310/lib/python3.10/lib-dynload/array.cpython-310-darwin.so'>,\n",
       "   'socket': <module 'socket' from '/Users/junix/miniconda3/envs/py310/lib/python3.10/socket.py'>,\n",
       "   '_ssl': <module '_ssl' from '/Users/junix/miniconda3/envs/py310/lib/python3.10/lib-dynload/_ssl.cpython-310-darwin.so'>,\n",
       "   '_struct': <module '_struct' from '/Users/junix/miniconda3/envs/py310/lib/python3.10/lib-dynload/_struct.cpython-310-darwin.so'>,\n",
       "   'struct': <module 'struct' from '/Users/junix/miniconda3/envs/py310/lib/python3.10/struct.py'>,\n",
       "   'binascii': <module 'binascii' from '/Users/junix/miniconda3/envs/py310/lib/python3.10/lib-dynload/binascii.cpython-310-darwin.so'>,\n",
       "   'base64': <module 'base64' from '/Users/junix/miniconda3/envs/py310/lib/python3.10/base64.py'>,\n",
       "   'ssl': <module 'ssl' from '/Users/junix/miniconda3/envs/py310/lib/python3.10/ssl.py'>,\n",
       "   'asyncio.constants': <module 'asyncio.constants' from '/Users/junix/miniconda3/envs/py310/lib/python3.10/asyncio/constants.py'>,\n",
       "   'asyncio.format_helpers': <module 'asyncio.format_helpers' from '/Users/junix/miniconda3/envs/py310/lib/python3.10/asyncio/format_helpers.py'>,\n",
       "   'asyncio.base_futures': <module 'asyncio.base_futures' from '/Users/junix/miniconda3/envs/py310/lib/python3.10/asyncio/base_futures.py'>,\n",
       "   'asyncio.log': <module 'asyncio.log' from '/Users/junix/miniconda3/envs/py310/lib/python3.10/asyncio/log.py'>,\n",
       "   'asyncio.coroutines': <module 'asyncio.coroutines' from '/Users/junix/miniconda3/envs/py310/lib/python3.10/asyncio/coroutines.py'>,\n",
       "   '_contextvars': <module '_contextvars' from '/Users/junix/miniconda3/envs/py310/lib/python3.10/lib-dynload/_contextvars.cpython-310-darwin.so'>,\n",
       "   'contextvars': <module 'contextvars' from '/Users/junix/miniconda3/envs/py310/lib/python3.10/contextvars.py'>,\n",
       "   'asyncio.exceptions': <module 'asyncio.exceptions' from '/Users/junix/miniconda3/envs/py310/lib/python3.10/asyncio/exceptions.py'>,\n",
       "   'asyncio.base_tasks': <module 'asyncio.base_tasks' from '/Users/junix/miniconda3/envs/py310/lib/python3.10/asyncio/base_tasks.py'>,\n",
       "   '_asyncio': <module '_asyncio' from '/Users/junix/miniconda3/envs/py310/lib/python3.10/lib-dynload/_asyncio.cpython-310-darwin.so'>,\n",
       "   'asyncio.events': <module 'asyncio.events' from '/Users/junix/miniconda3/envs/py310/lib/python3.10/asyncio/events.py'>,\n",
       "   'asyncio.futures': <module 'asyncio.futures' from '/Users/junix/miniconda3/envs/py310/lib/python3.10/asyncio/futures.py'>,\n",
       "   'asyncio.protocols': <module 'asyncio.protocols' from '/Users/junix/miniconda3/envs/py310/lib/python3.10/asyncio/protocols.py'>,\n",
       "   'asyncio.transports': <module 'asyncio.transports' from '/Users/junix/miniconda3/envs/py310/lib/python3.10/asyncio/transports.py'>,\n",
       "   'asyncio.sslproto': <module 'asyncio.sslproto' from '/Users/junix/miniconda3/envs/py310/lib/python3.10/asyncio/sslproto.py'>,\n",
       "   'asyncio.mixins': <module 'asyncio.mixins' from '/Users/junix/miniconda3/envs/py310/lib/python3.10/asyncio/mixins.py'>,\n",
       "   'asyncio.tasks': <module 'asyncio.tasks' from '/Users/junix/miniconda3/envs/py310/lib/python3.10/asyncio/tasks.py'>,\n",
       "   'asyncio.locks': <module 'asyncio.locks' from '/Users/junix/miniconda3/envs/py310/lib/python3.10/asyncio/locks.py'>,\n",
       "   'asyncio.staggered': <module 'asyncio.staggered' from '/Users/junix/miniconda3/envs/py310/lib/python3.10/asyncio/staggered.py'>,\n",
       "   'asyncio.trsock': <module 'asyncio.trsock' from '/Users/junix/miniconda3/envs/py310/lib/python3.10/asyncio/trsock.py'>,\n",
       "   'asyncio.base_events': <module 'asyncio.base_events' from '/Users/junix/miniconda3/envs/py310/lib/python3.10/asyncio/base_events.py'>,\n",
       "   'asyncio.runners': <module 'asyncio.runners' from '/Users/junix/miniconda3/envs/py310/lib/python3.10/asyncio/runners.py'>,\n",
       "   'asyncio.queues': <module 'asyncio.queues' from '/Users/junix/miniconda3/envs/py310/lib/python3.10/asyncio/queues.py'>,\n",
       "   'asyncio.streams': <module 'asyncio.streams' from '/Users/junix/miniconda3/envs/py310/lib/python3.10/asyncio/streams.py'>,\n",
       "   'asyncio.subprocess': <module 'asyncio.subprocess' from '/Users/junix/miniconda3/envs/py310/lib/python3.10/asyncio/subprocess.py'>,\n",
       "   'asyncio.threads': <module 'asyncio.threads' from '/Users/junix/miniconda3/envs/py310/lib/python3.10/asyncio/threads.py'>,\n",
       "   'asyncio.base_subprocess': <module 'asyncio.base_subprocess' from '/Users/junix/miniconda3/envs/py310/lib/python3.10/asyncio/base_subprocess.py'>,\n",
       "   'asyncio.selector_events': <module 'asyncio.selector_events' from '/Users/junix/miniconda3/envs/py310/lib/python3.10/asyncio/selector_events.py'>,\n",
       "   'asyncio.unix_events': <module 'asyncio.unix_events' from '/Users/junix/miniconda3/envs/py310/lib/python3.10/asyncio/unix_events.py'>,\n",
       "   'asyncio': <module 'asyncio' from '/Users/junix/miniconda3/envs/py310/lib/python3.10/asyncio/__init__.py'>,\n",
       "   '_queue': <module '_queue' from '/Users/junix/miniconda3/envs/py310/lib/python3.10/lib-dynload/_queue.cpython-310-darwin.so'>,\n",
       "   'queue': <module 'queue' from '/Users/junix/miniconda3/envs/py310/lib/python3.10/queue.py'>,\n",
       "   'platform': <module 'platform' from '/Users/junix/miniconda3/envs/py310/lib/python3.10/platform.py'>,\n",
       "   '_ctypes': <module '_ctypes' from '/Users/junix/miniconda3/envs/py310/lib/python3.10/lib-dynload/_ctypes.cpython-310-darwin.so'>,\n",
       "   'ctypes._endian': <module 'ctypes._endian' from '/Users/junix/miniconda3/envs/py310/lib/python3.10/ctypes/_endian.py'>,\n",
       "   'ctypes': <module 'ctypes' from '/Users/junix/miniconda3/envs/py310/lib/python3.10/ctypes/__init__.py'>,\n",
       "   'zmq.backend.select': <module 'zmq.backend.select' from '/Users/junix/miniconda3/envs/py310/lib/python3.10/site-packages/zmq/backend/select.py'>,\n",
       "   '_cython_0_29_30': <module '_cython_0_29_30'>,\n",
       "   'cython_runtime': <module 'cython_runtime'>,\n",
       "   'zmq.error': <module 'zmq.error' from '/Users/junix/miniconda3/envs/py310/lib/python3.10/site-packages/zmq/error.py'>,\n",
       "   'zmq.backend.cython.context': <module 'zmq.backend.cython.context' from '/Users/junix/miniconda3/envs/py310/lib/python3.10/site-packages/zmq/backend/cython/context.cpython-310-darwin.so'>,\n",
       "   'zmq.backend.cython.message': <module 'zmq.backend.cython.message' from '/Users/junix/miniconda3/envs/py310/lib/python3.10/site-packages/zmq/backend/cython/message.cpython-310-darwin.so'>,\n",
       "   '_bisect': <module '_bisect' from '/Users/junix/miniconda3/envs/py310/lib/python3.10/lib-dynload/_bisect.cpython-310-darwin.so'>,\n",
       "   'bisect': <module 'bisect' from '/Users/junix/miniconda3/envs/py310/lib/python3.10/bisect.py'>,\n",
       "   '_random': <module '_random' from '/Users/junix/miniconda3/envs/py310/lib/python3.10/lib-dynload/_random.cpython-310-darwin.so'>,\n",
       "   '_sha512': <module '_sha512' from '/Users/junix/miniconda3/envs/py310/lib/python3.10/lib-dynload/_sha512.cpython-310-darwin.so'>,\n",
       "   'random': <module 'random' from '/Users/junix/miniconda3/envs/py310/lib/python3.10/random.py'>,\n",
       "   '_compat_pickle': <module '_compat_pickle' from '/Users/junix/miniconda3/envs/py310/lib/python3.10/_compat_pickle.py'>,\n",
       "   '_pickle': <module '_pickle' from '/Users/junix/miniconda3/envs/py310/lib/python3.10/lib-dynload/_pickle.cpython-310-darwin.so'>,\n",
       "   'pickle': <module 'pickle' from '/Users/junix/miniconda3/envs/py310/lib/python3.10/pickle.py'>,\n",
       "   'zmq.constants': <module 'zmq.constants' from '/Users/junix/miniconda3/envs/py310/lib/python3.10/site-packages/zmq/constants.py'>,\n",
       "   'zmq.backend.cython.socket': <module 'zmq.backend.cython.socket' from '/Users/junix/miniconda3/envs/py310/lib/python3.10/site-packages/zmq/backend/cython/socket.cpython-310-darwin.so'>,\n",
       "   'zmq.backend.cython._device': <module 'zmq.backend.cython._device' from '/Users/junix/miniconda3/envs/py310/lib/python3.10/site-packages/zmq/backend/cython/_device.cpython-310-darwin.so'>,\n",
       "   'zmq.backend.cython._poll': <module 'zmq.backend.cython._poll' from '/Users/junix/miniconda3/envs/py310/lib/python3.10/site-packages/zmq/backend/cython/_poll.cpython-310-darwin.so'>,\n",
       "   'zmq.backend.cython._proxy_steerable': <module 'zmq.backend.cython._proxy_steerable' from '/Users/junix/miniconda3/envs/py310/lib/python3.10/site-packages/zmq/backend/cython/_proxy_steerable.cpython-310-darwin.so'>,\n",
       "   'zmq.backend.cython._version': <module 'zmq.backend.cython._version' from '/Users/junix/miniconda3/envs/py310/lib/python3.10/site-packages/zmq/backend/cython/_version.cpython-310-darwin.so'>,\n",
       "   'zmq.backend.cython.error': <module 'zmq.backend.cython.error' from '/Users/junix/miniconda3/envs/py310/lib/python3.10/site-packages/zmq/backend/cython/error.cpython-310-darwin.so'>,\n",
       "   'zmq.backend.cython.utils': <module 'zmq.backend.cython.utils' from '/Users/junix/miniconda3/envs/py310/lib/python3.10/site-packages/zmq/backend/cython/utils.cpython-310-darwin.so'>,\n",
       "   'zmq.backend.cython': <module 'zmq.backend.cython' from '/Users/junix/miniconda3/envs/py310/lib/python3.10/site-packages/zmq/backend/cython/__init__.py'>,\n",
       "   'zmq.backend': <module 'zmq.backend' from '/Users/junix/miniconda3/envs/py310/lib/python3.10/site-packages/zmq/backend/__init__.py'>,\n",
       "   'zmq.sugar.attrsettr': <module 'zmq.sugar.attrsettr' from '/Users/junix/miniconda3/envs/py310/lib/python3.10/site-packages/zmq/sugar/attrsettr.py'>,\n",
       "   'zmq._typing': <module 'zmq._typing' from '/Users/junix/miniconda3/envs/py310/lib/python3.10/site-packages/zmq/_typing.py'>,\n",
       "   'zmq.utils': <module 'zmq.utils' from '/Users/junix/miniconda3/envs/py310/lib/python3.10/site-packages/zmq/utils/__init__.py'>,\n",
       "   'zmq.utils.jsonapi': <module 'zmq.utils.jsonapi' from '/Users/junix/miniconda3/envs/py310/lib/python3.10/site-packages/zmq/utils/jsonapi.py'>,\n",
       "   'zmq.sugar.poll': <module 'zmq.sugar.poll' from '/Users/junix/miniconda3/envs/py310/lib/python3.10/site-packages/zmq/sugar/poll.py'>,\n",
       "   'zmq.sugar.socket': <module 'zmq.sugar.socket' from '/Users/junix/miniconda3/envs/py310/lib/python3.10/site-packages/zmq/sugar/socket.py'>,\n",
       "   'zmq.sugar.context': <module 'zmq.sugar.context' from '/Users/junix/miniconda3/envs/py310/lib/python3.10/site-packages/zmq/sugar/context.py'>,\n",
       "   'zmq.sugar.frame': <module 'zmq.sugar.frame' from '/Users/junix/miniconda3/envs/py310/lib/python3.10/site-packages/zmq/sugar/frame.py'>,\n",
       "   'zmq.sugar.tracker': <module 'zmq.sugar.tracker' from '/Users/junix/miniconda3/envs/py310/lib/python3.10/site-packages/zmq/sugar/tracker.py'>,\n",
       "   'zmq.sugar.version': <module 'zmq.sugar.version' from '/Users/junix/miniconda3/envs/py310/lib/python3.10/site-packages/zmq/sugar/version.py'>,\n",
       "   'zmq.sugar.stopwatch': <module 'zmq.sugar.stopwatch' from '/Users/junix/miniconda3/envs/py310/lib/python3.10/site-packages/zmq/sugar/stopwatch.py'>,\n",
       "   'zmq.sugar': <module 'zmq.sugar' from '/Users/junix/miniconda3/envs/py310/lib/python3.10/site-packages/zmq/sugar/__init__.py'>,\n",
       "   'zmq': <module 'zmq' from '/Users/junix/miniconda3/envs/py310/lib/python3.10/site-packages/zmq/__init__.py'>,\n",
       "   'zmq._future': <module 'zmq._future' from '/Users/junix/miniconda3/envs/py310/lib/python3.10/site-packages/zmq/_future.py'>,\n",
       "   'zmq.asyncio': <module 'zmq.asyncio' from '/Users/junix/miniconda3/envs/py310/lib/python3.10/site-packages/zmq/asyncio.py'>,\n",
       "   'jupyter_client.channelsabc': <module 'jupyter_client.channelsabc' from '/Users/junix/miniconda3/envs/py310/lib/python3.10/site-packages/jupyter_client/channelsabc.py'>,\n",
       "   '_hashlib': <module '_hashlib' from '/Users/junix/miniconda3/envs/py310/lib/python3.10/lib-dynload/_hashlib.cpython-310-darwin.so'>,\n",
       "   '_blake2': <module '_blake2' from '/Users/junix/miniconda3/envs/py310/lib/python3.10/lib-dynload/_blake2.cpython-310-darwin.so'>,\n",
       "   'hashlib': <module 'hashlib' from '/Users/junix/miniconda3/envs/py310/lib/python3.10/hashlib.py'>,\n",
       "   'hmac': <module 'hmac' from '/Users/junix/miniconda3/envs/py310/lib/python3.10/hmac.py'>,\n",
       "   'dataclasses': <module 'dataclasses' from '/Users/junix/miniconda3/envs/py310/lib/python3.10/dataclasses.py'>,\n",
       "   'pprint': <module 'pprint' from '/Users/junix/miniconda3/envs/py310/lib/python3.10/pprint.py'>,\n",
       "   '_datetime': <module '_datetime' from '/Users/junix/miniconda3/envs/py310/lib/python3.10/lib-dynload/_datetime.cpython-310-darwin.so'>,\n",
       "   'datetime': <module 'datetime' from '/Users/junix/miniconda3/envs/py310/lib/python3.10/datetime.py'>,\n",
       "   'logging.handlers': <module 'logging.handlers' from '/Users/junix/miniconda3/envs/py310/lib/python3.10/logging/handlers.py'>,\n",
       "   'socketserver': <module 'socketserver' from '/Users/junix/miniconda3/envs/py310/lib/python3.10/socketserver.py'>,\n",
       "   'logging.config': <module 'logging.config' from '/Users/junix/miniconda3/envs/py310/lib/python3.10/logging/config.py'>,\n",
       "   'textwrap': <module 'textwrap' from '/Users/junix/miniconda3/envs/py310/lib/python3.10/textwrap.py'>,\n",
       "   'traitlets.utils.text': <module 'traitlets.utils.text' from '/Users/junix/miniconda3/envs/py310/lib/python3.10/site-packages/traitlets/utils/text.py'>,\n",
       "   'gettext': <module 'gettext' from '/Users/junix/miniconda3/envs/py310/lib/python3.10/gettext.py'>,\n",
       "   'argparse': <module 'argparse' from '/Users/junix/miniconda3/envs/py310/lib/python3.10/argparse.py'>,\n",
       "   'traitlets.config.loader': <module 'traitlets.config.loader' from '/Users/junix/miniconda3/envs/py310/lib/python3.10/site-packages/traitlets/config/loader.py'>,\n",
       "   'traitlets.config.configurable': <module 'traitlets.config.configurable' from '/Users/junix/miniconda3/envs/py310/lib/python3.10/site-packages/traitlets/config/configurable.py'>,\n",
       "   'traitlets.utils.nested_update': <module 'traitlets.utils.nested_update' from '/Users/junix/miniconda3/envs/py310/lib/python3.10/site-packages/traitlets/utils/nested_update.py'>,\n",
       "   'traitlets.config.application': <module 'traitlets.config.application' from '/Users/junix/miniconda3/envs/py310/lib/python3.10/site-packages/traitlets/config/application.py'>,\n",
       "   'traitlets.config': <module 'traitlets.config' from '/Users/junix/miniconda3/envs/py310/lib/python3.10/site-packages/traitlets/config/__init__.py'>,\n",
       "   'traitlets.log': <module 'traitlets.log' from '/Users/junix/miniconda3/envs/py310/lib/python3.10/site-packages/traitlets/log.py'>,\n",
       "   'tornado': <module 'tornado' from '/Users/junix/miniconda3/envs/py310/lib/python3.10/site-packages/tornado/__init__.py'>,\n",
       "   'numbers': <module 'numbers' from '/Users/junix/miniconda3/envs/py310/lib/python3.10/numbers.py'>,\n",
       "   'html.entities': <module 'html.entities' from '/Users/junix/miniconda3/envs/py310/lib/python3.10/html/entities.py'>,\n",
       "   'html': <module 'html' from '/Users/junix/miniconda3/envs/py310/lib/python3.10/html/__init__.py'>,\n",
       "   'urllib': <module 'urllib' from '/Users/junix/miniconda3/envs/py310/lib/python3.10/urllib/__init__.py'>,\n",
       "   'urllib.parse': <module 'urllib.parse' from '/Users/junix/miniconda3/envs/py310/lib/python3.10/urllib/parse.py'>,\n",
       "   'zlib': <module 'zlib' from '/Users/junix/miniconda3/envs/py310/lib/python3.10/lib-dynload/zlib.cpython-310-darwin.so'>,\n",
       "   'tornado.speedups': <module 'tornado.speedups' from '/Users/junix/miniconda3/envs/py310/lib/python3.10/site-packages/tornado/speedups.abi3.so'>,\n",
       "   'tornado.util': <module 'tornado.util' from '/Users/junix/miniconda3/envs/py310/lib/python3.10/site-packages/tornado/util.py'>,\n",
       "   'tornado.escape': <module 'tornado.escape' from '/Users/junix/miniconda3/envs/py310/lib/python3.10/site-packages/tornado/escape.py'>,\n",
       "   '_curses': <module '_curses' from '/Users/junix/miniconda3/envs/py310/lib/python3.10/lib-dynload/_curses.cpython-310-darwin.so'>,\n",
       "   'curses': <module 'curses' from '/Users/junix/miniconda3/envs/py310/lib/python3.10/curses/__init__.py'>,\n",
       "   'tornado.log': <module 'tornado.log' from '/Users/junix/miniconda3/envs/py310/lib/python3.10/site-packages/tornado/log.py'>,\n",
       "   'tornado.concurrent': <module 'tornado.concurrent' from '/Users/junix/miniconda3/envs/py310/lib/python3.10/site-packages/tornado/concurrent.py'>,\n",
       "   'tornado.ioloop': <module 'tornado.ioloop' from '/Users/junix/miniconda3/envs/py310/lib/python3.10/site-packages/tornado/ioloop.py'>,\n",
       "   'tornado.platform': <module 'tornado.platform' from '/Users/junix/miniconda3/envs/py310/lib/python3.10/site-packages/tornado/platform/__init__.py'>,\n",
       "   'tornado.gen': <module 'tornado.gen' from '/Users/junix/miniconda3/envs/py310/lib/python3.10/site-packages/tornado/gen.py'>,\n",
       "   'tornado.platform.asyncio': <module 'tornado.platform.asyncio' from '/Users/junix/miniconda3/envs/py310/lib/python3.10/site-packages/tornado/platform/asyncio.py'>,\n",
       "   'zmq.eventloop.ioloop': <module 'zmq.eventloop.ioloop' from '/Users/junix/miniconda3/envs/py310/lib/python3.10/site-packages/zmq/eventloop/ioloop.py'>,\n",
       "   'zmq.eventloop': <module 'zmq.eventloop' from '/Users/junix/miniconda3/envs/py310/lib/python3.10/site-packages/zmq/eventloop/__init__.py'>,\n",
       "   'zmq.eventloop.zmqstream': <module 'zmq.eventloop.zmqstream' from '/Users/junix/miniconda3/envs/py310/lib/python3.10/site-packages/zmq/eventloop/zmqstream.py'>,\n",
       "   'jupyter_client.adapter': <module 'jupyter_client.adapter' from '/Users/junix/miniconda3/envs/py310/lib/python3.10/site-packages/jupyter_client/adapter.py'>,\n",
       "   'dateutil._version': <module 'dateutil._version' from '/Users/junix/miniconda3/envs/py310/lib/python3.10/site-packages/dateutil/_version.py'>,\n",
       "   'dateutil': <module 'dateutil' from '/Users/junix/miniconda3/envs/py310/lib/python3.10/site-packages/dateutil/__init__.py'>,\n",
       "   '__future__': <module '__future__' from '/Users/junix/miniconda3/envs/py310/lib/python3.10/__future__.py'>,\n",
       "   'locale': <module 'locale' from '/Users/junix/miniconda3/envs/py310/lib/python3.10/locale.py'>,\n",
       "   'calendar': <module 'calendar' from '/Users/junix/miniconda3/envs/py310/lib/python3.10/calendar.py'>,\n",
       "   'six': <module 'six' from '/Users/junix/miniconda3/envs/py310/lib/python3.10/site-packages/six.py'>,\n",
       "   '_decimal': <module '_decimal' from '/Users/junix/miniconda3/envs/py310/lib/python3.10/lib-dynload/_decimal.cpython-310-darwin.so'>,\n",
       "   'decimal': <module 'decimal' from '/Users/junix/miniconda3/envs/py310/lib/python3.10/decimal.py'>,\n",
       "   'dateutil._common': <module 'dateutil._common' from '/Users/junix/miniconda3/envs/py310/lib/python3.10/site-packages/dateutil/_common.py'>,\n",
       "   'dateutil.relativedelta': <module 'dateutil.relativedelta' from '/Users/junix/miniconda3/envs/py310/lib/python3.10/site-packages/dateutil/relativedelta.py'>,\n",
       "   'six.moves': <module 'six.moves' (<six._SixMetaPathImporter object at 0x7feb181cd7e0>)>,\n",
       "   'dateutil.tz._common': <module 'dateutil.tz._common' from '/Users/junix/miniconda3/envs/py310/lib/python3.10/site-packages/dateutil/tz/_common.py'>,\n",
       "   'dateutil.tz._factories': <module 'dateutil.tz._factories' from '/Users/junix/miniconda3/envs/py310/lib/python3.10/site-packages/dateutil/tz/_factories.py'>,\n",
       "   'dateutil.tz.tz': <module 'dateutil.tz.tz' from '/Users/junix/miniconda3/envs/py310/lib/python3.10/site-packages/dateutil/tz/tz.py'>,\n",
       "   'dateutil.tz': <module 'dateutil.tz' from '/Users/junix/miniconda3/envs/py310/lib/python3.10/site-packages/dateutil/tz/__init__.py'>,\n",
       "   'dateutil.parser._parser': <module 'dateutil.parser._parser' from '/Users/junix/miniconda3/envs/py310/lib/python3.10/site-packages/dateutil/parser/_parser.py'>,\n",
       "   'dateutil.parser.isoparser': <module 'dateutil.parser.isoparser' from '/Users/junix/miniconda3/envs/py310/lib/python3.10/site-packages/dateutil/parser/isoparser.py'>,\n",
       "   'dateutil.parser': <module 'dateutil.parser' from '/Users/junix/miniconda3/envs/py310/lib/python3.10/site-packages/dateutil/parser/__init__.py'>,\n",
       "   '_strptime': <module '_strptime' from '/Users/junix/miniconda3/envs/py310/lib/python3.10/_strptime.py'>,\n",
       "   'jupyter_client.jsonutil': <module 'jupyter_client.jsonutil' from '/Users/junix/miniconda3/envs/py310/lib/python3.10/site-packages/jupyter_client/jsonutil.py'>,\n",
       "   'jupyter_client.session': <module 'jupyter_client.session' from '/Users/junix/miniconda3/envs/py310/lib/python3.10/site-packages/jupyter_client/session.py'>,\n",
       "   'jupyter_client.channels': <module 'jupyter_client.channels' from '/Users/junix/miniconda3/envs/py310/lib/python3.10/site-packages/jupyter_client/channels.py'>,\n",
       "   'termios': <module 'termios' from '/Users/junix/miniconda3/envs/py310/lib/python3.10/lib-dynload/termios.cpython-310-darwin.so'>,\n",
       "   'getpass': <module 'getpass' from '/Users/junix/miniconda3/envs/py310/lib/python3.10/getpass.py'>,\n",
       "   'jupyter_client.clientabc': <module 'jupyter_client.clientabc' from '/Users/junix/miniconda3/envs/py310/lib/python3.10/site-packages/jupyter_client/clientabc.py'>,\n",
       "   'fnmatch': <module 'fnmatch' from '/Users/junix/miniconda3/envs/py310/lib/python3.10/fnmatch.py'>,\n",
       "   'glob': <module 'glob' from '/Users/junix/miniconda3/envs/py310/lib/python3.10/glob.py'>,\n",
       "   '_compression': <module '_compression' from '/Users/junix/miniconda3/envs/py310/lib/python3.10/_compression.py'>,\n",
       "   '_bz2': <module '_bz2' from '/Users/junix/miniconda3/envs/py310/lib/python3.10/lib-dynload/_bz2.cpython-310-darwin.so'>,\n",
       "   'bz2': <module 'bz2' from '/Users/junix/miniconda3/envs/py310/lib/python3.10/bz2.py'>,\n",
       "   '_lzma': <module '_lzma' from '/Users/junix/miniconda3/envs/py310/lib/python3.10/lib-dynload/_lzma.cpython-310-darwin.so'>,\n",
       "   'lzma': <module 'lzma' from '/Users/junix/miniconda3/envs/py310/lib/python3.10/lzma.py'>,\n",
       "   'shutil': <module 'shutil' from '/Users/junix/miniconda3/envs/py310/lib/python3.10/shutil.py'>,\n",
       "   'tempfile': <module 'tempfile' from '/Users/junix/miniconda3/envs/py310/lib/python3.10/tempfile.py'>,\n",
       "   'jupyter_core.version': <module 'jupyter_core.version' from '/Users/junix/miniconda3/envs/py310/lib/python3.10/site-packages/jupyter_core/version.py'>,\n",
       "   'jupyter_core': <module 'jupyter_core' from '/Users/junix/miniconda3/envs/py310/lib/python3.10/site-packages/jupyter_core/__init__.py'>,\n",
       "   'ntpath': <module 'ntpath' from '/Users/junix/miniconda3/envs/py310/lib/python3.10/ntpath.py'>,\n",
       "   'pathlib': <module 'pathlib' from '/Users/junix/miniconda3/envs/py310/lib/python3.10/pathlib.py'>,\n",
       "   'platformdirs.api': <module 'platformdirs.api' from '/Users/junix/miniconda3/envs/py310/lib/python3.10/site-packages/platformdirs/api.py'>,\n",
       "   'platformdirs.version': <module 'platformdirs.version' from '/Users/junix/miniconda3/envs/py310/lib/python3.10/site-packages/platformdirs/version.py'>,\n",
       "   'platformdirs.macos': <module 'platformdirs.macos' from '/Users/junix/miniconda3/envs/py310/lib/python3.10/site-packages/platformdirs/macos.py'>,\n",
       "   'platformdirs': <module 'platformdirs' from '/Users/junix/miniconda3/envs/py310/lib/python3.10/site-packages/platformdirs/__init__.py'>,\n",
       "   'jupyter_core.utils': <module 'jupyter_core.utils' from '/Users/junix/miniconda3/envs/py310/lib/python3.10/site-packages/jupyter_core/utils/__init__.py'>,\n",
       "   'jupyter_core.paths': <module 'jupyter_core.paths' from '/Users/junix/miniconda3/envs/py310/lib/python3.10/site-packages/jupyter_core/paths.py'>,\n",
       "   'jupyter_client.localinterfaces': <module 'jupyter_client.localinterfaces' from '/Users/junix/miniconda3/envs/py310/lib/python3.10/site-packages/jupyter_client/localinterfaces.py'>,\n",
       "   'jupyter_client.utils': <module 'jupyter_client.utils' from '/Users/junix/miniconda3/envs/py310/lib/python3.10/site-packages/jupyter_client/utils.py'>,\n",
       "   'jupyter_client.connect': <module 'jupyter_client.connect' from '/Users/junix/miniconda3/envs/py310/lib/python3.10/site-packages/jupyter_client/connect.py'>,\n",
       "   'jupyter_client.client': <module 'jupyter_client.client' from '/Users/junix/miniconda3/envs/py310/lib/python3.10/site-packages/jupyter_client/client.py'>,\n",
       "   'jupyter_client.asynchronous.client': <module 'jupyter_client.asynchronous.client' from '/Users/junix/miniconda3/envs/py310/lib/python3.10/site-packages/jupyter_client/asynchronous/client.py'>,\n",
       "   'jupyter_client.asynchronous': <module 'jupyter_client.asynchronous' from '/Users/junix/miniconda3/envs/py310/lib/python3.10/site-packages/jupyter_client/asynchronous/__init__.py'>,\n",
       "   'jupyter_client.blocking.client': <module 'jupyter_client.blocking.client' from '/Users/junix/miniconda3/envs/py310/lib/python3.10/site-packages/jupyter_client/blocking/client.py'>,\n",
       "   'jupyter_client.blocking': <module 'jupyter_client.blocking' from '/Users/junix/miniconda3/envs/py310/lib/python3.10/site-packages/jupyter_client/blocking/__init__.py'>,\n",
       "   'jupyter_client.launcher': <module 'jupyter_client.launcher' from '/Users/junix/miniconda3/envs/py310/lib/python3.10/site-packages/jupyter_client/launcher.py'>,\n",
       "   '_uuid': <module '_uuid' from '/Users/junix/miniconda3/envs/py310/lib/python3.10/lib-dynload/_uuid.cpython-310-darwin.so'>,\n",
       "   'uuid': <module 'uuid' from '/Users/junix/miniconda3/envs/py310/lib/python3.10/uuid.py'>,\n",
       "   'jupyter_client.managerabc': <module 'jupyter_client.managerabc' from '/Users/junix/miniconda3/envs/py310/lib/python3.10/site-packages/jupyter_client/managerabc.py'>,\n",
       "   'zipfile': <module 'zipfile' from '/Users/junix/miniconda3/envs/py310/lib/python3.10/zipfile.py'>,\n",
       "   'configparser': <module 'configparser' from '/Users/junix/miniconda3/envs/py310/lib/python3.10/configparser.py'>,\n",
       "   'entrypoints': <module 'entrypoints' from '/Users/junix/miniconda3/envs/py310/lib/python3.10/site-packages/entrypoints.py'>,\n",
       "   'jupyter_client.provisioning.provisioner_base': <module 'jupyter_client.provisioning.provisioner_base' from '/Users/junix/miniconda3/envs/py310/lib/python3.10/site-packages/jupyter_client/provisioning/provisioner_base.py'>,\n",
       "   'jupyter_client.provisioning.factory': <module 'jupyter_client.provisioning.factory' from '/Users/junix/miniconda3/envs/py310/lib/python3.10/site-packages/jupyter_client/provisioning/factory.py'>,\n",
       "   'jupyter_client.provisioning.local_provisioner': <module 'jupyter_client.provisioning.local_provisioner' from '/Users/junix/miniconda3/envs/py310/lib/python3.10/site-packages/jupyter_client/provisioning/local_provisioner.py'>,\n",
       "   'jupyter_client.provisioning': <module 'jupyter_client.provisioning' from '/Users/junix/miniconda3/envs/py310/lib/python3.10/site-packages/jupyter_client/provisioning/__init__.py'>,\n",
       "   'jupyter_client.kernelspec': <module 'jupyter_client.kernelspec' from '/Users/junix/miniconda3/envs/py310/lib/python3.10/site-packages/jupyter_client/kernelspec.py'>,\n",
       "   'jupyter_client.manager': <module 'jupyter_client.manager' from '/Users/junix/miniconda3/envs/py310/lib/python3.10/site-packages/jupyter_client/manager.py'>,\n",
       "   'jupyter_client.multikernelmanager': <module 'jupyter_client.multikernelmanager' from '/Users/junix/miniconda3/envs/py310/lib/python3.10/site-packages/jupyter_client/multikernelmanager.py'>,\n",
       "   'jupyter_client': <module 'jupyter_client' from '/Users/junix/miniconda3/envs/py310/lib/python3.10/site-packages/jupyter_client/__init__.py'>,\n",
       "   'ipykernel.connect': <module 'ipykernel.connect' from '/Users/junix/miniconda3/envs/py310/lib/python3.10/site-packages/ipykernel/connect.py'>,\n",
       "   'ipykernel': <module 'ipykernel' from '/Users/junix/miniconda3/envs/py310/lib/python3.10/site-packages/ipykernel/__init__.py'>,\n",
       "   'IPython.core': <module 'IPython.core' from '/Users/junix/miniconda3/envs/py310/lib/python3.10/site-packages/IPython/core/__init__.py'>,\n",
       "   'IPython.core.getipython': <module 'IPython.core.getipython' from '/Users/junix/miniconda3/envs/py310/lib/python3.10/site-packages/IPython/core/getipython.py'>,\n",
       "   'IPython.core.release': <module 'IPython.core.release' from '/Users/junix/miniconda3/envs/py310/lib/python3.10/site-packages/IPython/core/release.py'>,\n",
       "   'pkgutil': <module 'pkgutil' from '/Users/junix/miniconda3/envs/py310/lib/python3.10/pkgutil.py'>,\n",
       "   'sysconfig': <module 'sysconfig' from '/Users/junix/miniconda3/envs/py310/lib/python3.10/sysconfig.py'>,\n",
       "   '_sysconfigdata__darwin_darwin': <module '_sysconfigdata__darwin_darwin' from '/Users/junix/miniconda3/envs/py310/lib/python3.10/_sysconfigdata__darwin_darwin.py'>,\n",
       "   '_osx_support': <module '_osx_support' from '/Users/junix/miniconda3/envs/py310/lib/python3.10/_osx_support.py'>,\n",
       "   'pydoc': <module 'pydoc' from '/Users/junix/miniconda3/envs/py310/lib/python3.10/pydoc.py'>,\n",
       "   'executing.executing': <module 'executing.executing' from '/Users/junix/miniconda3/envs/py310/lib/python3.10/site-packages/executing/executing.py'>,\n",
       "   'executing.version': <module 'executing.version' from '/Users/junix/miniconda3/envs/py310/lib/python3.10/site-packages/executing/version.py'>,\n",
       "   'executing': <module 'executing' from '/Users/junix/miniconda3/envs/py310/lib/python3.10/site-packages/executing/__init__.py'>,\n",
       "   'asttokens.line_numbers': <module 'asttokens.line_numbers' from '/Users/junix/miniconda3/envs/py310/lib/python3.10/site-packages/asttokens/line_numbers.py'>,\n",
       "   'asttokens.util': <module 'asttokens.util' from '/Users/junix/miniconda3/envs/py310/lib/python3.10/site-packages/asttokens/util.py'>,\n",
       "   'asttokens.mark_tokens': <module 'asttokens.mark_tokens' from '/Users/junix/miniconda3/envs/py310/lib/python3.10/site-packages/asttokens/mark_tokens.py'>,\n",
       "   'asttokens.asttokens': <module 'asttokens.asttokens' from '/Users/junix/miniconda3/envs/py310/lib/python3.10/site-packages/asttokens/asttokens.py'>,\n",
       "   'asttokens': <module 'asttokens' from '/Users/junix/miniconda3/envs/py310/lib/python3.10/site-packages/asttokens/__init__.py'>,\n",
       "   'fractions': <module 'fractions' from '/Users/junix/miniconda3/envs/py310/lib/python3.10/fractions.py'>,\n",
       "   'pure_eval.utils': <module 'pure_eval.utils' from '/Users/junix/miniconda3/envs/py310/lib/python3.10/site-packages/pure_eval/utils.py'>,\n",
       "   'pure_eval.my_getattr_static': <module 'pure_eval.my_getattr_static' from '/Users/junix/miniconda3/envs/py310/lib/python3.10/site-packages/pure_eval/my_getattr_static.py'>,\n",
       "   'pure_eval.core': <module 'pure_eval.core' from '/Users/junix/miniconda3/envs/py310/lib/python3.10/site-packages/pure_eval/core.py'>,\n",
       "   'pure_eval.version': <module 'pure_eval.version' from '/Users/junix/miniconda3/envs/py310/lib/python3.10/site-packages/pure_eval/version.py'>,\n",
       "   'pure_eval': <module 'pure_eval' from '/Users/junix/miniconda3/envs/py310/lib/python3.10/site-packages/pure_eval/__init__.py'>,\n",
       "   'stack_data.utils': <module 'stack_data.utils' from '/Users/junix/miniconda3/envs/py310/lib/python3.10/site-packages/stack_data/utils.py'>,\n",
       "   'stack_data.core': <module 'stack_data.core' from '/Users/junix/miniconda3/envs/py310/lib/python3.10/site-packages/stack_data/core.py'>,\n",
       "   'stack_data.formatting': <module 'stack_data.formatting' from '/Users/junix/miniconda3/envs/py310/lib/python3.10/site-packages/stack_data/formatting.py'>,\n",
       "   'stack_data.version': <module 'stack_data.version' from '/Users/junix/miniconda3/envs/py310/lib/python3.10/site-packages/stack_data/version.py'>,\n",
       "   'stack_data': <module 'stack_data' from '/Users/junix/miniconda3/envs/py310/lib/python3.10/site-packages/stack_data/__init__.py'>,\n",
       "   'pygments': <module 'pygments' from '/Users/junix/miniconda3/envs/py310/lib/python3.10/site-packages/pygments/__init__.py'>,\n",
       "   'pygments.formatters._mapping': <module 'pygments.formatters._mapping' from '/Users/junix/miniconda3/envs/py310/lib/python3.10/site-packages/pygments/formatters/_mapping.py'>,\n",
       "   'pygments.plugin': <module 'pygments.plugin' from '/Users/junix/miniconda3/envs/py310/lib/python3.10/site-packages/pygments/plugin.py'>,\n",
       "   'pygments.util': <module 'pygments.util' from '/Users/junix/miniconda3/envs/py310/lib/python3.10/site-packages/pygments/util.py'>,\n",
       "   'pygments.formatters': <module 'pygments.formatters' from '/Users/junix/miniconda3/envs/py310/lib/python3.10/site-packages/pygments/formatters/__init__.py'>,\n",
       "   'pygments.styles': <module 'pygments.styles' from '/Users/junix/miniconda3/envs/py310/lib/python3.10/site-packages/pygments/styles/__init__.py'>,\n",
       "   'pygments.formatter': <module 'pygments.formatter' from '/Users/junix/miniconda3/envs/py310/lib/python3.10/site-packages/pygments/formatter.py'>,\n",
       "   'pygments.console': <module 'pygments.console' from '/Users/junix/miniconda3/envs/py310/lib/python3.10/site-packages/pygments/console.py'>,\n",
       "   'pygments.token': <module 'pygments.token' from '/Users/junix/miniconda3/envs/py310/lib/python3.10/site-packages/pygments/token.py'>,\n",
       "   'pygments.style': <module 'pygments.style' from '/Users/junix/miniconda3/envs/py310/lib/python3.10/site-packages/pygments/style.py'>,\n",
       "   'pygments.formatters.terminal256': <module 'pygments.formatters.terminal256' from '/Users/junix/miniconda3/envs/py310/lib/python3.10/site-packages/pygments/formatters/terminal256.py'>,\n",
       "   'IPython.utils': <module 'IPython.utils' from '/Users/junix/miniconda3/envs/py310/lib/python3.10/site-packages/IPython/utils/__init__.py'>,\n",
       "   'IPython.utils.ipstruct': <module 'IPython.utils.ipstruct' from '/Users/junix/miniconda3/envs/py310/lib/python3.10/site-packages/IPython/utils/ipstruct.py'>,\n",
       "   'IPython.utils.coloransi': <module 'IPython.utils.coloransi' from '/Users/junix/miniconda3/envs/py310/lib/python3.10/site-packages/IPython/utils/coloransi.py'>,\n",
       "   'IPython.utils.colorable': <module 'IPython.utils.colorable' from '/Users/junix/miniconda3/envs/py310/lib/python3.10/site-packages/IPython/utils/colorable.py'>,\n",
       "   'IPython.utils.PyColorize': <module 'IPython.utils.PyColorize' from '/Users/junix/miniconda3/envs/py310/lib/python3.10/site-packages/IPython/utils/PyColorize.py'>,\n",
       "   'IPython.utils.encoding': <module 'IPython.utils.encoding' from '/Users/junix/miniconda3/envs/py310/lib/python3.10/site-packages/IPython/utils/encoding.py'>,\n",
       "   'IPython.utils.py3compat': <module 'IPython.utils.py3compat' from '/Users/junix/miniconda3/envs/py310/lib/python3.10/site-packages/IPython/utils/py3compat.py'>,\n",
       "   'IPython.core.excolors': <module 'IPython.core.excolors' from '/Users/junix/miniconda3/envs/py310/lib/python3.10/site-packages/IPython/core/excolors.py'>,\n",
       "   'cmd': <module 'cmd' from '/Users/junix/miniconda3/envs/py310/lib/python3.10/cmd.py'>,\n",
       "   'bdb': <module 'bdb' from '/Users/junix/miniconda3/envs/py310/lib/python3.10/bdb.py'>,\n",
       "   'codeop': <module 'codeop' from '/Users/junix/miniconda3/envs/py310/lib/python3.10/codeop.py'>,\n",
       "   'code': <module 'code' from '/Users/junix/miniconda3/envs/py310/lib/python3.10/code.py'>,\n",
       "   'pdb': <module 'pdb' from '/Users/junix/miniconda3/envs/py310/lib/python3.10/pdb.py'>,\n",
       "   'IPython.core.debugger': <module 'IPython.core.debugger' from '/Users/junix/miniconda3/envs/py310/lib/python3.10/site-packages/IPython/core/debugger.py'>,\n",
       "   'IPython.core.display_trap': <module 'IPython.core.display_trap' from '/Users/junix/miniconda3/envs/py310/lib/python3.10/site-packages/IPython/core/display_trap.py'>,\n",
       "   'pexpect.exceptions': <module 'pexpect.exceptions' from '/Users/junix/miniconda3/envs/py310/lib/python3.10/site-packages/pexpect/exceptions.py'>,\n",
       "   'pexpect.utils': <module 'pexpect.utils' from '/Users/junix/miniconda3/envs/py310/lib/python3.10/site-packages/pexpect/utils.py'>,\n",
       "   'pexpect.expect': <module 'pexpect.expect' from '/Users/junix/miniconda3/envs/py310/lib/python3.10/site-packages/pexpect/expect.py'>,\n",
       "   'tty': <module 'tty' from '/Users/junix/miniconda3/envs/py310/lib/python3.10/tty.py'>,\n",
       "   'pty': <module 'pty' from '/Users/junix/miniconda3/envs/py310/lib/python3.10/pty.py'>,\n",
       "   'resource': <module 'resource' from '/Users/junix/miniconda3/envs/py310/lib/python3.10/lib-dynload/resource.cpython-310-darwin.so'>,\n",
       "   'ptyprocess.util': <module 'ptyprocess.util' from '/Users/junix/miniconda3/envs/py310/lib/python3.10/site-packages/ptyprocess/util.py'>,\n",
       "   'ptyprocess.ptyprocess': <module 'ptyprocess.ptyprocess' from '/Users/junix/miniconda3/envs/py310/lib/python3.10/site-packages/ptyprocess/ptyprocess.py'>,\n",
       "   'ptyprocess': <module 'ptyprocess' from '/Users/junix/miniconda3/envs/py310/lib/python3.10/site-packages/ptyprocess/__init__.py'>,\n",
       "   'pexpect.spawnbase': <module 'pexpect.spawnbase' from '/Users/junix/miniconda3/envs/py310/lib/python3.10/site-packages/pexpect/spawnbase.py'>,\n",
       "   'pexpect.pty_spawn': <module 'pexpect.pty_spawn' from '/Users/junix/miniconda3/envs/py310/lib/python3.10/site-packages/pexpect/pty_spawn.py'>,\n",
       "   'pexpect.run': <module 'pexpect.run' from '/Users/junix/miniconda3/envs/py310/lib/python3.10/site-packages/pexpect/run.py'>,\n",
       "   'pexpect': <module 'pexpect' from '/Users/junix/miniconda3/envs/py310/lib/python3.10/site-packages/pexpect/__init__.py'>,\n",
       "   'shlex': <module 'shlex' from '/Users/junix/miniconda3/envs/py310/lib/python3.10/shlex.py'>,\n",
       "   'IPython.utils._process_common': <module 'IPython.utils._process_common' from '/Users/junix/miniconda3/envs/py310/lib/python3.10/site-packages/IPython/utils/_process_common.py'>,\n",
       "   'IPython.utils._process_posix': <module 'IPython.utils._process_posix' from '/Users/junix/miniconda3/envs/py310/lib/python3.10/site-packages/IPython/utils/_process_posix.py'>,\n",
       "   'IPython.utils.process': <module 'IPython.utils.process' from '/Users/junix/miniconda3/envs/py310/lib/python3.10/site-packages/IPython/utils/process.py'>,\n",
       "   'IPython.utils.path': <module 'IPython.utils.path' from '/Users/junix/miniconda3/envs/py310/lib/python3.10/site-packages/IPython/utils/path.py'>,\n",
       "   'IPython.utils.terminal': <module 'IPython.utils.terminal' from '/Users/junix/miniconda3/envs/py310/lib/python3.10/site-packages/IPython/utils/terminal.py'>,\n",
       "   'IPython.core.ultratb': <module 'IPython.core.ultratb' from '/Users/junix/miniconda3/envs/py310/lib/python3.10/site-packages/IPython/core/ultratb.py'>,\n",
       "   'IPython.utils._sysinfo': <module 'IPython.utils._sysinfo' from '/Users/junix/miniconda3/envs/py310/lib/python3.10/site-packages/IPython/utils/_sysinfo.py'>,\n",
       "   'IPython.utils.sysinfo': <module 'IPython.utils.sysinfo' from '/Users/junix/miniconda3/envs/py310/lib/python3.10/site-packages/IPython/utils/sysinfo.py'>,\n",
       "   'IPython.core.crashhandler': <module 'IPython.core.crashhandler' from '/Users/junix/miniconda3/envs/py310/lib/python3.10/site-packages/IPython/core/crashhandler.py'>,\n",
       "   'IPython.utils.importstring': <module 'IPython.utils.importstring' from '/Users/junix/miniconda3/envs/py310/lib/python3.10/site-packages/IPython/utils/importstring.py'>,\n",
       "   'IPython.paths': <module 'IPython.paths' from '/Users/junix/miniconda3/envs/py310/lib/python3.10/site-packages/IPython/paths.py'>,\n",
       "   'IPython.core.profiledir': <module 'IPython.core.profiledir' from '/Users/junix/miniconda3/envs/py310/lib/python3.10/site-packages/IPython/core/profiledir.py'>,\n",
       "   'IPython.core.application': <module 'IPython.core.application' from '/Users/junix/miniconda3/envs/py310/lib/python3.10/site-packages/IPython/core/application.py'>,\n",
       "   'IPython.terminal': <module 'IPython.terminal' from '/Users/junix/miniconda3/envs/py310/lib/python3.10/site-packages/IPython/terminal/__init__.py'>,\n",
       "   'IPython.core.compilerop': <module 'IPython.core.compilerop' from '/Users/junix/miniconda3/envs/py310/lib/python3.10/site-packages/IPython/core/compilerop.py'>,\n",
       "   'IPython.core.error': <module 'IPython.core.error' from '/Users/junix/miniconda3/envs/py310/lib/python3.10/site-packages/IPython/core/error.py'>,\n",
       "   'IPython.utils.docs': <module 'IPython.utils.docs' from '/Users/junix/miniconda3/envs/py310/lib/python3.10/site-packages/IPython/utils/docs.py'>,\n",
       "   'IPython.utils.decorators': <module 'IPython.utils.decorators' from '/Users/junix/miniconda3/envs/py310/lib/python3.10/site-packages/IPython/utils/decorators.py'>,\n",
       "   'IPython.utils.text': <module 'IPython.utils.text' from '/Users/junix/miniconda3/envs/py310/lib/python3.10/site-packages/IPython/utils/text.py'>,\n",
       "   'IPython.core.magic_arguments': <module 'IPython.core.magic_arguments' from '/Users/junix/miniconda3/envs/py310/lib/python3.10/site-packages/IPython/core/magic_arguments.py'>,\n",
       "   'getopt': <module 'getopt' from '/Users/junix/miniconda3/envs/py310/lib/python3.10/getopt.py'>,\n",
       "   'IPython.core.display_functions': <module 'IPython.core.display_functions' from '/Users/junix/miniconda3/envs/py310/lib/python3.10/site-packages/IPython/core/display_functions.py'>,\n",
       "   'mimetypes': <module 'mimetypes' from '/Users/junix/miniconda3/envs/py310/lib/python3.10/mimetypes.py'>,\n",
       "   'IPython.testing': <module 'IPython.testing' from '/Users/junix/miniconda3/envs/py310/lib/python3.10/site-packages/IPython/testing/__init__.py'>,\n",
       "   'IPython.testing.skipdoctest': <module 'IPython.testing.skipdoctest' from '/Users/junix/miniconda3/envs/py310/lib/python3.10/site-packages/IPython/testing/skipdoctest.py'>,\n",
       "   'IPython.core.display': <module 'IPython.core.display' from '/Users/junix/miniconda3/envs/py310/lib/python3.10/site-packages/IPython/core/display.py'>,\n",
       "   'IPython.lib': <module 'IPython.lib' from '/Users/junix/miniconda3/envs/py310/lib/python3.10/site-packages/IPython/lib/__init__.py'>,\n",
       "   'IPython.lib.display': <module 'IPython.lib.display' from '/Users/junix/miniconda3/envs/py310/lib/python3.10/site-packages/IPython/lib/display.py'>,\n",
       "   'IPython.display': <module 'IPython.display' from '/Users/junix/miniconda3/envs/py310/lib/python3.10/site-packages/IPython/display.py'>,\n",
       "   'IPython.utils.data': <module 'IPython.utils.data' from '/Users/junix/miniconda3/envs/py310/lib/python3.10/site-packages/IPython/utils/data.py'>,\n",
       "   'IPython.core.page': <module 'IPython.core.page' from '/Users/junix/miniconda3/envs/py310/lib/python3.10/site-packages/IPython/core/page.py'>,\n",
       "   'IPython.lib.pretty': <module 'IPython.lib.pretty' from '/Users/junix/miniconda3/envs/py310/lib/python3.10/site-packages/IPython/lib/pretty.py'>,\n",
       "   'IPython.utils.openpy': <module 'IPython.utils.openpy' from '/Users/junix/miniconda3/envs/py310/lib/python3.10/site-packages/IPython/utils/openpy.py'>,\n",
       "   'IPython.utils.dir2': <module 'IPython.utils.dir2' from '/Users/junix/miniconda3/envs/py310/lib/python3.10/site-packages/IPython/utils/dir2.py'>,\n",
       "   'IPython.utils.wildcard': <module 'IPython.utils.wildcard' from '/Users/junix/miniconda3/envs/py310/lib/python3.10/site-packages/IPython/utils/wildcard.py'>,\n",
       "   'pygments.lexers._mapping': <module 'pygments.lexers._mapping' from '/Users/junix/miniconda3/envs/py310/lib/python3.10/site-packages/pygments/lexers/_mapping.py'>,\n",
       "   'pygments.modeline': <module 'pygments.modeline' from '/Users/junix/miniconda3/envs/py310/lib/python3.10/site-packages/pygments/modeline.py'>,\n",
       "   'pygments.lexers': <module 'pygments.lexers' from '/Users/junix/miniconda3/envs/py310/lib/python3.10/site-packages/pygments/lexers/__init__.py'>,\n",
       "   'pygments.filter': <module 'pygments.filter' from '/Users/junix/miniconda3/envs/py310/lib/python3.10/site-packages/pygments/filter.py'>,\n",
       "   'pygments.filters': <module 'pygments.filters' from '/Users/junix/miniconda3/envs/py310/lib/python3.10/site-packages/pygments/filters/__init__.py'>,\n",
       "   'pygments.regexopt': <module 'pygments.regexopt' from '/Users/junix/miniconda3/envs/py310/lib/python3.10/site-packages/pygments/regexopt.py'>,\n",
       "   'pygments.lexer': <module 'pygments.lexer' from '/Users/junix/miniconda3/envs/py310/lib/python3.10/site-packages/pygments/lexer.py'>,\n",
       "   'pygments.unistring': <module 'pygments.unistring' from '/Users/junix/miniconda3/envs/py310/lib/python3.10/site-packages/pygments/unistring.py'>,\n",
       "   'pygments.lexers.python': <module 'pygments.lexers.python' from '/Users/junix/miniconda3/envs/py310/lib/python3.10/site-packages/pygments/lexers/python.py'>,\n",
       "   'pygments.formatters.html': <module 'pygments.formatters.html' from '/Users/junix/miniconda3/envs/py310/lib/python3.10/site-packages/pygments/formatters/html.py'>,\n",
       "   'IPython.core.oinspect': <module 'IPython.core.oinspect' from '/Users/junix/miniconda3/envs/py310/lib/python3.10/site-packages/IPython/core/oinspect.py'>,\n",
       "   'IPython.core.inputtransformer2': <module 'IPython.core.inputtransformer2' from '/Users/junix/miniconda3/envs/py310/lib/python3.10/site-packages/IPython/core/inputtransformer2.py'>,\n",
       "   'IPython.core.magic': <module 'IPython.core.magic' from '/Users/junix/miniconda3/envs/py310/lib/python3.10/site-packages/IPython/core/magic.py'>,\n",
       "   'pickleshare': <module 'pickleshare' from '/Users/junix/miniconda3/envs/py310/lib/python3.10/site-packages/pickleshare.py'>,\n",
       "   'IPython.core.hooks': <module 'IPython.core.hooks' from '/Users/junix/miniconda3/envs/py310/lib/python3.10/site-packages/IPython/core/hooks.py'>,\n",
       "   'IPython.core.autocall': <module 'IPython.core.autocall' from '/Users/junix/miniconda3/envs/py310/lib/python3.10/site-packages/IPython/core/autocall.py'>,\n",
       "   'IPython.core.macro': <module 'IPython.core.macro' from '/Users/junix/miniconda3/envs/py310/lib/python3.10/site-packages/IPython/core/macro.py'>,\n",
       "   'IPython.core.splitinput': <module 'IPython.core.splitinput' from '/Users/junix/miniconda3/envs/py310/lib/python3.10/site-packages/IPython/core/splitinput.py'>,\n",
       "   'IPython.core.prefilter': <module 'IPython.core.prefilter' from '/Users/junix/miniconda3/envs/py310/lib/python3.10/site-packages/IPython/core/prefilter.py'>,\n",
       "   'IPython.core.alias': <module 'IPython.core.alias' from '/Users/junix/miniconda3/envs/py310/lib/python3.10/site-packages/IPython/core/alias.py'>,\n",
       "   'IPython.core.builtin_trap': <module 'IPython.core.builtin_trap' from '/Users/junix/miniconda3/envs/py310/lib/python3.10/site-packages/IPython/core/builtin_trap.py'>,\n",
       "   'IPython.core.displayhook': <module 'IPython.core.displayhook' from '/Users/junix/miniconda3/envs/py310/lib/python3.10/site-packages/IPython/core/displayhook.py'>,\n",
       "   'IPython.core.displaypub': <module 'IPython.core.displaypub' from '/Users/junix/miniconda3/envs/py310/lib/python3.10/site-packages/IPython/core/displaypub.py'>,\n",
       "   'backcall.backcall': <module 'backcall.backcall' from '/Users/junix/miniconda3/envs/py310/lib/python3.10/site-packages/backcall/backcall.py'>,\n",
       "   'backcall': <module 'backcall' from '/Users/junix/miniconda3/envs/py310/lib/python3.10/site-packages/backcall/__init__.py'>,\n",
       "   'IPython.core.events': <module 'IPython.core.events' from '/Users/junix/miniconda3/envs/py310/lib/python3.10/site-packages/IPython/core/events.py'>,\n",
       "   'IPython.core.extensions': <module 'IPython.core.extensions' from '/Users/junix/miniconda3/envs/py310/lib/python3.10/site-packages/IPython/core/extensions.py'>,\n",
       "   'decorator': <module 'decorator' from '/Users/junix/miniconda3/envs/py310/lib/python3.10/site-packages/decorator.py'>,\n",
       "   'IPython.utils.sentinel': <module 'IPython.utils.sentinel' from '/Users/junix/miniconda3/envs/py310/lib/python3.10/site-packages/IPython/utils/sentinel.py'>,\n",
       "   'IPython.core.formatters': <module 'IPython.core.formatters' from '/Users/junix/miniconda3/envs/py310/lib/python3.10/site-packages/IPython/core/formatters.py'>,\n",
       "   '_sqlite3': <module '_sqlite3' from '/Users/junix/miniconda3/envs/py310/lib/python3.10/lib-dynload/_sqlite3.cpython-310-darwin.so'>,\n",
       "   'sqlite3.dbapi2': <module 'sqlite3.dbapi2' from '/Users/junix/miniconda3/envs/py310/lib/python3.10/sqlite3/dbapi2.py'>,\n",
       "   'sqlite3': <module 'sqlite3' from '/Users/junix/miniconda3/envs/py310/lib/python3.10/sqlite3/__init__.py'>,\n",
       "   'IPython.core.history': <module 'IPython.core.history' from '/Users/junix/miniconda3/envs/py310/lib/python3.10/site-packages/IPython/core/history.py'>,\n",
       "   'IPython.core.logger': <module 'IPython.core.logger' from '/Users/junix/miniconda3/envs/py310/lib/python3.10/site-packages/IPython/core/logger.py'>,\n",
       "   'IPython.core.payload': <module 'IPython.core.payload' from '/Users/junix/miniconda3/envs/py310/lib/python3.10/site-packages/IPython/core/payload.py'>,\n",
       "   'IPython.core.usage': <module 'IPython.core.usage' from '/Users/junix/miniconda3/envs/py310/lib/python3.10/site-packages/IPython/core/usage.py'>,\n",
       "   'IPython.utils.capture': <module 'IPython.utils.capture' from '/Users/junix/miniconda3/envs/py310/lib/python3.10/site-packages/IPython/utils/capture.py'>,\n",
       "   'IPython.utils.io': <module 'IPython.utils.io' from '/Users/junix/miniconda3/envs/py310/lib/python3.10/site-packages/IPython/utils/io.py'>,\n",
       "   'IPython.utils.strdispatch': <module 'IPython.utils.strdispatch' from '/Users/junix/miniconda3/envs/py310/lib/python3.10/site-packages/IPython/utils/strdispatch.py'>,\n",
       "   'IPython.utils.syspathcontext': <module 'IPython.utils.syspathcontext' from '/Users/junix/miniconda3/envs/py310/lib/python3.10/site-packages/IPython/utils/syspathcontext.py'>,\n",
       "   'IPython.core.async_helpers': <module 'IPython.core.async_helpers' from '/Users/junix/miniconda3/envs/py310/lib/python3.10/site-packages/IPython/core/async_helpers.py'>,\n",
       "   'IPython.core.interactiveshell': <module 'IPython.core.interactiveshell' from '/Users/junix/miniconda3/envs/py310/lib/python3.10/site-packages/IPython/core/interactiveshell.py'>,\n",
       "   'prompt_toolkit.application.current': <module 'prompt_toolkit.application.current' from '/Users/junix/miniconda3/envs/py310/lib/python3.10/site-packages/prompt_toolkit/application/current.py'>,\n",
       "   'prompt_toolkit.eventloop.async_context_manager': <module 'prompt_toolkit.eventloop.async_context_manager' from '/Users/junix/miniconda3/envs/py310/lib/python3.10/site-packages/prompt_toolkit/eventloop/async_context_manager.py'>,\n",
       "   'prompt_toolkit.eventloop.utils': <module 'prompt_toolkit.eventloop.utils' from '/Users/junix/miniconda3/envs/py310/lib/python3.10/site-packages/prompt_toolkit/eventloop/utils.py'>,\n",
       "   'prompt_toolkit.eventloop.async_generator': <module 'prompt_toolkit.eventloop.async_generator' from '/Users/junix/miniconda3/envs/py310/lib/python3.10/site-packages/prompt_toolkit/eventloop/async_generator.py'>,\n",
       "   'prompt_toolkit.eventloop.inputhook': <module 'prompt_toolkit.eventloop.inputhook' from '/Users/junix/miniconda3/envs/py310/lib/python3.10/site-packages/prompt_toolkit/eventloop/inputhook.py'>,\n",
       "   'prompt_toolkit.eventloop': <module 'prompt_toolkit.eventloop' from '/Users/junix/miniconda3/envs/py310/lib/python3.10/site-packages/prompt_toolkit/eventloop/__init__.py'>,\n",
       "   'prompt_toolkit.application.run_in_terminal': <module 'prompt_toolkit.application.run_in_terminal' from '/Users/junix/miniconda3/envs/py310/lib/python3.10/site-packages/prompt_toolkit/application/run_in_terminal.py'>,\n",
       "   'prompt_toolkit.selection': <module 'prompt_toolkit.selection' from '/Users/junix/miniconda3/envs/py310/lib/python3.10/site-packages/prompt_toolkit/selection.py'>,\n",
       "   'prompt_toolkit.clipboard.base': <module 'prompt_toolkit.clipboard.base' from '/Users/junix/miniconda3/envs/py310/lib/python3.10/site-packages/prompt_toolkit/clipboard/base.py'>,\n",
       "   'prompt_toolkit.clipboard.in_memory': <module 'prompt_toolkit.clipboard.in_memory' from '/Users/junix/miniconda3/envs/py310/lib/python3.10/site-packages/prompt_toolkit/clipboard/in_memory.py'>,\n",
       "   'prompt_toolkit.clipboard': <module 'prompt_toolkit.clipboard' from '/Users/junix/miniconda3/envs/py310/lib/python3.10/site-packages/prompt_toolkit/clipboard/__init__.py'>,\n",
       "   'prompt_toolkit.cache': <module 'prompt_toolkit.cache' from '/Users/junix/miniconda3/envs/py310/lib/python3.10/site-packages/prompt_toolkit/cache.py'>,\n",
       "   'prompt_toolkit.enums': <module 'prompt_toolkit.enums' from '/Users/junix/miniconda3/envs/py310/lib/python3.10/site-packages/prompt_toolkit/enums.py'>,\n",
       "   'prompt_toolkit.filters.base': <module 'prompt_toolkit.filters.base' from '/Users/junix/miniconda3/envs/py310/lib/python3.10/site-packages/prompt_toolkit/filters/base.py'>,\n",
       "   'prompt_toolkit.filters.app': <module 'prompt_toolkit.filters.app' from '/Users/junix/miniconda3/envs/py310/lib/python3.10/site-packages/prompt_toolkit/filters/app.py'>,\n",
       "   'prompt_toolkit.filters.cli': <module 'prompt_toolkit.filters.cli' from '/Users/junix/miniconda3/envs/py310/lib/python3.10/site-packages/prompt_toolkit/filters/cli.py'>,\n",
       "   'prompt_toolkit.filters.utils': <module 'prompt_toolkit.filters.utils' from '/Users/junix/miniconda3/envs/py310/lib/python3.10/site-packages/prompt_toolkit/filters/utils.py'>,\n",
       "   'prompt_toolkit.filters': <module 'prompt_toolkit.filters' from '/Users/junix/miniconda3/envs/py310/lib/python3.10/site-packages/prompt_toolkit/filters/__init__.py'>,\n",
       "   'prompt_toolkit.document': <module 'prompt_toolkit.document' from '/Users/junix/miniconda3/envs/py310/lib/python3.10/site-packages/prompt_toolkit/document.py'>,\n",
       "   'prompt_toolkit.auto_suggest': <module 'prompt_toolkit.auto_suggest' from '/Users/junix/miniconda3/envs/py310/lib/python3.10/site-packages/prompt_toolkit/auto_suggest.py'>,\n",
       "   'prompt_toolkit.keys': <module 'prompt_toolkit.keys' from '/Users/junix/miniconda3/envs/py310/lib/python3.10/site-packages/prompt_toolkit/keys.py'>,\n",
       "   'prompt_toolkit.key_binding.key_bindings': <module 'prompt_toolkit.key_binding.key_bindings' from '/Users/junix/miniconda3/envs/py310/lib/python3.10/site-packages/prompt_toolkit/key_binding/key_bindings.py'>,\n",
       "   'wcwidth.table_wide': <module 'wcwidth.table_wide' from '/Users/junix/miniconda3/envs/py310/lib/python3.10/site-packages/wcwidth/table_wide.py'>,\n",
       "   'wcwidth.table_zero': <module 'wcwidth.table_zero' from '/Users/junix/miniconda3/envs/py310/lib/python3.10/site-packages/wcwidth/table_zero.py'>,\n",
       "   'wcwidth.unicode_versions': <module 'wcwidth.unicode_versions' from '/Users/junix/miniconda3/envs/py310/lib/python3.10/site-packages/wcwidth/unicode_versions.py'>,\n",
       "   'wcwidth.wcwidth': <module 'wcwidth.wcwidth' from '/Users/junix/miniconda3/envs/py310/lib/python3.10/site-packages/wcwidth/wcwidth.py'>,\n",
       "   'wcwidth': <module 'wcwidth' from '/Users/junix/miniconda3/envs/py310/lib/python3.10/site-packages/wcwidth/__init__.py'>,\n",
       "   'prompt_toolkit.utils': <module 'prompt_toolkit.utils' from '/Users/junix/miniconda3/envs/py310/lib/python3.10/site-packages/prompt_toolkit/utils.py'>,\n",
       "   'prompt_toolkit.key_binding.key_processor': <module 'prompt_toolkit.key_binding.key_processor' from '/Users/junix/miniconda3/envs/py310/lib/python3.10/site-packages/prompt_toolkit/key_binding/key_processor.py'>,\n",
       "   'prompt_toolkit.key_binding': <module 'prompt_toolkit.key_binding' from '/Users/junix/miniconda3/envs/py310/lib/python3.10/site-packages/prompt_toolkit/key_binding/__init__.py'>,\n",
       "   'prompt_toolkit.key_binding.vi_state': <module 'prompt_toolkit.key_binding.vi_state' from '/Users/junix/miniconda3/envs/py310/lib/python3.10/site-packages/prompt_toolkit/key_binding/vi_state.py'>,\n",
       "   'prompt_toolkit.cursor_shapes': <module 'prompt_toolkit.cursor_shapes' from '/Users/junix/miniconda3/envs/py310/lib/python3.10/site-packages/prompt_toolkit/cursor_shapes.py'>,\n",
       "   'prompt_toolkit.data_structures': <module 'prompt_toolkit.data_structures' from '/Users/junix/miniconda3/envs/py310/lib/python3.10/site-packages/prompt_toolkit/data_structures.py'>,\n",
       "   'prompt_toolkit.styles.base': <module 'prompt_toolkit.styles.base' from '/Users/junix/miniconda3/envs/py310/lib/python3.10/site-packages/prompt_toolkit/styles/base.py'>,\n",
       "   'prompt_toolkit.styles.named_colors': <module 'prompt_toolkit.styles.named_colors' from '/Users/junix/miniconda3/envs/py310/lib/python3.10/site-packages/prompt_toolkit/styles/named_colors.py'>,\n",
       "   'prompt_toolkit.styles.style': <module 'prompt_toolkit.styles.style' from '/Users/junix/miniconda3/envs/py310/lib/python3.10/site-packages/prompt_toolkit/styles/style.py'>,\n",
       "   'prompt_toolkit.styles.defaults': <module 'prompt_toolkit.styles.defaults' from '/Users/junix/miniconda3/envs/py310/lib/python3.10/site-packages/prompt_toolkit/styles/defaults.py'>,\n",
       "   'prompt_toolkit.styles.pygments': <module 'prompt_toolkit.styles.pygments' from '/Users/junix/miniconda3/envs/py310/lib/python3.10/site-packages/prompt_toolkit/styles/pygments.py'>,\n",
       "   'colorsys': <module 'colorsys' from '/Users/junix/miniconda3/envs/py310/lib/python3.10/colorsys.py'>,\n",
       "   'prompt_toolkit.styles.style_transformation': <module 'prompt_toolkit.styles.style_transformation' from '/Users/junix/miniconda3/envs/py310/lib/python3.10/site-packages/prompt_toolkit/styles/style_transformation.py'>,\n",
       "   'prompt_toolkit.styles': <module 'prompt_toolkit.styles' from '/Users/junix/miniconda3/envs/py310/lib/python3.10/site-packages/prompt_toolkit/styles/__init__.py'>,\n",
       "   'prompt_toolkit.output.color_depth': <module 'prompt_toolkit.output.color_depth' from '/Users/junix/miniconda3/envs/py310/lib/python3.10/site-packages/prompt_toolkit/output/color_depth.py'>,\n",
       "   'prompt_toolkit.output.base': <module 'prompt_toolkit.output.base' from '/Users/junix/miniconda3/envs/py310/lib/python3.10/site-packages/prompt_toolkit/output/base.py'>,\n",
       "   'prompt_toolkit.output.flush_stdout': <module 'prompt_toolkit.output.flush_stdout' from '/Users/junix/miniconda3/envs/py310/lib/python3.10/site-packages/prompt_toolkit/output/flush_stdout.py'>,\n",
       "   'prompt_toolkit.output.plain_text': <module 'prompt_toolkit.output.plain_text' from '/Users/junix/miniconda3/envs/py310/lib/python3.10/site-packages/prompt_toolkit/output/plain_text.py'>,\n",
       "   'prompt_toolkit.output.defaults': <module 'prompt_toolkit.output.defaults' from '/Users/junix/miniconda3/envs/py310/lib/python3.10/site-packages/prompt_toolkit/output/defaults.py'>,\n",
       "   'prompt_toolkit.output': <module 'prompt_toolkit.output' from '/Users/junix/miniconda3/envs/py310/lib/python3.10/site-packages/prompt_toolkit/output/__init__.py'>,\n",
       "   'prompt_toolkit.output.vt100': <module 'prompt_toolkit.output.vt100' from '/Users/junix/miniconda3/envs/py310/lib/python3.10/site-packages/prompt_toolkit/output/vt100.py'>,\n",
       "   'prompt_toolkit.mouse_events': <module 'prompt_toolkit.mouse_events' from '/Users/junix/miniconda3/envs/py310/lib/python3.10/site-packages/prompt_toolkit/mouse_events.py'>,\n",
       "   'prompt_toolkit.formatted_text.base': <module 'prompt_toolkit.formatted_text.base' from '/Users/junix/miniconda3/envs/py310/lib/python3.10/site-packages/prompt_toolkit/formatted_text/base.py'>,\n",
       "   'prompt_toolkit.formatted_text.ansi': <module 'prompt_toolkit.formatted_text.ansi' from '/Users/junix/miniconda3/envs/py310/lib/python3.10/site-packages/prompt_toolkit/formatted_text/ansi.py'>,\n",
       "   'xml': <module 'xml' from '/Users/junix/miniconda3/envs/py310/lib/python3.10/xml/__init__.py'>,\n",
       "   'xml.dom.domreg': <module 'xml.dom.domreg' from '/Users/junix/miniconda3/envs/py310/lib/python3.10/xml/dom/domreg.py'>,\n",
       "   'xml.dom': <module 'xml.dom' from '/Users/junix/miniconda3/envs/py310/lib/python3.10/xml/dom/__init__.py'>,\n",
       "   'xml.dom.minicompat': <module 'xml.dom.minicompat' from '/Users/junix/miniconda3/envs/py310/lib/python3.10/xml/dom/minicompat.py'>,\n",
       "   'xml.dom.NodeFilter': <module 'xml.dom.NodeFilter' from '/Users/junix/miniconda3/envs/py310/lib/python3.10/xml/dom/NodeFilter.py'>,\n",
       "   'xml.dom.xmlbuilder': <module 'xml.dom.xmlbuilder' from '/Users/junix/miniconda3/envs/py310/lib/python3.10/xml/dom/xmlbuilder.py'>,\n",
       "   'xml.dom.minidom': <module 'xml.dom.minidom' from '/Users/junix/miniconda3/envs/py310/lib/python3.10/xml/dom/minidom.py'>,\n",
       "   'prompt_toolkit.formatted_text.html': <module 'prompt_toolkit.formatted_text.html' from '/Users/junix/miniconda3/envs/py310/lib/python3.10/site-packages/prompt_toolkit/formatted_text/html.py'>,\n",
       "   'prompt_toolkit.formatted_text.pygments': <module 'prompt_toolkit.formatted_text.pygments' from '/Users/junix/miniconda3/envs/py310/lib/python3.10/site-packages/prompt_toolkit/formatted_text/pygments.py'>,\n",
       "   'prompt_toolkit.formatted_text.utils': <module 'prompt_toolkit.formatted_text.utils' from '/Users/junix/miniconda3/envs/py310/lib/python3.10/site-packages/prompt_toolkit/formatted_text/utils.py'>,\n",
       "   'prompt_toolkit.formatted_text': <module 'prompt_toolkit.formatted_text' from '/Users/junix/miniconda3/envs/py310/lib/python3.10/site-packages/prompt_toolkit/formatted_text/__init__.py'>,\n",
       "   'prompt_toolkit.completion.base': <module 'prompt_toolkit.completion.base' from '/Users/junix/miniconda3/envs/py310/lib/python3.10/site-packages/prompt_toolkit/completion/base.py'>,\n",
       "   'prompt_toolkit.completion.deduplicate': <module 'prompt_toolkit.completion.deduplicate' from '/Users/junix/miniconda3/envs/py310/lib/python3.10/site-packages/prompt_toolkit/completion/deduplicate.py'>,\n",
       "   'prompt_toolkit.completion.filesystem': <module 'prompt_toolkit.completion.filesystem' from '/Users/junix/miniconda3/envs/py310/lib/python3.10/site-packages/prompt_toolkit/completion/filesystem.py'>,\n",
       "   'prompt_toolkit.completion.word_completer': <module 'prompt_toolkit.completion.word_completer' from '/Users/junix/miniconda3/envs/py310/lib/python3.10/site-packages/prompt_toolkit/completion/word_completer.py'>,\n",
       "   'prompt_toolkit.completion.fuzzy_completer': <module 'prompt_toolkit.completion.fuzzy_completer' from '/Users/junix/miniconda3/envs/py310/lib/python3.10/site-packages/prompt_toolkit/completion/fuzzy_completer.py'>,\n",
       "   'prompt_toolkit.completion.nested': <module 'prompt_toolkit.completion.nested' from '/Users/junix/miniconda3/envs/py310/lib/python3.10/site-packages/prompt_toolkit/completion/nested.py'>,\n",
       "   'prompt_toolkit.completion': <module 'prompt_toolkit.completion' from '/Users/junix/miniconda3/envs/py310/lib/python3.10/site-packages/prompt_toolkit/completion/__init__.py'>,\n",
       "   'prompt_toolkit.history': <module 'prompt_toolkit.history' from '/Users/junix/miniconda3/envs/py310/lib/python3.10/site-packages/prompt_toolkit/history.py'>,\n",
       "   'prompt_toolkit.search': <module 'prompt_toolkit.search' from '/Users/junix/miniconda3/envs/py310/lib/python3.10/site-packages/prompt_toolkit/search.py'>,\n",
       "   'prompt_toolkit.validation': <module 'prompt_toolkit.validation' from '/Users/junix/miniconda3/envs/py310/lib/python3.10/site-packages/prompt_toolkit/validation.py'>,\n",
       "   'prompt_toolkit.buffer': <module 'prompt_toolkit.buffer' from '/Users/junix/miniconda3/envs/py310/lib/python3.10/site-packages/prompt_toolkit/buffer.py'>,\n",
       "   'prompt_toolkit.input.base': <module 'prompt_toolkit.input.base' from '/Users/junix/miniconda3/envs/py310/lib/python3.10/site-packages/prompt_toolkit/input/base.py'>,\n",
       "   'prompt_toolkit.input.defaults': <module 'prompt_toolkit.input.defaults' from '/Users/junix/miniconda3/envs/py310/lib/python3.10/site-packages/prompt_toolkit/input/defaults.py'>,\n",
       "   'prompt_toolkit.input': <module 'prompt_toolkit.input' from '/Users/junix/miniconda3/envs/py310/lib/python3.10/site-packages/prompt_toolkit/input/__init__.py'>,\n",
       "   'prompt_toolkit.input.typeahead': <module 'prompt_toolkit.input.typeahead' from '/Users/junix/miniconda3/envs/py310/lib/python3.10/site-packages/prompt_toolkit/input/typeahead.py'>,\n",
       "   'prompt_toolkit.key_binding.bindings': <module 'prompt_toolkit.key_binding.bindings' from '/Users/junix/miniconda3/envs/py310/lib/python3.10/site-packages/prompt_toolkit/key_binding/bindings/__init__.py'>,\n",
       "   'prompt_toolkit.key_binding.bindings.scroll': <module 'prompt_toolkit.key_binding.bindings.scroll' from '/Users/junix/miniconda3/envs/py310/lib/python3.10/site-packages/prompt_toolkit/key_binding/bindings/scroll.py'>,\n",
       "   'prompt_toolkit.key_binding.bindings.page_navigation': <module 'prompt_toolkit.key_binding.bindings.page_navigation' from '/Users/junix/miniconda3/envs/py310/lib/python3.10/site-packages/prompt_toolkit/key_binding/bindings/page_navigation.py'>,\n",
       "   'prompt_toolkit.lexers.base': <module 'prompt_toolkit.lexers.base' from '/Users/junix/miniconda3/envs/py310/lib/python3.10/site-packages/prompt_toolkit/lexers/base.py'>,\n",
       "   'prompt_toolkit.lexers.pygments': <module 'prompt_toolkit.lexers.pygments' from '/Users/junix/miniconda3/envs/py310/lib/python3.10/site-packages/prompt_toolkit/lexers/pygments.py'>,\n",
       "   'prompt_toolkit.lexers': <module 'prompt_toolkit.lexers' from '/Users/junix/miniconda3/envs/py310/lib/python3.10/site-packages/prompt_toolkit/lexers/__init__.py'>,\n",
       "   'prompt_toolkit.layout.utils': <module 'prompt_toolkit.layout.utils' from '/Users/junix/miniconda3/envs/py310/lib/python3.10/site-packages/prompt_toolkit/layout/utils.py'>,\n",
       "   'prompt_toolkit.layout.processors': <module 'prompt_toolkit.layout.processors' from '/Users/junix/miniconda3/envs/py310/lib/python3.10/site-packages/prompt_toolkit/layout/processors.py'>,\n",
       "   'prompt_toolkit.layout.controls': <module 'prompt_toolkit.layout.controls' from '/Users/junix/miniconda3/envs/py310/lib/python3.10/site-packages/prompt_toolkit/layout/controls.py'>,\n",
       "   'prompt_toolkit.layout.dimension': <module 'prompt_toolkit.layout.dimension' from '/Users/junix/miniconda3/envs/py310/lib/python3.10/site-packages/prompt_toolkit/layout/dimension.py'>,\n",
       "   'prompt_toolkit.layout.margins': <module 'prompt_toolkit.layout.margins' from '/Users/junix/miniconda3/envs/py310/lib/python3.10/site-packages/prompt_toolkit/layout/margins.py'>,\n",
       "   'prompt_toolkit.layout.mouse_handlers': <module 'prompt_toolkit.layout.mouse_handlers' from '/Users/junix/miniconda3/envs/py310/lib/python3.10/site-packages/prompt_toolkit/layout/mouse_handlers.py'>,\n",
       "   'prompt_toolkit.layout.screen': <module 'prompt_toolkit.layout.screen' from '/Users/junix/miniconda3/envs/py310/lib/python3.10/site-packages/prompt_toolkit/layout/screen.py'>,\n",
       "   'prompt_toolkit.layout.containers': <module 'prompt_toolkit.layout.containers' from '/Users/junix/miniconda3/envs/py310/lib/python3.10/site-packages/prompt_toolkit/layout/containers.py'>,\n",
       "   'prompt_toolkit.layout.layout': <module 'prompt_toolkit.layout.layout' from '/Users/junix/miniconda3/envs/py310/lib/python3.10/site-packages/prompt_toolkit/layout/layout.py'>,\n",
       "   'prompt_toolkit.layout.menus': <module 'prompt_toolkit.layout.menus' from '/Users/junix/miniconda3/envs/py310/lib/python3.10/site-packages/prompt_toolkit/layout/menus.py'>,\n",
       "   'prompt_toolkit.layout.scrollable_pane': <module 'prompt_toolkit.layout.scrollable_pane' from '/Users/junix/miniconda3/envs/py310/lib/python3.10/site-packages/prompt_toolkit/layout/scrollable_pane.py'>,\n",
       "   'prompt_toolkit.layout': <module 'prompt_toolkit.layout' from '/Users/junix/miniconda3/envs/py310/lib/python3.10/site-packages/prompt_toolkit/layout/__init__.py'>,\n",
       "   'prompt_toolkit.key_binding.bindings.completion': <module 'prompt_toolkit.key_binding.bindings.completion' from '/Users/junix/miniconda3/envs/py310/lib/python3.10/site-packages/prompt_toolkit/key_binding/bindings/completion.py'>,\n",
       "   'prompt_toolkit.key_binding.bindings.named_commands': <module 'prompt_toolkit.key_binding.bindings.named_commands' from '/Users/junix/miniconda3/envs/py310/lib/python3.10/site-packages/prompt_toolkit/key_binding/bindings/named_commands.py'>,\n",
       "   'prompt_toolkit.key_binding.bindings.basic': <module 'prompt_toolkit.key_binding.bindings.basic' from '/Users/junix/miniconda3/envs/py310/lib/python3.10/site-packages/prompt_toolkit/key_binding/bindings/basic.py'>,\n",
       "   'prompt_toolkit.key_binding.bindings.cpr': <module 'prompt_toolkit.key_binding.bindings.cpr' from '/Users/junix/miniconda3/envs/py310/lib/python3.10/site-packages/prompt_toolkit/key_binding/bindings/cpr.py'>,\n",
       "   'prompt_toolkit.key_binding.bindings.emacs': <module 'prompt_toolkit.key_binding.bindings.emacs' from '/Users/junix/miniconda3/envs/py310/lib/python3.10/site-packages/prompt_toolkit/key_binding/bindings/emacs.py'>,\n",
       "   'prompt_toolkit.key_binding.bindings.mouse': <module 'prompt_toolkit.key_binding.bindings.mouse' from '/Users/junix/miniconda3/envs/py310/lib/python3.10/site-packages/prompt_toolkit/key_binding/bindings/mouse.py'>,\n",
       "   'prompt_toolkit.input.ansi_escape_sequences': <module 'prompt_toolkit.input.ansi_escape_sequences' from '/Users/junix/miniconda3/envs/py310/lib/python3.10/site-packages/prompt_toolkit/input/ansi_escape_sequences.py'>,\n",
       "   'prompt_toolkit.input.vt100_parser': <module 'prompt_toolkit.input.vt100_parser' from '/Users/junix/miniconda3/envs/py310/lib/python3.10/site-packages/prompt_toolkit/input/vt100_parser.py'>,\n",
       "   'prompt_toolkit.key_binding.digraphs': <module 'prompt_toolkit.key_binding.digraphs' from '/Users/junix/miniconda3/envs/py310/lib/python3.10/site-packages/prompt_toolkit/key_binding/digraphs.py'>,\n",
       "   'prompt_toolkit.key_binding.bindings.vi': <module 'prompt_toolkit.key_binding.bindings.vi' from '/Users/junix/miniconda3/envs/py310/lib/python3.10/site-packages/prompt_toolkit/key_binding/bindings/vi.py'>,\n",
       "   'prompt_toolkit.key_binding.defaults': <module 'prompt_toolkit.key_binding.defaults' from '/Users/junix/miniconda3/envs/py310/lib/python3.10/site-packages/prompt_toolkit/key_binding/defaults.py'>,\n",
       "   'prompt_toolkit.key_binding.emacs_state': <module 'prompt_toolkit.key_binding.emacs_state' from '/Users/junix/miniconda3/envs/py310/lib/python3.10/site-packages/prompt_toolkit/key_binding/emacs_state.py'>,\n",
       "   'prompt_toolkit.layout.dummy': <module 'prompt_toolkit.layout.dummy' from '/Users/junix/miniconda3/envs/py310/lib/python3.10/site-packages/prompt_toolkit/layout/dummy.py'>,\n",
       "   'prompt_toolkit.renderer': <module 'prompt_toolkit.renderer' from '/Users/junix/miniconda3/envs/py310/lib/python3.10/site-packages/prompt_toolkit/renderer.py'>,\n",
       "   'prompt_toolkit.application.application': <module 'prompt_toolkit.application.application' from '/Users/junix/miniconda3/envs/py310/lib/python3.10/site-packages/prompt_toolkit/application/application.py'>,\n",
       "   'prompt_toolkit.application.dummy': <module 'prompt_toolkit.application.dummy' from '/Users/junix/miniconda3/envs/py310/lib/python3.10/site-packages/prompt_toolkit/application/dummy.py'>,\n",
       "   'prompt_toolkit.application': <module 'prompt_toolkit.application' from '/Users/junix/miniconda3/envs/py310/lib/python3.10/site-packages/prompt_toolkit/application/__init__.py'>,\n",
       "   'prompt_toolkit.key_binding.bindings.focus': <module 'prompt_toolkit.key_binding.bindings.focus' from '/Users/junix/miniconda3/envs/py310/lib/python3.10/site-packages/prompt_toolkit/key_binding/bindings/focus.py'>,\n",
       "   'prompt_toolkit.widgets.toolbars': <module 'prompt_toolkit.widgets.toolbars' from '/Users/junix/miniconda3/envs/py310/lib/python3.10/site-packages/prompt_toolkit/widgets/toolbars.py'>,\n",
       "   'prompt_toolkit.widgets.base': <module 'prompt_toolkit.widgets.base' from '/Users/junix/miniconda3/envs/py310/lib/python3.10/site-packages/prompt_toolkit/widgets/base.py'>,\n",
       "   'prompt_toolkit.widgets.dialogs': <module 'prompt_toolkit.widgets.dialogs' from '/Users/junix/miniconda3/envs/py310/lib/python3.10/site-packages/prompt_toolkit/widgets/dialogs.py'>,\n",
       "   'prompt_toolkit.widgets.menus': <module 'prompt_toolkit.widgets.menus' from '/Users/junix/miniconda3/envs/py310/lib/python3.10/site-packages/prompt_toolkit/widgets/menus.py'>,\n",
       "   'prompt_toolkit.widgets': <module 'prompt_toolkit.widgets' from '/Users/junix/miniconda3/envs/py310/lib/python3.10/site-packages/prompt_toolkit/widgets/__init__.py'>,\n",
       "   'prompt_toolkit.shortcuts.dialogs': <module 'prompt_toolkit.shortcuts.dialogs' from '/Users/junix/miniconda3/envs/py310/lib/python3.10/site-packages/prompt_toolkit/shortcuts/dialogs.py'>,\n",
       "   'prompt_toolkit.shortcuts.progress_bar.formatters': <module 'prompt_toolkit.shortcuts.progress_bar.formatters' from '/Users/junix/miniconda3/envs/py310/lib/python3.10/site-packages/prompt_toolkit/shortcuts/progress_bar/formatters.py'>,\n",
       "   'prompt_toolkit.shortcuts.progress_bar.base': <module 'prompt_toolkit.shortcuts.progress_bar.base' from '/Users/junix/miniconda3/envs/py310/lib/python3.10/site-packages/prompt_toolkit/shortcuts/progress_bar/base.py'>,\n",
       "   'prompt_toolkit.shortcuts.progress_bar': <module 'prompt_toolkit.shortcuts.progress_bar' from '/Users/junix/miniconda3/envs/py310/lib/python3.10/site-packages/prompt_toolkit/shortcuts/progress_bar/__init__.py'>,\n",
       "   'prompt_toolkit.key_binding.bindings.auto_suggest': <module 'prompt_toolkit.key_binding.bindings.auto_suggest' from '/Users/junix/miniconda3/envs/py310/lib/python3.10/site-packages/prompt_toolkit/key_binding/bindings/auto_suggest.py'>,\n",
       "   'prompt_toolkit.key_binding.bindings.open_in_editor': <module 'prompt_toolkit.key_binding.bindings.open_in_editor' from '/Users/junix/miniconda3/envs/py310/lib/python3.10/site-packages/prompt_toolkit/key_binding/bindings/open_in_editor.py'>,\n",
       "   'prompt_toolkit.shortcuts.prompt': <module 'prompt_toolkit.shortcuts.prompt' from '/Users/junix/miniconda3/envs/py310/lib/python3.10/site-packages/prompt_toolkit/shortcuts/prompt.py'>,\n",
       "   'prompt_toolkit.shortcuts.utils': <module 'prompt_toolkit.shortcuts.utils' from '/Users/junix/miniconda3/envs/py310/lib/python3.10/site-packages/prompt_toolkit/shortcuts/utils.py'>,\n",
       "   'prompt_toolkit.shortcuts': <module 'prompt_toolkit.shortcuts' from '/Users/junix/miniconda3/envs/py310/lib/python3.10/site-packages/prompt_toolkit/shortcuts/__init__.py'>,\n",
       "   'prompt_toolkit': <module 'prompt_toolkit' from '/Users/junix/miniconda3/envs/py310/lib/python3.10/site-packages/prompt_toolkit/__init__.py'>,\n",
       "   'prompt_toolkit.patch_stdout': <module 'prompt_toolkit.patch_stdout' from '/Users/junix/miniconda3/envs/py310/lib/python3.10/site-packages/prompt_toolkit/patch_stdout.py'>,\n",
       "   'unicodedata': <module 'unicodedata' from '/Users/junix/miniconda3/envs/py310/lib/python3.10/lib-dynload/unicodedata.cpython-310-darwin.so'>,\n",
       "   'IPython.core.latex_symbols': <module 'IPython.core.latex_symbols' from '/Users/junix/miniconda3/envs/py310/lib/python3.10/site-packages/IPython/core/latex_symbols.py'>,\n",
       "   'IPython.utils.generics': <module 'IPython.utils.generics' from '/Users/junix/miniconda3/envs/py310/lib/python3.10/site-packages/IPython/utils/generics.py'>,\n",
       "   'parso.utils': <module 'parso.utils' from '/Users/junix/miniconda3/envs/py310/lib/python3.10/site-packages/parso/utils.py'>,\n",
       "   'parso.tree': <module 'parso.tree' from '/Users/junix/miniconda3/envs/py310/lib/python3.10/site-packages/parso/tree.py'>,\n",
       "   'parso.python': <module 'parso.python' from '/Users/junix/miniconda3/envs/py310/lib/python3.10/site-packages/parso/python/__init__.py'>,\n",
       "   'parso.python.token': <module 'parso.python.token' from '/Users/junix/miniconda3/envs/py310/lib/python3.10/site-packages/parso/python/token.py'>,\n",
       "   'parso.python.tokenize': <module 'parso.python.tokenize' from '/Users/junix/miniconda3/envs/py310/lib/python3.10/site-packages/parso/python/tokenize.py'>,\n",
       "   'parso.pgen2.grammar_parser': <module 'parso.pgen2.grammar_parser' from '/Users/junix/miniconda3/envs/py310/lib/python3.10/site-packages/parso/pgen2/grammar_parser.py'>,\n",
       "   'parso.pgen2.generator': <module 'parso.pgen2.generator' from '/Users/junix/miniconda3/envs/py310/lib/python3.10/site-packages/parso/pgen2/generator.py'>,\n",
       "   'parso.pgen2': <module 'parso.pgen2' from '/Users/junix/miniconda3/envs/py310/lib/python3.10/site-packages/parso/pgen2/__init__.py'>,\n",
       "   'parso.parser': <module 'parso.parser' from '/Users/junix/miniconda3/envs/py310/lib/python3.10/site-packages/parso/parser.py'>,\n",
       "   'parso._compatibility': <module 'parso._compatibility' from '/Users/junix/miniconda3/envs/py310/lib/python3.10/site-packages/parso/_compatibility.py'>,\n",
       "   'difflib': <module 'difflib' from '/Users/junix/miniconda3/envs/py310/lib/python3.10/difflib.py'>,\n",
       "   'parso.python.prefix': <module 'parso.python.prefix' from '/Users/junix/miniconda3/envs/py310/lib/python3.10/site-packages/parso/python/prefix.py'>,\n",
       "   'parso.python.tree': <module 'parso.python.tree' from '/Users/junix/miniconda3/envs/py310/lib/python3.10/site-packages/parso/python/tree.py'>,\n",
       "   'parso.python.parser': <module 'parso.python.parser' from '/Users/junix/miniconda3/envs/py310/lib/python3.10/site-packages/parso/python/parser.py'>,\n",
       "   'parso.python.diff': <module 'parso.python.diff' from '/Users/junix/miniconda3/envs/py310/lib/python3.10/site-packages/parso/python/diff.py'>,\n",
       "   'gc': <module 'gc' (built-in)>,\n",
       "   'parso.cache': <module 'parso.cache' from '/Users/junix/miniconda3/envs/py310/lib/python3.10/site-packages/parso/cache.py'>,\n",
       "   'parso.normalizer': <module 'parso.normalizer' from '/Users/junix/miniconda3/envs/py310/lib/python3.10/site-packages/parso/normalizer.py'>,\n",
       "   'parso.python.errors': <module 'parso.python.errors' from '/Users/junix/miniconda3/envs/py310/lib/python3.10/site-packages/parso/python/errors.py'>,\n",
       "   'parso.python.pep8': <module 'parso.python.pep8' from '/Users/junix/miniconda3/envs/py310/lib/python3.10/site-packages/parso/python/pep8.py'>,\n",
       "   'parso.file_io': <module 'parso.file_io' from '/Users/junix/miniconda3/envs/py310/lib/python3.10/site-packages/parso/file_io.py'>,\n",
       "   'parso.grammar': <module 'parso.grammar' from '/Users/junix/miniconda3/envs/py310/lib/python3.10/site-packages/parso/grammar.py'>,\n",
       "   'parso': <module 'parso' from '/Users/junix/miniconda3/envs/py310/lib/python3.10/site-packages/parso/__init__.py'>,\n",
       "   'jedi.parser_utils': <module 'jedi.parser_utils' from '/Users/junix/miniconda3/envs/py310/lib/python3.10/site-packages/jedi/parser_utils.py'>,\n",
       "   'jedi.debug': <module 'jedi.debug' from '/Users/junix/miniconda3/envs/py310/lib/python3.10/site-packages/jedi/debug.py'>,\n",
       "   'jedi.settings': <module 'jedi.settings' from '/Users/junix/miniconda3/envs/py310/lib/python3.10/site-packages/jedi/settings.py'>,\n",
       "   'jedi.cache': <module 'jedi.cache' from '/Users/junix/miniconda3/envs/py310/lib/python3.10/site-packages/jedi/cache.py'>,\n",
       "   'jedi.file_io': <module 'jedi.file_io' from '/Users/junix/miniconda3/envs/py310/lib/python3.10/site-packages/jedi/file_io.py'>,\n",
       "   'jedi.inference.cache': <module 'jedi.inference.cache' from '/Users/junix/miniconda3/envs/py310/lib/python3.10/site-packages/jedi/inference/cache.py'>,\n",
       "   'jedi.inference.helpers': <module 'jedi.inference.helpers' from '/Users/junix/miniconda3/envs/py310/lib/python3.10/site-packages/jedi/inference/helpers.py'>,\n",
       "   'jedi.inference.utils': <module 'jedi.inference.utils' from '/Users/junix/miniconda3/envs/py310/lib/python3.10/site-packages/jedi/inference/utils.py'>,\n",
       "   'jedi.inference.base_value': <module 'jedi.inference.base_value' from '/Users/junix/miniconda3/envs/py310/lib/python3.10/site-packages/jedi/inference/base_value.py'>,\n",
       "   'jedi.inference.sys_path': <module 'jedi.inference.sys_path' from '/Users/junix/miniconda3/envs/py310/lib/python3.10/site-packages/jedi/inference/sys_path.py'>,\n",
       "   'jedi.inference.recursion': <module 'jedi.inference.recursion' from '/Users/junix/miniconda3/envs/py310/lib/python3.10/site-packages/jedi/inference/recursion.py'>,\n",
       "   'jedi.inference.flow_analysis': <module 'jedi.inference.flow_analysis' from '/Users/junix/miniconda3/envs/py310/lib/python3.10/site-packages/jedi/inference/flow_analysis.py'>,\n",
       "   'jedi.common': <module 'jedi.common' from '/Users/junix/miniconda3/envs/py310/lib/python3.10/site-packages/jedi/common.py'>,\n",
       "   'jedi.inference.lazy_value': <module 'jedi.inference.lazy_value' from '/Users/junix/miniconda3/envs/py310/lib/python3.10/site-packages/jedi/inference/lazy_value.py'>,\n",
       "   'jedi.inference.docstrings': <module 'jedi.inference.docstrings' from '/Users/junix/miniconda3/envs/py310/lib/python3.10/site-packages/jedi/inference/docstrings.py'>,\n",
       "   'jedi.plugins': <module 'jedi.plugins' from '/Users/junix/miniconda3/envs/py310/lib/python3.10/site-packages/jedi/plugins/__init__.py'>,\n",
       "   'jedi.inference.names': <module 'jedi.inference.names' from '/Users/junix/miniconda3/envs/py310/lib/python3.10/site-packages/jedi/inference/names.py'>,\n",
       "   'jedi.inference.filters': <module 'jedi.inference.filters' from '/Users/junix/miniconda3/envs/py310/lib/python3.10/site-packages/jedi/inference/filters.py'>,\n",
       "   'jedi.inference.compiled.getattr_static': <module 'jedi.inference.compiled.getattr_static' from '/Users/junix/miniconda3/envs/py310/lib/python3.10/site-packages/jedi/inference/compiled/getattr_static.py'>,\n",
       "   'jedi.inference.compiled.access': <module 'jedi.inference.compiled.access' from '/Users/junix/miniconda3/envs/py310/lib/python3.10/site-packages/jedi/inference/compiled/access.py'>,\n",
       "   'jedi.inference.signature': <module 'jedi.inference.signature' from '/Users/junix/miniconda3/envs/py310/lib/python3.10/site-packages/jedi/inference/signature.py'>,\n",
       "   'jedi.inference.context': <module 'jedi.inference.context' from '/Users/junix/miniconda3/envs/py310/lib/python3.10/site-packages/jedi/inference/context.py'>,\n",
       "   'jedi.inference.compiled.value': <module 'jedi.inference.compiled.value' from '/Users/junix/miniconda3/envs/py310/lib/python3.10/site-packages/jedi/inference/compiled/value.py'>,\n",
       "   'jedi.inference.compiled': <module 'jedi.inference.compiled' from '/Users/junix/miniconda3/envs/py310/lib/python3.10/site-packages/jedi/inference/compiled/__init__.py'>,\n",
       "   'jedi.inference.analysis': <module 'jedi.inference.analysis' from '/Users/junix/miniconda3/envs/py310/lib/python3.10/site-packages/jedi/inference/analysis.py'>,\n",
       "   'jedi.inference.gradual': <module 'jedi.inference.gradual' from '/Users/junix/miniconda3/envs/py310/lib/python3.10/site-packages/jedi/inference/gradual/__init__.py'>,\n",
       "   'jedi.inference.value.module': <module 'jedi.inference.value.module' from '/Users/junix/miniconda3/envs/py310/lib/python3.10/site-packages/jedi/inference/value/module.py'>,\n",
       "   'jedi.inference.value.dynamic_arrays': <module 'jedi.inference.value.dynamic_arrays' from '/Users/junix/miniconda3/envs/py310/lib/python3.10/site-packages/jedi/inference/value/dynamic_arrays.py'>,\n",
       "   'jedi.inference.value.iterable': <module 'jedi.inference.value.iterable' from '/Users/junix/miniconda3/envs/py310/lib/python3.10/site-packages/jedi/inference/value/iterable.py'>,\n",
       "   'jedi.inference.arguments': <module 'jedi.inference.arguments' from '/Users/junix/miniconda3/envs/py310/lib/python3.10/site-packages/jedi/inference/arguments.py'>,\n",
       "   'jedi.inference.parser_cache': <module 'jedi.inference.parser_cache' from '/Users/junix/miniconda3/envs/py310/lib/python3.10/site-packages/jedi/inference/parser_cache.py'>,\n",
       "   'jedi.inference.gradual.generics': <module 'jedi.inference.gradual.generics' from '/Users/junix/miniconda3/envs/py310/lib/python3.10/site-packages/jedi/inference/gradual/generics.py'>,\n",
       "   'jedi.inference.value.function': <module 'jedi.inference.value.function' from '/Users/junix/miniconda3/envs/py310/lib/python3.10/site-packages/jedi/inference/value/function.py'>,\n",
       "   'jedi.inference.value.klass': <module 'jedi.inference.value.klass' from '/Users/junix/miniconda3/envs/py310/lib/python3.10/site-packages/jedi/inference/value/klass.py'>,\n",
       "   'jedi.inference.value.instance': <module 'jedi.inference.value.instance' from '/Users/junix/miniconda3/envs/py310/lib/python3.10/site-packages/jedi/inference/value/instance.py'>,\n",
       "   'jedi.inference.value': <module 'jedi.inference.value' from '/Users/junix/miniconda3/envs/py310/lib/python3.10/site-packages/jedi/inference/value/__init__.py'>,\n",
       "   'jedi.inference.gradual.base': <module 'jedi.inference.gradual.base' from '/Users/junix/miniconda3/envs/py310/lib/python3.10/site-packages/jedi/inference/gradual/base.py'>,\n",
       "   'jedi.inference.gradual.type_var': <module 'jedi.inference.gradual.type_var' from '/Users/junix/miniconda3/envs/py310/lib/python3.10/site-packages/jedi/inference/gradual/type_var.py'>,\n",
       "   'jedi.inference.gradual.typing': <module 'jedi.inference.gradual.typing' from '/Users/junix/miniconda3/envs/py310/lib/python3.10/site-packages/jedi/inference/gradual/typing.py'>,\n",
       "   'jedi.inference.gradual.stub_value': <module 'jedi.inference.gradual.stub_value' from '/Users/junix/miniconda3/envs/py310/lib/python3.10/site-packages/jedi/inference/gradual/stub_value.py'>,\n",
       "   'jedi.inference.gradual.typeshed': <module 'jedi.inference.gradual.typeshed' from '/Users/junix/miniconda3/envs/py310/lib/python3.10/site-packages/jedi/inference/gradual/typeshed.py'>,\n",
       "   'jedi._compatibility': <module 'jedi._compatibility' from '/Users/junix/miniconda3/envs/py310/lib/python3.10/site-packages/jedi/_compatibility.py'>,\n",
       "   'jedi.inference.compiled.subprocess.functions': <module 'jedi.inference.compiled.subprocess.functions' from '/Users/junix/miniconda3/envs/py310/lib/python3.10/site-packages/jedi/inference/compiled/subprocess/functions.py'>,\n",
       "   'jedi.api.exceptions': <module 'jedi.api.exceptions' from '/Users/junix/miniconda3/envs/py310/lib/python3.10/site-packages/jedi/api/exceptions.py'>,\n",
       "   'jedi.inference.compiled.subprocess': <module 'jedi.inference.compiled.subprocess' from '/Users/junix/miniconda3/envs/py310/lib/python3.10/site-packages/jedi/inference/compiled/subprocess/__init__.py'>,\n",
       "   'jedi.inference.imports': <module 'jedi.inference.imports' from '/Users/junix/miniconda3/envs/py310/lib/python3.10/site-packages/jedi/inference/imports.py'>,\n",
       "   'jedi.inference.param': <module 'jedi.inference.param' from '/Users/junix/miniconda3/envs/py310/lib/python3.10/site-packages/jedi/inference/param.py'>,\n",
       "   'jedi.inference.gradual.annotation': <module 'jedi.inference.gradual.annotation' from '/Users/junix/miniconda3/envs/py310/lib/python3.10/site-packages/jedi/inference/gradual/annotation.py'>,\n",
       "   'jedi.inference.value.decorator': <module 'jedi.inference.value.decorator' from '/Users/junix/miniconda3/envs/py310/lib/python3.10/site-packages/jedi/inference/value/decorator.py'>,\n",
       "   'jedi.inference.syntax_tree': <module 'jedi.inference.syntax_tree' from '/Users/junix/miniconda3/envs/py310/lib/python3.10/site-packages/jedi/inference/syntax_tree.py'>,\n",
       "   'jedi.inference': <module 'jedi.inference' from '/Users/junix/miniconda3/envs/py310/lib/python3.10/site-packages/jedi/inference/__init__.py'>,\n",
       "   'jedi.inference.gradual.conversion': <module 'jedi.inference.gradual.conversion' from '/Users/junix/miniconda3/envs/py310/lib/python3.10/site-packages/jedi/inference/gradual/conversion.py'>,\n",
       "   'jedi.inference.compiled.mixed': <module 'jedi.inference.compiled.mixed' from '/Users/junix/miniconda3/envs/py310/lib/python3.10/site-packages/jedi/inference/compiled/mixed.py'>,\n",
       "   'pydoc_data': <module 'pydoc_data' from '/Users/junix/miniconda3/envs/py310/lib/python3.10/pydoc_data/__init__.py'>,\n",
       "   'pydoc_data.topics': <module 'pydoc_data.topics' from '/Users/junix/miniconda3/envs/py310/lib/python3.10/pydoc_data/topics.py'>,\n",
       "   'jedi.api.keywords': <module 'jedi.api.keywords' from '/Users/junix/miniconda3/envs/py310/lib/python3.10/site-packages/jedi/api/keywords.py'>,\n",
       "   'jedi.api.completion_cache': <module 'jedi.api.completion_cache' from '/Users/junix/miniconda3/envs/py310/lib/python3.10/site-packages/jedi/api/completion_cache.py'>,\n",
       "   'jedi.api.helpers': <module 'jedi.api.helpers' from '/Users/junix/miniconda3/envs/py310/lib/python3.10/site-packages/jedi/api/helpers.py'>,\n",
       "   'jedi.api.classes': <module 'jedi.api.classes' from '/Users/junix/miniconda3/envs/py310/lib/python3.10/site-packages/jedi/api/classes.py'>,\n",
       "   'jedi.api.interpreter': <module 'jedi.api.interpreter' from '/Users/junix/miniconda3/envs/py310/lib/python3.10/site-packages/jedi/api/interpreter.py'>,\n",
       "   'jedi.api.strings': <module 'jedi.api.strings' from '/Users/junix/miniconda3/envs/py310/lib/python3.10/site-packages/jedi/api/strings.py'>,\n",
       "   'jedi.api.file_name': <module 'jedi.api.file_name' from '/Users/junix/miniconda3/envs/py310/lib/python3.10/site-packages/jedi/api/file_name.py'>,\n",
       "   'jedi.inference.docstring_utils': <module 'jedi.inference.docstring_utils' from '/Users/junix/miniconda3/envs/py310/lib/python3.10/site-packages/jedi/inference/docstring_utils.py'>,\n",
       "   'jedi.api.completion': <module 'jedi.api.completion' from '/Users/junix/miniconda3/envs/py310/lib/python3.10/site-packages/jedi/api/completion.py'>,\n",
       "   'filecmp': <module 'filecmp' from '/Users/junix/miniconda3/envs/py310/lib/python3.10/filecmp.py'>,\n",
       "   'jedi.api.environment': <module 'jedi.api.environment' from '/Users/junix/miniconda3/envs/py310/lib/python3.10/site-packages/jedi/api/environment.py'>,\n",
       "   'jedi.inference.references': <module 'jedi.inference.references' from '/Users/junix/miniconda3/envs/py310/lib/python3.10/site-packages/jedi/inference/references.py'>,\n",
       "   'jedi.api.project': <module 'jedi.api.project' from '/Users/junix/miniconda3/envs/py310/lib/python3.10/site-packages/jedi/api/project.py'>,\n",
       "   'jedi.api.errors': <module 'jedi.api.errors' from '/Users/junix/miniconda3/envs/py310/lib/python3.10/site-packages/jedi/api/errors.py'>,\n",
       "   'jedi.api.refactoring': <module 'jedi.api.refactoring' from '/Users/junix/miniconda3/envs/py310/lib/python3.10/site-packages/jedi/api/refactoring/__init__.py'>,\n",
       "   'jedi.api.refactoring.extract': <module 'jedi.api.refactoring.extract' from '/Users/junix/miniconda3/envs/py310/lib/python3.10/site-packages/jedi/api/refactoring/extract.py'>,\n",
       "   'jedi.inference.gradual.utils': <module 'jedi.inference.gradual.utils' from '/Users/junix/miniconda3/envs/py310/lib/python3.10/site-packages/jedi/inference/gradual/utils.py'>,\n",
       "   'jedi.api': <module 'jedi.api' from '/Users/junix/miniconda3/envs/py310/lib/python3.10/site-packages/jedi/api/__init__.py'>,\n",
       "   'jedi.plugins.stdlib': <module 'jedi.plugins.stdlib' from '/Users/junix/miniconda3/envs/py310/lib/python3.10/site-packages/jedi/plugins/stdlib.py'>,\n",
       "   'jedi.plugins.flask': <module 'jedi.plugins.flask' from '/Users/junix/miniconda3/envs/py310/lib/python3.10/site-packages/jedi/plugins/flask.py'>,\n",
       "   'jedi.plugins.pytest': <module 'jedi.plugins.pytest' from '/Users/junix/miniconda3/envs/py310/lib/python3.10/site-packages/jedi/plugins/pytest.py'>,\n",
       "   'jedi.plugins.django': <module 'jedi.plugins.django' from '/Users/junix/miniconda3/envs/py310/lib/python3.10/site-packages/jedi/plugins/django.py'>,\n",
       "   'jedi.plugins.registry': <module 'jedi.plugins.registry' from '/Users/junix/miniconda3/envs/py310/lib/python3.10/site-packages/jedi/plugins/registry.py'>,\n",
       "   'jedi': <module 'jedi' from '/Users/junix/miniconda3/envs/py310/lib/python3.10/site-packages/jedi/__init__.py'>,\n",
       "   'IPython.core.completer': <module 'IPython.core.completer' from '/Users/junix/miniconda3/envs/py310/lib/python3.10/site-packages/IPython/core/completer.py'>,\n",
       "   'IPython.terminal.ptutils': <module 'IPython.terminal.ptutils' from '/Users/junix/miniconda3/envs/py310/lib/python3.10/site-packages/IPython/terminal/ptutils.py'>,\n",
       "   'IPython.terminal.shortcuts': <module 'IPython.terminal.shortcuts' from '/Users/junix/miniconda3/envs/py310/lib/python3.10/site-packages/IPython/terminal/shortcuts.py'>,\n",
       "   'concurrent.futures.thread': <module 'concurrent.futures.thread' from '/Users/junix/miniconda3/envs/py310/lib/python3.10/concurrent/futures/thread.py'>,\n",
       "   'IPython.terminal.debugger': <module 'IPython.terminal.debugger' from '/Users/junix/miniconda3/envs/py310/lib/python3.10/site-packages/IPython/terminal/debugger.py'>,\n",
       "   'IPython.lib.clipboard': <module 'IPython.lib.clipboard' from '/Users/junix/miniconda3/envs/py310/lib/python3.10/site-packages/IPython/lib/clipboard.py'>,\n",
       "   'IPython.terminal.magics': <module 'IPython.terminal.magics' from '/Users/junix/miniconda3/envs/py310/lib/python3.10/site-packages/IPython/terminal/magics.py'>,\n",
       "   'IPython.terminal.pt_inputhooks': <module 'IPython.terminal.pt_inputhooks' from '/Users/junix/miniconda3/envs/py310/lib/python3.10/site-packages/IPython/terminal/pt_inputhooks/__init__.py'>,\n",
       "   'IPython.terminal.prompts': <module 'IPython.terminal.prompts' from '/Users/junix/miniconda3/envs/py310/lib/python3.10/site-packages/IPython/terminal/prompts.py'>,\n",
       "   'IPython.terminal.interactiveshell': <module 'IPython.terminal.interactiveshell' from '/Users/junix/miniconda3/envs/py310/lib/python3.10/site-packages/IPython/terminal/interactiveshell.py'>,\n",
       "   'IPython.core.magics.auto': <module 'IPython.core.magics.auto' from '/Users/junix/miniconda3/envs/py310/lib/python3.10/site-packages/IPython/core/magics/auto.py'>,\n",
       "   'IPython.core.magics.basic': <module 'IPython.core.magics.basic' from '/Users/junix/miniconda3/envs/py310/lib/python3.10/site-packages/IPython/core/magics/basic.py'>,\n",
       "   'email': <module 'email' from '/Users/junix/miniconda3/envs/py310/lib/python3.10/email/__init__.py'>,\n",
       "   'http': <module 'http' from '/Users/junix/miniconda3/envs/py310/lib/python3.10/http/__init__.py'>,\n",
       "   'email.errors': <module 'email.errors' from '/Users/junix/miniconda3/envs/py310/lib/python3.10/email/errors.py'>,\n",
       "   'email.quoprimime': <module 'email.quoprimime' from '/Users/junix/miniconda3/envs/py310/lib/python3.10/email/quoprimime.py'>,\n",
       "   'email.base64mime': <module 'email.base64mime' from '/Users/junix/miniconda3/envs/py310/lib/python3.10/email/base64mime.py'>,\n",
       "   'quopri': <module 'quopri' from '/Users/junix/miniconda3/envs/py310/lib/python3.10/quopri.py'>,\n",
       "   'email.encoders': <module 'email.encoders' from '/Users/junix/miniconda3/envs/py310/lib/python3.10/email/encoders.py'>,\n",
       "   'email.charset': <module 'email.charset' from '/Users/junix/miniconda3/envs/py310/lib/python3.10/email/charset.py'>,\n",
       "   'email.header': <module 'email.header' from '/Users/junix/miniconda3/envs/py310/lib/python3.10/email/header.py'>,\n",
       "   'email._parseaddr': <module 'email._parseaddr' from '/Users/junix/miniconda3/envs/py310/lib/python3.10/email/_parseaddr.py'>,\n",
       "   'email.utils': <module 'email.utils' from '/Users/junix/miniconda3/envs/py310/lib/python3.10/email/utils.py'>,\n",
       "   'email._policybase': <module 'email._policybase' from '/Users/junix/miniconda3/envs/py310/lib/python3.10/email/_policybase.py'>,\n",
       "   'email.feedparser': <module 'email.feedparser' from '/Users/junix/miniconda3/envs/py310/lib/python3.10/email/feedparser.py'>,\n",
       "   'email.parser': <module 'email.parser' from '/Users/junix/miniconda3/envs/py310/lib/python3.10/email/parser.py'>,\n",
       "   'uu': <module 'uu' from '/Users/junix/miniconda3/envs/py310/lib/python3.10/uu.py'>,\n",
       "   'email._encoded_words': <module 'email._encoded_words' from '/Users/junix/miniconda3/envs/py310/lib/python3.10/email/_encoded_words.py'>,\n",
       "   'email.iterators': <module 'email.iterators' from '/Users/junix/miniconda3/envs/py310/lib/python3.10/email/iterators.py'>,\n",
       "   'email.message': <module 'email.message' from '/Users/junix/miniconda3/envs/py310/lib/python3.10/email/message.py'>,\n",
       "   'http.client': <module 'http.client' from '/Users/junix/miniconda3/envs/py310/lib/python3.10/http/client.py'>,\n",
       "   'urllib.response': <module 'urllib.response' from '/Users/junix/miniconda3/envs/py310/lib/python3.10/urllib/response.py'>,\n",
       "   'urllib.error': <module 'urllib.error' from '/Users/junix/miniconda3/envs/py310/lib/python3.10/urllib/error.py'>,\n",
       "   '_scproxy': <module '_scproxy' from '/Users/junix/miniconda3/envs/py310/lib/python3.10/lib-dynload/_scproxy.cpython-310-darwin.so'>,\n",
       "   'urllib.request': <module 'urllib.request' from '/Users/junix/miniconda3/envs/py310/lib/python3.10/urllib/request.py'>,\n",
       "   'IPython.utils.contexts': <module 'IPython.utils.contexts' from '/Users/junix/miniconda3/envs/py310/lib/python3.10/site-packages/IPython/utils/contexts.py'>,\n",
       "   'IPython.core.magics.code': <module 'IPython.core.magics.code' from '/Users/junix/miniconda3/envs/py310/lib/python3.10/site-packages/IPython/core/magics/code.py'>,\n",
       "   'IPython.core.magics.config': <module 'IPython.core.magics.config' from '/Users/junix/miniconda3/envs/py310/lib/python3.10/site-packages/IPython/core/magics/config.py'>,\n",
       "   'IPython.core.magics.display': <module 'IPython.core.magics.display' from '/Users/junix/miniconda3/envs/py310/lib/python3.10/site-packages/IPython/core/magics/display.py'>,\n",
       "   '_lsprof': <module '_lsprof' from '/Users/junix/miniconda3/envs/py310/lib/python3.10/lib-dynload/_lsprof.cpython-310-darwin.so'>,\n",
       "   'profile': <module 'profile' from '/Users/junix/miniconda3/envs/py310/lib/python3.10/profile.py'>,\n",
       "   'cProfile': <module 'cProfile' from '/Users/junix/miniconda3/envs/py310/lib/python3.10/cProfile.py'>,\n",
       "   'pstats': <module 'pstats' from '/Users/junix/miniconda3/envs/py310/lib/python3.10/pstats.py'>,\n",
       "   'timeit': <module 'timeit' from '/Users/junix/miniconda3/envs/py310/lib/python3.10/timeit.py'>,\n",
       "   'IPython.utils.module_paths': <module 'IPython.utils.module_paths' from '/Users/junix/miniconda3/envs/py310/lib/python3.10/site-packages/IPython/utils/module_paths.py'>,\n",
       "   'IPython.utils.timing': <module 'IPython.utils.timing' from '/Users/junix/miniconda3/envs/py310/lib/python3.10/site-packages/IPython/utils/timing.py'>,\n",
       "   'IPython.core.magics.execution': <module 'IPython.core.magics.execution' from '/Users/junix/miniconda3/envs/py310/lib/python3.10/site-packages/IPython/core/magics/execution.py'>,\n",
       "   'IPython.core.magics.extension': <module 'IPython.core.magics.extension' from '/Users/junix/miniconda3/envs/py310/lib/python3.10/site-packages/IPython/core/magics/extension.py'>,\n",
       "   'IPython.core.magics.history': <module 'IPython.core.magics.history' from '/Users/junix/miniconda3/envs/py310/lib/python3.10/site-packages/IPython/core/magics/history.py'>,\n",
       "   'IPython.core.magics.logging': <module 'IPython.core.magics.logging' from '/Users/junix/miniconda3/envs/py310/lib/python3.10/site-packages/IPython/core/magics/logging.py'>,\n",
       "   'IPython.core.magics.namespace': <module 'IPython.core.magics.namespace' from '/Users/junix/miniconda3/envs/py310/lib/python3.10/site-packages/IPython/core/magics/namespace.py'>,\n",
       "   'IPython.core.magics.osm': <module 'IPython.core.magics.osm' from '/Users/junix/miniconda3/envs/py310/lib/python3.10/site-packages/IPython/core/magics/osm.py'>,\n",
       "   'IPython.core.magics.packaging': <module 'IPython.core.magics.packaging' from '/Users/junix/miniconda3/envs/py310/lib/python3.10/site-packages/IPython/core/magics/packaging.py'>,\n",
       "   'IPython.core.pylabtools': <module 'IPython.core.pylabtools' from '/Users/junix/miniconda3/envs/py310/lib/python3.10/site-packages/IPython/core/pylabtools.py'>,\n",
       "   'IPython.core.magics.pylab': <module 'IPython.core.magics.pylab' from '/Users/junix/miniconda3/envs/py310/lib/python3.10/site-packages/IPython/core/magics/pylab.py'>,\n",
       "   'IPython.core.magics.script': <module 'IPython.core.magics.script' from '/Users/junix/miniconda3/envs/py310/lib/python3.10/site-packages/IPython/core/magics/script.py'>,\n",
       "   'IPython.core.magics': <module 'IPython.core.magics' from '/Users/junix/miniconda3/envs/py310/lib/python3.10/site-packages/IPython/core/magics/__init__.py'>,\n",
       "   'IPython.core.shellapp': <module 'IPython.core.shellapp' from '/Users/junix/miniconda3/envs/py310/lib/python3.10/site-packages/IPython/core/shellapp.py'>,\n",
       "   'IPython.extensions': <module 'IPython.extensions' from '/Users/junix/miniconda3/envs/py310/lib/python3.10/site-packages/IPython/extensions/__init__.py'>,\n",
       "   'IPython.extensions.storemagic': <module 'IPython.extensions.storemagic' from '/Users/junix/miniconda3/envs/py310/lib/python3.10/site-packages/IPython/extensions/storemagic.py'>,\n",
       "   'IPython.terminal.ipapp': <module 'IPython.terminal.ipapp' from '/Users/junix/miniconda3/envs/py310/lib/python3.10/site-packages/IPython/terminal/ipapp.py'>,\n",
       "   'IPython.terminal.embed': <module 'IPython.terminal.embed' from '/Users/junix/miniconda3/envs/py310/lib/python3.10/site-packages/IPython/terminal/embed.py'>,\n",
       "   'IPython.utils.frame': <module 'IPython.utils.frame' from '/Users/junix/miniconda3/envs/py310/lib/python3.10/site-packages/IPython/utils/frame.py'>,\n",
       "   'IPython': <module 'IPython' from '/Users/junix/miniconda3/envs/py310/lib/python3.10/site-packages/IPython/__init__.py'>,\n",
       "   'ipykernel.control': <module 'ipykernel.control' from '/Users/junix/miniconda3/envs/py310/lib/python3.10/site-packages/ipykernel/control.py'>,\n",
       "   'ipykernel.heartbeat': <module 'ipykernel.heartbeat' from '/Users/junix/miniconda3/envs/py310/lib/python3.10/site-packages/ipykernel/heartbeat.py'>,\n",
       "   'ipykernel.iostream': <module 'ipykernel.iostream' from '/Users/junix/miniconda3/envs/py310/lib/python3.10/site-packages/ipykernel/iostream.py'>,\n",
       "   'IPython.utils.tokenutil': <module 'IPython.utils.tokenutil' from '/Users/junix/miniconda3/envs/py310/lib/python3.10/site-packages/IPython/utils/tokenutil.py'>,\n",
       "   'ipykernel.jsonutil': <module 'ipykernel.jsonutil' from '/Users/junix/miniconda3/envs/py310/lib/python3.10/site-packages/ipykernel/jsonutil.py'>,\n",
       "   'pwd': <module 'pwd' (built-in)>,\n",
       "   'psutil._common': <module 'psutil._common' from '/Users/junix/miniconda3/envs/py310/lib/python3.10/site-packages/psutil/_common.py'>,\n",
       "   'psutil._compat': <module 'psutil._compat' from '/Users/junix/miniconda3/envs/py310/lib/python3.10/site-packages/psutil/_compat.py'>,\n",
       "   'psutil._psposix': <module 'psutil._psposix' from '/Users/junix/miniconda3/envs/py310/lib/python3.10/site-packages/psutil/_psposix.py'>,\n",
       "   'psutil._psutil_osx': <module 'psutil._psutil_osx' from '/Users/junix/miniconda3/envs/py310/lib/python3.10/site-packages/psutil/_psutil_osx.cpython-310-darwin.so'>,\n",
       "   'psutil._psutil_posix': <module 'psutil._psutil_posix' from '/Users/junix/miniconda3/envs/py310/lib/python3.10/site-packages/psutil/_psutil_posix.cpython-310-darwin.so'>,\n",
       "   'psutil._psosx': <module 'psutil._psosx' from '/Users/junix/miniconda3/envs/py310/lib/python3.10/site-packages/psutil/_psosx.py'>,\n",
       "   'psutil': <module 'psutil' from '/Users/junix/miniconda3/envs/py310/lib/python3.10/site-packages/psutil/__init__.py'>,\n",
       "   'tornado.locks': <module 'tornado.locks' from '/Users/junix/miniconda3/envs/py310/lib/python3.10/site-packages/tornado/locks.py'>,\n",
       "   'tornado.queues': <module 'tornado.queues' from '/Users/junix/miniconda3/envs/py310/lib/python3.10/site-packages/tornado/queues.py'>,\n",
       "   'ipykernel.kernelbase': <module 'ipykernel.kernelbase' from '/Users/junix/miniconda3/envs/py310/lib/python3.10/site-packages/ipykernel/kernelbase.py'>,\n",
       "   'ipykernel.comm.comm': <module 'ipykernel.comm.comm' from '/Users/junix/miniconda3/envs/py310/lib/python3.10/site-packages/ipykernel/comm/comm.py'>,\n",
       "   'ipykernel.comm.manager': <module 'ipykernel.comm.manager' from '/Users/junix/miniconda3/envs/py310/lib/python3.10/site-packages/ipykernel/comm/manager.py'>,\n",
       "   'ipykernel.comm': <module 'ipykernel.comm' from '/Users/junix/miniconda3/envs/py310/lib/python3.10/site-packages/ipykernel/comm/__init__.py'>,\n",
       "   'ipykernel.compiler': <module 'ipykernel.compiler' from '/Users/junix/miniconda3/envs/py310/lib/python3.10/site-packages/ipykernel/compiler.py'>,\n",
       "   'debugpy._version': <module 'debugpy._version' from '/Users/junix/miniconda3/envs/py310/lib/python3.10/site-packages/debugpy/_version.py'>,\n",
       "   'debugpy.common': <module 'debugpy.common' from '/Users/junix/miniconda3/envs/py310/lib/python3.10/site-packages/debugpy/common/__init__.py'>,\n",
       "   'debugpy.common.json': <module 'debugpy.common.json' from '/Users/junix/miniconda3/envs/py310/lib/python3.10/site-packages/debugpy/common/json.py'>,\n",
       "   'debugpy.common.fmt': <module 'debugpy.common.fmt' from '/Users/junix/miniconda3/envs/py310/lib/python3.10/site-packages/debugpy/common/fmt.py'>,\n",
       "   'debugpy.common.compat': <module 'debugpy.common.compat' from '/Users/junix/miniconda3/envs/py310/lib/python3.10/site-packages/debugpy/common/compat.py'>,\n",
       "   'debugpy': <module 'debugpy' from '/Users/junix/miniconda3/envs/py310/lib/python3.10/site-packages/debugpy/__init__.py'>,\n",
       "   'debugpy._vendored._util': <module 'debugpy._vendored._util' from '/Users/junix/miniconda3/envs/py310/lib/python3.10/site-packages/debugpy/_vendored/_util.py'>,\n",
       "   'debugpy._vendored': <module 'debugpy._vendored' from '/Users/junix/miniconda3/envs/py310/lib/python3.10/site-packages/debugpy/_vendored/__init__.py'>,\n",
       "   '_pydevd_bundle': <module '_pydevd_bundle' from '/Users/junix/miniconda3/envs/py310/lib/python3.10/site-packages/debugpy/_vendored/pydevd/_pydevd_bundle/__init__.py'>,\n",
       "   'encodings.ascii': <module 'encodings.ascii' from '/Users/junix/miniconda3/envs/py310/lib/python3.10/encodings/ascii.py'>,\n",
       "   'encodings.latin_1': <module 'encodings.latin_1' from '/Users/junix/miniconda3/envs/py310/lib/python3.10/encodings/latin_1.py'>,\n",
       "   'stringprep': <module 'stringprep' from '/Users/junix/miniconda3/envs/py310/lib/python3.10/stringprep.py'>,\n",
       "   'encodings.idna': <module 'encodings.idna' from '/Users/junix/miniconda3/envs/py310/lib/python3.10/encodings/idna.py'>,\n",
       "   '_pydevd_bundle.pydevd_vm_type': <module '_pydevd_bundle.pydevd_vm_type' from '/Users/junix/miniconda3/envs/py310/lib/python3.10/site-packages/debugpy/_vendored/pydevd/_pydevd_bundle/pydevd_vm_type.py'>,\n",
       "   '_pydev_imps': <module '_pydev_imps' from '/Users/junix/miniconda3/envs/py310/lib/python3.10/site-packages/debugpy/_vendored/pydevd/_pydev_imps/__init__.py'>,\n",
       "   'xmlrpc': <module 'xmlrpc' from '/Users/junix/miniconda3/envs/py310/lib/python3.10/xmlrpc/__init__.py'>,\n",
       "   'xml.parsers': <module 'xml.parsers' from '/Users/junix/miniconda3/envs/py310/lib/python3.10/xml/parsers/__init__.py'>,\n",
       "   'pyexpat.errors': <module 'pyexpat.errors'>,\n",
       "   'pyexpat.model': <module 'pyexpat.model'>,\n",
       "   'pyexpat': <module 'pyexpat' from '/Users/junix/miniconda3/envs/py310/lib/python3.10/lib-dynload/pyexpat.cpython-310-darwin.so'>,\n",
       "   'xml.parsers.expat.model': <module 'pyexpat.model'>,\n",
       "   'xml.parsers.expat.errors': <module 'pyexpat.errors'>,\n",
       "   'xml.parsers.expat': <module 'xml.parsers.expat' from '/Users/junix/miniconda3/envs/py310/lib/python3.10/xml/parsers/expat.py'>,\n",
       "   'gzip': <module 'gzip' from '/Users/junix/miniconda3/envs/py310/lib/python3.10/gzip.py'>,\n",
       "   'xmlrpc.client': <module 'xmlrpc.client' from '/Users/junix/miniconda3/envs/py310/lib/python3.10/xmlrpc/client.py'>,\n",
       "   'http.server': <module 'http.server' from '/Users/junix/miniconda3/envs/py310/lib/python3.10/http/server.py'>,\n",
       "   'xmlrpc.server': <module 'xmlrpc.server' from '/Users/junix/miniconda3/envs/py310/lib/python3.10/xmlrpc/server.py'>,\n",
       "   '_pydev_imps._pydev_saved_modules': <module '_pydev_imps._pydev_saved_modules' from '/Users/junix/miniconda3/envs/py310/lib/python3.10/site-packages/debugpy/_vendored/pydevd/_pydev_imps/_pydev_saved_modules.py'>,\n",
       "   '_pydevd_bundle.pydevd_constants': <module '_pydevd_bundle.pydevd_constants' from '/Users/junix/miniconda3/envs/py310/lib/python3.10/site-packages/debugpy/_vendored/pydevd/_pydevd_bundle/pydevd_constants.py'>,\n",
       "   '_pydev_bundle': <module '_pydev_bundle' from '/Users/junix/miniconda3/envs/py310/lib/python3.10/site-packages/debugpy/_vendored/pydevd/_pydev_bundle/__init__.py'>,\n",
       "   '_pydev_runfiles': <module '_pydev_runfiles' from '/Users/junix/miniconda3/envs/py310/lib/python3.10/site-packages/debugpy/_vendored/pydevd/_pydev_runfiles/__init__.py'>,\n",
       "   '_pydevd_frame_eval': <module '_pydevd_frame_eval' from '/Users/junix/miniconda3/envs/py310/lib/python3.10/site-packages/debugpy/_vendored/pydevd/_pydevd_frame_eval/__init__.py'>,\n",
       "   'pydev_ipython': <module 'pydev_ipython' from '/Users/junix/miniconda3/envs/py310/lib/python3.10/site-packages/debugpy/_vendored/pydevd/pydev_ipython/__init__.py'>,\n",
       "   'pydevd_concurrency_analyser': <module 'pydevd_concurrency_analyser' from '/Users/junix/miniconda3/envs/py310/lib/python3.10/site-packages/debugpy/_vendored/pydevd/pydevd_concurrency_analyser/__init__.py'>,\n",
       "   'plistlib': <module 'plistlib' from '/Users/junix/miniconda3/envs/py310/lib/python3.10/plistlib.py'>,\n",
       "   'pkg_resources.extern': <module 'pkg_resources.extern' from '/Users/junix/miniconda3/envs/py310/lib/python3.10/site-packages/pkg_resources/extern/__init__.py'>,\n",
       "   'pkg_resources._vendor': <module 'pkg_resources._vendor' from '/Users/junix/miniconda3/envs/py310/lib/python3.10/site-packages/pkg_resources/_vendor/__init__.py'>,\n",
       "   'pkg_resources._vendor.jaraco': <module 'pkg_resources.extern.jaraco' (<pkg_resources.extern.VendorImporter object at 0x7feb18774af0>)>,\n",
       "   'pkg_resources.extern.jaraco': <module 'pkg_resources.extern.jaraco' (<pkg_resources.extern.VendorImporter object at 0x7feb18774af0>)>,\n",
       "   'importlib.abc': <module 'importlib.abc' from '/Users/junix/miniconda3/envs/py310/lib/python3.10/importlib/abc.py'>,\n",
       "   'importlib._adapters': <module 'importlib._adapters' from '/Users/junix/miniconda3/envs/py310/lib/python3.10/importlib/_adapters.py'>,\n",
       "   'importlib._common': <module 'importlib._common' from '/Users/junix/miniconda3/envs/py310/lib/python3.10/importlib/_common.py'>,\n",
       "   'importlib.resources': <module 'importlib.resources' from '/Users/junix/miniconda3/envs/py310/lib/python3.10/importlib/resources.py'>,\n",
       "   'pkg_resources._vendor.more_itertools.recipes': <module 'pkg_resources._vendor.more_itertools.recipes' from '/Users/junix/miniconda3/envs/py310/lib/python3.10/site-packages/pkg_resources/_vendor/more_itertools/recipes.py'>,\n",
       "   'pkg_resources._vendor.more_itertools.more': <module 'pkg_resources._vendor.more_itertools.more' from '/Users/junix/miniconda3/envs/py310/lib/python3.10/site-packages/pkg_resources/_vendor/more_itertools/more.py'>,\n",
       "   'pkg_resources._vendor.more_itertools': <module 'pkg_resources.extern.more_itertools' (<pkg_resources.extern.VendorImporter object at 0x7feb18774af0>)>,\n",
       "   'pkg_resources.extern.more_itertools': <module 'pkg_resources.extern.more_itertools' (<pkg_resources.extern.VendorImporter object at 0x7feb18774af0>)>,\n",
       "   'pkg_resources.extern.jaraco.functools': <module 'pkg_resources.extern.jaraco.functools' from '/Users/junix/miniconda3/envs/py310/lib/python3.10/site-packages/pkg_resources/_vendor/jaraco/functools.py'>,\n",
       "   'pkg_resources.extern.jaraco.context': <module 'pkg_resources.extern.jaraco.context' from '/Users/junix/miniconda3/envs/py310/lib/python3.10/site-packages/pkg_resources/_vendor/jaraco/context.py'>,\n",
       "   'pkg_resources.extern.jaraco.text': <module 'pkg_resources.extern.jaraco.text' from '/Users/junix/miniconda3/envs/py310/lib/python3.10/site-packages/pkg_resources/_vendor/jaraco/text/__init__.py'>,\n",
       "   'pkg_resources._vendor.appdirs': <module 'pkg_resources.extern.appdirs' (<pkg_resources.extern.VendorImporter object at 0x7feb18774af0>)>,\n",
       "   'pkg_resources.extern.appdirs': <module 'pkg_resources.extern.appdirs' (<pkg_resources.extern.VendorImporter object at 0x7feb18774af0>)>,\n",
       "   'pkg_resources._vendor.packaging.__about__': <module 'pkg_resources._vendor.packaging.__about__' from '/Users/junix/miniconda3/envs/py310/lib/python3.10/site-packages/pkg_resources/_vendor/packaging/__about__.py'>,\n",
       "   'pkg_resources._vendor.packaging': <module 'pkg_resources.extern.packaging' (<pkg_resources.extern.VendorImporter object at 0x7feb18774af0>)>,\n",
       "   'pkg_resources.extern.packaging': <module 'pkg_resources.extern.packaging' (<pkg_resources.extern.VendorImporter object at 0x7feb18774af0>)>,\n",
       "   'pkg_resources.extern.packaging._structures': <module 'pkg_resources.extern.packaging._structures' from '/Users/junix/miniconda3/envs/py310/lib/python3.10/site-packages/pkg_resources/_vendor/packaging/_structures.py'>,\n",
       "   'pkg_resources.extern.packaging.version': <module 'pkg_resources.extern.packaging.version' from '/Users/junix/miniconda3/envs/py310/lib/python3.10/site-packages/pkg_resources/_vendor/packaging/version.py'>,\n",
       "   'pkg_resources._vendor.packaging._manylinux': <module 'pkg_resources._vendor.packaging._manylinux' from '/Users/junix/miniconda3/envs/py310/lib/python3.10/site-packages/pkg_resources/_vendor/packaging/_manylinux.py'>,\n",
       "   'pkg_resources._vendor.packaging._musllinux': <module 'pkg_resources._vendor.packaging._musllinux' from '/Users/junix/miniconda3/envs/py310/lib/python3.10/site-packages/pkg_resources/_vendor/packaging/_musllinux.py'>,\n",
       "   'pkg_resources.extern.packaging.tags': <module 'pkg_resources.extern.packaging.tags' from '/Users/junix/miniconda3/envs/py310/lib/python3.10/site-packages/pkg_resources/_vendor/packaging/tags.py'>,\n",
       "   'pkg_resources.extern.packaging.utils': <module 'pkg_resources.extern.packaging.utils' from '/Users/junix/miniconda3/envs/py310/lib/python3.10/site-packages/pkg_resources/_vendor/packaging/utils.py'>,\n",
       "   'pkg_resources.extern.packaging.specifiers': <module 'pkg_resources.extern.packaging.specifiers' from '/Users/junix/miniconda3/envs/py310/lib/python3.10/site-packages/pkg_resources/_vendor/packaging/specifiers.py'>,\n",
       "   'pkg_resources._vendor.pyparsing.util': <module 'pkg_resources._vendor.pyparsing.util' from '/Users/junix/miniconda3/envs/py310/lib/python3.10/site-packages/pkg_resources/_vendor/pyparsing/util.py'>,\n",
       "   'pkg_resources._vendor.pyparsing.unicode': <module 'pkg_resources._vendor.pyparsing.unicode' from '/Users/junix/miniconda3/envs/py310/lib/python3.10/site-packages/pkg_resources/_vendor/pyparsing/unicode.py'>,\n",
       "   'pkg_resources._vendor.pyparsing.exceptions': <module 'pkg_resources._vendor.pyparsing.exceptions' from '/Users/junix/miniconda3/envs/py310/lib/python3.10/site-packages/pkg_resources/_vendor/pyparsing/exceptions.py'>,\n",
       "   'pkg_resources._vendor.pyparsing.actions': <module 'pkg_resources._vendor.pyparsing.actions' from '/Users/junix/miniconda3/envs/py310/lib/python3.10/site-packages/pkg_resources/_vendor/pyparsing/actions.py'>,\n",
       "   'pkg_resources._vendor.pyparsing.results': <module 'pkg_resources._vendor.pyparsing.results' from '/Users/junix/miniconda3/envs/py310/lib/python3.10/site-packages/pkg_resources/_vendor/pyparsing/results.py'>,\n",
       "   'pkg_resources._vendor.pyparsing.core': <module 'pkg_resources._vendor.pyparsing.core' from '/Users/junix/miniconda3/envs/py310/lib/python3.10/site-packages/pkg_resources/_vendor/pyparsing/core.py'>,\n",
       "   'pkg_resources._vendor.pyparsing.helpers': <module 'pkg_resources._vendor.pyparsing.helpers' from '/Users/junix/miniconda3/envs/py310/lib/python3.10/site-packages/pkg_resources/_vendor/pyparsing/helpers.py'>,\n",
       "   'pkg_resources._vendor.pyparsing.testing': <module 'pkg_resources._vendor.pyparsing.testing' from '/Users/junix/miniconda3/envs/py310/lib/python3.10/site-packages/pkg_resources/_vendor/pyparsing/testing.py'>,\n",
       "   'pkg_resources._vendor.pyparsing.common': <module 'pkg_resources._vendor.pyparsing.common' from '/Users/junix/miniconda3/envs/py310/lib/python3.10/site-packages/pkg_resources/_vendor/pyparsing/common.py'>,\n",
       "   'pkg_resources._vendor.pyparsing': <module 'pkg_resources.extern.pyparsing' (<pkg_resources.extern.VendorImporter object at 0x7feb18774af0>)>,\n",
       "   'pkg_resources.extern.pyparsing': <module 'pkg_resources.extern.pyparsing' (<pkg_resources.extern.VendorImporter object at 0x7feb18774af0>)>,\n",
       "   'pkg_resources.extern.packaging.markers': <module 'pkg_resources.extern.packaging.markers' from '/Users/junix/miniconda3/envs/py310/lib/python3.10/site-packages/pkg_resources/_vendor/packaging/markers.py'>,\n",
       "   'pkg_resources.extern.packaging.requirements': <module 'pkg_resources.extern.packaging.requirements' from '/Users/junix/miniconda3/envs/py310/lib/python3.10/site-packages/pkg_resources/_vendor/packaging/requirements.py'>,\n",
       "   'pkg_resources': <module 'pkg_resources' from '/Users/junix/miniconda3/envs/py310/lib/python3.10/site-packages/pkg_resources/__init__.py'>,\n",
       "   'pydevd_plugins': <module 'pydevd_plugins' from '/Users/junix/miniconda3/envs/py310/lib/python3.10/site-packages/debugpy/_vendored/pydevd/pydevd_plugins/__init__.py'>,\n",
       "   '_pydev_bundle.pydev_log': <module '_pydev_bundle.pydev_log' from '/Users/junix/miniconda3/envs/py310/lib/python3.10/site-packages/debugpy/_vendored/pydevd/_pydev_bundle/pydev_log.py'>,\n",
       "   '_pydev_bundle._pydev_filesystem_encoding': <module '_pydev_bundle._pydev_filesystem_encoding' from '/Users/junix/miniconda3/envs/py310/lib/python3.10/site-packages/debugpy/_vendored/pydevd/_pydev_bundle/_pydev_filesystem_encoding.py'>,\n",
       "   '_pydevd_bundle.pydevd_comm_constants': <module '_pydevd_bundle.pydevd_comm_constants' from '/Users/junix/miniconda3/envs/py310/lib/python3.10/site-packages/debugpy/_vendored/pydevd/_pydevd_bundle/pydevd_comm_constants.py'>,\n",
       "   'pydevd_file_utils': <module 'pydevd_file_utils' from '/Users/junix/miniconda3/envs/py310/lib/python3.10/site-packages/debugpy/_vendored/pydevd/pydevd_file_utils.py'>,\n",
       "   '_pydev_imps._pydev_execfile': <module '_pydev_imps._pydev_execfile' from '/Users/junix/miniconda3/envs/py310/lib/python3.10/site-packages/debugpy/_vendored/pydevd/_pydev_imps/_pydev_execfile.py'>,\n",
       "   '_pydevd_bundle.pydevd_exec2': <module '_pydevd_bundle.pydevd_exec2' from '/Users/junix/miniconda3/envs/py310/lib/python3.10/site-packages/debugpy/_vendored/pydevd/_pydevd_bundle/pydevd_exec2.py'>,\n",
       "   '_pydev_bundle.pydev_imports': <module '_pydev_bundle.pydev_imports' from '/Users/junix/miniconda3/envs/py310/lib/python3.10/site-packages/debugpy/_vendored/pydevd/_pydev_bundle/pydev_imports.py'>,\n",
       "   '_pydev_bundle.pydev_is_thread_alive': <module '_pydev_bundle.pydev_is_thread_alive' from '/Users/junix/miniconda3/envs/py310/lib/python3.10/site-packages/debugpy/_vendored/pydevd/_pydev_bundle/pydev_is_thread_alive.py'>,\n",
       "   '_pydev_bundle.pydev_override': <module '_pydev_bundle.pydev_override' from '/Users/junix/miniconda3/envs/py310/lib/python3.10/site-packages/debugpy/_vendored/pydevd/_pydev_bundle/pydev_override.py'>,\n",
       "   'pydevd_plugins.extensions': <module 'pydevd_plugins.extensions' from '/Users/junix/miniconda3/envs/py310/lib/python3.10/site-packages/debugpy/_vendored/pydevd/pydevd_plugins/extensions/__init__.py'>,\n",
       "   '_pydevd_bundle.pydevd_extension_utils': <module '_pydevd_bundle.pydevd_extension_utils' from '/Users/junix/miniconda3/envs/py310/lib/python3.10/site-packages/debugpy/_vendored/pydevd/_pydevd_bundle/pydevd_extension_utils.py'>,\n",
       "   '_pydevd_bundle.pydevd_frame_utils': <module '_pydevd_bundle.pydevd_frame_utils' from '/Users/junix/miniconda3/envs/py310/lib/python3.10/site-packages/debugpy/_vendored/pydevd/_pydevd_bundle/pydevd_frame_utils.py'>,\n",
       "   '_pydevd_bundle.pydevd_filtering': <module '_pydevd_bundle.pydevd_filtering' from '/Users/junix/miniconda3/envs/py310/lib/python3.10/site-packages/debugpy/_vendored/pydevd/_pydevd_bundle/pydevd_filtering.py'>,\n",
       "   '_pydevd_bundle.pydevd_io': <module '_pydevd_bundle.pydevd_io' from '/Users/junix/miniconda3/envs/py310/lib/python3.10/site-packages/debugpy/_vendored/pydevd/_pydevd_bundle/pydevd_io.py'>,\n",
       "   '_pydevd_bundle.pydevd_utils': <module '_pydevd_bundle.pydevd_utils' from '/Users/junix/miniconda3/envs/py310/lib/python3.10/site-packages/debugpy/_vendored/pydevd/_pydevd_bundle/pydevd_utils.py'>,\n",
       "   '_pydev_bundle._pydev_tipper_common': <module '_pydev_bundle._pydev_tipper_common' from '/Users/junix/miniconda3/envs/py310/lib/python3.10/site-packages/debugpy/_vendored/pydevd/_pydev_bundle/_pydev_tipper_common.py'>,\n",
       "   '_pydev_bundle._pydev_imports_tipper': <module '_pydev_bundle._pydev_imports_tipper' from '/Users/junix/miniconda3/envs/py310/lib/python3.10/site-packages/debugpy/_vendored/pydevd/_pydev_bundle/_pydev_imports_tipper.py'>,\n",
       "   '_pydev_bundle._pydev_calltip_util': <module '_pydev_bundle._pydev_calltip_util' from '/Users/junix/miniconda3/envs/py310/lib/python3.10/site-packages/debugpy/_vendored/pydevd/_pydev_bundle/_pydev_calltip_util.py'>,\n",
       "   '_pydevd_bundle.pydevd_safe_repr': <module '_pydevd_bundle.pydevd_safe_repr' from '/Users/junix/miniconda3/envs/py310/lib/python3.10/site-packages/debugpy/_vendored/pydevd/_pydevd_bundle/pydevd_safe_repr.py'>,\n",
       "   '_pydevd_bundle.pydevd_resolver': <module '_pydevd_bundle.pydevd_resolver' from '/Users/junix/miniconda3/envs/py310/lib/python3.10/site-packages/debugpy/_vendored/pydevd/_pydevd_bundle/pydevd_resolver.py'>,\n",
       "   '_pydevd_bundle.pydevd_extension_api': <module '_pydevd_bundle.pydevd_extension_api' from '/Users/junix/miniconda3/envs/py310/lib/python3.10/site-packages/debugpy/_vendored/pydevd/_pydevd_bundle/pydevd_extension_api.py'>,\n",
       "   '_pydevd_bundle.pydevd_xml': <module '_pydevd_bundle.pydevd_xml' from '/Users/junix/miniconda3/envs/py310/lib/python3.10/site-packages/debugpy/_vendored/pydevd/_pydevd_bundle/pydevd_xml.py'>,\n",
       "   '_pydevd_bundle.pydevd_dont_trace': <module '_pydevd_bundle.pydevd_dont_trace' from '/Users/junix/miniconda3/envs/py310/lib/python3.10/site-packages/debugpy/_vendored/pydevd/_pydevd_bundle/pydevd_dont_trace.py'>,\n",
       "   '_pydevd_frame_eval.vendored': <module '_pydevd_frame_eval.vendored' from '/Users/junix/miniconda3/envs/py310/lib/python3.10/site-packages/debugpy/_vendored/pydevd/_pydevd_frame_eval/vendored/__init__.py'>,\n",
       "   '_pydevd_frame_eval.vendored.bytecode.flags': <module '_pydevd_frame_eval.vendored.bytecode.flags' from '/Users/junix/miniconda3/envs/py310/lib/python3.10/site-packages/debugpy/_vendored/pydevd/_pydevd_frame_eval/vendored/bytecode/flags.py'>,\n",
       "   '_pydevd_frame_eval.vendored.bytecode.instr': <module '_pydevd_frame_eval.vendored.bytecode.instr' from '/Users/junix/miniconda3/envs/py310/lib/python3.10/site-packages/debugpy/_vendored/pydevd/_pydevd_frame_eval/vendored/bytecode/instr.py'>,\n",
       "   '_pydevd_frame_eval.vendored.bytecode.bytecode': <module '_pydevd_frame_eval.vendored.bytecode.bytecode' from '/Users/junix/miniconda3/envs/py310/lib/python3.10/site-packages/debugpy/_vendored/pydevd/_pydevd_frame_eval/vendored/bytecode/bytecode.py'>,\n",
       "   '_pydevd_frame_eval.vendored.bytecode.concrete': <module '_pydevd_frame_eval.vendored.bytecode.concrete' from '/Users/junix/miniconda3/envs/py310/lib/python3.10/site-packages/debugpy/_vendored/pydevd/_pydevd_frame_eval/vendored/bytecode/concrete.py'>,\n",
       "   '_pydevd_frame_eval.vendored.bytecode.cfg': <module '_pydevd_frame_eval.vendored.bytecode.cfg' from '/Users/junix/miniconda3/envs/py310/lib/python3.10/site-packages/debugpy/_vendored/pydevd/_pydevd_frame_eval/vendored/bytecode/cfg.py'>,\n",
       "   '_pydevd_frame_eval.vendored.bytecode': <module '_pydevd_frame_eval.vendored.bytecode' from '/Users/junix/miniconda3/envs/py310/lib/python3.10/site-packages/debugpy/_vendored/pydevd/_pydevd_frame_eval/vendored/bytecode/__init__.py'>,\n",
       "   '_pydevd_bundle.pydevd_bytecode_utils': <module '_pydevd_bundle.pydevd_bytecode_utils' from '/Users/junix/miniconda3/envs/py310/lib/python3.10/site-packages/debugpy/_vendored/pydevd/_pydevd_bundle/pydevd_bytecode_utils.py'>,\n",
       "   '_pydevd_bundle.pydevd_cython': <module '_pydevd_bundle.pydevd_cython' from '/Users/junix/miniconda3/envs/py310/lib/python3.10/site-packages/debugpy/_vendored/pydevd/_pydevd_bundle/pydevd_cython.cpython-310-darwin.so'>,\n",
       "   '_pydevd_bundle.pydevd_cython_wrapper': <module '_pydevd_bundle.pydevd_cython_wrapper' from '/Users/junix/miniconda3/envs/py310/lib/python3.10/site-packages/debugpy/_vendored/pydevd/_pydevd_bundle/pydevd_cython_wrapper.py'>,\n",
       "   '_pydevd_bundle.pydevd_additional_thread_info': <module '_pydevd_bundle.pydevd_additional_thread_info' from '/Users/junix/miniconda3/envs/py310/lib/python3.10/site-packages/debugpy/_vendored/pydevd/_pydevd_bundle/pydevd_additional_thread_info.py'>,\n",
       "   '_pydevd_bundle.pydevd_thread_lifecycle': <module '_pydevd_bundle.pydevd_thread_lifecycle' from '/Users/junix/miniconda3/envs/py310/lib/python3.10/site-packages/debugpy/_vendored/pydevd/_pydevd_bundle/pydevd_thread_lifecycle.py'>,\n",
       "   '_pydevd_bundle.pydevd_save_locals': <module '_pydevd_bundle.pydevd_save_locals' from '/Users/junix/miniconda3/envs/py310/lib/python3.10/site-packages/debugpy/_vendored/pydevd/_pydevd_bundle/pydevd_save_locals.py'>,\n",
       "   '_pydevd_bundle.pydevd_defaults': <module '_pydevd_bundle.pydevd_defaults' from '/Users/junix/miniconda3/envs/py310/lib/python3.10/site-packages/debugpy/_vendored/pydevd/_pydevd_bundle/pydevd_defaults.py'>,\n",
       "   '_pydev_bundle.pydev_monkey': <module '_pydev_bundle.pydev_monkey' from '/Users/junix/miniconda3/envs/py310/lib/python3.10/site-packages/debugpy/_vendored/pydevd/_pydev_bundle/pydev_monkey.py'>,\n",
       "   'pydevd_tracing': <module 'pydevd_tracing' from '/Users/junix/miniconda3/envs/py310/lib/python3.10/site-packages/debugpy/_vendored/pydevd/pydevd_tracing.py'>,\n",
       "   '_pydevd_bundle.pydevd_daemon_thread': <module '_pydevd_bundle.pydevd_daemon_thread' from '/Users/junix/miniconda3/envs/py310/lib/python3.10/site-packages/debugpy/_vendored/pydevd/_pydevd_bundle/pydevd_daemon_thread.py'>,\n",
       "   '_pydevd_bundle.pydevd_timeout': <module '_pydevd_bundle.pydevd_timeout' from '/Users/junix/miniconda3/envs/py310/lib/python3.10/site-packages/debugpy/_vendored/pydevd/_pydevd_bundle/pydevd_timeout.py'>,\n",
       "   '_pydevd_bundle.pydevd_vars': <module '_pydevd_bundle.pydevd_vars' from '/Users/junix/miniconda3/envs/py310/lib/python3.10/site-packages/debugpy/_vendored/pydevd/_pydevd_bundle/pydevd_vars.py'>,\n",
       "   '_pydev_bundle.pydev_console_utils': <module '_pydev_bundle.pydev_console_utils' from '/Users/junix/miniconda3/envs/py310/lib/python3.10/site-packages/debugpy/_vendored/pydevd/_pydev_bundle/pydev_console_utils.py'>,\n",
       "   '_pydevd_bundle.pydevd_import_class': <module '_pydevd_bundle.pydevd_import_class' from '/Users/junix/miniconda3/envs/py310/lib/python3.10/site-packages/debugpy/_vendored/pydevd/_pydevd_bundle/pydevd_import_class.py'>,\n",
       "   '_pydevd_bundle.pydevd_breakpoints': <module '_pydevd_bundle.pydevd_breakpoints' from '/Users/junix/miniconda3/envs/py310/lib/python3.10/site-packages/debugpy/_vendored/pydevd/_pydevd_bundle/pydevd_breakpoints.py'>,\n",
       "   '_pydevd_bundle.pydevd_custom_frames': <module '_pydevd_bundle.pydevd_custom_frames' from '/Users/junix/miniconda3/envs/py310/lib/python3.10/site-packages/debugpy/_vendored/pydevd/_pydevd_bundle/pydevd_custom_frames.py'>,\n",
       "   '_pydevd_bundle.pydevd_dont_trace_files': <module '_pydevd_bundle.pydevd_dont_trace_files' from '/Users/junix/miniconda3/envs/py310/lib/python3.10/site-packages/debugpy/_vendored/pydevd/_pydevd_bundle/pydevd_dont_trace_files.py'>,\n",
       "   '_pydevd_bundle.pydevd_net_command': <module '_pydevd_bundle.pydevd_net_command' from '/Users/junix/miniconda3/envs/py310/lib/python3.10/site-packages/debugpy/_vendored/pydevd/_pydevd_bundle/pydevd_net_command.py'>,\n",
       "   '_pydev_bundle.pydev_umd': <module '_pydev_bundle.pydev_umd' from '/Users/junix/miniconda3/envs/py310/lib/python3.10/site-packages/debugpy/_vendored/pydevd/_pydev_bundle/pydev_umd.py'>,\n",
       "   'pydevconsole': <module 'pydevconsole' from '/Users/junix/miniconda3/envs/py310/lib/python3.10/site-packages/debugpy/_vendored/pydevd/pydevconsole.py'>,\n",
       "   '_pydev_bundle._pydev_completer': <module '_pydev_bundle._pydev_completer' from '/Users/junix/miniconda3/envs/py310/lib/python3.10/site-packages/debugpy/_vendored/pydevd/_pydev_bundle/_pydev_completer.py'>,\n",
       "   '_pydevd_bundle.pydevd_net_command_factory_xml': <module '_pydevd_bundle.pydevd_net_command_factory_xml' from '/Users/junix/miniconda3/envs/py310/lib/python3.10/site-packages/debugpy/_vendored/pydevd/_pydevd_bundle/pydevd_net_command_factory_xml.py'>,\n",
       "   '_pydevd_bundle.pydevd_frame': <module '_pydevd_bundle.pydevd_frame' from '/Users/junix/miniconda3/envs/py310/lib/python3.10/site-packages/debugpy/_vendored/pydevd/_pydevd_bundle/pydevd_frame.py'>,\n",
       "   '_pydevd_bundle.pydevd_additional_thread_info_regular': <module '_pydevd_bundle.pydevd_additional_thread_info_regular' from '/Users/junix/miniconda3/envs/py310/lib/python3.10/site-packages/debugpy/_vendored/pydevd/_pydevd_bundle/pydevd_additional_thread_info_regular.py'>,\n",
       "   '_pydevd_bundle.pydevd_trace_dispatch': <module '_pydevd_bundle.pydevd_trace_dispatch' from '/Users/junix/miniconda3/envs/py310/lib/python3.10/site-packages/debugpy/_vendored/pydevd/_pydevd_bundle/pydevd_trace_dispatch.py'>,\n",
       "   '_pydevd_frame_eval.pydevd_frame_eval_main': <module '_pydevd_frame_eval.pydevd_frame_eval_main' from '/Users/junix/miniconda3/envs/py310/lib/python3.10/site-packages/debugpy/_vendored/pydevd/_pydevd_frame_eval/pydevd_frame_eval_main.py'>,\n",
       "   '_pydevd_bundle.pydevd_source_mapping': <module '_pydevd_bundle.pydevd_source_mapping' from '/Users/junix/miniconda3/envs/py310/lib/python3.10/site-packages/debugpy/_vendored/pydevd/_pydevd_bundle/pydevd_source_mapping.py'>,\n",
       "   'pydevd_concurrency_analyser.pydevd_thread_wrappers': <module 'pydevd_concurrency_analyser.pydevd_thread_wrappers' from '/Users/junix/miniconda3/envs/py310/lib/python3.10/site-packages/debugpy/_vendored/pydevd/pydevd_concurrency_analyser/pydevd_thread_wrappers.py'>,\n",
       "   'pydevd_concurrency_analyser.pydevd_concurrency_logger': <module 'pydevd_concurrency_analyser.pydevd_concurrency_logger' from '/Users/junix/miniconda3/envs/py310/lib/python3.10/site-packages/debugpy/_vendored/pydevd/pydevd_concurrency_analyser/pydevd_concurrency_logger.py'>,\n",
       "   '_pydevd_bundle._debug_adapter': <module '_pydevd_bundle._debug_adapter' from '/Users/junix/miniconda3/envs/py310/lib/python3.10/site-packages/debugpy/_vendored/pydevd/_pydevd_bundle/_debug_adapter/__init__.py'>,\n",
       "   '_pydevd_bundle._debug_adapter.pydevd_schema_log': <module '_pydevd_bundle._debug_adapter.pydevd_schema_log' from '/Users/junix/miniconda3/envs/py310/lib/python3.10/site-packages/debugpy/_vendored/pydevd/_pydevd_bundle/_debug_adapter/pydevd_schema_log.py'>,\n",
       "   '_pydevd_bundle._debug_adapter.pydevd_base_schema': <module '_pydevd_bundle._debug_adapter.pydevd_base_schema' from '/Users/junix/miniconda3/envs/py310/lib/python3.10/site-packages/debugpy/_vendored/pydevd/_pydevd_bundle/_debug_adapter/pydevd_base_schema.py'>,\n",
       "   '_pydevd_bundle._debug_adapter.pydevd_schema': <module '_pydevd_bundle._debug_adapter.pydevd_schema' from '/Users/junix/miniconda3/envs/py310/lib/python3.10/site-packages/debugpy/_vendored/pydevd/_pydevd_bundle/_debug_adapter/pydevd_schema.py'>,\n",
       "   '_pydevd_bundle.pydevd_reload': <module '_pydevd_bundle.pydevd_reload' from '/Users/junix/miniconda3/envs/py310/lib/python3.10/site-packages/debugpy/_vendored/pydevd/_pydevd_bundle/pydevd_reload.py'>,\n",
       "   '_pydev_bundle.fsnotify': <module '_pydev_bundle.fsnotify' from '/Users/junix/miniconda3/envs/py310/lib/python3.10/site-packages/debugpy/_vendored/pydevd/_pydev_bundle/fsnotify/__init__.py'>,\n",
       "   '_pydevd_bundle.pydevd_console': <module '_pydevd_bundle.pydevd_console' from '/Users/junix/miniconda3/envs/py310/lib/python3.10/site-packages/debugpy/_vendored/pydevd/_pydevd_bundle/pydevd_console.py'>,\n",
       "   '_pydevd_bundle.pydevd_comm': <module '_pydevd_bundle.pydevd_comm' from '/Users/junix/miniconda3/envs/py310/lib/python3.10/site-packages/debugpy/_vendored/pydevd/_pydevd_bundle/pydevd_comm.py'>,\n",
       "   '_pydevd_bundle.pydevd_net_command_factory_json': <module '_pydevd_bundle.pydevd_net_command_factory_json' from '/Users/junix/miniconda3/envs/py310/lib/python3.10/site-packages/debugpy/_vendored/pydevd/_pydevd_bundle/pydevd_net_command_factory_json.py'>,\n",
       "   '_pydevd_bundle.pydevd_collect_bytecode_info': <module '_pydevd_bundle.pydevd_collect_bytecode_info' from '/Users/junix/miniconda3/envs/py310/lib/python3.10/site-packages/debugpy/_vendored/pydevd/_pydevd_bundle/pydevd_collect_bytecode_info.py'>,\n",
       "   '_pydevd_bundle.pydevd_api': <module '_pydevd_bundle.pydevd_api' from '/Users/junix/miniconda3/envs/py310/lib/python3.10/site-packages/debugpy/_vendored/pydevd/_pydevd_bundle/pydevd_api.py'>,\n",
       "   '_pydevd_bundle.pydevd_json_debug_options': <module '_pydevd_bundle.pydevd_json_debug_options' from '/Users/junix/miniconda3/envs/py310/lib/python3.10/site-packages/debugpy/_vendored/pydevd/_pydevd_bundle/pydevd_json_debug_options.py'>,\n",
       "   '_pydevd_bundle.pydevd_process_net_command_json': <module '_pydevd_bundle.pydevd_process_net_command_json' from '/Users/junix/miniconda3/envs/py310/lib/python3.10/site-packages/debugpy/_vendored/pydevd/_pydevd_bundle/pydevd_process_net_command_json.py'>,\n",
       "   '_pydevd_bundle.pydevd_traceproperty': <module '_pydevd_bundle.pydevd_traceproperty' from '/Users/junix/miniconda3/envs/py310/lib/python3.10/site-packages/debugpy/_vendored/pydevd/_pydevd_bundle/pydevd_traceproperty.py'>,\n",
       "   '_pydevd_bundle.pydevd_process_net_command': <module '_pydevd_bundle.pydevd_process_net_command' from '/Users/junix/miniconda3/envs/py310/lib/python3.10/site-packages/debugpy/_vendored/pydevd/_pydevd_bundle/pydevd_process_net_command.py'>,\n",
       "   '_pydevd_bundle.pydevd_suspended_frames': <module '_pydevd_bundle.pydevd_suspended_frames' from '/Users/junix/miniconda3/envs/py310/lib/python3.10/site-packages/debugpy/_vendored/pydevd/_pydevd_bundle/pydevd_suspended_frames.py'>,\n",
       "   '_pydevd_bundle.pydevd_trace_api': <module '_pydevd_bundle.pydevd_trace_api' from '/Users/junix/miniconda3/envs/py310/lib/python3.10/site-packages/debugpy/_vendored/pydevd/_pydevd_bundle/pydevd_trace_api.py'>,\n",
       "   'pydevd_plugins.django_debug': <module 'pydevd_plugins.django_debug' from '/Users/junix/miniconda3/envs/py310/lib/python3.10/site-packages/debugpy/_vendored/pydevd/pydevd_plugins/django_debug.py'>,\n",
       "   'pydevd_plugins.jinja2_debug': <module 'pydevd_plugins.jinja2_debug' from '/Users/junix/miniconda3/envs/py310/lib/python3.10/site-packages/debugpy/_vendored/pydevd/pydevd_plugins/jinja2_debug.py'>,\n",
       "   '_pydevd_bundle.pydevd_plugin_utils': <module '_pydevd_bundle.pydevd_plugin_utils' from '/Users/junix/miniconda3/envs/py310/lib/python3.10/site-packages/debugpy/_vendored/pydevd/_pydevd_bundle/pydevd_plugin_utils.py'>,\n",
       "   'pydevd_plugins.extensions.types': <module 'pydevd_plugins.extensions.types' from '/Users/junix/miniconda3/envs/py310/lib/python3.10/site-packages/debugpy/_vendored/pydevd/pydevd_plugins/extensions/types/__init__.py'>,\n",
       "   'pydevd_plugins.extensions.types.pydevd_helpers': <module 'pydevd_plugins.extensions.types.pydevd_helpers' from '/Users/junix/miniconda3/envs/py310/lib/python3.10/site-packages/debugpy/_vendored/pydevd/pydevd_plugins/extensions/types/pydevd_helpers.py'>,\n",
       "   'pydevd_plugins.extensions.types.pydevd_plugin_numpy_types': <module 'pydevd_plugins.extensions.types.pydevd_plugin_numpy_types' from '/Users/junix/miniconda3/envs/py310/lib/python3.10/site-packages/debugpy/_vendored/pydevd/pydevd_plugins/extensions/types/pydevd_plugin_numpy_types.py'>,\n",
       "   'pydevd_plugins.extensions.types.pydevd_plugins_django_form_str': <module 'pydevd_plugins.extensions.types.pydevd_plugins_django_form_str' from '/Users/junix/miniconda3/envs/py310/lib/python3.10/site-packages/debugpy/_vendored/pydevd/pydevd_plugins/extensions/types/pydevd_plugins_django_form_str.py'>,\n",
       "   'pydevd': <module 'pydevd' from '/Users/junix/miniconda3/envs/py310/lib/python3.10/site-packages/debugpy/_vendored/pydevd/pydevd.py'>,\n",
       "   'debugpy._vendored.force_pydevd': <module 'debugpy._vendored.force_pydevd' from '/Users/junix/miniconda3/envs/py310/lib/python3.10/site-packages/debugpy/_vendored/force_pydevd.py'>,\n",
       "   'debugpy.server': <module 'debugpy.server' from '/Users/junix/miniconda3/envs/py310/lib/python3.10/site-packages/debugpy/server/__init__.py'>,\n",
       "   'debugpy.adapter': <module 'debugpy.adapter' from '/Users/junix/miniconda3/envs/py310/lib/python3.10/site-packages/debugpy/adapter/__init__.py'>,\n",
       "   'debugpy.common.timestamp': <module 'debugpy.common.timestamp' from '/Users/junix/miniconda3/envs/py310/lib/python3.10/site-packages/debugpy/common/timestamp.py'>,\n",
       "   'debugpy.common.util': <module 'debugpy.common.util' from '/Users/junix/miniconda3/envs/py310/lib/python3.10/site-packages/debugpy/common/util.py'>,\n",
       "   'debugpy.common.log': <module 'debugpy.common.log' from '/Users/junix/miniconda3/envs/py310/lib/python3.10/site-packages/debugpy/common/log.py'>,\n",
       "   'debugpy.common.sockets': <module 'debugpy.common.sockets' from '/Users/junix/miniconda3/envs/py310/lib/python3.10/site-packages/debugpy/common/sockets.py'>,\n",
       "   'debugpy.server.api': <module 'debugpy.server.api' from '/Users/junix/miniconda3/envs/py310/lib/python3.10/site-packages/debugpy/server/api.py'>,\n",
       "   'ipykernel.debugger': <module 'ipykernel.debugger' from '/Users/junix/miniconda3/envs/py310/lib/python3.10/site-packages/ipykernel/debugger.py'>,\n",
       "   'packaging.__about__': <module 'packaging.__about__' from '/Users/junix/miniconda3/envs/py310/lib/python3.10/site-packages/packaging/__about__.py'>,\n",
       "   'packaging': <module 'packaging' from '/Users/junix/miniconda3/envs/py310/lib/python3.10/site-packages/packaging/__init__.py'>,\n",
       "   'packaging._structures': <module 'packaging._structures' from '/Users/junix/miniconda3/envs/py310/lib/python3.10/site-packages/packaging/_structures.py'>,\n",
       "   'packaging.version': <module 'packaging.version' from '/Users/junix/miniconda3/envs/py310/lib/python3.10/site-packages/packaging/version.py'>,\n",
       "   'ipykernel.eventloops': <module 'ipykernel.eventloops' from '/Users/junix/miniconda3/envs/py310/lib/python3.10/site-packages/ipykernel/eventloops.py'>,\n",
       "   'IPython.core.payloadpage': <module 'IPython.core.payloadpage' from '/Users/junix/miniconda3/envs/py310/lib/python3.10/site-packages/IPython/core/payloadpage.py'>,\n",
       "   'ipykernel.displayhook': <module 'ipykernel.displayhook' from '/Users/junix/miniconda3/envs/py310/lib/python3.10/site-packages/ipykernel/displayhook.py'>,\n",
       "   'ipykernel.zmqshell': <module 'ipykernel.zmqshell' from '/Users/junix/miniconda3/envs/py310/lib/python3.10/site-packages/ipykernel/zmqshell.py'>,\n",
       "   'ipykernel.ipkernel': <module 'ipykernel.ipkernel' from '/Users/junix/miniconda3/envs/py310/lib/python3.10/site-packages/ipykernel/ipkernel.py'>,\n",
       "   'ipykernel.parentpoller': <module 'ipykernel.parentpoller' from '/Users/junix/miniconda3/envs/py310/lib/python3.10/site-packages/ipykernel/parentpoller.py'>,\n",
       "   'ipykernel.kernelapp': <module 'ipykernel.kernelapp' from '/Users/junix/miniconda3/envs/py310/lib/python3.10/site-packages/ipykernel/kernelapp.py'>,\n",
       "   'faulthandler': <module 'faulthandler' (built-in)>,\n",
       "   'IPython.core.completerlib': <module 'IPython.core.completerlib' from '/Users/junix/miniconda3/envs/py310/lib/python3.10/site-packages/IPython/core/completerlib.py'>,\n",
       "   'setuptools._distutils': <module 'distutils' (/Users/junix/miniconda3/envs/py310/lib/python3.10/site-packages/setuptools/_distutils/__init__.py)>,\n",
       "   'distutils.debug': <module 'distutils.debug' from '/Users/junix/miniconda3/envs/py310/lib/python3.10/site-packages/setuptools/_distutils/debug.py'>,\n",
       "   'distutils.errors': <module 'distutils.errors' from '/Users/junix/miniconda3/envs/py310/lib/python3.10/site-packages/setuptools/_distutils/errors.py'>,\n",
       "   'distutils.fancy_getopt': <module 'distutils.fancy_getopt' from '/Users/junix/miniconda3/envs/py310/lib/python3.10/site-packages/setuptools/_distutils/fancy_getopt.py'>,\n",
       "   'distutils.dep_util': <module 'distutils.dep_util' from '/Users/junix/miniconda3/envs/py310/lib/python3.10/site-packages/setuptools/_distutils/dep_util.py'>,\n",
       "   'distutils.log': <module 'distutils.log' from '/Users/junix/miniconda3/envs/py310/lib/python3.10/site-packages/setuptools/_distutils/log.py'>,\n",
       "   'distutils.spawn': <module 'distutils.spawn' from '/Users/junix/miniconda3/envs/py310/lib/python3.10/site-packages/setuptools/_distutils/spawn.py'>,\n",
       "   'distutils.util': <module 'distutils.util' from '/Users/junix/miniconda3/envs/py310/lib/python3.10/site-packages/setuptools/_distutils/util.py'>,\n",
       "   'distutils.dist': <module 'distutils.dist' from '/Users/junix/miniconda3/envs/py310/lib/python3.10/site-packages/setuptools/_distutils/dist.py'>,\n",
       "   'distutils.dir_util': <module 'distutils.dir_util' from '/Users/junix/miniconda3/envs/py310/lib/python3.10/site-packages/setuptools/_distutils/dir_util.py'>,\n",
       "   'distutils.file_util': <module 'distutils.file_util' from '/Users/junix/miniconda3/envs/py310/lib/python3.10/site-packages/setuptools/_distutils/file_util.py'>,\n",
       "   'grp': <module 'grp' from '/Users/junix/miniconda3/envs/py310/lib/python3.10/lib-dynload/grp.cpython-310-darwin.so'>,\n",
       "   'distutils.archive_util': <module 'distutils.archive_util' from '/Users/junix/miniconda3/envs/py310/lib/python3.10/site-packages/setuptools/_distutils/archive_util.py'>,\n",
       "   'distutils.cmd': <module 'distutils.cmd' from '/Users/junix/miniconda3/envs/py310/lib/python3.10/site-packages/setuptools/_distutils/cmd.py'>,\n",
       "   'distutils.config': <module 'distutils.config' from '/Users/junix/miniconda3/envs/py310/lib/python3.10/site-packages/setuptools/_distutils/config.py'>,\n",
       "   'distutils.extension': <module 'distutils.extension' from '/Users/junix/miniconda3/envs/py310/lib/python3.10/site-packages/setuptools/_distutils/extension.py'>,\n",
       "   'distutils.core': <module 'distutils.core' from '/Users/junix/miniconda3/envs/py310/lib/python3.10/site-packages/setuptools/_distutils/core.py'>,\n",
       "   '_distutils_hack.override': <module '_distutils_hack.override' from '/Users/junix/miniconda3/envs/py310/lib/python3.10/site-packages/_distutils_hack/override.py'>,\n",
       "   'setuptools._deprecation_warning': <module 'setuptools._deprecation_warning' from '/Users/junix/miniconda3/envs/py310/lib/python3.10/site-packages/setuptools/_deprecation_warning.py'>,\n",
       "   'setuptools.version': <module 'setuptools.version' from '/Users/junix/miniconda3/envs/py310/lib/python3.10/site-packages/setuptools/version.py'>,\n",
       "   'distutils.filelist': <module 'distutils.filelist' from '/Users/junix/miniconda3/envs/py310/lib/python3.10/site-packages/setuptools/_distutils/filelist.py'>,\n",
       "   'setuptools.monkey': <module 'setuptools.monkey' from '/Users/junix/miniconda3/envs/py310/lib/python3.10/site-packages/setuptools/monkey.py'>,\n",
       "   'setuptools.extension': <module 'setuptools.extension' from '/Users/junix/miniconda3/envs/py310/lib/python3.10/site-packages/setuptools/extension.py'>,\n",
       "   'distutils.command': <module 'distutils.command' from '/Users/junix/miniconda3/envs/py310/lib/python3.10/site-packages/setuptools/_distutils/command/__init__.py'>,\n",
       "   'setuptools.extern': <module 'setuptools.extern' from '/Users/junix/miniconda3/envs/py310/lib/python3.10/site-packages/setuptools/extern/__init__.py'>,\n",
       "   'setuptools._vendor': <module 'setuptools._vendor' from '/Users/junix/miniconda3/envs/py310/lib/python3.10/site-packages/setuptools/_vendor/__init__.py'>,\n",
       "   'setuptools._vendor.packaging.__about__': <module 'setuptools._vendor.packaging.__about__' from '/Users/junix/miniconda3/envs/py310/lib/python3.10/site-packages/setuptools/_vendor/packaging/__about__.py'>,\n",
       "   'setuptools._vendor.packaging': <module 'setuptools.extern.packaging' (<setuptools.extern.VendorImporter object at 0x7feb18ae26e0>)>,\n",
       "   'setuptools.extern.packaging': <module 'setuptools.extern.packaging' (<setuptools.extern.VendorImporter object at 0x7feb18ae26e0>)>,\n",
       "   'setuptools._vendor.ordered_set': <module 'setuptools.extern.ordered_set' (<setuptools.extern.VendorImporter object at 0x7feb18ae26e0>)>,\n",
       "   'setuptools.extern.ordered_set': <module 'setuptools.extern.ordered_set' (<setuptools.extern.VendorImporter object at 0x7feb18ae26e0>)>,\n",
       "   'setuptools._vendor.more_itertools.recipes': <module 'setuptools._vendor.more_itertools.recipes' from '/Users/junix/miniconda3/envs/py310/lib/python3.10/site-packages/setuptools/_vendor/more_itertools/recipes.py'>,\n",
       "   'setuptools._vendor.more_itertools.more': <module 'setuptools._vendor.more_itertools.more' from '/Users/junix/miniconda3/envs/py310/lib/python3.10/site-packages/setuptools/_vendor/more_itertools/more.py'>,\n",
       "   'setuptools._vendor.more_itertools': <module 'setuptools.extern.more_itertools' (<setuptools.extern.VendorImporter object at 0x7feb18ae26e0>)>,\n",
       "   'setuptools.extern.more_itertools': <module 'setuptools.extern.more_itertools' (<setuptools.extern.VendorImporter object at 0x7feb18ae26e0>)>,\n",
       "   '_csv': <module '_csv' from '/Users/junix/miniconda3/envs/py310/lib/python3.10/lib-dynload/_csv.cpython-310-darwin.so'>,\n",
       "   'csv': <module 'csv' from '/Users/junix/miniconda3/envs/py310/lib/python3.10/csv.py'>,\n",
       "   'importlib.metadata._functools': <module 'importlib.metadata._functools' from '/Users/junix/miniconda3/envs/py310/lib/python3.10/importlib/metadata/_functools.py'>,\n",
       "   'importlib.metadata._text': <module 'importlib.metadata._text' from '/Users/junix/miniconda3/envs/py310/lib/python3.10/importlib/metadata/_text.py'>,\n",
       "   'importlib.metadata._adapters': <module 'importlib.metadata._adapters' from '/Users/junix/miniconda3/envs/py310/lib/python3.10/importlib/metadata/_adapters.py'>,\n",
       "   'importlib.metadata._meta': <module 'importlib.metadata._meta' from '/Users/junix/miniconda3/envs/py310/lib/python3.10/importlib/metadata/_meta.py'>,\n",
       "   'importlib.metadata._collections': <module 'importlib.metadata._collections' from '/Users/junix/miniconda3/envs/py310/lib/python3.10/importlib/metadata/_collections.py'>,\n",
       "   'importlib.metadata._itertools': <module 'importlib.metadata._itertools' from '/Users/junix/miniconda3/envs/py310/lib/python3.10/importlib/metadata/_itertools.py'>,\n",
       "   'importlib.metadata': <module 'importlib.metadata' from '/Users/junix/miniconda3/envs/py310/lib/python3.10/importlib/metadata/__init__.py'>,\n",
       "   'setuptools._importlib': <module 'setuptools._importlib' from '/Users/junix/miniconda3/envs/py310/lib/python3.10/site-packages/setuptools/_importlib.py'>,\n",
       "   ...},\n",
       "  80: <module 're' from '/Users/junix/miniconda3/envs/py310/lib/python3.10/re.py'>,\n",
       "  82: ['A',\n",
       "   'ASCII',\n",
       "   'DEBUG',\n",
       "   'DOTALL',\n",
       "   'I',\n",
       "   'IGNORECASE',\n",
       "   'L',\n",
       "   'LOCALE',\n",
       "   'M',\n",
       "   'MULTILINE',\n",
       "   'Match',\n",
       "   'Pattern',\n",
       "   'RegexFlag',\n",
       "   'S',\n",
       "   'Scanner',\n",
       "   'T',\n",
       "   'TEMPLATE',\n",
       "   'U',\n",
       "   'UNICODE',\n",
       "   'VERBOSE',\n",
       "   'X',\n",
       "   '_MAXCACHE',\n",
       "   '__all__',\n",
       "   '__builtins__',\n",
       "   '__cached__',\n",
       "   '__doc__',\n",
       "   '__file__',\n",
       "   '__loader__',\n",
       "   '__name__',\n",
       "   '__package__',\n",
       "   '__spec__',\n",
       "   '__version__',\n",
       "   '_cache',\n",
       "   '_compile',\n",
       "   '_compile_repl',\n",
       "   '_expand',\n",
       "   '_locale',\n",
       "   '_pickle',\n",
       "   '_special_chars_map',\n",
       "   '_subx',\n",
       "   'compile',\n",
       "   'copyreg',\n",
       "   'enum',\n",
       "   'error',\n",
       "   'escape',\n",
       "   'findall',\n",
       "   'finditer',\n",
       "   'fullmatch',\n",
       "   'functools',\n",
       "   'match',\n",
       "   'purge',\n",
       "   'search',\n",
       "   'split',\n",
       "   'sre_compile',\n",
       "   'sre_parse',\n",
       "   'sub',\n",
       "   'subn',\n",
       "   'template'],\n",
       "  83: <function re.compile(pattern, flags=0)>,\n",
       "  85: <function re.compile(pattern, flags=0)>,\n",
       "  86: {},\n",
       "  88: '',\n",
       "  90: '',\n",
       "  91: <module 'posixpath' from '/Users/junix/miniconda3/envs/py310/lib/python3.10/posixpath.py'>,\n",
       "  92: 'posixpath',\n",
       "  94: '__main__'},\n",
       " 'get_ipython': <bound method InteractiveShell.get_ipython of <ipykernel.zmqshell.ZMQInteractiveShell object at 0x7feb18a0cfa0>>,\n",
       " 'exit': <IPython.core.autocall.ZMQExitAutocall at 0x7feb18a0fa90>,\n",
       " 'quit': <IPython.core.autocall.ZMQExitAutocall at 0x7feb18a0fa90>,\n",
       " 'open': <function io.open(file, mode='r', buffering=-1, encoding=None, errors=None, newline=None, closefd=True, opener=None)>,\n",
       " '_': '__main__',\n",
       " '__': 'posixpath',\n",
       " '___': <module 'posixpath' from '/Users/junix/miniconda3/envs/py310/lib/python3.10/posixpath.py'>,\n",
       " 'json': <module 'json' from '/Users/junix/miniconda3/envs/py310/lib/python3.10/json/__init__.py'>,\n",
       " 'yapf_reformat': <function __main__.yapf_reformat(cell_text)>,\n",
       " '_i': '__name__',\n",
       " '_ii': '__main__',\n",
       " '_iii': 'p.__name__',\n",
       " '_i1': 'match 1:\\n    case int() as v:\\n        print(v)',\n",
       " 'v': 'hello',\n",
       " '_i2': 'match 1:\\n    case int() as v:\\n        print(v)',\n",
       " '_i3': 'match 1:\\n    case int(v) as v:\\n        print(v)',\n",
       " '_i4': 'match 1:\\n    case int(o) as v:\\n        print(o,v)',\n",
       " 'o': 1,\n",
       " '_i5': 'match 1:\\n    case int()|str() as v:\\n        print(v)',\n",
       " '_i6': 'match 1:\\n    case (int()|str()) as v:\\n        print(v)',\n",
       " '_i7': 'match \"hello\":\\n    case (int()|str()) as v:\\n        print(v)',\n",
       " '_i8': 'match \"hello\":\\n    case (int(a)|str(b)) as v:\\n        print(v)',\n",
       " '_i9': 'match \"hello\":\\n    case (int(a)|str(a)) as v:\\n        print(v)',\n",
       " 'a': <__main__.A at 0x7feb28957a30>,\n",
       " '_i10': 'match \"hello\":\\n    case (int(a)|str(a)):\\n        print(a)',\n",
       " '_i11': 'match \"hello\":\\n    case (int()|str()) as a:\\n        print(a)',\n",
       " '_i12': 'match \"hello\":\\n    case int()|str() as a:\\n        print(a)',\n",
       " '_i13': 'match \"hello\":\\n    case int()as x|str() as a:\\n        print(a)',\n",
       " '_i14': 'match \"hello\":\\n    case int()|[a,b] as a:\\n        print(a)',\n",
       " '_i15': 'match \"hello\":\\n    case int()|[_,_] as a:\\n        print(a)',\n",
       " '_i16': 'match \"ab\":\\n    case int()|[_,_] as a:\\n        print(a)',\n",
       " '_i17': 'match [1,2]:\\n    case int()|[_,_] as a:\\n        print(a)',\n",
       " '_i18': 'match [1,2]:\\n    case int()|[_,_] as a:\\n        print(a)',\n",
       " '_i19': '|',\n",
       " '_i20': '1,2,',\n",
       " '_20': (1, 2),\n",
       " '_i21': 'match 1,2,:\\n    case [1,2]:\\n        print(\"ok\")',\n",
       " '_i22': 'help(zip)',\n",
       " '_i23': 'from itertools import zip_longest',\n",
       " 'zip_longest': itertools.zip_longest,\n",
       " '_i24': 'xs = [1,2,3]\\nys = [3,4,5]',\n",
       " 'xs': [1, 2, 3],\n",
       " 'ys': [3, 4, 5, 6],\n",
       " '_i25': 'zip(xs,ys)',\n",
       " '_25': <zip at 0x7feb18e33640>,\n",
       " '_i26': 'for x in zip(xs,ys):\\n    print(x)',\n",
       " 'x': (3, 5),\n",
       " '_i27': 'for x in zip(xs,ys, strict=True):\\n    print(x)',\n",
       " '_i28': 'xs = [1,2,3]\\nys = [3,4,5,6]',\n",
       " '_i29': 'for x in zip(xs,ys, strict=True):\\n    print(x)',\n",
       " '_i30': 'for x in zip(xs,ys, strict=False):\\n    print(x)',\n",
       " '_i31': 'int.mro',\n",
       " '_31': <function int.mro()>,\n",
       " '_i32': '{}|dict(a=1)',\n",
       " '_32': {'a': 1},\n",
       " '_i33': 'xs = [1,2,3]',\n",
       " '_i34': 'xs[::-1]',\n",
       " '_34': [3, 2, 1],\n",
       " '_i35': 's = \"asdf\"',\n",
       " 's': 'asdf',\n",
       " '_i36': 's[::-1]',\n",
       " '_36': 'fdsa',\n",
       " '_i37': 'import timeit',\n",
       " 'timeit': <module 'timeit' from '/Users/junix/miniconda3/envs/py310/lib/python3.10/timeit.py'>,\n",
       " '_i38': 'timeit.timeit(stmt=\"xs[::-1]\",setup=\"xs=\\'abcdefghikjlmnokp\\'*10\")',\n",
       " '_38': 0.1749196060700342,\n",
       " '_i39': 'timeit.timeit(stmt=\"xs[::-1]\",setup=\"xs=\\'abcdefghikjlmnokp\\'*10\",number=100000)',\n",
       " '_39': 0.017319430015049875,\n",
       " '_i40': 'timeit.timeit(stmt=\"xs[::-1]\",setup=\"xs=\\'abcdefghikjlmnokp\\'*10\",number=10000000)',\n",
       " '_40': 1.6790592860197648,\n",
       " '_i41': 'timeit.timeit(stmt=\"\\'\\'.join(reversed(xs))\",setup=\"xs=\\'abcdefghikjlmnokp\\'*10\",number=10000000)',\n",
       " '_41': 25.649887284031138,\n",
       " '_i42': 'reversed(s)',\n",
       " '_42': <reversed at 0x7feb289558a0>,\n",
       " '_i43': \"''.join(reversed(s))\",\n",
       " '_43': 'fdsa',\n",
       " '_i44': 'help(timeit.timeit)',\n",
       " '_i45': 'import perf',\n",
       " '_i46': 'import timeit\\nimport time',\n",
       " 'time': <module 'time' (built-in)>,\n",
       " '_i47': 'begin = time.perf_counter()\\n\\n\\ntimeit.timeit(stmt=\"\\'\\'.join(reversed(xs))\",setup=\"xs=\\'abcdefghikjlmnokp\\'*10\",number=10000000)\\nprint(f\"elapsed {time.perf_counter() - begin}\")',\n",
       " 'begin': 613128.262688331,\n",
       " '_i48': 'from abc import ABC',\n",
       " 'ABC': abc.ABC,\n",
       " '_i49': 'import abc',\n",
       " 'abc': <module 'abc' from '/Users/junix/miniconda3/envs/py310/lib/python3.10/abc.py'>,\n",
       " '_i50': 'class A(abc.ABC):\\n    pass\\n    ',\n",
       " 'A': __main__.A,\n",
       " '_i51': 'type(abc.ABC)',\n",
       " '_51': abc.ABCMeta,\n",
       " '_i52': 'type(abc.ABCMeta)',\n",
       " '_52': type,\n",
       " '_i53': 'type(A)',\n",
       " '_53': abc.ABCMeta,\n",
       " '_i54': 'type(abc.ABC)',\n",
       " '_54': abc.ABCMeta,\n",
       " '_i55': 'import numbers',\n",
       " 'numbers': <module 'numbers' from '/Users/junix/miniconda3/envs/py310/lib/python3.10/numbers.py'>,\n",
       " '_i56': 'class A:pass',\n",
       " '_i57': 'class A:\\n    def hello(self):\\n        pass',\n",
       " '_i58': 'a = A',\n",
       " '_i59': 'a = A()',\n",
       " '_i60': 'a.hello',\n",
       " '_60': <bound method A.hello of <__main__.A object at 0x7feb28955630>>,\n",
       " '_i61': 'a.hello.__self__',\n",
       " '_61': <__main__.A at 0x7feb28955630>,\n",
       " '_i62': 'class A:\\n    def hello(self):\\n        print(\"hello\")\\n    ',\n",
       " '_i63': 'class A:\\n    def hello(self):\\n        print(\"hello\")\\n    def f():\\n        print(\"f\")\\n    ',\n",
       " '_i64': 'a = A()',\n",
       " '_i65': 'a.hello.__self__',\n",
       " '_65': <__main__.A at 0x7feb28954d00>,\n",
       " '_i66': 'a.hello.__self__.f()',\n",
       " '_i67': 'class A:\\n    def hello(self):\\n        print(\"hello\")\\n    def f(self):\\n        print(\"f\")\\n    ',\n",
       " '_i68': 'a = A()',\n",
       " '_i69': 'a.hello.__self__.f()',\n",
       " '_i70': 'a.hello.__self__.hello.__self__.hello()',\n",
       " '_i71': 'help(print)',\n",
       " '_i72': 'c = d = []',\n",
       " 'c': [],\n",
       " 'd': [],\n",
       " '_i73': 'c',\n",
       " '_73': [],\n",
       " '_i74': 'd',\n",
       " '_74': [],\n",
       " '_i75': 'c is d',\n",
       " '_75': True,\n",
       " '_i76': 'if c=[]:\\n    print(\"ooo\")',\n",
       " '_i77': 'if c:=[]:\\n    print(\"ooo\")',\n",
       " '_i78': 'import sys',\n",
       " 'sys': <module 'sys' (built-in)>,\n",
       " '_i79': 'sys.modules',\n",
       " '_79': {'sys': <module 'sys' (built-in)>,\n",
       "  'builtins': <module 'builtins' (built-in)>,\n",
       "  '_frozen_importlib': <module '_frozen_importlib' (frozen)>,\n",
       "  '_imp': <module '_imp' (built-in)>,\n",
       "  '_thread': <module '_thread' (built-in)>,\n",
       "  '_warnings': <module '_warnings' (built-in)>,\n",
       "  '_weakref': <module '_weakref' (built-in)>,\n",
       "  '_io': <module '_io' (built-in)>,\n",
       "  'marshal': <module 'marshal' (built-in)>,\n",
       "  'posix': <module 'posix' (built-in)>,\n",
       "  '_frozen_importlib_external': <module '_frozen_importlib_external' (frozen)>,\n",
       "  'time': <module 'time' (built-in)>,\n",
       "  'zipimport': <module 'zipimport' (frozen)>,\n",
       "  '_codecs': <module '_codecs' (built-in)>,\n",
       "  'codecs': <module 'codecs' from '/Users/junix/miniconda3/envs/py310/lib/python3.10/codecs.py'>,\n",
       "  'encodings.aliases': <module 'encodings.aliases' from '/Users/junix/miniconda3/envs/py310/lib/python3.10/encodings/aliases.py'>,\n",
       "  'encodings': <module 'encodings' from '/Users/junix/miniconda3/envs/py310/lib/python3.10/encodings/__init__.py'>,\n",
       "  'encodings.utf_8': <module 'encodings.utf_8' from '/Users/junix/miniconda3/envs/py310/lib/python3.10/encodings/utf_8.py'>,\n",
       "  '_signal': <module '_signal' (built-in)>,\n",
       "  '_abc': <module '_abc' (built-in)>,\n",
       "  'abc': <module 'abc' from '/Users/junix/miniconda3/envs/py310/lib/python3.10/abc.py'>,\n",
       "  'io': <module 'io' from '/Users/junix/miniconda3/envs/py310/lib/python3.10/io.py'>,\n",
       "  '__main__': <module '__main__'>,\n",
       "  '_stat': <module '_stat' (built-in)>,\n",
       "  'stat': <module 'stat' from '/Users/junix/miniconda3/envs/py310/lib/python3.10/stat.py'>,\n",
       "  '_collections_abc': <module '_collections_abc' from '/Users/junix/miniconda3/envs/py310/lib/python3.10/_collections_abc.py'>,\n",
       "  'genericpath': <module 'genericpath' from '/Users/junix/miniconda3/envs/py310/lib/python3.10/genericpath.py'>,\n",
       "  'posixpath': <module 'posixpath' from '/Users/junix/miniconda3/envs/py310/lib/python3.10/posixpath.py'>,\n",
       "  'os.path': <module 'posixpath' from '/Users/junix/miniconda3/envs/py310/lib/python3.10/posixpath.py'>,\n",
       "  'os': <module 'os' from '/Users/junix/miniconda3/envs/py310/lib/python3.10/os.py'>,\n",
       "  '_sitebuiltins': <module '_sitebuiltins' from '/Users/junix/miniconda3/envs/py310/lib/python3.10/_sitebuiltins.py'>,\n",
       "  '_distutils_hack': <module '_distutils_hack' from '/Users/junix/miniconda3/envs/py310/lib/python3.10/site-packages/_distutils_hack/__init__.py'>,\n",
       "  'site': <module 'site' from '/Users/junix/miniconda3/envs/py310/lib/python3.10/site.py'>,\n",
       "  'importlib._bootstrap': <module '_frozen_importlib' (frozen)>,\n",
       "  'importlib._bootstrap_external': <module '_frozen_importlib_external' (frozen)>,\n",
       "  'warnings': <module 'warnings' from '/Users/junix/miniconda3/envs/py310/lib/python3.10/warnings.py'>,\n",
       "  'importlib': <module 'importlib' from '/Users/junix/miniconda3/envs/py310/lib/python3.10/importlib/__init__.py'>,\n",
       "  'importlib.machinery': <module 'importlib.machinery' from '/Users/junix/miniconda3/envs/py310/lib/python3.10/importlib/machinery.py'>,\n",
       "  'importlib._abc': <module 'importlib._abc' from '/Users/junix/miniconda3/envs/py310/lib/python3.10/importlib/_abc.py'>,\n",
       "  'itertools': <module 'itertools' (built-in)>,\n",
       "  'keyword': <module 'keyword' from '/Users/junix/miniconda3/envs/py310/lib/python3.10/keyword.py'>,\n",
       "  '_operator': <module '_operator' (built-in)>,\n",
       "  'operator': <module 'operator' from '/Users/junix/miniconda3/envs/py310/lib/python3.10/operator.py'>,\n",
       "  'reprlib': <module 'reprlib' from '/Users/junix/miniconda3/envs/py310/lib/python3.10/reprlib.py'>,\n",
       "  '_collections': <module '_collections' (built-in)>,\n",
       "  'collections': <module 'collections' from '/Users/junix/miniconda3/envs/py310/lib/python3.10/collections/__init__.py'>,\n",
       "  'types': <module 'types' from '/Users/junix/miniconda3/envs/py310/lib/python3.10/types.py'>,\n",
       "  '_functools': <module '_functools' (built-in)>,\n",
       "  'functools': <module 'functools' from '/Users/junix/miniconda3/envs/py310/lib/python3.10/functools.py'>,\n",
       "  'contextlib': <module 'contextlib' from '/Users/junix/miniconda3/envs/py310/lib/python3.10/contextlib.py'>,\n",
       "  'importlib.util': <module 'importlib.util' from '/Users/junix/miniconda3/envs/py310/lib/python3.10/importlib/util.py'>,\n",
       "  'runpy': <module 'runpy' from '/Users/junix/miniconda3/envs/py310/lib/python3.10/runpy.py'>,\n",
       "  'enum': <module 'enum' from '/Users/junix/miniconda3/envs/py310/lib/python3.10/enum.py'>,\n",
       "  '_sre': <module '_sre' (built-in)>,\n",
       "  'sre_constants': <module 'sre_constants' from '/Users/junix/miniconda3/envs/py310/lib/python3.10/sre_constants.py'>,\n",
       "  'sre_parse': <module 'sre_parse' from '/Users/junix/miniconda3/envs/py310/lib/python3.10/sre_parse.py'>,\n",
       "  'sre_compile': <module 'sre_compile' from '/Users/junix/miniconda3/envs/py310/lib/python3.10/sre_compile.py'>,\n",
       "  '_locale': <module '_locale' (built-in)>,\n",
       "  'copyreg': <module 'copyreg' from '/Users/junix/miniconda3/envs/py310/lib/python3.10/copyreg.py'>,\n",
       "  're': <module 're' from '/Users/junix/miniconda3/envs/py310/lib/python3.10/re.py'>,\n",
       "  'collections.abc': <module 'collections.abc' from '/Users/junix/miniconda3/envs/py310/lib/python3.10/collections/abc.py'>,\n",
       "  'typing.io': typing.io,\n",
       "  'typing.re': typing.re,\n",
       "  'typing': <module 'typing' from '/Users/junix/miniconda3/envs/py310/lib/python3.10/typing.py'>,\n",
       "  'ipykernel._version': <module 'ipykernel._version' from '/Users/junix/miniconda3/envs/py310/lib/python3.10/site-packages/ipykernel/_version.py'>,\n",
       "  '_json': <module '_json' from '/Users/junix/miniconda3/envs/py310/lib/python3.10/lib-dynload/_json.cpython-310-darwin.so'>,\n",
       "  'json.scanner': <module 'json.scanner' from '/Users/junix/miniconda3/envs/py310/lib/python3.10/json/scanner.py'>,\n",
       "  'json.decoder': <module 'json.decoder' from '/Users/junix/miniconda3/envs/py310/lib/python3.10/json/decoder.py'>,\n",
       "  'json.encoder': <module 'json.encoder' from '/Users/junix/miniconda3/envs/py310/lib/python3.10/json/encoder.py'>,\n",
       "  'json': <module 'json' from '/Users/junix/miniconda3/envs/py310/lib/python3.10/json/__init__.py'>,\n",
       "  'errno': <module 'errno' (built-in)>,\n",
       "  'signal': <module 'signal' from '/Users/junix/miniconda3/envs/py310/lib/python3.10/signal.py'>,\n",
       "  '_weakrefset': <module '_weakrefset' from '/Users/junix/miniconda3/envs/py310/lib/python3.10/_weakrefset.py'>,\n",
       "  'threading': <module 'threading' from '/Users/junix/miniconda3/envs/py310/lib/python3.10/threading.py'>,\n",
       "  'fcntl': <module 'fcntl' from '/Users/junix/miniconda3/envs/py310/lib/python3.10/lib-dynload/fcntl.cpython-310-darwin.so'>,\n",
       "  '_posixsubprocess': <module '_posixsubprocess' from '/Users/junix/miniconda3/envs/py310/lib/python3.10/lib-dynload/_posixsubprocess.cpython-310-darwin.so'>,\n",
       "  'select': <module 'select' from '/Users/junix/miniconda3/envs/py310/lib/python3.10/lib-dynload/select.cpython-310-darwin.so'>,\n",
       "  'math': <module 'math' from '/Users/junix/miniconda3/envs/py310/lib/python3.10/lib-dynload/math.cpython-310-darwin.so'>,\n",
       "  'selectors': <module 'selectors' from '/Users/junix/miniconda3/envs/py310/lib/python3.10/selectors.py'>,\n",
       "  'subprocess': <module 'subprocess' from '/Users/junix/miniconda3/envs/py310/lib/python3.10/subprocess.py'>,\n",
       "  'jupyter_client._version': <module 'jupyter_client._version' from '/Users/junix/miniconda3/envs/py310/lib/python3.10/site-packages/jupyter_client/_version.py'>,\n",
       "  '_ast': <module '_ast' (built-in)>,\n",
       "  'ast': <module 'ast' from '/Users/junix/miniconda3/envs/py310/lib/python3.10/ast.py'>,\n",
       "  '_opcode': <module '_opcode' from '/Users/junix/miniconda3/envs/py310/lib/python3.10/lib-dynload/_opcode.cpython-310-darwin.so'>,\n",
       "  'opcode': <module 'opcode' from '/Users/junix/miniconda3/envs/py310/lib/python3.10/opcode.py'>,\n",
       "  'dis': <module 'dis' from '/Users/junix/miniconda3/envs/py310/lib/python3.10/dis.py'>,\n",
       "  'token': <module 'token' from '/Users/junix/miniconda3/envs/py310/lib/python3.10/token.py'>,\n",
       "  'tokenize': <module 'tokenize' from '/Users/junix/miniconda3/envs/py310/lib/python3.10/tokenize.py'>,\n",
       "  'linecache': <module 'linecache' from '/Users/junix/miniconda3/envs/py310/lib/python3.10/linecache.py'>,\n",
       "  'inspect': <module 'inspect' from '/Users/junix/miniconda3/envs/py310/lib/python3.10/inspect.py'>,\n",
       "  'traitlets.utils': <module 'traitlets.utils' from '/Users/junix/miniconda3/envs/py310/lib/python3.10/site-packages/traitlets/utils/__init__.py'>,\n",
       "  'traitlets.utils.bunch': <module 'traitlets.utils.bunch' from '/Users/junix/miniconda3/envs/py310/lib/python3.10/site-packages/traitlets/utils/bunch.py'>,\n",
       "  'traitlets.utils.descriptions': <module 'traitlets.utils.descriptions' from '/Users/junix/miniconda3/envs/py310/lib/python3.10/site-packages/traitlets/utils/descriptions.py'>,\n",
       "  'traitlets.utils.getargspec': <module 'traitlets.utils.getargspec' from '/Users/junix/miniconda3/envs/py310/lib/python3.10/site-packages/traitlets/utils/getargspec.py'>,\n",
       "  'traitlets.utils.importstring': <module 'traitlets.utils.importstring' from '/Users/junix/miniconda3/envs/py310/lib/python3.10/site-packages/traitlets/utils/importstring.py'>,\n",
       "  'traitlets.utils.sentinel': <module 'traitlets.utils.sentinel' from '/Users/junix/miniconda3/envs/py310/lib/python3.10/site-packages/traitlets/utils/sentinel.py'>,\n",
       "  'traitlets.traitlets': <module 'traitlets.traitlets' from '/Users/junix/miniconda3/envs/py310/lib/python3.10/site-packages/traitlets/traitlets.py'>,\n",
       "  'traitlets._version': <module 'traitlets._version' from '/Users/junix/miniconda3/envs/py310/lib/python3.10/site-packages/traitlets/_version.py'>,\n",
       "  'weakref': <module 'weakref' from '/Users/junix/miniconda3/envs/py310/lib/python3.10/weakref.py'>,\n",
       "  'copy': <module 'copy' from '/Users/junix/miniconda3/envs/py310/lib/python3.10/copy.py'>,\n",
       "  'traitlets.utils.decorators': <module 'traitlets.utils.decorators' from '/Users/junix/miniconda3/envs/py310/lib/python3.10/site-packages/traitlets/utils/decorators.py'>,\n",
       "  'traitlets': <module 'traitlets' from '/Users/junix/miniconda3/envs/py310/lib/python3.10/site-packages/traitlets/__init__.py'>,\n",
       "  'concurrent': <module 'concurrent' from '/Users/junix/miniconda3/envs/py310/lib/python3.10/concurrent/__init__.py'>,\n",
       "  'traceback': <module 'traceback' from '/Users/junix/miniconda3/envs/py310/lib/python3.10/traceback.py'>,\n",
       "  '_string': <module '_string' (built-in)>,\n",
       "  'string': <module 'string' from '/Users/junix/miniconda3/envs/py310/lib/python3.10/string.py'>,\n",
       "  'atexit': <module 'atexit' (built-in)>,\n",
       "  'logging': <module 'logging' from '/Users/junix/miniconda3/envs/py310/lib/python3.10/logging/__init__.py'>,\n",
       "  'concurrent.futures._base': <module 'concurrent.futures._base' from '/Users/junix/miniconda3/envs/py310/lib/python3.10/concurrent/futures/_base.py'>,\n",
       "  'concurrent.futures': <module 'concurrent.futures' from '/Users/junix/miniconda3/envs/py310/lib/python3.10/concurrent/futures/__init__.py'>,\n",
       "  '_heapq': <module '_heapq' from '/Users/junix/miniconda3/envs/py310/lib/python3.10/lib-dynload/_heapq.cpython-310-darwin.so'>,\n",
       "  'heapq': <module 'heapq' from '/Users/junix/miniconda3/envs/py310/lib/python3.10/heapq.py'>,\n",
       "  '_socket': <module '_socket' from '/Users/junix/miniconda3/envs/py310/lib/python3.10/lib-dynload/_socket.cpython-310-darwin.so'>,\n",
       "  'array': <module 'array' from '/Users/junix/miniconda3/envs/py310/lib/python3.10/lib-dynload/array.cpython-310-darwin.so'>,\n",
       "  'socket': <module 'socket' from '/Users/junix/miniconda3/envs/py310/lib/python3.10/socket.py'>,\n",
       "  '_ssl': <module '_ssl' from '/Users/junix/miniconda3/envs/py310/lib/python3.10/lib-dynload/_ssl.cpython-310-darwin.so'>,\n",
       "  '_struct': <module '_struct' from '/Users/junix/miniconda3/envs/py310/lib/python3.10/lib-dynload/_struct.cpython-310-darwin.so'>,\n",
       "  'struct': <module 'struct' from '/Users/junix/miniconda3/envs/py310/lib/python3.10/struct.py'>,\n",
       "  'binascii': <module 'binascii' from '/Users/junix/miniconda3/envs/py310/lib/python3.10/lib-dynload/binascii.cpython-310-darwin.so'>,\n",
       "  'base64': <module 'base64' from '/Users/junix/miniconda3/envs/py310/lib/python3.10/base64.py'>,\n",
       "  'ssl': <module 'ssl' from '/Users/junix/miniconda3/envs/py310/lib/python3.10/ssl.py'>,\n",
       "  'asyncio.constants': <module 'asyncio.constants' from '/Users/junix/miniconda3/envs/py310/lib/python3.10/asyncio/constants.py'>,\n",
       "  'asyncio.format_helpers': <module 'asyncio.format_helpers' from '/Users/junix/miniconda3/envs/py310/lib/python3.10/asyncio/format_helpers.py'>,\n",
       "  'asyncio.base_futures': <module 'asyncio.base_futures' from '/Users/junix/miniconda3/envs/py310/lib/python3.10/asyncio/base_futures.py'>,\n",
       "  'asyncio.log': <module 'asyncio.log' from '/Users/junix/miniconda3/envs/py310/lib/python3.10/asyncio/log.py'>,\n",
       "  'asyncio.coroutines': <module 'asyncio.coroutines' from '/Users/junix/miniconda3/envs/py310/lib/python3.10/asyncio/coroutines.py'>,\n",
       "  '_contextvars': <module '_contextvars' from '/Users/junix/miniconda3/envs/py310/lib/python3.10/lib-dynload/_contextvars.cpython-310-darwin.so'>,\n",
       "  'contextvars': <module 'contextvars' from '/Users/junix/miniconda3/envs/py310/lib/python3.10/contextvars.py'>,\n",
       "  'asyncio.exceptions': <module 'asyncio.exceptions' from '/Users/junix/miniconda3/envs/py310/lib/python3.10/asyncio/exceptions.py'>,\n",
       "  'asyncio.base_tasks': <module 'asyncio.base_tasks' from '/Users/junix/miniconda3/envs/py310/lib/python3.10/asyncio/base_tasks.py'>,\n",
       "  '_asyncio': <module '_asyncio' from '/Users/junix/miniconda3/envs/py310/lib/python3.10/lib-dynload/_asyncio.cpython-310-darwin.so'>,\n",
       "  'asyncio.events': <module 'asyncio.events' from '/Users/junix/miniconda3/envs/py310/lib/python3.10/asyncio/events.py'>,\n",
       "  'asyncio.futures': <module 'asyncio.futures' from '/Users/junix/miniconda3/envs/py310/lib/python3.10/asyncio/futures.py'>,\n",
       "  'asyncio.protocols': <module 'asyncio.protocols' from '/Users/junix/miniconda3/envs/py310/lib/python3.10/asyncio/protocols.py'>,\n",
       "  'asyncio.transports': <module 'asyncio.transports' from '/Users/junix/miniconda3/envs/py310/lib/python3.10/asyncio/transports.py'>,\n",
       "  'asyncio.sslproto': <module 'asyncio.sslproto' from '/Users/junix/miniconda3/envs/py310/lib/python3.10/asyncio/sslproto.py'>,\n",
       "  'asyncio.mixins': <module 'asyncio.mixins' from '/Users/junix/miniconda3/envs/py310/lib/python3.10/asyncio/mixins.py'>,\n",
       "  'asyncio.tasks': <module 'asyncio.tasks' from '/Users/junix/miniconda3/envs/py310/lib/python3.10/asyncio/tasks.py'>,\n",
       "  'asyncio.locks': <module 'asyncio.locks' from '/Users/junix/miniconda3/envs/py310/lib/python3.10/asyncio/locks.py'>,\n",
       "  'asyncio.staggered': <module 'asyncio.staggered' from '/Users/junix/miniconda3/envs/py310/lib/python3.10/asyncio/staggered.py'>,\n",
       "  'asyncio.trsock': <module 'asyncio.trsock' from '/Users/junix/miniconda3/envs/py310/lib/python3.10/asyncio/trsock.py'>,\n",
       "  'asyncio.base_events': <module 'asyncio.base_events' from '/Users/junix/miniconda3/envs/py310/lib/python3.10/asyncio/base_events.py'>,\n",
       "  'asyncio.runners': <module 'asyncio.runners' from '/Users/junix/miniconda3/envs/py310/lib/python3.10/asyncio/runners.py'>,\n",
       "  'asyncio.queues': <module 'asyncio.queues' from '/Users/junix/miniconda3/envs/py310/lib/python3.10/asyncio/queues.py'>,\n",
       "  'asyncio.streams': <module 'asyncio.streams' from '/Users/junix/miniconda3/envs/py310/lib/python3.10/asyncio/streams.py'>,\n",
       "  'asyncio.subprocess': <module 'asyncio.subprocess' from '/Users/junix/miniconda3/envs/py310/lib/python3.10/asyncio/subprocess.py'>,\n",
       "  'asyncio.threads': <module 'asyncio.threads' from '/Users/junix/miniconda3/envs/py310/lib/python3.10/asyncio/threads.py'>,\n",
       "  'asyncio.base_subprocess': <module 'asyncio.base_subprocess' from '/Users/junix/miniconda3/envs/py310/lib/python3.10/asyncio/base_subprocess.py'>,\n",
       "  'asyncio.selector_events': <module 'asyncio.selector_events' from '/Users/junix/miniconda3/envs/py310/lib/python3.10/asyncio/selector_events.py'>,\n",
       "  'asyncio.unix_events': <module 'asyncio.unix_events' from '/Users/junix/miniconda3/envs/py310/lib/python3.10/asyncio/unix_events.py'>,\n",
       "  'asyncio': <module 'asyncio' from '/Users/junix/miniconda3/envs/py310/lib/python3.10/asyncio/__init__.py'>,\n",
       "  '_queue': <module '_queue' from '/Users/junix/miniconda3/envs/py310/lib/python3.10/lib-dynload/_queue.cpython-310-darwin.so'>,\n",
       "  'queue': <module 'queue' from '/Users/junix/miniconda3/envs/py310/lib/python3.10/queue.py'>,\n",
       "  'platform': <module 'platform' from '/Users/junix/miniconda3/envs/py310/lib/python3.10/platform.py'>,\n",
       "  '_ctypes': <module '_ctypes' from '/Users/junix/miniconda3/envs/py310/lib/python3.10/lib-dynload/_ctypes.cpython-310-darwin.so'>,\n",
       "  'ctypes._endian': <module 'ctypes._endian' from '/Users/junix/miniconda3/envs/py310/lib/python3.10/ctypes/_endian.py'>,\n",
       "  'ctypes': <module 'ctypes' from '/Users/junix/miniconda3/envs/py310/lib/python3.10/ctypes/__init__.py'>,\n",
       "  'zmq.backend.select': <module 'zmq.backend.select' from '/Users/junix/miniconda3/envs/py310/lib/python3.10/site-packages/zmq/backend/select.py'>,\n",
       "  '_cython_0_29_30': <module '_cython_0_29_30'>,\n",
       "  'cython_runtime': <module 'cython_runtime'>,\n",
       "  'zmq.error': <module 'zmq.error' from '/Users/junix/miniconda3/envs/py310/lib/python3.10/site-packages/zmq/error.py'>,\n",
       "  'zmq.backend.cython.context': <module 'zmq.backend.cython.context' from '/Users/junix/miniconda3/envs/py310/lib/python3.10/site-packages/zmq/backend/cython/context.cpython-310-darwin.so'>,\n",
       "  'zmq.backend.cython.message': <module 'zmq.backend.cython.message' from '/Users/junix/miniconda3/envs/py310/lib/python3.10/site-packages/zmq/backend/cython/message.cpython-310-darwin.so'>,\n",
       "  '_bisect': <module '_bisect' from '/Users/junix/miniconda3/envs/py310/lib/python3.10/lib-dynload/_bisect.cpython-310-darwin.so'>,\n",
       "  'bisect': <module 'bisect' from '/Users/junix/miniconda3/envs/py310/lib/python3.10/bisect.py'>,\n",
       "  '_random': <module '_random' from '/Users/junix/miniconda3/envs/py310/lib/python3.10/lib-dynload/_random.cpython-310-darwin.so'>,\n",
       "  '_sha512': <module '_sha512' from '/Users/junix/miniconda3/envs/py310/lib/python3.10/lib-dynload/_sha512.cpython-310-darwin.so'>,\n",
       "  'random': <module 'random' from '/Users/junix/miniconda3/envs/py310/lib/python3.10/random.py'>,\n",
       "  '_compat_pickle': <module '_compat_pickle' from '/Users/junix/miniconda3/envs/py310/lib/python3.10/_compat_pickle.py'>,\n",
       "  '_pickle': <module '_pickle' from '/Users/junix/miniconda3/envs/py310/lib/python3.10/lib-dynload/_pickle.cpython-310-darwin.so'>,\n",
       "  'pickle': <module 'pickle' from '/Users/junix/miniconda3/envs/py310/lib/python3.10/pickle.py'>,\n",
       "  'zmq.constants': <module 'zmq.constants' from '/Users/junix/miniconda3/envs/py310/lib/python3.10/site-packages/zmq/constants.py'>,\n",
       "  'zmq.backend.cython.socket': <module 'zmq.backend.cython.socket' from '/Users/junix/miniconda3/envs/py310/lib/python3.10/site-packages/zmq/backend/cython/socket.cpython-310-darwin.so'>,\n",
       "  'zmq.backend.cython._device': <module 'zmq.backend.cython._device' from '/Users/junix/miniconda3/envs/py310/lib/python3.10/site-packages/zmq/backend/cython/_device.cpython-310-darwin.so'>,\n",
       "  'zmq.backend.cython._poll': <module 'zmq.backend.cython._poll' from '/Users/junix/miniconda3/envs/py310/lib/python3.10/site-packages/zmq/backend/cython/_poll.cpython-310-darwin.so'>,\n",
       "  'zmq.backend.cython._proxy_steerable': <module 'zmq.backend.cython._proxy_steerable' from '/Users/junix/miniconda3/envs/py310/lib/python3.10/site-packages/zmq/backend/cython/_proxy_steerable.cpython-310-darwin.so'>,\n",
       "  'zmq.backend.cython._version': <module 'zmq.backend.cython._version' from '/Users/junix/miniconda3/envs/py310/lib/python3.10/site-packages/zmq/backend/cython/_version.cpython-310-darwin.so'>,\n",
       "  'zmq.backend.cython.error': <module 'zmq.backend.cython.error' from '/Users/junix/miniconda3/envs/py310/lib/python3.10/site-packages/zmq/backend/cython/error.cpython-310-darwin.so'>,\n",
       "  'zmq.backend.cython.utils': <module 'zmq.backend.cython.utils' from '/Users/junix/miniconda3/envs/py310/lib/python3.10/site-packages/zmq/backend/cython/utils.cpython-310-darwin.so'>,\n",
       "  'zmq.backend.cython': <module 'zmq.backend.cython' from '/Users/junix/miniconda3/envs/py310/lib/python3.10/site-packages/zmq/backend/cython/__init__.py'>,\n",
       "  'zmq.backend': <module 'zmq.backend' from '/Users/junix/miniconda3/envs/py310/lib/python3.10/site-packages/zmq/backend/__init__.py'>,\n",
       "  'zmq.sugar.attrsettr': <module 'zmq.sugar.attrsettr' from '/Users/junix/miniconda3/envs/py310/lib/python3.10/site-packages/zmq/sugar/attrsettr.py'>,\n",
       "  'zmq._typing': <module 'zmq._typing' from '/Users/junix/miniconda3/envs/py310/lib/python3.10/site-packages/zmq/_typing.py'>,\n",
       "  'zmq.utils': <module 'zmq.utils' from '/Users/junix/miniconda3/envs/py310/lib/python3.10/site-packages/zmq/utils/__init__.py'>,\n",
       "  'zmq.utils.jsonapi': <module 'zmq.utils.jsonapi' from '/Users/junix/miniconda3/envs/py310/lib/python3.10/site-packages/zmq/utils/jsonapi.py'>,\n",
       "  'zmq.sugar.poll': <module 'zmq.sugar.poll' from '/Users/junix/miniconda3/envs/py310/lib/python3.10/site-packages/zmq/sugar/poll.py'>,\n",
       "  'zmq.sugar.socket': <module 'zmq.sugar.socket' from '/Users/junix/miniconda3/envs/py310/lib/python3.10/site-packages/zmq/sugar/socket.py'>,\n",
       "  'zmq.sugar.context': <module 'zmq.sugar.context' from '/Users/junix/miniconda3/envs/py310/lib/python3.10/site-packages/zmq/sugar/context.py'>,\n",
       "  'zmq.sugar.frame': <module 'zmq.sugar.frame' from '/Users/junix/miniconda3/envs/py310/lib/python3.10/site-packages/zmq/sugar/frame.py'>,\n",
       "  'zmq.sugar.tracker': <module 'zmq.sugar.tracker' from '/Users/junix/miniconda3/envs/py310/lib/python3.10/site-packages/zmq/sugar/tracker.py'>,\n",
       "  'zmq.sugar.version': <module 'zmq.sugar.version' from '/Users/junix/miniconda3/envs/py310/lib/python3.10/site-packages/zmq/sugar/version.py'>,\n",
       "  'zmq.sugar.stopwatch': <module 'zmq.sugar.stopwatch' from '/Users/junix/miniconda3/envs/py310/lib/python3.10/site-packages/zmq/sugar/stopwatch.py'>,\n",
       "  'zmq.sugar': <module 'zmq.sugar' from '/Users/junix/miniconda3/envs/py310/lib/python3.10/site-packages/zmq/sugar/__init__.py'>,\n",
       "  'zmq': <module 'zmq' from '/Users/junix/miniconda3/envs/py310/lib/python3.10/site-packages/zmq/__init__.py'>,\n",
       "  'zmq._future': <module 'zmq._future' from '/Users/junix/miniconda3/envs/py310/lib/python3.10/site-packages/zmq/_future.py'>,\n",
       "  'zmq.asyncio': <module 'zmq.asyncio' from '/Users/junix/miniconda3/envs/py310/lib/python3.10/site-packages/zmq/asyncio.py'>,\n",
       "  'jupyter_client.channelsabc': <module 'jupyter_client.channelsabc' from '/Users/junix/miniconda3/envs/py310/lib/python3.10/site-packages/jupyter_client/channelsabc.py'>,\n",
       "  '_hashlib': <module '_hashlib' from '/Users/junix/miniconda3/envs/py310/lib/python3.10/lib-dynload/_hashlib.cpython-310-darwin.so'>,\n",
       "  '_blake2': <module '_blake2' from '/Users/junix/miniconda3/envs/py310/lib/python3.10/lib-dynload/_blake2.cpython-310-darwin.so'>,\n",
       "  'hashlib': <module 'hashlib' from '/Users/junix/miniconda3/envs/py310/lib/python3.10/hashlib.py'>,\n",
       "  'hmac': <module 'hmac' from '/Users/junix/miniconda3/envs/py310/lib/python3.10/hmac.py'>,\n",
       "  'dataclasses': <module 'dataclasses' from '/Users/junix/miniconda3/envs/py310/lib/python3.10/dataclasses.py'>,\n",
       "  'pprint': <module 'pprint' from '/Users/junix/miniconda3/envs/py310/lib/python3.10/pprint.py'>,\n",
       "  '_datetime': <module '_datetime' from '/Users/junix/miniconda3/envs/py310/lib/python3.10/lib-dynload/_datetime.cpython-310-darwin.so'>,\n",
       "  'datetime': <module 'datetime' from '/Users/junix/miniconda3/envs/py310/lib/python3.10/datetime.py'>,\n",
       "  'logging.handlers': <module 'logging.handlers' from '/Users/junix/miniconda3/envs/py310/lib/python3.10/logging/handlers.py'>,\n",
       "  'socketserver': <module 'socketserver' from '/Users/junix/miniconda3/envs/py310/lib/python3.10/socketserver.py'>,\n",
       "  'logging.config': <module 'logging.config' from '/Users/junix/miniconda3/envs/py310/lib/python3.10/logging/config.py'>,\n",
       "  'textwrap': <module 'textwrap' from '/Users/junix/miniconda3/envs/py310/lib/python3.10/textwrap.py'>,\n",
       "  'traitlets.utils.text': <module 'traitlets.utils.text' from '/Users/junix/miniconda3/envs/py310/lib/python3.10/site-packages/traitlets/utils/text.py'>,\n",
       "  'gettext': <module 'gettext' from '/Users/junix/miniconda3/envs/py310/lib/python3.10/gettext.py'>,\n",
       "  'argparse': <module 'argparse' from '/Users/junix/miniconda3/envs/py310/lib/python3.10/argparse.py'>,\n",
       "  'traitlets.config.loader': <module 'traitlets.config.loader' from '/Users/junix/miniconda3/envs/py310/lib/python3.10/site-packages/traitlets/config/loader.py'>,\n",
       "  'traitlets.config.configurable': <module 'traitlets.config.configurable' from '/Users/junix/miniconda3/envs/py310/lib/python3.10/site-packages/traitlets/config/configurable.py'>,\n",
       "  'traitlets.utils.nested_update': <module 'traitlets.utils.nested_update' from '/Users/junix/miniconda3/envs/py310/lib/python3.10/site-packages/traitlets/utils/nested_update.py'>,\n",
       "  'traitlets.config.application': <module 'traitlets.config.application' from '/Users/junix/miniconda3/envs/py310/lib/python3.10/site-packages/traitlets/config/application.py'>,\n",
       "  'traitlets.config': <module 'traitlets.config' from '/Users/junix/miniconda3/envs/py310/lib/python3.10/site-packages/traitlets/config/__init__.py'>,\n",
       "  'traitlets.log': <module 'traitlets.log' from '/Users/junix/miniconda3/envs/py310/lib/python3.10/site-packages/traitlets/log.py'>,\n",
       "  'tornado': <module 'tornado' from '/Users/junix/miniconda3/envs/py310/lib/python3.10/site-packages/tornado/__init__.py'>,\n",
       "  'numbers': <module 'numbers' from '/Users/junix/miniconda3/envs/py310/lib/python3.10/numbers.py'>,\n",
       "  'html.entities': <module 'html.entities' from '/Users/junix/miniconda3/envs/py310/lib/python3.10/html/entities.py'>,\n",
       "  'html': <module 'html' from '/Users/junix/miniconda3/envs/py310/lib/python3.10/html/__init__.py'>,\n",
       "  'urllib': <module 'urllib' from '/Users/junix/miniconda3/envs/py310/lib/python3.10/urllib/__init__.py'>,\n",
       "  'urllib.parse': <module 'urllib.parse' from '/Users/junix/miniconda3/envs/py310/lib/python3.10/urllib/parse.py'>,\n",
       "  'zlib': <module 'zlib' from '/Users/junix/miniconda3/envs/py310/lib/python3.10/lib-dynload/zlib.cpython-310-darwin.so'>,\n",
       "  'tornado.speedups': <module 'tornado.speedups' from '/Users/junix/miniconda3/envs/py310/lib/python3.10/site-packages/tornado/speedups.abi3.so'>,\n",
       "  'tornado.util': <module 'tornado.util' from '/Users/junix/miniconda3/envs/py310/lib/python3.10/site-packages/tornado/util.py'>,\n",
       "  'tornado.escape': <module 'tornado.escape' from '/Users/junix/miniconda3/envs/py310/lib/python3.10/site-packages/tornado/escape.py'>,\n",
       "  '_curses': <module '_curses' from '/Users/junix/miniconda3/envs/py310/lib/python3.10/lib-dynload/_curses.cpython-310-darwin.so'>,\n",
       "  'curses': <module 'curses' from '/Users/junix/miniconda3/envs/py310/lib/python3.10/curses/__init__.py'>,\n",
       "  'tornado.log': <module 'tornado.log' from '/Users/junix/miniconda3/envs/py310/lib/python3.10/site-packages/tornado/log.py'>,\n",
       "  'tornado.concurrent': <module 'tornado.concurrent' from '/Users/junix/miniconda3/envs/py310/lib/python3.10/site-packages/tornado/concurrent.py'>,\n",
       "  'tornado.ioloop': <module 'tornado.ioloop' from '/Users/junix/miniconda3/envs/py310/lib/python3.10/site-packages/tornado/ioloop.py'>,\n",
       "  'tornado.platform': <module 'tornado.platform' from '/Users/junix/miniconda3/envs/py310/lib/python3.10/site-packages/tornado/platform/__init__.py'>,\n",
       "  'tornado.gen': <module 'tornado.gen' from '/Users/junix/miniconda3/envs/py310/lib/python3.10/site-packages/tornado/gen.py'>,\n",
       "  'tornado.platform.asyncio': <module 'tornado.platform.asyncio' from '/Users/junix/miniconda3/envs/py310/lib/python3.10/site-packages/tornado/platform/asyncio.py'>,\n",
       "  'zmq.eventloop.ioloop': <module 'zmq.eventloop.ioloop' from '/Users/junix/miniconda3/envs/py310/lib/python3.10/site-packages/zmq/eventloop/ioloop.py'>,\n",
       "  'zmq.eventloop': <module 'zmq.eventloop' from '/Users/junix/miniconda3/envs/py310/lib/python3.10/site-packages/zmq/eventloop/__init__.py'>,\n",
       "  'zmq.eventloop.zmqstream': <module 'zmq.eventloop.zmqstream' from '/Users/junix/miniconda3/envs/py310/lib/python3.10/site-packages/zmq/eventloop/zmqstream.py'>,\n",
       "  'jupyter_client.adapter': <module 'jupyter_client.adapter' from '/Users/junix/miniconda3/envs/py310/lib/python3.10/site-packages/jupyter_client/adapter.py'>,\n",
       "  'dateutil._version': <module 'dateutil._version' from '/Users/junix/miniconda3/envs/py310/lib/python3.10/site-packages/dateutil/_version.py'>,\n",
       "  'dateutil': <module 'dateutil' from '/Users/junix/miniconda3/envs/py310/lib/python3.10/site-packages/dateutil/__init__.py'>,\n",
       "  '__future__': <module '__future__' from '/Users/junix/miniconda3/envs/py310/lib/python3.10/__future__.py'>,\n",
       "  'locale': <module 'locale' from '/Users/junix/miniconda3/envs/py310/lib/python3.10/locale.py'>,\n",
       "  'calendar': <module 'calendar' from '/Users/junix/miniconda3/envs/py310/lib/python3.10/calendar.py'>,\n",
       "  'six': <module 'six' from '/Users/junix/miniconda3/envs/py310/lib/python3.10/site-packages/six.py'>,\n",
       "  '_decimal': <module '_decimal' from '/Users/junix/miniconda3/envs/py310/lib/python3.10/lib-dynload/_decimal.cpython-310-darwin.so'>,\n",
       "  'decimal': <module 'decimal' from '/Users/junix/miniconda3/envs/py310/lib/python3.10/decimal.py'>,\n",
       "  'dateutil._common': <module 'dateutil._common' from '/Users/junix/miniconda3/envs/py310/lib/python3.10/site-packages/dateutil/_common.py'>,\n",
       "  'dateutil.relativedelta': <module 'dateutil.relativedelta' from '/Users/junix/miniconda3/envs/py310/lib/python3.10/site-packages/dateutil/relativedelta.py'>,\n",
       "  'six.moves': <module 'six.moves' (<six._SixMetaPathImporter object at 0x7feb181cd7e0>)>,\n",
       "  'dateutil.tz._common': <module 'dateutil.tz._common' from '/Users/junix/miniconda3/envs/py310/lib/python3.10/site-packages/dateutil/tz/_common.py'>,\n",
       "  'dateutil.tz._factories': <module 'dateutil.tz._factories' from '/Users/junix/miniconda3/envs/py310/lib/python3.10/site-packages/dateutil/tz/_factories.py'>,\n",
       "  'dateutil.tz.tz': <module 'dateutil.tz.tz' from '/Users/junix/miniconda3/envs/py310/lib/python3.10/site-packages/dateutil/tz/tz.py'>,\n",
       "  'dateutil.tz': <module 'dateutil.tz' from '/Users/junix/miniconda3/envs/py310/lib/python3.10/site-packages/dateutil/tz/__init__.py'>,\n",
       "  'dateutil.parser._parser': <module 'dateutil.parser._parser' from '/Users/junix/miniconda3/envs/py310/lib/python3.10/site-packages/dateutil/parser/_parser.py'>,\n",
       "  'dateutil.parser.isoparser': <module 'dateutil.parser.isoparser' from '/Users/junix/miniconda3/envs/py310/lib/python3.10/site-packages/dateutil/parser/isoparser.py'>,\n",
       "  'dateutil.parser': <module 'dateutil.parser' from '/Users/junix/miniconda3/envs/py310/lib/python3.10/site-packages/dateutil/parser/__init__.py'>,\n",
       "  '_strptime': <module '_strptime' from '/Users/junix/miniconda3/envs/py310/lib/python3.10/_strptime.py'>,\n",
       "  'jupyter_client.jsonutil': <module 'jupyter_client.jsonutil' from '/Users/junix/miniconda3/envs/py310/lib/python3.10/site-packages/jupyter_client/jsonutil.py'>,\n",
       "  'jupyter_client.session': <module 'jupyter_client.session' from '/Users/junix/miniconda3/envs/py310/lib/python3.10/site-packages/jupyter_client/session.py'>,\n",
       "  'jupyter_client.channels': <module 'jupyter_client.channels' from '/Users/junix/miniconda3/envs/py310/lib/python3.10/site-packages/jupyter_client/channels.py'>,\n",
       "  'termios': <module 'termios' from '/Users/junix/miniconda3/envs/py310/lib/python3.10/lib-dynload/termios.cpython-310-darwin.so'>,\n",
       "  'getpass': <module 'getpass' from '/Users/junix/miniconda3/envs/py310/lib/python3.10/getpass.py'>,\n",
       "  'jupyter_client.clientabc': <module 'jupyter_client.clientabc' from '/Users/junix/miniconda3/envs/py310/lib/python3.10/site-packages/jupyter_client/clientabc.py'>,\n",
       "  'fnmatch': <module 'fnmatch' from '/Users/junix/miniconda3/envs/py310/lib/python3.10/fnmatch.py'>,\n",
       "  'glob': <module 'glob' from '/Users/junix/miniconda3/envs/py310/lib/python3.10/glob.py'>,\n",
       "  '_compression': <module '_compression' from '/Users/junix/miniconda3/envs/py310/lib/python3.10/_compression.py'>,\n",
       "  '_bz2': <module '_bz2' from '/Users/junix/miniconda3/envs/py310/lib/python3.10/lib-dynload/_bz2.cpython-310-darwin.so'>,\n",
       "  'bz2': <module 'bz2' from '/Users/junix/miniconda3/envs/py310/lib/python3.10/bz2.py'>,\n",
       "  '_lzma': <module '_lzma' from '/Users/junix/miniconda3/envs/py310/lib/python3.10/lib-dynload/_lzma.cpython-310-darwin.so'>,\n",
       "  'lzma': <module 'lzma' from '/Users/junix/miniconda3/envs/py310/lib/python3.10/lzma.py'>,\n",
       "  'shutil': <module 'shutil' from '/Users/junix/miniconda3/envs/py310/lib/python3.10/shutil.py'>,\n",
       "  'tempfile': <module 'tempfile' from '/Users/junix/miniconda3/envs/py310/lib/python3.10/tempfile.py'>,\n",
       "  'jupyter_core.version': <module 'jupyter_core.version' from '/Users/junix/miniconda3/envs/py310/lib/python3.10/site-packages/jupyter_core/version.py'>,\n",
       "  'jupyter_core': <module 'jupyter_core' from '/Users/junix/miniconda3/envs/py310/lib/python3.10/site-packages/jupyter_core/__init__.py'>,\n",
       "  'ntpath': <module 'ntpath' from '/Users/junix/miniconda3/envs/py310/lib/python3.10/ntpath.py'>,\n",
       "  'pathlib': <module 'pathlib' from '/Users/junix/miniconda3/envs/py310/lib/python3.10/pathlib.py'>,\n",
       "  'platformdirs.api': <module 'platformdirs.api' from '/Users/junix/miniconda3/envs/py310/lib/python3.10/site-packages/platformdirs/api.py'>,\n",
       "  'platformdirs.version': <module 'platformdirs.version' from '/Users/junix/miniconda3/envs/py310/lib/python3.10/site-packages/platformdirs/version.py'>,\n",
       "  'platformdirs.macos': <module 'platformdirs.macos' from '/Users/junix/miniconda3/envs/py310/lib/python3.10/site-packages/platformdirs/macos.py'>,\n",
       "  'platformdirs': <module 'platformdirs' from '/Users/junix/miniconda3/envs/py310/lib/python3.10/site-packages/platformdirs/__init__.py'>,\n",
       "  'jupyter_core.utils': <module 'jupyter_core.utils' from '/Users/junix/miniconda3/envs/py310/lib/python3.10/site-packages/jupyter_core/utils/__init__.py'>,\n",
       "  'jupyter_core.paths': <module 'jupyter_core.paths' from '/Users/junix/miniconda3/envs/py310/lib/python3.10/site-packages/jupyter_core/paths.py'>,\n",
       "  'jupyter_client.localinterfaces': <module 'jupyter_client.localinterfaces' from '/Users/junix/miniconda3/envs/py310/lib/python3.10/site-packages/jupyter_client/localinterfaces.py'>,\n",
       "  'jupyter_client.utils': <module 'jupyter_client.utils' from '/Users/junix/miniconda3/envs/py310/lib/python3.10/site-packages/jupyter_client/utils.py'>,\n",
       "  'jupyter_client.connect': <module 'jupyter_client.connect' from '/Users/junix/miniconda3/envs/py310/lib/python3.10/site-packages/jupyter_client/connect.py'>,\n",
       "  'jupyter_client.client': <module 'jupyter_client.client' from '/Users/junix/miniconda3/envs/py310/lib/python3.10/site-packages/jupyter_client/client.py'>,\n",
       "  'jupyter_client.asynchronous.client': <module 'jupyter_client.asynchronous.client' from '/Users/junix/miniconda3/envs/py310/lib/python3.10/site-packages/jupyter_client/asynchronous/client.py'>,\n",
       "  'jupyter_client.asynchronous': <module 'jupyter_client.asynchronous' from '/Users/junix/miniconda3/envs/py310/lib/python3.10/site-packages/jupyter_client/asynchronous/__init__.py'>,\n",
       "  'jupyter_client.blocking.client': <module 'jupyter_client.blocking.client' from '/Users/junix/miniconda3/envs/py310/lib/python3.10/site-packages/jupyter_client/blocking/client.py'>,\n",
       "  'jupyter_client.blocking': <module 'jupyter_client.blocking' from '/Users/junix/miniconda3/envs/py310/lib/python3.10/site-packages/jupyter_client/blocking/__init__.py'>,\n",
       "  'jupyter_client.launcher': <module 'jupyter_client.launcher' from '/Users/junix/miniconda3/envs/py310/lib/python3.10/site-packages/jupyter_client/launcher.py'>,\n",
       "  '_uuid': <module '_uuid' from '/Users/junix/miniconda3/envs/py310/lib/python3.10/lib-dynload/_uuid.cpython-310-darwin.so'>,\n",
       "  'uuid': <module 'uuid' from '/Users/junix/miniconda3/envs/py310/lib/python3.10/uuid.py'>,\n",
       "  'jupyter_client.managerabc': <module 'jupyter_client.managerabc' from '/Users/junix/miniconda3/envs/py310/lib/python3.10/site-packages/jupyter_client/managerabc.py'>,\n",
       "  'zipfile': <module 'zipfile' from '/Users/junix/miniconda3/envs/py310/lib/python3.10/zipfile.py'>,\n",
       "  'configparser': <module 'configparser' from '/Users/junix/miniconda3/envs/py310/lib/python3.10/configparser.py'>,\n",
       "  'entrypoints': <module 'entrypoints' from '/Users/junix/miniconda3/envs/py310/lib/python3.10/site-packages/entrypoints.py'>,\n",
       "  'jupyter_client.provisioning.provisioner_base': <module 'jupyter_client.provisioning.provisioner_base' from '/Users/junix/miniconda3/envs/py310/lib/python3.10/site-packages/jupyter_client/provisioning/provisioner_base.py'>,\n",
       "  'jupyter_client.provisioning.factory': <module 'jupyter_client.provisioning.factory' from '/Users/junix/miniconda3/envs/py310/lib/python3.10/site-packages/jupyter_client/provisioning/factory.py'>,\n",
       "  'jupyter_client.provisioning.local_provisioner': <module 'jupyter_client.provisioning.local_provisioner' from '/Users/junix/miniconda3/envs/py310/lib/python3.10/site-packages/jupyter_client/provisioning/local_provisioner.py'>,\n",
       "  'jupyter_client.provisioning': <module 'jupyter_client.provisioning' from '/Users/junix/miniconda3/envs/py310/lib/python3.10/site-packages/jupyter_client/provisioning/__init__.py'>,\n",
       "  'jupyter_client.kernelspec': <module 'jupyter_client.kernelspec' from '/Users/junix/miniconda3/envs/py310/lib/python3.10/site-packages/jupyter_client/kernelspec.py'>,\n",
       "  'jupyter_client.manager': <module 'jupyter_client.manager' from '/Users/junix/miniconda3/envs/py310/lib/python3.10/site-packages/jupyter_client/manager.py'>,\n",
       "  'jupyter_client.multikernelmanager': <module 'jupyter_client.multikernelmanager' from '/Users/junix/miniconda3/envs/py310/lib/python3.10/site-packages/jupyter_client/multikernelmanager.py'>,\n",
       "  'jupyter_client': <module 'jupyter_client' from '/Users/junix/miniconda3/envs/py310/lib/python3.10/site-packages/jupyter_client/__init__.py'>,\n",
       "  'ipykernel.connect': <module 'ipykernel.connect' from '/Users/junix/miniconda3/envs/py310/lib/python3.10/site-packages/ipykernel/connect.py'>,\n",
       "  'ipykernel': <module 'ipykernel' from '/Users/junix/miniconda3/envs/py310/lib/python3.10/site-packages/ipykernel/__init__.py'>,\n",
       "  'IPython.core': <module 'IPython.core' from '/Users/junix/miniconda3/envs/py310/lib/python3.10/site-packages/IPython/core/__init__.py'>,\n",
       "  'IPython.core.getipython': <module 'IPython.core.getipython' from '/Users/junix/miniconda3/envs/py310/lib/python3.10/site-packages/IPython/core/getipython.py'>,\n",
       "  'IPython.core.release': <module 'IPython.core.release' from '/Users/junix/miniconda3/envs/py310/lib/python3.10/site-packages/IPython/core/release.py'>,\n",
       "  'pkgutil': <module 'pkgutil' from '/Users/junix/miniconda3/envs/py310/lib/python3.10/pkgutil.py'>,\n",
       "  'sysconfig': <module 'sysconfig' from '/Users/junix/miniconda3/envs/py310/lib/python3.10/sysconfig.py'>,\n",
       "  '_sysconfigdata__darwin_darwin': <module '_sysconfigdata__darwin_darwin' from '/Users/junix/miniconda3/envs/py310/lib/python3.10/_sysconfigdata__darwin_darwin.py'>,\n",
       "  '_osx_support': <module '_osx_support' from '/Users/junix/miniconda3/envs/py310/lib/python3.10/_osx_support.py'>,\n",
       "  'pydoc': <module 'pydoc' from '/Users/junix/miniconda3/envs/py310/lib/python3.10/pydoc.py'>,\n",
       "  'executing.executing': <module 'executing.executing' from '/Users/junix/miniconda3/envs/py310/lib/python3.10/site-packages/executing/executing.py'>,\n",
       "  'executing.version': <module 'executing.version' from '/Users/junix/miniconda3/envs/py310/lib/python3.10/site-packages/executing/version.py'>,\n",
       "  'executing': <module 'executing' from '/Users/junix/miniconda3/envs/py310/lib/python3.10/site-packages/executing/__init__.py'>,\n",
       "  'asttokens.line_numbers': <module 'asttokens.line_numbers' from '/Users/junix/miniconda3/envs/py310/lib/python3.10/site-packages/asttokens/line_numbers.py'>,\n",
       "  'asttokens.util': <module 'asttokens.util' from '/Users/junix/miniconda3/envs/py310/lib/python3.10/site-packages/asttokens/util.py'>,\n",
       "  'asttokens.mark_tokens': <module 'asttokens.mark_tokens' from '/Users/junix/miniconda3/envs/py310/lib/python3.10/site-packages/asttokens/mark_tokens.py'>,\n",
       "  'asttokens.asttokens': <module 'asttokens.asttokens' from '/Users/junix/miniconda3/envs/py310/lib/python3.10/site-packages/asttokens/asttokens.py'>,\n",
       "  'asttokens': <module 'asttokens' from '/Users/junix/miniconda3/envs/py310/lib/python3.10/site-packages/asttokens/__init__.py'>,\n",
       "  'fractions': <module 'fractions' from '/Users/junix/miniconda3/envs/py310/lib/python3.10/fractions.py'>,\n",
       "  'pure_eval.utils': <module 'pure_eval.utils' from '/Users/junix/miniconda3/envs/py310/lib/python3.10/site-packages/pure_eval/utils.py'>,\n",
       "  'pure_eval.my_getattr_static': <module 'pure_eval.my_getattr_static' from '/Users/junix/miniconda3/envs/py310/lib/python3.10/site-packages/pure_eval/my_getattr_static.py'>,\n",
       "  'pure_eval.core': <module 'pure_eval.core' from '/Users/junix/miniconda3/envs/py310/lib/python3.10/site-packages/pure_eval/core.py'>,\n",
       "  'pure_eval.version': <module 'pure_eval.version' from '/Users/junix/miniconda3/envs/py310/lib/python3.10/site-packages/pure_eval/version.py'>,\n",
       "  'pure_eval': <module 'pure_eval' from '/Users/junix/miniconda3/envs/py310/lib/python3.10/site-packages/pure_eval/__init__.py'>,\n",
       "  'stack_data.utils': <module 'stack_data.utils' from '/Users/junix/miniconda3/envs/py310/lib/python3.10/site-packages/stack_data/utils.py'>,\n",
       "  'stack_data.core': <module 'stack_data.core' from '/Users/junix/miniconda3/envs/py310/lib/python3.10/site-packages/stack_data/core.py'>,\n",
       "  'stack_data.formatting': <module 'stack_data.formatting' from '/Users/junix/miniconda3/envs/py310/lib/python3.10/site-packages/stack_data/formatting.py'>,\n",
       "  'stack_data.version': <module 'stack_data.version' from '/Users/junix/miniconda3/envs/py310/lib/python3.10/site-packages/stack_data/version.py'>,\n",
       "  'stack_data': <module 'stack_data' from '/Users/junix/miniconda3/envs/py310/lib/python3.10/site-packages/stack_data/__init__.py'>,\n",
       "  'pygments': <module 'pygments' from '/Users/junix/miniconda3/envs/py310/lib/python3.10/site-packages/pygments/__init__.py'>,\n",
       "  'pygments.formatters._mapping': <module 'pygments.formatters._mapping' from '/Users/junix/miniconda3/envs/py310/lib/python3.10/site-packages/pygments/formatters/_mapping.py'>,\n",
       "  'pygments.plugin': <module 'pygments.plugin' from '/Users/junix/miniconda3/envs/py310/lib/python3.10/site-packages/pygments/plugin.py'>,\n",
       "  'pygments.util': <module 'pygments.util' from '/Users/junix/miniconda3/envs/py310/lib/python3.10/site-packages/pygments/util.py'>,\n",
       "  'pygments.formatters': <module 'pygments.formatters' from '/Users/junix/miniconda3/envs/py310/lib/python3.10/site-packages/pygments/formatters/__init__.py'>,\n",
       "  'pygments.styles': <module 'pygments.styles' from '/Users/junix/miniconda3/envs/py310/lib/python3.10/site-packages/pygments/styles/__init__.py'>,\n",
       "  'pygments.formatter': <module 'pygments.formatter' from '/Users/junix/miniconda3/envs/py310/lib/python3.10/site-packages/pygments/formatter.py'>,\n",
       "  'pygments.console': <module 'pygments.console' from '/Users/junix/miniconda3/envs/py310/lib/python3.10/site-packages/pygments/console.py'>,\n",
       "  'pygments.token': <module 'pygments.token' from '/Users/junix/miniconda3/envs/py310/lib/python3.10/site-packages/pygments/token.py'>,\n",
       "  'pygments.style': <module 'pygments.style' from '/Users/junix/miniconda3/envs/py310/lib/python3.10/site-packages/pygments/style.py'>,\n",
       "  'pygments.formatters.terminal256': <module 'pygments.formatters.terminal256' from '/Users/junix/miniconda3/envs/py310/lib/python3.10/site-packages/pygments/formatters/terminal256.py'>,\n",
       "  'IPython.utils': <module 'IPython.utils' from '/Users/junix/miniconda3/envs/py310/lib/python3.10/site-packages/IPython/utils/__init__.py'>,\n",
       "  'IPython.utils.ipstruct': <module 'IPython.utils.ipstruct' from '/Users/junix/miniconda3/envs/py310/lib/python3.10/site-packages/IPython/utils/ipstruct.py'>,\n",
       "  'IPython.utils.coloransi': <module 'IPython.utils.coloransi' from '/Users/junix/miniconda3/envs/py310/lib/python3.10/site-packages/IPython/utils/coloransi.py'>,\n",
       "  'IPython.utils.colorable': <module 'IPython.utils.colorable' from '/Users/junix/miniconda3/envs/py310/lib/python3.10/site-packages/IPython/utils/colorable.py'>,\n",
       "  'IPython.utils.PyColorize': <module 'IPython.utils.PyColorize' from '/Users/junix/miniconda3/envs/py310/lib/python3.10/site-packages/IPython/utils/PyColorize.py'>,\n",
       "  'IPython.utils.encoding': <module 'IPython.utils.encoding' from '/Users/junix/miniconda3/envs/py310/lib/python3.10/site-packages/IPython/utils/encoding.py'>,\n",
       "  'IPython.utils.py3compat': <module 'IPython.utils.py3compat' from '/Users/junix/miniconda3/envs/py310/lib/python3.10/site-packages/IPython/utils/py3compat.py'>,\n",
       "  'IPython.core.excolors': <module 'IPython.core.excolors' from '/Users/junix/miniconda3/envs/py310/lib/python3.10/site-packages/IPython/core/excolors.py'>,\n",
       "  'cmd': <module 'cmd' from '/Users/junix/miniconda3/envs/py310/lib/python3.10/cmd.py'>,\n",
       "  'bdb': <module 'bdb' from '/Users/junix/miniconda3/envs/py310/lib/python3.10/bdb.py'>,\n",
       "  'codeop': <module 'codeop' from '/Users/junix/miniconda3/envs/py310/lib/python3.10/codeop.py'>,\n",
       "  'code': <module 'code' from '/Users/junix/miniconda3/envs/py310/lib/python3.10/code.py'>,\n",
       "  'pdb': <module 'pdb' from '/Users/junix/miniconda3/envs/py310/lib/python3.10/pdb.py'>,\n",
       "  'IPython.core.debugger': <module 'IPython.core.debugger' from '/Users/junix/miniconda3/envs/py310/lib/python3.10/site-packages/IPython/core/debugger.py'>,\n",
       "  'IPython.core.display_trap': <module 'IPython.core.display_trap' from '/Users/junix/miniconda3/envs/py310/lib/python3.10/site-packages/IPython/core/display_trap.py'>,\n",
       "  'pexpect.exceptions': <module 'pexpect.exceptions' from '/Users/junix/miniconda3/envs/py310/lib/python3.10/site-packages/pexpect/exceptions.py'>,\n",
       "  'pexpect.utils': <module 'pexpect.utils' from '/Users/junix/miniconda3/envs/py310/lib/python3.10/site-packages/pexpect/utils.py'>,\n",
       "  'pexpect.expect': <module 'pexpect.expect' from '/Users/junix/miniconda3/envs/py310/lib/python3.10/site-packages/pexpect/expect.py'>,\n",
       "  'tty': <module 'tty' from '/Users/junix/miniconda3/envs/py310/lib/python3.10/tty.py'>,\n",
       "  'pty': <module 'pty' from '/Users/junix/miniconda3/envs/py310/lib/python3.10/pty.py'>,\n",
       "  'resource': <module 'resource' from '/Users/junix/miniconda3/envs/py310/lib/python3.10/lib-dynload/resource.cpython-310-darwin.so'>,\n",
       "  'ptyprocess.util': <module 'ptyprocess.util' from '/Users/junix/miniconda3/envs/py310/lib/python3.10/site-packages/ptyprocess/util.py'>,\n",
       "  'ptyprocess.ptyprocess': <module 'ptyprocess.ptyprocess' from '/Users/junix/miniconda3/envs/py310/lib/python3.10/site-packages/ptyprocess/ptyprocess.py'>,\n",
       "  'ptyprocess': <module 'ptyprocess' from '/Users/junix/miniconda3/envs/py310/lib/python3.10/site-packages/ptyprocess/__init__.py'>,\n",
       "  'pexpect.spawnbase': <module 'pexpect.spawnbase' from '/Users/junix/miniconda3/envs/py310/lib/python3.10/site-packages/pexpect/spawnbase.py'>,\n",
       "  'pexpect.pty_spawn': <module 'pexpect.pty_spawn' from '/Users/junix/miniconda3/envs/py310/lib/python3.10/site-packages/pexpect/pty_spawn.py'>,\n",
       "  'pexpect.run': <module 'pexpect.run' from '/Users/junix/miniconda3/envs/py310/lib/python3.10/site-packages/pexpect/run.py'>,\n",
       "  'pexpect': <module 'pexpect' from '/Users/junix/miniconda3/envs/py310/lib/python3.10/site-packages/pexpect/__init__.py'>,\n",
       "  'shlex': <module 'shlex' from '/Users/junix/miniconda3/envs/py310/lib/python3.10/shlex.py'>,\n",
       "  'IPython.utils._process_common': <module 'IPython.utils._process_common' from '/Users/junix/miniconda3/envs/py310/lib/python3.10/site-packages/IPython/utils/_process_common.py'>,\n",
       "  'IPython.utils._process_posix': <module 'IPython.utils._process_posix' from '/Users/junix/miniconda3/envs/py310/lib/python3.10/site-packages/IPython/utils/_process_posix.py'>,\n",
       "  'IPython.utils.process': <module 'IPython.utils.process' from '/Users/junix/miniconda3/envs/py310/lib/python3.10/site-packages/IPython/utils/process.py'>,\n",
       "  'IPython.utils.path': <module 'IPython.utils.path' from '/Users/junix/miniconda3/envs/py310/lib/python3.10/site-packages/IPython/utils/path.py'>,\n",
       "  'IPython.utils.terminal': <module 'IPython.utils.terminal' from '/Users/junix/miniconda3/envs/py310/lib/python3.10/site-packages/IPython/utils/terminal.py'>,\n",
       "  'IPython.core.ultratb': <module 'IPython.core.ultratb' from '/Users/junix/miniconda3/envs/py310/lib/python3.10/site-packages/IPython/core/ultratb.py'>,\n",
       "  'IPython.utils._sysinfo': <module 'IPython.utils._sysinfo' from '/Users/junix/miniconda3/envs/py310/lib/python3.10/site-packages/IPython/utils/_sysinfo.py'>,\n",
       "  'IPython.utils.sysinfo': <module 'IPython.utils.sysinfo' from '/Users/junix/miniconda3/envs/py310/lib/python3.10/site-packages/IPython/utils/sysinfo.py'>,\n",
       "  'IPython.core.crashhandler': <module 'IPython.core.crashhandler' from '/Users/junix/miniconda3/envs/py310/lib/python3.10/site-packages/IPython/core/crashhandler.py'>,\n",
       "  'IPython.utils.importstring': <module 'IPython.utils.importstring' from '/Users/junix/miniconda3/envs/py310/lib/python3.10/site-packages/IPython/utils/importstring.py'>,\n",
       "  'IPython.paths': <module 'IPython.paths' from '/Users/junix/miniconda3/envs/py310/lib/python3.10/site-packages/IPython/paths.py'>,\n",
       "  'IPython.core.profiledir': <module 'IPython.core.profiledir' from '/Users/junix/miniconda3/envs/py310/lib/python3.10/site-packages/IPython/core/profiledir.py'>,\n",
       "  'IPython.core.application': <module 'IPython.core.application' from '/Users/junix/miniconda3/envs/py310/lib/python3.10/site-packages/IPython/core/application.py'>,\n",
       "  'IPython.terminal': <module 'IPython.terminal' from '/Users/junix/miniconda3/envs/py310/lib/python3.10/site-packages/IPython/terminal/__init__.py'>,\n",
       "  'IPython.core.compilerop': <module 'IPython.core.compilerop' from '/Users/junix/miniconda3/envs/py310/lib/python3.10/site-packages/IPython/core/compilerop.py'>,\n",
       "  'IPython.core.error': <module 'IPython.core.error' from '/Users/junix/miniconda3/envs/py310/lib/python3.10/site-packages/IPython/core/error.py'>,\n",
       "  'IPython.utils.docs': <module 'IPython.utils.docs' from '/Users/junix/miniconda3/envs/py310/lib/python3.10/site-packages/IPython/utils/docs.py'>,\n",
       "  'IPython.utils.decorators': <module 'IPython.utils.decorators' from '/Users/junix/miniconda3/envs/py310/lib/python3.10/site-packages/IPython/utils/decorators.py'>,\n",
       "  'IPython.utils.text': <module 'IPython.utils.text' from '/Users/junix/miniconda3/envs/py310/lib/python3.10/site-packages/IPython/utils/text.py'>,\n",
       "  'IPython.core.magic_arguments': <module 'IPython.core.magic_arguments' from '/Users/junix/miniconda3/envs/py310/lib/python3.10/site-packages/IPython/core/magic_arguments.py'>,\n",
       "  'getopt': <module 'getopt' from '/Users/junix/miniconda3/envs/py310/lib/python3.10/getopt.py'>,\n",
       "  'IPython.core.display_functions': <module 'IPython.core.display_functions' from '/Users/junix/miniconda3/envs/py310/lib/python3.10/site-packages/IPython/core/display_functions.py'>,\n",
       "  'mimetypes': <module 'mimetypes' from '/Users/junix/miniconda3/envs/py310/lib/python3.10/mimetypes.py'>,\n",
       "  'IPython.testing': <module 'IPython.testing' from '/Users/junix/miniconda3/envs/py310/lib/python3.10/site-packages/IPython/testing/__init__.py'>,\n",
       "  'IPython.testing.skipdoctest': <module 'IPython.testing.skipdoctest' from '/Users/junix/miniconda3/envs/py310/lib/python3.10/site-packages/IPython/testing/skipdoctest.py'>,\n",
       "  'IPython.core.display': <module 'IPython.core.display' from '/Users/junix/miniconda3/envs/py310/lib/python3.10/site-packages/IPython/core/display.py'>,\n",
       "  'IPython.lib': <module 'IPython.lib' from '/Users/junix/miniconda3/envs/py310/lib/python3.10/site-packages/IPython/lib/__init__.py'>,\n",
       "  'IPython.lib.display': <module 'IPython.lib.display' from '/Users/junix/miniconda3/envs/py310/lib/python3.10/site-packages/IPython/lib/display.py'>,\n",
       "  'IPython.display': <module 'IPython.display' from '/Users/junix/miniconda3/envs/py310/lib/python3.10/site-packages/IPython/display.py'>,\n",
       "  'IPython.utils.data': <module 'IPython.utils.data' from '/Users/junix/miniconda3/envs/py310/lib/python3.10/site-packages/IPython/utils/data.py'>,\n",
       "  'IPython.core.page': <module 'IPython.core.page' from '/Users/junix/miniconda3/envs/py310/lib/python3.10/site-packages/IPython/core/page.py'>,\n",
       "  'IPython.lib.pretty': <module 'IPython.lib.pretty' from '/Users/junix/miniconda3/envs/py310/lib/python3.10/site-packages/IPython/lib/pretty.py'>,\n",
       "  'IPython.utils.openpy': <module 'IPython.utils.openpy' from '/Users/junix/miniconda3/envs/py310/lib/python3.10/site-packages/IPython/utils/openpy.py'>,\n",
       "  'IPython.utils.dir2': <module 'IPython.utils.dir2' from '/Users/junix/miniconda3/envs/py310/lib/python3.10/site-packages/IPython/utils/dir2.py'>,\n",
       "  'IPython.utils.wildcard': <module 'IPython.utils.wildcard' from '/Users/junix/miniconda3/envs/py310/lib/python3.10/site-packages/IPython/utils/wildcard.py'>,\n",
       "  'pygments.lexers._mapping': <module 'pygments.lexers._mapping' from '/Users/junix/miniconda3/envs/py310/lib/python3.10/site-packages/pygments/lexers/_mapping.py'>,\n",
       "  'pygments.modeline': <module 'pygments.modeline' from '/Users/junix/miniconda3/envs/py310/lib/python3.10/site-packages/pygments/modeline.py'>,\n",
       "  'pygments.lexers': <module 'pygments.lexers' from '/Users/junix/miniconda3/envs/py310/lib/python3.10/site-packages/pygments/lexers/__init__.py'>,\n",
       "  'pygments.filter': <module 'pygments.filter' from '/Users/junix/miniconda3/envs/py310/lib/python3.10/site-packages/pygments/filter.py'>,\n",
       "  'pygments.filters': <module 'pygments.filters' from '/Users/junix/miniconda3/envs/py310/lib/python3.10/site-packages/pygments/filters/__init__.py'>,\n",
       "  'pygments.regexopt': <module 'pygments.regexopt' from '/Users/junix/miniconda3/envs/py310/lib/python3.10/site-packages/pygments/regexopt.py'>,\n",
       "  'pygments.lexer': <module 'pygments.lexer' from '/Users/junix/miniconda3/envs/py310/lib/python3.10/site-packages/pygments/lexer.py'>,\n",
       "  'pygments.unistring': <module 'pygments.unistring' from '/Users/junix/miniconda3/envs/py310/lib/python3.10/site-packages/pygments/unistring.py'>,\n",
       "  'pygments.lexers.python': <module 'pygments.lexers.python' from '/Users/junix/miniconda3/envs/py310/lib/python3.10/site-packages/pygments/lexers/python.py'>,\n",
       "  'pygments.formatters.html': <module 'pygments.formatters.html' from '/Users/junix/miniconda3/envs/py310/lib/python3.10/site-packages/pygments/formatters/html.py'>,\n",
       "  'IPython.core.oinspect': <module 'IPython.core.oinspect' from '/Users/junix/miniconda3/envs/py310/lib/python3.10/site-packages/IPython/core/oinspect.py'>,\n",
       "  'IPython.core.inputtransformer2': <module 'IPython.core.inputtransformer2' from '/Users/junix/miniconda3/envs/py310/lib/python3.10/site-packages/IPython/core/inputtransformer2.py'>,\n",
       "  'IPython.core.magic': <module 'IPython.core.magic' from '/Users/junix/miniconda3/envs/py310/lib/python3.10/site-packages/IPython/core/magic.py'>,\n",
       "  'pickleshare': <module 'pickleshare' from '/Users/junix/miniconda3/envs/py310/lib/python3.10/site-packages/pickleshare.py'>,\n",
       "  'IPython.core.hooks': <module 'IPython.core.hooks' from '/Users/junix/miniconda3/envs/py310/lib/python3.10/site-packages/IPython/core/hooks.py'>,\n",
       "  'IPython.core.autocall': <module 'IPython.core.autocall' from '/Users/junix/miniconda3/envs/py310/lib/python3.10/site-packages/IPython/core/autocall.py'>,\n",
       "  'IPython.core.macro': <module 'IPython.core.macro' from '/Users/junix/miniconda3/envs/py310/lib/python3.10/site-packages/IPython/core/macro.py'>,\n",
       "  'IPython.core.splitinput': <module 'IPython.core.splitinput' from '/Users/junix/miniconda3/envs/py310/lib/python3.10/site-packages/IPython/core/splitinput.py'>,\n",
       "  'IPython.core.prefilter': <module 'IPython.core.prefilter' from '/Users/junix/miniconda3/envs/py310/lib/python3.10/site-packages/IPython/core/prefilter.py'>,\n",
       "  'IPython.core.alias': <module 'IPython.core.alias' from '/Users/junix/miniconda3/envs/py310/lib/python3.10/site-packages/IPython/core/alias.py'>,\n",
       "  'IPython.core.builtin_trap': <module 'IPython.core.builtin_trap' from '/Users/junix/miniconda3/envs/py310/lib/python3.10/site-packages/IPython/core/builtin_trap.py'>,\n",
       "  'IPython.core.displayhook': <module 'IPython.core.displayhook' from '/Users/junix/miniconda3/envs/py310/lib/python3.10/site-packages/IPython/core/displayhook.py'>,\n",
       "  'IPython.core.displaypub': <module 'IPython.core.displaypub' from '/Users/junix/miniconda3/envs/py310/lib/python3.10/site-packages/IPython/core/displaypub.py'>,\n",
       "  'backcall.backcall': <module 'backcall.backcall' from '/Users/junix/miniconda3/envs/py310/lib/python3.10/site-packages/backcall/backcall.py'>,\n",
       "  'backcall': <module 'backcall' from '/Users/junix/miniconda3/envs/py310/lib/python3.10/site-packages/backcall/__init__.py'>,\n",
       "  'IPython.core.events': <module 'IPython.core.events' from '/Users/junix/miniconda3/envs/py310/lib/python3.10/site-packages/IPython/core/events.py'>,\n",
       "  'IPython.core.extensions': <module 'IPython.core.extensions' from '/Users/junix/miniconda3/envs/py310/lib/python3.10/site-packages/IPython/core/extensions.py'>,\n",
       "  'decorator': <module 'decorator' from '/Users/junix/miniconda3/envs/py310/lib/python3.10/site-packages/decorator.py'>,\n",
       "  'IPython.utils.sentinel': <module 'IPython.utils.sentinel' from '/Users/junix/miniconda3/envs/py310/lib/python3.10/site-packages/IPython/utils/sentinel.py'>,\n",
       "  'IPython.core.formatters': <module 'IPython.core.formatters' from '/Users/junix/miniconda3/envs/py310/lib/python3.10/site-packages/IPython/core/formatters.py'>,\n",
       "  '_sqlite3': <module '_sqlite3' from '/Users/junix/miniconda3/envs/py310/lib/python3.10/lib-dynload/_sqlite3.cpython-310-darwin.so'>,\n",
       "  'sqlite3.dbapi2': <module 'sqlite3.dbapi2' from '/Users/junix/miniconda3/envs/py310/lib/python3.10/sqlite3/dbapi2.py'>,\n",
       "  'sqlite3': <module 'sqlite3' from '/Users/junix/miniconda3/envs/py310/lib/python3.10/sqlite3/__init__.py'>,\n",
       "  'IPython.core.history': <module 'IPython.core.history' from '/Users/junix/miniconda3/envs/py310/lib/python3.10/site-packages/IPython/core/history.py'>,\n",
       "  'IPython.core.logger': <module 'IPython.core.logger' from '/Users/junix/miniconda3/envs/py310/lib/python3.10/site-packages/IPython/core/logger.py'>,\n",
       "  'IPython.core.payload': <module 'IPython.core.payload' from '/Users/junix/miniconda3/envs/py310/lib/python3.10/site-packages/IPython/core/payload.py'>,\n",
       "  'IPython.core.usage': <module 'IPython.core.usage' from '/Users/junix/miniconda3/envs/py310/lib/python3.10/site-packages/IPython/core/usage.py'>,\n",
       "  'IPython.utils.capture': <module 'IPython.utils.capture' from '/Users/junix/miniconda3/envs/py310/lib/python3.10/site-packages/IPython/utils/capture.py'>,\n",
       "  'IPython.utils.io': <module 'IPython.utils.io' from '/Users/junix/miniconda3/envs/py310/lib/python3.10/site-packages/IPython/utils/io.py'>,\n",
       "  'IPython.utils.strdispatch': <module 'IPython.utils.strdispatch' from '/Users/junix/miniconda3/envs/py310/lib/python3.10/site-packages/IPython/utils/strdispatch.py'>,\n",
       "  'IPython.utils.syspathcontext': <module 'IPython.utils.syspathcontext' from '/Users/junix/miniconda3/envs/py310/lib/python3.10/site-packages/IPython/utils/syspathcontext.py'>,\n",
       "  'IPython.core.async_helpers': <module 'IPython.core.async_helpers' from '/Users/junix/miniconda3/envs/py310/lib/python3.10/site-packages/IPython/core/async_helpers.py'>,\n",
       "  'IPython.core.interactiveshell': <module 'IPython.core.interactiveshell' from '/Users/junix/miniconda3/envs/py310/lib/python3.10/site-packages/IPython/core/interactiveshell.py'>,\n",
       "  'prompt_toolkit.application.current': <module 'prompt_toolkit.application.current' from '/Users/junix/miniconda3/envs/py310/lib/python3.10/site-packages/prompt_toolkit/application/current.py'>,\n",
       "  'prompt_toolkit.eventloop.async_context_manager': <module 'prompt_toolkit.eventloop.async_context_manager' from '/Users/junix/miniconda3/envs/py310/lib/python3.10/site-packages/prompt_toolkit/eventloop/async_context_manager.py'>,\n",
       "  'prompt_toolkit.eventloop.utils': <module 'prompt_toolkit.eventloop.utils' from '/Users/junix/miniconda3/envs/py310/lib/python3.10/site-packages/prompt_toolkit/eventloop/utils.py'>,\n",
       "  'prompt_toolkit.eventloop.async_generator': <module 'prompt_toolkit.eventloop.async_generator' from '/Users/junix/miniconda3/envs/py310/lib/python3.10/site-packages/prompt_toolkit/eventloop/async_generator.py'>,\n",
       "  'prompt_toolkit.eventloop.inputhook': <module 'prompt_toolkit.eventloop.inputhook' from '/Users/junix/miniconda3/envs/py310/lib/python3.10/site-packages/prompt_toolkit/eventloop/inputhook.py'>,\n",
       "  'prompt_toolkit.eventloop': <module 'prompt_toolkit.eventloop' from '/Users/junix/miniconda3/envs/py310/lib/python3.10/site-packages/prompt_toolkit/eventloop/__init__.py'>,\n",
       "  'prompt_toolkit.application.run_in_terminal': <module 'prompt_toolkit.application.run_in_terminal' from '/Users/junix/miniconda3/envs/py310/lib/python3.10/site-packages/prompt_toolkit/application/run_in_terminal.py'>,\n",
       "  'prompt_toolkit.selection': <module 'prompt_toolkit.selection' from '/Users/junix/miniconda3/envs/py310/lib/python3.10/site-packages/prompt_toolkit/selection.py'>,\n",
       "  'prompt_toolkit.clipboard.base': <module 'prompt_toolkit.clipboard.base' from '/Users/junix/miniconda3/envs/py310/lib/python3.10/site-packages/prompt_toolkit/clipboard/base.py'>,\n",
       "  'prompt_toolkit.clipboard.in_memory': <module 'prompt_toolkit.clipboard.in_memory' from '/Users/junix/miniconda3/envs/py310/lib/python3.10/site-packages/prompt_toolkit/clipboard/in_memory.py'>,\n",
       "  'prompt_toolkit.clipboard': <module 'prompt_toolkit.clipboard' from '/Users/junix/miniconda3/envs/py310/lib/python3.10/site-packages/prompt_toolkit/clipboard/__init__.py'>,\n",
       "  'prompt_toolkit.cache': <module 'prompt_toolkit.cache' from '/Users/junix/miniconda3/envs/py310/lib/python3.10/site-packages/prompt_toolkit/cache.py'>,\n",
       "  'prompt_toolkit.enums': <module 'prompt_toolkit.enums' from '/Users/junix/miniconda3/envs/py310/lib/python3.10/site-packages/prompt_toolkit/enums.py'>,\n",
       "  'prompt_toolkit.filters.base': <module 'prompt_toolkit.filters.base' from '/Users/junix/miniconda3/envs/py310/lib/python3.10/site-packages/prompt_toolkit/filters/base.py'>,\n",
       "  'prompt_toolkit.filters.app': <module 'prompt_toolkit.filters.app' from '/Users/junix/miniconda3/envs/py310/lib/python3.10/site-packages/prompt_toolkit/filters/app.py'>,\n",
       "  'prompt_toolkit.filters.cli': <module 'prompt_toolkit.filters.cli' from '/Users/junix/miniconda3/envs/py310/lib/python3.10/site-packages/prompt_toolkit/filters/cli.py'>,\n",
       "  'prompt_toolkit.filters.utils': <module 'prompt_toolkit.filters.utils' from '/Users/junix/miniconda3/envs/py310/lib/python3.10/site-packages/prompt_toolkit/filters/utils.py'>,\n",
       "  'prompt_toolkit.filters': <module 'prompt_toolkit.filters' from '/Users/junix/miniconda3/envs/py310/lib/python3.10/site-packages/prompt_toolkit/filters/__init__.py'>,\n",
       "  'prompt_toolkit.document': <module 'prompt_toolkit.document' from '/Users/junix/miniconda3/envs/py310/lib/python3.10/site-packages/prompt_toolkit/document.py'>,\n",
       "  'prompt_toolkit.auto_suggest': <module 'prompt_toolkit.auto_suggest' from '/Users/junix/miniconda3/envs/py310/lib/python3.10/site-packages/prompt_toolkit/auto_suggest.py'>,\n",
       "  'prompt_toolkit.keys': <module 'prompt_toolkit.keys' from '/Users/junix/miniconda3/envs/py310/lib/python3.10/site-packages/prompt_toolkit/keys.py'>,\n",
       "  'prompt_toolkit.key_binding.key_bindings': <module 'prompt_toolkit.key_binding.key_bindings' from '/Users/junix/miniconda3/envs/py310/lib/python3.10/site-packages/prompt_toolkit/key_binding/key_bindings.py'>,\n",
       "  'wcwidth.table_wide': <module 'wcwidth.table_wide' from '/Users/junix/miniconda3/envs/py310/lib/python3.10/site-packages/wcwidth/table_wide.py'>,\n",
       "  'wcwidth.table_zero': <module 'wcwidth.table_zero' from '/Users/junix/miniconda3/envs/py310/lib/python3.10/site-packages/wcwidth/table_zero.py'>,\n",
       "  'wcwidth.unicode_versions': <module 'wcwidth.unicode_versions' from '/Users/junix/miniconda3/envs/py310/lib/python3.10/site-packages/wcwidth/unicode_versions.py'>,\n",
       "  'wcwidth.wcwidth': <module 'wcwidth.wcwidth' from '/Users/junix/miniconda3/envs/py310/lib/python3.10/site-packages/wcwidth/wcwidth.py'>,\n",
       "  'wcwidth': <module 'wcwidth' from '/Users/junix/miniconda3/envs/py310/lib/python3.10/site-packages/wcwidth/__init__.py'>,\n",
       "  'prompt_toolkit.utils': <module 'prompt_toolkit.utils' from '/Users/junix/miniconda3/envs/py310/lib/python3.10/site-packages/prompt_toolkit/utils.py'>,\n",
       "  'prompt_toolkit.key_binding.key_processor': <module 'prompt_toolkit.key_binding.key_processor' from '/Users/junix/miniconda3/envs/py310/lib/python3.10/site-packages/prompt_toolkit/key_binding/key_processor.py'>,\n",
       "  'prompt_toolkit.key_binding': <module 'prompt_toolkit.key_binding' from '/Users/junix/miniconda3/envs/py310/lib/python3.10/site-packages/prompt_toolkit/key_binding/__init__.py'>,\n",
       "  'prompt_toolkit.key_binding.vi_state': <module 'prompt_toolkit.key_binding.vi_state' from '/Users/junix/miniconda3/envs/py310/lib/python3.10/site-packages/prompt_toolkit/key_binding/vi_state.py'>,\n",
       "  'prompt_toolkit.cursor_shapes': <module 'prompt_toolkit.cursor_shapes' from '/Users/junix/miniconda3/envs/py310/lib/python3.10/site-packages/prompt_toolkit/cursor_shapes.py'>,\n",
       "  'prompt_toolkit.data_structures': <module 'prompt_toolkit.data_structures' from '/Users/junix/miniconda3/envs/py310/lib/python3.10/site-packages/prompt_toolkit/data_structures.py'>,\n",
       "  'prompt_toolkit.styles.base': <module 'prompt_toolkit.styles.base' from '/Users/junix/miniconda3/envs/py310/lib/python3.10/site-packages/prompt_toolkit/styles/base.py'>,\n",
       "  'prompt_toolkit.styles.named_colors': <module 'prompt_toolkit.styles.named_colors' from '/Users/junix/miniconda3/envs/py310/lib/python3.10/site-packages/prompt_toolkit/styles/named_colors.py'>,\n",
       "  'prompt_toolkit.styles.style': <module 'prompt_toolkit.styles.style' from '/Users/junix/miniconda3/envs/py310/lib/python3.10/site-packages/prompt_toolkit/styles/style.py'>,\n",
       "  'prompt_toolkit.styles.defaults': <module 'prompt_toolkit.styles.defaults' from '/Users/junix/miniconda3/envs/py310/lib/python3.10/site-packages/prompt_toolkit/styles/defaults.py'>,\n",
       "  'prompt_toolkit.styles.pygments': <module 'prompt_toolkit.styles.pygments' from '/Users/junix/miniconda3/envs/py310/lib/python3.10/site-packages/prompt_toolkit/styles/pygments.py'>,\n",
       "  'colorsys': <module 'colorsys' from '/Users/junix/miniconda3/envs/py310/lib/python3.10/colorsys.py'>,\n",
       "  'prompt_toolkit.styles.style_transformation': <module 'prompt_toolkit.styles.style_transformation' from '/Users/junix/miniconda3/envs/py310/lib/python3.10/site-packages/prompt_toolkit/styles/style_transformation.py'>,\n",
       "  'prompt_toolkit.styles': <module 'prompt_toolkit.styles' from '/Users/junix/miniconda3/envs/py310/lib/python3.10/site-packages/prompt_toolkit/styles/__init__.py'>,\n",
       "  'prompt_toolkit.output.color_depth': <module 'prompt_toolkit.output.color_depth' from '/Users/junix/miniconda3/envs/py310/lib/python3.10/site-packages/prompt_toolkit/output/color_depth.py'>,\n",
       "  'prompt_toolkit.output.base': <module 'prompt_toolkit.output.base' from '/Users/junix/miniconda3/envs/py310/lib/python3.10/site-packages/prompt_toolkit/output/base.py'>,\n",
       "  'prompt_toolkit.output.flush_stdout': <module 'prompt_toolkit.output.flush_stdout' from '/Users/junix/miniconda3/envs/py310/lib/python3.10/site-packages/prompt_toolkit/output/flush_stdout.py'>,\n",
       "  'prompt_toolkit.output.plain_text': <module 'prompt_toolkit.output.plain_text' from '/Users/junix/miniconda3/envs/py310/lib/python3.10/site-packages/prompt_toolkit/output/plain_text.py'>,\n",
       "  'prompt_toolkit.output.defaults': <module 'prompt_toolkit.output.defaults' from '/Users/junix/miniconda3/envs/py310/lib/python3.10/site-packages/prompt_toolkit/output/defaults.py'>,\n",
       "  'prompt_toolkit.output': <module 'prompt_toolkit.output' from '/Users/junix/miniconda3/envs/py310/lib/python3.10/site-packages/prompt_toolkit/output/__init__.py'>,\n",
       "  'prompt_toolkit.output.vt100': <module 'prompt_toolkit.output.vt100' from '/Users/junix/miniconda3/envs/py310/lib/python3.10/site-packages/prompt_toolkit/output/vt100.py'>,\n",
       "  'prompt_toolkit.mouse_events': <module 'prompt_toolkit.mouse_events' from '/Users/junix/miniconda3/envs/py310/lib/python3.10/site-packages/prompt_toolkit/mouse_events.py'>,\n",
       "  'prompt_toolkit.formatted_text.base': <module 'prompt_toolkit.formatted_text.base' from '/Users/junix/miniconda3/envs/py310/lib/python3.10/site-packages/prompt_toolkit/formatted_text/base.py'>,\n",
       "  'prompt_toolkit.formatted_text.ansi': <module 'prompt_toolkit.formatted_text.ansi' from '/Users/junix/miniconda3/envs/py310/lib/python3.10/site-packages/prompt_toolkit/formatted_text/ansi.py'>,\n",
       "  'xml': <module 'xml' from '/Users/junix/miniconda3/envs/py310/lib/python3.10/xml/__init__.py'>,\n",
       "  'xml.dom.domreg': <module 'xml.dom.domreg' from '/Users/junix/miniconda3/envs/py310/lib/python3.10/xml/dom/domreg.py'>,\n",
       "  'xml.dom': <module 'xml.dom' from '/Users/junix/miniconda3/envs/py310/lib/python3.10/xml/dom/__init__.py'>,\n",
       "  'xml.dom.minicompat': <module 'xml.dom.minicompat' from '/Users/junix/miniconda3/envs/py310/lib/python3.10/xml/dom/minicompat.py'>,\n",
       "  'xml.dom.NodeFilter': <module 'xml.dom.NodeFilter' from '/Users/junix/miniconda3/envs/py310/lib/python3.10/xml/dom/NodeFilter.py'>,\n",
       "  'xml.dom.xmlbuilder': <module 'xml.dom.xmlbuilder' from '/Users/junix/miniconda3/envs/py310/lib/python3.10/xml/dom/xmlbuilder.py'>,\n",
       "  'xml.dom.minidom': <module 'xml.dom.minidom' from '/Users/junix/miniconda3/envs/py310/lib/python3.10/xml/dom/minidom.py'>,\n",
       "  'prompt_toolkit.formatted_text.html': <module 'prompt_toolkit.formatted_text.html' from '/Users/junix/miniconda3/envs/py310/lib/python3.10/site-packages/prompt_toolkit/formatted_text/html.py'>,\n",
       "  'prompt_toolkit.formatted_text.pygments': <module 'prompt_toolkit.formatted_text.pygments' from '/Users/junix/miniconda3/envs/py310/lib/python3.10/site-packages/prompt_toolkit/formatted_text/pygments.py'>,\n",
       "  'prompt_toolkit.formatted_text.utils': <module 'prompt_toolkit.formatted_text.utils' from '/Users/junix/miniconda3/envs/py310/lib/python3.10/site-packages/prompt_toolkit/formatted_text/utils.py'>,\n",
       "  'prompt_toolkit.formatted_text': <module 'prompt_toolkit.formatted_text' from '/Users/junix/miniconda3/envs/py310/lib/python3.10/site-packages/prompt_toolkit/formatted_text/__init__.py'>,\n",
       "  'prompt_toolkit.completion.base': <module 'prompt_toolkit.completion.base' from '/Users/junix/miniconda3/envs/py310/lib/python3.10/site-packages/prompt_toolkit/completion/base.py'>,\n",
       "  'prompt_toolkit.completion.deduplicate': <module 'prompt_toolkit.completion.deduplicate' from '/Users/junix/miniconda3/envs/py310/lib/python3.10/site-packages/prompt_toolkit/completion/deduplicate.py'>,\n",
       "  'prompt_toolkit.completion.filesystem': <module 'prompt_toolkit.completion.filesystem' from '/Users/junix/miniconda3/envs/py310/lib/python3.10/site-packages/prompt_toolkit/completion/filesystem.py'>,\n",
       "  'prompt_toolkit.completion.word_completer': <module 'prompt_toolkit.completion.word_completer' from '/Users/junix/miniconda3/envs/py310/lib/python3.10/site-packages/prompt_toolkit/completion/word_completer.py'>,\n",
       "  'prompt_toolkit.completion.fuzzy_completer': <module 'prompt_toolkit.completion.fuzzy_completer' from '/Users/junix/miniconda3/envs/py310/lib/python3.10/site-packages/prompt_toolkit/completion/fuzzy_completer.py'>,\n",
       "  'prompt_toolkit.completion.nested': <module 'prompt_toolkit.completion.nested' from '/Users/junix/miniconda3/envs/py310/lib/python3.10/site-packages/prompt_toolkit/completion/nested.py'>,\n",
       "  'prompt_toolkit.completion': <module 'prompt_toolkit.completion' from '/Users/junix/miniconda3/envs/py310/lib/python3.10/site-packages/prompt_toolkit/completion/__init__.py'>,\n",
       "  'prompt_toolkit.history': <module 'prompt_toolkit.history' from '/Users/junix/miniconda3/envs/py310/lib/python3.10/site-packages/prompt_toolkit/history.py'>,\n",
       "  'prompt_toolkit.search': <module 'prompt_toolkit.search' from '/Users/junix/miniconda3/envs/py310/lib/python3.10/site-packages/prompt_toolkit/search.py'>,\n",
       "  'prompt_toolkit.validation': <module 'prompt_toolkit.validation' from '/Users/junix/miniconda3/envs/py310/lib/python3.10/site-packages/prompt_toolkit/validation.py'>,\n",
       "  'prompt_toolkit.buffer': <module 'prompt_toolkit.buffer' from '/Users/junix/miniconda3/envs/py310/lib/python3.10/site-packages/prompt_toolkit/buffer.py'>,\n",
       "  'prompt_toolkit.input.base': <module 'prompt_toolkit.input.base' from '/Users/junix/miniconda3/envs/py310/lib/python3.10/site-packages/prompt_toolkit/input/base.py'>,\n",
       "  'prompt_toolkit.input.defaults': <module 'prompt_toolkit.input.defaults' from '/Users/junix/miniconda3/envs/py310/lib/python3.10/site-packages/prompt_toolkit/input/defaults.py'>,\n",
       "  'prompt_toolkit.input': <module 'prompt_toolkit.input' from '/Users/junix/miniconda3/envs/py310/lib/python3.10/site-packages/prompt_toolkit/input/__init__.py'>,\n",
       "  'prompt_toolkit.input.typeahead': <module 'prompt_toolkit.input.typeahead' from '/Users/junix/miniconda3/envs/py310/lib/python3.10/site-packages/prompt_toolkit/input/typeahead.py'>,\n",
       "  'prompt_toolkit.key_binding.bindings': <module 'prompt_toolkit.key_binding.bindings' from '/Users/junix/miniconda3/envs/py310/lib/python3.10/site-packages/prompt_toolkit/key_binding/bindings/__init__.py'>,\n",
       "  'prompt_toolkit.key_binding.bindings.scroll': <module 'prompt_toolkit.key_binding.bindings.scroll' from '/Users/junix/miniconda3/envs/py310/lib/python3.10/site-packages/prompt_toolkit/key_binding/bindings/scroll.py'>,\n",
       "  'prompt_toolkit.key_binding.bindings.page_navigation': <module 'prompt_toolkit.key_binding.bindings.page_navigation' from '/Users/junix/miniconda3/envs/py310/lib/python3.10/site-packages/prompt_toolkit/key_binding/bindings/page_navigation.py'>,\n",
       "  'prompt_toolkit.lexers.base': <module 'prompt_toolkit.lexers.base' from '/Users/junix/miniconda3/envs/py310/lib/python3.10/site-packages/prompt_toolkit/lexers/base.py'>,\n",
       "  'prompt_toolkit.lexers.pygments': <module 'prompt_toolkit.lexers.pygments' from '/Users/junix/miniconda3/envs/py310/lib/python3.10/site-packages/prompt_toolkit/lexers/pygments.py'>,\n",
       "  'prompt_toolkit.lexers': <module 'prompt_toolkit.lexers' from '/Users/junix/miniconda3/envs/py310/lib/python3.10/site-packages/prompt_toolkit/lexers/__init__.py'>,\n",
       "  'prompt_toolkit.layout.utils': <module 'prompt_toolkit.layout.utils' from '/Users/junix/miniconda3/envs/py310/lib/python3.10/site-packages/prompt_toolkit/layout/utils.py'>,\n",
       "  'prompt_toolkit.layout.processors': <module 'prompt_toolkit.layout.processors' from '/Users/junix/miniconda3/envs/py310/lib/python3.10/site-packages/prompt_toolkit/layout/processors.py'>,\n",
       "  'prompt_toolkit.layout.controls': <module 'prompt_toolkit.layout.controls' from '/Users/junix/miniconda3/envs/py310/lib/python3.10/site-packages/prompt_toolkit/layout/controls.py'>,\n",
       "  'prompt_toolkit.layout.dimension': <module 'prompt_toolkit.layout.dimension' from '/Users/junix/miniconda3/envs/py310/lib/python3.10/site-packages/prompt_toolkit/layout/dimension.py'>,\n",
       "  'prompt_toolkit.layout.margins': <module 'prompt_toolkit.layout.margins' from '/Users/junix/miniconda3/envs/py310/lib/python3.10/site-packages/prompt_toolkit/layout/margins.py'>,\n",
       "  'prompt_toolkit.layout.mouse_handlers': <module 'prompt_toolkit.layout.mouse_handlers' from '/Users/junix/miniconda3/envs/py310/lib/python3.10/site-packages/prompt_toolkit/layout/mouse_handlers.py'>,\n",
       "  'prompt_toolkit.layout.screen': <module 'prompt_toolkit.layout.screen' from '/Users/junix/miniconda3/envs/py310/lib/python3.10/site-packages/prompt_toolkit/layout/screen.py'>,\n",
       "  'prompt_toolkit.layout.containers': <module 'prompt_toolkit.layout.containers' from '/Users/junix/miniconda3/envs/py310/lib/python3.10/site-packages/prompt_toolkit/layout/containers.py'>,\n",
       "  'prompt_toolkit.layout.layout': <module 'prompt_toolkit.layout.layout' from '/Users/junix/miniconda3/envs/py310/lib/python3.10/site-packages/prompt_toolkit/layout/layout.py'>,\n",
       "  'prompt_toolkit.layout.menus': <module 'prompt_toolkit.layout.menus' from '/Users/junix/miniconda3/envs/py310/lib/python3.10/site-packages/prompt_toolkit/layout/menus.py'>,\n",
       "  'prompt_toolkit.layout.scrollable_pane': <module 'prompt_toolkit.layout.scrollable_pane' from '/Users/junix/miniconda3/envs/py310/lib/python3.10/site-packages/prompt_toolkit/layout/scrollable_pane.py'>,\n",
       "  'prompt_toolkit.layout': <module 'prompt_toolkit.layout' from '/Users/junix/miniconda3/envs/py310/lib/python3.10/site-packages/prompt_toolkit/layout/__init__.py'>,\n",
       "  'prompt_toolkit.key_binding.bindings.completion': <module 'prompt_toolkit.key_binding.bindings.completion' from '/Users/junix/miniconda3/envs/py310/lib/python3.10/site-packages/prompt_toolkit/key_binding/bindings/completion.py'>,\n",
       "  'prompt_toolkit.key_binding.bindings.named_commands': <module 'prompt_toolkit.key_binding.bindings.named_commands' from '/Users/junix/miniconda3/envs/py310/lib/python3.10/site-packages/prompt_toolkit/key_binding/bindings/named_commands.py'>,\n",
       "  'prompt_toolkit.key_binding.bindings.basic': <module 'prompt_toolkit.key_binding.bindings.basic' from '/Users/junix/miniconda3/envs/py310/lib/python3.10/site-packages/prompt_toolkit/key_binding/bindings/basic.py'>,\n",
       "  'prompt_toolkit.key_binding.bindings.cpr': <module 'prompt_toolkit.key_binding.bindings.cpr' from '/Users/junix/miniconda3/envs/py310/lib/python3.10/site-packages/prompt_toolkit/key_binding/bindings/cpr.py'>,\n",
       "  'prompt_toolkit.key_binding.bindings.emacs': <module 'prompt_toolkit.key_binding.bindings.emacs' from '/Users/junix/miniconda3/envs/py310/lib/python3.10/site-packages/prompt_toolkit/key_binding/bindings/emacs.py'>,\n",
       "  'prompt_toolkit.key_binding.bindings.mouse': <module 'prompt_toolkit.key_binding.bindings.mouse' from '/Users/junix/miniconda3/envs/py310/lib/python3.10/site-packages/prompt_toolkit/key_binding/bindings/mouse.py'>,\n",
       "  'prompt_toolkit.input.ansi_escape_sequences': <module 'prompt_toolkit.input.ansi_escape_sequences' from '/Users/junix/miniconda3/envs/py310/lib/python3.10/site-packages/prompt_toolkit/input/ansi_escape_sequences.py'>,\n",
       "  'prompt_toolkit.input.vt100_parser': <module 'prompt_toolkit.input.vt100_parser' from '/Users/junix/miniconda3/envs/py310/lib/python3.10/site-packages/prompt_toolkit/input/vt100_parser.py'>,\n",
       "  'prompt_toolkit.key_binding.digraphs': <module 'prompt_toolkit.key_binding.digraphs' from '/Users/junix/miniconda3/envs/py310/lib/python3.10/site-packages/prompt_toolkit/key_binding/digraphs.py'>,\n",
       "  'prompt_toolkit.key_binding.bindings.vi': <module 'prompt_toolkit.key_binding.bindings.vi' from '/Users/junix/miniconda3/envs/py310/lib/python3.10/site-packages/prompt_toolkit/key_binding/bindings/vi.py'>,\n",
       "  'prompt_toolkit.key_binding.defaults': <module 'prompt_toolkit.key_binding.defaults' from '/Users/junix/miniconda3/envs/py310/lib/python3.10/site-packages/prompt_toolkit/key_binding/defaults.py'>,\n",
       "  'prompt_toolkit.key_binding.emacs_state': <module 'prompt_toolkit.key_binding.emacs_state' from '/Users/junix/miniconda3/envs/py310/lib/python3.10/site-packages/prompt_toolkit/key_binding/emacs_state.py'>,\n",
       "  'prompt_toolkit.layout.dummy': <module 'prompt_toolkit.layout.dummy' from '/Users/junix/miniconda3/envs/py310/lib/python3.10/site-packages/prompt_toolkit/layout/dummy.py'>,\n",
       "  'prompt_toolkit.renderer': <module 'prompt_toolkit.renderer' from '/Users/junix/miniconda3/envs/py310/lib/python3.10/site-packages/prompt_toolkit/renderer.py'>,\n",
       "  'prompt_toolkit.application.application': <module 'prompt_toolkit.application.application' from '/Users/junix/miniconda3/envs/py310/lib/python3.10/site-packages/prompt_toolkit/application/application.py'>,\n",
       "  'prompt_toolkit.application.dummy': <module 'prompt_toolkit.application.dummy' from '/Users/junix/miniconda3/envs/py310/lib/python3.10/site-packages/prompt_toolkit/application/dummy.py'>,\n",
       "  'prompt_toolkit.application': <module 'prompt_toolkit.application' from '/Users/junix/miniconda3/envs/py310/lib/python3.10/site-packages/prompt_toolkit/application/__init__.py'>,\n",
       "  'prompt_toolkit.key_binding.bindings.focus': <module 'prompt_toolkit.key_binding.bindings.focus' from '/Users/junix/miniconda3/envs/py310/lib/python3.10/site-packages/prompt_toolkit/key_binding/bindings/focus.py'>,\n",
       "  'prompt_toolkit.widgets.toolbars': <module 'prompt_toolkit.widgets.toolbars' from '/Users/junix/miniconda3/envs/py310/lib/python3.10/site-packages/prompt_toolkit/widgets/toolbars.py'>,\n",
       "  'prompt_toolkit.widgets.base': <module 'prompt_toolkit.widgets.base' from '/Users/junix/miniconda3/envs/py310/lib/python3.10/site-packages/prompt_toolkit/widgets/base.py'>,\n",
       "  'prompt_toolkit.widgets.dialogs': <module 'prompt_toolkit.widgets.dialogs' from '/Users/junix/miniconda3/envs/py310/lib/python3.10/site-packages/prompt_toolkit/widgets/dialogs.py'>,\n",
       "  'prompt_toolkit.widgets.menus': <module 'prompt_toolkit.widgets.menus' from '/Users/junix/miniconda3/envs/py310/lib/python3.10/site-packages/prompt_toolkit/widgets/menus.py'>,\n",
       "  'prompt_toolkit.widgets': <module 'prompt_toolkit.widgets' from '/Users/junix/miniconda3/envs/py310/lib/python3.10/site-packages/prompt_toolkit/widgets/__init__.py'>,\n",
       "  'prompt_toolkit.shortcuts.dialogs': <module 'prompt_toolkit.shortcuts.dialogs' from '/Users/junix/miniconda3/envs/py310/lib/python3.10/site-packages/prompt_toolkit/shortcuts/dialogs.py'>,\n",
       "  'prompt_toolkit.shortcuts.progress_bar.formatters': <module 'prompt_toolkit.shortcuts.progress_bar.formatters' from '/Users/junix/miniconda3/envs/py310/lib/python3.10/site-packages/prompt_toolkit/shortcuts/progress_bar/formatters.py'>,\n",
       "  'prompt_toolkit.shortcuts.progress_bar.base': <module 'prompt_toolkit.shortcuts.progress_bar.base' from '/Users/junix/miniconda3/envs/py310/lib/python3.10/site-packages/prompt_toolkit/shortcuts/progress_bar/base.py'>,\n",
       "  'prompt_toolkit.shortcuts.progress_bar': <module 'prompt_toolkit.shortcuts.progress_bar' from '/Users/junix/miniconda3/envs/py310/lib/python3.10/site-packages/prompt_toolkit/shortcuts/progress_bar/__init__.py'>,\n",
       "  'prompt_toolkit.key_binding.bindings.auto_suggest': <module 'prompt_toolkit.key_binding.bindings.auto_suggest' from '/Users/junix/miniconda3/envs/py310/lib/python3.10/site-packages/prompt_toolkit/key_binding/bindings/auto_suggest.py'>,\n",
       "  'prompt_toolkit.key_binding.bindings.open_in_editor': <module 'prompt_toolkit.key_binding.bindings.open_in_editor' from '/Users/junix/miniconda3/envs/py310/lib/python3.10/site-packages/prompt_toolkit/key_binding/bindings/open_in_editor.py'>,\n",
       "  'prompt_toolkit.shortcuts.prompt': <module 'prompt_toolkit.shortcuts.prompt' from '/Users/junix/miniconda3/envs/py310/lib/python3.10/site-packages/prompt_toolkit/shortcuts/prompt.py'>,\n",
       "  'prompt_toolkit.shortcuts.utils': <module 'prompt_toolkit.shortcuts.utils' from '/Users/junix/miniconda3/envs/py310/lib/python3.10/site-packages/prompt_toolkit/shortcuts/utils.py'>,\n",
       "  'prompt_toolkit.shortcuts': <module 'prompt_toolkit.shortcuts' from '/Users/junix/miniconda3/envs/py310/lib/python3.10/site-packages/prompt_toolkit/shortcuts/__init__.py'>,\n",
       "  'prompt_toolkit': <module 'prompt_toolkit' from '/Users/junix/miniconda3/envs/py310/lib/python3.10/site-packages/prompt_toolkit/__init__.py'>,\n",
       "  'prompt_toolkit.patch_stdout': <module 'prompt_toolkit.patch_stdout' from '/Users/junix/miniconda3/envs/py310/lib/python3.10/site-packages/prompt_toolkit/patch_stdout.py'>,\n",
       "  'unicodedata': <module 'unicodedata' from '/Users/junix/miniconda3/envs/py310/lib/python3.10/lib-dynload/unicodedata.cpython-310-darwin.so'>,\n",
       "  'IPython.core.latex_symbols': <module 'IPython.core.latex_symbols' from '/Users/junix/miniconda3/envs/py310/lib/python3.10/site-packages/IPython/core/latex_symbols.py'>,\n",
       "  'IPython.utils.generics': <module 'IPython.utils.generics' from '/Users/junix/miniconda3/envs/py310/lib/python3.10/site-packages/IPython/utils/generics.py'>,\n",
       "  'parso.utils': <module 'parso.utils' from '/Users/junix/miniconda3/envs/py310/lib/python3.10/site-packages/parso/utils.py'>,\n",
       "  'parso.tree': <module 'parso.tree' from '/Users/junix/miniconda3/envs/py310/lib/python3.10/site-packages/parso/tree.py'>,\n",
       "  'parso.python': <module 'parso.python' from '/Users/junix/miniconda3/envs/py310/lib/python3.10/site-packages/parso/python/__init__.py'>,\n",
       "  'parso.python.token': <module 'parso.python.token' from '/Users/junix/miniconda3/envs/py310/lib/python3.10/site-packages/parso/python/token.py'>,\n",
       "  'parso.python.tokenize': <module 'parso.python.tokenize' from '/Users/junix/miniconda3/envs/py310/lib/python3.10/site-packages/parso/python/tokenize.py'>,\n",
       "  'parso.pgen2.grammar_parser': <module 'parso.pgen2.grammar_parser' from '/Users/junix/miniconda3/envs/py310/lib/python3.10/site-packages/parso/pgen2/grammar_parser.py'>,\n",
       "  'parso.pgen2.generator': <module 'parso.pgen2.generator' from '/Users/junix/miniconda3/envs/py310/lib/python3.10/site-packages/parso/pgen2/generator.py'>,\n",
       "  'parso.pgen2': <module 'parso.pgen2' from '/Users/junix/miniconda3/envs/py310/lib/python3.10/site-packages/parso/pgen2/__init__.py'>,\n",
       "  'parso.parser': <module 'parso.parser' from '/Users/junix/miniconda3/envs/py310/lib/python3.10/site-packages/parso/parser.py'>,\n",
       "  'parso._compatibility': <module 'parso._compatibility' from '/Users/junix/miniconda3/envs/py310/lib/python3.10/site-packages/parso/_compatibility.py'>,\n",
       "  'difflib': <module 'difflib' from '/Users/junix/miniconda3/envs/py310/lib/python3.10/difflib.py'>,\n",
       "  'parso.python.prefix': <module 'parso.python.prefix' from '/Users/junix/miniconda3/envs/py310/lib/python3.10/site-packages/parso/python/prefix.py'>,\n",
       "  'parso.python.tree': <module 'parso.python.tree' from '/Users/junix/miniconda3/envs/py310/lib/python3.10/site-packages/parso/python/tree.py'>,\n",
       "  'parso.python.parser': <module 'parso.python.parser' from '/Users/junix/miniconda3/envs/py310/lib/python3.10/site-packages/parso/python/parser.py'>,\n",
       "  'parso.python.diff': <module 'parso.python.diff' from '/Users/junix/miniconda3/envs/py310/lib/python3.10/site-packages/parso/python/diff.py'>,\n",
       "  'gc': <module 'gc' (built-in)>,\n",
       "  'parso.cache': <module 'parso.cache' from '/Users/junix/miniconda3/envs/py310/lib/python3.10/site-packages/parso/cache.py'>,\n",
       "  'parso.normalizer': <module 'parso.normalizer' from '/Users/junix/miniconda3/envs/py310/lib/python3.10/site-packages/parso/normalizer.py'>,\n",
       "  'parso.python.errors': <module 'parso.python.errors' from '/Users/junix/miniconda3/envs/py310/lib/python3.10/site-packages/parso/python/errors.py'>,\n",
       "  'parso.python.pep8': <module 'parso.python.pep8' from '/Users/junix/miniconda3/envs/py310/lib/python3.10/site-packages/parso/python/pep8.py'>,\n",
       "  'parso.file_io': <module 'parso.file_io' from '/Users/junix/miniconda3/envs/py310/lib/python3.10/site-packages/parso/file_io.py'>,\n",
       "  'parso.grammar': <module 'parso.grammar' from '/Users/junix/miniconda3/envs/py310/lib/python3.10/site-packages/parso/grammar.py'>,\n",
       "  'parso': <module 'parso' from '/Users/junix/miniconda3/envs/py310/lib/python3.10/site-packages/parso/__init__.py'>,\n",
       "  'jedi.parser_utils': <module 'jedi.parser_utils' from '/Users/junix/miniconda3/envs/py310/lib/python3.10/site-packages/jedi/parser_utils.py'>,\n",
       "  'jedi.debug': <module 'jedi.debug' from '/Users/junix/miniconda3/envs/py310/lib/python3.10/site-packages/jedi/debug.py'>,\n",
       "  'jedi.settings': <module 'jedi.settings' from '/Users/junix/miniconda3/envs/py310/lib/python3.10/site-packages/jedi/settings.py'>,\n",
       "  'jedi.cache': <module 'jedi.cache' from '/Users/junix/miniconda3/envs/py310/lib/python3.10/site-packages/jedi/cache.py'>,\n",
       "  'jedi.file_io': <module 'jedi.file_io' from '/Users/junix/miniconda3/envs/py310/lib/python3.10/site-packages/jedi/file_io.py'>,\n",
       "  'jedi.inference.cache': <module 'jedi.inference.cache' from '/Users/junix/miniconda3/envs/py310/lib/python3.10/site-packages/jedi/inference/cache.py'>,\n",
       "  'jedi.inference.helpers': <module 'jedi.inference.helpers' from '/Users/junix/miniconda3/envs/py310/lib/python3.10/site-packages/jedi/inference/helpers.py'>,\n",
       "  'jedi.inference.utils': <module 'jedi.inference.utils' from '/Users/junix/miniconda3/envs/py310/lib/python3.10/site-packages/jedi/inference/utils.py'>,\n",
       "  'jedi.inference.base_value': <module 'jedi.inference.base_value' from '/Users/junix/miniconda3/envs/py310/lib/python3.10/site-packages/jedi/inference/base_value.py'>,\n",
       "  'jedi.inference.sys_path': <module 'jedi.inference.sys_path' from '/Users/junix/miniconda3/envs/py310/lib/python3.10/site-packages/jedi/inference/sys_path.py'>,\n",
       "  'jedi.inference.recursion': <module 'jedi.inference.recursion' from '/Users/junix/miniconda3/envs/py310/lib/python3.10/site-packages/jedi/inference/recursion.py'>,\n",
       "  'jedi.inference.flow_analysis': <module 'jedi.inference.flow_analysis' from '/Users/junix/miniconda3/envs/py310/lib/python3.10/site-packages/jedi/inference/flow_analysis.py'>,\n",
       "  'jedi.common': <module 'jedi.common' from '/Users/junix/miniconda3/envs/py310/lib/python3.10/site-packages/jedi/common.py'>,\n",
       "  'jedi.inference.lazy_value': <module 'jedi.inference.lazy_value' from '/Users/junix/miniconda3/envs/py310/lib/python3.10/site-packages/jedi/inference/lazy_value.py'>,\n",
       "  'jedi.inference.docstrings': <module 'jedi.inference.docstrings' from '/Users/junix/miniconda3/envs/py310/lib/python3.10/site-packages/jedi/inference/docstrings.py'>,\n",
       "  'jedi.plugins': <module 'jedi.plugins' from '/Users/junix/miniconda3/envs/py310/lib/python3.10/site-packages/jedi/plugins/__init__.py'>,\n",
       "  'jedi.inference.names': <module 'jedi.inference.names' from '/Users/junix/miniconda3/envs/py310/lib/python3.10/site-packages/jedi/inference/names.py'>,\n",
       "  'jedi.inference.filters': <module 'jedi.inference.filters' from '/Users/junix/miniconda3/envs/py310/lib/python3.10/site-packages/jedi/inference/filters.py'>,\n",
       "  'jedi.inference.compiled.getattr_static': <module 'jedi.inference.compiled.getattr_static' from '/Users/junix/miniconda3/envs/py310/lib/python3.10/site-packages/jedi/inference/compiled/getattr_static.py'>,\n",
       "  'jedi.inference.compiled.access': <module 'jedi.inference.compiled.access' from '/Users/junix/miniconda3/envs/py310/lib/python3.10/site-packages/jedi/inference/compiled/access.py'>,\n",
       "  'jedi.inference.signature': <module 'jedi.inference.signature' from '/Users/junix/miniconda3/envs/py310/lib/python3.10/site-packages/jedi/inference/signature.py'>,\n",
       "  'jedi.inference.context': <module 'jedi.inference.context' from '/Users/junix/miniconda3/envs/py310/lib/python3.10/site-packages/jedi/inference/context.py'>,\n",
       "  'jedi.inference.compiled.value': <module 'jedi.inference.compiled.value' from '/Users/junix/miniconda3/envs/py310/lib/python3.10/site-packages/jedi/inference/compiled/value.py'>,\n",
       "  'jedi.inference.compiled': <module 'jedi.inference.compiled' from '/Users/junix/miniconda3/envs/py310/lib/python3.10/site-packages/jedi/inference/compiled/__init__.py'>,\n",
       "  'jedi.inference.analysis': <module 'jedi.inference.analysis' from '/Users/junix/miniconda3/envs/py310/lib/python3.10/site-packages/jedi/inference/analysis.py'>,\n",
       "  'jedi.inference.gradual': <module 'jedi.inference.gradual' from '/Users/junix/miniconda3/envs/py310/lib/python3.10/site-packages/jedi/inference/gradual/__init__.py'>,\n",
       "  'jedi.inference.value.module': <module 'jedi.inference.value.module' from '/Users/junix/miniconda3/envs/py310/lib/python3.10/site-packages/jedi/inference/value/module.py'>,\n",
       "  'jedi.inference.value.dynamic_arrays': <module 'jedi.inference.value.dynamic_arrays' from '/Users/junix/miniconda3/envs/py310/lib/python3.10/site-packages/jedi/inference/value/dynamic_arrays.py'>,\n",
       "  'jedi.inference.value.iterable': <module 'jedi.inference.value.iterable' from '/Users/junix/miniconda3/envs/py310/lib/python3.10/site-packages/jedi/inference/value/iterable.py'>,\n",
       "  'jedi.inference.arguments': <module 'jedi.inference.arguments' from '/Users/junix/miniconda3/envs/py310/lib/python3.10/site-packages/jedi/inference/arguments.py'>,\n",
       "  'jedi.inference.parser_cache': <module 'jedi.inference.parser_cache' from '/Users/junix/miniconda3/envs/py310/lib/python3.10/site-packages/jedi/inference/parser_cache.py'>,\n",
       "  'jedi.inference.gradual.generics': <module 'jedi.inference.gradual.generics' from '/Users/junix/miniconda3/envs/py310/lib/python3.10/site-packages/jedi/inference/gradual/generics.py'>,\n",
       "  'jedi.inference.value.function': <module 'jedi.inference.value.function' from '/Users/junix/miniconda3/envs/py310/lib/python3.10/site-packages/jedi/inference/value/function.py'>,\n",
       "  'jedi.inference.value.klass': <module 'jedi.inference.value.klass' from '/Users/junix/miniconda3/envs/py310/lib/python3.10/site-packages/jedi/inference/value/klass.py'>,\n",
       "  'jedi.inference.value.instance': <module 'jedi.inference.value.instance' from '/Users/junix/miniconda3/envs/py310/lib/python3.10/site-packages/jedi/inference/value/instance.py'>,\n",
       "  'jedi.inference.value': <module 'jedi.inference.value' from '/Users/junix/miniconda3/envs/py310/lib/python3.10/site-packages/jedi/inference/value/__init__.py'>,\n",
       "  'jedi.inference.gradual.base': <module 'jedi.inference.gradual.base' from '/Users/junix/miniconda3/envs/py310/lib/python3.10/site-packages/jedi/inference/gradual/base.py'>,\n",
       "  'jedi.inference.gradual.type_var': <module 'jedi.inference.gradual.type_var' from '/Users/junix/miniconda3/envs/py310/lib/python3.10/site-packages/jedi/inference/gradual/type_var.py'>,\n",
       "  'jedi.inference.gradual.typing': <module 'jedi.inference.gradual.typing' from '/Users/junix/miniconda3/envs/py310/lib/python3.10/site-packages/jedi/inference/gradual/typing.py'>,\n",
       "  'jedi.inference.gradual.stub_value': <module 'jedi.inference.gradual.stub_value' from '/Users/junix/miniconda3/envs/py310/lib/python3.10/site-packages/jedi/inference/gradual/stub_value.py'>,\n",
       "  'jedi.inference.gradual.typeshed': <module 'jedi.inference.gradual.typeshed' from '/Users/junix/miniconda3/envs/py310/lib/python3.10/site-packages/jedi/inference/gradual/typeshed.py'>,\n",
       "  'jedi._compatibility': <module 'jedi._compatibility' from '/Users/junix/miniconda3/envs/py310/lib/python3.10/site-packages/jedi/_compatibility.py'>,\n",
       "  'jedi.inference.compiled.subprocess.functions': <module 'jedi.inference.compiled.subprocess.functions' from '/Users/junix/miniconda3/envs/py310/lib/python3.10/site-packages/jedi/inference/compiled/subprocess/functions.py'>,\n",
       "  'jedi.api.exceptions': <module 'jedi.api.exceptions' from '/Users/junix/miniconda3/envs/py310/lib/python3.10/site-packages/jedi/api/exceptions.py'>,\n",
       "  'jedi.inference.compiled.subprocess': <module 'jedi.inference.compiled.subprocess' from '/Users/junix/miniconda3/envs/py310/lib/python3.10/site-packages/jedi/inference/compiled/subprocess/__init__.py'>,\n",
       "  'jedi.inference.imports': <module 'jedi.inference.imports' from '/Users/junix/miniconda3/envs/py310/lib/python3.10/site-packages/jedi/inference/imports.py'>,\n",
       "  'jedi.inference.param': <module 'jedi.inference.param' from '/Users/junix/miniconda3/envs/py310/lib/python3.10/site-packages/jedi/inference/param.py'>,\n",
       "  'jedi.inference.gradual.annotation': <module 'jedi.inference.gradual.annotation' from '/Users/junix/miniconda3/envs/py310/lib/python3.10/site-packages/jedi/inference/gradual/annotation.py'>,\n",
       "  'jedi.inference.value.decorator': <module 'jedi.inference.value.decorator' from '/Users/junix/miniconda3/envs/py310/lib/python3.10/site-packages/jedi/inference/value/decorator.py'>,\n",
       "  'jedi.inference.syntax_tree': <module 'jedi.inference.syntax_tree' from '/Users/junix/miniconda3/envs/py310/lib/python3.10/site-packages/jedi/inference/syntax_tree.py'>,\n",
       "  'jedi.inference': <module 'jedi.inference' from '/Users/junix/miniconda3/envs/py310/lib/python3.10/site-packages/jedi/inference/__init__.py'>,\n",
       "  'jedi.inference.gradual.conversion': <module 'jedi.inference.gradual.conversion' from '/Users/junix/miniconda3/envs/py310/lib/python3.10/site-packages/jedi/inference/gradual/conversion.py'>,\n",
       "  'jedi.inference.compiled.mixed': <module 'jedi.inference.compiled.mixed' from '/Users/junix/miniconda3/envs/py310/lib/python3.10/site-packages/jedi/inference/compiled/mixed.py'>,\n",
       "  'pydoc_data': <module 'pydoc_data' from '/Users/junix/miniconda3/envs/py310/lib/python3.10/pydoc_data/__init__.py'>,\n",
       "  'pydoc_data.topics': <module 'pydoc_data.topics' from '/Users/junix/miniconda3/envs/py310/lib/python3.10/pydoc_data/topics.py'>,\n",
       "  'jedi.api.keywords': <module 'jedi.api.keywords' from '/Users/junix/miniconda3/envs/py310/lib/python3.10/site-packages/jedi/api/keywords.py'>,\n",
       "  'jedi.api.completion_cache': <module 'jedi.api.completion_cache' from '/Users/junix/miniconda3/envs/py310/lib/python3.10/site-packages/jedi/api/completion_cache.py'>,\n",
       "  'jedi.api.helpers': <module 'jedi.api.helpers' from '/Users/junix/miniconda3/envs/py310/lib/python3.10/site-packages/jedi/api/helpers.py'>,\n",
       "  'jedi.api.classes': <module 'jedi.api.classes' from '/Users/junix/miniconda3/envs/py310/lib/python3.10/site-packages/jedi/api/classes.py'>,\n",
       "  'jedi.api.interpreter': <module 'jedi.api.interpreter' from '/Users/junix/miniconda3/envs/py310/lib/python3.10/site-packages/jedi/api/interpreter.py'>,\n",
       "  'jedi.api.strings': <module 'jedi.api.strings' from '/Users/junix/miniconda3/envs/py310/lib/python3.10/site-packages/jedi/api/strings.py'>,\n",
       "  'jedi.api.file_name': <module 'jedi.api.file_name' from '/Users/junix/miniconda3/envs/py310/lib/python3.10/site-packages/jedi/api/file_name.py'>,\n",
       "  'jedi.inference.docstring_utils': <module 'jedi.inference.docstring_utils' from '/Users/junix/miniconda3/envs/py310/lib/python3.10/site-packages/jedi/inference/docstring_utils.py'>,\n",
       "  'jedi.api.completion': <module 'jedi.api.completion' from '/Users/junix/miniconda3/envs/py310/lib/python3.10/site-packages/jedi/api/completion.py'>,\n",
       "  'filecmp': <module 'filecmp' from '/Users/junix/miniconda3/envs/py310/lib/python3.10/filecmp.py'>,\n",
       "  'jedi.api.environment': <module 'jedi.api.environment' from '/Users/junix/miniconda3/envs/py310/lib/python3.10/site-packages/jedi/api/environment.py'>,\n",
       "  'jedi.inference.references': <module 'jedi.inference.references' from '/Users/junix/miniconda3/envs/py310/lib/python3.10/site-packages/jedi/inference/references.py'>,\n",
       "  'jedi.api.project': <module 'jedi.api.project' from '/Users/junix/miniconda3/envs/py310/lib/python3.10/site-packages/jedi/api/project.py'>,\n",
       "  'jedi.api.errors': <module 'jedi.api.errors' from '/Users/junix/miniconda3/envs/py310/lib/python3.10/site-packages/jedi/api/errors.py'>,\n",
       "  'jedi.api.refactoring': <module 'jedi.api.refactoring' from '/Users/junix/miniconda3/envs/py310/lib/python3.10/site-packages/jedi/api/refactoring/__init__.py'>,\n",
       "  'jedi.api.refactoring.extract': <module 'jedi.api.refactoring.extract' from '/Users/junix/miniconda3/envs/py310/lib/python3.10/site-packages/jedi/api/refactoring/extract.py'>,\n",
       "  'jedi.inference.gradual.utils': <module 'jedi.inference.gradual.utils' from '/Users/junix/miniconda3/envs/py310/lib/python3.10/site-packages/jedi/inference/gradual/utils.py'>,\n",
       "  'jedi.api': <module 'jedi.api' from '/Users/junix/miniconda3/envs/py310/lib/python3.10/site-packages/jedi/api/__init__.py'>,\n",
       "  'jedi.plugins.stdlib': <module 'jedi.plugins.stdlib' from '/Users/junix/miniconda3/envs/py310/lib/python3.10/site-packages/jedi/plugins/stdlib.py'>,\n",
       "  'jedi.plugins.flask': <module 'jedi.plugins.flask' from '/Users/junix/miniconda3/envs/py310/lib/python3.10/site-packages/jedi/plugins/flask.py'>,\n",
       "  'jedi.plugins.pytest': <module 'jedi.plugins.pytest' from '/Users/junix/miniconda3/envs/py310/lib/python3.10/site-packages/jedi/plugins/pytest.py'>,\n",
       "  'jedi.plugins.django': <module 'jedi.plugins.django' from '/Users/junix/miniconda3/envs/py310/lib/python3.10/site-packages/jedi/plugins/django.py'>,\n",
       "  'jedi.plugins.registry': <module 'jedi.plugins.registry' from '/Users/junix/miniconda3/envs/py310/lib/python3.10/site-packages/jedi/plugins/registry.py'>,\n",
       "  'jedi': <module 'jedi' from '/Users/junix/miniconda3/envs/py310/lib/python3.10/site-packages/jedi/__init__.py'>,\n",
       "  'IPython.core.completer': <module 'IPython.core.completer' from '/Users/junix/miniconda3/envs/py310/lib/python3.10/site-packages/IPython/core/completer.py'>,\n",
       "  'IPython.terminal.ptutils': <module 'IPython.terminal.ptutils' from '/Users/junix/miniconda3/envs/py310/lib/python3.10/site-packages/IPython/terminal/ptutils.py'>,\n",
       "  'IPython.terminal.shortcuts': <module 'IPython.terminal.shortcuts' from '/Users/junix/miniconda3/envs/py310/lib/python3.10/site-packages/IPython/terminal/shortcuts.py'>,\n",
       "  'concurrent.futures.thread': <module 'concurrent.futures.thread' from '/Users/junix/miniconda3/envs/py310/lib/python3.10/concurrent/futures/thread.py'>,\n",
       "  'IPython.terminal.debugger': <module 'IPython.terminal.debugger' from '/Users/junix/miniconda3/envs/py310/lib/python3.10/site-packages/IPython/terminal/debugger.py'>,\n",
       "  'IPython.lib.clipboard': <module 'IPython.lib.clipboard' from '/Users/junix/miniconda3/envs/py310/lib/python3.10/site-packages/IPython/lib/clipboard.py'>,\n",
       "  'IPython.terminal.magics': <module 'IPython.terminal.magics' from '/Users/junix/miniconda3/envs/py310/lib/python3.10/site-packages/IPython/terminal/magics.py'>,\n",
       "  'IPython.terminal.pt_inputhooks': <module 'IPython.terminal.pt_inputhooks' from '/Users/junix/miniconda3/envs/py310/lib/python3.10/site-packages/IPython/terminal/pt_inputhooks/__init__.py'>,\n",
       "  'IPython.terminal.prompts': <module 'IPython.terminal.prompts' from '/Users/junix/miniconda3/envs/py310/lib/python3.10/site-packages/IPython/terminal/prompts.py'>,\n",
       "  'IPython.terminal.interactiveshell': <module 'IPython.terminal.interactiveshell' from '/Users/junix/miniconda3/envs/py310/lib/python3.10/site-packages/IPython/terminal/interactiveshell.py'>,\n",
       "  'IPython.core.magics.auto': <module 'IPython.core.magics.auto' from '/Users/junix/miniconda3/envs/py310/lib/python3.10/site-packages/IPython/core/magics/auto.py'>,\n",
       "  'IPython.core.magics.basic': <module 'IPython.core.magics.basic' from '/Users/junix/miniconda3/envs/py310/lib/python3.10/site-packages/IPython/core/magics/basic.py'>,\n",
       "  'email': <module 'email' from '/Users/junix/miniconda3/envs/py310/lib/python3.10/email/__init__.py'>,\n",
       "  'http': <module 'http' from '/Users/junix/miniconda3/envs/py310/lib/python3.10/http/__init__.py'>,\n",
       "  'email.errors': <module 'email.errors' from '/Users/junix/miniconda3/envs/py310/lib/python3.10/email/errors.py'>,\n",
       "  'email.quoprimime': <module 'email.quoprimime' from '/Users/junix/miniconda3/envs/py310/lib/python3.10/email/quoprimime.py'>,\n",
       "  'email.base64mime': <module 'email.base64mime' from '/Users/junix/miniconda3/envs/py310/lib/python3.10/email/base64mime.py'>,\n",
       "  'quopri': <module 'quopri' from '/Users/junix/miniconda3/envs/py310/lib/python3.10/quopri.py'>,\n",
       "  'email.encoders': <module 'email.encoders' from '/Users/junix/miniconda3/envs/py310/lib/python3.10/email/encoders.py'>,\n",
       "  'email.charset': <module 'email.charset' from '/Users/junix/miniconda3/envs/py310/lib/python3.10/email/charset.py'>,\n",
       "  'email.header': <module 'email.header' from '/Users/junix/miniconda3/envs/py310/lib/python3.10/email/header.py'>,\n",
       "  'email._parseaddr': <module 'email._parseaddr' from '/Users/junix/miniconda3/envs/py310/lib/python3.10/email/_parseaddr.py'>,\n",
       "  'email.utils': <module 'email.utils' from '/Users/junix/miniconda3/envs/py310/lib/python3.10/email/utils.py'>,\n",
       "  'email._policybase': <module 'email._policybase' from '/Users/junix/miniconda3/envs/py310/lib/python3.10/email/_policybase.py'>,\n",
       "  'email.feedparser': <module 'email.feedparser' from '/Users/junix/miniconda3/envs/py310/lib/python3.10/email/feedparser.py'>,\n",
       "  'email.parser': <module 'email.parser' from '/Users/junix/miniconda3/envs/py310/lib/python3.10/email/parser.py'>,\n",
       "  'uu': <module 'uu' from '/Users/junix/miniconda3/envs/py310/lib/python3.10/uu.py'>,\n",
       "  'email._encoded_words': <module 'email._encoded_words' from '/Users/junix/miniconda3/envs/py310/lib/python3.10/email/_encoded_words.py'>,\n",
       "  'email.iterators': <module 'email.iterators' from '/Users/junix/miniconda3/envs/py310/lib/python3.10/email/iterators.py'>,\n",
       "  'email.message': <module 'email.message' from '/Users/junix/miniconda3/envs/py310/lib/python3.10/email/message.py'>,\n",
       "  'http.client': <module 'http.client' from '/Users/junix/miniconda3/envs/py310/lib/python3.10/http/client.py'>,\n",
       "  'urllib.response': <module 'urllib.response' from '/Users/junix/miniconda3/envs/py310/lib/python3.10/urllib/response.py'>,\n",
       "  'urllib.error': <module 'urllib.error' from '/Users/junix/miniconda3/envs/py310/lib/python3.10/urllib/error.py'>,\n",
       "  '_scproxy': <module '_scproxy' from '/Users/junix/miniconda3/envs/py310/lib/python3.10/lib-dynload/_scproxy.cpython-310-darwin.so'>,\n",
       "  'urllib.request': <module 'urllib.request' from '/Users/junix/miniconda3/envs/py310/lib/python3.10/urllib/request.py'>,\n",
       "  'IPython.utils.contexts': <module 'IPython.utils.contexts' from '/Users/junix/miniconda3/envs/py310/lib/python3.10/site-packages/IPython/utils/contexts.py'>,\n",
       "  'IPython.core.magics.code': <module 'IPython.core.magics.code' from '/Users/junix/miniconda3/envs/py310/lib/python3.10/site-packages/IPython/core/magics/code.py'>,\n",
       "  'IPython.core.magics.config': <module 'IPython.core.magics.config' from '/Users/junix/miniconda3/envs/py310/lib/python3.10/site-packages/IPython/core/magics/config.py'>,\n",
       "  'IPython.core.magics.display': <module 'IPython.core.magics.display' from '/Users/junix/miniconda3/envs/py310/lib/python3.10/site-packages/IPython/core/magics/display.py'>,\n",
       "  '_lsprof': <module '_lsprof' from '/Users/junix/miniconda3/envs/py310/lib/python3.10/lib-dynload/_lsprof.cpython-310-darwin.so'>,\n",
       "  'profile': <module 'profile' from '/Users/junix/miniconda3/envs/py310/lib/python3.10/profile.py'>,\n",
       "  'cProfile': <module 'cProfile' from '/Users/junix/miniconda3/envs/py310/lib/python3.10/cProfile.py'>,\n",
       "  'pstats': <module 'pstats' from '/Users/junix/miniconda3/envs/py310/lib/python3.10/pstats.py'>,\n",
       "  'timeit': <module 'timeit' from '/Users/junix/miniconda3/envs/py310/lib/python3.10/timeit.py'>,\n",
       "  'IPython.utils.module_paths': <module 'IPython.utils.module_paths' from '/Users/junix/miniconda3/envs/py310/lib/python3.10/site-packages/IPython/utils/module_paths.py'>,\n",
       "  'IPython.utils.timing': <module 'IPython.utils.timing' from '/Users/junix/miniconda3/envs/py310/lib/python3.10/site-packages/IPython/utils/timing.py'>,\n",
       "  'IPython.core.magics.execution': <module 'IPython.core.magics.execution' from '/Users/junix/miniconda3/envs/py310/lib/python3.10/site-packages/IPython/core/magics/execution.py'>,\n",
       "  'IPython.core.magics.extension': <module 'IPython.core.magics.extension' from '/Users/junix/miniconda3/envs/py310/lib/python3.10/site-packages/IPython/core/magics/extension.py'>,\n",
       "  'IPython.core.magics.history': <module 'IPython.core.magics.history' from '/Users/junix/miniconda3/envs/py310/lib/python3.10/site-packages/IPython/core/magics/history.py'>,\n",
       "  'IPython.core.magics.logging': <module 'IPython.core.magics.logging' from '/Users/junix/miniconda3/envs/py310/lib/python3.10/site-packages/IPython/core/magics/logging.py'>,\n",
       "  'IPython.core.magics.namespace': <module 'IPython.core.magics.namespace' from '/Users/junix/miniconda3/envs/py310/lib/python3.10/site-packages/IPython/core/magics/namespace.py'>,\n",
       "  'IPython.core.magics.osm': <module 'IPython.core.magics.osm' from '/Users/junix/miniconda3/envs/py310/lib/python3.10/site-packages/IPython/core/magics/osm.py'>,\n",
       "  'IPython.core.magics.packaging': <module 'IPython.core.magics.packaging' from '/Users/junix/miniconda3/envs/py310/lib/python3.10/site-packages/IPython/core/magics/packaging.py'>,\n",
       "  'IPython.core.pylabtools': <module 'IPython.core.pylabtools' from '/Users/junix/miniconda3/envs/py310/lib/python3.10/site-packages/IPython/core/pylabtools.py'>,\n",
       "  'IPython.core.magics.pylab': <module 'IPython.core.magics.pylab' from '/Users/junix/miniconda3/envs/py310/lib/python3.10/site-packages/IPython/core/magics/pylab.py'>,\n",
       "  'IPython.core.magics.script': <module 'IPython.core.magics.script' from '/Users/junix/miniconda3/envs/py310/lib/python3.10/site-packages/IPython/core/magics/script.py'>,\n",
       "  'IPython.core.magics': <module 'IPython.core.magics' from '/Users/junix/miniconda3/envs/py310/lib/python3.10/site-packages/IPython/core/magics/__init__.py'>,\n",
       "  'IPython.core.shellapp': <module 'IPython.core.shellapp' from '/Users/junix/miniconda3/envs/py310/lib/python3.10/site-packages/IPython/core/shellapp.py'>,\n",
       "  'IPython.extensions': <module 'IPython.extensions' from '/Users/junix/miniconda3/envs/py310/lib/python3.10/site-packages/IPython/extensions/__init__.py'>,\n",
       "  'IPython.extensions.storemagic': <module 'IPython.extensions.storemagic' from '/Users/junix/miniconda3/envs/py310/lib/python3.10/site-packages/IPython/extensions/storemagic.py'>,\n",
       "  'IPython.terminal.ipapp': <module 'IPython.terminal.ipapp' from '/Users/junix/miniconda3/envs/py310/lib/python3.10/site-packages/IPython/terminal/ipapp.py'>,\n",
       "  'IPython.terminal.embed': <module 'IPython.terminal.embed' from '/Users/junix/miniconda3/envs/py310/lib/python3.10/site-packages/IPython/terminal/embed.py'>,\n",
       "  'IPython.utils.frame': <module 'IPython.utils.frame' from '/Users/junix/miniconda3/envs/py310/lib/python3.10/site-packages/IPython/utils/frame.py'>,\n",
       "  'IPython': <module 'IPython' from '/Users/junix/miniconda3/envs/py310/lib/python3.10/site-packages/IPython/__init__.py'>,\n",
       "  'ipykernel.control': <module 'ipykernel.control' from '/Users/junix/miniconda3/envs/py310/lib/python3.10/site-packages/ipykernel/control.py'>,\n",
       "  'ipykernel.heartbeat': <module 'ipykernel.heartbeat' from '/Users/junix/miniconda3/envs/py310/lib/python3.10/site-packages/ipykernel/heartbeat.py'>,\n",
       "  'ipykernel.iostream': <module 'ipykernel.iostream' from '/Users/junix/miniconda3/envs/py310/lib/python3.10/site-packages/ipykernel/iostream.py'>,\n",
       "  'IPython.utils.tokenutil': <module 'IPython.utils.tokenutil' from '/Users/junix/miniconda3/envs/py310/lib/python3.10/site-packages/IPython/utils/tokenutil.py'>,\n",
       "  'ipykernel.jsonutil': <module 'ipykernel.jsonutil' from '/Users/junix/miniconda3/envs/py310/lib/python3.10/site-packages/ipykernel/jsonutil.py'>,\n",
       "  'pwd': <module 'pwd' (built-in)>,\n",
       "  'psutil._common': <module 'psutil._common' from '/Users/junix/miniconda3/envs/py310/lib/python3.10/site-packages/psutil/_common.py'>,\n",
       "  'psutil._compat': <module 'psutil._compat' from '/Users/junix/miniconda3/envs/py310/lib/python3.10/site-packages/psutil/_compat.py'>,\n",
       "  'psutil._psposix': <module 'psutil._psposix' from '/Users/junix/miniconda3/envs/py310/lib/python3.10/site-packages/psutil/_psposix.py'>,\n",
       "  'psutil._psutil_osx': <module 'psutil._psutil_osx' from '/Users/junix/miniconda3/envs/py310/lib/python3.10/site-packages/psutil/_psutil_osx.cpython-310-darwin.so'>,\n",
       "  'psutil._psutil_posix': <module 'psutil._psutil_posix' from '/Users/junix/miniconda3/envs/py310/lib/python3.10/site-packages/psutil/_psutil_posix.cpython-310-darwin.so'>,\n",
       "  'psutil._psosx': <module 'psutil._psosx' from '/Users/junix/miniconda3/envs/py310/lib/python3.10/site-packages/psutil/_psosx.py'>,\n",
       "  'psutil': <module 'psutil' from '/Users/junix/miniconda3/envs/py310/lib/python3.10/site-packages/psutil/__init__.py'>,\n",
       "  'tornado.locks': <module 'tornado.locks' from '/Users/junix/miniconda3/envs/py310/lib/python3.10/site-packages/tornado/locks.py'>,\n",
       "  'tornado.queues': <module 'tornado.queues' from '/Users/junix/miniconda3/envs/py310/lib/python3.10/site-packages/tornado/queues.py'>,\n",
       "  'ipykernel.kernelbase': <module 'ipykernel.kernelbase' from '/Users/junix/miniconda3/envs/py310/lib/python3.10/site-packages/ipykernel/kernelbase.py'>,\n",
       "  'ipykernel.comm.comm': <module 'ipykernel.comm.comm' from '/Users/junix/miniconda3/envs/py310/lib/python3.10/site-packages/ipykernel/comm/comm.py'>,\n",
       "  'ipykernel.comm.manager': <module 'ipykernel.comm.manager' from '/Users/junix/miniconda3/envs/py310/lib/python3.10/site-packages/ipykernel/comm/manager.py'>,\n",
       "  'ipykernel.comm': <module 'ipykernel.comm' from '/Users/junix/miniconda3/envs/py310/lib/python3.10/site-packages/ipykernel/comm/__init__.py'>,\n",
       "  'ipykernel.compiler': <module 'ipykernel.compiler' from '/Users/junix/miniconda3/envs/py310/lib/python3.10/site-packages/ipykernel/compiler.py'>,\n",
       "  'debugpy._version': <module 'debugpy._version' from '/Users/junix/miniconda3/envs/py310/lib/python3.10/site-packages/debugpy/_version.py'>,\n",
       "  'debugpy.common': <module 'debugpy.common' from '/Users/junix/miniconda3/envs/py310/lib/python3.10/site-packages/debugpy/common/__init__.py'>,\n",
       "  'debugpy.common.json': <module 'debugpy.common.json' from '/Users/junix/miniconda3/envs/py310/lib/python3.10/site-packages/debugpy/common/json.py'>,\n",
       "  'debugpy.common.fmt': <module 'debugpy.common.fmt' from '/Users/junix/miniconda3/envs/py310/lib/python3.10/site-packages/debugpy/common/fmt.py'>,\n",
       "  'debugpy.common.compat': <module 'debugpy.common.compat' from '/Users/junix/miniconda3/envs/py310/lib/python3.10/site-packages/debugpy/common/compat.py'>,\n",
       "  'debugpy': <module 'debugpy' from '/Users/junix/miniconda3/envs/py310/lib/python3.10/site-packages/debugpy/__init__.py'>,\n",
       "  'debugpy._vendored._util': <module 'debugpy._vendored._util' from '/Users/junix/miniconda3/envs/py310/lib/python3.10/site-packages/debugpy/_vendored/_util.py'>,\n",
       "  'debugpy._vendored': <module 'debugpy._vendored' from '/Users/junix/miniconda3/envs/py310/lib/python3.10/site-packages/debugpy/_vendored/__init__.py'>,\n",
       "  '_pydevd_bundle': <module '_pydevd_bundle' from '/Users/junix/miniconda3/envs/py310/lib/python3.10/site-packages/debugpy/_vendored/pydevd/_pydevd_bundle/__init__.py'>,\n",
       "  'encodings.ascii': <module 'encodings.ascii' from '/Users/junix/miniconda3/envs/py310/lib/python3.10/encodings/ascii.py'>,\n",
       "  'encodings.latin_1': <module 'encodings.latin_1' from '/Users/junix/miniconda3/envs/py310/lib/python3.10/encodings/latin_1.py'>,\n",
       "  'stringprep': <module 'stringprep' from '/Users/junix/miniconda3/envs/py310/lib/python3.10/stringprep.py'>,\n",
       "  'encodings.idna': <module 'encodings.idna' from '/Users/junix/miniconda3/envs/py310/lib/python3.10/encodings/idna.py'>,\n",
       "  '_pydevd_bundle.pydevd_vm_type': <module '_pydevd_bundle.pydevd_vm_type' from '/Users/junix/miniconda3/envs/py310/lib/python3.10/site-packages/debugpy/_vendored/pydevd/_pydevd_bundle/pydevd_vm_type.py'>,\n",
       "  '_pydev_imps': <module '_pydev_imps' from '/Users/junix/miniconda3/envs/py310/lib/python3.10/site-packages/debugpy/_vendored/pydevd/_pydev_imps/__init__.py'>,\n",
       "  'xmlrpc': <module 'xmlrpc' from '/Users/junix/miniconda3/envs/py310/lib/python3.10/xmlrpc/__init__.py'>,\n",
       "  'xml.parsers': <module 'xml.parsers' from '/Users/junix/miniconda3/envs/py310/lib/python3.10/xml/parsers/__init__.py'>,\n",
       "  'pyexpat.errors': <module 'pyexpat.errors'>,\n",
       "  'pyexpat.model': <module 'pyexpat.model'>,\n",
       "  'pyexpat': <module 'pyexpat' from '/Users/junix/miniconda3/envs/py310/lib/python3.10/lib-dynload/pyexpat.cpython-310-darwin.so'>,\n",
       "  'xml.parsers.expat.model': <module 'pyexpat.model'>,\n",
       "  'xml.parsers.expat.errors': <module 'pyexpat.errors'>,\n",
       "  'xml.parsers.expat': <module 'xml.parsers.expat' from '/Users/junix/miniconda3/envs/py310/lib/python3.10/xml/parsers/expat.py'>,\n",
       "  'gzip': <module 'gzip' from '/Users/junix/miniconda3/envs/py310/lib/python3.10/gzip.py'>,\n",
       "  'xmlrpc.client': <module 'xmlrpc.client' from '/Users/junix/miniconda3/envs/py310/lib/python3.10/xmlrpc/client.py'>,\n",
       "  'http.server': <module 'http.server' from '/Users/junix/miniconda3/envs/py310/lib/python3.10/http/server.py'>,\n",
       "  'xmlrpc.server': <module 'xmlrpc.server' from '/Users/junix/miniconda3/envs/py310/lib/python3.10/xmlrpc/server.py'>,\n",
       "  '_pydev_imps._pydev_saved_modules': <module '_pydev_imps._pydev_saved_modules' from '/Users/junix/miniconda3/envs/py310/lib/python3.10/site-packages/debugpy/_vendored/pydevd/_pydev_imps/_pydev_saved_modules.py'>,\n",
       "  '_pydevd_bundle.pydevd_constants': <module '_pydevd_bundle.pydevd_constants' from '/Users/junix/miniconda3/envs/py310/lib/python3.10/site-packages/debugpy/_vendored/pydevd/_pydevd_bundle/pydevd_constants.py'>,\n",
       "  '_pydev_bundle': <module '_pydev_bundle' from '/Users/junix/miniconda3/envs/py310/lib/python3.10/site-packages/debugpy/_vendored/pydevd/_pydev_bundle/__init__.py'>,\n",
       "  '_pydev_runfiles': <module '_pydev_runfiles' from '/Users/junix/miniconda3/envs/py310/lib/python3.10/site-packages/debugpy/_vendored/pydevd/_pydev_runfiles/__init__.py'>,\n",
       "  '_pydevd_frame_eval': <module '_pydevd_frame_eval' from '/Users/junix/miniconda3/envs/py310/lib/python3.10/site-packages/debugpy/_vendored/pydevd/_pydevd_frame_eval/__init__.py'>,\n",
       "  'pydev_ipython': <module 'pydev_ipython' from '/Users/junix/miniconda3/envs/py310/lib/python3.10/site-packages/debugpy/_vendored/pydevd/pydev_ipython/__init__.py'>,\n",
       "  'pydevd_concurrency_analyser': <module 'pydevd_concurrency_analyser' from '/Users/junix/miniconda3/envs/py310/lib/python3.10/site-packages/debugpy/_vendored/pydevd/pydevd_concurrency_analyser/__init__.py'>,\n",
       "  'plistlib': <module 'plistlib' from '/Users/junix/miniconda3/envs/py310/lib/python3.10/plistlib.py'>,\n",
       "  'pkg_resources.extern': <module 'pkg_resources.extern' from '/Users/junix/miniconda3/envs/py310/lib/python3.10/site-packages/pkg_resources/extern/__init__.py'>,\n",
       "  'pkg_resources._vendor': <module 'pkg_resources._vendor' from '/Users/junix/miniconda3/envs/py310/lib/python3.10/site-packages/pkg_resources/_vendor/__init__.py'>,\n",
       "  'pkg_resources._vendor.jaraco': <module 'pkg_resources.extern.jaraco' (<pkg_resources.extern.VendorImporter object at 0x7feb18774af0>)>,\n",
       "  'pkg_resources.extern.jaraco': <module 'pkg_resources.extern.jaraco' (<pkg_resources.extern.VendorImporter object at 0x7feb18774af0>)>,\n",
       "  'importlib.abc': <module 'importlib.abc' from '/Users/junix/miniconda3/envs/py310/lib/python3.10/importlib/abc.py'>,\n",
       "  'importlib._adapters': <module 'importlib._adapters' from '/Users/junix/miniconda3/envs/py310/lib/python3.10/importlib/_adapters.py'>,\n",
       "  'importlib._common': <module 'importlib._common' from '/Users/junix/miniconda3/envs/py310/lib/python3.10/importlib/_common.py'>,\n",
       "  'importlib.resources': <module 'importlib.resources' from '/Users/junix/miniconda3/envs/py310/lib/python3.10/importlib/resources.py'>,\n",
       "  'pkg_resources._vendor.more_itertools.recipes': <module 'pkg_resources._vendor.more_itertools.recipes' from '/Users/junix/miniconda3/envs/py310/lib/python3.10/site-packages/pkg_resources/_vendor/more_itertools/recipes.py'>,\n",
       "  'pkg_resources._vendor.more_itertools.more': <module 'pkg_resources._vendor.more_itertools.more' from '/Users/junix/miniconda3/envs/py310/lib/python3.10/site-packages/pkg_resources/_vendor/more_itertools/more.py'>,\n",
       "  'pkg_resources._vendor.more_itertools': <module 'pkg_resources.extern.more_itertools' (<pkg_resources.extern.VendorImporter object at 0x7feb18774af0>)>,\n",
       "  'pkg_resources.extern.more_itertools': <module 'pkg_resources.extern.more_itertools' (<pkg_resources.extern.VendorImporter object at 0x7feb18774af0>)>,\n",
       "  'pkg_resources.extern.jaraco.functools': <module 'pkg_resources.extern.jaraco.functools' from '/Users/junix/miniconda3/envs/py310/lib/python3.10/site-packages/pkg_resources/_vendor/jaraco/functools.py'>,\n",
       "  'pkg_resources.extern.jaraco.context': <module 'pkg_resources.extern.jaraco.context' from '/Users/junix/miniconda3/envs/py310/lib/python3.10/site-packages/pkg_resources/_vendor/jaraco/context.py'>,\n",
       "  'pkg_resources.extern.jaraco.text': <module 'pkg_resources.extern.jaraco.text' from '/Users/junix/miniconda3/envs/py310/lib/python3.10/site-packages/pkg_resources/_vendor/jaraco/text/__init__.py'>,\n",
       "  'pkg_resources._vendor.appdirs': <module 'pkg_resources.extern.appdirs' (<pkg_resources.extern.VendorImporter object at 0x7feb18774af0>)>,\n",
       "  'pkg_resources.extern.appdirs': <module 'pkg_resources.extern.appdirs' (<pkg_resources.extern.VendorImporter object at 0x7feb18774af0>)>,\n",
       "  'pkg_resources._vendor.packaging.__about__': <module 'pkg_resources._vendor.packaging.__about__' from '/Users/junix/miniconda3/envs/py310/lib/python3.10/site-packages/pkg_resources/_vendor/packaging/__about__.py'>,\n",
       "  'pkg_resources._vendor.packaging': <module 'pkg_resources.extern.packaging' (<pkg_resources.extern.VendorImporter object at 0x7feb18774af0>)>,\n",
       "  'pkg_resources.extern.packaging': <module 'pkg_resources.extern.packaging' (<pkg_resources.extern.VendorImporter object at 0x7feb18774af0>)>,\n",
       "  'pkg_resources.extern.packaging._structures': <module 'pkg_resources.extern.packaging._structures' from '/Users/junix/miniconda3/envs/py310/lib/python3.10/site-packages/pkg_resources/_vendor/packaging/_structures.py'>,\n",
       "  'pkg_resources.extern.packaging.version': <module 'pkg_resources.extern.packaging.version' from '/Users/junix/miniconda3/envs/py310/lib/python3.10/site-packages/pkg_resources/_vendor/packaging/version.py'>,\n",
       "  'pkg_resources._vendor.packaging._manylinux': <module 'pkg_resources._vendor.packaging._manylinux' from '/Users/junix/miniconda3/envs/py310/lib/python3.10/site-packages/pkg_resources/_vendor/packaging/_manylinux.py'>,\n",
       "  'pkg_resources._vendor.packaging._musllinux': <module 'pkg_resources._vendor.packaging._musllinux' from '/Users/junix/miniconda3/envs/py310/lib/python3.10/site-packages/pkg_resources/_vendor/packaging/_musllinux.py'>,\n",
       "  'pkg_resources.extern.packaging.tags': <module 'pkg_resources.extern.packaging.tags' from '/Users/junix/miniconda3/envs/py310/lib/python3.10/site-packages/pkg_resources/_vendor/packaging/tags.py'>,\n",
       "  'pkg_resources.extern.packaging.utils': <module 'pkg_resources.extern.packaging.utils' from '/Users/junix/miniconda3/envs/py310/lib/python3.10/site-packages/pkg_resources/_vendor/packaging/utils.py'>,\n",
       "  'pkg_resources.extern.packaging.specifiers': <module 'pkg_resources.extern.packaging.specifiers' from '/Users/junix/miniconda3/envs/py310/lib/python3.10/site-packages/pkg_resources/_vendor/packaging/specifiers.py'>,\n",
       "  'pkg_resources._vendor.pyparsing.util': <module 'pkg_resources._vendor.pyparsing.util' from '/Users/junix/miniconda3/envs/py310/lib/python3.10/site-packages/pkg_resources/_vendor/pyparsing/util.py'>,\n",
       "  'pkg_resources._vendor.pyparsing.unicode': <module 'pkg_resources._vendor.pyparsing.unicode' from '/Users/junix/miniconda3/envs/py310/lib/python3.10/site-packages/pkg_resources/_vendor/pyparsing/unicode.py'>,\n",
       "  'pkg_resources._vendor.pyparsing.exceptions': <module 'pkg_resources._vendor.pyparsing.exceptions' from '/Users/junix/miniconda3/envs/py310/lib/python3.10/site-packages/pkg_resources/_vendor/pyparsing/exceptions.py'>,\n",
       "  'pkg_resources._vendor.pyparsing.actions': <module 'pkg_resources._vendor.pyparsing.actions' from '/Users/junix/miniconda3/envs/py310/lib/python3.10/site-packages/pkg_resources/_vendor/pyparsing/actions.py'>,\n",
       "  'pkg_resources._vendor.pyparsing.results': <module 'pkg_resources._vendor.pyparsing.results' from '/Users/junix/miniconda3/envs/py310/lib/python3.10/site-packages/pkg_resources/_vendor/pyparsing/results.py'>,\n",
       "  'pkg_resources._vendor.pyparsing.core': <module 'pkg_resources._vendor.pyparsing.core' from '/Users/junix/miniconda3/envs/py310/lib/python3.10/site-packages/pkg_resources/_vendor/pyparsing/core.py'>,\n",
       "  'pkg_resources._vendor.pyparsing.helpers': <module 'pkg_resources._vendor.pyparsing.helpers' from '/Users/junix/miniconda3/envs/py310/lib/python3.10/site-packages/pkg_resources/_vendor/pyparsing/helpers.py'>,\n",
       "  'pkg_resources._vendor.pyparsing.testing': <module 'pkg_resources._vendor.pyparsing.testing' from '/Users/junix/miniconda3/envs/py310/lib/python3.10/site-packages/pkg_resources/_vendor/pyparsing/testing.py'>,\n",
       "  'pkg_resources._vendor.pyparsing.common': <module 'pkg_resources._vendor.pyparsing.common' from '/Users/junix/miniconda3/envs/py310/lib/python3.10/site-packages/pkg_resources/_vendor/pyparsing/common.py'>,\n",
       "  'pkg_resources._vendor.pyparsing': <module 'pkg_resources.extern.pyparsing' (<pkg_resources.extern.VendorImporter object at 0x7feb18774af0>)>,\n",
       "  'pkg_resources.extern.pyparsing': <module 'pkg_resources.extern.pyparsing' (<pkg_resources.extern.VendorImporter object at 0x7feb18774af0>)>,\n",
       "  'pkg_resources.extern.packaging.markers': <module 'pkg_resources.extern.packaging.markers' from '/Users/junix/miniconda3/envs/py310/lib/python3.10/site-packages/pkg_resources/_vendor/packaging/markers.py'>,\n",
       "  'pkg_resources.extern.packaging.requirements': <module 'pkg_resources.extern.packaging.requirements' from '/Users/junix/miniconda3/envs/py310/lib/python3.10/site-packages/pkg_resources/_vendor/packaging/requirements.py'>,\n",
       "  'pkg_resources': <module 'pkg_resources' from '/Users/junix/miniconda3/envs/py310/lib/python3.10/site-packages/pkg_resources/__init__.py'>,\n",
       "  'pydevd_plugins': <module 'pydevd_plugins' from '/Users/junix/miniconda3/envs/py310/lib/python3.10/site-packages/debugpy/_vendored/pydevd/pydevd_plugins/__init__.py'>,\n",
       "  '_pydev_bundle.pydev_log': <module '_pydev_bundle.pydev_log' from '/Users/junix/miniconda3/envs/py310/lib/python3.10/site-packages/debugpy/_vendored/pydevd/_pydev_bundle/pydev_log.py'>,\n",
       "  '_pydev_bundle._pydev_filesystem_encoding': <module '_pydev_bundle._pydev_filesystem_encoding' from '/Users/junix/miniconda3/envs/py310/lib/python3.10/site-packages/debugpy/_vendored/pydevd/_pydev_bundle/_pydev_filesystem_encoding.py'>,\n",
       "  '_pydevd_bundle.pydevd_comm_constants': <module '_pydevd_bundle.pydevd_comm_constants' from '/Users/junix/miniconda3/envs/py310/lib/python3.10/site-packages/debugpy/_vendored/pydevd/_pydevd_bundle/pydevd_comm_constants.py'>,\n",
       "  'pydevd_file_utils': <module 'pydevd_file_utils' from '/Users/junix/miniconda3/envs/py310/lib/python3.10/site-packages/debugpy/_vendored/pydevd/pydevd_file_utils.py'>,\n",
       "  '_pydev_imps._pydev_execfile': <module '_pydev_imps._pydev_execfile' from '/Users/junix/miniconda3/envs/py310/lib/python3.10/site-packages/debugpy/_vendored/pydevd/_pydev_imps/_pydev_execfile.py'>,\n",
       "  '_pydevd_bundle.pydevd_exec2': <module '_pydevd_bundle.pydevd_exec2' from '/Users/junix/miniconda3/envs/py310/lib/python3.10/site-packages/debugpy/_vendored/pydevd/_pydevd_bundle/pydevd_exec2.py'>,\n",
       "  '_pydev_bundle.pydev_imports': <module '_pydev_bundle.pydev_imports' from '/Users/junix/miniconda3/envs/py310/lib/python3.10/site-packages/debugpy/_vendored/pydevd/_pydev_bundle/pydev_imports.py'>,\n",
       "  '_pydev_bundle.pydev_is_thread_alive': <module '_pydev_bundle.pydev_is_thread_alive' from '/Users/junix/miniconda3/envs/py310/lib/python3.10/site-packages/debugpy/_vendored/pydevd/_pydev_bundle/pydev_is_thread_alive.py'>,\n",
       "  '_pydev_bundle.pydev_override': <module '_pydev_bundle.pydev_override' from '/Users/junix/miniconda3/envs/py310/lib/python3.10/site-packages/debugpy/_vendored/pydevd/_pydev_bundle/pydev_override.py'>,\n",
       "  'pydevd_plugins.extensions': <module 'pydevd_plugins.extensions' from '/Users/junix/miniconda3/envs/py310/lib/python3.10/site-packages/debugpy/_vendored/pydevd/pydevd_plugins/extensions/__init__.py'>,\n",
       "  '_pydevd_bundle.pydevd_extension_utils': <module '_pydevd_bundle.pydevd_extension_utils' from '/Users/junix/miniconda3/envs/py310/lib/python3.10/site-packages/debugpy/_vendored/pydevd/_pydevd_bundle/pydevd_extension_utils.py'>,\n",
       "  '_pydevd_bundle.pydevd_frame_utils': <module '_pydevd_bundle.pydevd_frame_utils' from '/Users/junix/miniconda3/envs/py310/lib/python3.10/site-packages/debugpy/_vendored/pydevd/_pydevd_bundle/pydevd_frame_utils.py'>,\n",
       "  '_pydevd_bundle.pydevd_filtering': <module '_pydevd_bundle.pydevd_filtering' from '/Users/junix/miniconda3/envs/py310/lib/python3.10/site-packages/debugpy/_vendored/pydevd/_pydevd_bundle/pydevd_filtering.py'>,\n",
       "  '_pydevd_bundle.pydevd_io': <module '_pydevd_bundle.pydevd_io' from '/Users/junix/miniconda3/envs/py310/lib/python3.10/site-packages/debugpy/_vendored/pydevd/_pydevd_bundle/pydevd_io.py'>,\n",
       "  '_pydevd_bundle.pydevd_utils': <module '_pydevd_bundle.pydevd_utils' from '/Users/junix/miniconda3/envs/py310/lib/python3.10/site-packages/debugpy/_vendored/pydevd/_pydevd_bundle/pydevd_utils.py'>,\n",
       "  '_pydev_bundle._pydev_tipper_common': <module '_pydev_bundle._pydev_tipper_common' from '/Users/junix/miniconda3/envs/py310/lib/python3.10/site-packages/debugpy/_vendored/pydevd/_pydev_bundle/_pydev_tipper_common.py'>,\n",
       "  '_pydev_bundle._pydev_imports_tipper': <module '_pydev_bundle._pydev_imports_tipper' from '/Users/junix/miniconda3/envs/py310/lib/python3.10/site-packages/debugpy/_vendored/pydevd/_pydev_bundle/_pydev_imports_tipper.py'>,\n",
       "  '_pydev_bundle._pydev_calltip_util': <module '_pydev_bundle._pydev_calltip_util' from '/Users/junix/miniconda3/envs/py310/lib/python3.10/site-packages/debugpy/_vendored/pydevd/_pydev_bundle/_pydev_calltip_util.py'>,\n",
       "  '_pydevd_bundle.pydevd_safe_repr': <module '_pydevd_bundle.pydevd_safe_repr' from '/Users/junix/miniconda3/envs/py310/lib/python3.10/site-packages/debugpy/_vendored/pydevd/_pydevd_bundle/pydevd_safe_repr.py'>,\n",
       "  '_pydevd_bundle.pydevd_resolver': <module '_pydevd_bundle.pydevd_resolver' from '/Users/junix/miniconda3/envs/py310/lib/python3.10/site-packages/debugpy/_vendored/pydevd/_pydevd_bundle/pydevd_resolver.py'>,\n",
       "  '_pydevd_bundle.pydevd_extension_api': <module '_pydevd_bundle.pydevd_extension_api' from '/Users/junix/miniconda3/envs/py310/lib/python3.10/site-packages/debugpy/_vendored/pydevd/_pydevd_bundle/pydevd_extension_api.py'>,\n",
       "  '_pydevd_bundle.pydevd_xml': <module '_pydevd_bundle.pydevd_xml' from '/Users/junix/miniconda3/envs/py310/lib/python3.10/site-packages/debugpy/_vendored/pydevd/_pydevd_bundle/pydevd_xml.py'>,\n",
       "  '_pydevd_bundle.pydevd_dont_trace': <module '_pydevd_bundle.pydevd_dont_trace' from '/Users/junix/miniconda3/envs/py310/lib/python3.10/site-packages/debugpy/_vendored/pydevd/_pydevd_bundle/pydevd_dont_trace.py'>,\n",
       "  '_pydevd_frame_eval.vendored': <module '_pydevd_frame_eval.vendored' from '/Users/junix/miniconda3/envs/py310/lib/python3.10/site-packages/debugpy/_vendored/pydevd/_pydevd_frame_eval/vendored/__init__.py'>,\n",
       "  '_pydevd_frame_eval.vendored.bytecode.flags': <module '_pydevd_frame_eval.vendored.bytecode.flags' from '/Users/junix/miniconda3/envs/py310/lib/python3.10/site-packages/debugpy/_vendored/pydevd/_pydevd_frame_eval/vendored/bytecode/flags.py'>,\n",
       "  '_pydevd_frame_eval.vendored.bytecode.instr': <module '_pydevd_frame_eval.vendored.bytecode.instr' from '/Users/junix/miniconda3/envs/py310/lib/python3.10/site-packages/debugpy/_vendored/pydevd/_pydevd_frame_eval/vendored/bytecode/instr.py'>,\n",
       "  '_pydevd_frame_eval.vendored.bytecode.bytecode': <module '_pydevd_frame_eval.vendored.bytecode.bytecode' from '/Users/junix/miniconda3/envs/py310/lib/python3.10/site-packages/debugpy/_vendored/pydevd/_pydevd_frame_eval/vendored/bytecode/bytecode.py'>,\n",
       "  '_pydevd_frame_eval.vendored.bytecode.concrete': <module '_pydevd_frame_eval.vendored.bytecode.concrete' from '/Users/junix/miniconda3/envs/py310/lib/python3.10/site-packages/debugpy/_vendored/pydevd/_pydevd_frame_eval/vendored/bytecode/concrete.py'>,\n",
       "  '_pydevd_frame_eval.vendored.bytecode.cfg': <module '_pydevd_frame_eval.vendored.bytecode.cfg' from '/Users/junix/miniconda3/envs/py310/lib/python3.10/site-packages/debugpy/_vendored/pydevd/_pydevd_frame_eval/vendored/bytecode/cfg.py'>,\n",
       "  '_pydevd_frame_eval.vendored.bytecode': <module '_pydevd_frame_eval.vendored.bytecode' from '/Users/junix/miniconda3/envs/py310/lib/python3.10/site-packages/debugpy/_vendored/pydevd/_pydevd_frame_eval/vendored/bytecode/__init__.py'>,\n",
       "  '_pydevd_bundle.pydevd_bytecode_utils': <module '_pydevd_bundle.pydevd_bytecode_utils' from '/Users/junix/miniconda3/envs/py310/lib/python3.10/site-packages/debugpy/_vendored/pydevd/_pydevd_bundle/pydevd_bytecode_utils.py'>,\n",
       "  '_pydevd_bundle.pydevd_cython': <module '_pydevd_bundle.pydevd_cython' from '/Users/junix/miniconda3/envs/py310/lib/python3.10/site-packages/debugpy/_vendored/pydevd/_pydevd_bundle/pydevd_cython.cpython-310-darwin.so'>,\n",
       "  '_pydevd_bundle.pydevd_cython_wrapper': <module '_pydevd_bundle.pydevd_cython_wrapper' from '/Users/junix/miniconda3/envs/py310/lib/python3.10/site-packages/debugpy/_vendored/pydevd/_pydevd_bundle/pydevd_cython_wrapper.py'>,\n",
       "  '_pydevd_bundle.pydevd_additional_thread_info': <module '_pydevd_bundle.pydevd_additional_thread_info' from '/Users/junix/miniconda3/envs/py310/lib/python3.10/site-packages/debugpy/_vendored/pydevd/_pydevd_bundle/pydevd_additional_thread_info.py'>,\n",
       "  '_pydevd_bundle.pydevd_thread_lifecycle': <module '_pydevd_bundle.pydevd_thread_lifecycle' from '/Users/junix/miniconda3/envs/py310/lib/python3.10/site-packages/debugpy/_vendored/pydevd/_pydevd_bundle/pydevd_thread_lifecycle.py'>,\n",
       "  '_pydevd_bundle.pydevd_save_locals': <module '_pydevd_bundle.pydevd_save_locals' from '/Users/junix/miniconda3/envs/py310/lib/python3.10/site-packages/debugpy/_vendored/pydevd/_pydevd_bundle/pydevd_save_locals.py'>,\n",
       "  '_pydevd_bundle.pydevd_defaults': <module '_pydevd_bundle.pydevd_defaults' from '/Users/junix/miniconda3/envs/py310/lib/python3.10/site-packages/debugpy/_vendored/pydevd/_pydevd_bundle/pydevd_defaults.py'>,\n",
       "  '_pydev_bundle.pydev_monkey': <module '_pydev_bundle.pydev_monkey' from '/Users/junix/miniconda3/envs/py310/lib/python3.10/site-packages/debugpy/_vendored/pydevd/_pydev_bundle/pydev_monkey.py'>,\n",
       "  'pydevd_tracing': <module 'pydevd_tracing' from '/Users/junix/miniconda3/envs/py310/lib/python3.10/site-packages/debugpy/_vendored/pydevd/pydevd_tracing.py'>,\n",
       "  '_pydevd_bundle.pydevd_daemon_thread': <module '_pydevd_bundle.pydevd_daemon_thread' from '/Users/junix/miniconda3/envs/py310/lib/python3.10/site-packages/debugpy/_vendored/pydevd/_pydevd_bundle/pydevd_daemon_thread.py'>,\n",
       "  '_pydevd_bundle.pydevd_timeout': <module '_pydevd_bundle.pydevd_timeout' from '/Users/junix/miniconda3/envs/py310/lib/python3.10/site-packages/debugpy/_vendored/pydevd/_pydevd_bundle/pydevd_timeout.py'>,\n",
       "  '_pydevd_bundle.pydevd_vars': <module '_pydevd_bundle.pydevd_vars' from '/Users/junix/miniconda3/envs/py310/lib/python3.10/site-packages/debugpy/_vendored/pydevd/_pydevd_bundle/pydevd_vars.py'>,\n",
       "  '_pydev_bundle.pydev_console_utils': <module '_pydev_bundle.pydev_console_utils' from '/Users/junix/miniconda3/envs/py310/lib/python3.10/site-packages/debugpy/_vendored/pydevd/_pydev_bundle/pydev_console_utils.py'>,\n",
       "  '_pydevd_bundle.pydevd_import_class': <module '_pydevd_bundle.pydevd_import_class' from '/Users/junix/miniconda3/envs/py310/lib/python3.10/site-packages/debugpy/_vendored/pydevd/_pydevd_bundle/pydevd_import_class.py'>,\n",
       "  '_pydevd_bundle.pydevd_breakpoints': <module '_pydevd_bundle.pydevd_breakpoints' from '/Users/junix/miniconda3/envs/py310/lib/python3.10/site-packages/debugpy/_vendored/pydevd/_pydevd_bundle/pydevd_breakpoints.py'>,\n",
       "  '_pydevd_bundle.pydevd_custom_frames': <module '_pydevd_bundle.pydevd_custom_frames' from '/Users/junix/miniconda3/envs/py310/lib/python3.10/site-packages/debugpy/_vendored/pydevd/_pydevd_bundle/pydevd_custom_frames.py'>,\n",
       "  '_pydevd_bundle.pydevd_dont_trace_files': <module '_pydevd_bundle.pydevd_dont_trace_files' from '/Users/junix/miniconda3/envs/py310/lib/python3.10/site-packages/debugpy/_vendored/pydevd/_pydevd_bundle/pydevd_dont_trace_files.py'>,\n",
       "  '_pydevd_bundle.pydevd_net_command': <module '_pydevd_bundle.pydevd_net_command' from '/Users/junix/miniconda3/envs/py310/lib/python3.10/site-packages/debugpy/_vendored/pydevd/_pydevd_bundle/pydevd_net_command.py'>,\n",
       "  '_pydev_bundle.pydev_umd': <module '_pydev_bundle.pydev_umd' from '/Users/junix/miniconda3/envs/py310/lib/python3.10/site-packages/debugpy/_vendored/pydevd/_pydev_bundle/pydev_umd.py'>,\n",
       "  'pydevconsole': <module 'pydevconsole' from '/Users/junix/miniconda3/envs/py310/lib/python3.10/site-packages/debugpy/_vendored/pydevd/pydevconsole.py'>,\n",
       "  '_pydev_bundle._pydev_completer': <module '_pydev_bundle._pydev_completer' from '/Users/junix/miniconda3/envs/py310/lib/python3.10/site-packages/debugpy/_vendored/pydevd/_pydev_bundle/_pydev_completer.py'>,\n",
       "  '_pydevd_bundle.pydevd_net_command_factory_xml': <module '_pydevd_bundle.pydevd_net_command_factory_xml' from '/Users/junix/miniconda3/envs/py310/lib/python3.10/site-packages/debugpy/_vendored/pydevd/_pydevd_bundle/pydevd_net_command_factory_xml.py'>,\n",
       "  '_pydevd_bundle.pydevd_frame': <module '_pydevd_bundle.pydevd_frame' from '/Users/junix/miniconda3/envs/py310/lib/python3.10/site-packages/debugpy/_vendored/pydevd/_pydevd_bundle/pydevd_frame.py'>,\n",
       "  '_pydevd_bundle.pydevd_additional_thread_info_regular': <module '_pydevd_bundle.pydevd_additional_thread_info_regular' from '/Users/junix/miniconda3/envs/py310/lib/python3.10/site-packages/debugpy/_vendored/pydevd/_pydevd_bundle/pydevd_additional_thread_info_regular.py'>,\n",
       "  '_pydevd_bundle.pydevd_trace_dispatch': <module '_pydevd_bundle.pydevd_trace_dispatch' from '/Users/junix/miniconda3/envs/py310/lib/python3.10/site-packages/debugpy/_vendored/pydevd/_pydevd_bundle/pydevd_trace_dispatch.py'>,\n",
       "  '_pydevd_frame_eval.pydevd_frame_eval_main': <module '_pydevd_frame_eval.pydevd_frame_eval_main' from '/Users/junix/miniconda3/envs/py310/lib/python3.10/site-packages/debugpy/_vendored/pydevd/_pydevd_frame_eval/pydevd_frame_eval_main.py'>,\n",
       "  '_pydevd_bundle.pydevd_source_mapping': <module '_pydevd_bundle.pydevd_source_mapping' from '/Users/junix/miniconda3/envs/py310/lib/python3.10/site-packages/debugpy/_vendored/pydevd/_pydevd_bundle/pydevd_source_mapping.py'>,\n",
       "  'pydevd_concurrency_analyser.pydevd_thread_wrappers': <module 'pydevd_concurrency_analyser.pydevd_thread_wrappers' from '/Users/junix/miniconda3/envs/py310/lib/python3.10/site-packages/debugpy/_vendored/pydevd/pydevd_concurrency_analyser/pydevd_thread_wrappers.py'>,\n",
       "  'pydevd_concurrency_analyser.pydevd_concurrency_logger': <module 'pydevd_concurrency_analyser.pydevd_concurrency_logger' from '/Users/junix/miniconda3/envs/py310/lib/python3.10/site-packages/debugpy/_vendored/pydevd/pydevd_concurrency_analyser/pydevd_concurrency_logger.py'>,\n",
       "  '_pydevd_bundle._debug_adapter': <module '_pydevd_bundle._debug_adapter' from '/Users/junix/miniconda3/envs/py310/lib/python3.10/site-packages/debugpy/_vendored/pydevd/_pydevd_bundle/_debug_adapter/__init__.py'>,\n",
       "  '_pydevd_bundle._debug_adapter.pydevd_schema_log': <module '_pydevd_bundle._debug_adapter.pydevd_schema_log' from '/Users/junix/miniconda3/envs/py310/lib/python3.10/site-packages/debugpy/_vendored/pydevd/_pydevd_bundle/_debug_adapter/pydevd_schema_log.py'>,\n",
       "  '_pydevd_bundle._debug_adapter.pydevd_base_schema': <module '_pydevd_bundle._debug_adapter.pydevd_base_schema' from '/Users/junix/miniconda3/envs/py310/lib/python3.10/site-packages/debugpy/_vendored/pydevd/_pydevd_bundle/_debug_adapter/pydevd_base_schema.py'>,\n",
       "  '_pydevd_bundle._debug_adapter.pydevd_schema': <module '_pydevd_bundle._debug_adapter.pydevd_schema' from '/Users/junix/miniconda3/envs/py310/lib/python3.10/site-packages/debugpy/_vendored/pydevd/_pydevd_bundle/_debug_adapter/pydevd_schema.py'>,\n",
       "  '_pydevd_bundle.pydevd_reload': <module '_pydevd_bundle.pydevd_reload' from '/Users/junix/miniconda3/envs/py310/lib/python3.10/site-packages/debugpy/_vendored/pydevd/_pydevd_bundle/pydevd_reload.py'>,\n",
       "  '_pydev_bundle.fsnotify': <module '_pydev_bundle.fsnotify' from '/Users/junix/miniconda3/envs/py310/lib/python3.10/site-packages/debugpy/_vendored/pydevd/_pydev_bundle/fsnotify/__init__.py'>,\n",
       "  '_pydevd_bundle.pydevd_console': <module '_pydevd_bundle.pydevd_console' from '/Users/junix/miniconda3/envs/py310/lib/python3.10/site-packages/debugpy/_vendored/pydevd/_pydevd_bundle/pydevd_console.py'>,\n",
       "  '_pydevd_bundle.pydevd_comm': <module '_pydevd_bundle.pydevd_comm' from '/Users/junix/miniconda3/envs/py310/lib/python3.10/site-packages/debugpy/_vendored/pydevd/_pydevd_bundle/pydevd_comm.py'>,\n",
       "  '_pydevd_bundle.pydevd_net_command_factory_json': <module '_pydevd_bundle.pydevd_net_command_factory_json' from '/Users/junix/miniconda3/envs/py310/lib/python3.10/site-packages/debugpy/_vendored/pydevd/_pydevd_bundle/pydevd_net_command_factory_json.py'>,\n",
       "  '_pydevd_bundle.pydevd_collect_bytecode_info': <module '_pydevd_bundle.pydevd_collect_bytecode_info' from '/Users/junix/miniconda3/envs/py310/lib/python3.10/site-packages/debugpy/_vendored/pydevd/_pydevd_bundle/pydevd_collect_bytecode_info.py'>,\n",
       "  '_pydevd_bundle.pydevd_api': <module '_pydevd_bundle.pydevd_api' from '/Users/junix/miniconda3/envs/py310/lib/python3.10/site-packages/debugpy/_vendored/pydevd/_pydevd_bundle/pydevd_api.py'>,\n",
       "  '_pydevd_bundle.pydevd_json_debug_options': <module '_pydevd_bundle.pydevd_json_debug_options' from '/Users/junix/miniconda3/envs/py310/lib/python3.10/site-packages/debugpy/_vendored/pydevd/_pydevd_bundle/pydevd_json_debug_options.py'>,\n",
       "  '_pydevd_bundle.pydevd_process_net_command_json': <module '_pydevd_bundle.pydevd_process_net_command_json' from '/Users/junix/miniconda3/envs/py310/lib/python3.10/site-packages/debugpy/_vendored/pydevd/_pydevd_bundle/pydevd_process_net_command_json.py'>,\n",
       "  '_pydevd_bundle.pydevd_traceproperty': <module '_pydevd_bundle.pydevd_traceproperty' from '/Users/junix/miniconda3/envs/py310/lib/python3.10/site-packages/debugpy/_vendored/pydevd/_pydevd_bundle/pydevd_traceproperty.py'>,\n",
       "  '_pydevd_bundle.pydevd_process_net_command': <module '_pydevd_bundle.pydevd_process_net_command' from '/Users/junix/miniconda3/envs/py310/lib/python3.10/site-packages/debugpy/_vendored/pydevd/_pydevd_bundle/pydevd_process_net_command.py'>,\n",
       "  '_pydevd_bundle.pydevd_suspended_frames': <module '_pydevd_bundle.pydevd_suspended_frames' from '/Users/junix/miniconda3/envs/py310/lib/python3.10/site-packages/debugpy/_vendored/pydevd/_pydevd_bundle/pydevd_suspended_frames.py'>,\n",
       "  '_pydevd_bundle.pydevd_trace_api': <module '_pydevd_bundle.pydevd_trace_api' from '/Users/junix/miniconda3/envs/py310/lib/python3.10/site-packages/debugpy/_vendored/pydevd/_pydevd_bundle/pydevd_trace_api.py'>,\n",
       "  'pydevd_plugins.django_debug': <module 'pydevd_plugins.django_debug' from '/Users/junix/miniconda3/envs/py310/lib/python3.10/site-packages/debugpy/_vendored/pydevd/pydevd_plugins/django_debug.py'>,\n",
       "  'pydevd_plugins.jinja2_debug': <module 'pydevd_plugins.jinja2_debug' from '/Users/junix/miniconda3/envs/py310/lib/python3.10/site-packages/debugpy/_vendored/pydevd/pydevd_plugins/jinja2_debug.py'>,\n",
       "  '_pydevd_bundle.pydevd_plugin_utils': <module '_pydevd_bundle.pydevd_plugin_utils' from '/Users/junix/miniconda3/envs/py310/lib/python3.10/site-packages/debugpy/_vendored/pydevd/_pydevd_bundle/pydevd_plugin_utils.py'>,\n",
       "  'pydevd_plugins.extensions.types': <module 'pydevd_plugins.extensions.types' from '/Users/junix/miniconda3/envs/py310/lib/python3.10/site-packages/debugpy/_vendored/pydevd/pydevd_plugins/extensions/types/__init__.py'>,\n",
       "  'pydevd_plugins.extensions.types.pydevd_helpers': <module 'pydevd_plugins.extensions.types.pydevd_helpers' from '/Users/junix/miniconda3/envs/py310/lib/python3.10/site-packages/debugpy/_vendored/pydevd/pydevd_plugins/extensions/types/pydevd_helpers.py'>,\n",
       "  'pydevd_plugins.extensions.types.pydevd_plugin_numpy_types': <module 'pydevd_plugins.extensions.types.pydevd_plugin_numpy_types' from '/Users/junix/miniconda3/envs/py310/lib/python3.10/site-packages/debugpy/_vendored/pydevd/pydevd_plugins/extensions/types/pydevd_plugin_numpy_types.py'>,\n",
       "  'pydevd_plugins.extensions.types.pydevd_plugins_django_form_str': <module 'pydevd_plugins.extensions.types.pydevd_plugins_django_form_str' from '/Users/junix/miniconda3/envs/py310/lib/python3.10/site-packages/debugpy/_vendored/pydevd/pydevd_plugins/extensions/types/pydevd_plugins_django_form_str.py'>,\n",
       "  'pydevd': <module 'pydevd' from '/Users/junix/miniconda3/envs/py310/lib/python3.10/site-packages/debugpy/_vendored/pydevd/pydevd.py'>,\n",
       "  'debugpy._vendored.force_pydevd': <module 'debugpy._vendored.force_pydevd' from '/Users/junix/miniconda3/envs/py310/lib/python3.10/site-packages/debugpy/_vendored/force_pydevd.py'>,\n",
       "  'debugpy.server': <module 'debugpy.server' from '/Users/junix/miniconda3/envs/py310/lib/python3.10/site-packages/debugpy/server/__init__.py'>,\n",
       "  'debugpy.adapter': <module 'debugpy.adapter' from '/Users/junix/miniconda3/envs/py310/lib/python3.10/site-packages/debugpy/adapter/__init__.py'>,\n",
       "  'debugpy.common.timestamp': <module 'debugpy.common.timestamp' from '/Users/junix/miniconda3/envs/py310/lib/python3.10/site-packages/debugpy/common/timestamp.py'>,\n",
       "  'debugpy.common.util': <module 'debugpy.common.util' from '/Users/junix/miniconda3/envs/py310/lib/python3.10/site-packages/debugpy/common/util.py'>,\n",
       "  'debugpy.common.log': <module 'debugpy.common.log' from '/Users/junix/miniconda3/envs/py310/lib/python3.10/site-packages/debugpy/common/log.py'>,\n",
       "  'debugpy.common.sockets': <module 'debugpy.common.sockets' from '/Users/junix/miniconda3/envs/py310/lib/python3.10/site-packages/debugpy/common/sockets.py'>,\n",
       "  'debugpy.server.api': <module 'debugpy.server.api' from '/Users/junix/miniconda3/envs/py310/lib/python3.10/site-packages/debugpy/server/api.py'>,\n",
       "  'ipykernel.debugger': <module 'ipykernel.debugger' from '/Users/junix/miniconda3/envs/py310/lib/python3.10/site-packages/ipykernel/debugger.py'>,\n",
       "  'packaging.__about__': <module 'packaging.__about__' from '/Users/junix/miniconda3/envs/py310/lib/python3.10/site-packages/packaging/__about__.py'>,\n",
       "  'packaging': <module 'packaging' from '/Users/junix/miniconda3/envs/py310/lib/python3.10/site-packages/packaging/__init__.py'>,\n",
       "  'packaging._structures': <module 'packaging._structures' from '/Users/junix/miniconda3/envs/py310/lib/python3.10/site-packages/packaging/_structures.py'>,\n",
       "  'packaging.version': <module 'packaging.version' from '/Users/junix/miniconda3/envs/py310/lib/python3.10/site-packages/packaging/version.py'>,\n",
       "  'ipykernel.eventloops': <module 'ipykernel.eventloops' from '/Users/junix/miniconda3/envs/py310/lib/python3.10/site-packages/ipykernel/eventloops.py'>,\n",
       "  'IPython.core.payloadpage': <module 'IPython.core.payloadpage' from '/Users/junix/miniconda3/envs/py310/lib/python3.10/site-packages/IPython/core/payloadpage.py'>,\n",
       "  'ipykernel.displayhook': <module 'ipykernel.displayhook' from '/Users/junix/miniconda3/envs/py310/lib/python3.10/site-packages/ipykernel/displayhook.py'>,\n",
       "  'ipykernel.zmqshell': <module 'ipykernel.zmqshell' from '/Users/junix/miniconda3/envs/py310/lib/python3.10/site-packages/ipykernel/zmqshell.py'>,\n",
       "  'ipykernel.ipkernel': <module 'ipykernel.ipkernel' from '/Users/junix/miniconda3/envs/py310/lib/python3.10/site-packages/ipykernel/ipkernel.py'>,\n",
       "  'ipykernel.parentpoller': <module 'ipykernel.parentpoller' from '/Users/junix/miniconda3/envs/py310/lib/python3.10/site-packages/ipykernel/parentpoller.py'>,\n",
       "  'ipykernel.kernelapp': <module 'ipykernel.kernelapp' from '/Users/junix/miniconda3/envs/py310/lib/python3.10/site-packages/ipykernel/kernelapp.py'>,\n",
       "  'faulthandler': <module 'faulthandler' (built-in)>,\n",
       "  'IPython.core.completerlib': <module 'IPython.core.completerlib' from '/Users/junix/miniconda3/envs/py310/lib/python3.10/site-packages/IPython/core/completerlib.py'>,\n",
       "  'setuptools._distutils': <module 'distutils' (/Users/junix/miniconda3/envs/py310/lib/python3.10/site-packages/setuptools/_distutils/__init__.py)>,\n",
       "  'distutils.debug': <module 'distutils.debug' from '/Users/junix/miniconda3/envs/py310/lib/python3.10/site-packages/setuptools/_distutils/debug.py'>,\n",
       "  'distutils.errors': <module 'distutils.errors' from '/Users/junix/miniconda3/envs/py310/lib/python3.10/site-packages/setuptools/_distutils/errors.py'>,\n",
       "  'distutils.fancy_getopt': <module 'distutils.fancy_getopt' from '/Users/junix/miniconda3/envs/py310/lib/python3.10/site-packages/setuptools/_distutils/fancy_getopt.py'>,\n",
       "  'distutils.dep_util': <module 'distutils.dep_util' from '/Users/junix/miniconda3/envs/py310/lib/python3.10/site-packages/setuptools/_distutils/dep_util.py'>,\n",
       "  'distutils.log': <module 'distutils.log' from '/Users/junix/miniconda3/envs/py310/lib/python3.10/site-packages/setuptools/_distutils/log.py'>,\n",
       "  'distutils.spawn': <module 'distutils.spawn' from '/Users/junix/miniconda3/envs/py310/lib/python3.10/site-packages/setuptools/_distutils/spawn.py'>,\n",
       "  'distutils.util': <module 'distutils.util' from '/Users/junix/miniconda3/envs/py310/lib/python3.10/site-packages/setuptools/_distutils/util.py'>,\n",
       "  'distutils.dist': <module 'distutils.dist' from '/Users/junix/miniconda3/envs/py310/lib/python3.10/site-packages/setuptools/_distutils/dist.py'>,\n",
       "  'distutils.dir_util': <module 'distutils.dir_util' from '/Users/junix/miniconda3/envs/py310/lib/python3.10/site-packages/setuptools/_distutils/dir_util.py'>,\n",
       "  'distutils.file_util': <module 'distutils.file_util' from '/Users/junix/miniconda3/envs/py310/lib/python3.10/site-packages/setuptools/_distutils/file_util.py'>,\n",
       "  'grp': <module 'grp' from '/Users/junix/miniconda3/envs/py310/lib/python3.10/lib-dynload/grp.cpython-310-darwin.so'>,\n",
       "  'distutils.archive_util': <module 'distutils.archive_util' from '/Users/junix/miniconda3/envs/py310/lib/python3.10/site-packages/setuptools/_distutils/archive_util.py'>,\n",
       "  'distutils.cmd': <module 'distutils.cmd' from '/Users/junix/miniconda3/envs/py310/lib/python3.10/site-packages/setuptools/_distutils/cmd.py'>,\n",
       "  'distutils.config': <module 'distutils.config' from '/Users/junix/miniconda3/envs/py310/lib/python3.10/site-packages/setuptools/_distutils/config.py'>,\n",
       "  'distutils.extension': <module 'distutils.extension' from '/Users/junix/miniconda3/envs/py310/lib/python3.10/site-packages/setuptools/_distutils/extension.py'>,\n",
       "  'distutils.core': <module 'distutils.core' from '/Users/junix/miniconda3/envs/py310/lib/python3.10/site-packages/setuptools/_distutils/core.py'>,\n",
       "  '_distutils_hack.override': <module '_distutils_hack.override' from '/Users/junix/miniconda3/envs/py310/lib/python3.10/site-packages/_distutils_hack/override.py'>,\n",
       "  'setuptools._deprecation_warning': <module 'setuptools._deprecation_warning' from '/Users/junix/miniconda3/envs/py310/lib/python3.10/site-packages/setuptools/_deprecation_warning.py'>,\n",
       "  'setuptools.version': <module 'setuptools.version' from '/Users/junix/miniconda3/envs/py310/lib/python3.10/site-packages/setuptools/version.py'>,\n",
       "  'distutils.filelist': <module 'distutils.filelist' from '/Users/junix/miniconda3/envs/py310/lib/python3.10/site-packages/setuptools/_distutils/filelist.py'>,\n",
       "  'setuptools.monkey': <module 'setuptools.monkey' from '/Users/junix/miniconda3/envs/py310/lib/python3.10/site-packages/setuptools/monkey.py'>,\n",
       "  'setuptools.extension': <module 'setuptools.extension' from '/Users/junix/miniconda3/envs/py310/lib/python3.10/site-packages/setuptools/extension.py'>,\n",
       "  'distutils.command': <module 'distutils.command' from '/Users/junix/miniconda3/envs/py310/lib/python3.10/site-packages/setuptools/_distutils/command/__init__.py'>,\n",
       "  'setuptools.extern': <module 'setuptools.extern' from '/Users/junix/miniconda3/envs/py310/lib/python3.10/site-packages/setuptools/extern/__init__.py'>,\n",
       "  'setuptools._vendor': <module 'setuptools._vendor' from '/Users/junix/miniconda3/envs/py310/lib/python3.10/site-packages/setuptools/_vendor/__init__.py'>,\n",
       "  'setuptools._vendor.packaging.__about__': <module 'setuptools._vendor.packaging.__about__' from '/Users/junix/miniconda3/envs/py310/lib/python3.10/site-packages/setuptools/_vendor/packaging/__about__.py'>,\n",
       "  'setuptools._vendor.packaging': <module 'setuptools.extern.packaging' (<setuptools.extern.VendorImporter object at 0x7feb18ae26e0>)>,\n",
       "  'setuptools.extern.packaging': <module 'setuptools.extern.packaging' (<setuptools.extern.VendorImporter object at 0x7feb18ae26e0>)>,\n",
       "  'setuptools._vendor.ordered_set': <module 'setuptools.extern.ordered_set' (<setuptools.extern.VendorImporter object at 0x7feb18ae26e0>)>,\n",
       "  'setuptools.extern.ordered_set': <module 'setuptools.extern.ordered_set' (<setuptools.extern.VendorImporter object at 0x7feb18ae26e0>)>,\n",
       "  'setuptools._vendor.more_itertools.recipes': <module 'setuptools._vendor.more_itertools.recipes' from '/Users/junix/miniconda3/envs/py310/lib/python3.10/site-packages/setuptools/_vendor/more_itertools/recipes.py'>,\n",
       "  'setuptools._vendor.more_itertools.more': <module 'setuptools._vendor.more_itertools.more' from '/Users/junix/miniconda3/envs/py310/lib/python3.10/site-packages/setuptools/_vendor/more_itertools/more.py'>,\n",
       "  'setuptools._vendor.more_itertools': <module 'setuptools.extern.more_itertools' (<setuptools.extern.VendorImporter object at 0x7feb18ae26e0>)>,\n",
       "  'setuptools.extern.more_itertools': <module 'setuptools.extern.more_itertools' (<setuptools.extern.VendorImporter object at 0x7feb18ae26e0>)>,\n",
       "  '_csv': <module '_csv' from '/Users/junix/miniconda3/envs/py310/lib/python3.10/lib-dynload/_csv.cpython-310-darwin.so'>,\n",
       "  'csv': <module 'csv' from '/Users/junix/miniconda3/envs/py310/lib/python3.10/csv.py'>,\n",
       "  'importlib.metadata._functools': <module 'importlib.metadata._functools' from '/Users/junix/miniconda3/envs/py310/lib/python3.10/importlib/metadata/_functools.py'>,\n",
       "  'importlib.metadata._text': <module 'importlib.metadata._text' from '/Users/junix/miniconda3/envs/py310/lib/python3.10/importlib/metadata/_text.py'>,\n",
       "  'importlib.metadata._adapters': <module 'importlib.metadata._adapters' from '/Users/junix/miniconda3/envs/py310/lib/python3.10/importlib/metadata/_adapters.py'>,\n",
       "  'importlib.metadata._meta': <module 'importlib.metadata._meta' from '/Users/junix/miniconda3/envs/py310/lib/python3.10/importlib/metadata/_meta.py'>,\n",
       "  'importlib.metadata._collections': <module 'importlib.metadata._collections' from '/Users/junix/miniconda3/envs/py310/lib/python3.10/importlib/metadata/_collections.py'>,\n",
       "  'importlib.metadata._itertools': <module 'importlib.metadata._itertools' from '/Users/junix/miniconda3/envs/py310/lib/python3.10/importlib/metadata/_itertools.py'>,\n",
       "  'importlib.metadata': <module 'importlib.metadata' from '/Users/junix/miniconda3/envs/py310/lib/python3.10/importlib/metadata/__init__.py'>,\n",
       "  'setuptools._importlib': <module 'setuptools._importlib' from '/Users/junix/miniconda3/envs/py310/lib/python3.10/site-packages/setuptools/_importlib.py'>,\n",
       "  ...},\n",
       " '_i80': \"sys.modules['re']\",\n",
       " '_80': <module 're' from '/Users/junix/miniconda3/envs/py310/lib/python3.10/re.py'>,\n",
       " '_i81': \"m = sys.modules['re']\",\n",
       " 'm': <module 're' from '/Users/junix/miniconda3/envs/py310/lib/python3.10/re.py'>,\n",
       " '_i82': 'dir(m)',\n",
       " '_82': ['A',\n",
       "  'ASCII',\n",
       "  'DEBUG',\n",
       "  'DOTALL',\n",
       "  'I',\n",
       "  'IGNORECASE',\n",
       "  'L',\n",
       "  'LOCALE',\n",
       "  'M',\n",
       "  'MULTILINE',\n",
       "  'Match',\n",
       "  'Pattern',\n",
       "  'RegexFlag',\n",
       "  'S',\n",
       "  'Scanner',\n",
       "  'T',\n",
       "  'TEMPLATE',\n",
       "  'U',\n",
       "  'UNICODE',\n",
       "  'VERBOSE',\n",
       "  'X',\n",
       "  '_MAXCACHE',\n",
       "  '__all__',\n",
       "  '__builtins__',\n",
       "  '__cached__',\n",
       "  '__doc__',\n",
       "  '__file__',\n",
       "  '__loader__',\n",
       "  '__name__',\n",
       "  '__package__',\n",
       "  '__spec__',\n",
       "  '__version__',\n",
       "  '_cache',\n",
       "  '_compile',\n",
       "  '_compile_repl',\n",
       "  '_expand',\n",
       "  '_locale',\n",
       "  '_pickle',\n",
       "  '_special_chars_map',\n",
       "  '_subx',\n",
       "  'compile',\n",
       "  'copyreg',\n",
       "  'enum',\n",
       "  'error',\n",
       "  'escape',\n",
       "  'findall',\n",
       "  'finditer',\n",
       "  'fullmatch',\n",
       "  'functools',\n",
       "  'match',\n",
       "  'purge',\n",
       "  'search',\n",
       "  'split',\n",
       "  'sre_compile',\n",
       "  'sre_parse',\n",
       "  'sub',\n",
       "  'subn',\n",
       "  'template'],\n",
       " '_i83': \"getattr(m, 'compile')\",\n",
       " '_83': <function re.compile(pattern, flags=0)>,\n",
       " '_i84': \"f = getattr(m, 'compile')\",\n",
       " 'f': <function re.compile(pattern, flags=0)>,\n",
       " '_i85': 'f',\n",
       " '_85': <function re.compile(pattern, flags=0)>,\n",
       " '_i86': 'f.__annotations__',\n",
       " '_86': {},\n",
       " '_i87': 'help(print)',\n",
       " '_i88': 'm.__package__',\n",
       " '_88': '',\n",
       " '_i89': 'import os.path as p',\n",
       " 'p': <module 'posixpath' from '/Users/junix/miniconda3/envs/py310/lib/python3.10/posixpath.py'>,\n",
       " '_i90': 'p.__package__',\n",
       " '_90': '',\n",
       " '_i91': 'p',\n",
       " '_91': <module 'posixpath' from '/Users/junix/miniconda3/envs/py310/lib/python3.10/posixpath.py'>,\n",
       " '_i92': 'p.__name__',\n",
       " '_92': 'posixpath',\n",
       " '_i93': '__main__',\n",
       " '_i94': '__name__',\n",
       " '_94': '__main__',\n",
       " '_i95': 'locals()'}"
      ]
     },
     "execution_count": 95,
     "metadata": {},
     "output_type": "execute_result"
    }
   ],
   "source": [
    "locals()"
   ]
  },
  {
   "cell_type": "code",
   "execution_count": 96,
   "id": "dd7d3422",
   "metadata": {
    "scrolled": true
   },
   "outputs": [],
   "source": [
    "import io"
   ]
  },
  {
   "cell_type": "code",
   "execution_count": 97,
   "id": "7044a66b",
   "metadata": {},
   "outputs": [],
   "source": [
    "s = io.StringIO()"
   ]
  },
  {
   "cell_type": "code",
   "execution_count": 99,
   "id": "2991de74",
   "metadata": {},
   "outputs": [
    {
     "data": {
      "text/plain": [
       "5"
      ]
     },
     "execution_count": 99,
     "metadata": {},
     "output_type": "execute_result"
    }
   ],
   "source": [
    "s.write(\"hello\")"
   ]
  },
  {
   "cell_type": "code",
   "execution_count": 102,
   "id": "1534c298",
   "metadata": {},
   "outputs": [
    {
     "data": {
      "text/plain": [
       "3"
      ]
     },
     "execution_count": 102,
     "metadata": {},
     "output_type": "execute_result"
    }
   ],
   "source": [
    "s.seek(3)"
   ]
  },
  {
   "cell_type": "code",
   "execution_count": 103,
   "id": "e2ee7046",
   "metadata": {},
   "outputs": [
    {
     "data": {
      "text/plain": [
       "4"
      ]
     },
     "execution_count": 103,
     "metadata": {},
     "output_type": "execute_result"
    }
   ],
   "source": [
    "s.write(\"good\")"
   ]
  },
  {
   "cell_type": "code",
   "execution_count": 106,
   "id": "249265e7",
   "metadata": {
    "scrolled": true
   },
   "outputs": [
    {
     "ename": "ValueError",
     "evalue": "I/O operation on closed file",
     "output_type": "error",
     "traceback": [
      "\u001b[0;31m---------------------------------------------------------------------------\u001b[0m",
      "\u001b[0;31mValueError\u001b[0m                                Traceback (most recent call last)",
      "Cell \u001b[0;32mIn[106], line 1\u001b[0m\n\u001b[0;32m----> 1\u001b[0m \u001b[43ms\u001b[49m\u001b[38;5;241;43m.\u001b[39;49m\u001b[43mgetvalue\u001b[49m\u001b[43m(\u001b[49m\u001b[43m)\u001b[49m\n",
      "\u001b[0;31mValueError\u001b[0m: I/O operation on closed file"
     ]
    }
   ],
   "source": [
    "s.getvalue()"
   ]
  },
  {
   "cell_type": "code",
   "execution_count": 105,
   "id": "a9988000",
   "metadata": {},
   "outputs": [],
   "source": [
    "s.close()"
   ]
  },
  {
   "cell_type": "code",
   "execution_count": 58,
   "id": "6fcfe2fe",
   "metadata": {},
   "outputs": [
    {
     "data": {
      "text/plain": [
       "'0x7b'"
      ]
     },
     "execution_count": 58,
     "metadata": {},
     "output_type": "execute_result"
    }
   ],
   "source": [
    "f\"{123:#x}\""
   ]
  },
  {
   "cell_type": "code",
   "execution_count": 59,
   "id": "c31d032c",
   "metadata": {},
   "outputs": [
    {
     "data": {
      "text/plain": [
       "'0b10111'"
      ]
     },
     "execution_count": 59,
     "metadata": {},
     "output_type": "execute_result"
    }
   ],
   "source": [
    "format(23,\"#b\")"
   ]
  },
  {
   "cell_type": "code",
   "execution_count": 60,
   "id": "3520cc42",
   "metadata": {},
   "outputs": [
    {
     "data": {
      "text/plain": [
       "{'a': 1, 'x': 67}"
      ]
     },
     "execution_count": 60,
     "metadata": {},
     "output_type": "execute_result"
    }
   ],
   "source": [
    "dict([(\"a\",1)],x=67)"
   ]
  },
  {
   "cell_type": "code",
   "execution_count": 61,
   "id": "2d5a1ec5",
   "metadata": {},
   "outputs": [
    {
     "name": "stdout",
     "output_type": "stream",
     "text": [
      "hello\n"
     ]
    }
   ],
   "source": [
    "x = input()"
   ]
  },
  {
   "cell_type": "code",
   "execution_count": 63,
   "id": "7d93f5c8",
   "metadata": {
    "collapsed": true
   },
   "outputs": [
    {
     "ename": "RuntimeError",
     "evalue": "super(): no arguments",
     "output_type": "error",
     "traceback": [
      "\u001b[0;31m---------------------------------------------------------------------------\u001b[0m",
      "\u001b[0;31mRuntimeError\u001b[0m                              Traceback (most recent call last)",
      "Cell \u001b[0;32mIn[63], line 1\u001b[0m\n\u001b[0;32m----> 1\u001b[0m \u001b[38;5;28;43msuper\u001b[39;49m\u001b[43m(\u001b[49m\u001b[43m)\u001b[49m\n",
      "\u001b[0;31mRuntimeError\u001b[0m: super(): no arguments"
     ]
    }
   ],
   "source": [
    "super()"
   ]
  },
  {
   "cell_type": "code",
   "execution_count": 65,
   "id": "1648f2ce",
   "metadata": {},
   "outputs": [
    {
     "data": {
      "text/plain": [
       "1"
      ]
     },
     "execution_count": 65,
     "metadata": {},
     "output_type": "execute_result"
    }
   ],
   "source": [
    "1"
   ]
  },
  {
   "cell_type": "code",
   "execution_count": 110,
   "id": "5be07f35",
   "metadata": {},
   "outputs": [],
   "source": [
    "b = b\"hello\""
   ]
  },
  {
   "cell_type": "code",
   "execution_count": 112,
   "id": "e69102a9",
   "metadata": {},
   "outputs": [
    {
     "data": {
      "text/plain": [
       "b'hello'"
      ]
     },
     "execution_count": 112,
     "metadata": {},
     "output_type": "execute_result"
    }
   ],
   "source": [
    "bytes.fromhex(b.hex())"
   ]
  },
  {
   "cell_type": "code",
   "execution_count": 114,
   "id": "9c71afec",
   "metadata": {},
   "outputs": [
    {
     "data": {
      "text/plain": [
       "(3, 5)"
      ]
     },
     "execution_count": 114,
     "metadata": {},
     "output_type": "execute_result"
    }
   ],
   "source": [
    "x"
   ]
  },
  {
   "cell_type": "code",
   "execution_count": 115,
   "id": "c64b7818",
   "metadata": {},
   "outputs": [],
   "source": [
    "class A:\n",
    "    pass"
   ]
  },
  {
   "cell_type": "code",
   "execution_count": 116,
   "id": "28bf96e1",
   "metadata": {},
   "outputs": [],
   "source": [
    "a = A()"
   ]
  },
  {
   "cell_type": "code",
   "execution_count": 117,
   "id": "98d24851",
   "metadata": {},
   "outputs": [],
   "source": [
    "setattr(a, '89', 'hello')"
   ]
  },
  {
   "cell_type": "code",
   "execution_count": 119,
   "id": "7951c556",
   "metadata": {},
   "outputs": [
    {
     "data": {
      "text/plain": [
       "{'89': 'hello'}"
      ]
     },
     "execution_count": 119,
     "metadata": {},
     "output_type": "execute_result"
    }
   ],
   "source": [
    "vars(a)"
   ]
  },
  {
   "cell_type": "code",
   "execution_count": 120,
   "id": "6ccc2a98",
   "metadata": {},
   "outputs": [
    {
     "data": {
      "text/plain": [
       "'hello'"
      ]
     },
     "execution_count": 120,
     "metadata": {},
     "output_type": "execute_result"
    }
   ],
   "source": [
    "getattr(a,'89')"
   ]
  },
  {
   "cell_type": "code",
   "execution_count": 121,
   "id": "7f34a5ab",
   "metadata": {},
   "outputs": [
    {
     "data": {
      "text/plain": [
       "{'89': 'hello'}"
      ]
     },
     "execution_count": 121,
     "metadata": {},
     "output_type": "execute_result"
    }
   ],
   "source": [
    "a.__dict__"
   ]
  },
  {
   "cell_type": "code",
   "execution_count": 129,
   "id": "9d52b2b9",
   "metadata": {},
   "outputs": [],
   "source": [
    "o = object()\n",
    "import collections"
   ]
  },
  {
   "cell_type": "code",
   "execution_count": 123,
   "id": "8cca3ecb",
   "metadata": {},
   "outputs": [
    {
     "ename": "AttributeError",
     "evalue": "'object' object has no attribute 'x'",
     "output_type": "error",
     "traceback": [
      "\u001b[0;31m---------------------------------------------------------------------------\u001b[0m",
      "\u001b[0;31mAttributeError\u001b[0m                            Traceback (most recent call last)",
      "Cell \u001b[0;32mIn[123], line 1\u001b[0m\n\u001b[0;32m----> 1\u001b[0m o\u001b[38;5;241m.\u001b[39mx \u001b[38;5;241m=\u001b[39m \u001b[38;5;241m78\u001b[39m\n",
      "\u001b[0;31mAttributeError\u001b[0m: 'object' object has no attribute 'x'"
     ]
    }
   ],
   "source": [
    "o.x = 78"
   ]
  },
  {
   "cell_type": "code",
   "execution_count": 127,
   "id": "37138799",
   "metadata": {},
   "outputs": [
    {
     "data": {
      "text/plain": [
       "range(6, 11, 5)"
      ]
     },
     "execution_count": 127,
     "metadata": {},
     "output_type": "execute_result"
    }
   ],
   "source": [
    "range(1,9,5) [1:]"
   ]
  },
  {
   "cell_type": "code",
   "execution_count": 130,
   "id": "74c2f388",
   "metadata": {},
   "outputs": [],
   "source": [
    "x1 = range(100)\n",
    "x2 = [1,2,3,4]\n",
    "x3 = (1,2,3,4,5,)\n",
    "x4 = \"hello,world\"\n",
    "x5 = collections.deque(x1)"
   ]
  },
  {
   "cell_type": "code",
   "execution_count": 136,
   "id": "92bd3f3b",
   "metadata": {},
   "outputs": [
    {
     "data": {
      "text/plain": [
       "range(0, 3)"
      ]
     },
     "execution_count": 136,
     "metadata": {},
     "output_type": "execute_result"
    }
   ],
   "source": [
    "x1[:3]"
   ]
  },
  {
   "cell_type": "code",
   "execution_count": 137,
   "id": "3fe2b37d",
   "metadata": {},
   "outputs": [],
   "source": [
    "a = {'a':2}"
   ]
  },
  {
   "cell_type": "code",
   "execution_count": 138,
   "id": "e1818fd0",
   "metadata": {},
   "outputs": [
    {
     "ename": "TypeError",
     "evalue": "unhashable type: 'slice'",
     "output_type": "error",
     "traceback": [
      "\u001b[0;31m---------------------------------------------------------------------------\u001b[0m",
      "\u001b[0;31mTypeError\u001b[0m                                 Traceback (most recent call last)",
      "Cell \u001b[0;32mIn[138], line 1\u001b[0m\n\u001b[0;32m----> 1\u001b[0m \u001b[43ma\u001b[49m\u001b[43m[\u001b[49m\u001b[43m:\u001b[49m\u001b[38;5;241;43m2\u001b[39;49m\u001b[43m]\u001b[49m\n",
      "\u001b[0;31mTypeError\u001b[0m: unhashable type: 'slice'"
     ]
    }
   ],
   "source": [
    "a[:2]"
   ]
  },
  {
   "cell_type": "code",
   "execution_count": 140,
   "id": "ee4dd8bd",
   "metadata": {},
   "outputs": [
    {
     "ename": "SyntaxError",
     "evalue": "invalid syntax (1654362899.py, line 1)",
     "output_type": "error",
     "traceback": [
      "\u001b[0;36m  Cell \u001b[0;32mIn[140], line 1\u001b[0;36m\u001b[0m\n\u001b[0;31m    x = [:2]\u001b[0m\n\u001b[0m         ^\u001b[0m\n\u001b[0;31mSyntaxError\u001b[0m\u001b[0;31m:\u001b[0m invalid syntax\n"
     ]
    }
   ],
   "source": [
    "x = [:2]"
   ]
  },
  {
   "cell_type": "code",
   "execution_count": 144,
   "id": "ec461e73",
   "metadata": {},
   "outputs": [],
   "source": [
    "s = slice(1,4,1)"
   ]
  },
  {
   "cell_type": "code",
   "execution_count": 150,
   "id": "7966f2f8",
   "metadata": {},
   "outputs": [],
   "source": [
    "o = s.indices(2)"
   ]
  },
  {
   "cell_type": "code",
   "execution_count": 162,
   "id": "0b5748f7",
   "metadata": {},
   "outputs": [
    {
     "data": {
      "text/plain": [
       "slice(None, 10, None)"
      ]
     },
     "execution_count": 162,
     "metadata": {},
     "output_type": "execute_result"
    }
   ],
   "source": [
    "slice(10)"
   ]
  },
  {
   "cell_type": "code",
   "execution_count": 154,
   "id": "dda1d5d1",
   "metadata": {},
   "outputs": [
    {
     "name": "stdout",
     "output_type": "stream",
     "text": [
      "Help on built-in function indices:\n",
      "\n",
      "indices(...) method of builtins.slice instance\n",
      "    S.indices(len) -> (start, stop, stride)\n",
      "    \n",
      "    Assuming a sequence of length len, calculate the start and stop\n",
      "    indices, and the stride length of the extended slice described by\n",
      "    S. Out of bounds indices are clipped in a manner consistent with the\n",
      "    handling of normal slices.\n",
      "\n"
     ]
    }
   ],
   "source": [
    "help(s.indices)"
   ]
  },
  {
   "cell_type": "code",
   "execution_count": 166,
   "id": "f568b3c4",
   "metadata": {},
   "outputs": [],
   "source": [
    "v = bytearray()"
   ]
  },
  {
   "cell_type": "code",
   "execution_count": 167,
   "id": "3ff685a7",
   "metadata": {},
   "outputs": [],
   "source": [
    "v += b\"abc\""
   ]
  },
  {
   "cell_type": "code",
   "execution_count": 168,
   "id": "b72e4b03",
   "metadata": {},
   "outputs": [
    {
     "data": {
      "text/plain": [
       "bytearray(b'abc')"
      ]
     },
     "execution_count": 168,
     "metadata": {},
     "output_type": "execute_result"
    }
   ],
   "source": [
    "v"
   ]
  },
  {
   "cell_type": "code",
   "execution_count": 169,
   "id": "98ea5141",
   "metadata": {},
   "outputs": [],
   "source": [
    "v += b\"cde\""
   ]
  },
  {
   "cell_type": "code",
   "execution_count": 170,
   "id": "ac661b77",
   "metadata": {},
   "outputs": [
    {
     "data": {
      "text/plain": [
       "bytearray(b'abccde')"
      ]
     },
     "execution_count": 170,
     "metadata": {},
     "output_type": "execute_result"
    }
   ],
   "source": [
    "v"
   ]
  },
  {
   "cell_type": "code",
   "execution_count": 174,
   "id": "db93a11e",
   "metadata": {},
   "outputs": [
    {
     "data": {
      "text/plain": [
       "bytearray(b'abccde')"
      ]
     },
     "execution_count": 174,
     "metadata": {},
     "output_type": "execute_result"
    }
   ],
   "source": [
    "v"
   ]
  },
  {
   "cell_type": "code",
   "execution_count": 177,
   "id": "910778b2",
   "metadata": {},
   "outputs": [],
   "source": [
    "s = \"hello,world\""
   ]
  },
  {
   "cell_type": "code",
   "execution_count": 185,
   "id": "d2d18121",
   "metadata": {},
   "outputs": [
    {
     "data": {
      "text/plain": [
       "7"
      ]
     },
     "execution_count": 185,
     "metadata": {},
     "output_type": "execute_result"
    }
   ],
   "source": [
    "s.index('o',5,9)"
   ]
  },
  {
   "cell_type": "code",
   "execution_count": 186,
   "id": "21d37242",
   "metadata": {},
   "outputs": [
    {
     "data": {
      "text/plain": [
       "'****hello,world*****'"
      ]
     },
     "execution_count": 186,
     "metadata": {},
     "output_type": "execute_result"
    }
   ],
   "source": [
    "s.center(20,'*')"
   ]
  },
  {
   "cell_type": "code",
   "execution_count": 187,
   "id": "a1c88487",
   "metadata": {},
   "outputs": [],
   "source": [
    "class LoggingDict(dict):\n",
    "    def __setitem__(self, key, value):\n",
    "        print('Setting %r to %r' % (key, value))\n",
    "        super().__setitem__(key, value)"
   ]
  },
  {
   "cell_type": "code",
   "execution_count": 188,
   "id": "8d109731",
   "metadata": {},
   "outputs": [],
   "source": [
    "d = LoggingDict()"
   ]
  },
  {
   "cell_type": "code",
   "execution_count": 189,
   "id": "8f152434",
   "metadata": {},
   "outputs": [
    {
     "name": "stdout",
     "output_type": "stream",
     "text": [
      "Setting 'name' to 'wanglijun'\n"
     ]
    }
   ],
   "source": [
    "d['name'] = \"wanglijun\""
   ]
  },
  {
   "cell_type": "code",
   "execution_count": 191,
   "id": "1b4440a1",
   "metadata": {},
   "outputs": [],
   "source": [
    "class A:pass\n",
    "class B(A):pass\n",
    "class C(A):pass\n",
    "class D(C,B):pass"
   ]
  },
  {
   "cell_type": "code",
   "execution_count": 192,
   "id": "3e28f81c",
   "metadata": {},
   "outputs": [
    {
     "data": {
      "text/plain": [
       "[__main__.D, __main__.C, __main__.B, __main__.A, object]"
      ]
     },
     "execution_count": 192,
     "metadata": {},
     "output_type": "execute_result"
    }
   ],
   "source": [
    "D.mro()"
   ]
  },
  {
   "cell_type": "code",
   "execution_count": 74,
   "id": "b6a21af3",
   "metadata": {},
   "outputs": [],
   "source": [
    "def hello():\n",
    "    global xvv\n",
    "    xvv = 23"
   ]
  },
  {
   "cell_type": "code",
   "execution_count": 76,
   "id": "5bf57bde",
   "metadata": {},
   "outputs": [],
   "source": [
    "hello()"
   ]
  },
  {
   "cell_type": "code",
   "execution_count": 77,
   "id": "994d88a4",
   "metadata": {},
   "outputs": [
    {
     "data": {
      "text/plain": [
       "23"
      ]
     },
     "execution_count": 77,
     "metadata": {},
     "output_type": "execute_result"
    }
   ],
   "source": [
    "xvv"
   ]
  },
  {
   "cell_type": "code",
   "execution_count": 78,
   "id": "f61653eb",
   "metadata": {},
   "outputs": [],
   "source": [
    "class A:\n",
    "    v = []"
   ]
  },
  {
   "cell_type": "code",
   "execution_count": 79,
   "id": "f75b6dd1",
   "metadata": {},
   "outputs": [],
   "source": [
    "a = A()"
   ]
  },
  {
   "cell_type": "code",
   "execution_count": 80,
   "id": "d293691e",
   "metadata": {},
   "outputs": [
    {
     "data": {
      "text/plain": [
       "4590658688"
      ]
     },
     "execution_count": 80,
     "metadata": {},
     "output_type": "execute_result"
    }
   ],
   "source": [
    "id(a.v)"
   ]
  },
  {
   "cell_type": "code",
   "execution_count": 81,
   "id": "352c84a3",
   "metadata": {},
   "outputs": [],
   "source": [
    "a.v = [12]"
   ]
  },
  {
   "cell_type": "code",
   "execution_count": 82,
   "id": "fae4839a",
   "metadata": {},
   "outputs": [
    {
     "data": {
      "text/plain": [
       "4590742720"
      ]
     },
     "execution_count": 82,
     "metadata": {},
     "output_type": "execute_result"
    }
   ],
   "source": [
    "id(a.v)"
   ]
  },
  {
   "cell_type": "code",
   "execution_count": 83,
   "id": "80a137a3",
   "metadata": {},
   "outputs": [
    {
     "data": {
      "text/plain": [
       "4590658688"
      ]
     },
     "execution_count": 83,
     "metadata": {},
     "output_type": "execute_result"
    }
   ],
   "source": [
    "id(A.v)"
   ]
  },
  {
   "cell_type": "code",
   "execution_count": 84,
   "id": "3db98035",
   "metadata": {},
   "outputs": [],
   "source": [
    "f = type"
   ]
  },
  {
   "cell_type": "code",
   "execution_count": 86,
   "id": "8239ad5e",
   "metadata": {
    "collapsed": true
   },
   "outputs": [
    {
     "name": "stdout",
     "output_type": "stream",
     "text": [
      "Help on class type in module builtins:\n",
      "\n",
      "class type(object)\n",
      " |  type(object) -> the object's type\n",
      " |  type(name, bases, dict, **kwds) -> a new type\n",
      " |  \n",
      " |  Methods defined here:\n",
      " |  \n",
      " |  __call__(self, /, *args, **kwargs)\n",
      " |      Call self as a function.\n",
      " |  \n",
      " |  __delattr__(self, name, /)\n",
      " |      Implement delattr(self, name).\n",
      " |  \n",
      " |  __dir__(self, /)\n",
      " |      Specialized __dir__ implementation for types.\n",
      " |  \n",
      " |  __getattribute__(self, name, /)\n",
      " |      Return getattr(self, name).\n",
      " |  \n",
      " |  __init__(self, /, *args, **kwargs)\n",
      " |      Initialize self.  See help(type(self)) for accurate signature.\n",
      " |  \n",
      " |  __instancecheck__(self, instance, /)\n",
      " |      Check if an object is an instance.\n",
      " |  \n",
      " |  __or__(self, value, /)\n",
      " |      Return self|value.\n",
      " |  \n",
      " |  __repr__(self, /)\n",
      " |      Return repr(self).\n",
      " |  \n",
      " |  __ror__(self, value, /)\n",
      " |      Return value|self.\n",
      " |  \n",
      " |  __setattr__(self, name, value, /)\n",
      " |      Implement setattr(self, name, value).\n",
      " |  \n",
      " |  __sizeof__(self, /)\n",
      " |      Return memory consumption of the type object.\n",
      " |  \n",
      " |  __subclasscheck__(self, subclass, /)\n",
      " |      Check if a class is a subclass.\n",
      " |  \n",
      " |  __subclasses__(self, /)\n",
      " |      Return a list of immediate subclasses.\n",
      " |  \n",
      " |  mro(self, /)\n",
      " |      Return a type's method resolution order.\n",
      " |  \n",
      " |  ----------------------------------------------------------------------\n",
      " |  Class methods defined here:\n",
      " |  \n",
      " |  __prepare__(...)\n",
      " |      __prepare__() -> dict\n",
      " |      used to create the namespace for the class statement\n",
      " |  \n",
      " |  ----------------------------------------------------------------------\n",
      " |  Static methods defined here:\n",
      " |  \n",
      " |  __new__(*args, **kwargs)\n",
      " |      Create and return a new object.  See help(type) for accurate signature.\n",
      " |  \n",
      " |  ----------------------------------------------------------------------\n",
      " |  Data descriptors defined here:\n",
      " |  \n",
      " |  __abstractmethods__\n",
      " |  \n",
      " |  __annotations__\n",
      " |  \n",
      " |  __dict__\n",
      " |  \n",
      " |  __text_signature__\n",
      " |  \n",
      " |  ----------------------------------------------------------------------\n",
      " |  Data and other attributes defined here:\n",
      " |  \n",
      " |  __base__ = <class 'object'>\n",
      " |      The base class of the class hierarchy.\n",
      " |      \n",
      " |      When called, it accepts no arguments and returns a new featureless\n",
      " |      instance that has no instance attributes and cannot be given any.\n",
      " |  \n",
      " |  \n",
      " |  __bases__ = (<class 'object'>,)\n",
      " |  \n",
      " |  __basicsize__ = 888\n",
      " |  \n",
      " |  __dictoffset__ = 264\n",
      " |  \n",
      " |  __flags__ = 2148031744\n",
      " |  \n",
      " |  __itemsize__ = 40\n",
      " |  \n",
      " |  __mro__ = (<class 'type'>, <class 'object'>)\n",
      " |  \n",
      " |  __weakrefoffset__ = 368\n",
      "\n"
     ]
    }
   ],
   "source": [
    "help(f)"
   ]
  },
  {
   "cell_type": "code",
   "execution_count": 87,
   "id": "b51dd504",
   "metadata": {},
   "outputs": [],
   "source": [
    "import doctest"
   ]
  },
  {
   "cell_type": "code",
   "execution_count": 96,
   "id": "a50b0945",
   "metadata": {},
   "outputs": [],
   "source": [
    "def f(a,b):\n",
    "    \"\"\"Add two int.\n",
    "    \n",
    "    >>> f(1,2)\n",
    "    3\n",
    "    \"\"\"\n",
    "    return a+b"
   ]
  },
  {
   "cell_type": "code",
   "execution_count": 98,
   "id": "f15e0d0e",
   "metadata": {},
   "outputs": [
    {
     "data": {
      "text/plain": [
       "TestResults(failed=0, attempted=2)"
      ]
     },
     "execution_count": 98,
     "metadata": {},
     "output_type": "execute_result"
    }
   ],
   "source": [
    "doctest.testmod()"
   ]
  },
  {
   "cell_type": "code",
   "execution_count": 97,
   "id": "702e1f0a",
   "metadata": {},
   "outputs": [],
   "source": [
    "def ok(v):\n",
    "    \"\"\"\n",
    "    >>> ok(2)\n",
    "    2\n",
    "    \"\"\"\n",
    "    return v"
   ]
  },
  {
   "cell_type": "code",
   "execution_count": 193,
   "id": "7aa78cc0",
   "metadata": {},
   "outputs": [
    {
     "data": {
      "text/plain": [
       "[1, 2, 1, 2, 1, 2, 1, 2, 1, 2, 1, 2, 1, 2]"
      ]
     },
     "execution_count": 193,
     "metadata": {},
     "output_type": "execute_result"
    }
   ],
   "source": [
    "7 * [1,2]"
   ]
  },
  {
   "cell_type": "code",
   "execution_count": 206,
   "id": "b8431fb6",
   "metadata": {},
   "outputs": [],
   "source": [
    "xs = list(range(10))"
   ]
  },
  {
   "cell_type": "code",
   "execution_count": 207,
   "id": "be1e8441",
   "metadata": {},
   "outputs": [
    {
     "data": {
      "text/plain": [
       "[0, 1, 2, 3, 4, 5, 6, 7, 8, 9]"
      ]
     },
     "execution_count": 207,
     "metadata": {},
     "output_type": "execute_result"
    }
   ],
   "source": [
    "xs"
   ]
  },
  {
   "cell_type": "code",
   "execution_count": 210,
   "id": "19f9d8ae",
   "metadata": {},
   "outputs": [],
   "source": [
    "xs[:4:2] = [89,99]"
   ]
  },
  {
   "cell_type": "code",
   "execution_count": 211,
   "id": "dd91f369",
   "metadata": {},
   "outputs": [
    {
     "data": {
      "text/plain": [
       "[89, 1, 99, 3, 4, 5, 6, 7, 8, 9]"
      ]
     },
     "execution_count": 211,
     "metadata": {},
     "output_type": "execute_result"
    }
   ],
   "source": [
    "xs"
   ]
  },
  {
   "cell_type": "code",
   "execution_count": 213,
   "id": "e6b85c64",
   "metadata": {},
   "outputs": [],
   "source": [
    "a = {1,2}\n",
    "b= {1}"
   ]
  },
  {
   "cell_type": "code",
   "execution_count": 219,
   "id": "895824a0",
   "metadata": {},
   "outputs": [
    {
     "data": {
      "text/plain": [
       "{2}"
      ]
     },
     "execution_count": 219,
     "metadata": {},
     "output_type": "execute_result"
    }
   ],
   "source": [
    "a ^ b"
   ]
  },
  {
   "cell_type": "code",
   "execution_count": 220,
   "id": "faa6fcb7",
   "metadata": {},
   "outputs": [],
   "source": [
    "from collections import Counter"
   ]
  },
  {
   "cell_type": "code",
   "execution_count": 221,
   "id": "3f35fb0b",
   "metadata": {},
   "outputs": [],
   "source": [
    "c  = Counter()"
   ]
  },
  {
   "cell_type": "code",
   "execution_count": 222,
   "id": "d50863fd",
   "metadata": {},
   "outputs": [
    {
     "data": {
      "text/plain": [
       "0"
      ]
     },
     "execution_count": 222,
     "metadata": {},
     "output_type": "execute_result"
    }
   ],
   "source": [
    "c['a']"
   ]
  },
  {
   "cell_type": "code",
   "execution_count": 223,
   "id": "1f83dd25",
   "metadata": {},
   "outputs": [
    {
     "data": {
      "text/plain": [
       "0"
      ]
     },
     "execution_count": 223,
     "metadata": {},
     "output_type": "execute_result"
    }
   ],
   "source": [
    "c.__missing__('d')"
   ]
  },
  {
   "cell_type": "code",
   "execution_count": 228,
   "id": "8652262c",
   "metadata": {},
   "outputs": [],
   "source": [
    "xs = {1:2,3:4}"
   ]
  },
  {
   "cell_type": "code",
   "execution_count": 229,
   "id": "bc123ab3",
   "metadata": {},
   "outputs": [],
   "source": [
    "xs.pop(8,None)"
   ]
  },
  {
   "cell_type": "code",
   "execution_count": 230,
   "id": "5926f408",
   "metadata": {},
   "outputs": [
    {
     "data": {
      "text/plain": [
       "{1: 2, 3: 4}"
      ]
     },
     "execution_count": 230,
     "metadata": {},
     "output_type": "execute_result"
    }
   ],
   "source": [
    "xs"
   ]
  },
  {
   "cell_type": "code",
   "execution_count": 241,
   "id": "47d9110d",
   "metadata": {},
   "outputs": [
    {
     "data": {
      "text/plain": [
       "'ok'"
      ]
     },
     "execution_count": 241,
     "metadata": {},
     "output_type": "execute_result"
    }
   ],
   "source": [
    "xs.setdefault(31,23)"
   ]
  },
  {
   "cell_type": "code",
   "execution_count": 240,
   "id": "6a85097c",
   "metadata": {},
   "outputs": [],
   "source": [
    "xs[31]='ok'"
   ]
  },
  {
   "cell_type": "code",
   "execution_count": 242,
   "id": "9d95e9fc",
   "metadata": {},
   "outputs": [],
   "source": [
    "import itertools"
   ]
  },
  {
   "cell_type": "code",
   "execution_count": 243,
   "id": "defc2109",
   "metadata": {},
   "outputs": [],
   "source": [
    "it = itertools.count(10,4)"
   ]
  },
  {
   "cell_type": "code",
   "execution_count": 248,
   "id": "2b4875b7",
   "metadata": {},
   "outputs": [
    {
     "data": {
      "text/plain": [
       "26"
      ]
     },
     "execution_count": 248,
     "metadata": {},
     "output_type": "execute_result"
    }
   ],
   "source": [
    "next(it)"
   ]
  },
  {
   "cell_type": "code",
   "execution_count": 251,
   "id": "384a00ac",
   "metadata": {},
   "outputs": [
    {
     "data": {
      "text/plain": [
       "range"
      ]
     },
     "execution_count": 251,
     "metadata": {},
     "output_type": "execute_result"
    }
   ],
   "source": [
    "type(range(10))"
   ]
  },
  {
   "cell_type": "code",
   "execution_count": 252,
   "id": "969589c1",
   "metadata": {},
   "outputs": [],
   "source": [
    "xs = {'b':23,'c':3,'a':123}"
   ]
  },
  {
   "cell_type": "code",
   "execution_count": 253,
   "id": "eb2b670f",
   "metadata": {},
   "outputs": [
    {
     "data": {
      "text/plain": [
       "{'b': 23, 'c': 3, 'a': 123}"
      ]
     },
     "execution_count": 253,
     "metadata": {},
     "output_type": "execute_result"
    }
   ],
   "source": [
    "xs"
   ]
  },
  {
   "cell_type": "code",
   "execution_count": 254,
   "id": "d3b4f362",
   "metadata": {},
   "outputs": [
    {
     "data": {
      "text/plain": [
       "['b', 'c', 'a']"
      ]
     },
     "execution_count": 254,
     "metadata": {},
     "output_type": "execute_result"
    }
   ],
   "source": [
    "list(xs)"
   ]
  },
  {
   "cell_type": "code",
   "execution_count": 255,
   "id": "fde222da",
   "metadata": {},
   "outputs": [],
   "source": [
    "xs['o'] = 345"
   ]
  },
  {
   "cell_type": "code",
   "execution_count": 256,
   "id": "a0cce591",
   "metadata": {},
   "outputs": [
    {
     "data": {
      "text/plain": [
       "{'b': 23, 'c': 3, 'a': 123, 'o': 345}"
      ]
     },
     "execution_count": 256,
     "metadata": {},
     "output_type": "execute_result"
    }
   ],
   "source": [
    "xs"
   ]
  },
  {
   "cell_type": "code",
   "execution_count": 257,
   "id": "3c4518c6",
   "metadata": {},
   "outputs": [
    {
     "data": {
      "text/plain": [
       "['b', 'c', 'a', 'o']"
      ]
     },
     "execution_count": 257,
     "metadata": {},
     "output_type": "execute_result"
    }
   ],
   "source": [
    "list(xs)"
   ]
  },
  {
   "cell_type": "code",
   "execution_count": 258,
   "id": "c7ba2aeb",
   "metadata": {},
   "outputs": [],
   "source": [
    "from collections import OrderedDict"
   ]
  },
  {
   "cell_type": "code",
   "execution_count": 264,
   "id": "d9430522",
   "metadata": {},
   "outputs": [],
   "source": [
    "vs = {}"
   ]
  },
  {
   "cell_type": "code",
   "execution_count": 265,
   "id": "d113bf60",
   "metadata": {},
   "outputs": [],
   "source": [
    "vs['z'] = 2"
   ]
  },
  {
   "cell_type": "code",
   "execution_count": 266,
   "id": "7e229a6b",
   "metadata": {},
   "outputs": [],
   "source": [
    "vs['b'] = 89"
   ]
  },
  {
   "cell_type": "code",
   "execution_count": 267,
   "id": "9a66197c",
   "metadata": {},
   "outputs": [],
   "source": [
    "vs['a'] = 345"
   ]
  },
  {
   "cell_type": "code",
   "execution_count": 269,
   "id": "cab24020",
   "metadata": {},
   "outputs": [
    {
     "data": {
      "text/plain": [
       "['z', 'b', 'a']"
      ]
     },
     "execution_count": 269,
     "metadata": {},
     "output_type": "execute_result"
    }
   ],
   "source": [
    "list(vs)"
   ]
  },
  {
   "cell_type": "code",
   "execution_count": 270,
   "id": "b952686a",
   "metadata": {},
   "outputs": [
    {
     "data": {
      "text/plain": [
       "{'z': 2, 'b': 89, 'a': 345}"
      ]
     },
     "execution_count": 270,
     "metadata": {},
     "output_type": "execute_result"
    }
   ],
   "source": [
    "vs"
   ]
  },
  {
   "cell_type": "code",
   "execution_count": 274,
   "id": "b1ad87a2",
   "metadata": {},
   "outputs": [
    {
     "data": {
      "text/plain": [
       "['a', 'b', 'z']"
      ]
     },
     "execution_count": 274,
     "metadata": {},
     "output_type": "execute_result"
    }
   ],
   "source": [
    "list(reversed(vs))"
   ]
  },
  {
   "cell_type": "code",
   "execution_count": 275,
   "id": "05b8ec7b",
   "metadata": {},
   "outputs": [
    {
     "data": {
      "text/plain": [
       "{'z': 2, 'b': 89, 'a': 345}"
      ]
     },
     "execution_count": 275,
     "metadata": {},
     "output_type": "execute_result"
    }
   ],
   "source": [
    "vs"
   ]
  },
  {
   "cell_type": "code",
   "execution_count": 276,
   "id": "86ece943",
   "metadata": {},
   "outputs": [],
   "source": [
    "class A:\n",
    "    pass"
   ]
  },
  {
   "cell_type": "code",
   "execution_count": 277,
   "id": "c1cd03ba",
   "metadata": {},
   "outputs": [],
   "source": [
    "a = A()"
   ]
  },
  {
   "cell_type": "code",
   "execution_count": 282,
   "id": "57e01460",
   "metadata": {},
   "outputs": [],
   "source": [
    "A.f = lambda self: print(\"ok\")"
   ]
  },
  {
   "cell_type": "code",
   "execution_count": 279,
   "id": "3a596bf5",
   "metadata": {},
   "outputs": [
    {
     "name": "stdout",
     "output_type": "stream",
     "text": [
      "ok\n"
     ]
    }
   ],
   "source": [
    "a.hello()"
   ]
  },
  {
   "cell_type": "code",
   "execution_count": 280,
   "id": "2d1135ce",
   "metadata": {},
   "outputs": [],
   "source": [
    "a.f = 123"
   ]
  },
  {
   "cell_type": "code",
   "execution_count": 284,
   "id": "6d361890",
   "metadata": {},
   "outputs": [
    {
     "ename": "TypeError",
     "evalue": "'int' object is not callable",
     "output_type": "error",
     "traceback": [
      "\u001b[0;31m---------------------------------------------------------------------------\u001b[0m",
      "\u001b[0;31mTypeError\u001b[0m                                 Traceback (most recent call last)",
      "Cell \u001b[0;32mIn[284], line 1\u001b[0m\n\u001b[0;32m----> 1\u001b[0m \u001b[43ma\u001b[49m\u001b[38;5;241;43m.\u001b[39;49m\u001b[43mf\u001b[49m\u001b[43m(\u001b[49m\u001b[43m)\u001b[49m\n",
      "\u001b[0;31mTypeError\u001b[0m: 'int' object is not callable"
     ]
    }
   ],
   "source": [
    "a.f()"
   ]
  },
  {
   "cell_type": "code",
   "execution_count": 285,
   "id": "e81e51d0",
   "metadata": {},
   "outputs": [
    {
     "data": {
      "text/plain": [
       "{'f': 123}"
      ]
     },
     "execution_count": 285,
     "metadata": {},
     "output_type": "execute_result"
    }
   ],
   "source": [
    "vars(a)"
   ]
  },
  {
   "cell_type": "code",
   "execution_count": 286,
   "id": "978b361e",
   "metadata": {},
   "outputs": [],
   "source": [
    "del a.f"
   ]
  },
  {
   "cell_type": "code",
   "execution_count": 287,
   "id": "3f613361",
   "metadata": {},
   "outputs": [
    {
     "data": {
      "text/plain": [
       "{}"
      ]
     },
     "execution_count": 287,
     "metadata": {},
     "output_type": "execute_result"
    }
   ],
   "source": [
    "vars(a)"
   ]
  },
  {
   "cell_type": "code",
   "execution_count": 289,
   "id": "2797f046",
   "metadata": {},
   "outputs": [
    {
     "name": "stdout",
     "output_type": "stream",
     "text": [
      "ok\n"
     ]
    }
   ],
   "source": [
    "a.f()"
   ]
  },
  {
   "cell_type": "code",
   "execution_count": null,
   "id": "a8c9ebfc",
   "metadata": {},
   "outputs": [],
   "source": []
  }
 ],
 "metadata": {
  "kernelspec": {
   "display_name": "Python 3 (ipykernel)",
   "language": "python",
   "name": "python3"
  },
  "language_info": {
   "codemirror_mode": {
    "name": "ipython",
    "version": 3
   },
   "file_extension": ".py",
   "mimetype": "text/x-python",
   "name": "python",
   "nbconvert_exporter": "python",
   "pygments_lexer": "ipython3",
   "version": "3.10.8"
  },
  "toc": {
   "nav_menu": {},
   "number_sections": true,
   "sideBar": true,
   "skip_h1_title": false,
   "title_cell": "Table of Contents",
   "title_sidebar": "Contents",
   "toc_cell": false,
   "toc_position": {},
   "toc_section_display": true,
   "toc_window_display": false
  }
 },
 "nbformat": 4,
 "nbformat_minor": 5
}
