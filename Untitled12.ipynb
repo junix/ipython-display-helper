{
 "cells": [
  {
   "cell_type": "code",
   "execution_count": 9,
   "id": "e929a091",
   "metadata": {},
   "outputs": [
    {
     "name": "stdout",
     "output_type": "stream",
     "text": [
      "4312006864\n",
      "2\n",
      "4312006928 4312006864\n"
     ]
    }
   ],
   "source": [
    "class A:\n",
    "    x = 0\n",
    "    def __init__(self):\n",
    "        print(id(self.x))\n",
    "        self.x += 2\n",
    "\n",
    "a = A()\n",
    "print(a.x)\n",
    "print(id(a.x), id(A.x))"
   ]
  },
  {
   "cell_type": "code",
   "execution_count": 12,
   "id": "f3a57f56",
   "metadata": {},
   "outputs": [
    {
     "name": "stdout",
     "output_type": "stream",
     "text": [
      "4312006896 4312006896\n",
      "4312006896 4312006928\n"
     ]
    }
   ],
   "source": [
    "x = 1\n",
    "y = x\n",
    "print(id(x),id(y))\n",
    "y += 1\n",
    "print(id(x),id(y))"
   ]
  },
  {
   "cell_type": "code",
   "execution_count": 13,
   "id": "040f9d8b",
   "metadata": {},
   "outputs": [],
   "source": [
    "class A:\n",
    "    def __iadd__(self, o):\n",
    "        return self\n",
    "class B:\n",
    "    a = A()"
   ]
  },
  {
   "cell_type": "code",
   "execution_count": null,
   "id": "9cfae170",
   "metadata": {},
   "outputs": [],
   "source": [
    "b = B()\n",
    "\n",
    "b.a\n",
    "\n",
    "hex(id(b.a))\n",
    "\n",
    "b.a += 23\n",
    "\n",
    "vars(b)\n",
    "\n",
    "B.a\n",
    "\n",
    "del b.a\n",
    "\n",
    "b.a"
   ]
  },
  {
   "cell_type": "code",
   "execution_count": 24,
   "id": "27c3c830",
   "metadata": {},
   "outputs": [
    {
     "data": {
      "text/plain": [
       "3"
      ]
     },
     "execution_count": 24,
     "metadata": {},
     "output_type": "execute_result"
    }
   ],
   "source": [
    "355//113"
   ]
  },
  {
   "cell_type": "code",
   "execution_count": 25,
   "id": "66e69a3b",
   "metadata": {},
   "outputs": [
    {
     "ename": "TypeError",
     "evalue": "'<' not supported between instances of 'str' and 'int'",
     "output_type": "error",
     "traceback": [
      "\u001b[0;31m---------------------------------------------------------------------------\u001b[0m",
      "\u001b[0;31mTypeError\u001b[0m                                 Traceback (most recent call last)",
      "Cell \u001b[0;32mIn[25], line 1\u001b[0m\n\u001b[0;32m----> 1\u001b[0m \u001b[38;5;124;43m\"\u001b[39;49m\u001b[38;5;124;43mhello\u001b[39;49m\u001b[38;5;124;43m\"\u001b[39;49m\u001b[43m \u001b[49m\u001b[38;5;241;43m<\u001b[39;49m\u001b[43m \u001b[49m\u001b[38;5;241;43m0x45\u001b[39;49m\n",
      "\u001b[0;31mTypeError\u001b[0m: '<' not supported between instances of 'str' and 'int'"
     ]
    }
   ],
   "source": [
    "\"hello\" < 0x45"
   ]
  },
  {
   "cell_type": "code",
   "execution_count": 34,
   "id": "865cd627",
   "metadata": {},
   "outputs": [],
   "source": [
    "class A:\n",
    "    def __init__(self):\n",
    "        self.__id = 123\n",
    "        \n",
    "    def print_id(self):\n",
    "        print(self.__id)"
   ]
  },
  {
   "cell_type": "code",
   "execution_count": 35,
   "id": "3adf95fa",
   "metadata": {},
   "outputs": [],
   "source": [
    "a = A()"
   ]
  },
  {
   "cell_type": "code",
   "execution_count": 36,
   "id": "bb52c1dc",
   "metadata": {},
   "outputs": [
    {
     "data": {
      "text/plain": [
       "{'_A__id': 123}"
      ]
     },
     "execution_count": 36,
     "metadata": {},
     "output_type": "execute_result"
    }
   ],
   "source": [
    "vars(a)"
   ]
  },
  {
   "cell_type": "code",
   "execution_count": 37,
   "id": "282024d9",
   "metadata": {},
   "outputs": [
    {
     "data": {
      "text/plain": [
       "123"
      ]
     },
     "execution_count": 37,
     "metadata": {},
     "output_type": "execute_result"
    }
   ],
   "source": [
    "a._A__id"
   ]
  },
  {
   "cell_type": "code",
   "execution_count": 38,
   "id": "24840b30",
   "metadata": {},
   "outputs": [
    {
     "name": "stdout",
     "output_type": "stream",
     "text": [
      "123\n"
     ]
    }
   ],
   "source": [
    "a.print_id()"
   ]
  },
  {
   "cell_type": "code",
   "execution_count": 39,
   "id": "821bf48a",
   "metadata": {},
   "outputs": [],
   "source": [
    "xs = [1,2,3]"
   ]
  },
  {
   "cell_type": "code",
   "execution_count": 40,
   "id": "61a63da4",
   "metadata": {},
   "outputs": [
    {
     "data": {
      "text/plain": [
       "<list_reverseiterator at 0x10460d2d0>"
      ]
     },
     "execution_count": 40,
     "metadata": {},
     "output_type": "execute_result"
    }
   ],
   "source": [
    "reversed(xs)"
   ]
  },
  {
   "cell_type": "code",
   "execution_count": 41,
   "id": "13b644b1",
   "metadata": {},
   "outputs": [
    {
     "data": {
      "text/plain": [
       "[1, 2, 3]"
      ]
     },
     "execution_count": 41,
     "metadata": {},
     "output_type": "execute_result"
    }
   ],
   "source": [
    "sorted(xs)"
   ]
  },
  {
   "cell_type": "code",
   "execution_count": 45,
   "id": "b33d2e8a",
   "metadata": {},
   "outputs": [],
   "source": [
    "a,b,c = 1,2,3"
   ]
  },
  {
   "cell_type": "code",
   "execution_count": 46,
   "id": "c89e78b7",
   "metadata": {},
   "outputs": [
    {
     "data": {
      "text/plain": [
       "True"
      ]
     },
     "execution_count": 46,
     "metadata": {},
     "output_type": "execute_result"
    }
   ],
   "source": [
    "a < b < c"
   ]
  },
  {
   "cell_type": "code",
   "execution_count": 47,
   "id": "05433c7c",
   "metadata": {},
   "outputs": [
    {
     "data": {
      "text/plain": [
       "'helloworld'"
      ]
     },
     "execution_count": 47,
     "metadata": {},
     "output_type": "execute_result"
    }
   ],
   "source": [
    "('hello' \"world\")"
   ]
  },
  {
   "cell_type": "code",
   "execution_count": 48,
   "id": "8b5beeca",
   "metadata": {},
   "outputs": [],
   "source": [
    "x = []"
   ]
  },
  {
   "cell_type": "code",
   "execution_count": 50,
   "id": "01439788",
   "metadata": {},
   "outputs": [],
   "source": [
    "def f():\n",
    "    yield 1\n",
    "    yield 2"
   ]
  },
  {
   "cell_type": "code",
   "execution_count": 51,
   "id": "bbed30d9",
   "metadata": {},
   "outputs": [
    {
     "data": {
      "text/plain": [
       "4370487168"
      ]
     },
     "execution_count": 51,
     "metadata": {},
     "output_type": "execute_result"
    }
   ],
   "source": [
    "id(x)"
   ]
  },
  {
   "cell_type": "code",
   "execution_count": 52,
   "id": "acdea720",
   "metadata": {},
   "outputs": [],
   "source": [
    "x += f()"
   ]
  },
  {
   "cell_type": "code",
   "execution_count": 53,
   "id": "23c0f036",
   "metadata": {},
   "outputs": [
    {
     "data": {
      "text/plain": [
       "4370487168"
      ]
     },
     "execution_count": 53,
     "metadata": {},
     "output_type": "execute_result"
    }
   ],
   "source": [
    "id(x)"
   ]
  },
  {
   "cell_type": "code",
   "execution_count": 54,
   "id": "9e8e5759",
   "metadata": {},
   "outputs": [
    {
     "data": {
      "text/plain": [
       "[1, 2]"
      ]
     },
     "execution_count": 54,
     "metadata": {},
     "output_type": "execute_result"
    }
   ],
   "source": [
    "x"
   ]
  },
  {
   "cell_type": "code",
   "execution_count": 55,
   "id": "ba1440b0",
   "metadata": {},
   "outputs": [
    {
     "data": {
      "text/plain": [
       "type"
      ]
     },
     "execution_count": 55,
     "metadata": {},
     "output_type": "execute_result"
    }
   ],
   "source": [
    "type(tuple)"
   ]
  },
  {
   "cell_type": "code",
   "execution_count": 59,
   "id": "5eb334d3",
   "metadata": {},
   "outputs": [],
   "source": [
    "tp = type((1,2))"
   ]
  },
  {
   "cell_type": "code",
   "execution_count": 63,
   "id": "21616c02",
   "metadata": {
    "scrolled": true
   },
   "outputs": [
    {
     "data": {
      "text/plain": [
       "(0, 1, 2, 3, 4, 5, 6, 7, 8, 9)"
      ]
     },
     "execution_count": 63,
     "metadata": {},
     "output_type": "execute_result"
    }
   ],
   "source": [
    "tp(range(10))"
   ]
  },
  {
   "cell_type": "code",
   "execution_count": 62,
   "id": "a9b40974",
   "metadata": {},
   "outputs": [
    {
     "name": "stdout",
     "output_type": "stream",
     "text": [
      "ok\n"
     ]
    },
    {
     "data": {
      "text/plain": [
       "True"
      ]
     },
     "execution_count": 62,
     "metadata": {},
     "output_type": "execute_result"
    }
   ],
   "source": [
    "print('ok')\n",
    "callable(tp)"
   ]
  },
  {
   "cell_type": "code",
   "execution_count": 64,
   "id": "d947526f",
   "metadata": {},
   "outputs": [],
   "source": [
    "A = type('A', (), {'a':1})"
   ]
  },
  {
   "cell_type": "code",
   "execution_count": 67,
   "id": "9d943c36",
   "metadata": {},
   "outputs": [],
   "source": [
    "a = A()"
   ]
  },
  {
   "cell_type": "code",
   "execution_count": 68,
   "id": "89beea7a",
   "metadata": {},
   "outputs": [
    {
     "data": {
      "text/plain": [
       "1"
      ]
     },
     "execution_count": 68,
     "metadata": {},
     "output_type": "execute_result"
    }
   ],
   "source": [
    "a.a"
   ]
  },
  {
   "cell_type": "code",
   "execution_count": 73,
   "id": "fd066ae7",
   "metadata": {},
   "outputs": [
    {
     "data": {
      "text/plain": [
       "[__main__.A, object]"
      ]
     },
     "execution_count": 73,
     "metadata": {},
     "output_type": "execute_result"
    }
   ],
   "source": [
    "A.mro()"
   ]
  },
  {
   "cell_type": "code",
   "execution_count": 74,
   "id": "5bdb8b4b",
   "metadata": {},
   "outputs": [],
   "source": [
    "import itertools"
   ]
  },
  {
   "cell_type": "code",
   "execution_count": 80,
   "id": "f6332b55",
   "metadata": {},
   "outputs": [],
   "source": [
    "it = zip([1,2],strict=True)"
   ]
  },
  {
   "cell_type": "code",
   "execution_count": 82,
   "id": "2869e9c2",
   "metadata": {},
   "outputs": [
    {
     "name": "stdout",
     "output_type": "stream",
     "text": [
      "(0,)\n",
      "(1,)\n",
      "(2,)\n"
     ]
    }
   ],
   "source": [
    "for x in zip(range(3)):\n",
    "    print(x)"
   ]
  },
  {
   "cell_type": "code",
   "execution_count": null,
   "id": "f6481591",
   "metadata": {},
   "outputs": [],
   "source": []
  },
  {
   "cell_type": "code",
   "execution_count": 83,
   "id": "f3d75884",
   "metadata": {},
   "outputs": [],
   "source": [
    "xs = [1,2,3,]"
   ]
  },
  {
   "cell_type": "code",
   "execution_count": 84,
   "id": "2470e58b",
   "metadata": {},
   "outputs": [],
   "source": [
    "def f(*xs):\n",
    "    print(type(xs))\n",
    "    "
   ]
  },
  {
   "cell_type": "code",
   "execution_count": 90,
   "id": "757078f5",
   "metadata": {},
   "outputs": [
    {
     "data": {
      "text/plain": [
       "<generator object <genexpr> at 0x104d0ab90>"
      ]
     },
     "execution_count": 90,
     "metadata": {},
     "output_type": "execute_result"
    }
   ],
   "source": [
    "(x for x in xs)"
   ]
  },
  {
   "cell_type": "code",
   "execution_count": 88,
   "id": "80c3a6fb",
   "metadata": {},
   "outputs": [
    {
     "data": {
      "text/plain": [
       "1"
      ]
     },
     "execution_count": 88,
     "metadata": {},
     "output_type": "execute_result"
    }
   ],
   "source": [
    "next(Out[87])"
   ]
  },
  {
   "cell_type": "code",
   "execution_count": 91,
   "id": "8ebd160a",
   "metadata": {},
   "outputs": [
    {
     "data": {
      "text/plain": [
       "[(1,), (2,), (3,)]"
      ]
     },
     "execution_count": 91,
     "metadata": {},
     "output_type": "execute_result"
    }
   ],
   "source": [
    "list(zip(xs))"
   ]
  },
  {
   "cell_type": "code",
   "execution_count": 92,
   "id": "d642ebc4",
   "metadata": {},
   "outputs": [],
   "source": [
    "xs = list(range(3))\n",
    "ys = list(range(3,6))"
   ]
  },
  {
   "cell_type": "code",
   "execution_count": 95,
   "id": "a0174024",
   "metadata": {},
   "outputs": [
    {
     "data": {
      "text/plain": [
       "[(0, 1, 2), (3, 4, 5)]"
      ]
     },
     "execution_count": 95,
     "metadata": {},
     "output_type": "execute_result"
    }
   ],
   "source": [
    "list(zip(*zip(xs, ys)))"
   ]
  },
  {
   "cell_type": "code",
   "execution_count": 107,
   "id": "1aba4153",
   "metadata": {},
   "outputs": [
    {
     "data": {
      "text/plain": [
       "[<range_iterator at 0x104d45fb0>,\n",
       " <range_iterator at 0x104d45fb0>,\n",
       " <range_iterator at 0x104d45fb0>,\n",
       " <range_iterator at 0x104d45fb0>,\n",
       " <range_iterator at 0x104d45fb0>,\n",
       " <range_iterator at 0x104d45fb0>,\n",
       " <range_iterator at 0x104d45fb0>,\n",
       " <range_iterator at 0x104d45fb0>,\n",
       " <range_iterator at 0x104d45fb0>]"
      ]
     },
     "execution_count": 107,
     "metadata": {},
     "output_type": "execute_result"
    }
   ],
   "source": [
    "its = [iter(range(37))]*9\n",
    "its"
   ]
  },
  {
   "cell_type": "code",
   "execution_count": 104,
   "id": "a9bfa9d0",
   "metadata": {},
   "outputs": [
    {
     "name": "stdout",
     "output_type": "stream",
     "text": [
      "(0, 1, 2, 3, 4, 5, 6, 7, 8)\n",
      "(9, 10, 11, 12, 13, 14, 15, 16, 17)\n",
      "(18, 19, 20, 21, 22, 23, 24, 25, 26)\n",
      "(27, 28, 29, 30, 31, 32, 33, 34, 35)\n"
     ]
    },
    {
     "ename": "ValueError",
     "evalue": "zip() argument 2 is shorter than argument 1",
     "output_type": "error",
     "traceback": [
      "\u001b[0;31m---------------------------------------------------------------------------\u001b[0m",
      "\u001b[0;31mValueError\u001b[0m                                Traceback (most recent call last)",
      "Cell \u001b[0;32mIn[104], line 1\u001b[0m\n\u001b[0;32m----> 1\u001b[0m \u001b[38;5;28;01mfor\u001b[39;00m x \u001b[38;5;129;01min\u001b[39;00m \u001b[38;5;28mzip\u001b[39m(\u001b[38;5;241m*\u001b[39m[\u001b[38;5;28miter\u001b[39m(\u001b[38;5;28mrange\u001b[39m(\u001b[38;5;241m37\u001b[39m))]\u001b[38;5;241m*\u001b[39m\u001b[38;5;241m9\u001b[39m, strict\u001b[38;5;241m=\u001b[39m\u001b[38;5;28;01mTrue\u001b[39;00m):\n\u001b[1;32m      2\u001b[0m     \u001b[38;5;28mprint\u001b[39m(x)\n",
      "\u001b[0;31mValueError\u001b[0m: zip() argument 2 is shorter than argument 1"
     ]
    }
   ],
   "source": [
    "for x in zip(*[iter(range(37))]*9, strict=True):\n",
    "    print(x)"
   ]
  },
  {
   "cell_type": "code",
   "execution_count": 110,
   "id": "14582a49",
   "metadata": {},
   "outputs": [],
   "source": [
    "*xs,o = range(3)"
   ]
  },
  {
   "cell_type": "code",
   "execution_count": 111,
   "id": "8a6a534d",
   "metadata": {},
   "outputs": [
    {
     "data": {
      "text/plain": [
       "[0, 1]"
      ]
     },
     "execution_count": 111,
     "metadata": {},
     "output_type": "execute_result"
    }
   ],
   "source": [
    "xs"
   ]
  },
  {
   "cell_type": "code",
   "execution_count": 112,
   "id": "1f60f1ec",
   "metadata": {},
   "outputs": [],
   "source": [
    "ds = {'a':3,'b':1}"
   ]
  },
  {
   "cell_type": "code",
   "execution_count": 116,
   "id": "512707fd",
   "metadata": {},
   "outputs": [
    {
     "data": {
      "text/plain": [
       "{'a': 3, 'b': 1}"
      ]
     },
     "execution_count": 116,
     "metadata": {},
     "output_type": "execute_result"
    }
   ],
   "source": [
    "dict(zip(ds.keys(),ds.values()))"
   ]
  },
  {
   "cell_type": "code",
   "execution_count": 117,
   "id": "e160a99a",
   "metadata": {},
   "outputs": [],
   "source": [
    "xs,ys= 'abc',range(3)"
   ]
  },
  {
   "cell_type": "code",
   "execution_count": 119,
   "id": "1aab1edb",
   "metadata": {},
   "outputs": [],
   "source": [
    "a,b = zip(*zip(xs,ys))"
   ]
  },
  {
   "cell_type": "code",
   "execution_count": 122,
   "id": "a0ad0369",
   "metadata": {},
   "outputs": [],
   "source": [
    "xs = ((1,'a',4),(1,'b',5))"
   ]
  },
  {
   "cell_type": "code",
   "execution_count": 123,
   "id": "43d7d4cb",
   "metadata": {},
   "outputs": [],
   "source": [
    "a,b,c = zip(*xs)"
   ]
  },
  {
   "cell_type": "code",
   "execution_count": 124,
   "id": "d887710e",
   "metadata": {},
   "outputs": [
    {
     "data": {
      "text/plain": [
       "((1, 1), ('a', 'b'), (4, 5))"
      ]
     },
     "execution_count": 124,
     "metadata": {},
     "output_type": "execute_result"
    }
   ],
   "source": [
    "\n",
    "a,b,c"
   ]
  },
  {
   "cell_type": "code",
   "execution_count": 125,
   "id": "c7592911",
   "metadata": {},
   "outputs": [],
   "source": [
    "import itertools"
   ]
  },
  {
   "cell_type": "code",
   "execution_count": 128,
   "id": "f6f36d06",
   "metadata": {},
   "outputs": [
    {
     "name": "stdout",
     "output_type": "stream",
     "text": [
      "('a', 'b')\n",
      "('b', 'c')\n",
      "('c', 'd')\n",
      "('d', 'e')\n",
      "('e', 'f')\n",
      "('f', 'g')\n"
     ]
    }
   ],
   "source": [
    "for x in itertools.pairwise(\"abcdefg\"):\n",
    "    print(x)"
   ]
  },
  {
   "cell_type": "code",
   "execution_count": 132,
   "id": "f81827a5",
   "metadata": {},
   "outputs": [],
   "source": [
    "z = zip()"
   ]
  },
  {
   "cell_type": "code",
   "execution_count": 138,
   "id": "e929a538",
   "metadata": {},
   "outputs": [
    {
     "data": {
      "text/plain": [
       "_sitebuiltins._Helper"
      ]
     },
     "execution_count": 138,
     "metadata": {},
     "output_type": "execute_result"
    }
   ],
   "source": [
    "help.__class__"
   ]
  },
  {
   "cell_type": "code",
   "execution_count": 142,
   "id": "28d9f4e3",
   "metadata": {},
   "outputs": [],
   "source": [
    "o = zip.__call__([1,2,3])"
   ]
  },
  {
   "cell_type": "code",
   "execution_count": 143,
   "id": "4f9032d4",
   "metadata": {},
   "outputs": [
    {
     "data": {
      "text/plain": [
       "4371322368"
      ]
     },
     "execution_count": 143,
     "metadata": {},
     "output_type": "execute_result"
    }
   ],
   "source": [
    "id(o)"
   ]
  },
  {
   "cell_type": "code",
   "execution_count": 144,
   "id": "daa9ccad",
   "metadata": {},
   "outputs": [
    {
     "data": {
      "text/plain": [
       "4371322368"
      ]
     },
     "execution_count": 144,
     "metadata": {},
     "output_type": "execute_result"
    }
   ],
   "source": [
    "id(iter(o))"
   ]
  },
  {
   "cell_type": "code",
   "execution_count": 145,
   "id": "7e1abb91",
   "metadata": {},
   "outputs": [
    {
     "name": "stdout",
     "output_type": "stream",
     "text": [
      "Help on class zip in module builtins:\n",
      "\n",
      "class zip(object)\n",
      " |  zip(*iterables, strict=False) --> Yield tuples until an input is exhausted.\n",
      " |  \n",
      " |     >>> list(zip('abcdefg', range(3), range(4)))\n",
      " |     [('a', 0, 0), ('b', 1, 1), ('c', 2, 2)]\n",
      " |  \n",
      " |  The zip object yields n-length tuples, where n is the number of iterables\n",
      " |  passed as positional arguments to zip().  The i-th element in every tuple\n",
      " |  comes from the i-th iterable argument to zip().  This continues until the\n",
      " |  shortest argument is exhausted.\n",
      " |  \n",
      " |  If strict is true and one of the arguments is exhausted before the others,\n",
      " |  raise a ValueError.\n",
      " |  \n",
      " |  Methods defined here:\n",
      " |  \n",
      " |  __getattribute__(self, name, /)\n",
      " |      Return getattr(self, name).\n",
      " |  \n",
      " |  __iter__(self, /)\n",
      " |      Implement iter(self).\n",
      " |  \n",
      " |  __next__(self, /)\n",
      " |      Implement next(self).\n",
      " |  \n",
      " |  __reduce__(...)\n",
      " |      Return state information for pickling.\n",
      " |  \n",
      " |  __setstate__(...)\n",
      " |      Set state information for unpickling.\n",
      " |  \n",
      " |  ----------------------------------------------------------------------\n",
      " |  Static methods defined here:\n",
      " |  \n",
      " |  __new__(*args, **kwargs) from builtins.type\n",
      " |      Create and return a new object.  See help(type) for accurate signature.\n",
      "\n"
     ]
    }
   ],
   "source": [
    "help(zip)"
   ]
  },
  {
   "cell_type": "code",
   "execution_count": 146,
   "id": "a212fd41",
   "metadata": {},
   "outputs": [],
   "source": [
    "it = zip(\"abcd\")"
   ]
  },
  {
   "cell_type": "code",
   "execution_count": 148,
   "id": "5dc03d96",
   "metadata": {},
   "outputs": [
    {
     "data": {
      "text/plain": [
       "('a',)"
      ]
     },
     "execution_count": 148,
     "metadata": {},
     "output_type": "execute_result"
    }
   ],
   "source": [
    "next(it)"
   ]
  },
  {
   "cell_type": "code",
   "execution_count": 149,
   "id": "dec87df6",
   "metadata": {},
   "outputs": [],
   "source": [
    "import pickle"
   ]
  },
  {
   "cell_type": "code",
   "execution_count": 150,
   "id": "5e712b2e",
   "metadata": {},
   "outputs": [],
   "source": [
    "its = pickle.dumps(it)"
   ]
  },
  {
   "cell_type": "code",
   "execution_count": 151,
   "id": "83a4e64b",
   "metadata": {},
   "outputs": [],
   "source": [
    "nit = pickle.loads(its)"
   ]
  },
  {
   "cell_type": "code",
   "execution_count": 152,
   "id": "095c9028",
   "metadata": {},
   "outputs": [
    {
     "data": {
      "text/plain": [
       "('b',)"
      ]
     },
     "execution_count": 152,
     "metadata": {},
     "output_type": "execute_result"
    }
   ],
   "source": [
    "next(nit)"
   ]
  },
  {
   "cell_type": "code",
   "execution_count": 154,
   "id": "ef0b1058",
   "metadata": {},
   "outputs": [
    {
     "data": {
      "text/plain": [
       "builtin_function_or_method"
      ]
     },
     "execution_count": 154,
     "metadata": {},
     "output_type": "execute_result"
    }
   ],
   "source": [
    "type(len)"
   ]
  },
  {
   "cell_type": "code",
   "execution_count": 157,
   "id": "09db72be",
   "metadata": {},
   "outputs": [],
   "source": [
    "import operator"
   ]
  },
  {
   "cell_type": "code",
   "execution_count": 158,
   "id": "f30291ab",
   "metadata": {},
   "outputs": [
    {
     "data": {
      "text/plain": [
       "7"
      ]
     },
     "execution_count": 158,
     "metadata": {},
     "output_type": "execute_result"
    }
   ],
   "source": [
    "operator.add(3,4)"
   ]
  },
  {
   "cell_type": "code",
   "execution_count": null,
   "id": "e4b59743",
   "metadata": {},
   "outputs": [],
   "source": []
  }
 ],
 "metadata": {
  "kernelspec": {
   "display_name": "Python 3 (ipykernel)",
   "language": "python",
   "name": "python3"
  },
  "language_info": {
   "codemirror_mode": {
    "name": "ipython",
    "version": 3
   },
   "file_extension": ".py",
   "mimetype": "text/x-python",
   "name": "python",
   "nbconvert_exporter": "python",
   "pygments_lexer": "ipython3",
   "version": "3.10.6"
  }
 },
 "nbformat": 4,
 "nbformat_minor": 5
}
