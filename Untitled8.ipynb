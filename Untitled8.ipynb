{
 "cells": [
  {
   "cell_type": "code",
   "execution_count": 38,
   "id": "d49fec4f",
   "metadata": {},
   "outputs": [],
   "source": [
    "import inspect\n",
    "from collections import abc"
   ]
  },
  {
   "cell_type": "code",
   "execution_count": 42,
   "id": "545210f0",
   "metadata": {},
   "outputs": [],
   "source": [
    "def f():\n",
    "    x = yield 1\n",
    "    print(\"recv\",x)\n",
    "    yield x+x"
   ]
  },
  {
   "cell_type": "code",
   "execution_count": 43,
   "id": "044cc195",
   "metadata": {},
   "outputs": [],
   "source": [
    "it = f()"
   ]
  },
  {
   "cell_type": "code",
   "execution_count": 45,
   "id": "59161068",
   "metadata": {},
   "outputs": [
    {
     "name": "stdout",
     "output_type": "stream",
     "text": [
      "recv None\n"
     ]
    },
    {
     "ename": "TypeError",
     "evalue": "unsupported operand type(s) for +: 'NoneType' and 'NoneType'",
     "output_type": "error",
     "traceback": [
      "\u001b[0;31m---------------------------------------------------------------------------\u001b[0m",
      "\u001b[0;31mTypeError\u001b[0m                                 Traceback (most recent call last)",
      "Cell \u001b[0;32mIn[45], line 1\u001b[0m\n\u001b[0;32m----> 1\u001b[0m \u001b[43mit\u001b[49m\u001b[38;5;241;43m.\u001b[39;49m\u001b[43msend\u001b[49m\u001b[43m(\u001b[49m\u001b[38;5;28;43;01mNone\u001b[39;49;00m\u001b[43m)\u001b[49m\n",
      "Cell \u001b[0;32mIn[42], line 4\u001b[0m, in \u001b[0;36mf\u001b[0;34m()\u001b[0m\n\u001b[1;32m      2\u001b[0m x \u001b[38;5;241m=\u001b[39m \u001b[38;5;28;01myield\u001b[39;00m \u001b[38;5;241m1\u001b[39m\n\u001b[1;32m      3\u001b[0m \u001b[38;5;28mprint\u001b[39m(\u001b[38;5;124m\"\u001b[39m\u001b[38;5;124mrecv\u001b[39m\u001b[38;5;124m\"\u001b[39m,x)\n\u001b[0;32m----> 4\u001b[0m \u001b[38;5;28;01myield\u001b[39;00m \u001b[43mx\u001b[49m\u001b[38;5;241;43m+\u001b[39;49m\u001b[43mx\u001b[49m\n",
      "\u001b[0;31mTypeError\u001b[0m: unsupported operand type(s) for +: 'NoneType' and 'NoneType'"
     ]
    }
   ],
   "source": [
    "it.send(None)"
   ]
  },
  {
   "cell_type": "code",
   "execution_count": 35,
   "id": "cb7ed022",
   "metadata": {},
   "outputs": [
    {
     "name": "stdout",
     "output_type": "stream",
     "text": [
      "recv 23\n"
     ]
    },
    {
     "data": {
      "text/plain": [
       "46"
      ]
     },
     "execution_count": 35,
     "metadata": {},
     "output_type": "execute_result"
    }
   ],
   "source": [
    "it.send(23)"
   ]
  },
  {
   "cell_type": "code",
   "execution_count": 7,
   "id": "c2663cca",
   "metadata": {},
   "outputs": [
    {
     "data": {
      "text/plain": [
       "'GEN_SUSPENDED'"
      ]
     },
     "execution_count": 7,
     "metadata": {},
     "output_type": "execute_result"
    }
   ],
   "source": [
    "inspect.getgeneratorstate(it)"
   ]
  },
  {
   "cell_type": "code",
   "execution_count": 40,
   "id": "3f56318d",
   "metadata": {},
   "outputs": [
    {
     "data": {
      "text/plain": [
       "True"
      ]
     },
     "execution_count": 40,
     "metadata": {},
     "output_type": "execute_result"
    }
   ],
   "source": [
    "isinstance(it,abc.Iterable)"
   ]
  },
  {
   "cell_type": "code",
   "execution_count": 41,
   "id": "374c4803",
   "metadata": {},
   "outputs": [
    {
     "ename": "SyntaxError",
     "evalue": "invalid syntax (1691183688.py, line 1)",
     "output_type": "error",
     "traceback": [
      "\u001b[0;36m  Cell \u001b[0;32mIn[41], line 1\u001b[0;36m\u001b[0m\n\u001b[0;31m    type(yield)\u001b[0m\n\u001b[0m         ^\u001b[0m\n\u001b[0;31mSyntaxError\u001b[0m\u001b[0;31m:\u001b[0m invalid syntax\n"
     ]
    }
   ],
   "source": [
    "type(yield)"
   ]
  },
  {
   "cell_type": "code",
   "execution_count": 46,
   "id": "75a3c222",
   "metadata": {},
   "outputs": [
    {
     "data": {
      "text/plain": [
       "<list_reverseiterator at 0x103eaf100>"
      ]
     },
     "execution_count": 46,
     "metadata": {},
     "output_type": "execute_result"
    }
   ],
   "source": [
    "reversed([1,2])"
   ]
  },
  {
   "cell_type": "code",
   "execution_count": 53,
   "id": "997242d3",
   "metadata": {},
   "outputs": [],
   "source": [
    "xs = iter(range(10))"
   ]
  },
  {
   "cell_type": "code",
   "execution_count": 54,
   "id": "0d245329",
   "metadata": {},
   "outputs": [],
   "source": [
    "import itertools"
   ]
  },
  {
   "cell_type": "code",
   "execution_count": 55,
   "id": "27e4e8aa",
   "metadata": {},
   "outputs": [
    {
     "data": {
      "text/plain": [
       "[5, 6, 7, 8, 9]"
      ]
     },
     "execution_count": 55,
     "metadata": {},
     "output_type": "execute_result"
    }
   ],
   "source": [
    "list(itertools.dropwhile(lambda x : x<5, xs))"
   ]
  },
  {
   "cell_type": "code",
   "execution_count": 52,
   "id": "378f509e",
   "metadata": {},
   "outputs": [
    {
     "data": {
      "text/plain": [
       "6"
      ]
     },
     "execution_count": 52,
     "metadata": {},
     "output_type": "execute_result"
    }
   ],
   "source": [
    "next(xs)"
   ]
  },
  {
   "cell_type": "code",
   "execution_count": 79,
   "id": "80df7f9b",
   "metadata": {},
   "outputs": [],
   "source": [
    "def g():\n",
    "    # v = yield \n",
    "    print(\">>>\")\n",
    "    yield 1\n",
    "    print(\"nnn\")\n",
    "    yield 2\n",
    "    print('end')"
   ]
  },
  {
   "cell_type": "code",
   "execution_count": 80,
   "id": "dae76e29",
   "metadata": {},
   "outputs": [],
   "source": [
    "gg = g()"
   ]
  },
  {
   "cell_type": "code",
   "execution_count": 83,
   "id": "1355d8e5",
   "metadata": {},
   "outputs": [
    {
     "name": "stdout",
     "output_type": "stream",
     "text": [
      "end\n"
     ]
    },
    {
     "ename": "StopIteration",
     "evalue": "",
     "output_type": "error",
     "traceback": [
      "\u001b[0;31m---------------------------------------------------------------------------\u001b[0m",
      "\u001b[0;31mStopIteration\u001b[0m                             Traceback (most recent call last)",
      "Cell \u001b[0;32mIn[83], line 1\u001b[0m\n\u001b[0;32m----> 1\u001b[0m \u001b[43mgg\u001b[49m\u001b[38;5;241;43m.\u001b[39;49m\u001b[43msend\u001b[49m\u001b[43m(\u001b[49m\u001b[38;5;28;43;01mNone\u001b[39;49;00m\u001b[43m)\u001b[49m\n",
      "\u001b[0;31mStopIteration\u001b[0m: "
     ]
    }
   ],
   "source": [
    "gg.send(None)"
   ]
  },
  {
   "cell_type": "code",
   "execution_count": 60,
   "id": "e36deca9",
   "metadata": {},
   "outputs": [],
   "source": [
    "from itertools import zip_longest"
   ]
  },
  {
   "cell_type": "code",
   "execution_count": 62,
   "id": "e9c0a486",
   "metadata": {},
   "outputs": [
    {
     "name": "stdout",
     "output_type": "stream",
     "text": [
      "(0, 0)\n",
      "(1, 1)\n",
      "(2, 2)\n",
      "(3, 3)\n",
      "(99, 4)\n",
      "(99, 5)\n",
      "(99, 6)\n",
      "(99, 7)\n",
      "(99, 8)\n",
      "(99, 9)\n"
     ]
    }
   ],
   "source": [
    "for x in zip_longest(range(4), range(10), fillvalue=99):\n",
    "    print(x)"
   ]
  },
  {
   "cell_type": "code",
   "execution_count": 65,
   "id": "b8c15994",
   "metadata": {},
   "outputs": [],
   "source": [
    "xs = list(range(9))"
   ]
  },
  {
   "cell_type": "code",
   "execution_count": 66,
   "id": "0a15b599",
   "metadata": {},
   "outputs": [
    {
     "data": {
      "text/plain": [
       "[0, 1, 2, 3, 4, 5, 6, 7, 8]"
      ]
     },
     "execution_count": 66,
     "metadata": {},
     "output_type": "execute_result"
    }
   ],
   "source": [
    "xs"
   ]
  },
  {
   "cell_type": "code",
   "execution_count": 73,
   "id": "57c2c6d7",
   "metadata": {},
   "outputs": [],
   "source": [
    "xss = [xs[:3], xs[3:-3],xs[-3:]]"
   ]
  },
  {
   "cell_type": "code",
   "execution_count": 75,
   "id": "d2d91e04",
   "metadata": {},
   "outputs": [],
   "source": [
    "import pprint"
   ]
  },
  {
   "cell_type": "code",
   "execution_count": 78,
   "id": "4cbb2960",
   "metadata": {},
   "outputs": [
    {
     "data": {
      "text/plain": [
       "[(3, 6), (4, 7), (5, 8)]"
      ]
     },
     "execution_count": 78,
     "metadata": {},
     "output_type": "execute_result"
    }
   ],
   "source": [
    "list(zip(*xss[-2:]))"
   ]
  },
  {
   "cell_type": "code",
   "execution_count": 85,
   "id": "723ba1a8",
   "metadata": {},
   "outputs": [],
   "source": [
    "class A:\n",
    "    def f(self):\n",
    "        print(\"A.f()\")"
   ]
  },
  {
   "cell_type": "code",
   "execution_count": 86,
   "id": "3534b9d7",
   "metadata": {},
   "outputs": [],
   "source": [
    "class MixIn:\n",
    "    def f(self):\n",
    "        print(\"mixin-\")\n",
    "        return super().f()"
   ]
  },
  {
   "cell_type": "code",
   "execution_count": 87,
   "id": "7f356597",
   "metadata": {},
   "outputs": [],
   "source": [
    "class B(MixIn, A):\n",
    "    pass"
   ]
  },
  {
   "cell_type": "code",
   "execution_count": 88,
   "id": "f5a4a88e",
   "metadata": {},
   "outputs": [],
   "source": [
    "b = B()"
   ]
  },
  {
   "cell_type": "code",
   "execution_count": 89,
   "id": "686cd4d2",
   "metadata": {},
   "outputs": [
    {
     "name": "stdout",
     "output_type": "stream",
     "text": [
      "mixin-\n",
      "A.f()\n"
     ]
    }
   ],
   "source": [
    "b.f()"
   ]
  },
  {
   "cell_type": "code",
   "execution_count": 90,
   "id": "57d90506",
   "metadata": {},
   "outputs": [],
   "source": [
    "class A:\n",
    "    def f(self):\n",
    "        print(\"a.f()\")\n"
   ]
  },
  {
   "cell_type": "code",
   "execution_count": 95,
   "id": "3aff2576",
   "metadata": {},
   "outputs": [],
   "source": [
    "class B:\n",
    "    __slots__ = ()\n",
    "    def f(self):\n",
    "        print(\"B.f()\")\n",
    "        super().f()"
   ]
  },
  {
   "cell_type": "code",
   "execution_count": 99,
   "id": "98d37ee5",
   "metadata": {},
   "outputs": [],
   "source": [
    "class C(A,B):\n",
    "    def f(self):\n",
    "        super().f()"
   ]
  },
  {
   "cell_type": "code",
   "execution_count": 100,
   "id": "cff46e2c",
   "metadata": {},
   "outputs": [],
   "source": [
    "c = C()"
   ]
  },
  {
   "cell_type": "code",
   "execution_count": 101,
   "id": "d1e70ddc",
   "metadata": {},
   "outputs": [
    {
     "name": "stdout",
     "output_type": "stream",
     "text": [
      "a.f()\n"
     ]
    }
   ],
   "source": [
    "c.f()"
   ]
  },
  {
   "cell_type": "code",
   "execution_count": 102,
   "id": "2af458af",
   "metadata": {},
   "outputs": [],
   "source": [
    "class A:\n",
    "    def hello(self):\n",
    "        print(\"h\")"
   ]
  },
  {
   "cell_type": "code",
   "execution_count": 103,
   "id": "1148c79e",
   "metadata": {},
   "outputs": [],
   "source": [
    "a = A()"
   ]
  },
  {
   "cell_type": "code",
   "execution_count": 104,
   "id": "6a722b83",
   "metadata": {},
   "outputs": [],
   "source": [
    "f = a.hello"
   ]
  },
  {
   "cell_type": "code",
   "execution_count": 105,
   "id": "b838ff35",
   "metadata": {},
   "outputs": [
    {
     "data": {
      "text/plain": [
       "'hello'"
      ]
     },
     "execution_count": 105,
     "metadata": {},
     "output_type": "execute_result"
    }
   ],
   "source": [
    "f.__name__"
   ]
  },
  {
   "cell_type": "code",
   "execution_count": 107,
   "id": "36f4b67a",
   "metadata": {},
   "outputs": [],
   "source": [
    "def g():\n",
    "    print(\"start\")\n",
    "    x = yield\n",
    "    print(\"recv\", x)"
   ]
  },
  {
   "cell_type": "code",
   "execution_count": 108,
   "id": "9e851f4a",
   "metadata": {},
   "outputs": [],
   "source": [
    "o = g()"
   ]
  },
  {
   "cell_type": "code",
   "execution_count": 111,
   "id": "6899e82e",
   "metadata": {},
   "outputs": [
    {
     "name": "stdout",
     "output_type": "stream",
     "text": [
      "recv hello\n"
     ]
    },
    {
     "ename": "StopIteration",
     "evalue": "",
     "output_type": "error",
     "traceback": [
      "\u001b[0;31m---------------------------------------------------------------------------\u001b[0m",
      "\u001b[0;31mStopIteration\u001b[0m                             Traceback (most recent call last)",
      "Cell \u001b[0;32mIn[111], line 1\u001b[0m\n\u001b[0;32m----> 1\u001b[0m \u001b[43mo\u001b[49m\u001b[38;5;241;43m.\u001b[39;49m\u001b[43msend\u001b[49m\u001b[43m(\u001b[49m\u001b[38;5;124;43m\"\u001b[39;49m\u001b[38;5;124;43mhello\u001b[39;49m\u001b[38;5;124;43m\"\u001b[39;49m\u001b[43m)\u001b[49m\n",
      "\u001b[0;31mStopIteration\u001b[0m: "
     ]
    }
   ],
   "source": [
    "o.send(\"hello\")"
   ]
  },
  {
   "cell_type": "code",
   "execution_count": null,
   "id": "1193ca65",
   "metadata": {},
   "outputs": [],
   "source": []
  }
 ],
 "metadata": {
  "kernelspec": {
   "display_name": "Python 3 (ipykernel)",
   "language": "python",
   "name": "python3"
  },
  "language_info": {
   "codemirror_mode": {
    "name": "ipython",
    "version": 3
   },
   "file_extension": ".py",
   "mimetype": "text/x-python",
   "name": "python",
   "nbconvert_exporter": "python",
   "pygments_lexer": "ipython3",
   "version": "3.10.6"
  }
 },
 "nbformat": 4,
 "nbformat_minor": 5
}
