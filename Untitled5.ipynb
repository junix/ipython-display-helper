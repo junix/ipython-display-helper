{
 "cells": [
  {
   "cell_type": "code",
   "execution_count": 3,
   "id": "1726a35e",
   "metadata": {},
   "outputs": [],
   "source": [
    "a = float('INF')"
   ]
  },
  {
   "cell_type": "code",
   "execution_count": 4,
   "id": "f86afd00",
   "metadata": {},
   "outputs": [
    {
     "data": {
      "text/plain": [
       "True"
      ]
     },
     "execution_count": 4,
     "metadata": {},
     "output_type": "execute_result"
    }
   ],
   "source": [
    "isinstance(a, float)"
   ]
  },
  {
   "cell_type": "code",
   "execution_count": 8,
   "id": "7583ba45",
   "metadata": {},
   "outputs": [
    {
     "data": {
      "text/plain": [
       "False"
      ]
     },
     "execution_count": 8,
     "metadata": {},
     "output_type": "execute_result"
    }
   ],
   "source": [
    "a.is_integer()"
   ]
  },
  {
   "cell_type": "code",
   "execution_count": 9,
   "id": "d353e251",
   "metadata": {},
   "outputs": [],
   "source": [
    "import collections"
   ]
  },
  {
   "cell_type": "code",
   "execution_count": 11,
   "id": "d7fad39a",
   "metadata": {},
   "outputs": [],
   "source": [
    "class A(collections.abc.Iterable):\n",
    "    pass"
   ]
  },
  {
   "cell_type": "code",
   "execution_count": 15,
   "id": "40e6988d",
   "metadata": {},
   "outputs": [
    {
     "data": {
      "text/plain": [
       "True"
      ]
     },
     "execution_count": 15,
     "metadata": {},
     "output_type": "execute_result"
    }
   ],
   "source": [
    "callable(A)"
   ]
  },
  {
   "cell_type": "code",
   "execution_count": 16,
   "id": "350ea216",
   "metadata": {},
   "outputs": [],
   "source": [
    "import re"
   ]
  },
  {
   "cell_type": "code",
   "execution_count": 23,
   "id": "d45a2078",
   "metadata": {},
   "outputs": [],
   "source": [
    "p = re.compile(\n",
    "r\"\"\"\n",
    "a #a\n",
    "|\n",
    "b #b\n",
    "|\n",
    "c\n",
    "\"\"\",\n",
    "    flags=re.VERBOSE\n",
    ")"
   ]
  },
  {
   "cell_type": "code",
   "execution_count": 27,
   "id": "88c5ead2",
   "metadata": {},
   "outputs": [
    {
     "data": {
      "text/plain": [
       "<re.Match object; span=(6, 7), match='a'>"
      ]
     },
     "execution_count": 27,
     "metadata": {},
     "output_type": "execute_result"
    }
   ],
   "source": [
    "p.search('hellowanglijun')"
   ]
  },
  {
   "cell_type": "code",
   "execution_count": 21,
   "id": "90b12074",
   "metadata": {},
   "outputs": [],
   "source": [
    "RE_NUMBER = re.compile(\n",
    "    r\"\"\"\n",
    "0\n",
    "(?:\n",
    "    x[0-9A-Fa-f](?:_?[0-9A-Fa-f])*   # hex\n",
    "    |\n",
    "    b[01](?:_?[01])*                 # bin\n",
    "    |\n",
    "    o[0-7](?:_?[0-7])*               # oct\n",
    ")\n",
    "|\n",
    "[+-]?(?:0|[1-9](?:_?[0-9])*)         # dec, integer part\n",
    "(?P<floatpart>\n",
    "    (?:\\.[0-9](?:_?[0-9])*)?         # optional fractional part\n",
    "    (?:[eE][+-]?[0-9](?:_?[0-9])*)?  # optional exponent part\n",
    ")\n",
    "\"\"\",\n",
    "    flags=re.VERBOSE,\n",
    ")"
   ]
  },
  {
   "cell_type": "code",
   "execution_count": 22,
   "id": "1970d1a2",
   "metadata": {},
   "outputs": [
    {
     "data": {
      "text/plain": [
       "re.compile(r'\\n0\\n(?:\\n    x[0-9A-Fa-f](?:_?[0-9A-Fa-f])*   # hex\\n    |\\n    b[01](?:_?[01])*                 # bin\\n    |\\n    o[0-7](?:_?[0-7])*               # oct\\n)\\n|\\n[+-]?(?:0|[1-9](?:_?[0-9])*)         # dec, integer part\\n(?P<floatpart>\\n    (?:\\.[0-9](?:_?[0-9])*)?         # optional fractional part\\n    (?:[eE][+-]?[0-9](?:_?[0-9])*)?  # optional exponent part\\n)\\n',\n",
       "           re.UNICODE|re.VERBOSE)"
      ]
     },
     "execution_count": 22,
     "metadata": {},
     "output_type": "execute_result"
    }
   ],
   "source": [
    "RE_NUMBER"
   ]
  },
  {
   "cell_type": "code",
   "execution_count": 28,
   "id": "61ee8c98",
   "metadata": {},
   "outputs": [
    {
     "data": {
      "text/plain": [
       "re.compile(r'a|b|c', re.UNICODE)"
      ]
     },
     "execution_count": 28,
     "metadata": {},
     "output_type": "execute_result"
    }
   ],
   "source": [
    "re.compile(\"a\"\n",
    "          \"|b\"\n",
    "          \"|c\")"
   ]
  },
  {
   "cell_type": "code",
   "execution_count": 29,
   "id": "d8568035",
   "metadata": {},
   "outputs": [
    {
     "data": {
      "text/plain": [
       "NoneType"
      ]
     },
     "execution_count": 29,
     "metadata": {},
     "output_type": "execute_result"
    }
   ],
   "source": [
    "type(None)"
   ]
  },
  {
   "cell_type": "code",
   "execution_count": 32,
   "id": "38a644d2",
   "metadata": {},
   "outputs": [
    {
     "ename": "NameError",
     "evalue": "name 'a' is not defined",
     "output_type": "error",
     "traceback": [
      "\u001b[0;31m---------------------------------------------------------------------------\u001b[0m",
      "\u001b[0;31mNameError\u001b[0m                                 Traceback (most recent call last)",
      "Cell \u001b[0;32mIn[32], line 1\u001b[0m\n\u001b[0;32m----> 1\u001b[0m \u001b[38;5;28;01mdel\u001b[39;00m a\n",
      "\u001b[0;31mNameError\u001b[0m: name 'a' is not defined"
     ]
    }
   ],
   "source": [
    "del a"
   ]
  },
  {
   "cell_type": "code",
   "execution_count": 33,
   "id": "3d10df9f",
   "metadata": {},
   "outputs": [],
   "source": [
    "def hello(v:int) -> int:\n",
    "    return v"
   ]
  },
  {
   "cell_type": "code",
   "execution_count": 34,
   "id": "7600e8ed",
   "metadata": {},
   "outputs": [],
   "source": [
    "import inspect"
   ]
  },
  {
   "cell_type": "code",
   "execution_count": 35,
   "id": "7f25f024",
   "metadata": {},
   "outputs": [
    {
     "data": {
      "text/plain": [
       "<Signature (v: int) -> int>"
      ]
     },
     "execution_count": 35,
     "metadata": {},
     "output_type": "execute_result"
    }
   ],
   "source": [
    "inspect.signature(hello)"
   ]
  },
  {
   "cell_type": "code",
   "execution_count": 36,
   "id": "c75ac9f0",
   "metadata": {},
   "outputs": [],
   "source": [
    "class A:\n",
    "    def __init__(self, v:int):\n",
    "        self.v = v"
   ]
  },
  {
   "cell_type": "code",
   "execution_count": 38,
   "id": "a61cf3fe",
   "metadata": {},
   "outputs": [],
   "source": [
    "A.__text_signature__"
   ]
  },
  {
   "cell_type": "code",
   "execution_count": 39,
   "id": "f0759bc2",
   "metadata": {},
   "outputs": [],
   "source": [
    "a = A(234)"
   ]
  },
  {
   "cell_type": "code",
   "execution_count": 40,
   "id": "af0c9167",
   "metadata": {},
   "outputs": [
    {
     "data": {
      "text/plain": [
       "<Signature (v: int)>"
      ]
     },
     "execution_count": 40,
     "metadata": {},
     "output_type": "execute_result"
    }
   ],
   "source": [
    "inspect.signature(A)"
   ]
  },
  {
   "cell_type": "code",
   "execution_count": 41,
   "id": "c132dcd9",
   "metadata": {},
   "outputs": [],
   "source": [
    "import inspect"
   ]
  },
  {
   "cell_type": "code",
   "execution_count": 43,
   "id": "3d8de280",
   "metadata": {},
   "outputs": [],
   "source": [
    "f = inspect.currentframe()"
   ]
  },
  {
   "cell_type": "code",
   "execution_count": 48,
   "id": "864a5242",
   "metadata": {},
   "outputs": [
    {
     "data": {
      "text/plain": [
       "frame"
      ]
     },
     "execution_count": 48,
     "metadata": {},
     "output_type": "execute_result"
    }
   ],
   "source": [
    "type(f)"
   ]
  },
  {
   "cell_type": "code",
   "execution_count": 49,
   "id": "d5508356",
   "metadata": {},
   "outputs": [
    {
     "data": {
      "text/plain": [
       "<frame at 0x1581115a0, file '/Users/junix/miniconda3/envs/py310/lib/python3.10/site-packages/IPython/core/interactiveshell.py', line 3458, code run_code>"
      ]
     },
     "execution_count": 49,
     "metadata": {},
     "output_type": "execute_result"
    }
   ],
   "source": [
    "f.f_back"
   ]
  },
  {
   "cell_type": "code",
   "execution_count": 50,
   "id": "16c71908",
   "metadata": {},
   "outputs": [],
   "source": [
    "class A:\n",
    "    @classmethod\n",
    "    def f(cls, v):\n",
    "        return v"
   ]
  },
  {
   "cell_type": "code",
   "execution_count": 53,
   "id": "7976f1bb",
   "metadata": {},
   "outputs": [
    {
     "data": {
      "text/plain": [
       "1"
      ]
     },
     "execution_count": 53,
     "metadata": {},
     "output_type": "execute_result"
    }
   ],
   "source": [
    "A.f(1)"
   ]
  },
  {
   "cell_type": "code",
   "execution_count": 54,
   "id": "f1b92373",
   "metadata": {},
   "outputs": [],
   "source": [
    "import sys"
   ]
  },
  {
   "cell_type": "code",
   "execution_count": 55,
   "id": "1e3bbbc9",
   "metadata": {},
   "outputs": [
    {
     "data": {
      "text/plain": [
       "(None, None, None)"
      ]
     },
     "execution_count": 55,
     "metadata": {},
     "output_type": "execute_result"
    }
   ],
   "source": [
    "sys.exc_info()"
   ]
  },
  {
   "cell_type": "code",
   "execution_count": 66,
   "id": "e7f52e82",
   "metadata": {},
   "outputs": [],
   "source": [
    "def hello():\n",
    "    x_hello = 34\n",
    "    def g():\n",
    "        f = inspect.currentframe()\n",
    "        g_i = 23\n",
    "        print(\"g->\", f.f_back.f_locals)\n",
    "    return g()\n",
    "    "
   ]
  },
  {
   "cell_type": "code",
   "execution_count": 67,
   "id": "7352962e",
   "metadata": {},
   "outputs": [
    {
     "name": "stdout",
     "output_type": "stream",
     "text": [
      "g-> {'x_hello': 34, 'g': <function hello.<locals>.g at 0x1056a80d0>}\n"
     ]
    }
   ],
   "source": [
    "hello()"
   ]
  },
  {
   "cell_type": "code",
   "execution_count": 68,
   "id": "ab8f8d31",
   "metadata": {},
   "outputs": [],
   "source": [
    "xs = range(2)"
   ]
  },
  {
   "cell_type": "code",
   "execution_count": 69,
   "id": "99cfe456",
   "metadata": {},
   "outputs": [
    {
     "data": {
      "text/plain": [
       "range(0, 2)"
      ]
     },
     "execution_count": 69,
     "metadata": {},
     "output_type": "execute_result"
    }
   ],
   "source": [
    "xs"
   ]
  },
  {
   "cell_type": "code",
   "execution_count": 70,
   "id": "e17d9930",
   "metadata": {},
   "outputs": [
    {
     "data": {
      "text/plain": [
       "(0, 1, 0, 1)"
      ]
     },
     "execution_count": 70,
     "metadata": {},
     "output_type": "execute_result"
    }
   ],
   "source": [
    "*xs,*xs"
   ]
  },
  {
   "cell_type": "code",
   "execution_count": 73,
   "id": "fa998acb",
   "metadata": {},
   "outputs": [
    {
     "data": {
      "text/plain": [
       "123345"
      ]
     },
     "execution_count": 73,
     "metadata": {},
     "output_type": "execute_result"
    }
   ],
   "source": [
    "123_345"
   ]
  },
  {
   "cell_type": "code",
   "execution_count": 74,
   "id": "d5181e40",
   "metadata": {},
   "outputs": [
    {
     "data": {
      "text/plain": [
       "False"
      ]
     },
     "execution_count": 74,
     "metadata": {},
     "output_type": "execute_result"
    }
   ],
   "source": [
    "bool(range(4,4))"
   ]
  },
  {
   "cell_type": "code",
   "execution_count": 76,
   "id": "a7f0b951",
   "metadata": {},
   "outputs": [
    {
     "data": {
      "text/plain": [
       "'short'"
      ]
     },
     "execution_count": 76,
     "metadata": {},
     "output_type": "execute_result"
    }
   ],
   "source": [
    "sys.float_info\n",
    "sys.float_repr_style"
   ]
  },
  {
   "cell_type": "code",
   "execution_count": 77,
   "id": "b2c0e959",
   "metadata": {},
   "outputs": [
    {
     "data": {
      "text/plain": [
       "False"
      ]
     },
     "execution_count": 77,
     "metadata": {},
     "output_type": "execute_result"
    }
   ],
   "source": [
    "bool()"
   ]
  },
  {
   "cell_type": "code",
   "execution_count": 78,
   "id": "8f1fa21b",
   "metadata": {},
   "outputs": [],
   "source": [
    "xs = []"
   ]
  },
  {
   "cell_type": "code",
   "execution_count": 79,
   "id": "305fa2e9",
   "metadata": {},
   "outputs": [
    {
     "data": {
      "text/plain": [
       "False"
      ]
     },
     "execution_count": 79,
     "metadata": {},
     "output_type": "execute_result"
    }
   ],
   "source": [
    "bool(*xs)"
   ]
  },
  {
   "cell_type": "code",
   "execution_count": 81,
   "id": "15b57dbc",
   "metadata": {},
   "outputs": [
    {
     "data": {
      "text/plain": [
       "2.67"
      ]
     },
     "execution_count": 81,
     "metadata": {},
     "output_type": "execute_result"
    }
   ],
   "source": [
    "round(2.675,2)"
   ]
  },
  {
   "cell_type": "code",
   "execution_count": 82,
   "id": "d28f7a5f",
   "metadata": {},
   "outputs": [
    {
     "data": {
      "text/plain": [
       "'Ӓ'"
      ]
     },
     "execution_count": 82,
     "metadata": {},
     "output_type": "execute_result"
    }
   ],
   "source": [
    "chr(1234)"
   ]
  },
  {
   "cell_type": "code",
   "execution_count": 83,
   "id": "e4c0c32c",
   "metadata": {},
   "outputs": [
    {
     "data": {
      "text/plain": [
       "111"
      ]
     },
     "execution_count": 83,
     "metadata": {},
     "output_type": "execute_result"
    }
   ],
   "source": [
    "ord('o')"
   ]
  },
  {
   "cell_type": "code",
   "execution_count": 84,
   "id": "d0bc2ca9",
   "metadata": {},
   "outputs": [
    {
     "data": {
      "text/plain": [
       "'0b1101111'"
      ]
     },
     "execution_count": 84,
     "metadata": {},
     "output_type": "execute_result"
    }
   ],
   "source": [
    "bin(111)"
   ]
  },
  {
   "cell_type": "code",
   "execution_count": 85,
   "id": "2aa1e17d",
   "metadata": {},
   "outputs": [
    {
     "data": {
      "text/plain": [
       "'0x7b'"
      ]
     },
     "execution_count": 85,
     "metadata": {},
     "output_type": "execute_result"
    }
   ],
   "source": [
    "hex(123)"
   ]
  },
  {
   "cell_type": "code",
   "execution_count": 86,
   "id": "3cc2708c",
   "metadata": {},
   "outputs": [
    {
     "ename": "TypeError",
     "evalue": "'str' object cannot be interpreted as an integer",
     "output_type": "error",
     "traceback": [
      "\u001b[0;31m---------------------------------------------------------------------------\u001b[0m",
      "\u001b[0;31mTypeError\u001b[0m                                 Traceback (most recent call last)",
      "Cell \u001b[0;32mIn[86], line 1\u001b[0m\n\u001b[0;32m----> 1\u001b[0m \u001b[38;5;28;43mhex\u001b[39;49m\u001b[43m(\u001b[49m\u001b[38;5;124;43m'\u001b[39;49m\u001b[38;5;124;43ms\u001b[39;49m\u001b[38;5;124;43m'\u001b[39;49m\u001b[43m)\u001b[49m\n",
      "\u001b[0;31mTypeError\u001b[0m: 'str' object cannot be interpreted as an integer"
     ]
    }
   ],
   "source": [
    "hex('s')"
   ]
  },
  {
   "cell_type": "code",
   "execution_count": 88,
   "id": "8039d150",
   "metadata": {},
   "outputs": [
    {
     "data": {
      "text/plain": [
       "'0x1.675c28f5c28f6p+3'"
      ]
     },
     "execution_count": 88,
     "metadata": {},
     "output_type": "execute_result"
    }
   ],
   "source": [
    "(11.23).hex()"
   ]
  },
  {
   "cell_type": "code",
   "execution_count": 89,
   "id": "fb4df327",
   "metadata": {},
   "outputs": [
    {
     "data": {
      "text/plain": [
       "True"
      ]
     },
     "execution_count": 89,
     "metadata": {},
     "output_type": "execute_result"
    }
   ],
   "source": [
    "isinstance(2,int|float)"
   ]
  },
  {
   "cell_type": "code",
   "execution_count": 93,
   "id": "f11289ca",
   "metadata": {},
   "outputs": [],
   "source": [
    "x = int | float|str"
   ]
  },
  {
   "cell_type": "code",
   "execution_count": 94,
   "id": "2879943c",
   "metadata": {},
   "outputs": [
    {
     "data": {
      "text/plain": [
       "types.UnionType"
      ]
     },
     "execution_count": 94,
     "metadata": {},
     "output_type": "execute_result"
    }
   ],
   "source": [
    "type(x)"
   ]
  },
  {
   "cell_type": "code",
   "execution_count": 95,
   "id": "cce3ba30",
   "metadata": {},
   "outputs": [],
   "source": [
    "o = object()"
   ]
  },
  {
   "cell_type": "code",
   "execution_count": 97,
   "id": "f7f76d9b",
   "metadata": {},
   "outputs": [
    {
     "data": {
      "text/plain": [
       "['__class__',\n",
       " '__delattr__',\n",
       " '__dir__',\n",
       " '__doc__',\n",
       " '__eq__',\n",
       " '__format__',\n",
       " '__ge__',\n",
       " '__getattribute__',\n",
       " '__gt__',\n",
       " '__hash__',\n",
       " '__init__',\n",
       " '__init_subclass__',\n",
       " '__le__',\n",
       " '__lt__',\n",
       " '__ne__',\n",
       " '__new__',\n",
       " '__reduce__',\n",
       " '__reduce_ex__',\n",
       " '__repr__',\n",
       " '__setattr__',\n",
       " '__sizeof__',\n",
       " '__str__',\n",
       " '__subclasshook__']"
      ]
     },
     "execution_count": 97,
     "metadata": {},
     "output_type": "execute_result"
    }
   ],
   "source": [
    "dir(o)"
   ]
  },
  {
   "cell_type": "code",
   "execution_count": 99,
   "id": "1aca20e3",
   "metadata": {},
   "outputs": [
    {
     "data": {
      "text/plain": [
       "[bool, <enum 'IntEnum'>, <enum 'IntFlag'>, sre_constants._NamedIntConstant]"
      ]
     },
     "execution_count": 99,
     "metadata": {},
     "output_type": "execute_result"
    }
   ],
   "source": [
    "int.__subclasses__()"
   ]
  },
  {
   "cell_type": "code",
   "execution_count": 102,
   "id": "c9573fde",
   "metadata": {},
   "outputs": [
    {
     "data": {
      "text/plain": [
       "True"
      ]
     },
     "execution_count": 102,
     "metadata": {},
     "output_type": "execute_result"
    }
   ],
   "source": [
    "type(None)() is None"
   ]
  },
  {
   "cell_type": "code",
   "execution_count": 103,
   "id": "3bcaac6e",
   "metadata": {},
   "outputs": [],
   "source": [
    "class A:\n",
    "    def f(self, v):\n",
    "        print(v)"
   ]
  },
  {
   "cell_type": "code",
   "execution_count": 104,
   "id": "c2d9dd79",
   "metadata": {},
   "outputs": [],
   "source": [
    "a = A()"
   ]
  },
  {
   "cell_type": "code",
   "execution_count": 106,
   "id": "33e8985e",
   "metadata": {},
   "outputs": [],
   "source": [
    "func = a.f"
   ]
  },
  {
   "cell_type": "code",
   "execution_count": 107,
   "id": "e8493820",
   "metadata": {},
   "outputs": [
    {
     "data": {
      "text/plain": [
       "<__main__.A at 0x1058ce9e0>"
      ]
     },
     "execution_count": 107,
     "metadata": {},
     "output_type": "execute_result"
    }
   ],
   "source": [
    "func.__self__"
   ]
  },
  {
   "cell_type": "code",
   "execution_count": 109,
   "id": "149bd44a",
   "metadata": {},
   "outputs": [
    {
     "name": "stdout",
     "output_type": "stream",
     "text": [
      "23\n"
     ]
    }
   ],
   "source": [
    "func.__func__(func.__self__, 23)"
   ]
  },
  {
   "cell_type": "code",
   "execution_count": 110,
   "id": "bb816d9d",
   "metadata": {},
   "outputs": [
    {
     "ename": "AttributeError",
     "evalue": "'method' object has no attribute 'name'",
     "output_type": "error",
     "traceback": [
      "\u001b[0;31m---------------------------------------------------------------------------\u001b[0m",
      "\u001b[0;31mAttributeError\u001b[0m                            Traceback (most recent call last)",
      "Cell \u001b[0;32mIn[110], line 1\u001b[0m\n\u001b[0;32m----> 1\u001b[0m \u001b[43mfunc\u001b[49m\u001b[38;5;241;43m.\u001b[39;49m\u001b[43mname\u001b[49m \u001b[38;5;241m=\u001b[39m \u001b[38;5;124m\"\u001b[39m\u001b[38;5;124mwanglijun\u001b[39m\u001b[38;5;124m\"\u001b[39m\n",
      "\u001b[0;31mAttributeError\u001b[0m: 'method' object has no attribute 'name'"
     ]
    }
   ],
   "source": [
    "func.name = \"wanglijun\""
   ]
  },
  {
   "cell_type": "code",
   "execution_count": 111,
   "id": "c4160dec",
   "metadata": {},
   "outputs": [],
   "source": [
    "func.__func__.name = \"wanglijun\""
   ]
  },
  {
   "cell_type": "code",
   "execution_count": 113,
   "id": "726bacf2",
   "metadata": {},
   "outputs": [
    {
     "data": {
      "text/plain": [
       "'wanglijun'"
      ]
     },
     "execution_count": 113,
     "metadata": {},
     "output_type": "execute_result"
    }
   ],
   "source": [
    "func.name"
   ]
  },
  {
   "cell_type": "code",
   "execution_count": 114,
   "id": "b606bdeb",
   "metadata": {},
   "outputs": [],
   "source": [
    "import os"
   ]
  },
  {
   "cell_type": "code",
   "execution_count": 116,
   "id": "3c058e44",
   "metadata": {},
   "outputs": [],
   "source": [
    "import typing"
   ]
  },
  {
   "cell_type": "code",
   "execution_count": 118,
   "id": "663fb049",
   "metadata": {},
   "outputs": [],
   "source": [
    "o = typing.Union[int, str]"
   ]
  },
  {
   "cell_type": "code",
   "execution_count": 119,
   "id": "b8e39340",
   "metadata": {},
   "outputs": [],
   "source": [
    "x = int | str"
   ]
  },
  {
   "cell_type": "code",
   "execution_count": 121,
   "id": "f3ab1a22",
   "metadata": {},
   "outputs": [
    {
     "data": {
      "text/plain": [
       "(typing._UnionGenericAlias, types.UnionType)"
      ]
     },
     "execution_count": 121,
     "metadata": {},
     "output_type": "execute_result"
    }
   ],
   "source": [
    "type(o), type(x)"
   ]
  },
  {
   "cell_type": "code",
   "execution_count": 123,
   "id": "38551d31",
   "metadata": {},
   "outputs": [
    {
     "data": {
      "text/plain": [
       "'hello'"
      ]
     },
     "execution_count": 123,
     "metadata": {},
     "output_type": "execute_result"
    }
   ],
   "source": [
    "str(b'hello',encoding='utf-8')"
   ]
  },
  {
   "cell_type": "code",
   "execution_count": 125,
   "id": "e0759e2b",
   "metadata": {},
   "outputs": [
    {
     "ename": "SyntaxError",
     "evalue": "(unicode error) 'unicodeescape' codec can't decode bytes in position 0-8: unknown Unicode character name (4148425156.py, line 1)",
     "output_type": "error",
     "traceback": [
      "\u001b[0;36m  Cell \u001b[0;32mIn[125], line 1\u001b[0;36m\u001b[0m\n\u001b[0;31m    \"\\N{12345}\"\u001b[0m\n\u001b[0m               ^\u001b[0m\n\u001b[0;31mSyntaxError\u001b[0m\u001b[0;31m:\u001b[0m (unicode error) 'unicodeescape' codec can't decode bytes in position 0-8: unknown Unicode character name\n"
     ]
    }
   ],
   "source": [
    "\"\\N{12345}\""
   ]
  },
  {
   "cell_type": "code",
   "execution_count": 126,
   "id": "6d15ce01",
   "metadata": {},
   "outputs": [
    {
     "data": {
      "text/plain": [
       "[]"
      ]
     },
     "execution_count": 126,
     "metadata": {},
     "output_type": "execute_result"
    }
   ],
   "source": [
    "float.__subclasses__()"
   ]
  },
  {
   "cell_type": "code",
   "execution_count": 127,
   "id": "7beb3f7f",
   "metadata": {},
   "outputs": [],
   "source": [
    "import types"
   ]
  },
  {
   "cell_type": "code",
   "execution_count": 129,
   "id": "72c7bc76",
   "metadata": {},
   "outputs": [
    {
     "data": {
      "text/plain": [
       "True"
      ]
     },
     "execution_count": 129,
     "metadata": {},
     "output_type": "execute_result"
    }
   ],
   "source": [
    "types.NoneType() is None"
   ]
  },
  {
   "cell_type": "code",
   "execution_count": 130,
   "id": "46c886bc",
   "metadata": {},
   "outputs": [
    {
     "data": {
      "text/plain": [
       "True"
      ]
     },
     "execution_count": 130,
     "metadata": {},
     "output_type": "execute_result"
    }
   ],
   "source": [
    "not True or True"
   ]
  },
  {
   "cell_type": "code",
   "execution_count": 131,
   "id": "c7ab454a",
   "metadata": {},
   "outputs": [
    {
     "data": {
      "text/plain": [
       "True"
      ]
     },
     "execution_count": 131,
     "metadata": {},
     "output_type": "execute_result"
    }
   ],
   "source": [
    "not 1-1"
   ]
  },
  {
   "cell_type": "code",
   "execution_count": 132,
   "id": "82c3dba6",
   "metadata": {},
   "outputs": [
    {
     "data": {
      "text/plain": [
       "-1"
      ]
     },
     "execution_count": 132,
     "metadata": {},
     "output_type": "execute_result"
    }
   ],
   "source": [
    "(not 1) - 1"
   ]
  },
  {
   "cell_type": "code",
   "execution_count": 134,
   "id": "f7fbbc02",
   "metadata": {},
   "outputs": [
    {
     "data": {
      "text/plain": [
       "1"
      ]
     },
     "execution_count": 134,
     "metadata": {},
     "output_type": "execute_result"
    }
   ],
   "source": [
    "True.__int__()"
   ]
  },
  {
   "cell_type": "code",
   "execution_count": 135,
   "id": "ebbeb5ac",
   "metadata": {},
   "outputs": [
    {
     "data": {
      "text/plain": [
       "True"
      ]
     },
     "execution_count": 135,
     "metadata": {},
     "output_type": "execute_result"
    }
   ],
   "source": [
    "1 .__bool__()"
   ]
  },
  {
   "cell_type": "code",
   "execution_count": null,
   "id": "8e696b06",
   "metadata": {},
   "outputs": [],
   "source": []
  }
 ],
 "metadata": {
  "kernelspec": {
   "display_name": "Python 3 (ipykernel)",
   "language": "python",
   "name": "python3"
  },
  "language_info": {
   "codemirror_mode": {
    "name": "ipython",
    "version": 3
   },
   "file_extension": ".py",
   "mimetype": "text/x-python",
   "name": "python",
   "nbconvert_exporter": "python",
   "pygments_lexer": "ipython3",
   "version": "3.10.6"
  }
 },
 "nbformat": 4,
 "nbformat_minor": 5
}
