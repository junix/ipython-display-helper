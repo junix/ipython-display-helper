{
 "cells": [
  {
   "cell_type": "code",
   "execution_count": 1,
   "id": "11344212",
   "metadata": {},
   "outputs": [],
   "source": [
    "import sys"
   ]
  },
  {
   "cell_type": "code",
   "execution_count": 2,
   "id": "38d42f8f",
   "metadata": {},
   "outputs": [
    {
     "data": {
      "text/plain": [
       "28"
      ]
     },
     "execution_count": 2,
     "metadata": {},
     "output_type": "execute_result"
    }
   ],
   "source": [
    "sys.getsizeof(1)"
   ]
  },
  {
   "cell_type": "code",
   "execution_count": 3,
   "id": "86fa7b4f",
   "metadata": {},
   "outputs": [
    {
     "data": {
      "text/plain": [
       "28"
      ]
     },
     "execution_count": 3,
     "metadata": {},
     "output_type": "execute_result"
    }
   ],
   "source": [
    "1 .__sizeof__()"
   ]
  },
  {
   "cell_type": "code",
   "execution_count": 5,
   "id": "6b0d5bc4",
   "metadata": {},
   "outputs": [
    {
     "data": {
      "text/plain": [
       "49"
      ]
     },
     "execution_count": 5,
     "metadata": {},
     "output_type": "execute_result"
    }
   ],
   "source": [
    "sys.getsizeof(\"\")"
   ]
  },
  {
   "cell_type": "code",
   "execution_count": 14,
   "id": "3a5f9b70",
   "metadata": {},
   "outputs": [
    {
     "data": {
      "text/plain": [
       "[2, 3]"
      ]
     },
     "execution_count": 14,
     "metadata": {},
     "output_type": "execute_result"
    }
   ],
   "source": [
    "xs = [1,2,3]\n",
    "g = (x for x in xs if x in xs)\n",
    "xs = [2,3]\n",
    "list(g)"
   ]
  },
  {
   "cell_type": "code",
   "execution_count": 22,
   "id": "646aaac4",
   "metadata": {},
   "outputs": [
    {
     "name": "stdout",
     "output_type": "stream",
     "text": [
      "[23, 23, 23]\n"
     ]
    }
   ],
   "source": [
    "x = 23\n",
    "class A:\n",
    "    x = 55\n",
    "    y = [x for _ in range(3)]\n",
    "print(A.y)"
   ]
  },
  {
   "cell_type": "code",
   "execution_count": 23,
   "id": "b6f5cb9c",
   "metadata": {},
   "outputs": [
    {
     "name": "stdout",
     "output_type": "stream",
     "text": [
      "110\n"
     ]
    }
   ],
   "source": [
    "x = 23\n",
    "class A:\n",
    "    x = 55\n",
    "    y = x*2\n",
    "print(A.y)"
   ]
  },
  {
   "cell_type": "code",
   "execution_count": 30,
   "id": "68dcac07",
   "metadata": {},
   "outputs": [
    {
     "data": {
      "text/plain": [
       "(object,)"
      ]
     },
     "execution_count": 30,
     "metadata": {},
     "output_type": "execute_result"
    }
   ],
   "source": [
    "int.__subclasses__()\n",
    "int.__bases__"
   ]
  },
  {
   "cell_type": "code",
   "execution_count": 26,
   "id": "67eb82fa",
   "metadata": {},
   "outputs": [
    {
     "data": {
      "text/plain": [
       "True"
      ]
     },
     "execution_count": 26,
     "metadata": {},
     "output_type": "execute_result"
    }
   ],
   "source": [
    "1 == True"
   ]
  },
  {
   "cell_type": "code",
   "execution_count": 27,
   "id": "e691e29d",
   "metadata": {},
   "outputs": [
    {
     "data": {
      "text/plain": [
       "{1: 'good'}"
      ]
     },
     "execution_count": 27,
     "metadata": {},
     "output_type": "execute_result"
    }
   ],
   "source": [
    "{1:'ok',True:'good'}"
   ]
  },
  {
   "cell_type": "code",
   "execution_count": 29,
   "id": "e9c2a286",
   "metadata": {},
   "outputs": [
    {
     "data": {
      "text/plain": [
       "(1, 1)"
      ]
     },
     "execution_count": 29,
     "metadata": {},
     "output_type": "execute_result"
    }
   ],
   "source": [
    "hash(True),hash(1)"
   ]
  },
  {
   "cell_type": "code",
   "execution_count": 32,
   "id": "0f21e88b",
   "metadata": {},
   "outputs": [
    {
     "data": {
      "text/plain": [
       "(object,)"
      ]
     },
     "execution_count": 32,
     "metadata": {},
     "output_type": "execute_result"
    }
   ],
   "source": [
    "float.__bases__"
   ]
  },
  {
   "cell_type": "code",
   "execution_count": 33,
   "id": "455742b3",
   "metadata": {},
   "outputs": [
    {
     "data": {
      "text/plain": [
       "(object,)"
      ]
     },
     "execution_count": 33,
     "metadata": {},
     "output_type": "execute_result"
    }
   ],
   "source": [
    "type.__bases__"
   ]
  },
  {
   "cell_type": "code",
   "execution_count": 34,
   "id": "ca4c0763",
   "metadata": {},
   "outputs": [
    {
     "data": {
      "text/plain": [
       "type"
      ]
     },
     "execution_count": 34,
     "metadata": {},
     "output_type": "execute_result"
    }
   ],
   "source": [
    "type(object)"
   ]
  },
  {
   "cell_type": "code",
   "execution_count": 39,
   "id": "3091b86f",
   "metadata": {},
   "outputs": [
    {
     "data": {
      "text/plain": [
       "['A', 'B', 'D', 'C', 'E', 'object']"
      ]
     },
     "execution_count": 39,
     "metadata": {},
     "output_type": "execute_result"
    }
   ],
   "source": [
    "class D:pass\n",
    "class E:pass\n",
    "class C(E):pass\n",
    "class B(D):pass\n",
    "class A(B, C):pass\n",
    "\n",
    "[x.__name__ for x in A.__mro__]"
   ]
  },
  {
   "cell_type": "code",
   "execution_count": 38,
   "id": "782e5e01",
   "metadata": {},
   "outputs": [
    {
     "data": {
      "text/plain": [
       "['A', 'B', 'C', 'D', 'object']"
      ]
     },
     "execution_count": 38,
     "metadata": {},
     "output_type": "execute_result"
    }
   ],
   "source": [
    "class D:pass\n",
    "class C(D):pass\n",
    "class B(D):pass\n",
    "class A(B, C):pass\n",
    "\n",
    "[x.__name__ for x in A.__mro__]"
   ]
  },
  {
   "cell_type": "code",
   "execution_count": 40,
   "id": "c5e5fb01",
   "metadata": {},
   "outputs": [],
   "source": [
    "import array"
   ]
  },
  {
   "cell_type": "code",
   "execution_count": 41,
   "id": "545eb15c",
   "metadata": {},
   "outputs": [],
   "source": [
    "x = array.array('i')"
   ]
  },
  {
   "cell_type": "code",
   "execution_count": 42,
   "id": "5b202a55",
   "metadata": {},
   "outputs": [],
   "source": [
    "x.append(1)"
   ]
  },
  {
   "cell_type": "code",
   "execution_count": 43,
   "id": "d77f099d",
   "metadata": {},
   "outputs": [],
   "source": [
    "x.append(2)"
   ]
  },
  {
   "cell_type": "code",
   "execution_count": 44,
   "id": "71fa7f39",
   "metadata": {},
   "outputs": [
    {
     "data": {
      "text/plain": [
       "array('i', [1, 2])"
      ]
     },
     "execution_count": 44,
     "metadata": {},
     "output_type": "execute_result"
    }
   ],
   "source": [
    "x"
   ]
  },
  {
   "cell_type": "code",
   "execution_count": 46,
   "id": "8723b5e9",
   "metadata": {},
   "outputs": [
    {
     "data": {
      "text/plain": [
       "[1, 2]"
      ]
     },
     "execution_count": 46,
     "metadata": {},
     "output_type": "execute_result"
    }
   ],
   "source": [
    "[e for e in x]"
   ]
  },
  {
   "cell_type": "code",
   "execution_count": 56,
   "id": "94623dc8",
   "metadata": {},
   "outputs": [],
   "source": [
    "a = 2"
   ]
  },
  {
   "cell_type": "code",
   "execution_count": 59,
   "id": "3c2640b3",
   "metadata": {},
   "outputs": [],
   "source": [
    "def f(a):\n",
    "    print(id(a))\n",
    "    a += 1\n",
    "    print(id(a))\n",
    "    return a"
   ]
  },
  {
   "cell_type": "code",
   "execution_count": 60,
   "id": "feafb77e",
   "metadata": {},
   "outputs": [],
   "source": [
    "a= 23"
   ]
  },
  {
   "cell_type": "code",
   "execution_count": 61,
   "id": "1da64626",
   "metadata": {},
   "outputs": [
    {
     "name": "stdout",
     "output_type": "stream",
     "text": [
      "4369580976\n",
      "4369581008\n"
     ]
    },
    {
     "data": {
      "text/plain": [
       "24"
      ]
     },
     "execution_count": 61,
     "metadata": {},
     "output_type": "execute_result"
    }
   ],
   "source": [
    "f(a)"
   ]
  },
  {
   "cell_type": "code",
   "execution_count": 55,
   "id": "4050d5a0",
   "metadata": {},
   "outputs": [
    {
     "data": {
      "text/plain": [
       "4369580976"
      ]
     },
     "execution_count": 55,
     "metadata": {},
     "output_type": "execute_result"
    }
   ],
   "source": [
    "id(a)"
   ]
  },
  {
   "cell_type": "code",
   "execution_count": 62,
   "id": "09490d8d",
   "metadata": {},
   "outputs": [],
   "source": [
    "x = 123"
   ]
  },
  {
   "cell_type": "code",
   "execution_count": 64,
   "id": "a4559661",
   "metadata": {},
   "outputs": [
    {
     "data": {
      "text/plain": [
       "4369584176"
      ]
     },
     "execution_count": 64,
     "metadata": {},
     "output_type": "execute_result"
    }
   ],
   "source": [
    "id(x)"
   ]
  },
  {
   "cell_type": "code",
   "execution_count": 65,
   "id": "328114ce",
   "metadata": {},
   "outputs": [],
   "source": [
    "x += 1"
   ]
  },
  {
   "cell_type": "code",
   "execution_count": 66,
   "id": "53eb7dd0",
   "metadata": {},
   "outputs": [
    {
     "data": {
      "text/plain": [
       "4369584208"
      ]
     },
     "execution_count": 66,
     "metadata": {},
     "output_type": "execute_result"
    }
   ],
   "source": [
    "id(x)"
   ]
  },
  {
   "cell_type": "code",
   "execution_count": 72,
   "id": "4465e11b",
   "metadata": {},
   "outputs": [],
   "source": [
    "class A:\n",
    "    def __init__(self):\n",
    "        self.v = 0\n",
    "    def __iadd__(self, o):\n",
    "        self.v += o\n",
    "        return self"
   ]
  },
  {
   "cell_type": "code",
   "execution_count": 76,
   "id": "c961ffad",
   "metadata": {},
   "outputs": [
    {
     "data": {
      "text/plain": [
       "4705706208"
      ]
     },
     "execution_count": 76,
     "metadata": {},
     "output_type": "execute_result"
    }
   ],
   "source": [
    "a = A()\n",
    "id(a)"
   ]
  },
  {
   "cell_type": "code",
   "execution_count": 77,
   "id": "8f943a4d",
   "metadata": {},
   "outputs": [],
   "source": [
    "a += 23"
   ]
  },
  {
   "cell_type": "code",
   "execution_count": 78,
   "id": "1f4734e5",
   "metadata": {},
   "outputs": [
    {
     "data": {
      "text/plain": [
       "23"
      ]
     },
     "execution_count": 78,
     "metadata": {},
     "output_type": "execute_result"
    }
   ],
   "source": [
    "a.v"
   ]
  },
  {
   "cell_type": "code",
   "execution_count": 79,
   "id": "07e5deb4",
   "metadata": {},
   "outputs": [
    {
     "data": {
      "text/plain": [
       "4705706208"
      ]
     },
     "execution_count": 79,
     "metadata": {},
     "output_type": "execute_result"
    }
   ],
   "source": [
    "id(a)"
   ]
  },
  {
   "cell_type": "code",
   "execution_count": 80,
   "id": "a091e26b",
   "metadata": {},
   "outputs": [
    {
     "data": {
      "text/plain": [
       "6"
      ]
     },
     "execution_count": 80,
     "metadata": {},
     "output_type": "execute_result"
    }
   ],
   "source": [
    "(lambda x: x+2)(4)"
   ]
  },
  {
   "cell_type": "code",
   "execution_count": 81,
   "id": "d91eb85a",
   "metadata": {},
   "outputs": [],
   "source": [
    "hello = lambda x: x"
   ]
  },
  {
   "cell_type": "code",
   "execution_count": 82,
   "id": "2504960b",
   "metadata": {},
   "outputs": [],
   "source": [
    "hello.v = 123"
   ]
  },
  {
   "cell_type": "code",
   "execution_count": 83,
   "id": "7e16d382",
   "metadata": {},
   "outputs": [
    {
     "data": {
      "text/plain": [
       "{'v': 123}"
      ]
     },
     "execution_count": 83,
     "metadata": {},
     "output_type": "execute_result"
    }
   ],
   "source": [
    "vars(hello)"
   ]
  },
  {
   "cell_type": "code",
   "execution_count": 85,
   "id": "9d12c8be",
   "metadata": {},
   "outputs": [
    {
     "data": {
      "text/plain": [
       "123"
      ]
     },
     "execution_count": 85,
     "metadata": {},
     "output_type": "execute_result"
    }
   ],
   "source": [
    "hello(123)"
   ]
  },
  {
   "cell_type": "code",
   "execution_count": 86,
   "id": "ba54aac8",
   "metadata": {},
   "outputs": [],
   "source": [
    "class A:pass"
   ]
  },
  {
   "cell_type": "code",
   "execution_count": 89,
   "id": "fa053223",
   "metadata": {},
   "outputs": [
    {
     "data": {
      "text/plain": [
       "type"
      ]
     },
     "execution_count": 89,
     "metadata": {},
     "output_type": "execute_result"
    }
   ],
   "source": [
    "A.__class__"
   ]
  },
  {
   "cell_type": "code",
   "execution_count": 91,
   "id": "92c0a54c",
   "metadata": {},
   "outputs": [],
   "source": [
    "class A:\n",
    "    x = 23"
   ]
  },
  {
   "cell_type": "code",
   "execution_count": 92,
   "id": "37c58bdc",
   "metadata": {},
   "outputs": [],
   "source": [
    "a = A()"
   ]
  },
  {
   "cell_type": "code",
   "execution_count": 93,
   "id": "1f0b85d9",
   "metadata": {},
   "outputs": [],
   "source": [
    "a.x = 44"
   ]
  },
  {
   "cell_type": "code",
   "execution_count": 94,
   "id": "27e66f74",
   "metadata": {},
   "outputs": [
    {
     "data": {
      "text/plain": [
       "44"
      ]
     },
     "execution_count": 94,
     "metadata": {},
     "output_type": "execute_result"
    }
   ],
   "source": [
    "a.x"
   ]
  },
  {
   "cell_type": "code",
   "execution_count": 95,
   "id": "4230df24",
   "metadata": {},
   "outputs": [
    {
     "data": {
      "text/plain": [
       "(4369581648, 4369580976)"
      ]
     },
     "execution_count": 95,
     "metadata": {},
     "output_type": "execute_result"
    }
   ],
   "source": [
    "id(a.x), id(A.x)"
   ]
  },
  {
   "cell_type": "code",
   "execution_count": 97,
   "id": "26e4bbe8",
   "metadata": {},
   "outputs": [
    {
     "data": {
      "text/plain": [
       "23"
      ]
     },
     "execution_count": 97,
     "metadata": {},
     "output_type": "execute_result"
    }
   ],
   "source": [
    "a.__class__.x"
   ]
  },
  {
   "cell_type": "code",
   "execution_count": 98,
   "id": "7a135dd9",
   "metadata": {},
   "outputs": [],
   "source": [
    "class B:\n",
    "    def __init__(self):\n",
    "        self.b = 123"
   ]
  },
  {
   "cell_type": "code",
   "execution_count": 120,
   "id": "a4971f06",
   "metadata": {},
   "outputs": [],
   "source": [
    "class D(B):\n",
    "    def __init__(self, x):\n",
    "        super().__init__()\n",
    "        self.d = x"
   ]
  },
  {
   "cell_type": "code",
   "execution_count": 109,
   "id": "65810081",
   "metadata": {},
   "outputs": [],
   "source": [
    "d = D()"
   ]
  },
  {
   "cell_type": "code",
   "execution_count": 110,
   "id": "7bc36739",
   "metadata": {},
   "outputs": [
    {
     "data": {
      "text/plain": [
       "<__main__.D at 0x1198f2530>"
      ]
     },
     "execution_count": 110,
     "metadata": {},
     "output_type": "execute_result"
    }
   ],
   "source": [
    "d"
   ]
  },
  {
   "cell_type": "code",
   "execution_count": 111,
   "id": "627f9112",
   "metadata": {},
   "outputs": [
    {
     "data": {
      "text/plain": [
       "{'b': 123, 'd': 3454}"
      ]
     },
     "execution_count": 111,
     "metadata": {},
     "output_type": "execute_result"
    }
   ],
   "source": [
    "vars(d)"
   ]
  },
  {
   "cell_type": "code",
   "execution_count": 103,
   "id": "07b4e005",
   "metadata": {},
   "outputs": [
    {
     "data": {
      "text/plain": [
       "{'d': 3454}"
      ]
     },
     "execution_count": 103,
     "metadata": {},
     "output_type": "execute_result"
    }
   ],
   "source": [
    "d.__dict__"
   ]
  },
  {
   "cell_type": "code",
   "execution_count": 112,
   "id": "360177f0",
   "metadata": {},
   "outputs": [
    {
     "data": {
      "text/plain": [
       "(__main__.B,)"
      ]
     },
     "execution_count": 112,
     "metadata": {},
     "output_type": "execute_result"
    }
   ],
   "source": [
    "D.__bases__"
   ]
  },
  {
   "cell_type": "code",
   "execution_count": 115,
   "id": "de97030b",
   "metadata": {},
   "outputs": [
    {
     "data": {
      "text/plain": [
       "__main__.D"
      ]
     },
     "execution_count": 115,
     "metadata": {},
     "output_type": "execute_result"
    }
   ],
   "source": [
    "type(d)"
   ]
  },
  {
   "cell_type": "code",
   "execution_count": 124,
   "id": "ed29db7a",
   "metadata": {},
   "outputs": [],
   "source": [
    "d1 = D.__call__(567)"
   ]
  },
  {
   "cell_type": "code",
   "execution_count": 125,
   "id": "8addc2d4",
   "metadata": {},
   "outputs": [
    {
     "data": {
      "text/plain": [
       "<__main__.D at 0x1197a8f40>"
      ]
     },
     "execution_count": 125,
     "metadata": {},
     "output_type": "execute_result"
    }
   ],
   "source": [
    "d1"
   ]
  },
  {
   "cell_type": "code",
   "execution_count": 126,
   "id": "aeb04521",
   "metadata": {},
   "outputs": [
    {
     "data": {
      "text/plain": [
       "{'b': 123, 'd': 567}"
      ]
     },
     "execution_count": 126,
     "metadata": {},
     "output_type": "execute_result"
    }
   ],
   "source": [
    "d1.__dict__"
   ]
  },
  {
   "cell_type": "code",
   "execution_count": 127,
   "id": "cbe4ef57",
   "metadata": {},
   "outputs": [
    {
     "data": {
      "text/plain": [
       "{'b': 123, 'd': 567}"
      ]
     },
     "execution_count": 127,
     "metadata": {},
     "output_type": "execute_result"
    }
   ],
   "source": [
    "d1.__dict__"
   ]
  },
  {
   "cell_type": "code",
   "execution_count": 128,
   "id": "63c18246",
   "metadata": {},
   "outputs": [
    {
     "data": {
      "text/plain": [
       "mappingproxy({'__module__': '__main__',\n",
       "              '__init__': <function __main__.D.__init__(self, x)>,\n",
       "              '__doc__': None})"
      ]
     },
     "execution_count": 128,
     "metadata": {},
     "output_type": "execute_result"
    }
   ],
   "source": [
    "D.__dict__"
   ]
  },
  {
   "cell_type": "code",
   "execution_count": 129,
   "id": "3782bbb0",
   "metadata": {},
   "outputs": [],
   "source": [
    "class B:\n",
    "    x = 123"
   ]
  },
  {
   "cell_type": "code",
   "execution_count": 130,
   "id": "51fe03bb",
   "metadata": {},
   "outputs": [],
   "source": [
    "class D:\n",
    "    y = 234"
   ]
  },
  {
   "cell_type": "code",
   "execution_count": 131,
   "id": "f6eb9c72",
   "metadata": {},
   "outputs": [],
   "source": [
    "d = D()"
   ]
  },
  {
   "cell_type": "code",
   "execution_count": 132,
   "id": "4318afb8",
   "metadata": {},
   "outputs": [
    {
     "data": {
      "text/plain": [
       "{}"
      ]
     },
     "execution_count": 132,
     "metadata": {},
     "output_type": "execute_result"
    }
   ],
   "source": [
    "vars(d)"
   ]
  },
  {
   "cell_type": "code",
   "execution_count": 133,
   "id": "45764e0f",
   "metadata": {},
   "outputs": [
    {
     "data": {
      "text/plain": [
       "mappingproxy({'__module__': '__main__',\n",
       "              'y': 234,\n",
       "              '__dict__': <attribute '__dict__' of 'D' objects>,\n",
       "              '__weakref__': <attribute '__weakref__' of 'D' objects>,\n",
       "              '__doc__': None})"
      ]
     },
     "execution_count": 133,
     "metadata": {},
     "output_type": "execute_result"
    }
   ],
   "source": [
    "D.__dict__"
   ]
  },
  {
   "cell_type": "code",
   "execution_count": 134,
   "id": "9eadb93d",
   "metadata": {},
   "outputs": [
    {
     "data": {
      "text/plain": [
       "mappingproxy({'__module__': '__main__',\n",
       "              'x': 123,\n",
       "              '__dict__': <attribute '__dict__' of 'B' objects>,\n",
       "              '__weakref__': <attribute '__weakref__' of 'B' objects>,\n",
       "              '__doc__': None})"
      ]
     },
     "execution_count": 134,
     "metadata": {},
     "output_type": "execute_result"
    }
   ],
   "source": [
    "B.__dict__"
   ]
  },
  {
   "cell_type": "code",
   "execution_count": 135,
   "id": "cd9f49e9",
   "metadata": {},
   "outputs": [
    {
     "data": {
      "text/plain": [
       "(object,)"
      ]
     },
     "execution_count": 135,
     "metadata": {},
     "output_type": "execute_result"
    }
   ],
   "source": [
    "D.__bases__"
   ]
  },
  {
   "cell_type": "code",
   "execution_count": 136,
   "id": "fba6d358",
   "metadata": {},
   "outputs": [
    {
     "data": {
      "text/plain": [
       "__main__.D"
      ]
     },
     "execution_count": 136,
     "metadata": {},
     "output_type": "execute_result"
    }
   ],
   "source": [
    "d.__class__"
   ]
  },
  {
   "cell_type": "code",
   "execution_count": 137,
   "id": "2d3c1589",
   "metadata": {},
   "outputs": [
    {
     "data": {
      "text/plain": [
       "[__main__.D, object]"
      ]
     },
     "execution_count": 137,
     "metadata": {},
     "output_type": "execute_result"
    }
   ],
   "source": [
    "D.mro()"
   ]
  },
  {
   "cell_type": "code",
   "execution_count": 138,
   "id": "86f3485e",
   "metadata": {},
   "outputs": [
    {
     "data": {
      "text/plain": [
       "mappingproxy({'__new__': <function object.__new__(*args, **kwargs)>,\n",
       "              '__repr__': <slot wrapper '__repr__' of 'object' objects>,\n",
       "              '__hash__': <slot wrapper '__hash__' of 'object' objects>,\n",
       "              '__str__': <slot wrapper '__str__' of 'object' objects>,\n",
       "              '__getattribute__': <slot wrapper '__getattribute__' of 'object' objects>,\n",
       "              '__setattr__': <slot wrapper '__setattr__' of 'object' objects>,\n",
       "              '__delattr__': <slot wrapper '__delattr__' of 'object' objects>,\n",
       "              '__lt__': <slot wrapper '__lt__' of 'object' objects>,\n",
       "              '__le__': <slot wrapper '__le__' of 'object' objects>,\n",
       "              '__eq__': <slot wrapper '__eq__' of 'object' objects>,\n",
       "              '__ne__': <slot wrapper '__ne__' of 'object' objects>,\n",
       "              '__gt__': <slot wrapper '__gt__' of 'object' objects>,\n",
       "              '__ge__': <slot wrapper '__ge__' of 'object' objects>,\n",
       "              '__init__': <slot wrapper '__init__' of 'object' objects>,\n",
       "              '__reduce_ex__': <method '__reduce_ex__' of 'object' objects>,\n",
       "              '__reduce__': <method '__reduce__' of 'object' objects>,\n",
       "              '__subclasshook__': <method '__subclasshook__' of 'object' objects>,\n",
       "              '__init_subclass__': <method '__init_subclass__' of 'object' objects>,\n",
       "              '__format__': <method '__format__' of 'object' objects>,\n",
       "              '__sizeof__': <method '__sizeof__' of 'object' objects>,\n",
       "              '__dir__': <method '__dir__' of 'object' objects>,\n",
       "              '__class__': <attribute '__class__' of 'object' objects>,\n",
       "              '__doc__': 'The base class of the class hierarchy.\\n\\nWhen called, it accepts no arguments and returns a new featureless\\ninstance that has no instance attributes and cannot be given any.\\n'})"
      ]
     },
     "execution_count": 138,
     "metadata": {},
     "output_type": "execute_result"
    }
   ],
   "source": [
    "object.__dict__"
   ]
  },
  {
   "cell_type": "code",
   "execution_count": 139,
   "id": "b2155fd0",
   "metadata": {},
   "outputs": [],
   "source": [
    "o = D.__new__(D)"
   ]
  },
  {
   "cell_type": "code",
   "execution_count": 140,
   "id": "876d7f3c",
   "metadata": {},
   "outputs": [
    {
     "data": {
      "text/plain": [
       "<__main__.D at 0x1190ec250>"
      ]
     },
     "execution_count": 140,
     "metadata": {},
     "output_type": "execute_result"
    }
   ],
   "source": [
    "o"
   ]
  },
  {
   "cell_type": "code",
   "execution_count": 141,
   "id": "31c9f185",
   "metadata": {},
   "outputs": [
    {
     "data": {
      "text/plain": [
       "__main__.D"
      ]
     },
     "execution_count": 141,
     "metadata": {},
     "output_type": "execute_result"
    }
   ],
   "source": [
    "type(o)"
   ]
  },
  {
   "cell_type": "code",
   "execution_count": 145,
   "id": "0d519b15",
   "metadata": {},
   "outputs": [],
   "source": [
    "super(D,d).__init__()"
   ]
  },
  {
   "cell_type": "code",
   "execution_count": 146,
   "id": "e5805486",
   "metadata": {},
   "outputs": [
    {
     "data": {
      "text/plain": [
       "<__main__.D at 0x1197a8cd0>"
      ]
     },
     "execution_count": 146,
     "metadata": {},
     "output_type": "execute_result"
    }
   ],
   "source": [
    "d"
   ]
  },
  {
   "cell_type": "code",
   "execution_count": 147,
   "id": "1e03e117",
   "metadata": {},
   "outputs": [
    {
     "data": {
      "text/plain": [
       "{}"
      ]
     },
     "execution_count": 147,
     "metadata": {},
     "output_type": "execute_result"
    }
   ],
   "source": [
    "vars(d)"
   ]
  },
  {
   "cell_type": "code",
   "execution_count": 148,
   "id": "188ab531",
   "metadata": {},
   "outputs": [],
   "source": [
    "def f():\n",
    "    print(\"ok\")"
   ]
  },
  {
   "cell_type": "code",
   "execution_count": 149,
   "id": "f74a2717",
   "metadata": {},
   "outputs": [
    {
     "name": "stdout",
     "output_type": "stream",
     "text": [
      "ok\n"
     ]
    }
   ],
   "source": [
    "f.__call__()"
   ]
  },
  {
   "cell_type": "code",
   "execution_count": 150,
   "id": "bda61c62",
   "metadata": {},
   "outputs": [
    {
     "data": {
      "text/plain": [
       "function"
      ]
     },
     "execution_count": 150,
     "metadata": {},
     "output_type": "execute_result"
    }
   ],
   "source": [
    "type(f)"
   ]
  },
  {
   "cell_type": "code",
   "execution_count": 152,
   "id": "d42dd660",
   "metadata": {},
   "outputs": [
    {
     "data": {
      "text/plain": [
       "False"
      ]
     },
     "execution_count": 152,
     "metadata": {},
     "output_type": "execute_result"
    }
   ],
   "source": [
    "callable(callable(callable))"
   ]
  },
  {
   "cell_type": "code",
   "execution_count": 153,
   "id": "650c4baf",
   "metadata": {},
   "outputs": [
    {
     "data": {
      "text/plain": [
       "True"
      ]
     },
     "execution_count": 153,
     "metadata": {},
     "output_type": "execute_result"
    }
   ],
   "source": [
    "bool(bool(True))"
   ]
  },
  {
   "cell_type": "code",
   "execution_count": 154,
   "id": "06c1a7fb",
   "metadata": {},
   "outputs": [],
   "source": [
    "def f():\n",
    "    g()"
   ]
  },
  {
   "cell_type": "code",
   "execution_count": 155,
   "id": "13463c84",
   "metadata": {},
   "outputs": [],
   "source": [
    "def g():\n",
    "    1/0"
   ]
  },
  {
   "cell_type": "code",
   "execution_count": 156,
   "id": "0ba97703",
   "metadata": {},
   "outputs": [
    {
     "ename": "ZeroDivisionError",
     "evalue": "division by zero",
     "output_type": "error",
     "traceback": [
      "\u001b[0;31m---------------------------------------------------------------------------\u001b[0m",
      "\u001b[0;31mZeroDivisionError\u001b[0m                         Traceback (most recent call last)",
      "Cell \u001b[0;32mIn[156], line 1\u001b[0m\n\u001b[0;32m----> 1\u001b[0m \u001b[43mf\u001b[49m\u001b[43m(\u001b[49m\u001b[43m)\u001b[49m\n",
      "Cell \u001b[0;32mIn[154], line 2\u001b[0m, in \u001b[0;36mf\u001b[0;34m()\u001b[0m\n\u001b[1;32m      1\u001b[0m \u001b[38;5;28;01mdef\u001b[39;00m \u001b[38;5;21mf\u001b[39m():\n\u001b[0;32m----> 2\u001b[0m     \u001b[43mg\u001b[49m\u001b[43m(\u001b[49m\u001b[43m)\u001b[49m\n",
      "Cell \u001b[0;32mIn[155], line 2\u001b[0m, in \u001b[0;36mg\u001b[0;34m()\u001b[0m\n\u001b[1;32m      1\u001b[0m \u001b[38;5;28;01mdef\u001b[39;00m \u001b[38;5;21mg\u001b[39m():\n\u001b[0;32m----> 2\u001b[0m     \u001b[38;5;241;43m1\u001b[39;49m\u001b[38;5;241;43m/\u001b[39;49m\u001b[38;5;241;43m0\u001b[39;49m\n",
      "\u001b[0;31mZeroDivisionError\u001b[0m: division by zero"
     ]
    }
   ],
   "source": [
    "f()"
   ]
  },
  {
   "cell_type": "code",
   "execution_count": 157,
   "id": "39dff303",
   "metadata": {},
   "outputs": [],
   "source": [
    "f.__doc__"
   ]
  },
  {
   "cell_type": "code",
   "execution_count": 158,
   "id": "a2da231f",
   "metadata": {},
   "outputs": [
    {
     "ename": "AttributeError",
     "evalue": "'function' object has no attribute '__file__'",
     "output_type": "error",
     "traceback": [
      "\u001b[0;31m---------------------------------------------------------------------------\u001b[0m",
      "\u001b[0;31mAttributeError\u001b[0m                            Traceback (most recent call last)",
      "Cell \u001b[0;32mIn[158], line 1\u001b[0m\n\u001b[0;32m----> 1\u001b[0m \u001b[43mf\u001b[49m\u001b[38;5;241;43m.\u001b[39;49m\u001b[38;5;18;43m__file__\u001b[39;49m\n",
      "\u001b[0;31mAttributeError\u001b[0m: 'function' object has no attribute '__file__'"
     ]
    }
   ],
   "source": [
    "f.__file__"
   ]
  },
  {
   "cell_type": "code",
   "execution_count": 163,
   "id": "67ea2f47",
   "metadata": {},
   "outputs": [
    {
     "data": {
      "text/plain": [
       "\"str(object='') -> str\\nstr(bytes_or_buffer[, encoding[, errors]]) -> str\\n\\nCreate a new string object from the given object. If encoding or\\nerrors is specified, then the object must expose a data buffer\\nthat will be decoded using the given encoding and error handler.\\nOtherwise, returns the result of object.__str__() (if defined)\\nor repr(object).\\nencoding defaults to sys.getdefaultencoding().\\nerrors defaults to 'strict'.\""
      ]
     },
     "execution_count": 163,
     "metadata": {},
     "output_type": "execute_result"
    }
   ],
   "source": [
    "f.__module__.__doc__"
   ]
  },
  {
   "cell_type": "code",
   "execution_count": 164,
   "id": "3fc04125",
   "metadata": {},
   "outputs": [
    {
     "data": {
      "text/plain": [
       "<code object f at 0x1182e07c0, file \"/var/folders/67/r6hw_wyn73gfjj3jpl_ktqcm0000gn/T/ipykernel_73904/1478003664.py\", line 1>"
      ]
     },
     "execution_count": 164,
     "metadata": {},
     "output_type": "execute_result"
    }
   ],
   "source": [
    "f.__code__"
   ]
  },
  {
   "cell_type": "code",
   "execution_count": 166,
   "id": "f8179e02",
   "metadata": {},
   "outputs": [],
   "source": [
    "class A:\n",
    "    def f(self):\n",
    "        pass"
   ]
  },
  {
   "cell_type": "code",
   "execution_count": 167,
   "id": "56f0ff9a",
   "metadata": {},
   "outputs": [],
   "source": [
    "a = A()"
   ]
  },
  {
   "cell_type": "code",
   "execution_count": 168,
   "id": "cfa540f3",
   "metadata": {},
   "outputs": [],
   "source": [
    "b = A()"
   ]
  },
  {
   "cell_type": "code",
   "execution_count": 172,
   "id": "b1e1b6d0",
   "metadata": {},
   "outputs": [
    {
     "data": {
      "text/plain": [
       "(4729263488, 4729263488)"
      ]
     },
     "execution_count": 172,
     "metadata": {},
     "output_type": "execute_result"
    }
   ],
   "source": [
    "id(a.f), id(b.f)"
   ]
  },
  {
   "cell_type": "code",
   "execution_count": 173,
   "id": "7d1a406b",
   "metadata": {},
   "outputs": [
    {
     "data": {
      "text/plain": [
       "4728644672"
      ]
     },
     "execution_count": 173,
     "metadata": {},
     "output_type": "execute_result"
    }
   ],
   "source": [
    "id(A.f)"
   ]
  },
  {
   "cell_type": "code",
   "execution_count": 177,
   "id": "41abb717",
   "metadata": {},
   "outputs": [],
   "source": [
    "def f():\n",
    "    \"\"\"doc ok\"\"\"\n",
    "    "
   ]
  },
  {
   "cell_type": "code",
   "execution_count": 178,
   "id": "cea3fbd4",
   "metadata": {},
   "outputs": [],
   "source": [
    "f()"
   ]
  },
  {
   "cell_type": "code",
   "execution_count": 179,
   "id": "0443c3a9",
   "metadata": {},
   "outputs": [
    {
     "data": {
      "text/plain": [
       "'doc ok'"
      ]
     },
     "execution_count": 179,
     "metadata": {},
     "output_type": "execute_result"
    }
   ],
   "source": [
    "f.__doc__"
   ]
  },
  {
   "cell_type": "code",
   "execution_count": 180,
   "id": "8f7e065b",
   "metadata": {},
   "outputs": [],
   "source": [
    "class A:pass"
   ]
  },
  {
   "cell_type": "code",
   "execution_count": 181,
   "id": "0cc30dc0",
   "metadata": {},
   "outputs": [],
   "source": [
    "class B:pass"
   ]
  },
  {
   "cell_type": "code",
   "execution_count": 183,
   "id": "cb527c79",
   "metadata": {},
   "outputs": [],
   "source": [
    "xs = [A,B]"
   ]
  },
  {
   "cell_type": "code",
   "execution_count": 184,
   "id": "980ffdeb",
   "metadata": {},
   "outputs": [],
   "source": [
    "class C(*xs):pass"
   ]
  },
  {
   "cell_type": "code",
   "execution_count": 185,
   "id": "2213741f",
   "metadata": {},
   "outputs": [
    {
     "data": {
      "text/plain": [
       "[__main__.C, __main__.A, __main__.B, object]"
      ]
     },
     "execution_count": 185,
     "metadata": {},
     "output_type": "execute_result"
    }
   ],
   "source": [
    "C.mro()"
   ]
  },
  {
   "cell_type": "code",
   "execution_count": 189,
   "id": "39fdf32a",
   "metadata": {},
   "outputs": [
    {
     "data": {
      "text/plain": [
       "type"
      ]
     },
     "execution_count": 189,
     "metadata": {},
     "output_type": "execute_result"
    }
   ],
   "source": [
    "type(super)"
   ]
  },
  {
   "cell_type": "code",
   "execution_count": 200,
   "id": "58f061c3",
   "metadata": {},
   "outputs": [],
   "source": [
    "c = super(C,C())"
   ]
  },
  {
   "cell_type": "code",
   "execution_count": 202,
   "id": "e23add87",
   "metadata": {},
   "outputs": [
    {
     "data": {
      "text/plain": [
       "__main__.C"
      ]
     },
     "execution_count": 202,
     "metadata": {},
     "output_type": "execute_result"
    }
   ],
   "source": [
    "c.__self_class__"
   ]
  },
  {
   "cell_type": "code",
   "execution_count": 196,
   "id": "30900b77",
   "metadata": {},
   "outputs": [
    {
     "data": {
      "text/plain": [
       "['__class__',\n",
       " '__delattr__',\n",
       " '__dir__',\n",
       " '__doc__',\n",
       " '__eq__',\n",
       " '__format__',\n",
       " '__ge__',\n",
       " '__get__',\n",
       " '__getattribute__',\n",
       " '__gt__',\n",
       " '__hash__',\n",
       " '__init__',\n",
       " '__init_subclass__',\n",
       " '__le__',\n",
       " '__lt__',\n",
       " '__ne__',\n",
       " '__new__',\n",
       " '__reduce__',\n",
       " '__reduce_ex__',\n",
       " '__repr__',\n",
       " '__self__',\n",
       " '__self_class__',\n",
       " '__setattr__',\n",
       " '__sizeof__',\n",
       " '__str__',\n",
       " '__subclasshook__',\n",
       " '__thisclass__']"
      ]
     },
     "execution_count": 196,
     "metadata": {},
     "output_type": "execute_result"
    }
   ],
   "source": [
    "dir(c)"
   ]
  },
  {
   "cell_type": "code",
   "execution_count": 204,
   "id": "5a99f348",
   "metadata": {},
   "outputs": [
    {
     "name": "stdout",
     "output_type": "stream",
     "text": [
      "('a', 0)\n",
      "('s', 1)\n"
     ]
    }
   ],
   "source": [
    "for x in zip(['a','s'], range(10)):\n",
    "    print(x)"
   ]
  },
  {
   "cell_type": "code",
   "execution_count": null,
   "id": "02ef6ba1",
   "metadata": {},
   "outputs": [],
   "source": []
  }
 ],
 "metadata": {
  "kernelspec": {
   "display_name": "Python 3 (ipykernel)",
   "language": "python",
   "name": "python3"
  },
  "language_info": {
   "codemirror_mode": {
    "name": "ipython",
    "version": 3
   },
   "file_extension": ".py",
   "mimetype": "text/x-python",
   "name": "python",
   "nbconvert_exporter": "python",
   "pygments_lexer": "ipython3",
   "version": "3.10.6"
  }
 },
 "nbformat": 4,
 "nbformat_minor": 5
}
