{
 "cells": [
  {
   "cell_type": "code",
   "execution_count": 122,
   "id": "41fe26ed",
   "metadata": {},
   "outputs": [],
   "source": [
    "import inspect\n",
    "import sys\n"
   ]
  },
  {
   "cell_type": "code",
   "execution_count": 33,
   "id": "365aed41",
   "metadata": {},
   "outputs": [],
   "source": [
    "class A:\n",
    "    def __index__(self):\n",
    "        print(\"in index ...\")\n",
    "        return 2\n",
    "    \n",
    "    def __int__(self):\n",
    "        print('in __int__')\n",
    "        return 3"
   ]
  },
  {
   "cell_type": "code",
   "execution_count": 34,
   "id": "d3326da7",
   "metadata": {},
   "outputs": [],
   "source": [
    "a = A()"
   ]
  },
  {
   "cell_type": "code",
   "execution_count": 35,
   "id": "616a80a8",
   "metadata": {},
   "outputs": [],
   "source": [
    "xs  = list(range(10))"
   ]
  },
  {
   "cell_type": "code",
   "execution_count": 36,
   "id": "e57d32d6",
   "metadata": {},
   "outputs": [
    {
     "name": "stdout",
     "output_type": "stream",
     "text": [
      "in index ...\n"
     ]
    },
    {
     "data": {
      "text/plain": [
       "2"
      ]
     },
     "execution_count": 36,
     "metadata": {},
     "output_type": "execute_result"
    }
   ],
   "source": [
    "xs[a]"
   ]
  },
  {
   "cell_type": "code",
   "execution_count": 37,
   "id": "c8dad979",
   "metadata": {},
   "outputs": [
    {
     "name": "stdout",
     "output_type": "stream",
     "text": [
      "in __int__\n"
     ]
    },
    {
     "data": {
      "text/plain": [
       "3"
      ]
     },
     "execution_count": 37,
     "metadata": {},
     "output_type": "execute_result"
    }
   ],
   "source": [
    "int(a)"
   ]
  },
  {
   "cell_type": "code",
   "execution_count": 41,
   "id": "13b7b8ac",
   "metadata": {
    "scrolled": true
   },
   "outputs": [
    {
     "name": "stdout",
     "output_type": "stream",
     "text": [
      "in index ...\n"
     ]
    },
    {
     "data": {
      "text/plain": [
       "2"
      ]
     },
     "execution_count": 41,
     "metadata": {},
     "output_type": "execute_result"
    }
   ],
   "source": [
    "xs[a]"
   ]
  },
  {
   "cell_type": "code",
   "execution_count": 56,
   "id": "9b35f209",
   "metadata": {},
   "outputs": [],
   "source": [
    "class A:\n",
    "    def __init__(self, a,b):\n",
    "        self.x = a\n",
    "        self.y = b\n",
    "        \n",
    "    __match_args__ = 'x','y'"
   ]
  },
  {
   "cell_type": "code",
   "execution_count": 57,
   "id": "cb923fcf",
   "metadata": {},
   "outputs": [],
   "source": [
    " a= A(1,2)"
   ]
  },
  {
   "cell_type": "code",
   "execution_count": 62,
   "id": "759ea4a0",
   "metadata": {},
   "outputs": [
    {
     "name": "stdout",
     "output_type": "stream",
     "text": [
      "MMMM\n"
     ]
    }
   ],
   "source": [
    "match a:\n",
    "    case A(y=2,x=1):\n",
    "        print(\"MMMM\")"
   ]
  },
  {
   "cell_type": "code",
   "execution_count": 70,
   "id": "6072f5a0",
   "metadata": {},
   "outputs": [],
   "source": [
    "class C:pass"
   ]
  },
  {
   "cell_type": "code",
   "execution_count": 71,
   "id": "c04a543d",
   "metadata": {},
   "outputs": [],
   "source": [
    "c = C()"
   ]
  },
  {
   "cell_type": "code",
   "execution_count": 72,
   "id": "1032f1af",
   "metadata": {},
   "outputs": [],
   "source": [
    "c.__len__ = lambda slf: 5"
   ]
  },
  {
   "cell_type": "code",
   "execution_count": 67,
   "id": "33e911cf",
   "metadata": {},
   "outputs": [],
   "source": [
    "del c.__len__"
   ]
  },
  {
   "cell_type": "code",
   "execution_count": 73,
   "id": "4aa1525f",
   "metadata": {},
   "outputs": [
    {
     "ename": "TypeError",
     "evalue": "object of type 'C' has no len()",
     "output_type": "error",
     "traceback": [
      "\u001b[0;31m---------------------------------------------------------------------------\u001b[0m",
      "\u001b[0;31mTypeError\u001b[0m                                 Traceback (most recent call last)",
      "Cell \u001b[0;32mIn[73], line 1\u001b[0m\n\u001b[0;32m----> 1\u001b[0m \u001b[38;5;28;43mlen\u001b[39;49m\u001b[43m(\u001b[49m\u001b[43mc\u001b[49m\u001b[43m)\u001b[49m\n",
      "\u001b[0;31mTypeError\u001b[0m: object of type 'C' has no len()"
     ]
    }
   ],
   "source": [
    "len(c)"
   ]
  },
  {
   "cell_type": "code",
   "execution_count": 74,
   "id": "f77fb760",
   "metadata": {},
   "outputs": [],
   "source": [
    "c.f = lambda: print(\"c.f()\")"
   ]
  },
  {
   "cell_type": "code",
   "execution_count": 75,
   "id": "f8be1fb8",
   "metadata": {},
   "outputs": [
    {
     "name": "stdout",
     "output_type": "stream",
     "text": [
      "c.f()\n"
     ]
    }
   ],
   "source": [
    "c.f()"
   ]
  },
  {
   "cell_type": "code",
   "execution_count": 76,
   "id": "fcc37be4",
   "metadata": {},
   "outputs": [
    {
     "data": {
      "text/plain": [
       "{'__len__': <function __main__.<lambda>(slf)>,\n",
       " 'f': <function __main__.<lambda>()>}"
      ]
     },
     "execution_count": 76,
     "metadata": {},
     "output_type": "execute_result"
    }
   ],
   "source": [
    "vars(c)"
   ]
  },
  {
   "cell_type": "code",
   "execution_count": 114,
   "id": "49890e32",
   "metadata": {},
   "outputs": [],
   "source": [
    "class D:\n",
    "    def __getitem__(self, k):\n",
    "        print(\"__get_item__\")\n",
    "        return 1"
   ]
  },
  {
   "cell_type": "code",
   "execution_count": 115,
   "id": "09625f70",
   "metadata": {},
   "outputs": [],
   "source": [
    "d = D()"
   ]
  },
  {
   "cell_type": "code",
   "execution_count": 117,
   "id": "a3de51a7",
   "metadata": {},
   "outputs": [
    {
     "name": "stdout",
     "output_type": "stream",
     "text": [
      "__get_item__\n"
     ]
    },
    {
     "data": {
      "text/plain": [
       "1"
      ]
     },
     "execution_count": 117,
     "metadata": {},
     "output_type": "execute_result"
    }
   ],
   "source": [
    "d[2]"
   ]
  },
  {
   "cell_type": "code",
   "execution_count": 94,
   "id": "c181090e",
   "metadata": {},
   "outputs": [],
   "source": [
    "d = {1:2}"
   ]
  },
  {
   "cell_type": "code",
   "execution_count": 111,
   "id": "6bb80764",
   "metadata": {},
   "outputs": [],
   "source": [
    "x = d.get"
   ]
  },
  {
   "cell_type": "code",
   "execution_count": 112,
   "id": "9f4833f9",
   "metadata": {},
   "outputs": [
    {
     "data": {
      "text/plain": [
       "builtin_function_or_method"
      ]
     },
     "execution_count": 112,
     "metadata": {},
     "output_type": "execute_result"
    }
   ],
   "source": [
    "type(x)"
   ]
  },
  {
   "cell_type": "code",
   "execution_count": 118,
   "id": "1d78668a",
   "metadata": {},
   "outputs": [],
   "source": [
    "xs = [12]"
   ]
  },
  {
   "cell_type": "code",
   "execution_count": 120,
   "id": "98a3f864",
   "metadata": {},
   "outputs": [
    {
     "data": {
      "text/plain": [
       "1"
      ]
     },
     "execution_count": 120,
     "metadata": {},
     "output_type": "execute_result"
    }
   ],
   "source": [
    "list.__len__(xs)"
   ]
  },
  {
   "cell_type": "code",
   "execution_count": 126,
   "id": "c5e981ea",
   "metadata": {},
   "outputs": [
    {
     "data": {
      "text/plain": [
       "'0x7fffffffffffffff'"
      ]
     },
     "execution_count": 126,
     "metadata": {},
     "output_type": "execute_result"
    }
   ],
   "source": [
    "x = hex(sys.maxsize)\n",
    "x"
   ]
  },
  {
   "cell_type": "code",
   "execution_count": 130,
   "id": "96508577",
   "metadata": {},
   "outputs": [
    {
     "data": {
      "text/plain": [
       "8"
      ]
     },
     "execution_count": 130,
     "metadata": {},
     "output_type": "execute_result"
    }
   ],
   "source": [
    "(len(x) -2) // 2"
   ]
  },
  {
   "cell_type": "code",
   "execution_count": 131,
   "id": "9199b896",
   "metadata": {},
   "outputs": [],
   "source": [
    "import operator"
   ]
  },
  {
   "cell_type": "code",
   "execution_count": 133,
   "id": "43cf4dad",
   "metadata": {},
   "outputs": [],
   "source": [
    "v = operator.attrgetter('x.y')"
   ]
  },
  {
   "cell_type": "code",
   "execution_count": 135,
   "id": "9fd4430b",
   "metadata": {},
   "outputs": [],
   "source": [
    "class A:pass"
   ]
  },
  {
   "cell_type": "code",
   "execution_count": 136,
   "id": "3e75047e",
   "metadata": {},
   "outputs": [],
   "source": [
    "a = A()"
   ]
  },
  {
   "cell_type": "code",
   "execution_count": 137,
   "id": "d940627c",
   "metadata": {},
   "outputs": [],
   "source": [
    "a.x = A()"
   ]
  },
  {
   "cell_type": "code",
   "execution_count": 138,
   "id": "26456d75",
   "metadata": {},
   "outputs": [],
   "source": [
    "a.x.y = 234"
   ]
  },
  {
   "cell_type": "code",
   "execution_count": 139,
   "id": "f07ae78c",
   "metadata": {},
   "outputs": [
    {
     "data": {
      "text/plain": [
       "234"
      ]
     },
     "execution_count": 139,
     "metadata": {},
     "output_type": "execute_result"
    }
   ],
   "source": [
    "v(a)"
   ]
  },
  {
   "cell_type": "code",
   "execution_count": 140,
   "id": "efffabc6",
   "metadata": {},
   "outputs": [],
   "source": [
    "self = 1"
   ]
  },
  {
   "cell_type": "code",
   "execution_count": 141,
   "id": "e3b28ae7",
   "metadata": {},
   "outputs": [
    {
     "data": {
      "text/plain": [
       "1"
      ]
     },
     "execution_count": 141,
     "metadata": {},
     "output_type": "execute_result"
    }
   ],
   "source": [
    "self"
   ]
  },
  {
   "cell_type": "code",
   "execution_count": 142,
   "id": "67bcddf2",
   "metadata": {},
   "outputs": [
    {
     "data": {
      "text/plain": [
       "int"
      ]
     },
     "execution_count": 142,
     "metadata": {},
     "output_type": "execute_result"
    }
   ],
   "source": [
    "type(self)"
   ]
  },
  {
   "cell_type": "code",
   "execution_count": 143,
   "id": "7520b23a",
   "metadata": {},
   "outputs": [],
   "source": [
    "import pickle"
   ]
  },
  {
   "cell_type": "code",
   "execution_count": 144,
   "id": "91ed524b",
   "metadata": {},
   "outputs": [],
   "source": [
    "class A:\n",
    "    pass"
   ]
  },
  {
   "cell_type": "code",
   "execution_count": 145,
   "id": "0d0a3b90",
   "metadata": {},
   "outputs": [],
   "source": [
    "a = A()"
   ]
  },
  {
   "cell_type": "code",
   "execution_count": 146,
   "id": "eb6f8c1e",
   "metadata": {},
   "outputs": [],
   "source": [
    "a.v = 123"
   ]
  },
  {
   "cell_type": "code",
   "execution_count": 148,
   "id": "d2f0f901",
   "metadata": {},
   "outputs": [],
   "source": [
    "bs = pickle.dumps(a)"
   ]
  },
  {
   "cell_type": "code",
   "execution_count": 150,
   "id": "fd37486d",
   "metadata": {},
   "outputs": [],
   "source": [
    "o = pickle.loads(bs)"
   ]
  },
  {
   "cell_type": "code",
   "execution_count": 152,
   "id": "8d1fac80",
   "metadata": {},
   "outputs": [
    {
     "data": {
      "text/plain": [
       "{'v': 123}"
      ]
     },
     "execution_count": 152,
     "metadata": {},
     "output_type": "execute_result"
    }
   ],
   "source": [
    "vars(o)"
   ]
  },
  {
   "cell_type": "code",
   "execution_count": 153,
   "id": "55d5897f",
   "metadata": {},
   "outputs": [],
   "source": [
    "import inspect"
   ]
  },
  {
   "cell_type": "code",
   "execution_count": 154,
   "id": "50e9b152",
   "metadata": {},
   "outputs": [
    {
     "name": "stdout",
     "output_type": "stream",
     "text": [
      "Help on function getargspec in module inspect:\n",
      "\n",
      "getargspec(func)\n",
      "    Get the names and default values of a function's parameters.\n",
      "    \n",
      "    A tuple of four things is returned: (args, varargs, keywords, defaults).\n",
      "    'args' is a list of the argument names, including keyword-only argument names.\n",
      "    'varargs' and 'keywords' are the names of the * and ** parameters or None.\n",
      "    'defaults' is an n-tuple of the default values of the last n parameters.\n",
      "    \n",
      "    This function is deprecated, as it does not support annotations or\n",
      "    keyword-only parameters and will raise ValueError if either is present\n",
      "    on the supplied callable.\n",
      "    \n",
      "    For a more structured introspection API, use inspect.signature() instead.\n",
      "    \n",
      "    Alternatively, use getfullargspec() for an API with a similar namedtuple\n",
      "    based interface, but full support for annotations and keyword-only\n",
      "    parameters.\n",
      "    \n",
      "    Deprecated since Python 3.5, use `inspect.getfullargspec()`.\n",
      "\n"
     ]
    }
   ],
   "source": [
    "help(inspect.getargspec)"
   ]
  },
  {
   "cell_type": "code",
   "execution_count": 171,
   "id": "a96bb1f4",
   "metadata": {},
   "outputs": [],
   "source": [
    "class MixinA:\n",
    "    def f(self):\n",
    "        if hasattr(self, 'g'):\n",
    "            getattr(self, 'g')()\n",
    "    def g(self):\n",
    "        print(\"mixA::g\")\n",
    "        return super().g()"
   ]
  },
  {
   "cell_type": "code",
   "execution_count": 172,
   "id": "c1e065c4",
   "metadata": {},
   "outputs": [],
   "source": [
    "class A(MixinA):\n",
    "    def g(self):\n",
    "        print(\"A::g\")"
   ]
  },
  {
   "cell_type": "code",
   "execution_count": 173,
   "id": "8c70cc52",
   "metadata": {},
   "outputs": [],
   "source": [
    "a = A()"
   ]
  },
  {
   "cell_type": "code",
   "execution_count": 175,
   "id": "403a4edd",
   "metadata": {},
   "outputs": [
    {
     "name": "stdout",
     "output_type": "stream",
     "text": [
      "A::g\n"
     ]
    }
   ],
   "source": [
    "a.g()"
   ]
  },
  {
   "cell_type": "code",
   "execution_count": 176,
   "id": "636d2286",
   "metadata": {},
   "outputs": [],
   "source": [
    "def f():\n",
    "    print(f)"
   ]
  },
  {
   "cell_type": "code",
   "execution_count": 177,
   "id": "670b1650",
   "metadata": {},
   "outputs": [],
   "source": [
    "f.ok = 123"
   ]
  },
  {
   "cell_type": "code",
   "execution_count": 178,
   "id": "f8d7291f",
   "metadata": {},
   "outputs": [
    {
     "data": {
      "text/plain": [
       "{'ok': 123}"
      ]
     },
     "execution_count": 178,
     "metadata": {},
     "output_type": "execute_result"
    }
   ],
   "source": [
    "vars(f)"
   ]
  },
  {
   "cell_type": "code",
   "execution_count": 179,
   "id": "bc063b32",
   "metadata": {},
   "outputs": [
    {
     "data": {
      "text/plain": [
       "{'ok': 123}"
      ]
     },
     "execution_count": 179,
     "metadata": {},
     "output_type": "execute_result"
    }
   ],
   "source": [
    "getattr(f, '__dict__')"
   ]
  },
  {
   "cell_type": "code",
   "execution_count": 180,
   "id": "3462a753",
   "metadata": {},
   "outputs": [
    {
     "data": {
      "text/plain": [
       "{'ok': 123}"
      ]
     },
     "execution_count": 180,
     "metadata": {},
     "output_type": "execute_result"
    }
   ],
   "source": [
    "f.__dict__"
   ]
  },
  {
   "cell_type": "code",
   "execution_count": 181,
   "id": "8a5474d4",
   "metadata": {},
   "outputs": [],
   "source": [
    "from functools import wraps"
   ]
  },
  {
   "cell_type": "code",
   "execution_count": 182,
   "id": "2863f2db",
   "metadata": {},
   "outputs": [],
   "source": [
    "def g():\n",
    "    pass"
   ]
  },
  {
   "cell_type": "code",
   "execution_count": 183,
   "id": "7162a222",
   "metadata": {},
   "outputs": [],
   "source": [
    "ff = wraps(f)(g)"
   ]
  },
  {
   "cell_type": "code",
   "execution_count": 184,
   "id": "2cdcfaa4",
   "metadata": {},
   "outputs": [
    {
     "data": {
      "text/plain": [
       "{'ok': 123, '__wrapped__': <function __main__.f()>}"
      ]
     },
     "execution_count": 184,
     "metadata": {},
     "output_type": "execute_result"
    }
   ],
   "source": [
    "ff.__dict__"
   ]
  },
  {
   "cell_type": "code",
   "execution_count": 185,
   "id": "03ff9ebd",
   "metadata": {},
   "outputs": [
    {
     "data": {
      "text/plain": [
       "functools.partial"
      ]
     },
     "execution_count": 185,
     "metadata": {},
     "output_type": "execute_result"
    }
   ],
   "source": [
    "type(wraps(f))"
   ]
  },
  {
   "cell_type": "code",
   "execution_count": 186,
   "id": "63852f4d",
   "metadata": {},
   "outputs": [],
   "source": [
    "def f(a,b,c):\n",
    "    return a+b+c"
   ]
  },
  {
   "cell_type": "code",
   "execution_count": 187,
   "id": "93d2e37c",
   "metadata": {},
   "outputs": [],
   "source": [
    "import functools"
   ]
  },
  {
   "cell_type": "code",
   "execution_count": 195,
   "id": "75651022",
   "metadata": {},
   "outputs": [],
   "source": [
    "cc = lambda x: lambda y: lambda z: f(x,y,z)\n",
    "    "
   ]
  },
  {
   "cell_type": "code",
   "execution_count": 198,
   "id": "e98688a8",
   "metadata": {},
   "outputs": [
    {
     "data": {
      "text/plain": [
       "<function __main__.<lambda>.<locals>.<lambda>.<locals>.<lambda>(z)>"
      ]
     },
     "execution_count": 198,
     "metadata": {},
     "output_type": "execute_result"
    }
   ],
   "source": [
    "cc(1)(2)"
   ]
  },
  {
   "cell_type": "code",
   "execution_count": 199,
   "id": "b10d14bc",
   "metadata": {},
   "outputs": [],
   "source": [
    "def exe_once(func):\n",
    "    ncall = 1\n",
    "    @functools.wraps(func)\n",
    "    def wrapper(*args, **kwargs):\n",
    "        nonlocal ncall\n",
    "        if ncall:\n",
    "            ncall = 0\n",
    "            return func(*args, **kwargs)\n",
    "        raise ValueError\n",
    "    return wrapper\n",
    "        "
   ]
  },
  {
   "cell_type": "code",
   "execution_count": 202,
   "id": "5fd3fcfb",
   "metadata": {},
   "outputs": [],
   "source": [
    "@exe_once\n",
    "def f():\n",
    "    print(\"fff\")"
   ]
  },
  {
   "cell_type": "code",
   "execution_count": 204,
   "id": "406620ae",
   "metadata": {},
   "outputs": [
    {
     "ename": "ValueError",
     "evalue": "",
     "output_type": "error",
     "traceback": [
      "\u001b[0;31m---------------------------------------------------------------------------\u001b[0m",
      "\u001b[0;31mValueError\u001b[0m                                Traceback (most recent call last)",
      "Cell \u001b[0;32mIn[204], line 1\u001b[0m\n\u001b[0;32m----> 1\u001b[0m \u001b[43mf\u001b[49m\u001b[43m(\u001b[49m\u001b[43m)\u001b[49m\n",
      "Cell \u001b[0;32mIn[199], line 9\u001b[0m, in \u001b[0;36mexe_once.<locals>.wrapper\u001b[0;34m(*args, **kwargs)\u001b[0m\n\u001b[1;32m      7\u001b[0m     ncall \u001b[38;5;241m=\u001b[39m \u001b[38;5;241m0\u001b[39m\n\u001b[1;32m      8\u001b[0m     \u001b[38;5;28;01mreturn\u001b[39;00m func(\u001b[38;5;241m*\u001b[39margs, \u001b[38;5;241m*\u001b[39m\u001b[38;5;241m*\u001b[39mkwargs)\n\u001b[0;32m----> 9\u001b[0m \u001b[38;5;28;01mraise\u001b[39;00m \u001b[38;5;167;01mValueError\u001b[39;00m\n",
      "\u001b[0;31mValueError\u001b[0m: "
     ]
    }
   ],
   "source": [
    "f()"
   ]
  },
  {
   "cell_type": "code",
   "execution_count": 205,
   "id": "a55b388d",
   "metadata": {},
   "outputs": [],
   "source": [
    "def hello(cls, v):\n",
    "    print(\"ehllo,\", cls)"
   ]
  },
  {
   "cell_type": "code",
   "execution_count": 206,
   "id": "af3a76a8",
   "metadata": {},
   "outputs": [],
   "source": [
    "class A:\n",
    "    a = classmethod(hello)"
   ]
  },
  {
   "cell_type": "code",
   "execution_count": 211,
   "id": "bcdcd9ed",
   "metadata": {},
   "outputs": [
    {
     "data": {
      "text/plain": [
       "type"
      ]
     },
     "execution_count": 211,
     "metadata": {},
     "output_type": "execute_result"
    }
   ],
   "source": [
    "type(A)"
   ]
  },
  {
   "cell_type": "code",
   "execution_count": 209,
   "id": "ccf20097",
   "metadata": {},
   "outputs": [
    {
     "name": "stdout",
     "output_type": "stream",
     "text": [
      "ehllo, <class '__main__.A'>\n"
     ]
    }
   ],
   "source": [
    "x.a(23)"
   ]
  },
  {
   "cell_type": "code",
   "execution_count": 212,
   "id": "302fd59c",
   "metadata": {},
   "outputs": [],
   "source": [
    "class MetaA(type):\n",
    "    def __call__(self, *args, **kwargs):\n",
    "        raise TypeError"
   ]
  },
  {
   "cell_type": "code",
   "execution_count": 213,
   "id": "24de7ac8",
   "metadata": {},
   "outputs": [],
   "source": [
    "class A(metaclass=MetaA):\n",
    "    pass"
   ]
  },
  {
   "cell_type": "code",
   "execution_count": 217,
   "id": "79292250",
   "metadata": {},
   "outputs": [
    {
     "data": {
      "text/plain": [
       "['__abstractmethods__',\n",
       " '__annotations__',\n",
       " '__base__',\n",
       " '__bases__',\n",
       " '__basicsize__',\n",
       " '__call__',\n",
       " '__class__',\n",
       " '__delattr__',\n",
       " '__dict__',\n",
       " '__dictoffset__',\n",
       " '__dir__',\n",
       " '__doc__',\n",
       " '__eq__',\n",
       " '__flags__',\n",
       " '__format__',\n",
       " '__ge__',\n",
       " '__getattribute__',\n",
       " '__gt__',\n",
       " '__hash__',\n",
       " '__init__',\n",
       " '__init_subclass__',\n",
       " '__instancecheck__',\n",
       " '__itemsize__',\n",
       " '__le__',\n",
       " '__lt__',\n",
       " '__module__',\n",
       " '__mro__',\n",
       " '__name__',\n",
       " '__ne__',\n",
       " '__new__',\n",
       " '__or__',\n",
       " '__prepare__',\n",
       " '__qualname__',\n",
       " '__reduce__',\n",
       " '__reduce_ex__',\n",
       " '__repr__',\n",
       " '__ror__',\n",
       " '__setattr__',\n",
       " '__sizeof__',\n",
       " '__str__',\n",
       " '__subclasscheck__',\n",
       " '__subclasses__',\n",
       " '__subclasshook__',\n",
       " '__text_signature__',\n",
       " '__weakrefoffset__',\n",
       " 'mro']"
      ]
     },
     "execution_count": 217,
     "metadata": {},
     "output_type": "execute_result"
    }
   ],
   "source": [
    "dir(type)"
   ]
  },
  {
   "cell_type": "code",
   "execution_count": null,
   "id": "42b52f08",
   "metadata": {},
   "outputs": [],
   "source": []
  }
 ],
 "metadata": {
  "kernelspec": {
   "display_name": "Python 3 (ipykernel)",
   "language": "python",
   "name": "python3"
  },
  "language_info": {
   "codemirror_mode": {
    "name": "ipython",
    "version": 3
   },
   "file_extension": ".py",
   "mimetype": "text/x-python",
   "name": "python",
   "nbconvert_exporter": "python",
   "pygments_lexer": "ipython3",
   "version": "3.10.8"
  },
  "toc": {
   "nav_menu": {},
   "number_sections": true,
   "sideBar": true,
   "skip_h1_title": false,
   "title_cell": "Table of Contents",
   "title_sidebar": "Contents",
   "toc_cell": false,
   "toc_position": {},
   "toc_section_display": true,
   "toc_window_display": false
  }
 },
 "nbformat": 4,
 "nbformat_minor": 5
}
